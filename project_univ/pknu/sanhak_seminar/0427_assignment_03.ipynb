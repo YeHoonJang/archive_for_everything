{
 "cells": [
  {
   "cell_type": "markdown",
   "id": "5d7accd2",
   "metadata": {},
   "source": [
    "# 설비효과 추정"
   ]
  },
  {
   "cell_type": "markdown",
   "id": "29a2e8cd",
   "metadata": {},
   "source": [
    "## Data Load"
   ]
  },
  {
   "cell_type": "code",
   "execution_count": 19,
   "id": "fa521932",
   "metadata": {},
   "outputs": [],
   "source": [
    "import pandas as pd"
   ]
  },
  {
   "cell_type": "code",
   "execution_count": 20,
   "id": "7d20c97a",
   "metadata": {},
   "outputs": [
    {
     "data": {
      "text/html": [
       "<div>\n",
       "<style scoped>\n",
       "    .dataframe tbody tr th:only-of-type {\n",
       "        vertical-align: middle;\n",
       "    }\n",
       "\n",
       "    .dataframe tbody tr th {\n",
       "        vertical-align: top;\n",
       "    }\n",
       "\n",
       "    .dataframe thead th {\n",
       "        text-align: right;\n",
       "    }\n",
       "</style>\n",
       "<table border=\"1\" class=\"dataframe\">\n",
       "  <thead>\n",
       "    <tr style=\"text-align: right;\">\n",
       "      <th></th>\n",
       "      <th>Process 1</th>\n",
       "      <th>Process 2</th>\n",
       "      <th>Process 3</th>\n",
       "      <th>Process 4</th>\n",
       "      <th>Process 5</th>\n",
       "      <th>Process 6</th>\n",
       "      <th>Process 7</th>\n",
       "      <th>Process 8</th>\n",
       "      <th>Yield</th>\n",
       "    </tr>\n",
       "  </thead>\n",
       "  <tbody>\n",
       "    <tr>\n",
       "      <th>0</th>\n",
       "      <td>1</td>\n",
       "      <td>1</td>\n",
       "      <td>1</td>\n",
       "      <td>1</td>\n",
       "      <td>1</td>\n",
       "      <td>1</td>\n",
       "      <td>1</td>\n",
       "      <td>1</td>\n",
       "      <td>84.516824</td>\n",
       "    </tr>\n",
       "    <tr>\n",
       "      <th>1</th>\n",
       "      <td>1</td>\n",
       "      <td>1</td>\n",
       "      <td>1</td>\n",
       "      <td>1</td>\n",
       "      <td>1</td>\n",
       "      <td>1</td>\n",
       "      <td>1</td>\n",
       "      <td>2</td>\n",
       "      <td>86.059395</td>\n",
       "    </tr>\n",
       "    <tr>\n",
       "      <th>2</th>\n",
       "      <td>1</td>\n",
       "      <td>1</td>\n",
       "      <td>1</td>\n",
       "      <td>1</td>\n",
       "      <td>1</td>\n",
       "      <td>1</td>\n",
       "      <td>1</td>\n",
       "      <td>3</td>\n",
       "      <td>86.620403</td>\n",
       "    </tr>\n",
       "    <tr>\n",
       "      <th>3</th>\n",
       "      <td>1</td>\n",
       "      <td>1</td>\n",
       "      <td>1</td>\n",
       "      <td>1</td>\n",
       "      <td>1</td>\n",
       "      <td>1</td>\n",
       "      <td>2</td>\n",
       "      <td>1</td>\n",
       "      <td>84.342478</td>\n",
       "    </tr>\n",
       "    <tr>\n",
       "      <th>4</th>\n",
       "      <td>1</td>\n",
       "      <td>1</td>\n",
       "      <td>1</td>\n",
       "      <td>1</td>\n",
       "      <td>1</td>\n",
       "      <td>1</td>\n",
       "      <td>2</td>\n",
       "      <td>2</td>\n",
       "      <td>82.356679</td>\n",
       "    </tr>\n",
       "    <tr>\n",
       "      <th>...</th>\n",
       "      <td>...</td>\n",
       "      <td>...</td>\n",
       "      <td>...</td>\n",
       "      <td>...</td>\n",
       "      <td>...</td>\n",
       "      <td>...</td>\n",
       "      <td>...</td>\n",
       "      <td>...</td>\n",
       "      <td>...</td>\n",
       "    </tr>\n",
       "    <tr>\n",
       "      <th>6556</th>\n",
       "      <td>3</td>\n",
       "      <td>3</td>\n",
       "      <td>3</td>\n",
       "      <td>3</td>\n",
       "      <td>3</td>\n",
       "      <td>3</td>\n",
       "      <td>2</td>\n",
       "      <td>2</td>\n",
       "      <td>85.256023</td>\n",
       "    </tr>\n",
       "    <tr>\n",
       "      <th>6557</th>\n",
       "      <td>3</td>\n",
       "      <td>3</td>\n",
       "      <td>3</td>\n",
       "      <td>3</td>\n",
       "      <td>3</td>\n",
       "      <td>3</td>\n",
       "      <td>2</td>\n",
       "      <td>3</td>\n",
       "      <td>73.936457</td>\n",
       "    </tr>\n",
       "    <tr>\n",
       "      <th>6558</th>\n",
       "      <td>3</td>\n",
       "      <td>3</td>\n",
       "      <td>3</td>\n",
       "      <td>3</td>\n",
       "      <td>3</td>\n",
       "      <td>3</td>\n",
       "      <td>3</td>\n",
       "      <td>1</td>\n",
       "      <td>85.864868</td>\n",
       "    </tr>\n",
       "    <tr>\n",
       "      <th>6559</th>\n",
       "      <td>3</td>\n",
       "      <td>3</td>\n",
       "      <td>3</td>\n",
       "      <td>3</td>\n",
       "      <td>3</td>\n",
       "      <td>3</td>\n",
       "      <td>3</td>\n",
       "      <td>2</td>\n",
       "      <td>84.655892</td>\n",
       "    </tr>\n",
       "    <tr>\n",
       "      <th>6560</th>\n",
       "      <td>3</td>\n",
       "      <td>3</td>\n",
       "      <td>3</td>\n",
       "      <td>3</td>\n",
       "      <td>3</td>\n",
       "      <td>3</td>\n",
       "      <td>3</td>\n",
       "      <td>3</td>\n",
       "      <td>77.793253</td>\n",
       "    </tr>\n",
       "  </tbody>\n",
       "</table>\n",
       "<p>6561 rows × 9 columns</p>\n",
       "</div>"
      ],
      "text/plain": [
       "      Process 1  Process 2  Process 3  Process 4  Process 5  Process 6  \\\n",
       "0             1          1          1          1          1          1   \n",
       "1             1          1          1          1          1          1   \n",
       "2             1          1          1          1          1          1   \n",
       "3             1          1          1          1          1          1   \n",
       "4             1          1          1          1          1          1   \n",
       "...         ...        ...        ...        ...        ...        ...   \n",
       "6556          3          3          3          3          3          3   \n",
       "6557          3          3          3          3          3          3   \n",
       "6558          3          3          3          3          3          3   \n",
       "6559          3          3          3          3          3          3   \n",
       "6560          3          3          3          3          3          3   \n",
       "\n",
       "      Process 7  Process 8      Yield  \n",
       "0             1          1  84.516824  \n",
       "1             1          2  86.059395  \n",
       "2             1          3  86.620403  \n",
       "3             2          1  84.342478  \n",
       "4             2          2  82.356679  \n",
       "...         ...        ...        ...  \n",
       "6556          2          2  85.256023  \n",
       "6557          2          3  73.936457  \n",
       "6558          3          1  85.864868  \n",
       "6559          3          2  84.655892  \n",
       "6560          3          3  77.793253  \n",
       "\n",
       "[6561 rows x 9 columns]"
      ]
     },
     "execution_count": 20,
     "metadata": {},
     "output_type": "execute_result"
    }
   ],
   "source": [
    "df = pd.read_excel(\"./data/wafer/실습 데이터 (path data).xlsx\", sheet_name=\"population\")\n",
    "sample = pd.read_excel(\"./data/wafer/실습 데이터 (path data).xlsx\", sheet_name=\"sample\")\n",
    "df"
   ]
  },
  {
   "cell_type": "markdown",
   "id": "019527f6",
   "metadata": {},
   "source": [
    "## Data Check"
   ]
  },
  {
   "cell_type": "code",
   "execution_count": 23,
   "id": "81b0325b",
   "metadata": {},
   "outputs": [
    {
     "data": {
      "text/html": [
       "<div>\n",
       "<style scoped>\n",
       "    .dataframe tbody tr th:only-of-type {\n",
       "        vertical-align: middle;\n",
       "    }\n",
       "\n",
       "    .dataframe tbody tr th {\n",
       "        vertical-align: top;\n",
       "    }\n",
       "\n",
       "    .dataframe thead th {\n",
       "        text-align: right;\n",
       "    }\n",
       "</style>\n",
       "<table border=\"1\" class=\"dataframe\">\n",
       "  <thead>\n",
       "    <tr style=\"text-align: right;\">\n",
       "      <th></th>\n",
       "      <th>Process 1</th>\n",
       "      <th>Process 2</th>\n",
       "      <th>Process 3</th>\n",
       "      <th>Process 4</th>\n",
       "      <th>Process 5</th>\n",
       "      <th>Process 6</th>\n",
       "      <th>Process 7</th>\n",
       "      <th>Process 8</th>\n",
       "    </tr>\n",
       "  </thead>\n",
       "  <tbody>\n",
       "    <tr>\n",
       "      <th>0</th>\n",
       "      <td>1</td>\n",
       "      <td>1</td>\n",
       "      <td>1</td>\n",
       "      <td>1</td>\n",
       "      <td>1</td>\n",
       "      <td>1</td>\n",
       "      <td>1</td>\n",
       "      <td>1</td>\n",
       "    </tr>\n",
       "    <tr>\n",
       "      <th>1</th>\n",
       "      <td>2</td>\n",
       "      <td>2</td>\n",
       "      <td>2</td>\n",
       "      <td>2</td>\n",
       "      <td>2</td>\n",
       "      <td>2</td>\n",
       "      <td>2</td>\n",
       "      <td>2</td>\n",
       "    </tr>\n",
       "    <tr>\n",
       "      <th>2</th>\n",
       "      <td>3</td>\n",
       "      <td>3</td>\n",
       "      <td>3</td>\n",
       "      <td>3</td>\n",
       "      <td>3</td>\n",
       "      <td>3</td>\n",
       "      <td>3</td>\n",
       "      <td>3</td>\n",
       "    </tr>\n",
       "  </tbody>\n",
       "</table>\n",
       "</div>"
      ],
      "text/plain": [
       "   Process 1  Process 2  Process 3  Process 4  Process 5  Process 6  \\\n",
       "0          1          1          1          1          1          1   \n",
       "1          2          2          2          2          2          2   \n",
       "2          3          3          3          3          3          3   \n",
       "\n",
       "   Process 7  Process 8  \n",
       "0          1          1  \n",
       "1          2          2  \n",
       "2          3          3  "
      ]
     },
     "execution_count": 23,
     "metadata": {},
     "output_type": "execute_result"
    }
   ],
   "source": [
    "df.drop(\"Yield\", axis=1).apply(pd.Series.unique)"
   ]
  },
  {
   "cell_type": "code",
   "execution_count": 24,
   "id": "55fc3d95",
   "metadata": {},
   "outputs": [
    {
     "data": {
      "text/plain": [
       "6561"
      ]
     },
     "execution_count": 24,
     "metadata": {},
     "output_type": "execute_result"
    }
   ],
   "source": [
    "3**8"
   ]
  },
  {
   "cell_type": "markdown",
   "id": "b0011703",
   "metadata": {},
   "source": [
    "-----------------"
   ]
  },
  {
   "cell_type": "markdown",
   "id": "fe634aa1",
   "metadata": {},
   "source": [
    "## 주효과 Main effect\n",
    "* Process 1 ~ 8의 각 머신 1 ~ 3 의 주효과"
   ]
  },
  {
   "cell_type": "code",
   "execution_count": 84,
   "id": "a6eb98a9",
   "metadata": {},
   "outputs": [
    {
     "data": {
      "text/plain": [
       "['Process 1',\n",
       " 'Process 2',\n",
       " 'Process 3',\n",
       " 'Process 4',\n",
       " 'Process 5',\n",
       " 'Process 6',\n",
       " 'Process 7',\n",
       " 'Process 8']"
      ]
     },
     "execution_count": 84,
     "metadata": {},
     "output_type": "execute_result"
    }
   ],
   "source": [
    "process_list = list(df.columns[:-1])\n",
    "process_list"
   ]
  },
  {
   "cell_type": "code",
   "execution_count": 105,
   "id": "b28d21b9",
   "metadata": {},
   "outputs": [],
   "source": [
    "# 각 process의 머신 별 평균 수율\n",
    "process_dict = {}\n",
    "total_mean = pd.DataFrame()\n",
    "for process in process_list:\n",
    "    mean_df = df.groupby(process)[\"Yield\"].mean()\n",
    "    mean_df = mean_df.reset_index()\n",
    "    process_dict[process] = mean_df"
   ]
  },
  {
   "cell_type": "code",
   "execution_count": 106,
   "id": "4083e79b",
   "metadata": {},
   "outputs": [
    {
     "data": {
      "text/html": [
       "<div>\n",
       "<style scoped>\n",
       "    .dataframe tbody tr th:only-of-type {\n",
       "        vertical-align: middle;\n",
       "    }\n",
       "\n",
       "    .dataframe tbody tr th {\n",
       "        vertical-align: top;\n",
       "    }\n",
       "\n",
       "    .dataframe thead th {\n",
       "        text-align: right;\n",
       "    }\n",
       "</style>\n",
       "<table border=\"1\" class=\"dataframe\">\n",
       "  <thead>\n",
       "    <tr style=\"text-align: right;\">\n",
       "      <th></th>\n",
       "      <th>Process 1</th>\n",
       "      <th>Yield</th>\n",
       "    </tr>\n",
       "  </thead>\n",
       "  <tbody>\n",
       "    <tr>\n",
       "      <th>0</th>\n",
       "      <td>1</td>\n",
       "      <td>82.653723</td>\n",
       "    </tr>\n",
       "    <tr>\n",
       "      <th>1</th>\n",
       "      <td>2</td>\n",
       "      <td>82.425581</td>\n",
       "    </tr>\n",
       "    <tr>\n",
       "      <th>2</th>\n",
       "      <td>3</td>\n",
       "      <td>79.994421</td>\n",
       "    </tr>\n",
       "  </tbody>\n",
       "</table>\n",
       "</div>"
      ],
      "text/plain": [
       "   Process 1      Yield\n",
       "0          1  82.653723\n",
       "1          2  82.425581\n",
       "2          3  79.994421"
      ]
     },
     "execution_count": 106,
     "metadata": {},
     "output_type": "execute_result"
    }
   ],
   "source": [
    "process_dict[\"Process 1\"]"
   ]
  },
  {
   "cell_type": "markdown",
   "id": "b901a40e",
   "metadata": {},
   "source": [
    "### 각 머신 별 주효과 \n",
    "* 전체 평균 - 프로세스의 머신 별 평균  "
   ]
  },
  {
   "cell_type": "code",
   "execution_count": 107,
   "id": "9f1a07ab",
   "metadata": {},
   "outputs": [],
   "source": [
    "# 전체 수율 평균\n",
    "total_mean = df[\"Yield\"].mean()\n",
    "\n",
    "\n",
    "# 각 process의 머신 별 주효과\n",
    "machine_main_effect = {}\n",
    "for process in process_list:\n",
    "    process_dict[process][\"Main Effect\"] = 0    # Main Effect 컬럼 생성 및 초기화\n",
    "    for i in range(3):\n",
    "        machine_me = process_dict[process].iloc[i, 1] - total_mean\n",
    "        process_dict[process].iloc[i, -1] = machine_me"
   ]
  },
  {
   "cell_type": "code",
   "execution_count": 108,
   "id": "bbb9c94f",
   "metadata": {},
   "outputs": [
    {
     "data": {
      "text/html": [
       "<div>\n",
       "<style scoped>\n",
       "    .dataframe tbody tr th:only-of-type {\n",
       "        vertical-align: middle;\n",
       "    }\n",
       "\n",
       "    .dataframe tbody tr th {\n",
       "        vertical-align: top;\n",
       "    }\n",
       "\n",
       "    .dataframe thead th {\n",
       "        text-align: right;\n",
       "    }\n",
       "</style>\n",
       "<table border=\"1\" class=\"dataframe\">\n",
       "  <thead>\n",
       "    <tr style=\"text-align: right;\">\n",
       "      <th></th>\n",
       "      <th>Process 1</th>\n",
       "      <th>Yield</th>\n",
       "      <th>Main Effect</th>\n",
       "    </tr>\n",
       "  </thead>\n",
       "  <tbody>\n",
       "    <tr>\n",
       "      <th>0</th>\n",
       "      <td>1</td>\n",
       "      <td>82.653723</td>\n",
       "      <td>0.962481</td>\n",
       "    </tr>\n",
       "    <tr>\n",
       "      <th>1</th>\n",
       "      <td>2</td>\n",
       "      <td>82.425581</td>\n",
       "      <td>0.734339</td>\n",
       "    </tr>\n",
       "    <tr>\n",
       "      <th>2</th>\n",
       "      <td>3</td>\n",
       "      <td>79.994421</td>\n",
       "      <td>-1.696821</td>\n",
       "    </tr>\n",
       "  </tbody>\n",
       "</table>\n",
       "</div>"
      ],
      "text/plain": [
       "   Process 1      Yield  Main Effect\n",
       "0          1  82.653723     0.962481\n",
       "1          2  82.425581     0.734339\n",
       "2          3  79.994421    -1.696821"
      ]
     },
     "execution_count": 108,
     "metadata": {},
     "output_type": "execute_result"
    }
   ],
   "source": [
    "process_dict[\"Process 1\"]"
   ]
  },
  {
   "cell_type": "markdown",
   "id": "e444aa27",
   "metadata": {},
   "source": [
    "## 교호작용 효과 Interaction Effect"
   ]
  },
  {
   "cell_type": "code",
   "execution_count": 114,
   "id": "1b4cebab",
   "metadata": {},
   "outputs": [
    {
     "name": "stdout",
     "output_type": "stream",
     "text": [
      "1 2\n",
      "1 3\n",
      "1 4\n",
      "1 5\n",
      "1 6\n",
      "1 7\n",
      "1 8\n",
      "2 3\n",
      "2 4\n",
      "2 5\n",
      "2 6\n",
      "2 7\n",
      "2 8\n",
      "3 4\n",
      "3 5\n",
      "3 6\n",
      "3 7\n",
      "3 8\n",
      "4 5\n",
      "4 6\n",
      "4 7\n",
      "4 8\n",
      "5 6\n",
      "5 7\n",
      "5 8\n",
      "6 7\n",
      "6 8\n",
      "7 8\n"
     ]
    }
   ],
   "source": [
    "# Path 는 process를 역행하지 않기 때문에 조합 형태로 교호작용 산출\n"
   ]
  },
  {
   "cell_type": "code",
   "execution_count": null,
   "id": "c18c2527",
   "metadata": {},
   "outputs": [],
   "source": []
  }
 ],
 "metadata": {
  "kernelspec": {
   "display_name": "Python 3 (ipykernel)",
   "language": "python",
   "name": "python3"
  },
  "language_info": {
   "codemirror_mode": {
    "name": "ipython",
    "version": 3
   },
   "file_extension": ".py",
   "mimetype": "text/x-python",
   "name": "python",
   "nbconvert_exporter": "python",
   "pygments_lexer": "ipython3",
   "version": "3.9.13"
  }
 },
 "nbformat": 4,
 "nbformat_minor": 5
}
