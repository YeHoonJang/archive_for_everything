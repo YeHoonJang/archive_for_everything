{
 "cells": [
  {
   "cell_type": "code",
   "execution_count": 1,
   "metadata": {},
   "outputs": [],
   "source": [
    "import warnings\n",
    "warnings.filterwarnings('ignore')"
   ]
  },
  {
   "cell_type": "code",
   "execution_count": 2,
   "metadata": {},
   "outputs": [],
   "source": [
    "import pandas as pd\n",
    "import numpy as np\n",
    "\n",
    "from sklearn.model_selection import train_test_split, GridSearchCV\n",
    "from sklearn.metrics import accuracy_score\n",
    "\n",
    "from sklearn.ensemble import GradientBoostingClassifier\n",
    "from sklearn.svm import LinearSVC, SVC"
   ]
  },
  {
   "cell_type": "markdown",
   "metadata": {},
   "source": [
    "# Load Data"
   ]
  },
  {
   "cell_type": "code",
   "execution_count": 3,
   "metadata": {},
   "outputs": [
    {
     "data": {
      "text/html": [
       "<div>\n",
       "<style scoped>\n",
       "    .dataframe tbody tr th:only-of-type {\n",
       "        vertical-align: middle;\n",
       "    }\n",
       "\n",
       "    .dataframe tbody tr th {\n",
       "        vertical-align: top;\n",
       "    }\n",
       "\n",
       "    .dataframe thead th {\n",
       "        text-align: right;\n",
       "    }\n",
       "</style>\n",
       "<table border=\"1\" class=\"dataframe\">\n",
       "  <thead>\n",
       "    <tr style=\"text-align: right;\">\n",
       "      <th></th>\n",
       "      <th>var1</th>\n",
       "      <th>var2</th>\n",
       "      <th>var3</th>\n",
       "      <th>var4</th>\n",
       "      <th>var5</th>\n",
       "      <th>var6</th>\n",
       "      <th>var7</th>\n",
       "      <th>var8</th>\n",
       "      <th>var9</th>\n",
       "      <th>var10</th>\n",
       "      <th>...</th>\n",
       "      <th>var25</th>\n",
       "      <th>var26</th>\n",
       "      <th>var27</th>\n",
       "      <th>var28</th>\n",
       "      <th>var29</th>\n",
       "      <th>var30</th>\n",
       "      <th>var31</th>\n",
       "      <th>var32</th>\n",
       "      <th>var33</th>\n",
       "      <th>class</th>\n",
       "    </tr>\n",
       "  </thead>\n",
       "  <tbody>\n",
       "    <tr>\n",
       "      <th>0</th>\n",
       "      <td>1</td>\n",
       "      <td>0.99539</td>\n",
       "      <td>-0.05889</td>\n",
       "      <td>0.85243</td>\n",
       "      <td>0.02306</td>\n",
       "      <td>0.83398</td>\n",
       "      <td>-0.37708</td>\n",
       "      <td>1.00000</td>\n",
       "      <td>0.03760</td>\n",
       "      <td>0.85243</td>\n",
       "      <td>...</td>\n",
       "      <td>-0.51171</td>\n",
       "      <td>0.41078</td>\n",
       "      <td>-0.46168</td>\n",
       "      <td>0.21266</td>\n",
       "      <td>-0.34090</td>\n",
       "      <td>0.42267</td>\n",
       "      <td>-0.54487</td>\n",
       "      <td>0.18641</td>\n",
       "      <td>-0.45300</td>\n",
       "      <td>g</td>\n",
       "    </tr>\n",
       "    <tr>\n",
       "      <th>1</th>\n",
       "      <td>1</td>\n",
       "      <td>1.00000</td>\n",
       "      <td>-0.18829</td>\n",
       "      <td>0.93035</td>\n",
       "      <td>-0.36156</td>\n",
       "      <td>-0.10868</td>\n",
       "      <td>-0.93597</td>\n",
       "      <td>1.00000</td>\n",
       "      <td>-0.04549</td>\n",
       "      <td>0.50874</td>\n",
       "      <td>...</td>\n",
       "      <td>-0.26569</td>\n",
       "      <td>-0.20468</td>\n",
       "      <td>-0.18401</td>\n",
       "      <td>-0.19040</td>\n",
       "      <td>-0.11593</td>\n",
       "      <td>-0.16626</td>\n",
       "      <td>-0.06288</td>\n",
       "      <td>-0.13738</td>\n",
       "      <td>-0.02447</td>\n",
       "      <td>b</td>\n",
       "    </tr>\n",
       "    <tr>\n",
       "      <th>2</th>\n",
       "      <td>1</td>\n",
       "      <td>1.00000</td>\n",
       "      <td>-0.03365</td>\n",
       "      <td>1.00000</td>\n",
       "      <td>0.00485</td>\n",
       "      <td>1.00000</td>\n",
       "      <td>-0.12062</td>\n",
       "      <td>0.88965</td>\n",
       "      <td>0.01198</td>\n",
       "      <td>0.73082</td>\n",
       "      <td>...</td>\n",
       "      <td>-0.40220</td>\n",
       "      <td>0.58984</td>\n",
       "      <td>-0.22145</td>\n",
       "      <td>0.43100</td>\n",
       "      <td>-0.17365</td>\n",
       "      <td>0.60436</td>\n",
       "      <td>-0.24180</td>\n",
       "      <td>0.56045</td>\n",
       "      <td>-0.38238</td>\n",
       "      <td>g</td>\n",
       "    </tr>\n",
       "    <tr>\n",
       "      <th>3</th>\n",
       "      <td>1</td>\n",
       "      <td>1.00000</td>\n",
       "      <td>-0.45161</td>\n",
       "      <td>1.00000</td>\n",
       "      <td>1.00000</td>\n",
       "      <td>0.71216</td>\n",
       "      <td>-1.00000</td>\n",
       "      <td>0.00000</td>\n",
       "      <td>0.00000</td>\n",
       "      <td>0.00000</td>\n",
       "      <td>...</td>\n",
       "      <td>0.90695</td>\n",
       "      <td>0.51613</td>\n",
       "      <td>1.00000</td>\n",
       "      <td>1.00000</td>\n",
       "      <td>-0.20099</td>\n",
       "      <td>0.25682</td>\n",
       "      <td>1.00000</td>\n",
       "      <td>-0.32382</td>\n",
       "      <td>1.00000</td>\n",
       "      <td>b</td>\n",
       "    </tr>\n",
       "    <tr>\n",
       "      <th>4</th>\n",
       "      <td>1</td>\n",
       "      <td>1.00000</td>\n",
       "      <td>-0.02401</td>\n",
       "      <td>0.94140</td>\n",
       "      <td>0.06531</td>\n",
       "      <td>0.92106</td>\n",
       "      <td>-0.23255</td>\n",
       "      <td>0.77152</td>\n",
       "      <td>-0.16399</td>\n",
       "      <td>0.52798</td>\n",
       "      <td>...</td>\n",
       "      <td>-0.65158</td>\n",
       "      <td>0.13290</td>\n",
       "      <td>-0.53206</td>\n",
       "      <td>0.02431</td>\n",
       "      <td>-0.62197</td>\n",
       "      <td>-0.05707</td>\n",
       "      <td>-0.59573</td>\n",
       "      <td>-0.04608</td>\n",
       "      <td>-0.65697</td>\n",
       "      <td>g</td>\n",
       "    </tr>\n",
       "  </tbody>\n",
       "</table>\n",
       "<p>5 rows × 34 columns</p>\n",
       "</div>"
      ],
      "text/plain": [
       "   var1     var2     var3     var4     var5     var6     var7     var8  \\\n",
       "0     1  0.99539 -0.05889  0.85243  0.02306  0.83398 -0.37708  1.00000   \n",
       "1     1  1.00000 -0.18829  0.93035 -0.36156 -0.10868 -0.93597  1.00000   \n",
       "2     1  1.00000 -0.03365  1.00000  0.00485  1.00000 -0.12062  0.88965   \n",
       "3     1  1.00000 -0.45161  1.00000  1.00000  0.71216 -1.00000  0.00000   \n",
       "4     1  1.00000 -0.02401  0.94140  0.06531  0.92106 -0.23255  0.77152   \n",
       "\n",
       "      var9    var10  ...    var25    var26    var27    var28    var29  \\\n",
       "0  0.03760  0.85243  ... -0.51171  0.41078 -0.46168  0.21266 -0.34090   \n",
       "1 -0.04549  0.50874  ... -0.26569 -0.20468 -0.18401 -0.19040 -0.11593   \n",
       "2  0.01198  0.73082  ... -0.40220  0.58984 -0.22145  0.43100 -0.17365   \n",
       "3  0.00000  0.00000  ...  0.90695  0.51613  1.00000  1.00000 -0.20099   \n",
       "4 -0.16399  0.52798  ... -0.65158  0.13290 -0.53206  0.02431 -0.62197   \n",
       "\n",
       "     var30    var31    var32    var33  class  \n",
       "0  0.42267 -0.54487  0.18641 -0.45300      g  \n",
       "1 -0.16626 -0.06288 -0.13738 -0.02447      b  \n",
       "2  0.60436 -0.24180  0.56045 -0.38238      g  \n",
       "3  0.25682  1.00000 -0.32382  1.00000      b  \n",
       "4 -0.05707 -0.59573 -0.04608 -0.65697      g  \n",
       "\n",
       "[5 rows x 34 columns]"
      ]
     },
     "execution_count": 3,
     "metadata": {},
     "output_type": "execute_result"
    }
   ],
   "source": [
    "df = pd.read_csv(\"data/ionosphere.csv\")\n",
    "df.head()"
   ]
  },
  {
   "cell_type": "code",
   "execution_count": 4,
   "metadata": {},
   "outputs": [
    {
     "name": "stdout",
     "output_type": "stream",
     "text": [
      "<class 'pandas.core.frame.DataFrame'>\n",
      "RangeIndex: 351 entries, 0 to 350\n",
      "Data columns (total 34 columns):\n",
      " #   Column  Non-Null Count  Dtype  \n",
      "---  ------  --------------  -----  \n",
      " 0   var1    351 non-null    int64  \n",
      " 1   var2    351 non-null    float64\n",
      " 2   var3    351 non-null    float64\n",
      " 3   var4    351 non-null    float64\n",
      " 4   var5    351 non-null    float64\n",
      " 5   var6    351 non-null    float64\n",
      " 6   var7    351 non-null    float64\n",
      " 7   var8    351 non-null    float64\n",
      " 8   var9    351 non-null    float64\n",
      " 9   var10   351 non-null    float64\n",
      " 10  var11   351 non-null    float64\n",
      " 11  var12   351 non-null    float64\n",
      " 12  var13   351 non-null    float64\n",
      " 13  var14   351 non-null    float64\n",
      " 14  var15   351 non-null    float64\n",
      " 15  var16   351 non-null    float64\n",
      " 16  var17   351 non-null    float64\n",
      " 17  var18   351 non-null    float64\n",
      " 18  var19   351 non-null    float64\n",
      " 19  var20   351 non-null    float64\n",
      " 20  var21   351 non-null    float64\n",
      " 21  var22   351 non-null    float64\n",
      " 22  var23   351 non-null    float64\n",
      " 23  var24   351 non-null    float64\n",
      " 24  var25   351 non-null    float64\n",
      " 25  var26   351 non-null    float64\n",
      " 26  var27   351 non-null    float64\n",
      " 27  var28   351 non-null    float64\n",
      " 28  var29   351 non-null    float64\n",
      " 29  var30   351 non-null    float64\n",
      " 30  var31   351 non-null    float64\n",
      " 31  var32   351 non-null    float64\n",
      " 32  var33   351 non-null    float64\n",
      " 33  class   351 non-null    object \n",
      "dtypes: float64(32), int64(1), object(1)\n",
      "memory usage: 93.4+ KB\n"
     ]
    }
   ],
   "source": [
    "df.info()"
   ]
  },
  {
   "cell_type": "code",
   "execution_count": 5,
   "metadata": {},
   "outputs": [
    {
     "data": {
      "text/html": [
       "<div>\n",
       "<style scoped>\n",
       "    .dataframe tbody tr th:only-of-type {\n",
       "        vertical-align: middle;\n",
       "    }\n",
       "\n",
       "    .dataframe tbody tr th {\n",
       "        vertical-align: top;\n",
       "    }\n",
       "\n",
       "    .dataframe thead th {\n",
       "        text-align: right;\n",
       "    }\n",
       "</style>\n",
       "<table border=\"1\" class=\"dataframe\">\n",
       "  <thead>\n",
       "    <tr style=\"text-align: right;\">\n",
       "      <th></th>\n",
       "      <th>var1</th>\n",
       "      <th>var2</th>\n",
       "      <th>var3</th>\n",
       "      <th>var4</th>\n",
       "      <th>var5</th>\n",
       "      <th>var6</th>\n",
       "      <th>var7</th>\n",
       "      <th>var8</th>\n",
       "      <th>var9</th>\n",
       "      <th>var10</th>\n",
       "      <th>...</th>\n",
       "      <th>var25</th>\n",
       "      <th>var26</th>\n",
       "      <th>var27</th>\n",
       "      <th>var28</th>\n",
       "      <th>var29</th>\n",
       "      <th>var30</th>\n",
       "      <th>var31</th>\n",
       "      <th>var32</th>\n",
       "      <th>var33</th>\n",
       "      <th>class</th>\n",
       "    </tr>\n",
       "  </thead>\n",
       "  <tbody>\n",
       "    <tr>\n",
       "      <th>0</th>\n",
       "      <td>1</td>\n",
       "      <td>0.99539</td>\n",
       "      <td>-0.05889</td>\n",
       "      <td>0.85243</td>\n",
       "      <td>0.02306</td>\n",
       "      <td>0.83398</td>\n",
       "      <td>-0.37708</td>\n",
       "      <td>1.00000</td>\n",
       "      <td>0.03760</td>\n",
       "      <td>0.85243</td>\n",
       "      <td>...</td>\n",
       "      <td>-0.51171</td>\n",
       "      <td>0.41078</td>\n",
       "      <td>-0.46168</td>\n",
       "      <td>0.21266</td>\n",
       "      <td>-0.34090</td>\n",
       "      <td>0.42267</td>\n",
       "      <td>-0.54487</td>\n",
       "      <td>0.18641</td>\n",
       "      <td>-0.45300</td>\n",
       "      <td>1</td>\n",
       "    </tr>\n",
       "    <tr>\n",
       "      <th>1</th>\n",
       "      <td>1</td>\n",
       "      <td>1.00000</td>\n",
       "      <td>-0.18829</td>\n",
       "      <td>0.93035</td>\n",
       "      <td>-0.36156</td>\n",
       "      <td>-0.10868</td>\n",
       "      <td>-0.93597</td>\n",
       "      <td>1.00000</td>\n",
       "      <td>-0.04549</td>\n",
       "      <td>0.50874</td>\n",
       "      <td>...</td>\n",
       "      <td>-0.26569</td>\n",
       "      <td>-0.20468</td>\n",
       "      <td>-0.18401</td>\n",
       "      <td>-0.19040</td>\n",
       "      <td>-0.11593</td>\n",
       "      <td>-0.16626</td>\n",
       "      <td>-0.06288</td>\n",
       "      <td>-0.13738</td>\n",
       "      <td>-0.02447</td>\n",
       "      <td>0</td>\n",
       "    </tr>\n",
       "    <tr>\n",
       "      <th>2</th>\n",
       "      <td>1</td>\n",
       "      <td>1.00000</td>\n",
       "      <td>-0.03365</td>\n",
       "      <td>1.00000</td>\n",
       "      <td>0.00485</td>\n",
       "      <td>1.00000</td>\n",
       "      <td>-0.12062</td>\n",
       "      <td>0.88965</td>\n",
       "      <td>0.01198</td>\n",
       "      <td>0.73082</td>\n",
       "      <td>...</td>\n",
       "      <td>-0.40220</td>\n",
       "      <td>0.58984</td>\n",
       "      <td>-0.22145</td>\n",
       "      <td>0.43100</td>\n",
       "      <td>-0.17365</td>\n",
       "      <td>0.60436</td>\n",
       "      <td>-0.24180</td>\n",
       "      <td>0.56045</td>\n",
       "      <td>-0.38238</td>\n",
       "      <td>1</td>\n",
       "    </tr>\n",
       "    <tr>\n",
       "      <th>3</th>\n",
       "      <td>1</td>\n",
       "      <td>1.00000</td>\n",
       "      <td>-0.45161</td>\n",
       "      <td>1.00000</td>\n",
       "      <td>1.00000</td>\n",
       "      <td>0.71216</td>\n",
       "      <td>-1.00000</td>\n",
       "      <td>0.00000</td>\n",
       "      <td>0.00000</td>\n",
       "      <td>0.00000</td>\n",
       "      <td>...</td>\n",
       "      <td>0.90695</td>\n",
       "      <td>0.51613</td>\n",
       "      <td>1.00000</td>\n",
       "      <td>1.00000</td>\n",
       "      <td>-0.20099</td>\n",
       "      <td>0.25682</td>\n",
       "      <td>1.00000</td>\n",
       "      <td>-0.32382</td>\n",
       "      <td>1.00000</td>\n",
       "      <td>0</td>\n",
       "    </tr>\n",
       "    <tr>\n",
       "      <th>4</th>\n",
       "      <td>1</td>\n",
       "      <td>1.00000</td>\n",
       "      <td>-0.02401</td>\n",
       "      <td>0.94140</td>\n",
       "      <td>0.06531</td>\n",
       "      <td>0.92106</td>\n",
       "      <td>-0.23255</td>\n",
       "      <td>0.77152</td>\n",
       "      <td>-0.16399</td>\n",
       "      <td>0.52798</td>\n",
       "      <td>...</td>\n",
       "      <td>-0.65158</td>\n",
       "      <td>0.13290</td>\n",
       "      <td>-0.53206</td>\n",
       "      <td>0.02431</td>\n",
       "      <td>-0.62197</td>\n",
       "      <td>-0.05707</td>\n",
       "      <td>-0.59573</td>\n",
       "      <td>-0.04608</td>\n",
       "      <td>-0.65697</td>\n",
       "      <td>1</td>\n",
       "    </tr>\n",
       "  </tbody>\n",
       "</table>\n",
       "<p>5 rows × 34 columns</p>\n",
       "</div>"
      ],
      "text/plain": [
       "   var1     var2     var3     var4     var5     var6     var7     var8  \\\n",
       "0     1  0.99539 -0.05889  0.85243  0.02306  0.83398 -0.37708  1.00000   \n",
       "1     1  1.00000 -0.18829  0.93035 -0.36156 -0.10868 -0.93597  1.00000   \n",
       "2     1  1.00000 -0.03365  1.00000  0.00485  1.00000 -0.12062  0.88965   \n",
       "3     1  1.00000 -0.45161  1.00000  1.00000  0.71216 -1.00000  0.00000   \n",
       "4     1  1.00000 -0.02401  0.94140  0.06531  0.92106 -0.23255  0.77152   \n",
       "\n",
       "      var9    var10  ...    var25    var26    var27    var28    var29  \\\n",
       "0  0.03760  0.85243  ... -0.51171  0.41078 -0.46168  0.21266 -0.34090   \n",
       "1 -0.04549  0.50874  ... -0.26569 -0.20468 -0.18401 -0.19040 -0.11593   \n",
       "2  0.01198  0.73082  ... -0.40220  0.58984 -0.22145  0.43100 -0.17365   \n",
       "3  0.00000  0.00000  ...  0.90695  0.51613  1.00000  1.00000 -0.20099   \n",
       "4 -0.16399  0.52798  ... -0.65158  0.13290 -0.53206  0.02431 -0.62197   \n",
       "\n",
       "     var30    var31    var32    var33  class  \n",
       "0  0.42267 -0.54487  0.18641 -0.45300      1  \n",
       "1 -0.16626 -0.06288 -0.13738 -0.02447      0  \n",
       "2  0.60436 -0.24180  0.56045 -0.38238      1  \n",
       "3  0.25682  1.00000 -0.32382  1.00000      0  \n",
       "4 -0.05707 -0.59573 -0.04608 -0.65697      1  \n",
       "\n",
       "[5 rows x 34 columns]"
      ]
     },
     "execution_count": 5,
     "metadata": {},
     "output_type": "execute_result"
    }
   ],
   "source": [
    "df[\"class\"] = df[\"class\"].apply(lambda x: 1 if x==\"g\" else 0)\n",
    "df[\"class\"] = df[\"class\"].astype(\"category\")\n",
    "df.head()"
   ]
  },
  {
   "cell_type": "code",
   "execution_count": 6,
   "metadata": {},
   "outputs": [
    {
     "name": "stdout",
     "output_type": "stream",
     "text": [
      "<class 'pandas.core.frame.DataFrame'>\n",
      "RangeIndex: 351 entries, 0 to 350\n",
      "Data columns (total 34 columns):\n",
      " #   Column  Non-Null Count  Dtype   \n",
      "---  ------  --------------  -----   \n",
      " 0   var1    351 non-null    int64   \n",
      " 1   var2    351 non-null    float64 \n",
      " 2   var3    351 non-null    float64 \n",
      " 3   var4    351 non-null    float64 \n",
      " 4   var5    351 non-null    float64 \n",
      " 5   var6    351 non-null    float64 \n",
      " 6   var7    351 non-null    float64 \n",
      " 7   var8    351 non-null    float64 \n",
      " 8   var9    351 non-null    float64 \n",
      " 9   var10   351 non-null    float64 \n",
      " 10  var11   351 non-null    float64 \n",
      " 11  var12   351 non-null    float64 \n",
      " 12  var13   351 non-null    float64 \n",
      " 13  var14   351 non-null    float64 \n",
      " 14  var15   351 non-null    float64 \n",
      " 15  var16   351 non-null    float64 \n",
      " 16  var17   351 non-null    float64 \n",
      " 17  var18   351 non-null    float64 \n",
      " 18  var19   351 non-null    float64 \n",
      " 19  var20   351 non-null    float64 \n",
      " 20  var21   351 non-null    float64 \n",
      " 21  var22   351 non-null    float64 \n",
      " 22  var23   351 non-null    float64 \n",
      " 23  var24   351 non-null    float64 \n",
      " 24  var25   351 non-null    float64 \n",
      " 25  var26   351 non-null    float64 \n",
      " 26  var27   351 non-null    float64 \n",
      " 27  var28   351 non-null    float64 \n",
      " 28  var29   351 non-null    float64 \n",
      " 29  var30   351 non-null    float64 \n",
      " 30  var31   351 non-null    float64 \n",
      " 31  var32   351 non-null    float64 \n",
      " 32  var33   351 non-null    float64 \n",
      " 33  class   351 non-null    category\n",
      "dtypes: category(1), float64(32), int64(1)\n",
      "memory usage: 91.1 KB\n"
     ]
    }
   ],
   "source": [
    "df.info()"
   ]
  },
  {
   "cell_type": "code",
   "execution_count": 7,
   "metadata": {},
   "outputs": [
    {
     "name": "stdout",
     "output_type": "stream",
     "text": [
      "(351, 33) (351,)\n"
     ]
    }
   ],
   "source": [
    "X = df.drop([\"class\"], axis=1)\n",
    "y = df[\"class\"]\n",
    "print(X.shape, y.shape)"
   ]
  },
  {
   "cell_type": "markdown",
   "metadata": {},
   "source": [
    "# Split Data"
   ]
  },
  {
   "cell_type": "code",
   "execution_count": 8,
   "metadata": {},
   "outputs": [
    {
     "name": "stdout",
     "output_type": "stream",
     "text": [
      "(245, 33) (245,)\n",
      "(106, 33) (106,)\n"
     ]
    }
   ],
   "source": [
    "X_train, X_test, y_train, y_test = train_test_split(X, y, test_size=0.3, random_state=42)\n",
    "print(X_train.shape, y_train.shape)\n",
    "print(X_test.shape, y_test.shape)"
   ]
  },
  {
   "cell_type": "markdown",
   "metadata": {},
   "source": [
    "# (a)"
   ]
  },
  {
   "cell_type": "markdown",
   "metadata": {},
   "source": [
    "## Linear SVM"
   ]
  },
  {
   "cell_type": "code",
   "execution_count": 9,
   "metadata": {},
   "outputs": [
    {
     "name": "stdout",
     "output_type": "stream",
     "text": [
      "Accuracy of Linear SVM train : 92.65\n",
      "Accuracy of Linear SVM test  : 87.74\n"
     ]
    }
   ],
   "source": [
    "# =================train model================\n",
    "# train\n",
    "linear_svm = LinearSVC(random_state=42) # default C=1.0\n",
    "linear_svm.fit(X_train, y_train)\n",
    "\n",
    "# predict\n",
    "linear_svm_y_train = linear_svm.predict(X_train)\n",
    "linear_svm_y_test = linear_svm.predict(X_test)\n",
    "\n",
    "# ==================Accuracy==================\n",
    "linear_svm_train_acc = accuracy_score(y_train, linear_svm_y_train)\n",
    "linear_svm_test_acc = accuracy_score(y_test, linear_svm_y_test)\n",
    "# ============================================\n",
    "print(f\"Accuracy of Linear SVM train : {round((linear_svm_train_acc)*100, 2)}\")\n",
    "print(f\"Accuracy of Linear SVM test  : {round((linear_svm_test_acc)*100, 2)}\")"
   ]
  },
  {
   "cell_type": "markdown",
   "metadata": {},
   "source": [
    "### Hyper-parameter Tuning using CV"
   ]
  },
  {
   "cell_type": "code",
   "execution_count": 10,
   "metadata": {},
   "outputs": [
    {
     "data": {
      "text/plain": [
       "GridSearchCV(cv=5, estimator=LinearSVC(random_state=42),\n",
       "             param_grid={'C': [0.1, 0.5, 1, 5, 10, 50, 100]},\n",
       "             scoring='neg_mean_squared_error')"
      ]
     },
     "execution_count": 10,
     "metadata": {},
     "output_type": "execute_result"
    }
   ],
   "source": [
    "# 하이퍼파라미터 그리드 정의\n",
    "param_grid = {'C': [0.1, 0.5, 1, 5, 10, 50, 100]}\n",
    "\n",
    "# 그리드 서치 객체 생성 및 학습\n",
    "linear_svm_grid_search = GridSearchCV(LinearSVC(random_state=42), param_grid, cv=5, scoring='neg_mean_squared_error', verbose=0)\n",
    "linear_svm_grid_search.fit(X_train, y_train)"
   ]
  },
  {
   "cell_type": "code",
   "execution_count": 11,
   "metadata": {},
   "outputs": [
    {
     "data": {
      "text/plain": [
       "{'C': 5}"
      ]
     },
     "execution_count": 11,
     "metadata": {},
     "output_type": "execute_result"
    }
   ],
   "source": [
    "linear_svm_grid_search.best_params_"
   ]
  },
  {
   "cell_type": "markdown",
   "metadata": {},
   "source": [
    "### Best Model"
   ]
  },
  {
   "cell_type": "code",
   "execution_count": 12,
   "metadata": {},
   "outputs": [
    {
     "name": "stdout",
     "output_type": "stream",
     "text": [
      "Accuracy of Best Linear SVM train : 94.69\n",
      "Accuracy of Best Linear SVM test  : 88.68\n"
     ]
    }
   ],
   "source": [
    "# =================train model================\n",
    "# train\n",
    "best_linear_svm = LinearSVC(random_state=42, **linear_svm_grid_search.best_params_)\n",
    "best_linear_svm.fit(X_train, y_train)\n",
    "\n",
    "# predict\n",
    "best_linear_svm_y_train = best_linear_svm.predict(X_train)\n",
    "best_linear_svm_y_test = best_linear_svm.predict(X_test)\n",
    "\n",
    "# ==================Accuracy==================\n",
    "best_linear_svm_train_acc = accuracy_score(y_train, best_linear_svm_y_train)\n",
    "best_linear_svm_test_acc = accuracy_score(y_test, best_linear_svm_y_test)\n",
    "# ============================================\n",
    "print(f\"Accuracy of Best Linear SVM train : {round((best_linear_svm_train_acc)*100, 2)}\")\n",
    "print(f\"Accuracy of Best Linear SVM test  : {round((best_linear_svm_test_acc)*100, 2)}\")"
   ]
  },
  {
   "cell_type": "markdown",
   "metadata": {},
   "source": [
    "## Radial SVM"
   ]
  },
  {
   "cell_type": "code",
   "execution_count": 13,
   "metadata": {},
   "outputs": [
    {
     "name": "stdout",
     "output_type": "stream",
     "text": [
      "Accuracy of Radial SVM train : 96.33\n",
      "Accuracy of Radial SVM test  : 96.23\n"
     ]
    }
   ],
   "source": [
    "# =================train model================\n",
    "# train\n",
    "radial_svm = SVC(random_state=42) # default C=1.0  / kernel=\"rbf\"\n",
    "radial_svm.fit(X_train, y_train)\n",
    "\n",
    "# predict\n",
    "radial_svm_y_train = radial_svm.predict(X_train)\n",
    "radial_svm_y_test = radial_svm.predict(X_test)\n",
    "\n",
    "# ==================Accuracy==================\n",
    "radial_svm_train_acc = accuracy_score(y_train, radial_svm_y_train)\n",
    "radial_svm_test_acc = accuracy_score(y_test, radial_svm_y_test)\n",
    "# ============================================\n",
    "print(f\"Accuracy of Radial SVM train : {round((radial_svm_train_acc)*100, 2)}\")\n",
    "print(f\"Accuracy of Radial SVM test  : {round((radial_svm_test_acc)*100, 2)}\")"
   ]
  },
  {
   "cell_type": "markdown",
   "metadata": {},
   "source": [
    "### 하이퍼파라미터 그리드 정의"
   ]
  },
  {
   "cell_type": "code",
   "execution_count": 14,
   "metadata": {},
   "outputs": [
    {
     "data": {
      "text/plain": [
       "GridSearchCV(cv=5, estimator=SVC(random_state=42),\n",
       "             param_grid={'C': [0.01, 0.05, 0.1, 0.5, 1, 2.5, 3, 3.5, 4, 5, 10,\n",
       "                               25, 50, 100]},\n",
       "             scoring='neg_mean_squared_error')"
      ]
     },
     "execution_count": 14,
     "metadata": {},
     "output_type": "execute_result"
    }
   ],
   "source": [
    "param_grid = {'C': [0.01, 0.05, 0.1, 0.5, 1, 2.5, 3, 3.5, 4, 5, 10, 25, 50, 100]}\n",
    "\n",
    "# 그리드 서치 객체 생성 및 학습\n",
    "radial_svm_grid_search = GridSearchCV(SVC(random_state=42), param_grid, cv=5, scoring='neg_mean_squared_error', verbose=0)\n",
    "radial_svm_grid_search.fit(X_train, y_train)"
   ]
  },
  {
   "cell_type": "code",
   "execution_count": 15,
   "metadata": {},
   "outputs": [
    {
     "data": {
      "text/plain": [
       "{'C': 2.5}"
      ]
     },
     "execution_count": 15,
     "metadata": {},
     "output_type": "execute_result"
    }
   ],
   "source": [
    "radial_svm_grid_search.best_params_"
   ]
  },
  {
   "cell_type": "markdown",
   "metadata": {},
   "source": [
    "### Best Model"
   ]
  },
  {
   "cell_type": "code",
   "execution_count": 16,
   "metadata": {},
   "outputs": [
    {
     "name": "stdout",
     "output_type": "stream",
     "text": [
      "Accuracy of Best Radial SVM train : 97.55\n",
      "Accuracy of Best Radial SVM test  : 95.28\n"
     ]
    }
   ],
   "source": [
    "# =================train model================\n",
    "# train\n",
    "best_radial_svm = SVC(random_state=42, **radial_svm_grid_search.best_params_)\n",
    "best_radial_svm.fit(X_train, y_train)\n",
    "\n",
    "# predict\n",
    "best_radial_svm_y_train = best_radial_svm.predict(X_train)\n",
    "best_radial_svm_y_test = best_radial_svm.predict(X_test)\n",
    "\n",
    "# ==================Accuracy==================\n",
    "best_radial_svm_train_acc = accuracy_score(y_train, best_radial_svm_y_train)\n",
    "best_radial_svm_test_acc = accuracy_score(y_test, best_radial_svm_y_test)\n",
    "# ============================================\n",
    "print(f\"Accuracy of Best Radial SVM train : {round((best_radial_svm_train_acc)*100, 2)}\")\n",
    "print(f\"Accuracy of Best Radial SVM test  : {round((best_radial_svm_test_acc)*100, 2)}\")"
   ]
  },
  {
   "cell_type": "markdown",
   "metadata": {},
   "source": [
    "# (b)"
   ]
  },
  {
   "cell_type": "code",
   "execution_count": 17,
   "metadata": {},
   "outputs": [
    {
     "name": "stdout",
     "output_type": "stream",
     "text": [
      "Accuracy of Boosting train : 100.0\n",
      "Accuracy of Boosting SVM test  : 95.28\n"
     ]
    }
   ],
   "source": [
    "# =================train model================\n",
    "# train\n",
    "boosting = GradientBoostingClassifier(random_state=42)\n",
    "boosting.fit(X_train, y_train)\n",
    "\n",
    "# predict\n",
    "boosting_y_train = boosting.predict(X_train)\n",
    "boosting_y_test = boosting.predict(X_test)\n",
    "\n",
    "# ==================Accuracy==================\n",
    "boosting_train_acc = accuracy_score(y_train, boosting_y_train)\n",
    "boosting_test_acc = accuracy_score(y_test, boosting_y_test)\n",
    "# ============================================\n",
    "print(f\"Accuracy of Boosting train : {round((boosting_train_acc)*100, 2)}\")\n",
    "print(f\"Accuracy of Boosting SVM test  : {round((boosting_test_acc)*100, 2)}\")"
   ]
  },
  {
   "cell_type": "markdown",
   "metadata": {},
   "source": [
    "# (c)"
   ]
  },
  {
   "cell_type": "code",
   "execution_count": 19,
   "metadata": {},
   "outputs": [
    {
     "name": "stdout",
     "output_type": "stream",
     "text": [
      "=================Accuracy===============\n",
      "Model\t\t\t| Train\t| Test\n",
      "------------------------|-------|-------\n",
      "Linear SVM\t\t| 92.65\t| 87.74\n",
      "Linear SVM (Tuned)\t| 94.69\t| 88.68\n",
      "........................|.......|.......\n",
      "Radial SVM\t\t| 96.33\t| 96.23\n",
      "Radial SVM (Tuned)\t| 95.28\t| 95.28\n",
      "........................|.......|.......\n",
      "Gradient Boosting\t| 100.0\t| 95.28\n",
      "========================================\n"
     ]
    }
   ],
   "source": [
    "print(\"=================Accuracy===============\")\n",
    "print(\"Model\\t\\t\\t| Train\\t| Test\")\n",
    "print(\"------------------------|-------|-------\")\n",
    "print(f\"Linear SVM\\t\\t| {round(linear_svm_train_acc * 100, 2)}\\t| {round(linear_svm_test_acc * 100, 2)}\")\n",
    "print(f\"Linear SVM (Tuned)\\t| {round(best_linear_svm_train_acc * 100, 2)}\\t| {round(best_linear_svm_test_acc * 100, 2)}\")\n",
    "print(\"........................|.......|.......\")\n",
    "print(f\"Radial SVM\\t\\t| {round(radial_svm_train_acc * 100, 2)}\\t| {round(radial_svm_test_acc * 100, 2)}\")\n",
    "print(f\"Radial SVM (Tuned)\\t| {round(best_radial_svm_test_acc * 100, 2)}\\t| {round(best_radial_svm_test_acc * 100, 2)}\")\n",
    "print(\"........................|.......|.......\")\n",
    "print(f\"Gradient Boosting\\t| {round(boosting_train_acc * 100, 2)}\\t| {round(boosting_test_acc * 100, 2)}\")\n",
    "print(\"========================================\")"
   ]
  },
  {
   "cell_type": "code",
   "execution_count": null,
   "metadata": {},
   "outputs": [],
   "source": []
  }
 ],
 "metadata": {
  "kernelspec": {
   "display_name": "Python 3",
   "language": "python",
   "name": "python3"
  },
  "language_info": {
   "codemirror_mode": {
    "name": "ipython",
    "version": 3
   },
   "file_extension": ".py",
   "mimetype": "text/x-python",
   "name": "python",
   "nbconvert_exporter": "python",
   "pygments_lexer": "ipython3",
   "version": "3.7.4"
  }
 },
 "nbformat": 4,
 "nbformat_minor": 2
}
