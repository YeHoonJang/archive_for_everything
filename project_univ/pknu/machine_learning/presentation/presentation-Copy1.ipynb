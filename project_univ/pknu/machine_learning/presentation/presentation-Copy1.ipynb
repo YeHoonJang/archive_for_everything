{
 "cells": [
  {
   "cell_type": "code",
   "execution_count": 1,
   "metadata": {},
   "outputs": [],
   "source": [
    "import warnings\n",
    "warnings.filterwarnings(\"ignore\")\n",
    "\n",
    "import pandas as pd\n",
    "import matplotlib.pyplot as plt\n",
    "import seaborn as sns\n",
    "import numpy as np\n",
    "\n",
    "from imblearn.over_sampling import SMOTE\n",
    "from collections import Counter\n",
    "from tqdm.notebook import tqdm\n",
    "\n",
    "# for spliting data into train and test\n",
    "from sklearn.model_selection import train_test_split, GridSearchCV\n",
    "\n",
    "# load method\n",
    "from sklearn.metrics import mean_squared_error\n",
    "from sklearn.metrics import accuracy_score\n",
    "\n",
    "# load model method\n",
    "from sklearn.linear_model import LinearRegression, LogisticRegression\n",
    "from sklearn.tree import DecisionTreeRegressor, DecisionTreeClassifier, plot_tree\n",
    "from sklearn.ensemble import RandomForestRegressor, RandomForestClassifier, GradientBoostingRegressor, GradientBoostingClassifier, AdaBoostRegressor, AdaBoostClassifier\n",
    "from sklearn.svm import LinearSVR, SVR, LinearSVC, SVC\n",
    "from sklearn.discriminant_analysis import LinearDiscriminantAnalysis, QuadraticDiscriminantAnalysis\n",
    "from sklearn.naive_bayes import GaussianNB"
   ]
  },
  {
   "cell_type": "markdown",
   "metadata": {},
   "source": [
    "# Load Data"
   ]
  },
  {
   "cell_type": "code",
   "execution_count": 2,
   "metadata": {},
   "outputs": [
    {
     "data": {
      "text/html": [
       "<div>\n",
       "<style scoped>\n",
       "    .dataframe tbody tr th:only-of-type {\n",
       "        vertical-align: middle;\n",
       "    }\n",
       "\n",
       "    .dataframe tbody tr th {\n",
       "        vertical-align: top;\n",
       "    }\n",
       "\n",
       "    .dataframe thead th {\n",
       "        text-align: right;\n",
       "    }\n",
       "</style>\n",
       "<table border=\"1\" class=\"dataframe\">\n",
       "  <thead>\n",
       "    <tr style=\"text-align: right;\">\n",
       "      <th></th>\n",
       "      <th>fixed acidity</th>\n",
       "      <th>volatile acidity</th>\n",
       "      <th>citric acid</th>\n",
       "      <th>residual sugar</th>\n",
       "      <th>chlorides</th>\n",
       "      <th>free sulfur dioxide</th>\n",
       "      <th>total sulfur dioxide</th>\n",
       "      <th>density</th>\n",
       "      <th>pH</th>\n",
       "      <th>sulphates</th>\n",
       "      <th>alcohol</th>\n",
       "      <th>quality</th>\n",
       "    </tr>\n",
       "  </thead>\n",
       "  <tbody>\n",
       "    <tr>\n",
       "      <th>0</th>\n",
       "      <td>7.4</td>\n",
       "      <td>0.70</td>\n",
       "      <td>0.00</td>\n",
       "      <td>1.9</td>\n",
       "      <td>0.076</td>\n",
       "      <td>11.0</td>\n",
       "      <td>34.0</td>\n",
       "      <td>0.9978</td>\n",
       "      <td>3.51</td>\n",
       "      <td>0.56</td>\n",
       "      <td>9.4</td>\n",
       "      <td>5</td>\n",
       "    </tr>\n",
       "    <tr>\n",
       "      <th>1</th>\n",
       "      <td>7.8</td>\n",
       "      <td>0.88</td>\n",
       "      <td>0.00</td>\n",
       "      <td>2.6</td>\n",
       "      <td>0.098</td>\n",
       "      <td>25.0</td>\n",
       "      <td>67.0</td>\n",
       "      <td>0.9968</td>\n",
       "      <td>3.20</td>\n",
       "      <td>0.68</td>\n",
       "      <td>9.8</td>\n",
       "      <td>5</td>\n",
       "    </tr>\n",
       "    <tr>\n",
       "      <th>2</th>\n",
       "      <td>7.8</td>\n",
       "      <td>0.76</td>\n",
       "      <td>0.04</td>\n",
       "      <td>2.3</td>\n",
       "      <td>0.092</td>\n",
       "      <td>15.0</td>\n",
       "      <td>54.0</td>\n",
       "      <td>0.9970</td>\n",
       "      <td>3.26</td>\n",
       "      <td>0.65</td>\n",
       "      <td>9.8</td>\n",
       "      <td>5</td>\n",
       "    </tr>\n",
       "    <tr>\n",
       "      <th>3</th>\n",
       "      <td>11.2</td>\n",
       "      <td>0.28</td>\n",
       "      <td>0.56</td>\n",
       "      <td>1.9</td>\n",
       "      <td>0.075</td>\n",
       "      <td>17.0</td>\n",
       "      <td>60.0</td>\n",
       "      <td>0.9980</td>\n",
       "      <td>3.16</td>\n",
       "      <td>0.58</td>\n",
       "      <td>9.8</td>\n",
       "      <td>6</td>\n",
       "    </tr>\n",
       "    <tr>\n",
       "      <th>4</th>\n",
       "      <td>7.4</td>\n",
       "      <td>0.70</td>\n",
       "      <td>0.00</td>\n",
       "      <td>1.9</td>\n",
       "      <td>0.076</td>\n",
       "      <td>11.0</td>\n",
       "      <td>34.0</td>\n",
       "      <td>0.9978</td>\n",
       "      <td>3.51</td>\n",
       "      <td>0.56</td>\n",
       "      <td>9.4</td>\n",
       "      <td>5</td>\n",
       "    </tr>\n",
       "  </tbody>\n",
       "</table>\n",
       "</div>"
      ],
      "text/plain": [
       "   fixed acidity  volatile acidity  citric acid  residual sugar  chlorides  \\\n",
       "0            7.4              0.70         0.00             1.9      0.076   \n",
       "1            7.8              0.88         0.00             2.6      0.098   \n",
       "2            7.8              0.76         0.04             2.3      0.092   \n",
       "3           11.2              0.28         0.56             1.9      0.075   \n",
       "4            7.4              0.70         0.00             1.9      0.076   \n",
       "\n",
       "   free sulfur dioxide  total sulfur dioxide  density    pH  sulphates  \\\n",
       "0                 11.0                  34.0   0.9978  3.51       0.56   \n",
       "1                 25.0                  67.0   0.9968  3.20       0.68   \n",
       "2                 15.0                  54.0   0.9970  3.26       0.65   \n",
       "3                 17.0                  60.0   0.9980  3.16       0.58   \n",
       "4                 11.0                  34.0   0.9978  3.51       0.56   \n",
       "\n",
       "   alcohol  quality  \n",
       "0      9.4        5  \n",
       "1      9.8        5  \n",
       "2      9.8        5  \n",
       "3      9.8        6  \n",
       "4      9.4        5  "
      ]
     },
     "execution_count": 2,
     "metadata": {},
     "output_type": "execute_result"
    }
   ],
   "source": [
    "wine_data = pd.read_csv(\"data/wine/winequality-red.csv\", sep=\";\")\n",
    "wine_data.head()"
   ]
  },
  {
   "cell_type": "code",
   "execution_count": 3,
   "metadata": {},
   "outputs": [
    {
     "name": "stdout",
     "output_type": "stream",
     "text": [
      "<class 'pandas.core.frame.DataFrame'>\n",
      "RangeIndex: 1599 entries, 0 to 1598\n",
      "Data columns (total 12 columns):\n",
      " #   Column                Non-Null Count  Dtype  \n",
      "---  ------                --------------  -----  \n",
      " 0   fixed acidity         1599 non-null   float64\n",
      " 1   volatile acidity      1599 non-null   float64\n",
      " 2   citric acid           1599 non-null   float64\n",
      " 3   residual sugar        1599 non-null   float64\n",
      " 4   chlorides             1599 non-null   float64\n",
      " 5   free sulfur dioxide   1599 non-null   float64\n",
      " 6   total sulfur dioxide  1599 non-null   float64\n",
      " 7   density               1599 non-null   float64\n",
      " 8   pH                    1599 non-null   float64\n",
      " 9   sulphates             1599 non-null   float64\n",
      " 10  alcohol               1599 non-null   float64\n",
      " 11  quality               1599 non-null   int64  \n",
      "dtypes: float64(11), int64(1)\n",
      "memory usage: 150.0 KB\n"
     ]
    }
   ],
   "source": [
    "wine_data.info()"
   ]
  },
  {
   "cell_type": "markdown",
   "metadata": {},
   "source": [
    "# Data Visualization"
   ]
  },
  {
   "cell_type": "markdown",
   "metadata": {},
   "source": [
    "## Quality Values Counting"
   ]
  },
  {
   "cell_type": "code",
   "execution_count": 4,
   "metadata": {
    "scrolled": false
   },
   "outputs": [
    {
     "data": {
      "image/png": "[encoded data removed]",
      "text/plain": [
       "<Figure size 720x432 with 1 Axes>"
      ]
     },
     "metadata": {
      "needs_background": "light"
     },
     "output_type": "display_data"
    }
   ],
   "source": [
    "quality_counts = wine_data['quality'].value_counts().sort_index()\n",
    "plt.figure(figsize=(10, 6))\n",
    "quality_counts.plot(kind='bar')\n",
    "plt.title('Distribution of Wine Quality')\n",
    "plt.xlabel('Quality')\n",
    "plt.ylabel('Frequency')\n",
    "plt.xticks(rotation=0)\n",
    "plt.show()"
   ]
  },
  {
   "cell_type": "markdown",
   "metadata": {},
   "source": [
    "## Correlation Heatmap"
   ]
  },
  {
   "cell_type": "code",
   "execution_count": 5,
   "metadata": {},
   "outputs": [
    {
     "data": {
      "image/png": "[encoded data removed]",
      "text/plain": [
       "<Figure size 864x576 with 2 Axes>"
      ]
     },
     "metadata": {
      "needs_background": "light"
     },
     "output_type": "display_data"
    }
   ],
   "source": [
    "correlation_matrix = wine_data.corr()\n",
    "\n",
    "# 상관관계 행렬을 이용한 히트맵 생성\n",
    "plt.figure(figsize=(12, 8))\n",
    "sns.heatmap(correlation_matrix, annot=True, cmap='coolwarm')\n",
    "plt.title('Correlation Matrix for Wine Data')\n",
    "plt.show()"
   ]
  },
  {
   "cell_type": "markdown",
   "metadata": {},
   "source": [
    "# 1. Regression"
   ]
  },
  {
   "cell_type": "markdown",
   "metadata": {},
   "source": [
    "## Split Data"
   ]
  },
  {
   "cell_type": "code",
   "execution_count": 6,
   "metadata": {},
   "outputs": [
    {
     "name": "stdout",
     "output_type": "stream",
     "text": [
      "============= train set =============\n",
      "X_train: (1119, 11), y_train: (1119,)\n",
      "============= test  set =============\n",
      "X_test:  (480, 11), y_test:  (480,)\n",
      "=====================================\n"
     ]
    }
   ],
   "source": [
    "X = wine_data.drop('quality', axis=1)\n",
    "y = wine_data['quality']\n",
    "\n",
    "X_train, X_test, y_train, y_test = train_test_split(X, y, test_size=0.3, random_state=42)\n",
    "\n",
    "print(f\"============= train set =============\\nX_train: {X_train.shape}, y_train: {y_train.shape}\")\n",
    "print(f\"============= test  set =============\\nX_test:  {X_test.shape}, y_test:  {y_test.shape}\\n=====================================\")"
   ]
  },
  {
   "cell_type": "markdown",
   "metadata": {},
   "source": [
    "## SMOTE - Oversampling"
   ]
  },
  {
   "cell_type": "code",
   "execution_count": 7,
   "metadata": {},
   "outputs": [
    {
     "name": "stdout",
     "output_type": "stream",
     "text": [
      "Original dataset shape: Counter({5: 486, 6: 438, 7: 138, 4: 36, 8: 12, 3: 9})\n"
     ]
    }
   ],
   "source": [
    "print(\"Original dataset shape:\", Counter(y_train))"
   ]
  },
  {
   "cell_type": "code",
   "execution_count": 8,
   "metadata": {},
   "outputs": [],
   "source": [
    "smote = SMOTE(random_state=42)\n",
    "X_res, y_res = smote.fit_resample(X_train, y_train)"
   ]
  },
  {
   "cell_type": "code",
   "execution_count": 9,
   "metadata": {},
   "outputs": [
    {
     "name": "stdout",
     "output_type": "stream",
     "text": [
      "Resampled dataset shape: Counter({7: 486, 5: 486, 6: 486, 3: 486, 8: 486, 4: 486})\n"
     ]
    }
   ],
   "source": [
    "print(\"Resampled dataset shape:\", Counter(y_res))"
   ]
  },
  {
   "cell_type": "code",
   "execution_count": 10,
   "metadata": {},
   "outputs": [
    {
     "data": {
      "image/png": "[encoded data removed]",
      "text/plain": [
       "<Figure size 720x432 with 1 Axes>"
      ]
     },
     "metadata": {
      "needs_background": "light"
     },
     "output_type": "display_data"
    }
   ],
   "source": [
    "quality_counts = y_res.value_counts().sort_index()\n",
    "plt.figure(figsize=(10, 6))\n",
    "quality_counts.plot(kind='bar')\n",
    "plt.title('Distribution of Wine Quality with SMOTE')\n",
    "plt.xlabel('Quality')\n",
    "plt.ylabel('Frequency')\n",
    "plt.xticks(rotation=0)\n",
    "plt.show()"
   ]
  },
  {
   "cell_type": "markdown",
   "metadata": {},
   "source": [
    "## Train Models"
   ]
  },
  {
   "cell_type": "markdown",
   "metadata": {},
   "source": [
    "### Linear Regression"
   ]
  },
  {
   "cell_type": "code",
   "execution_count": 11,
   "metadata": {},
   "outputs": [
    {
     "name": "stdout",
     "output_type": "stream",
     "text": [
      "MSE of Linear train : 0.42079\n",
      "MSE of Linear test  : 0.41123\n"
     ]
    }
   ],
   "source": [
    "# =================train model================\n",
    "# train\n",
    "model_linear = LinearRegression()\n",
    "model_linear.fit(X_train, y_train)\n",
    "\n",
    "# predict\n",
    "linear_y_train = model_linear.predict(X_train)\n",
    "linear_y_test = model_linear.predict(X_test)\n",
    "# ============================================\n",
    "\n",
    "# ====================MSE=====================\n",
    "linear_train_mse = mean_squared_error(y_train, linear_y_train)\n",
    "linear_test_mse = mean_squared_error(y_test, linear_y_test)\n",
    "# ============================================\n",
    "print(f\"MSE of Linear train : {round(linear_train_mse, 5)}\")\n",
    "print(f\"MSE of Linear test  : {round(linear_test_mse, 5)}\")"
   ]
  },
  {
   "cell_type": "markdown",
   "metadata": {},
   "source": [
    "#### Oversampled"
   ]
  },
  {
   "cell_type": "code",
   "execution_count": 12,
   "metadata": {},
   "outputs": [
    {
     "name": "stdout",
     "output_type": "stream",
     "text": [
      "MSE of Linear train : 0.82391\n",
      "MSE of Linear test  : 0.80227\n"
     ]
    }
   ],
   "source": [
    "# =================train model================\n",
    "# train\n",
    "model_linear = LinearRegression()\n",
    "model_linear.fit(X_res, y_res)\n",
    "\n",
    "# predict\n",
    "linear_y_train = model_linear.predict(X_res)\n",
    "linear_y_test = model_linear.predict(X_test)\n",
    "# ============================================\n",
    "\n",
    "# ====================MSE=====================\n",
    "linear_train_mse = mean_squared_error(y_res, linear_y_train)\n",
    "linear_test_mse = mean_squared_error(y_test, linear_y_test)\n",
    "# ============================================\n",
    "print(f\"MSE of Linear train : {round(linear_train_mse, 5)}\")\n",
    "print(f\"MSE of Linear test  : {round(linear_test_mse, 5)}\")"
   ]
  },
  {
   "cell_type": "markdown",
   "metadata": {},
   "source": [
    "### Decision Tree"
   ]
  },
  {
   "cell_type": "code",
   "execution_count": 13,
   "metadata": {},
   "outputs": [
    {
     "name": "stdout",
     "output_type": "stream",
     "text": [
      "MSE of Decision Tree train : 0.0\n",
      "MSE of Decision Tree test  : 0.64167\n"
     ]
    }
   ],
   "source": [
    "# =================train model================\n",
    "# train\n",
    "dt = DecisionTreeRegressor()\n",
    "dt.fit(X_train, y_train)\n",
    "\n",
    "# predict\n",
    "dt_y_train = dt.predict(X_train)\n",
    "dt_y_test = dt.predict(X_test)\n",
    "\n",
    "# ====================MSE=====================\n",
    "dt_train_mse = mean_squared_error(y_train, dt_y_train)\n",
    "dt_test_mse = mean_squared_error(y_test, dt_y_test)\n",
    "# ============================================\n",
    "print(f\"MSE of Decision Tree train : {round(dt_train_mse, 5)}\")\n",
    "print(f\"MSE of Decision Tree test  : {round(dt_test_mse, 5)}\")"
   ]
  },
  {
   "cell_type": "code",
   "execution_count": 14,
   "metadata": {
    "scrolled": false
   },
   "outputs": [
    {
     "name": "stdout",
     "output_type": "stream",
     "text": [
      "true: 7\n",
      "pred: 7.0\n",
      "\n",
      "true: 5\n",
      "pred: 5.0\n",
      "\n",
      "true: 5\n",
      "pred: 5.0\n",
      "\n",
      "true: 6\n",
      "pred: 6.0\n",
      "\n",
      "true: 5\n",
      "pred: 5.0\n",
      "\n",
      "true: 6\n",
      "pred: 6.0\n",
      "\n",
      "true: 7\n",
      "pred: 7.0\n",
      "\n",
      "true: 5\n",
      "pred: 5.0\n",
      "\n",
      "true: 5\n",
      "pred: 5.0\n",
      "\n",
      "true: 5\n",
      "pred: 5.0\n",
      "\n"
     ]
    }
   ],
   "source": [
    "for t, p in zip(y_train[:10], dt_y_train[:10]):\n",
    "    print(f\"true: {t}\\npred: {p}\\n\")"
   ]
  },
  {
   "cell_type": "markdown",
   "metadata": {},
   "source": [
    "#### Oversampled"
   ]
  },
  {
   "cell_type": "code",
   "execution_count": 15,
   "metadata": {},
   "outputs": [
    {
     "name": "stdout",
     "output_type": "stream",
     "text": [
      "MSE of Decision Tree train : 0.0\n",
      "MSE of Decision Tree test  : 0.875\n"
     ]
    }
   ],
   "source": [
    "# =================train model================\n",
    "# train\n",
    "dt = DecisionTreeRegressor()\n",
    "dt.fit(X_res, y_res)\n",
    "\n",
    "# predict\n",
    "dt_y_train = dt.predict(X_res)\n",
    "dt_y_test = dt.predict(X_test)\n",
    "\n",
    "# ====================MSE=====================\n",
    "dt_train_mse = mean_squared_error(y_res, dt_y_train)\n",
    "dt_test_mse = mean_squared_error(y_test, dt_y_test)\n",
    "# ============================================\n",
    "print(f\"MSE of Decision Tree train : {round(dt_train_mse, 5)}\")\n",
    "print(f\"MSE of Decision Tree test  : {round(dt_test_mse, 5)}\")"
   ]
  },
  {
   "cell_type": "code",
   "execution_count": 16,
   "metadata": {},
   "outputs": [
    {
     "name": "stdout",
     "output_type": "stream",
     "text": [
      "true: 7\n",
      "pred: 7.0\n",
      "\n",
      "true: 5\n",
      "pred: 5.0\n",
      "\n",
      "true: 5\n",
      "pred: 5.0\n",
      "\n",
      "true: 6\n",
      "pred: 6.0\n",
      "\n",
      "true: 5\n",
      "pred: 5.0\n",
      "\n",
      "true: 6\n",
      "pred: 6.0\n",
      "\n",
      "true: 7\n",
      "pred: 7.0\n",
      "\n",
      "true: 5\n",
      "pred: 5.0\n",
      "\n",
      "true: 5\n",
      "pred: 5.0\n",
      "\n",
      "true: 5\n",
      "pred: 5.0\n",
      "\n"
     ]
    }
   ],
   "source": [
    "for t, p in zip(y_train[:10], dt_y_train[:10]):\n",
    "    print(f\"true: {t}\\npred: {p}\\n\")"
   ]
  },
  {
   "cell_type": "markdown",
   "metadata": {},
   "source": [
    "#### pruning"
   ]
  },
  {
   "cell_type": "code",
   "execution_count": 17,
   "metadata": {},
   "outputs": [],
   "source": [
    "path = dt.cost_complexity_pruning_path(X_res, y_res)\n",
    "\n",
    "ccp_alphas, impurities = path.ccp_alphas, path.impurities\n",
    "ccp_alphas = np.abs(ccp_alphas) # 부동 소수점에 의한 음수값 없애기 위한 작업"
   ]
  },
  {
   "cell_type": "code",
   "execution_count": 18,
   "metadata": {},
   "outputs": [],
   "source": [
    "# alpha 마다의 cost_complexity 값 구한거!\n",
    "regs = []\n",
    "for ccp_alpha in ccp_alphas:\n",
    "    reg_dt = DecisionTreeRegressor(random_state=42, ccp_alpha=ccp_alpha)\n",
    "    reg_dt.fit(X_res, y_res)\n",
    "    regs.append(reg_dt)\n",
    "    \n",
    "regs = regs[:-1]\n",
    "ccp_alphas = ccp_alphas[:-1]\n",
    "\n",
    "node_counts = [reg.tree_.node_count for reg in regs]\n",
    "depth = [reg.tree_.max_depth for reg in regs]"
   ]
  },
  {
   "cell_type": "code",
   "execution_count": 19,
   "metadata": {},
   "outputs": [
    {
     "data": {
      "image/png": "[encoded data removed]",
      "text/plain": [
       "<Figure size 432x288 with 1 Axes>"
      ]
     },
     "metadata": {
      "needs_background": "light"
     },
     "output_type": "display_data"
    },
    {
     "name": "stdout",
     "output_type": "stream",
     "text": [
      "Best alpha: 0.00953\n"
     ]
    }
   ],
   "source": [
    "train_mse = []\n",
    "test_mse = []\n",
    "for reg in regs:\n",
    "    y_train_pred = reg.predict(X_res)\n",
    "    y_test_pred = reg.predict(X_test)\n",
    "    train_mse.append(((y_res - y_train_pred)**2).mean())\n",
    "    test_mse.append(((y_test - y_test_pred)**2).mean())\n",
    "\n",
    "plt.scatter(ccp_alphas,train_mse)\n",
    "plt.scatter(ccp_alphas,test_mse)\n",
    "plt.plot(ccp_alphas,train_mse,label='train_mse',drawstyle=\"steps-post\")\n",
    "plt.plot(ccp_alphas,test_mse,label='test_mse',drawstyle=\"steps-post\")\n",
    "plt.legend()\n",
    "plt.title('MSE vs alpha')\n",
    "plt.show()\n",
    "\n",
    "best_alpha = round(ccp_alphas[test_mse.index(min(test_mse))], 5)\n",
    "print(f\"Best alpha: {best_alpha}\")"
   ]
  },
  {
   "cell_type": "code",
   "execution_count": 20,
   "metadata": {},
   "outputs": [
    {
     "name": "stdout",
     "output_type": "stream",
     "text": [
      "MSE of the Best Regression Tree train : 0.5259\n",
      "MSE of the Best Regression Tree test  : 0.76844\n"
     ]
    }
   ],
   "source": [
    "best_reg_dt = DecisionTreeRegressor(random_state=42, ccp_alpha=best_alpha)\n",
    "best_reg_dt.fit(X_res, y_res)\n",
    "\n",
    "reg_y_train = best_reg_dt.predict(X_res)\n",
    "reg_y_test = best_reg_dt.predict(X_test)\n",
    "\n",
    "best_reg_train_mse = ((y_res - reg_y_train)**2).mean()\n",
    "best_reg_test_mse = ((y_test - reg_y_test)**2).mean()\n",
    "\n",
    "print(f\"MSE of the Best Regression Tree train : {round(best_reg_train_mse, 5)}\")\n",
    "print(f\"MSE of the Best Regression Tree test  : {round(best_reg_test_mse, 5)}\")"
   ]
  },
  {
   "cell_type": "markdown",
   "metadata": {},
   "source": [
    "### Random Forest"
   ]
  },
  {
   "cell_type": "code",
   "execution_count": 21,
   "metadata": {},
   "outputs": [
    {
     "name": "stdout",
     "output_type": "stream",
     "text": [
      "MSE of Random Forest train : 0.04852\n",
      "MSE of Random Forest test  : 0.34826\n"
     ]
    }
   ],
   "source": [
    "# =================train model================\n",
    "# train\n",
    "rf = RandomForestRegressor(random_state=42) # defalut n_estimators=100 / defalut max_features=1.0 /default max_depth=None\n",
    "rf.fit(X_train, y_train)\n",
    "\n",
    "# predict\n",
    "rf_y_train = rf.predict(X_train)\n",
    "rf_y_test = rf.predict(X_test)\n",
    "\n",
    "# ====================MSE=====================\n",
    "rf_train_mse = mean_squared_error(y_train, rf_y_train)\n",
    "rf_test_mse = mean_squared_error(y_test, rf_y_test)\n",
    "# ============================================\n",
    "print(f\"MSE of Random Forest train : {round(rf_train_mse, 5)}\")\n",
    "print(f\"MSE of Random Forest test  : {round(rf_test_mse, 5)}\")"
   ]
  },
  {
   "cell_type": "markdown",
   "metadata": {},
   "source": [
    "#### Oversampled"
   ]
  },
  {
   "cell_type": "code",
   "execution_count": 22,
   "metadata": {},
   "outputs": [
    {
     "name": "stdout",
     "output_type": "stream",
     "text": [
      "MSE of Random Forest train : 0.02526\n",
      "MSE of Random Forest test  : 0.42104\n"
     ]
    }
   ],
   "source": [
    "# =================train model================\n",
    "# train\n",
    "rf = RandomForestRegressor(random_state=42) # defalut n_estimators=100 / defalut max_features=1.0 /default max_depth=None\n",
    "rf.fit(X_res, y_res)\n",
    "\n",
    "# predict\n",
    "rf_y_train = rf.predict(X_res)\n",
    "rf_y_test = rf.predict(X_test)\n",
    "\n",
    "# ====================MSE=====================\n",
    "rf_train_mse = mean_squared_error(y_res, rf_y_train)\n",
    "rf_test_mse = mean_squared_error(y_test, rf_y_test)\n",
    "# ============================================\n",
    "print(f\"MSE of Random Forest train : {round(rf_train_mse, 5)}\")\n",
    "print(f\"MSE of Random Forest test  : {round(rf_test_mse, 5)}\")"
   ]
  },
  {
   "cell_type": "markdown",
   "metadata": {},
   "source": [
    "#### Hyper-parameter Tuning"
   ]
  },
  {
   "cell_type": "code",
   "execution_count": 23,
   "metadata": {
    "scrolled": true
   },
   "outputs": [
    {
     "data": {
      "text/plain": [
       "GridSearchCV(cv=5, estimator=RandomForestRegressor(random_state=42),\n",
       "             param_grid={'max_depth': [10, 20, 30, None],\n",
       "                         'max_features': ['auto', 'sqrt'],\n",
       "                         'n_estimators': [100, 200, 300]},\n",
       "             scoring='neg_mean_squared_error')"
      ]
     },
     "execution_count": 23,
     "metadata": {},
     "output_type": "execute_result"
    }
   ],
   "source": [
    "# 하이퍼파라미터 그리드 정의\n",
    "param_grid = {\n",
    "    'n_estimators': [100, 200, 300],\n",
    "    'max_features': ['auto', 'sqrt'],\n",
    "    'max_depth': [10, 20, 30, None]\n",
    "}\n",
    "\n",
    "# 그리드 서치 객체 생성 및 학습\n",
    "grid_search = GridSearchCV(RandomForestRegressor(random_state=42), param_grid, cv=5, scoring='neg_mean_squared_error', verbose=0)\n",
    "grid_search.fit(X_res, y_res)"
   ]
  },
  {
   "cell_type": "code",
   "execution_count": 24,
   "metadata": {
    "scrolled": true
   },
   "outputs": [
    {
     "name": "stdout",
     "output_type": "stream",
     "text": [
      "Best Parameters: {'max_depth': 30, 'max_features': 'sqrt', 'n_estimators': 200}\n",
      "Best CV Score: -0.5563648095438098\n"
     ]
    }
   ],
   "source": [
    "# 최적의 하이퍼파라미터와 오류 확인\n",
    "print(\"Best Parameters:\", grid_search.best_params_)\n",
    "print(\"Best CV Score:\", grid_search.best_score_)"
   ]
  },
  {
   "cell_type": "markdown",
   "metadata": {},
   "source": [
    "#### Best Models"
   ]
  },
  {
   "cell_type": "code",
   "execution_count": 25,
   "metadata": {},
   "outputs": [
    {
     "name": "stdout",
     "output_type": "stream",
     "text": [
      "MSE of Random Forest train : 0.02242\n",
      "MSE of Random Forest test  : 0.366\n"
     ]
    }
   ],
   "source": [
    "# =================train model================\n",
    "# train\n",
    "rf = RandomForestRegressor(random_state=42, **grid_search.best_params_)\n",
    "rf.fit(X_res, y_res)\n",
    "\n",
    "# predict\n",
    "rf_y_train = rf.predict(X_res)\n",
    "rf_y_test = rf.predict(X_test)\n",
    "\n",
    "# ====================MSE=====================\n",
    "rf_train_mse = mean_squared_error(y_res, rf_y_train)\n",
    "rf_test_mse = mean_squared_error(y_test, rf_y_test)\n",
    "# ============================================\n",
    "print(f\"MSE of Random Forest train : {round(rf_train_mse, 5)}\")\n",
    "print(f\"MSE of Random Forest test  : {round(rf_test_mse, 5)}\")"
   ]
  },
  {
   "cell_type": "markdown",
   "metadata": {},
   "source": [
    "### AdaBoosting"
   ]
  },
  {
   "cell_type": "code",
   "execution_count": 26,
   "metadata": {},
   "outputs": [
    {
     "name": "stdout",
     "output_type": "stream",
     "text": [
      "MSE of AdaBoosting train : 0.0\n",
      "MSE of AdaBoosting test  : 0.38958\n"
     ]
    }
   ],
   "source": [
    "# =================train model================\n",
    "# train\n",
    "ada = AdaBoostRegressor(base_estimator=DecisionTreeRegressor(), n_estimators=100, random_state=42)\n",
    "ada.fit(X_train, y_train)\n",
    "\n",
    "# predict\n",
    "ada_y_train = ada.predict(X_train)\n",
    "ada_y_test = ada.predict(X_test)\n",
    "\n",
    "# ====================MSE=====================\n",
    "ada_train_mse = mean_squared_error(y_train, ada_y_train)\n",
    "ada_test_mse = mean_squared_error(y_test, ada_y_test)\n",
    "# ============================================\n",
    "print(f\"MSE of AdaBoosting train : {round(ada_train_mse, 5)}\")\n",
    "print(f\"MSE of AdaBoosting test  : {round(ada_test_mse, 5)}\")"
   ]
  },
  {
   "cell_type": "code",
   "execution_count": 27,
   "metadata": {},
   "outputs": [
    {
     "name": "stdout",
     "output_type": "stream",
     "text": [
      "true: 7\n",
      "pred: 7.0\n",
      "\n",
      "true: 5\n",
      "pred: 5.0\n",
      "\n",
      "true: 5\n",
      "pred: 5.0\n",
      "\n",
      "true: 6\n",
      "pred: 6.0\n",
      "\n",
      "true: 5\n",
      "pred: 5.0\n",
      "\n",
      "true: 6\n",
      "pred: 6.0\n",
      "\n",
      "true: 7\n",
      "pred: 7.0\n",
      "\n",
      "true: 5\n",
      "pred: 5.0\n",
      "\n",
      "true: 5\n",
      "pred: 5.0\n",
      "\n",
      "true: 5\n",
      "pred: 5.0\n",
      "\n"
     ]
    }
   ],
   "source": [
    "for t, p in zip(y_train[:10], ada_y_train[:10]):\n",
    "    print(f\"true: {t}\\npred: {p}\\n\")"
   ]
  },
  {
   "cell_type": "markdown",
   "metadata": {},
   "source": [
    "#### Oversampled"
   ]
  },
  {
   "cell_type": "code",
   "execution_count": 28,
   "metadata": {},
   "outputs": [
    {
     "name": "stdout",
     "output_type": "stream",
     "text": [
      "MSE of AdaBoosting train : 0.0\n",
      "MSE of AdaBoosting test  : 0.45625\n"
     ]
    }
   ],
   "source": [
    "# =================train model================\n",
    "# train\n",
    "ada = AdaBoostRegressor(base_estimator=DecisionTreeRegressor(), n_estimators=100, random_state=42)\n",
    "ada.fit(X_res, y_res)\n",
    "\n",
    "# predict\n",
    "ada_y_train = ada.predict(X_res)\n",
    "ada_y_test = ada.predict(X_test)\n",
    "\n",
    "# ====================MSE=====================\n",
    "ada_train_mse = mean_squared_error(y_res, ada_y_train)\n",
    "ada_test_mse = mean_squared_error(y_test, ada_y_test)\n",
    "# ============================================\n",
    "print(f\"MSE of AdaBoosting train : {round(ada_train_mse, 5)}\")\n",
    "print(f\"MSE of AdaBoosting test  : {round(ada_test_mse, 5)}\")"
   ]
  },
  {
   "cell_type": "markdown",
   "metadata": {},
   "source": [
    "#### pruning"
   ]
  },
  {
   "cell_type": "code",
   "execution_count": 29,
   "metadata": {},
   "outputs": [
    {
     "name": "stdout",
     "output_type": "stream",
     "text": [
      "MSE of AdaBoosting train : 0.19438\n",
      "MSE of AdaBoosting test  : 0.39214\n"
     ]
    }
   ],
   "source": [
    "# =================train model================\n",
    "# train\n",
    "ada = AdaBoostRegressor(base_estimator=DecisionTreeRegressor(random_state=42, ccp_alpha=best_alpha), n_estimators=100, random_state=42)\n",
    "ada.fit(X_res, y_res)\n",
    "\n",
    "# predict\n",
    "ada_y_train = ada.predict(X_res)\n",
    "ada_y_test = ada.predict(X_test)\n",
    "\n",
    "# ====================MSE=====================\n",
    "ada_train_mse = mean_squared_error(y_res, ada_y_train)\n",
    "ada_test_mse = mean_squared_error(y_test, ada_y_test)\n",
    "# ============================================\n",
    "print(f\"MSE of AdaBoosting train : {round(ada_train_mse, 5)}\")\n",
    "print(f\"MSE of AdaBoosting test  : {round(ada_test_mse, 5)}\")"
   ]
  },
  {
   "cell_type": "markdown",
   "metadata": {},
   "source": [
    "### Gradient Boosting"
   ]
  },
  {
   "cell_type": "code",
   "execution_count": 30,
   "metadata": {},
   "outputs": [
    {
     "name": "stdout",
     "output_type": "stream",
     "text": [
      "MSE of Gradient Boosting train : 0.2214\n",
      "MSE of Gradient Boosting test  : 0.38343\n"
     ]
    }
   ],
   "source": [
    "# =================train model================\n",
    "# train\n",
    "gb = GradientBoostingRegressor(random_state=42)\n",
    "gb.fit(X_train, y_train)\n",
    "\n",
    "# predict\n",
    "gb_y_train = gb.predict(X_train)\n",
    "gb_y_test = gb.predict(X_test)\n",
    "\n",
    "# ====================MSE=====================\n",
    "gb_train_mse = mean_squared_error(y_train, gb_y_train)\n",
    "gb_test_mse = mean_squared_error(y_test, gb_y_test)\n",
    "# ============================================\n",
    "print(f\"MSE of Gradient Boosting train : {round(gb_train_mse, 5)}\")\n",
    "print(f\"MSE of Gradient Boosting test  : {round(gb_test_mse, 5)}\")"
   ]
  },
  {
   "cell_type": "markdown",
   "metadata": {},
   "source": [
    "#### Oversampled"
   ]
  },
  {
   "cell_type": "code",
   "execution_count": 31,
   "metadata": {},
   "outputs": [
    {
     "name": "stdout",
     "output_type": "stream",
     "text": [
      "MSE of Gradient Boosting train : 0.2834\n",
      "MSE of Gradient Boosting test  : 0.57589\n"
     ]
    }
   ],
   "source": [
    "# =================train model================\n",
    "# train\n",
    "gb = GradientBoostingRegressor(random_state=42)\n",
    "gb.fit(X_res, y_res)\n",
    "\n",
    "# predict\n",
    "gb_y_train = gb.predict(X_res)\n",
    "gb_y_test = gb.predict(X_test)\n",
    "\n",
    "# ====================MSE=====================\n",
    "gb_train_mse = mean_squared_error(y_res, gb_y_train)\n",
    "gb_test_mse = mean_squared_error(y_test, gb_y_test)\n",
    "# ============================================\n",
    "print(f\"MSE of Gradient Boosting train : {round(gb_train_mse, 5)}\")\n",
    "print(f\"MSE of Gradient Boosting test  : {round(gb_test_mse, 5)}\")"
   ]
  },
  {
   "cell_type": "markdown",
   "metadata": {},
   "source": [
    "### Linear SVM Regressor"
   ]
  },
  {
   "cell_type": "code",
   "execution_count": 32,
   "metadata": {},
   "outputs": [
    {
     "name": "stdout",
     "output_type": "stream",
     "text": [
      "MSE of Linear SVM train : 0.74479\n",
      "MSE of Linear SVM test  : 0.69919\n"
     ]
    }
   ],
   "source": [
    "# =================train model================\n",
    "# train\n",
    "linear_svm = LinearSVR(random_state=42) # defalut C=1.0\n",
    "linear_svm.fit(X_train, y_train)\n",
    "\n",
    "# predict\n",
    "linear_svm_y_train = linear_svm.predict(X_train)\n",
    "linear_svm_y_test = linear_svm.predict(X_test)\n",
    "\n",
    "# ====================MSE=====================\n",
    "linear_svm_train_mse = mean_squared_error(y_train, linear_svm_y_train)\n",
    "linear_svm_test_mse = mean_squared_error(y_test, linear_svm_y_test)\n",
    "# ============================================\n",
    "print(f\"MSE of Linear SVM train : {round(linear_svm_train_mse, 5)}\")\n",
    "print(f\"MSE of Linear SVM test  : {round(linear_svm_test_mse, 5)}\")"
   ]
  },
  {
   "cell_type": "markdown",
   "metadata": {},
   "source": [
    "#### Oversampled"
   ]
  },
  {
   "cell_type": "code",
   "execution_count": 33,
   "metadata": {},
   "outputs": [
    {
     "name": "stdout",
     "output_type": "stream",
     "text": [
      "MSE of Linear SVM train : 1.8696\n",
      "MSE of Linear SVM test  : 2.03735\n"
     ]
    }
   ],
   "source": [
    "# =================train model================\n",
    "# train\n",
    "linear_svm = LinearSVR(random_state=42) # defalut C=1.0\n",
    "linear_svm.fit(X_res, y_res)\n",
    "\n",
    "# predict\n",
    "linear_svm_y_train = linear_svm.predict(X_res)\n",
    "linear_svm_y_test = linear_svm.predict(X_test)\n",
    "\n",
    "# ====================MSE=====================\n",
    "linear_svm_train_mse = mean_squared_error(y_res, linear_svm_y_train)\n",
    "linear_svm_test_mse = mean_squared_error(y_test, linear_svm_y_test)\n",
    "# ============================================\n",
    "print(f\"MSE of Linear SVM train : {round(linear_svm_train_mse, 5)}\")\n",
    "print(f\"MSE of Linear SVM test  : {round(linear_svm_test_mse, 5)}\")"
   ]
  },
  {
   "cell_type": "markdown",
   "metadata": {},
   "source": [
    "### Kernel SVM Regressor"
   ]
  },
  {
   "cell_type": "code",
   "execution_count": 34,
   "metadata": {},
   "outputs": [
    {
     "name": "stdout",
     "output_type": "stream",
     "text": [
      "MSE of Kernel SVM train : 0.54224\n",
      "MSE of Kernel SVM test  : 0.52714\n"
     ]
    }
   ],
   "source": [
    "# =================train model================\n",
    "# train\n",
    "kernel_svm = SVR() # defalut C=1.0 / default kernel=radial / default gamma='scale'\n",
    "kernel_svm.fit(X_train, y_train)\n",
    "\n",
    "# predict\n",
    "kernel_svm_y_train = kernel_svm.predict(X_train)\n",
    "kernel_svm_y_test = kernel_svm.predict(X_test)\n",
    "\n",
    "# ====================MSE=====================\n",
    "kernel_svm_train_mse = mean_squared_error(y_train, kernel_svm_y_train)\n",
    "kernel_svm_test_mse = mean_squared_error(y_test, kernel_svm_y_test)\n",
    "# ============================================\n",
    "print(f\"MSE of Kernel SVM train : {round(kernel_svm_train_mse, 5)}\")\n",
    "print(f\"MSE of Kernel SVM test  : {round(kernel_svm_test_mse, 5)}\")"
   ]
  },
  {
   "cell_type": "markdown",
   "metadata": {},
   "source": [
    "#### Oversampled"
   ]
  },
  {
   "cell_type": "code",
   "execution_count": 35,
   "metadata": {},
   "outputs": [
    {
     "name": "stdout",
     "output_type": "stream",
     "text": [
      "MSE of Kernel SVM train : 1.45267\n",
      "MSE of Kernel SVM test  : 0.67366\n"
     ]
    }
   ],
   "source": [
    "# =================train model================\n",
    "# train\n",
    "kernel_svm = SVR() # defalut C=1.0 / default kernel=radial / default gamma='scale' / default epsilon=0.1\n",
    "kernel_svm.fit(X_res, y_res)\n",
    "\n",
    "# predict\n",
    "kernel_svm_y_train = kernel_svm.predict(X_res)\n",
    "kernel_svm_y_test = kernel_svm.predict(X_test)\n",
    "\n",
    "# ====================MSE=====================\n",
    "kernel_svm_train_mse = mean_squared_error(y_res, kernel_svm_y_train)\n",
    "kernel_svm_test_mse = mean_squared_error(y_test, kernel_svm_y_test)\n",
    "# ============================================\n",
    "print(f\"MSE of Kernel SVM train : {round(kernel_svm_train_mse, 5)}\")\n",
    "print(f\"MSE of Kernel SVM test  : {round(kernel_svm_test_mse, 5)}\")"
   ]
  },
  {
   "cell_type": "markdown",
   "metadata": {},
   "source": [
    "#### Hyper-parameter Tuning"
   ]
  },
  {
   "cell_type": "code",
   "execution_count": 36,
   "metadata": {
    "scrolled": true
   },
   "outputs": [
    {
     "data": {
      "text/plain": [
       "GridSearchCV(cv=5, estimator=SVR(),\n",
       "             param_grid={'C': [0.1, 1, 10], 'epsilon': [0.01, 0.1, 1, 10],\n",
       "                         'gamma': ['scale', 'auto']},\n",
       "             scoring='neg_mean_squared_error')"
      ]
     },
     "execution_count": 36,
     "metadata": {},
     "output_type": "execute_result"
    }
   ],
   "source": [
    "# 하이퍼파라미터 그리드 정의\n",
    "param_grid = {\n",
    "    'C': [0.1, 1, 10],\n",
    "    'epsilon': [0.01, 0.1, 1, 10],\n",
    "    'gamma': ['scale', 'auto']\n",
    "}\n",
    "\n",
    "# 그리드 서치 객체 생성 및 학습\n",
    "grid_search = GridSearchCV(SVR(), param_grid, cv=5, scoring='neg_mean_squared_error', verbose=0)\n",
    "grid_search.fit(X_res, y_res)"
   ]
  },
  {
   "cell_type": "code",
   "execution_count": 37,
   "metadata": {},
   "outputs": [
    {
     "name": "stdout",
     "output_type": "stream",
     "text": [
      "Best Parameters: {'C': 10, 'epsilon': 0.1, 'gamma': 'auto'}\n",
      "Best CV Score: -0.9688352141389555\n"
     ]
    }
   ],
   "source": [
    "print(\"Best Parameters:\", grid_search.best_params_)\n",
    "print(\"Best CV Score:\", grid_search.best_score_)"
   ]
  },
  {
   "cell_type": "markdown",
   "metadata": {},
   "source": [
    "#### Best Model"
   ]
  },
  {
   "cell_type": "code",
   "execution_count": 38,
   "metadata": {},
   "outputs": [
    {
     "name": "stdout",
     "output_type": "stream",
     "text": [
      "MSE of Kernel SVM train : 0.08884\n",
      "MSE of Kernel SVM test  : 0.80322\n"
     ]
    }
   ],
   "source": [
    "# =================train model================\n",
    "# train\n",
    "kernel_svm = SVR(**grid_search.best_params_) # defalut C=1.0 / default kernel=radial / default gamma='scale'\n",
    "kernel_svm.fit(X_res, y_res)\n",
    "\n",
    "# predict\n",
    "kernel_svm_y_train = kernel_svm.predict(X_res)\n",
    "kernel_svm_y_test = kernel_svm.predict(X_test)\n",
    "\n",
    "# ====================MSE=====================\n",
    "kernel_svm_train_mse = mean_squared_error(y_res, kernel_svm_y_train)\n",
    "kernel_svm_test_mse = mean_squared_error(y_test, kernel_svm_y_test)\n",
    "# ============================================\n",
    "print(f\"MSE of Kernel SVM train : {round(kernel_svm_train_mse, 5)}\")\n",
    "print(f\"MSE of Kernel SVM test  : {round(kernel_svm_test_mse, 5)}\")"
   ]
  },
  {
   "cell_type": "markdown",
   "metadata": {},
   "source": [
    "# 2. Classification"
   ]
  },
  {
   "cell_type": "code",
   "execution_count": 39,
   "metadata": {},
   "outputs": [
    {
     "data": {
      "text/html": [
       "<div>\n",
       "<style scoped>\n",
       "    .dataframe tbody tr th:only-of-type {\n",
       "        vertical-align: middle;\n",
       "    }\n",
       "\n",
       "    .dataframe tbody tr th {\n",
       "        vertical-align: top;\n",
       "    }\n",
       "\n",
       "    .dataframe thead th {\n",
       "        text-align: right;\n",
       "    }\n",
       "</style>\n",
       "<table border=\"1\" class=\"dataframe\">\n",
       "  <thead>\n",
       "    <tr style=\"text-align: right;\">\n",
       "      <th></th>\n",
       "      <th>fixed acidity</th>\n",
       "      <th>volatile acidity</th>\n",
       "      <th>citric acid</th>\n",
       "      <th>residual sugar</th>\n",
       "      <th>chlorides</th>\n",
       "      <th>free sulfur dioxide</th>\n",
       "      <th>total sulfur dioxide</th>\n",
       "      <th>density</th>\n",
       "      <th>pH</th>\n",
       "      <th>sulphates</th>\n",
       "      <th>alcohol</th>\n",
       "      <th>quality</th>\n",
       "    </tr>\n",
       "  </thead>\n",
       "  <tbody>\n",
       "    <tr>\n",
       "      <th>0</th>\n",
       "      <td>7.4</td>\n",
       "      <td>0.70</td>\n",
       "      <td>0.00</td>\n",
       "      <td>1.9</td>\n",
       "      <td>0.076</td>\n",
       "      <td>11.0</td>\n",
       "      <td>34.0</td>\n",
       "      <td>0.9978</td>\n",
       "      <td>3.51</td>\n",
       "      <td>0.56</td>\n",
       "      <td>9.4</td>\n",
       "      <td>5</td>\n",
       "    </tr>\n",
       "    <tr>\n",
       "      <th>1</th>\n",
       "      <td>7.8</td>\n",
       "      <td>0.88</td>\n",
       "      <td>0.00</td>\n",
       "      <td>2.6</td>\n",
       "      <td>0.098</td>\n",
       "      <td>25.0</td>\n",
       "      <td>67.0</td>\n",
       "      <td>0.9968</td>\n",
       "      <td>3.20</td>\n",
       "      <td>0.68</td>\n",
       "      <td>9.8</td>\n",
       "      <td>5</td>\n",
       "    </tr>\n",
       "    <tr>\n",
       "      <th>2</th>\n",
       "      <td>7.8</td>\n",
       "      <td>0.76</td>\n",
       "      <td>0.04</td>\n",
       "      <td>2.3</td>\n",
       "      <td>0.092</td>\n",
       "      <td>15.0</td>\n",
       "      <td>54.0</td>\n",
       "      <td>0.9970</td>\n",
       "      <td>3.26</td>\n",
       "      <td>0.65</td>\n",
       "      <td>9.8</td>\n",
       "      <td>5</td>\n",
       "    </tr>\n",
       "    <tr>\n",
       "      <th>3</th>\n",
       "      <td>11.2</td>\n",
       "      <td>0.28</td>\n",
       "      <td>0.56</td>\n",
       "      <td>1.9</td>\n",
       "      <td>0.075</td>\n",
       "      <td>17.0</td>\n",
       "      <td>60.0</td>\n",
       "      <td>0.9980</td>\n",
       "      <td>3.16</td>\n",
       "      <td>0.58</td>\n",
       "      <td>9.8</td>\n",
       "      <td>6</td>\n",
       "    </tr>\n",
       "    <tr>\n",
       "      <th>4</th>\n",
       "      <td>7.4</td>\n",
       "      <td>0.70</td>\n",
       "      <td>0.00</td>\n",
       "      <td>1.9</td>\n",
       "      <td>0.076</td>\n",
       "      <td>11.0</td>\n",
       "      <td>34.0</td>\n",
       "      <td>0.9978</td>\n",
       "      <td>3.51</td>\n",
       "      <td>0.56</td>\n",
       "      <td>9.4</td>\n",
       "      <td>5</td>\n",
       "    </tr>\n",
       "  </tbody>\n",
       "</table>\n",
       "</div>"
      ],
      "text/plain": [
       "   fixed acidity  volatile acidity  citric acid  residual sugar  chlorides  \\\n",
       "0            7.4              0.70         0.00             1.9      0.076   \n",
       "1            7.8              0.88         0.00             2.6      0.098   \n",
       "2            7.8              0.76         0.04             2.3      0.092   \n",
       "3           11.2              0.28         0.56             1.9      0.075   \n",
       "4            7.4              0.70         0.00             1.9      0.076   \n",
       "\n",
       "   free sulfur dioxide  total sulfur dioxide  density    pH  sulphates  \\\n",
       "0                 11.0                  34.0   0.9978  3.51       0.56   \n",
       "1                 25.0                  67.0   0.9968  3.20       0.68   \n",
       "2                 15.0                  54.0   0.9970  3.26       0.65   \n",
       "3                 17.0                  60.0   0.9980  3.16       0.58   \n",
       "4                 11.0                  34.0   0.9978  3.51       0.56   \n",
       "\n",
       "   alcohol  quality  \n",
       "0      9.4        5  \n",
       "1      9.8        5  \n",
       "2      9.8        5  \n",
       "3      9.8        6  \n",
       "4      9.4        5  "
      ]
     },
     "execution_count": 39,
     "metadata": {},
     "output_type": "execute_result"
    }
   ],
   "source": [
    "wine_data.head()"
   ]
  },
  {
   "cell_type": "code",
   "execution_count": 40,
   "metadata": {},
   "outputs": [
    {
     "data": {
      "image/png": "[encoded data removed]",
      "text/plain": [
       "<Figure size 720x432 with 1 Axes>"
      ]
     },
     "metadata": {
      "needs_background": "light"
     },
     "output_type": "display_data"
    }
   ],
   "source": [
    "quality_counts = wine_data['quality'].value_counts().sort_index()\n",
    "plt.figure(figsize=(10, 6))\n",
    "quality_counts.plot(kind='bar')\n",
    "plt.title('Distribution of Wine Quality')\n",
    "plt.xlabel('Quality')\n",
    "plt.ylabel('Frequency')\n",
    "plt.xticks(rotation=0)\n",
    "plt.show()"
   ]
  },
  {
   "cell_type": "markdown",
   "metadata": {},
   "source": [
    "## Create Label"
   ]
  },
  {
   "cell_type": "code",
   "execution_count": 41,
   "metadata": {},
   "outputs": [
    {
     "data": {
      "text/html": [
       "<div>\n",
       "<style scoped>\n",
       "    .dataframe tbody tr th:only-of-type {\n",
       "        vertical-align: middle;\n",
       "    }\n",
       "\n",
       "    .dataframe tbody tr th {\n",
       "        vertical-align: top;\n",
       "    }\n",
       "\n",
       "    .dataframe thead th {\n",
       "        text-align: right;\n",
       "    }\n",
       "</style>\n",
       "<table border=\"1\" class=\"dataframe\">\n",
       "  <thead>\n",
       "    <tr style=\"text-align: right;\">\n",
       "      <th></th>\n",
       "      <th>quality</th>\n",
       "      <th>high_quality</th>\n",
       "    </tr>\n",
       "  </thead>\n",
       "  <tbody>\n",
       "    <tr>\n",
       "      <th>0</th>\n",
       "      <td>5</td>\n",
       "      <td>0</td>\n",
       "    </tr>\n",
       "    <tr>\n",
       "      <th>1</th>\n",
       "      <td>5</td>\n",
       "      <td>0</td>\n",
       "    </tr>\n",
       "    <tr>\n",
       "      <th>2</th>\n",
       "      <td>5</td>\n",
       "      <td>0</td>\n",
       "    </tr>\n",
       "    <tr>\n",
       "      <th>3</th>\n",
       "      <td>6</td>\n",
       "      <td>1</td>\n",
       "    </tr>\n",
       "    <tr>\n",
       "      <th>4</th>\n",
       "      <td>5</td>\n",
       "      <td>0</td>\n",
       "    </tr>\n",
       "    <tr>\n",
       "      <th>...</th>\n",
       "      <td>...</td>\n",
       "      <td>...</td>\n",
       "    </tr>\n",
       "    <tr>\n",
       "      <th>1594</th>\n",
       "      <td>5</td>\n",
       "      <td>0</td>\n",
       "    </tr>\n",
       "    <tr>\n",
       "      <th>1595</th>\n",
       "      <td>6</td>\n",
       "      <td>1</td>\n",
       "    </tr>\n",
       "    <tr>\n",
       "      <th>1596</th>\n",
       "      <td>6</td>\n",
       "      <td>1</td>\n",
       "    </tr>\n",
       "    <tr>\n",
       "      <th>1597</th>\n",
       "      <td>5</td>\n",
       "      <td>0</td>\n",
       "    </tr>\n",
       "    <tr>\n",
       "      <th>1598</th>\n",
       "      <td>6</td>\n",
       "      <td>1</td>\n",
       "    </tr>\n",
       "  </tbody>\n",
       "</table>\n",
       "<p>1599 rows × 2 columns</p>\n",
       "</div>"
      ],
      "text/plain": [
       "      quality  high_quality\n",
       "0           5             0\n",
       "1           5             0\n",
       "2           5             0\n",
       "3           6             1\n",
       "4           5             0\n",
       "...       ...           ...\n",
       "1594        5             0\n",
       "1595        6             1\n",
       "1596        6             1\n",
       "1597        5             0\n",
       "1598        6             1\n",
       "\n",
       "[1599 rows x 2 columns]"
      ]
     },
     "execution_count": 41,
     "metadata": {},
     "output_type": "execute_result"
    }
   ],
   "source": [
    "wine_data['high_quality'] = wine_data['quality'].apply(lambda x: 1 if x>5.0 else 0)\n",
    "wine_data[['quality', 'high_quality']]"
   ]
  },
  {
   "cell_type": "code",
   "execution_count": 42,
   "metadata": {},
   "outputs": [
    {
     "data": {
      "image/png": "[encoded data removed]",
      "text/plain": [
       "<Figure size 720x432 with 1 Axes>"
      ]
     },
     "metadata": {
      "needs_background": "light"
     },
     "output_type": "display_data"
    }
   ],
   "source": [
    "quality_counts = wine_data['high_quality'].value_counts().sort_index()\n",
    "plt.figure(figsize=(10, 6))\n",
    "quality_counts.plot(kind='bar')\n",
    "plt.title('Distribution of Wine Quality')\n",
    "plt.xlabel('Quality')\n",
    "plt.ylabel('Frequency')\n",
    "plt.xticks(rotation=0)\n",
    "plt.show()"
   ]
  },
  {
   "cell_type": "markdown",
   "metadata": {},
   "source": [
    "## Split Data"
   ]
  },
  {
   "cell_type": "code",
   "execution_count": 43,
   "metadata": {},
   "outputs": [
    {
     "name": "stdout",
     "output_type": "stream",
     "text": [
      "============= train set =============\n",
      "X_train: (1119, 11), y_train: (1119,)\n",
      "============= test  set =============\n",
      "X_test:  (480, 11), y_test:  (480,)\n",
      "=====================================\n"
     ]
    }
   ],
   "source": [
    "X = wine_data.drop(['quality', 'high_quality'], axis=1)\n",
    "y = wine_data['high_quality']\n",
    "\n",
    "X_train, X_test, y_train, y_test = train_test_split(X, y, test_size=0.3, random_state=42)\n",
    "\n",
    "print(f\"============= train set =============\\nX_train: {X_train.shape}, y_train: {y_train.shape}\")\n",
    "print(f\"============= test  set =============\\nX_test:  {X_test.shape}, y_test:  {y_test.shape}\\n=====================================\")"
   ]
  },
  {
   "cell_type": "markdown",
   "metadata": {},
   "source": [
    "## Train Models"
   ]
  },
  {
   "cell_type": "markdown",
   "metadata": {},
   "source": [
    "### Logistic Regression"
   ]
  },
  {
   "cell_type": "code",
   "execution_count": 44,
   "metadata": {},
   "outputs": [
    {
     "name": "stdout",
     "output_type": "stream",
     "text": [
      "Accuracy of LR train : 75.42\n",
      "Accuracy of LR test  : 72.92\n"
     ]
    }
   ],
   "source": [
    "# =================train model================\n",
    "# train\n",
    "lr_model = LogisticRegression()\n",
    "lr_model.fit(X_train, y_train)\n",
    "\n",
    "# predict\n",
    "lr_y_train = lr_model.predict(X_train)\n",
    "lr_y_test = lr_model.predict(X_test)\n",
    "# ============================================\n",
    "\n",
    "# ==================Accuracy==================\n",
    "lr_train_acc = round(accuracy_score(y_train, lr_y_train)*100, 2)\n",
    "lr_acc = round(accuracy_score(y_test, lr_y_test)*100, 2)\n",
    "# ============================================\n",
    "print(f\"Accuracy of LR train : {lr_train_acc}\")\n",
    "print(f\"Accuracy of LR test  : {lr_acc}\")"
   ]
  },
  {
   "cell_type": "markdown",
   "metadata": {},
   "source": [
    "### LDA"
   ]
  },
  {
   "cell_type": "code",
   "execution_count": 45,
   "metadata": {},
   "outputs": [
    {
     "name": "stdout",
     "output_type": "stream",
     "text": [
      "Accuracy of LDA train : 76.14\n",
      "Accuracy of LDA test  : 72.71\n"
     ]
    }
   ],
   "source": [
    "# =================train model================\n",
    "# train\n",
    "lda_model = LinearDiscriminantAnalysis()\n",
    "lda_model.fit(X_train, y_train)\n",
    "\n",
    "# predict\n",
    "lda_y_train = lda_model.predict(X_train)\n",
    "lda_y_test = lda_model.predict(X_test)\n",
    "# ============================================\n",
    "\n",
    "# ==================Accuracy==================\n",
    "lda_train_acc = round(accuracy_score(y_train, lda_y_train)*100, 2)\n",
    "lda_acc = round(accuracy_score(y_test, lda_y_test)*100, 2)\n",
    "# ============================================\n",
    "print(f\"Accuracy of LDA train : {lda_train_acc}\")\n",
    "print(f\"Accuracy of LDA test  : {lda_acc}\")"
   ]
  },
  {
   "cell_type": "markdown",
   "metadata": {},
   "source": [
    "### QDA"
   ]
  },
  {
   "cell_type": "code",
   "execution_count": 46,
   "metadata": {},
   "outputs": [
    {
     "name": "stdout",
     "output_type": "stream",
     "text": [
      "Accuracy of QDA train : 72.92\n",
      "Accuracy of QDA test  : 72.29\n"
     ]
    }
   ],
   "source": [
    "# =================train model================\n",
    "# train\n",
    "qda_model = QuadraticDiscriminantAnalysis()\n",
    "qda_model.fit(X_train, y_train)\n",
    "\n",
    "# predict\n",
    "qda_y_train = qda_model.predict(X_train)\n",
    "qda_y_test = qda_model.predict(X_test)\n",
    "# ============================================\n",
    "\n",
    "# ==================Accuracy==================\n",
    "qda_train_acc = round(accuracy_score(y_train, qda_y_train)*100, 2)\n",
    "qda_acc = round(accuracy_score(y_test, qda_y_test)*100, 2)\n",
    "# ============================================\n",
    "print(f\"Accuracy of QDA train : {qda_train_acc}\")\n",
    "print(f\"Accuracy of QDA test  : {qda_acc}\")"
   ]
  },
  {
   "cell_type": "markdown",
   "metadata": {},
   "source": [
    "### Naïve Bayes"
   ]
  },
  {
   "cell_type": "code",
   "execution_count": 47,
   "metadata": {},
   "outputs": [
    {
     "name": "stdout",
     "output_type": "stream",
     "text": [
      "Accuracy of NB train : 73.37\n",
      "Accuracy of NB test  : 74.79\n"
     ]
    }
   ],
   "source": [
    "# =================train model================\n",
    "# train\n",
    "nb_model = GaussianNB()\n",
    "nb_model.fit(X_train, y_train)\n",
    "\n",
    "# predict\n",
    "nb_y_train = nb_model.predict(X_train)\n",
    "nb_y_test = nb_model.predict(X_test)\n",
    "# ============================================\n",
    "\n",
    "# ==================Accuracy==================\n",
    "nb_train_acc = round(accuracy_score(y_train, nb_y_train)*100, 2)\n",
    "nb_acc = round(accuracy_score(y_test, nb_y_test)*100, 2)\n",
    "# ============================================\n",
    "print(f\"Accuracy of NB train : {nb_train_acc}\")\n",
    "print(f\"Accuracy of NB test  : {nb_acc}\")"
   ]
  },
  {
   "cell_type": "markdown",
   "metadata": {},
   "source": [
    "### Decision Tree"
   ]
  },
  {
   "cell_type": "code",
   "execution_count": 48,
   "metadata": {},
   "outputs": [
    {
     "name": "stdout",
     "output_type": "stream",
     "text": [
      "Accuracy of Classification Tree train : 100.0\n",
      "Accuracy of Classification Tree test  : 76.67\n"
     ]
    }
   ],
   "source": [
    "# =================train model================\n",
    "# train\n",
    "clf_dt = DecisionTreeClassifier(random_state=42) \n",
    "clf_dt.fit(X_train, y_train)\n",
    "\n",
    "# predict\n",
    "clf_y_train = clf_dt.predict(X_train)\n",
    "clf_y_test = clf_dt.predict(X_test)\n",
    "# ============================================\n",
    "\n",
    "# ==================Accuracy==================\n",
    "clf_train_acc = accuracy_score(y_train, clf_y_train)\n",
    "clf_test_acc = accuracy_score(y_test, clf_y_test)\n",
    "# ============================================\n",
    "print(f\"Accuracy of Classification Tree train : {round((clf_train_acc)*100, 2)}\")\n",
    "print(f\"Accuracy of Classification Tree test  : {round((clf_test_acc)*100, 2)}\")"
   ]
  },
  {
   "cell_type": "markdown",
   "metadata": {},
   "source": [
    "#### Visualization"
   ]
  },
  {
   "cell_type": "code",
   "execution_count": 49,
   "metadata": {},
   "outputs": [
    {
     "data": {
      "image/png": "[encoded data removed]",
      "text/plain": [
       "<Figure size 864x432 with 1 Axes>"
      ]
     },
     "metadata": {
      "needs_background": "light"
     },
     "output_type": "display_data"
    }
   ],
   "source": [
    "plt.figure(figsize=(12,6))\n",
    "plot_tree(clf_dt, filled=True, feature_names=X_train.columns, class_names=[\"high\", \"low\"])\n",
    "plt.show()"
   ]
  },
  {
   "cell_type": "markdown",
   "metadata": {},
   "source": [
    "#### pruning"
   ]
  },
  {
   "cell_type": "code",
   "execution_count": 50,
   "metadata": {},
   "outputs": [],
   "source": [
    "path = clf_dt.cost_complexity_pruning_path(X_train, y_train)\n",
    "\n",
    "ccp_alphas, impurities = path.ccp_alphas, path.impurities\n",
    "ccp_alphas = np.abs(ccp_alphas) # 부동 소수점에 의한 음수값 없애기 위한 작업"
   ]
  },
  {
   "cell_type": "code",
   "execution_count": 51,
   "metadata": {},
   "outputs": [],
   "source": [
    "clfs = []\n",
    "for ccp_alpha in ccp_alphas:\n",
    "    clf_dt = DecisionTreeClassifier(random_state=42, ccp_alpha=ccp_alpha)\n",
    "    clf_dt.fit(X_train, y_train)\n",
    "    clfs.append(clf_dt)\n",
    "    \n",
    "clfs = clfs[:-1]\n",
    "ccp_alphas = ccp_alphas[:-1]\n",
    "\n",
    "node_counts = [clf.tree_.node_count for clf in clfs]\n",
    "depth = [reg.tree_.max_depth for clf in clfs]"
   ]
  },
  {
   "cell_type": "code",
   "execution_count": 52,
   "metadata": {},
   "outputs": [
    {
     "data": {
      "image/png": "[encoded data removed]",
      "text/plain": [
       "<Figure size 432x288 with 1 Axes>"
      ]
     },
     "metadata": {
      "needs_background": "light"
     },
     "output_type": "display_data"
    },
    {
     "name": "stdout",
     "output_type": "stream",
     "text": [
      "Best alpha: 0.01482\n"
     ]
    }
   ],
   "source": [
    "train_acc = []\n",
    "test_acc = []\n",
    "for clf in clfs:\n",
    "    y_train_pred = clf.predict(X_train)\n",
    "    y_test_pred = clf.predict(X_test)\n",
    "    train_acc.append(round((accuracy_score(y_train, y_train_pred)*100), 2))\n",
    "    test_acc.append(round((accuracy_score(y_test, y_test_pred)*100), 2))\n",
    "\n",
    "plt.scatter(ccp_alphas,train_acc)\n",
    "plt.scatter(ccp_alphas,test_acc)\n",
    "plt.plot(ccp_alphas,train_acc,label='train_mse',drawstyle=\"steps-post\")\n",
    "plt.plot(ccp_alphas,test_acc,label='test_mse',drawstyle=\"steps-post\")\n",
    "plt.legend()\n",
    "plt.title('Accuracy vs alpha')\n",
    "plt.show()\n",
    "\n",
    "best_alpha = round(ccp_alphas[test_acc.index(min(test_acc))], 5)\n",
    "print(f\"Best alpha: {best_alpha}\")"
   ]
  },
  {
   "cell_type": "markdown",
   "metadata": {},
   "source": [
    "#### Best Model"
   ]
  },
  {
   "cell_type": "code",
   "execution_count": 53,
   "metadata": {},
   "outputs": [
    {
     "name": "stdout",
     "output_type": "stream",
     "text": [
      "Accuracy of the Best Regression Tree train : 72.0286\n",
      "Accuracy of the Best Regression Tree test  : 70.20833\n"
     ]
    }
   ],
   "source": [
    "best_clf_dt = DecisionTreeClassifier(random_state=42, ccp_alpha=best_alpha)\n",
    "best_clf_dt.fit(X_train, y_train)\n",
    "\n",
    "clf_y_train = best_clf_dt.predict(X_train)\n",
    "clf_y_test = best_clf_dt.predict(X_test)\n",
    "\n",
    "best_clf_train_acc = accuracy_score(y_train, clf_y_train)\n",
    "best_clf_test_acc = accuracy_score(y_test, clf_y_test)\n",
    "\n",
    "print(f\"Accuracy of the Best Regression Tree train : {round((best_clf_train_acc)*100, 5)}\")\n",
    "print(f\"Accuracy of the Best Regression Tree test  : {round((best_clf_test_acc)*100, 5)}\")"
   ]
  },
  {
   "cell_type": "markdown",
   "metadata": {},
   "source": [
    "#### Visualization"
   ]
  },
  {
   "cell_type": "code",
   "execution_count": 54,
   "metadata": {},
   "outputs": [
    {
     "data": {
      "image/png": "[encoded data removed]",
      "text/plain": [
       "<Figure size 864x432 with 1 Axes>"
      ]
     },
     "metadata": {
      "needs_background": "light"
     },
     "output_type": "display_data"
    }
   ],
   "source": [
    "plt.figure(figsize=(12,6))\n",
    "plot_tree(best_clf_dt,feature_names=X_train.columns,class_names=[\"high\", \"low\"],filled=True)\n",
    "plt.show()"
   ]
  },
  {
   "cell_type": "markdown",
   "metadata": {},
   "source": [
    "### Random Forest"
   ]
  },
  {
   "cell_type": "code",
   "execution_count": 55,
   "metadata": {},
   "outputs": [
    {
     "name": "stdout",
     "output_type": "stream",
     "text": [
      "Accuracy of Classification Tree train : 100.0\n",
      "Accuracy of Classification Tree test  : 80.21\n"
     ]
    }
   ],
   "source": [
    "# =================train model================\n",
    "# train\n",
    "clf_rf = RandomForestClassifier(random_state=42) \n",
    "clf_rf.fit(X_train, y_train)\n",
    "\n",
    "# predict\n",
    "clf_y_train = clf_rf.predict(X_train)\n",
    "clf_y_test = clf_rf.predict(X_test)\n",
    "# ============================================\n",
    "\n",
    "# ==================Accuracy==================\n",
    "clf_train_acc = accuracy_score(y_train, clf_y_train)\n",
    "clf_test_acc = accuracy_score(y_test, clf_y_test)\n",
    "# ============================================\n",
    "print(f\"Accuracy of Classification Tree train : {round((clf_train_acc)*100, 2)}\")\n",
    "print(f\"Accuracy of Classification Tree test  : {round((clf_test_acc)*100, 2)}\")"
   ]
  },
  {
   "cell_type": "markdown",
   "metadata": {},
   "source": [
    "#### Hyper-parameter Tuning"
   ]
  },
  {
   "cell_type": "code",
   "execution_count": 56,
   "metadata": {},
   "outputs": [
    {
     "data": {
      "text/plain": [
       "GridSearchCV(cv=5, estimator=RandomForestClassifier(random_state=42),\n",
       "             param_grid={'max_depth': [10, 20, 30, None],\n",
       "                         'max_features': ['auto', 'sqrt'],\n",
       "                         'n_estimators': [100, 200, 300]},\n",
       "             scoring='neg_mean_squared_error')"
      ]
     },
     "execution_count": 56,
     "metadata": {},
     "output_type": "execute_result"
    }
   ],
   "source": [
    "# 하이퍼파라미터 그리드 정의\n",
    "param_grid = {\n",
    "    'n_estimators': [100, 200, 300],\n",
    "    'max_features': ['auto', 'sqrt'],\n",
    "    'max_depth': [10, 20, 30, None]\n",
    "}\n",
    "\n",
    "# 그리드 서치 객체 생성 및 학습\n",
    "grid_search = GridSearchCV(RandomForestClassifier(random_state=42), param_grid, cv=5, scoring='neg_mean_squared_error', verbose=0)\n",
    "grid_search.fit(X_train, y_train)"
   ]
  },
  {
   "cell_type": "code",
   "execution_count": 57,
   "metadata": {},
   "outputs": [
    {
     "name": "stdout",
     "output_type": "stream",
     "text": [
      "Best Parameters: {'max_depth': 20, 'max_features': 'auto', 'n_estimators': 300}\n",
      "Best CV Score: -0.1929732543241512\n"
     ]
    }
   ],
   "source": [
    "# 최적의 하이퍼파라미터와 오류 확인\n",
    "print(\"Best Parameters:\", grid_search.best_params_)\n",
    "print(\"Best CV Score:\", grid_search.best_score_)"
   ]
  },
  {
   "cell_type": "markdown",
   "metadata": {},
   "source": [
    "#### Best Model"
   ]
  },
  {
   "cell_type": "code",
   "execution_count": 58,
   "metadata": {},
   "outputs": [
    {
     "name": "stdout",
     "output_type": "stream",
     "text": [
      "Accuracy of Classification Tree train : 100.0\n",
      "Accuracy of Classification Tree test  : 80.21\n"
     ]
    }
   ],
   "source": [
    "# =================train model================\n",
    "# train\n",
    "best_clf_rf = RandomForestClassifier(random_state=42, **grid_search.best_params_) \n",
    "best_clf_rf.fit(X_train, y_train)\n",
    "\n",
    "# predict\n",
    "clf_y_train = best_clf_rf.predict(X_train)\n",
    "clf_y_test = best_clf_rf.predict(X_test)\n",
    "# ============================================\n",
    "\n",
    "# ==================Accuracy==================\n",
    "clf_train_acc = accuracy_score(y_train, clf_y_train)\n",
    "clf_test_acc = accuracy_score(y_test, clf_y_test)\n",
    "# ============================================\n",
    "print(f\"Accuracy of Classification Tree train : {round((clf_train_acc)*100, 2)}\")\n",
    "print(f\"Accuracy of Classification Tree test  : {round((clf_test_acc)*100, 2)}\")"
   ]
  },
  {
   "cell_type": "markdown",
   "metadata": {},
   "source": [
    "### AdaBoosting"
   ]
  },
  {
   "cell_type": "code",
   "execution_count": 59,
   "metadata": {},
   "outputs": [
    {
     "name": "stdout",
     "output_type": "stream",
     "text": [
      "Accuracy of AdaBoosting train : 100.0\n",
      "Accuracy of AdaBoosting test  : 76.25\n"
     ]
    }
   ],
   "source": [
    "# =================train model================\n",
    "# train\n",
    "ada = AdaBoostClassifier(base_estimator=DecisionTreeClassifier(), n_estimators=100, random_state=42)\n",
    "ada.fit(X_train, y_train)\n",
    "\n",
    "# predict\n",
    "ada_y_train = ada.predict(X_train)\n",
    "ada_y_test = ada.predict(X_test)\n",
    "\n",
    "# ==================Accuracy==================\n",
    "ada_train_acc = accuracy_score(y_train, ada_y_train)\n",
    "ada_test_acc = accuracy_score(y_test, ada_y_test)\n",
    "# ============================================\n",
    "print(f\"Accuracy of AdaBoosting train : {round((ada_train_acc)*100, 2)}\")\n",
    "print(f\"Accuracy of AdaBoosting test  : {round((ada_test_acc)*100, 2)}\")"
   ]
  },
  {
   "cell_type": "markdown",
   "metadata": {},
   "source": [
    "#### pruning"
   ]
  },
  {
   "cell_type": "code",
   "execution_count": 60,
   "metadata": {},
   "outputs": [
    {
     "name": "stdout",
     "output_type": "stream",
     "text": [
      "Accuracy of AdaBoosting train : 76.32\n",
      "Accuracy of AdaBoosting test  : 71.04\n"
     ]
    }
   ],
   "source": [
    "# =================train model================\n",
    "# train\n",
    "ada = AdaBoostClassifier(base_estimator=DecisionTreeClassifier(random_state=42, ccp_alpha=best_alpha), n_estimators=100, random_state=42)\n",
    "ada.fit(X_train, y_train)\n",
    "\n",
    "# predict\n",
    "ada_y_train = ada.predict(X_train)\n",
    "ada_y_test = ada.predict(X_test)\n",
    "\n",
    "#==================Accuracy==================\n",
    "ada_train_acc = accuracy_score(y_train, ada_y_train)\n",
    "ada_test_acc = accuracy_score(y_test, ada_y_test)\n",
    "# ============================================\n",
    "print(f\"Accuracy of AdaBoosting train : {round((ada_train_acc)*100, 2)}\")\n",
    "print(f\"Accuracy of AdaBoosting test  : {round((ada_test_acc)*100, 2)}\")"
   ]
  },
  {
   "cell_type": "markdown",
   "metadata": {},
   "source": [
    "### Gradient Boosting"
   ]
  },
  {
   "cell_type": "code",
   "execution_count": 61,
   "metadata": {},
   "outputs": [
    {
     "name": "stdout",
     "output_type": "stream",
     "text": [
      "Accuracy of Gradient Boosting train : 87.85\n",
      "Accuracy of Gradient Boosting test  : 77.71\n"
     ]
    }
   ],
   "source": [
    "# =================train model================\n",
    "# train\n",
    "gb = GradientBoostingClassifier(random_state=42)\n",
    "gb.fit(X_train, y_train)\n",
    "\n",
    "# predict\n",
    "gb_y_train = gb.predict(X_train)\n",
    "gb_y_test = gb.predict(X_test)\n",
    "\n",
    "# ==================Accuracy==================\n",
    "gb_train_acc = accuracy_score(y_train, gb_y_train)\n",
    "gb_test_acc = accuracy_score(y_test, gb_y_test)\n",
    "# ============================================\n",
    "print(f\"Accuracy of Gradient Boosting train : {round((gb_train_acc)*100, 2)}\")\n",
    "print(f\"Accuracy of Gradient Boosting test  : {round((gb_test_acc)*100, 2)}\")"
   ]
  },
  {
   "cell_type": "markdown",
   "metadata": {},
   "source": [
    "### Linear SVM Classifier"
   ]
  },
  {
   "cell_type": "code",
   "execution_count": 62,
   "metadata": {},
   "outputs": [
    {
     "name": "stdout",
     "output_type": "stream",
     "text": [
      "Accuracy of Linear SVM train : 65.77\n",
      "Accuracy of Linear SVM test  : 61.88\n"
     ]
    }
   ],
   "source": [
    "# =================train model================\n",
    "# train\n",
    "linear_svm = LinearSVC(random_state=42) # defalut C=1.0\n",
    "linear_svm.fit(X_train, y_train)\n",
    "\n",
    "# predict\n",
    "linear_svm_y_train = linear_svm.predict(X_train)\n",
    "linear_svm_y_test = linear_svm.predict(X_test)\n",
    "\n",
    "# ==================Accuracy==================\n",
    "linear_svm_train_acc = accuracy_score(y_train, linear_svm_y_train)\n",
    "linear_svm_test_acc = accuracy_score(y_test, linear_svm_y_test)\n",
    "# ============================================\n",
    "print(f\"Accuracy of Linear SVM train : {round((linear_svm_train_acc)*100, 2)}\")\n",
    "print(f\"Accuracy of Linear SVM test  : {round((linear_svm_test_acc)*100, 2)}\")"
   ]
  },
  {
   "cell_type": "markdown",
   "metadata": {},
   "source": [
    "### Kernel SVM Regressor"
   ]
  },
  {
   "cell_type": "code",
   "execution_count": 63,
   "metadata": {},
   "outputs": [
    {
     "name": "stdout",
     "output_type": "stream",
     "text": [
      "Accuracy of Kernel SVM train : 63.45\n",
      "Accuracy of Kernel SVM test  : 64.58\n"
     ]
    }
   ],
   "source": [
    "# =================train model================\n",
    "# train\n",
    "kernel_svm = SVC() # defalut C=1.0 / default kernel=radial / default gamma='scale'\n",
    "kernel_svm.fit(X_train, y_train)\n",
    "\n",
    "# predict\n",
    "kernel_svm_y_train = kernel_svm.predict(X_train)\n",
    "kernel_svm_y_test = kernel_svm.predict(X_test)\n",
    "\n",
    "# ==================Accuracy==================\n",
    "kernel_svm_train_acc = accuracy_score(y_train, kernel_svm_y_train)\n",
    "kernel_svm_test_acc = accuracy_score(y_test, kernel_svm_y_test)\n",
    "# ============================================\n",
    "print(f\"Accuracy of Kernel SVM train : {round((kernel_svm_train_acc)*100, 2)}\")\n",
    "print(f\"Accuracy of Kernel SVM test  : {round((kernel_svm_test_acc)*100, 2)}\")"
   ]
  },
  {
   "cell_type": "markdown",
   "metadata": {},
   "source": [
    "#### Hyper-parameter Tuning"
   ]
  },
  {
   "cell_type": "code",
   "execution_count": 64,
   "metadata": {},
   "outputs": [
    {
     "data": {
      "text/plain": [
       "GridSearchCV(cv=5, estimator=SVC(),\n",
       "             param_grid={'C': [0.1, 1, 10], 'gamma': ['scale', 'auto']},\n",
       "             scoring='neg_mean_squared_error')"
      ]
     },
     "execution_count": 64,
     "metadata": {},
     "output_type": "execute_result"
    }
   ],
   "source": [
    "# 하이퍼파라미터 그리드 정의\n",
    "param_grid = {\n",
    "    'C': [0.1, 1, 10],\n",
    "    'gamma': ['scale', 'auto']\n",
    "}\n",
    "\n",
    "# 그리드 서치 객체 생성 및 학습\n",
    "grid_search = GridSearchCV(SVC(), param_grid, cv=5, scoring='neg_mean_squared_error', verbose=0)\n",
    "grid_search.fit(X_train, y_train)"
   ]
  },
  {
   "cell_type": "code",
   "execution_count": 65,
   "metadata": {},
   "outputs": [
    {
     "name": "stdout",
     "output_type": "stream",
     "text": [
      "Best Parameters: {'C': 10, 'gamma': 'scale'}\n",
      "Best CV Score: -0.29307335041639976\n"
     ]
    }
   ],
   "source": [
    "print(\"Best Parameters:\", grid_search.best_params_)\n",
    "print(\"Best CV Score:\", grid_search.best_score_)"
   ]
  },
  {
   "cell_type": "markdown",
   "metadata": {},
   "source": [
    "#### Best Model"
   ]
  },
  {
   "cell_type": "code",
   "execution_count": 66,
   "metadata": {},
   "outputs": [
    {
     "name": "stdout",
     "output_type": "stream",
     "text": [
      "Accuracy of Kernel SVM train : 72.83\n",
      "Accuracy of Kernel SVM test  : 69.17\n"
     ]
    }
   ],
   "source": [
    "# =================train model================\n",
    "# train\n",
    "kernel_svm = SVC(**grid_search.best_params_) # defalut C=1.0 / default kernel=radial / default gamma='scale'\n",
    "kernel_svm.fit(X_train, y_train)\n",
    "\n",
    "# predict\n",
    "kernel_svm_y_train = kernel_svm.predict(X_train)\n",
    "kernel_svm_y_test = kernel_svm.predict(X_test)\n",
    "\n",
    "# ==================Accuracy==================\n",
    "kernel_svm_train_acc = accuracy_score(y_train, kernel_svm_y_train)\n",
    "kernel_svm_test_acc = accuracy_score(y_test, kernel_svm_y_test)\n",
    "# ============================================\n",
    "print(f\"Accuracy of Kernel SVM train : {round((kernel_svm_train_acc)*100, 2)}\")\n",
    "print(f\"Accuracy of Kernel SVM test  : {round((kernel_svm_test_acc)*100, 2)}\")"
   ]
  },
  {
   "cell_type": "code",
   "execution_count": null,
   "metadata": {},
   "outputs": [],
   "source": []
  }
 ],
 "metadata": {
  "kernelspec": {
   "display_name": "Python 3",
   "language": "python",
   "name": "python3"
  },
  "language_info": {
   "codemirror_mode": {
    "name": "ipython",
    "version": 3
   },
   "file_extension": ".py",
   "mimetype": "text/x-python",
   "name": "python",
   "nbconvert_exporter": "python",
   "pygments_lexer": "ipython3",
   "version": "3.7.4"
  }
 },
 "nbformat": 4,
 "nbformat_minor": 5
}
