{
 "cells": [
  {
   "cell_type": "markdown",
   "id": "f64e222f",
   "metadata": {},
   "source": [
    "# Assignment #1"
   ]
  },
  {
   "cell_type": "code",
   "execution_count": 1,
   "id": "294e8b51",
   "metadata": {},
   "outputs": [],
   "source": [
    "# -*- coding: utf-8 -*-\n",
    "# ================load library================\n",
    "import pandas as pd\n",
    "import matplotlib.pyplot as plt\n",
    "import seaborn as sns\n",
    "import numpy as np\n",
    "\n",
    "# for spliting data into train and test\n",
    "from sklearn.model_selection import train_test_split\n",
    "\n",
    "# load accuracy method\n",
    "from sklearn.metrics import accuracy_score\n",
    "\n",
    "# load model method\n",
    "from sklearn.linear_model import LogisticRegression\n",
    "from sklearn.discriminant_analysis import LinearDiscriminantAnalysis, QuadraticDiscriminantAnalysis\n",
    "from sklearn.naive_bayes import GaussianNB\n",
    "# ============================================"
   ]
  },
  {
   "cell_type": "markdown",
   "id": "26778f86",
   "metadata": {},
   "source": [
    "## 1. Titanic"
   ]
  },
  {
   "cell_type": "code",
   "execution_count": 2,
   "id": "d2f2e2fd",
   "metadata": {},
   "outputs": [
    {
     "data": {
      "text/html": [
       "<div>\n",
       "<style scoped>\n",
       "    .dataframe tbody tr th:only-of-type {\n",
       "        vertical-align: middle;\n",
       "    }\n",
       "\n",
       "    .dataframe tbody tr th {\n",
       "        vertical-align: top;\n",
       "    }\n",
       "\n",
       "    .dataframe thead th {\n",
       "        text-align: right;\n",
       "    }\n",
       "</style>\n",
       "<table border=\"1\" class=\"dataframe\">\n",
       "  <thead>\n",
       "    <tr style=\"text-align: right;\">\n",
       "      <th></th>\n",
       "      <th>Pclass</th>\n",
       "      <th>Sex</th>\n",
       "      <th>Age</th>\n",
       "      <th>SibSp</th>\n",
       "      <th>Survived</th>\n",
       "    </tr>\n",
       "  </thead>\n",
       "  <tbody>\n",
       "    <tr>\n",
       "      <th>0</th>\n",
       "      <td>3</td>\n",
       "      <td>male</td>\n",
       "      <td>22.0</td>\n",
       "      <td>1</td>\n",
       "      <td>0</td>\n",
       "    </tr>\n",
       "    <tr>\n",
       "      <th>1</th>\n",
       "      <td>1</td>\n",
       "      <td>female</td>\n",
       "      <td>38.0</td>\n",
       "      <td>1</td>\n",
       "      <td>1</td>\n",
       "    </tr>\n",
       "    <tr>\n",
       "      <th>2</th>\n",
       "      <td>3</td>\n",
       "      <td>female</td>\n",
       "      <td>26.0</td>\n",
       "      <td>0</td>\n",
       "      <td>1</td>\n",
       "    </tr>\n",
       "    <tr>\n",
       "      <th>3</th>\n",
       "      <td>1</td>\n",
       "      <td>female</td>\n",
       "      <td>35.0</td>\n",
       "      <td>1</td>\n",
       "      <td>1</td>\n",
       "    </tr>\n",
       "    <tr>\n",
       "      <th>4</th>\n",
       "      <td>3</td>\n",
       "      <td>male</td>\n",
       "      <td>35.0</td>\n",
       "      <td>0</td>\n",
       "      <td>0</td>\n",
       "    </tr>\n",
       "  </tbody>\n",
       "</table>\n",
       "</div>"
      ],
      "text/plain": [
       "   Pclass     Sex   Age  SibSp  Survived\n",
       "0       3    male  22.0      1         0\n",
       "1       1  female  38.0      1         1\n",
       "2       3  female  26.0      0         1\n",
       "3       1  female  35.0      1         1\n",
       "4       3    male  35.0      0         0"
      ]
     },
     "execution_count": 2,
     "metadata": {},
     "output_type": "execute_result"
    }
   ],
   "source": [
    "# ================load dataset================\n",
    "titanic = pd.read_csv(\"data/titanic/train.csv\")\n",
    "\n",
    "# select columns to use\n",
    "titanic = titanic[[\"Pclass\", \"Sex\", \"Age\", \"SibSp\", \"Survived\"]]\n",
    "# ============================================\n",
    "titanic.head()"
   ]
  },
  {
   "cell_type": "code",
   "execution_count": 3,
   "id": "084d6b6d",
   "metadata": {},
   "outputs": [
    {
     "name": "stdout",
     "output_type": "stream",
     "text": [
      "<class 'pandas.core.frame.DataFrame'>\n",
      "RangeIndex: 891 entries, 0 to 890\n",
      "Data columns (total 5 columns):\n",
      " #   Column    Non-Null Count  Dtype  \n",
      "---  ------    --------------  -----  \n",
      " 0   Pclass    891 non-null    int64  \n",
      " 1   Sex       891 non-null    object \n",
      " 2   Age       714 non-null    float64\n",
      " 3   SibSp     891 non-null    int64  \n",
      " 4   Survived  891 non-null    int64  \n",
      "dtypes: float64(1), int64(3), object(1)\n",
      "memory usage: 34.9+ KB\n"
     ]
    }
   ],
   "source": [
    "titanic.info()"
   ]
  },
  {
   "cell_type": "code",
   "execution_count": 4,
   "id": "23f5bbea",
   "metadata": {},
   "outputs": [
    {
     "data": {
      "text/html": [
       "<div>\n",
       "<style scoped>\n",
       "    .dataframe tbody tr th:only-of-type {\n",
       "        vertical-align: middle;\n",
       "    }\n",
       "\n",
       "    .dataframe tbody tr th {\n",
       "        vertical-align: top;\n",
       "    }\n",
       "\n",
       "    .dataframe thead th {\n",
       "        text-align: right;\n",
       "    }\n",
       "</style>\n",
       "<table border=\"1\" class=\"dataframe\">\n",
       "  <thead>\n",
       "    <tr style=\"text-align: right;\">\n",
       "      <th></th>\n",
       "      <th>Pclass</th>\n",
       "      <th>Sex</th>\n",
       "      <th>Age</th>\n",
       "      <th>SibSp</th>\n",
       "      <th>Survived</th>\n",
       "    </tr>\n",
       "  </thead>\n",
       "  <tbody>\n",
       "    <tr>\n",
       "      <th>0</th>\n",
       "      <td>3</td>\n",
       "      <td>1</td>\n",
       "      <td>22</td>\n",
       "      <td>1</td>\n",
       "      <td>0</td>\n",
       "    </tr>\n",
       "    <tr>\n",
       "      <th>1</th>\n",
       "      <td>1</td>\n",
       "      <td>2</td>\n",
       "      <td>38</td>\n",
       "      <td>1</td>\n",
       "      <td>1</td>\n",
       "    </tr>\n",
       "    <tr>\n",
       "      <th>2</th>\n",
       "      <td>3</td>\n",
       "      <td>2</td>\n",
       "      <td>26</td>\n",
       "      <td>0</td>\n",
       "      <td>1</td>\n",
       "    </tr>\n",
       "    <tr>\n",
       "      <th>3</th>\n",
       "      <td>1</td>\n",
       "      <td>2</td>\n",
       "      <td>35</td>\n",
       "      <td>1</td>\n",
       "      <td>1</td>\n",
       "    </tr>\n",
       "    <tr>\n",
       "      <th>4</th>\n",
       "      <td>3</td>\n",
       "      <td>1</td>\n",
       "      <td>35</td>\n",
       "      <td>0</td>\n",
       "      <td>0</td>\n",
       "    </tr>\n",
       "  </tbody>\n",
       "</table>\n",
       "</div>"
      ],
      "text/plain": [
       "   Pclass  Sex  Age  SibSp  Survived\n",
       "0       3    1   22      1         0\n",
       "1       1    2   38      1         1\n",
       "2       3    2   26      0         1\n",
       "3       1    2   35      1         1\n",
       "4       3    1   35      0         0"
      ]
     },
     "execution_count": 4,
     "metadata": {},
     "output_type": "execute_result"
    }
   ],
   "source": [
    "# ============preprocessing data==============\n",
    "# convert data type in \"Sex\" columns from object to int\n",
    "titanic[\"Sex\"] = titanic[\"Sex\"].map({\"male\":1, \"female\":2})\n",
    "\n",
    "# fill Nan values in \"Age\" columns\n",
    "titanic[\"Age\"] = titanic[\"Age\"].fillna(titanic[\"Age\"].mean()) \n",
    "\n",
    "# convert data type in \"Age\" from float to int\n",
    "titanic[\"Age\"] = titanic[\"Age\"].astype(\"int\")\n",
    "# ============================================\n",
    "titanic.head()"
   ]
  },
  {
   "cell_type": "code",
   "execution_count": 5,
   "id": "6be101f1",
   "metadata": {},
   "outputs": [
    {
     "name": "stdout",
     "output_type": "stream",
     "text": [
      "<class 'pandas.core.frame.DataFrame'>\n",
      "RangeIndex: 891 entries, 0 to 890\n",
      "Data columns (total 5 columns):\n",
      " #   Column    Non-Null Count  Dtype\n",
      "---  ------    --------------  -----\n",
      " 0   Pclass    891 non-null    int64\n",
      " 1   Sex       891 non-null    int64\n",
      " 2   Age       891 non-null    int64\n",
      " 3   SibSp     891 non-null    int64\n",
      " 4   Survived  891 non-null    int64\n",
      "dtypes: int64(5)\n",
      "memory usage: 34.9 KB\n"
     ]
    }
   ],
   "source": [
    "titanic.info()"
   ]
  },
  {
   "cell_type": "code",
   "execution_count": 6,
   "id": "3162f763",
   "metadata": {},
   "outputs": [
    {
     "name": "stdout",
     "output_type": "stream",
     "text": [
      "============ train set ============\n",
      "X_train: (623, 4), y_train: (623,)\n",
      "============ test  set ============\n",
      "X_test:  (268, 4), y_test:  (268,)\n",
      "===================================\n"
     ]
    }
   ],
   "source": [
    "# split dataset into 7:3\n",
    "X_titanic = titanic.drop([\"Survived\"], axis=1)\n",
    "y_titanic = titanic[\"Survived\"]\n",
    "X_train, X_test, y_train, y_test = train_test_split(X_titanic, y_titanic, test_size=0.3, random_state=42)\n",
    "# ============================================\n",
    "print(f\"============ train set ============\\nX_train: {X_train.shape}, y_train: {y_train.shape}\")\n",
    "print(f\"============ test  set ============\\nX_test:  {X_test.shape}, y_test:  {y_test.shape}\\n===================================\")"
   ]
  },
  {
   "cell_type": "markdown",
   "id": "a3ae0336",
   "metadata": {},
   "source": [
    "### 1.1. Logistic Regression"
   ]
  },
  {
   "cell_type": "code",
   "execution_count": 7,
   "id": "093d864f",
   "metadata": {},
   "outputs": [
    {
     "name": "stdout",
     "output_type": "stream",
     "text": [
      "Accuracy of LR train : 79.29\n",
      "Accuracy of LR test  : 81.72\n"
     ]
    }
   ],
   "source": [
    "# =================train model================\n",
    "# train\n",
    "lr_model = LogisticRegression()\n",
    "lr_model.fit(X_train, y_train)\n",
    "\n",
    "# predict\n",
    "lr_y_train = lr_model.predict(X_train)\n",
    "lr_y_test = lr_model.predict(X_test)\n",
    "# ============================================\n",
    "\n",
    "# ==================Accuracy==================\n",
    "lr_train_acc = round(accuracy_score(y_train, lr_y_train)*100, 2)\n",
    "lr_acc = round(accuracy_score(y_test, lr_y_test)*100, 2)\n",
    "# ============================================\n",
    "print(f\"Accuracy of LR train : {lr_train_acc}\")\n",
    "print(f\"Accuracy of LR test  : {lr_acc}\")"
   ]
  },
  {
   "cell_type": "markdown",
   "id": "19d48cf9",
   "metadata": {},
   "source": [
    "#### Interprete Logistic Regression Model"
   ]
  },
  {
   "cell_type": "code",
   "execution_count": 8,
   "id": "f394f419",
   "metadata": {},
   "outputs": [
    {
     "name": "stdout",
     "output_type": "stream",
     "text": [
      "Logistic Regression Coefficients for Titanic Data:\n",
      "  Feature  Coefficient\n",
      "0  Pclass    -1.012470\n",
      "1     Sex     2.481025\n",
      "2     Age    -0.034253\n",
      "3   SibSp    -0.289395\n"
     ]
    }
   ],
   "source": [
    "coef = pd.DataFrame({'Feature': X_train.columns, 'Coefficient': lr_model.coef_[0]})\n",
    "print(f\"Logistic Regression Coefficients for Titanic Data:\\n{coef}\")"
   ]
  },
  {
   "cell_type": "code",
   "execution_count": 9,
   "id": "5f6cb76e",
   "metadata": {},
   "outputs": [
    {
     "data": {
      "image/png": "[encoded data removed]",
      "text/plain": [
       "<Figure size 720x360 with 1 Axes>"
      ]
     },
     "metadata": {
      "needs_background": "light"
     },
     "output_type": "display_data"
    },
    {
     "name": "stdout",
     "output_type": "stream",
     "text": [
      "\n",
      "- Pclass: The lower number for class (the higher class), the higher chance of survival\n",
      "- Sex\t: The higher number of your sex (the more likely to be female (1 male < 2 female), the higher chance of survival\n",
      "- Age\t: The younger age, the higher chance of survival\n",
      "- SibSp\t: The lower number of brothers, sisters, and spouses, the higher chance of survival\n"
     ]
    }
   ],
   "source": [
    "plt.figure(figsize=(10, 5))\n",
    "sns.barplot(x='Coefficient', y='Feature', data=coef, orient='h')\n",
    "plt.title('Logistic Regression Coefficients for Titanic Data')\n",
    "plt.xlabel('Coefficient Value')\n",
    "plt.ylabel('Feature')\n",
    "plt.show()\n",
    "\n",
    "# In Korean\n",
    "# print(f\"\\n- Pclass: 좌석 등급의 수치가 낮을 수록(좌석 등급이 높을 수록) 생존 확률이 높아짐\")\n",
    "# print(f\"- Sex\\t: 성별의 수치가 높을 수록(여성일 수록(1 남성 < 2 여성)) 생존 확률이 높아짐\")\n",
    "# print(f\"- Age\\t: 나이가 어릴 수록 생존 확률이 높아짐\")\n",
    "# print(f\"- SibSp\\t: 형제, 자매, 배우자의 수가 낮을 수록 생존 확률이 높아짐\")\n",
    "\n",
    "print(f\"\\n- Pclass: The lower number for class (the higher class), the higher chance of survival\")\n",
    "print(f\"- Sex\\t: The higher number of your sex (the more likely to be female (1 male < 2 female), the higher chance of survival\")\n",
    "print(f\"- Age\\t: The younger age, the higher chance of survival\")\n",
    "print(f\"- SibSp\\t: The lower number of brothers, sisters, and spouses, the higher chance of survival\")"
   ]
  },
  {
   "cell_type": "markdown",
   "id": "31ecb39e",
   "metadata": {},
   "source": [
    "### 1.2. LDA"
   ]
  },
  {
   "cell_type": "code",
   "execution_count": 10,
   "id": "6d57c5e3",
   "metadata": {},
   "outputs": [
    {
     "name": "stdout",
     "output_type": "stream",
     "text": [
      "Accuracy of LDA train : 79.78\n",
      "Accuracy of LDA test  : 80.6\n"
     ]
    }
   ],
   "source": [
    "# =================train model================\n",
    "# train\n",
    "lda_model = LinearDiscriminantAnalysis()\n",
    "lda_model.fit(X_train, y_train)\n",
    "\n",
    "# predict\n",
    "lda_y_train = lda_model.predict(X_train)\n",
    "lda_y_test = lda_model.predict(X_test)\n",
    "# ============================================\n",
    "\n",
    "# ==================Accuracy==================\n",
    "lda_train_acc = round(accuracy_score(y_train, lda_y_train)*100, 2)\n",
    "lda_acc = round(accuracy_score(y_test, lda_y_test)*100, 2)\n",
    "# ============================================\n",
    "print(f\"Accuracy of LDA train : {lda_train_acc}\")\n",
    "print(f\"Accuracy of LDA test  : {lda_acc}\")"
   ]
  },
  {
   "cell_type": "markdown",
   "id": "cf144ec6",
   "metadata": {},
   "source": [
    "### 1. 3. QDA"
   ]
  },
  {
   "cell_type": "code",
   "execution_count": 11,
   "id": "12d04833",
   "metadata": {},
   "outputs": [
    {
     "name": "stdout",
     "output_type": "stream",
     "text": [
      "Accuracy of QDA train : 81.38\n",
      "Accuracy of QDA test  : 81.72\n"
     ]
    }
   ],
   "source": [
    "# =================train model================\n",
    "# train\n",
    "qda_model = QuadraticDiscriminantAnalysis()\n",
    "qda_model.fit(X_train, y_train)\n",
    "\n",
    "# predict\n",
    "qda_y_train = qda_model.predict(X_train)\n",
    "qda_y_test = qda_model.predict(X_test)\n",
    "# ============================================\n",
    "\n",
    "# ==================Accuracy==================\n",
    "qda_train_acc = round(accuracy_score(y_train, qda_y_train)*100, 2)\n",
    "qda_acc = round(accuracy_score(y_test, qda_y_test)*100, 2)\n",
    "# ============================================\n",
    "print(f\"Accuracy of QDA train : {qda_train_acc}\")\n",
    "print(f\"Accuracy of QDA test  : {qda_acc}\")"
   ]
  },
  {
   "cell_type": "markdown",
   "id": "3a03c5a9",
   "metadata": {},
   "source": [
    "### 1. 4. Naïve Bayes"
   ]
  },
  {
   "cell_type": "code",
   "execution_count": 12,
   "id": "fd235c88",
   "metadata": {},
   "outputs": [
    {
     "name": "stdout",
     "output_type": "stream",
     "text": [
      "Accuracy of NB train : 77.21\n",
      "Accuracy of NB test  : 77.61\n"
     ]
    }
   ],
   "source": [
    "# =================train model================\n",
    "# train\n",
    "nb_model = GaussianNB()\n",
    "nb_model.fit(X_train, y_train)\n",
    "\n",
    "# predict\n",
    "nb_y_train = nb_model.predict(X_train)\n",
    "nb_y_test = nb_model.predict(X_test)\n",
    "# ============================================\n",
    "\n",
    "# ==================Accuracy==================\n",
    "nb_train_acc = round(accuracy_score(y_train, nb_y_train)*100, 2)\n",
    "nb_acc = round(accuracy_score(y_test, nb_y_test)*100, 2)\n",
    "# ============================================\n",
    "print(f\"Accuracy of NB train : {nb_train_acc}\")\n",
    "print(f\"Accuracy of NB test  : {nb_acc}\")"
   ]
  },
  {
   "cell_type": "markdown",
   "id": "fc14a482",
   "metadata": {},
   "source": [
    "### Result"
   ]
  },
  {
   "cell_type": "code",
   "execution_count": 13,
   "id": "1357dc94",
   "metadata": {},
   "outputs": [
    {
     "name": "stdout",
     "output_type": "stream",
     "text": [
      "================Accuracy==============\n",
      "Model\t\t\t|Train\t|Test\n",
      "------------------------|-------|-----\n",
      "Logistic Regression\t|79.29\t|81.72\n",
      "LDA\t\t\t|79.78\t|80.6\n",
      "QDA\t\t\t|81.38\t|81.72\n",
      "Naïve Bayes\t\t|77.21\t|77.61\n",
      "======================================\n"
     ]
    }
   ],
   "source": [
    "print(\"================Accuracy==============\")\n",
    "print(\"Model\\t\\t\\t|Train\\t|Test\")\n",
    "print(\"------------------------|-------|-----\")\n",
    "print(f\"Logistic Regression\\t|{lr_train_acc}\\t|{lr_acc}\")\n",
    "print(f\"LDA\\t\\t\\t|{lda_train_acc}\\t|{lda_acc}\")\n",
    "print(f\"QDA\\t\\t\\t|{qda_train_acc}\\t|{qda_acc}\")\n",
    "print(f\"Naïve Bayes\\t\\t|{nb_train_acc}\\t|{nb_acc}\")\n",
    "print(\"======================================\")"
   ]
  },
  {
   "cell_type": "markdown",
   "id": "ff8730db",
   "metadata": {},
   "source": [
    "## 2. Bank Note"
   ]
  },
  {
   "cell_type": "code",
   "execution_count": 14,
   "id": "e017f53a",
   "metadata": {},
   "outputs": [
    {
     "data": {
      "text/html": [
       "<div>\n",
       "<style scoped>\n",
       "    .dataframe tbody tr th:only-of-type {\n",
       "        vertical-align: middle;\n",
       "    }\n",
       "\n",
       "    .dataframe tbody tr th {\n",
       "        vertical-align: top;\n",
       "    }\n",
       "\n",
       "    .dataframe thead th {\n",
       "        text-align: right;\n",
       "    }\n",
       "</style>\n",
       "<table border=\"1\" class=\"dataframe\">\n",
       "  <thead>\n",
       "    <tr style=\"text-align: right;\">\n",
       "      <th></th>\n",
       "      <th>var.image</th>\n",
       "      <th>skew.image</th>\n",
       "      <th>entropy.image</th>\n",
       "      <th>class</th>\n",
       "    </tr>\n",
       "  </thead>\n",
       "  <tbody>\n",
       "    <tr>\n",
       "      <th>0</th>\n",
       "      <td>3.62160</td>\n",
       "      <td>8.6661</td>\n",
       "      <td>-0.44699</td>\n",
       "      <td>0</td>\n",
       "    </tr>\n",
       "    <tr>\n",
       "      <th>1</th>\n",
       "      <td>4.54590</td>\n",
       "      <td>8.1674</td>\n",
       "      <td>-1.46210</td>\n",
       "      <td>0</td>\n",
       "    </tr>\n",
       "    <tr>\n",
       "      <th>2</th>\n",
       "      <td>3.86600</td>\n",
       "      <td>-2.6383</td>\n",
       "      <td>0.10645</td>\n",
       "      <td>0</td>\n",
       "    </tr>\n",
       "    <tr>\n",
       "      <th>3</th>\n",
       "      <td>3.45660</td>\n",
       "      <td>9.5228</td>\n",
       "      <td>-3.59440</td>\n",
       "      <td>0</td>\n",
       "    </tr>\n",
       "    <tr>\n",
       "      <th>4</th>\n",
       "      <td>0.32924</td>\n",
       "      <td>-4.4552</td>\n",
       "      <td>-0.98880</td>\n",
       "      <td>0</td>\n",
       "    </tr>\n",
       "  </tbody>\n",
       "</table>\n",
       "</div>"
      ],
      "text/plain": [
       "   var.image  skew.image  entropy.image  class\n",
       "0    3.62160      8.6661       -0.44699      0\n",
       "1    4.54590      8.1674       -1.46210      0\n",
       "2    3.86600     -2.6383        0.10645      0\n",
       "3    3.45660      9.5228       -3.59440      0\n",
       "4    0.32924     -4.4552       -0.98880      0"
      ]
     },
     "execution_count": 14,
     "metadata": {},
     "output_type": "execute_result"
    }
   ],
   "source": [
    "# ================load dataset================\n",
    "banknote = pd.read_csv(\"data/banknote.txt\", sep=\",\", header=None)\n",
    "\n",
    "# rename columns\n",
    "banknote.columns = [\"var.image\", \"skew.image\", \"curtosis.imgae\", \"entropy.image\", \"class\"]\n",
    "\n",
    "# select columns to use\n",
    "banknote = banknote[[\"var.image\", \"skew.image\", \"entropy.image\", \"class\"]]\n",
    "# # ============================================\n",
    "banknote.head()"
   ]
  },
  {
   "cell_type": "code",
   "execution_count": 15,
   "id": "e0e96e9d",
   "metadata": {},
   "outputs": [
    {
     "name": "stdout",
     "output_type": "stream",
     "text": [
      "<class 'pandas.core.frame.DataFrame'>\n",
      "RangeIndex: 1372 entries, 0 to 1371\n",
      "Data columns (total 4 columns):\n",
      " #   Column         Non-Null Count  Dtype  \n",
      "---  ------         --------------  -----  \n",
      " 0   var.image      1372 non-null   float64\n",
      " 1   skew.image     1372 non-null   float64\n",
      " 2   entropy.image  1372 non-null   float64\n",
      " 3   class          1372 non-null   int64  \n",
      "dtypes: float64(3), int64(1)\n",
      "memory usage: 43.0 KB\n"
     ]
    }
   ],
   "source": [
    "banknote.info() # no need to preprocess"
   ]
  },
  {
   "cell_type": "code",
   "execution_count": 16,
   "id": "566fc403",
   "metadata": {},
   "outputs": [
    {
     "name": "stdout",
     "output_type": "stream",
     "text": [
      "============ train set ============\n",
      "X_train: (960, 3), y_train: (960,)\n",
      "============ test  set ============\n",
      "X_test:  (412, 3), y_test:  (412,)\n",
      "===================================\n"
     ]
    }
   ],
   "source": [
    "# split dataset into 7:3\n",
    "X_banknote = banknote.drop([\"class\"], axis=1)\n",
    "y_banknote = banknote[\"class\"]\n",
    "X_train, X_test, y_train, y_test = train_test_split(X_banknote, y_banknote, test_size=0.3, random_state=42)\n",
    "# ============================================\n",
    "print(f\"============ train set ============\\nX_train: {X_train.shape}, y_train: {y_train.shape}\")\n",
    "print(f\"============ test  set ============\\nX_test:  {X_test.shape}, y_test:  {y_test.shape}\\n===================================\")"
   ]
  },
  {
   "cell_type": "markdown",
   "id": "4db238a3",
   "metadata": {},
   "source": [
    "### 2.1. Logistic Regression"
   ]
  },
  {
   "cell_type": "code",
   "execution_count": 17,
   "id": "4abf49e4",
   "metadata": {},
   "outputs": [
    {
     "name": "stdout",
     "output_type": "stream",
     "text": [
      "Accuracy of LR train : 87.92\n",
      "Accuracy of LR test  : 87.62\n"
     ]
    }
   ],
   "source": [
    "# =================train model================\n",
    "# train\n",
    "lr_model = LogisticRegression()\n",
    "lr_model.fit(X_train, y_train)\n",
    "\n",
    "# predict\n",
    "lr_y_train = lr_model.predict(X_train)\n",
    "lr_y_test = lr_model.predict(X_test)\n",
    "# ============================================\n",
    "\n",
    "# ==================Accuracy==================\n",
    "lr_train_acc = round(accuracy_score(y_train, lr_y_train)*100, 2)\n",
    "lr_acc = round(accuracy_score(y_test, lr_y_test)*100, 2)\n",
    "# ============================================\n",
    "print(f\"Accuracy of LR train : {lr_train_acc}\")\n",
    "print(f\"Accuracy of LR test  : {lr_acc}\")"
   ]
  },
  {
   "cell_type": "markdown",
   "id": "dd9fec22",
   "metadata": {},
   "source": [
    "#### Interprete Logistic Regression"
   ]
  },
  {
   "cell_type": "code",
   "execution_count": 18,
   "id": "44b3185a",
   "metadata": {},
   "outputs": [
    {
     "name": "stdout",
     "output_type": "stream",
     "text": [
      "Logistic Regression Coefficients for Titanic Data:\n",
      "         Feature  Coefficient\n",
      "0      var.image    -1.078808\n",
      "1     skew.image    -0.301609\n",
      "2  entropy.image    -0.109653\n"
     ]
    }
   ],
   "source": [
    "coef = pd.DataFrame({'Feature': X_train.columns, 'Coefficient': lr_model.coef_[0]})\n",
    "print(f\"Logistic Regression Coefficients for Titanic Data:\\n{coef}\")"
   ]
  },
  {
   "cell_type": "code",
   "execution_count": 19,
   "id": "8a7a6167",
   "metadata": {},
   "outputs": [
    {
     "data": {
      "image/png": "[encoded data removed]",
      "text/plain": [
       "<Figure size 720x360 with 1 Axes>"
      ]
     },
     "metadata": {
      "needs_background": "light"
     },
     "output_type": "display_data"
    },
    {
     "name": "stdout",
     "output_type": "stream",
     "text": [
      "\n",
      "- var.image: the lower variance of the image, the more likely it is genuine banknote (less likely it is forged banknote)\n",
      "- skew.image: the lower skew of the image, the more likely it is genuine banknote (less likely it is forged banknote)\n",
      "- entropy.image: the lower entropy of the image, the more likely it is genuine banknote (less likely it is forged banknote)\n"
     ]
    }
   ],
   "source": [
    "plt.figure(figsize=(10, 5))\n",
    "sns.barplot(x='Coefficient', y='Feature', data=coef, orient='h')\n",
    "plt.title('Logistic Regression Coefficients for Titanic Data')\n",
    "plt.xlabel('Coefficient Value')\n",
    "plt.ylabel('Feature')\n",
    "plt.show()\n",
    "\n",
    "# In Korean\n",
    "# print(f\"\\n- var.image : 이미지의 분산이 낮을 수록 진폐일 확률이 높아짐(위조 지폐일 확률 낮아짐)\")\n",
    "# print(f\"- skew.image: 이미지의 기울기가 낮을 수록 진폐일 확률이 높아짐(위조 지폐일 확률 낮아짐)\")\n",
    "# print(f\"- skew.image: 이미지의 곡률이 낮을 수록 진폐일 확률이 높아짐(위조 지폐일 확률 낮아짐)\")\n",
    "\n",
    "print(f\"\\n- var.image: the lower variance of the image, the more likely it is genuine banknote (less likely it is forged banknote)\")\n",
    "print(f\"- skew.image: the lower skew of the image, the more likely it is genuine banknote (less likely it is forged banknote)\")\n",
    "print(f\"- entropy.image: the lower entropy of the image, the more likely it is genuine banknote (less likely it is forged banknote)\")"
   ]
  },
  {
   "cell_type": "markdown",
   "id": "deadcdc9",
   "metadata": {},
   "source": [
    "### 2.2. LDA"
   ]
  },
  {
   "cell_type": "code",
   "execution_count": 20,
   "id": "b9ca5827",
   "metadata": {},
   "outputs": [
    {
     "name": "stdout",
     "output_type": "stream",
     "text": [
      "Accuracy of LDA train : 87.92\n",
      "Accuracy of LDA test  : 88.35\n"
     ]
    }
   ],
   "source": [
    "# =================train model================\n",
    "# train\n",
    "lda_model = LinearDiscriminantAnalysis()\n",
    "lda_model.fit(X_train, y_train)\n",
    "\n",
    "# predict\n",
    "lda_y_train = lda_model.predict(X_train)\n",
    "lda_y_test = lda_model.predict(X_test)\n",
    "# ============================================\n",
    "\n",
    "# ==================Accuracy==================\n",
    "lda_train_acc = round(accuracy_score(y_train, lda_y_train)*100, 2)\n",
    "lda_acc = round(accuracy_score(y_test, lda_y_test)*100, 2)\n",
    "# ============================================\n",
    "print(f\"Accuracy of LDA train : {lda_train_acc}\")\n",
    "print(f\"Accuracy of LDA test  : {lda_acc}\")"
   ]
  },
  {
   "cell_type": "markdown",
   "id": "a1f5efa5",
   "metadata": {},
   "source": [
    "### 2.3. QDA "
   ]
  },
  {
   "cell_type": "code",
   "execution_count": 21,
   "id": "0dc431e4",
   "metadata": {},
   "outputs": [
    {
     "name": "stdout",
     "output_type": "stream",
     "text": [
      "Accuracy of QDA train : 89.17\n",
      "Accuracy of QDA test  : 89.08\n"
     ]
    }
   ],
   "source": [
    "# =================train model================\n",
    "# train\n",
    "qda_model = QuadraticDiscriminantAnalysis()\n",
    "qda_model.fit(X_train, y_train)\n",
    "\n",
    "# predict\n",
    "qda_y_train = qda_model.predict(X_train)\n",
    "qda_y_test = qda_model.predict(X_test)\n",
    "# ============================================\n",
    "\n",
    "# ==================Accuracy==================\n",
    "qda_train_acc = round(accuracy_score(y_train, qda_y_train)*100, 2)\n",
    "qda_acc = round(accuracy_score(y_test, qda_y_test)*100, 2)\n",
    "# ============================================\n",
    "print(f\"Accuracy of QDA train : {qda_train_acc}\")\n",
    "print(f\"Accuracy of QDA test  : {qda_acc}\")"
   ]
  },
  {
   "cell_type": "markdown",
   "id": "d4952e19",
   "metadata": {},
   "source": [
    "### 2.4. Naïve Bayes"
   ]
  },
  {
   "cell_type": "code",
   "execution_count": 22,
   "id": "5076485f",
   "metadata": {},
   "outputs": [
    {
     "name": "stdout",
     "output_type": "stream",
     "text": [
      "Accuracy of NB train : 87.71\n",
      "Accuracy of NB test  : 85.44\n"
     ]
    }
   ],
   "source": [
    "# =================train model================\n",
    "# train\n",
    "nb_model = GaussianNB()\n",
    "nb_model.fit(X_train, y_train)\n",
    "\n",
    "# predict\n",
    "nb_y_train = nb_model.predict(X_train)\n",
    "nb_y_test = nb_model.predict(X_test)\n",
    "# ============================================\n",
    "\n",
    "# ==================Accuracy==================\n",
    "nb_train_acc = round(accuracy_score(y_train, nb_y_train)*100, 2)\n",
    "nb_acc = round(accuracy_score(y_test, nb_y_test)*100, 2)\n",
    "# ============================================\n",
    "print(f\"Accuracy of NB train : {nb_train_acc}\")\n",
    "print(f\"Accuracy of NB test  : {nb_acc}\")"
   ]
  },
  {
   "cell_type": "markdown",
   "id": "c2be3fad",
   "metadata": {},
   "source": [
    "### Result"
   ]
  },
  {
   "cell_type": "code",
   "execution_count": 23,
   "id": "915425ca",
   "metadata": {},
   "outputs": [
    {
     "name": "stdout",
     "output_type": "stream",
     "text": [
      "================Accuracy==============\n",
      "Model\t\t\t|Train\t|Test\n",
      "------------------------|-------|-----\n",
      "Logistic Regression\t|87.92\t|87.62\n",
      "LDA\t\t\t|87.92\t|88.35\n",
      "QDA\t\t\t|89.17\t|89.08\n",
      "Naïve Bayes\t\t|87.71\t|85.44\n",
      "======================================\n"
     ]
    }
   ],
   "source": [
    "print(\"================Accuracy==============\")\n",
    "print(\"Model\\t\\t\\t|Train\\t|Test\")\n",
    "print(\"------------------------|-------|-----\")\n",
    "print(f\"Logistic Regression\\t|{lr_train_acc}\\t|{lr_acc}\")\n",
    "print(f\"LDA\\t\\t\\t|{lda_train_acc}\\t|{lda_acc}\")\n",
    "print(f\"QDA\\t\\t\\t|{qda_train_acc}\\t|{qda_acc}\")\n",
    "print(f\"Naïve Bayes\\t\\t|{nb_train_acc}\\t|{nb_acc}\")\n",
    "print(\"======================================\")"
   ]
  }
 ],
 "metadata": {
  "kernelspec": {
   "display_name": "Python 3 (ipykernel)",
   "language": "python",
   "name": "python3"
  },
  "language_info": {
   "codemirror_mode": {
    "name": "ipython",
    "version": 3
   },
   "file_extension": ".py",
   "mimetype": "text/x-python",
   "name": "python",
   "nbconvert_exporter": "python",
   "pygments_lexer": "ipython3",
   "version": "3.9.13"
  }
 },
 "nbformat": 4,
 "nbformat_minor": 5
}
