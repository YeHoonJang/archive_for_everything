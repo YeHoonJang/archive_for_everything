{
 "cells": [
  {
   "cell_type": "code",
   "execution_count": 1,
   "metadata": {
    "collapsed": true
   },
   "outputs": [],
   "source": [
    "import requests\n",
    "from bs4 import BeautifulSoup\n",
    "import urllib\n",
    "from urllib import request\n",
    "import zipfile\n",
    "import os"
   ]
  },
  {
   "cell_type": "code",
   "execution_count": 2,
   "metadata": {
    "collapsed": true
   },
   "outputs": [],
   "source": [
    "req = requests.get('https://www.google.com/googlebooks/uspto-patents-grants-text.html')\n",
    "html = req.text\n",
    "soup = BeautifulSoup(html, 'html.parser')"
   ]
  },
  {
   "cell_type": "markdown",
   "metadata": {},
   "source": [
    "<br>\n",
    "html에서 parser할 태그 확인 → copy selector<br>\n",
    "container > a:nth-child(18)"
   ]
  },
  {
   "cell_type": "code",
   "execution_count": 3,
   "metadata": {
    "scrolled": true
   },
   "outputs": [
    {
     "name": "stdout",
     "output_type": "stream",
     "text": [
      "Start Downloading...\n",
      "\n",
      "ipg150106.zip\n",
      "['ipg150106.zip']\n",
      "Downloading 'ipg150106.zip' is done\n",
      "\n"
     ]
    }
   ],
   "source": [
    "my_url = soup.select('body > a')\n",
    "print(\"Start Downloading...\\n\")\n",
    "\n",
    "file_name_list = []\n",
    "\n",
    "for url in my_url[:1]:\n",
    "    file_name = url.get('href').split('/')[-1]\n",
    "    file_name_list.append(file_name)\n",
    "    print(file_name)\n",
    "    print(file_name_list)\n",
    "    \n",
    "    urllib.request.urlretrieve(url.get('href'), file_name)\n",
    "    print(\"Downloading '\"+file_name+\"' is done\\n\")\n"
   ]
  },
  {
   "cell_type": "code",
   "execution_count": 5,
   "metadata": {},
   "outputs": [
    {
     "name": "stdout",
     "output_type": "stream",
     "text": [
      "C:\\workspace\\code_for_study\\pis\\ipg150106.zip\n",
      "ipg150106.xml ['ipg150106.xml'] ipg150106\n"
     ]
    }
   ],
   "source": [
    "import os\n",
    "\n",
    "if not os.path.isdir(\"C:/workspace/code_for_study/pis/patent_file/\"):\n",
    "    os.mkdir(\"C:/workspace/code_for_study/pis/patent_file/\")\n",
    "\n",
    "unzipped_file_list = []\n",
    "\n",
    "for i in file_name_list:\n",
    "    \n",
    "    file_path = \"C:\\workspace\\code_for_study\\pis\" + \"\\\\\" + str(i)\n",
    "    print(file_path)\n",
    "    \n",
    "    unzipped_name = i.split('.')[0]\n",
    "    p_directory = \"C:/workspace/code_for_study/pis/patent_file/\" + unzipped_name[-6:]\n",
    "    \n",
    "    if not os.path.isdir(p_directory):\n",
    "        os.mkdir(p_directory)\n",
    "    \n",
    "    unzipped_file_name = unzipped_name + \".xml\"\n",
    "    \n",
    "    unzipped_file_list.append(unzipped_file_name)\n",
    "    print(unzipped_file_name, unzipped_file_list, unzipped_name)\n",
    "    \n",
    "    \n",
    "    patent_text = p_directory + \"/\" + str(unzipped_name[-6:]+\".xml\")\n",
    "\n",
    "#     unzipped_file_path = \"C:/workspace/code_for_study/pis/patent_file\"\n",
    "    \n",
    "    patent_zip = zipfile.ZipFile(file_path)\n",
    "    patent_zip.extract(unzipped_file_name,p_directory)\n",
    "    \n",
    "    patent_zip.close()"
   ]
  },
  {
   "cell_type": "code",
   "execution_count": 7,
   "metadata": {},
   "outputs": [
    {
     "data": {
      "text/plain": [
       "'150106'"
      ]
     },
     "execution_count": 7,
     "metadata": {},
     "output_type": "execute_result"
    }
   ],
   "source": [
    "unzipped_name[-6:]"
   ]
  },
  {
   "cell_type": "code",
   "execution_count": 2,
   "metadata": {},
   "outputs": [
    {
     "ename": "NameError",
     "evalue": "name 'unzipped_name' is not defined",
     "output_type": "error",
     "traceback": [
      "\u001b[1;31m---------------------------------------------------------------------------\u001b[0m",
      "\u001b[1;31mNameError\u001b[0m                                 Traceback (most recent call last)",
      "\u001b[1;32m<ipython-input-2-f05b3a96377c>\u001b[0m in \u001b[0;36m<module>\u001b[1;34m()\u001b[0m\n\u001b[0;32m      1\u001b[0m \u001b[1;32mimport\u001b[0m \u001b[0mos\u001b[0m\u001b[1;33m\u001b[0m\u001b[0m\n\u001b[0;32m      2\u001b[0m \u001b[1;33m\u001b[0m\u001b[0m\n\u001b[1;32m----> 3\u001b[1;33m \u001b[0mp_directory\u001b[0m \u001b[1;33m=\u001b[0m \u001b[1;34m\"C:/workspace/code_for_study/pis/patent_file/\"\u001b[0m \u001b[1;33m+\u001b[0m \u001b[0munzipped_name\u001b[0m\u001b[1;33m[\u001b[0m\u001b[1;33m-\u001b[0m\u001b[1;36m6\u001b[0m\u001b[1;33m:\u001b[0m\u001b[1;33m]\u001b[0m\u001b[1;33m\u001b[0m\u001b[0m\n\u001b[0m\u001b[0;32m      4\u001b[0m \u001b[0mpatent_text\u001b[0m \u001b[1;33m=\u001b[0m \u001b[0mp_directory\u001b[0m \u001b[1;33m+\u001b[0m \u001b[1;34m\"/\"\u001b[0m \u001b[1;33m+\u001b[0m \u001b[0mstr\u001b[0m\u001b[1;33m(\u001b[0m\u001b[0munzipped_name\u001b[0m\u001b[1;33m+\u001b[0m\u001b[1;34m\".xml\"\u001b[0m\u001b[1;33m)\u001b[0m\u001b[1;33m\u001b[0m\u001b[0m\n\u001b[0;32m      5\u001b[0m \u001b[1;33m\u001b[0m\u001b[0m\n",
      "\u001b[1;31mNameError\u001b[0m: name 'unzipped_name' is not defined"
     ]
    }
   ],
   "source": [
    "import os\n",
    "\n",
    "p_directory = \"C:/workspace/code_for_study/pis/patent_file/\" + unzipped_name[-6:]\n",
    "patent_text = p_directory + \"/\" + str(unzipped_name+\".xml\")\n",
    "\n",
    "f = open(patent_text, \"r\")\n",
    "patent = ''\n",
    "while True:\n",
    "    line = f.readline()\n",
    "    patent += line\n",
    "    if not line: break\n",
    "    \n",
    "f.close()\n"
   ]
  },
  {
   "cell_type": "code",
   "execution_count": null,
   "metadata": {
    "collapsed": true
   },
   "outputs": [],
   "source": [
    "p_directory"
   ]
  },
  {
   "cell_type": "code",
   "execution_count": null,
   "metadata": {
    "collapsed": true
   },
   "outputs": [],
   "source": [
    "import re"
   ]
  },
  {
   "cell_type": "code",
   "execution_count": null,
   "metadata": {
    "collapsed": true
   },
   "outputs": [],
   "source": [
    "start_index = [i.start() for i in re.finditer(\"\"\"\\<\\?xml version=\"1.0\" encoding=\"UTF-8\"\\?>\"\"\", patent)]"
   ]
  },
  {
   "cell_type": "code",
   "execution_count": null,
   "metadata": {
    "collapsed": true
   },
   "outputs": [],
   "source": [
    "len(patent)"
   ]
  },
  {
   "cell_type": "code",
   "execution_count": 46,
   "metadata": {},
   "outputs": [
    {
     "data": {
      "text/plain": [
       "[0, 15955, 31754, 43998, 55916, 74730]"
      ]
     },
     "execution_count": 46,
     "metadata": {},
     "output_type": "execute_result"
    }
   ],
   "source": [
    "start_index.append(len(patent)+1)\n",
    "start_index"
   ]
  },
  {
   "cell_type": "code",
   "execution_count": 47,
   "metadata": {
    "collapsed": true
   },
   "outputs": [],
   "source": [
    "text_list =[]\n",
    "for start in range(1, len(start_index)):\n",
    "    text_list.append(patent[start_index[start-1]:start_index[start]])\n"
   ]
  },
  {
   "cell_type": "code",
   "execution_count": 48,
   "metadata": {},
   "outputs": [
    {
     "data": {
      "text/plain": [
       "5"
      ]
     },
     "execution_count": 48,
     "metadata": {},
     "output_type": "execute_result"
    }
   ],
   "source": [
    "len(text_list)"
   ]
  },
  {
   "cell_type": "code",
   "execution_count": 54,
   "metadata": {
    "collapsed": true
   },
   "outputs": [],
   "source": [
    "\n",
    "\n",
    "for i in range(len(text_list)):\n",
    "    patent_file = p_directory + \"\\\\\" + unzipped_name[-6:] + \"_\" + str(i+1) + \".xml\"\n",
    "    if not os.path.isfile(patent_file):\n",
    "        with open(patent_file, \"w\") as f:\n",
    "            f.write(text_list[i])\n",
    "            f.close()"
   ]
  },
  {
   "cell_type": "code",
   "execution_count": 6,
   "metadata": {
    "collapsed": true
   },
   "outputs": [],
   "source": [
    "a=[\"1\",\"2\",\"3\"]\n",
    "b=[\"4\",\"5\",\"6\"]"
   ]
  },
  {
   "cell_type": "code",
   "execution_count": 10,
   "metadata": {},
   "outputs": [
    {
     "name": "stdout",
     "output_type": "stream",
     "text": [
      "1 4\n",
      "1\n",
      "4\n",
      "2 5\n",
      "2\n",
      "5\n",
      "3 6\n",
      "3\n",
      "6\n"
     ]
    }
   ],
   "source": [
    "for i, j in zip(a,b):\n",
    "    print(i, j)\n",
    "    print(i)\n",
    "    print(j)"
   ]
  },
  {
   "cell_type": "code",
   "execution_count": 11,
   "metadata": {},
   "outputs": [
    {
     "data": {
      "text/plain": [
       "'3'"
      ]
     },
     "execution_count": 11,
     "metadata": {},
     "output_type": "execute_result"
    }
   ],
   "source": [
    "i"
   ]
  },
  {
   "cell_type": "code",
   "execution_count": 12,
   "metadata": {},
   "outputs": [
    {
     "data": {
      "text/plain": [
       "'6'"
      ]
     },
     "execution_count": 12,
     "metadata": {},
     "output_type": "execute_result"
    }
   ],
   "source": [
    "j"
   ]
  },
  {
   "cell_type": "code",
   "execution_count": 4,
   "metadata": {},
   "outputs": [
    {
     "data": {
      "text/plain": [
       "'C:\\\\workspace\\\\code_for_study\\\\pis'"
      ]
     },
     "execution_count": 4,
     "metadata": {},
     "output_type": "execute_result"
    }
   ],
   "source": [
    "import os\n",
    "d = os.getcwd()\n",
    "d"
   ]
  },
  {
   "cell_type": "code",
   "execution_count": null,
   "metadata": {
    "collapsed": true
   },
   "outputs": [],
   "source": []
  }
 ],
 "metadata": {
  "kernelspec": {
   "display_name": "Python 3",
   "language": "python",
   "name": "python3"
  },
  "language_info": {
   "codemirror_mode": {
    "name": "ipython",
    "version": 3
   },
   "file_extension": ".py",
   "mimetype": "text/x-python",
   "name": "python",
   "nbconvert_exporter": "python",
   "pygments_lexer": "ipython3",
   "version": "3.5.0"
  }
 },
 "nbformat": 4,
 "nbformat_minor": 2
}
