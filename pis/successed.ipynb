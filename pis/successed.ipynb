{
 "cells": [
  {
   "cell_type": "code",
   "execution_count": 2,
   "metadata": {
    "collapsed": true
   },
   "outputs": [],
   "source": [
    "import requests\n",
    "from bs4 import BeautifulSoup\n",
    "import urllib\n",
    "from urllib import request\n",
    "import zipfile\n",
    "import re"
   ]
  },
  {
   "cell_type": "code",
   "execution_count": 3,
   "metadata": {
    "collapsed": true
   },
   "outputs": [],
   "source": [
    "req = requests.get('https://www.google.com/googlebooks/uspto-patents-grants-text.html')\n",
    "html = req.text\n",
    "soup = BeautifulSoup(html, 'html.parser')"
   ]
  },
  {
   "cell_type": "markdown",
   "metadata": {},
   "source": [
    "<br>\n",
    "html에서 parser할 태그 확인 → copy selector<br>\n",
    "container > a:nth-child(18)"
   ]
  },
  {
   "cell_type": "code",
   "execution_count": 4,
   "metadata": {
    "scrolled": true
   },
   "outputs": [
    {
     "name": "stdout",
     "output_type": "stream",
     "text": [
      "Start Downloading...\n",
      "\n",
      "ipg150106.zip\n",
      "['ipg150106.zip']\n",
      "Downloading 'ipg150106.zip' is done\n",
      "\n",
      "ipg150113.zip\n",
      "['ipg150106.zip', 'ipg150113.zip']\n",
      "Downloading 'ipg150113.zip' is done\n",
      "\n"
     ]
    }
   ],
   "source": [
    "my_url = soup.select('body > a')\n",
    "print(\"Start Downloading...\\n\")\n",
    "\n",
    "file_list = []\n",
    "\n",
    "for url in my_url[:2]:\n",
    "    file_name = url.get('href').split('/')[-1]\n",
    "    file_list.append(file_name)\n",
    "    \n",
    "    urllib.request.urlretrieve(url.get('href'), file_name)\n",
    "    print(\"Downloading '\"+file_name+\"' is done\\n\")\n"
   ]
  },
  {
   "cell_type": "code",
   "execution_count": 7,
   "metadata": {},
   "outputs": [
    {
     "name": "stdout",
     "output_type": "stream",
     "text": [
      "C:\\workspace\\code_for_study\\pis\\ipg150106.zip\n",
      "ipg150106.xml ['ipg150106.xml.xml'] ipg150106\n",
      "C:\\workspace\\code_for_study\\pis\\ipg150113.zip\n",
      "ipg150113.xml ['ipg150106.xml.xml', 'ipg150113.xml.xml'] ipg150113\n"
     ]
    }
   ],
   "source": [
    "import os\n",
    "\n",
    "if not os.path.isdir(\"C:/workspace/code_for_study/pis/patent_file/\"):\n",
    "    os.mkdir(\"C:/workspace/code_for_study/pis/patent_file/\")\n",
    "\n",
    "unzipped_list = []\n",
    "\n",
    "for i in file_list:\n",
    "    \n",
    "    file_path = \"C:\\workspace\\code_for_study\\pis\" + \"\\\\\" + str(i)\n",
    "    \n",
    "    unzipped_name = i.split('.')[0]\n",
    "    pd_name = unzipped_name[-6:]\n",
    "    pd_path = \"C:/workspace/code_for_study/pis/patent_file/\" + pd_name\n",
    "    \n",
    "    if not os.path.isdir(pd_path):\n",
    "        os.mkdir(pd_path)\n",
    "    \n",
    "    unzipped_file = unzipped_name + \".xml\"\n",
    "    unzipped_list.append(unzipped_file)\n",
    "    \n",
    "    full_patent = pd_path + \"/\" + str(pd_name+\".xml\")\n",
    "\n",
    "#     unzipped_file_path = \"C:/workspace/code_for_study/pis/patent_file\"\n",
    "    \n",
    "    patent_zip = zipfile.ZipFile(file_path)\n",
    "    patent_zip.extract(unzipped_file, pd_path)\n",
    "    \n",
    "    patent_zip.close()"
   ]
  },
  {
   "cell_type": "code",
   "execution_count": 19,
   "metadata": {},
   "outputs": [
    {
     "name": "stdout",
     "output_type": "stream",
     "text": [
      "1\n"
     ]
    },
    {
     "ename": "KeyboardInterrupt",
     "evalue": "",
     "output_type": "error",
     "traceback": [
      "\u001b[1;31m---------------------------------------------------------------------------\u001b[0m",
      "\u001b[1;31mKeyboardInterrupt\u001b[0m                         Traceback (most recent call last)",
      "\u001b[1;32m<ipython-input-19-080163acb8bb>\u001b[0m in \u001b[0;36m<module>\u001b[1;34m()\u001b[0m\n\u001b[0;32m     10\u001b[0m     \u001b[1;32mwhile\u001b[0m \u001b[1;32mTrue\u001b[0m\u001b[1;33m:\u001b[0m\u001b[1;33m\u001b[0m\u001b[0m\n\u001b[0;32m     11\u001b[0m         \u001b[0mline\u001b[0m \u001b[1;33m=\u001b[0m \u001b[0mf\u001b[0m\u001b[1;33m.\u001b[0m\u001b[0mreadline\u001b[0m\u001b[1;33m(\u001b[0m\u001b[1;33m)\u001b[0m\u001b[1;33m\u001b[0m\u001b[0m\n\u001b[1;32m---> 12\u001b[1;33m         \u001b[0mpatent\u001b[0m \u001b[1;33m+=\u001b[0m \u001b[0mline\u001b[0m\u001b[1;33m\u001b[0m\u001b[0m\n\u001b[0m\u001b[0;32m     13\u001b[0m         \u001b[1;32mif\u001b[0m \u001b[1;32mnot\u001b[0m \u001b[0mline\u001b[0m\u001b[1;33m:\u001b[0m \u001b[1;32mbreak\u001b[0m\u001b[1;33m\u001b[0m\u001b[0m\n\u001b[0;32m     14\u001b[0m     \u001b[0mf\u001b[0m\u001b[1;33m.\u001b[0m\u001b[0mclose\u001b[0m\u001b[1;33m(\u001b[0m\u001b[1;33m)\u001b[0m\u001b[1;33m\u001b[0m\u001b[0m\n",
      "\u001b[1;31mKeyboardInterrupt\u001b[0m: "
     ]
    }
   ],
   "source": [
    "patent_text_list = []\n",
    "\n",
    "for i in unzipped_list:\n",
    "    patent_text = \"C:/workspace/code_for_study/pis/patent_file\" +\"\\\\\" + str(i)\n",
    "#     patent_file_list.append(patent_text)\n",
    "    \n",
    "\n",
    "    f = open(patent_text, \"r\")\n",
    "    patent = ''\n",
    "    \n",
    "    print(\"1\")\n",
    "    while True:\n",
    "        line = f.readline()\n",
    "        patent += line\n",
    "        if not line: break\n",
    "    f.close()\n",
    "    print(\"2\")\n",
    "    \n",
    "    start_index = [i.start() for i in re.finditer(\"\"\"\\<\\?xml version=\"1.0\" encoding=\"UTF-8\"\\?>\"\"\", patent)]\n",
    "    start_index.append(len(patent)+1)\n",
    "    \n",
    "    text_list =[]\n",
    "    for start in range(1, len(start_index)):\n",
    "        text_list.append(patent[start_index[start-1]:start_index[start]])\n",
    "        \n",
    "    for i in range(len(text_list)):\n",
    "        patent_file = \"patent_\" + str(i) + \".xml\"\n",
    "        with open(patent_file, \"w\") as f:\n",
    "            f.write(text_list[i])\n",
    "            f.close()\n",
    "\n"
   ]
  },
  {
   "cell_type": "code",
   "execution_count": null,
   "metadata": {
    "collapsed": true
   },
   "outputs": [],
   "source": []
  }
 ],
 "metadata": {
  "kernelspec": {
   "display_name": "Python 3",
   "language": "python",
   "name": "python3"
  },
  "language_info": {
   "codemirror_mode": {
    "name": "ipython",
    "version": 3
   },
   "file_extension": ".py",
   "mimetype": "text/x-python",
   "name": "python",
   "nbconvert_exporter": "python",
   "pygments_lexer": "ipython3",
   "version": "3.5.0"
  }
 },
 "nbformat": 4,
 "nbformat_minor": 2
}
