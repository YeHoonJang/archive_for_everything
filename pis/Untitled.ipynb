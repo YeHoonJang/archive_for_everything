{
 "cells": [
  {
   "cell_type": "code",
   "execution_count": 1,
   "metadata": {
    "collapsed": true
   },
   "outputs": [],
   "source": [
    "import requests\n",
    "import urllib\n",
    "import queue\n",
    "import threading\n",
    "import zipfile\n",
    "import os\n",
    "import sys\n",
    "from bs4 import BeautifulSoup"
   ]
  },
  {
   "cell_type": "code",
   "execution_count": 3,
   "metadata": {
    "collapsed": true
   },
   "outputs": [],
   "source": [
    "class FileWorker(threading.Thread):\n",
    "    def __init__(self,id,dataQueue):\n",
    "        threading.Thread.__init__(self)\n",
    "        self.id = id\n",
    "        self.dataQueue = dataQueue\n",
    "\n",
    "    def run(self):\n",
    "        while True:\n",
    "            data = self.dataQueue.get()\n",
    "            print(\"[\" + str(self.id)+\" : \" + str(data) + \"]\\n\")\n",
    "            fileName = data.split('/')[-1]\n",
    "            fileSave = open(fileName,\"wb\")\n",
    "            urlFile = urllib.request.urlopen(data)\n",
    "            print(fileName)\n",
    "            if \"Content-Length\" in urlFile.headers:\n",
    "                urlFileByteSize = int(urlFile.headers[\"Content-Length\"])\n",
    "                fileFlag = True\n",
    "                fileDownSize = 0;\n",
    "                blockSize = 8192\n",
    "                while fileFlag:\n",
    "                    buffer = urlFile.read(blockSize)\n",
    "                    if not buffer:\n",
    "                        fileFlag = False\n",
    "                    fileDownSize +=len(buffer)\n",
    "                    fileSave.write(buffer)\n",
    "                fileSave.close()\n",
    "                #filePath = os.getcwd()+fileName\n",
    "                #print(filePath)\n",
    "            self.dataQueue.task_done()"
   ]
  },
  {
   "cell_type": "code",
   "execution_count": null,
   "metadata": {},
   "outputs": [
    {
     "name": "stdout",
     "output_type": "stream",
     "text": [
      "[worker2 : http://storage.googleapis.com/patents/grant_multi_page_imgs/2015/USP2015w04.zip]\n",
      "[worker3 : http://storage.googleapis.com/patents/grant_multi_page_imgs/2015/USP2015w05.zip]\n",
      "[worker1 : http://storage.googleapis.com/patents/grant_multi_page_imgs/2015/USP2015w06.zip]\n",
      "\n",
      "\n",
      "\n",
      "USP2015w06.zip\n",
      "USP2015w04.zip\n",
      "USP2015w05.zip\n"
     ]
    }
   ],
   "source": [
    "def main():\n",
    "    url = 'https://www.google.com/googlebooks/uspto-patents-grants.html'\n",
    "    source = requests.get(url, allow_redirects=False)\n",
    "    pText = source.text\n",
    "    soup  = BeautifulSoup(pText,'html.parser')\n",
    "\n",
    "    urlQueue = queue.Queue()\n",
    "\n",
    "    worker1 = FileWorker(\"worker1\", urlQueue)\n",
    "    worker1.setDaemon(True)\n",
    "    worker2 = FileWorker(\"worker2\", urlQueue)\n",
    "    worker2.setDaemon(True)\n",
    "    worker3 = FileWorker(\"worker3\", urlQueue)\n",
    "    worker3.setDaemon(True)\n",
    "\n",
    "    worker1.start()\n",
    "    worker2.start()\n",
    "    worker3.start()\n",
    "\n",
    "    number =0\n",
    "    for link in soup.findAll('a'):\n",
    "        href = link.get('href')\n",
    "        if(number >2):\n",
    "            break\n",
    "        if href.endswith('zip'):\n",
    "            number = number +1\n",
    "            urlQueue.put(href)\n",
    "\n",
    "    worker1.dataQueue.join()\n",
    "    worker2.dataQueue.join()\n",
    "    worker3.dataQueue.join()\n",
    "\n",
    "if __name__ == \"__main__\":\n",
    "    main()"
   ]
  },
  {
   "cell_type": "code",
   "execution_count": null,
   "metadata": {
    "collapsed": true
   },
   "outputs": [],
   "source": []
  },
  {
   "cell_type": "code",
   "execution_count": null,
   "metadata": {
    "collapsed": true
   },
   "outputs": [],
   "source": []
  }
 ],
 "metadata": {
  "kernelspec": {
   "display_name": "Python 3",
   "language": "python",
   "name": "python3"
  },
  "language_info": {
   "codemirror_mode": {
    "name": "ipython",
    "version": 3
   },
   "file_extension": ".py",
   "mimetype": "text/x-python",
   "name": "python",
   "nbconvert_exporter": "python",
   "pygments_lexer": "ipython3",
   "version": "3.5.0"
  }
 },
 "nbformat": 4,
 "nbformat_minor": 2
}
