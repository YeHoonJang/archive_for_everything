{
 "cells": [
  {
   "cell_type": "markdown",
   "metadata": {},
   "source": [
    "# N배 빠른 크롤링"
   ]
  },
  {
   "cell_type": "code",
   "execution_count": 20,
   "metadata": {},
   "outputs": [
    {
     "name": "stdout",
     "output_type": "stream",
     "text": [
      "[1346269, 2178309, 3524578, 5702887]\n",
      "--- 6.970998048782349 seconds ---\n"
     ]
    }
   ],
   "source": [
    "import time\n",
    "\n",
    "start_time = time.time()\n",
    "\n",
    "def fibo(n): # 회귀적 피보나치 함수\n",
    "    if n == 0:\n",
    "        return 0\n",
    "    elif n == 1:\n",
    "        return 1\n",
    "    else:\n",
    "        return fibo(n-1) + fibo(n-2)\n",
    "\n",
    "num_list = [31, 32, 33, 34]\n",
    "result_list = []\n",
    "for num in num_list:\n",
    "    result_list.append(fibo(num))\n",
    "\n",
    "print(result_list)\n",
    "print(\"--- %s seconds ---\" % (time.time() - start_time))"
   ]
  },
  {
   "cell_type": "code",
   "execution_count": 21,
   "metadata": {},
   "outputs": [
    {
     "name": "stdout",
     "output_type": "stream",
     "text": [
      "--- 0.0661776065826416 seconds ---\n"
     ]
    }
   ],
   "source": [
    "from multiprocessing import Pool\n",
    "import time\n",
    "\n",
    "start_time = time.time()\n",
    "\n",
    "def fibo(n):\n",
    "    if n == 0:\n",
    "        return 0\n",
    "    elif n == 1:\n",
    "        return 1\n",
    "    else:\n",
    "        return fibo(n-1) + fibo(n-2)\n",
    "\n",
    "def print_fibo(n): # 피보나치 결과를 확인합니다.\n",
    "    print(fibo(n))\n",
    "\n",
    "num_list = [31, 32, 33, 34]\n",
    "    \n",
    "pool = Pool(processes=4) # 4개의 프로세스를 사용합니다.\n",
    "pool.apply_async(print_fibo, num_list) # pool에 일을 던져줍니다.\n",
    "\n",
    "print(\"--- %s seconds ---\" % (time.time() - start_time))"
   ]
  },
  {
   "cell_type": "code",
   "execution_count": 22,
   "metadata": {},
   "outputs": [
    {
     "name": "stdout",
     "output_type": "stream",
     "text": [
      "--- 2.5534605979919434 seconds ---\n"
     ]
    }
   ],
   "source": [
    "import urllib.request\n",
    "\n",
    "start_time = time.time()\n",
    "url_list = [\"http://storage.googleapis.com/patents/grant_full_text/2014/ipg140107.zip\",\n",
    "       \"http://storage.googleapis.com/patents/grant_full_text/2015/ipg150113.zip\",\n",
    "       \"http://storage.googleapis.com/patents/grant_full_text/2015/ipg150120.zip\",\n",
    "       \"http://storage.googleapis.com/patents/grant_full_text/2015/ipg150127.zip\"]\n",
    "       \n",
    "for i in url:\n",
    "    urllib.request.urlretrieve(url, \"I20100427-SUPP.zip\")\n",
    "\n",
    "print(\"--- %s seconds ---\" % (time.time() - start_time))"
   ]
  },
  {
   "cell_type": "code",
   "execution_count": 23,
   "metadata": {},
   "outputs": [
    {
     "name": "stdout",
     "output_type": "stream",
     "text": [
      "--- 0.08773446083068848 seconds ---\n"
     ]
    }
   ],
   "source": [
    "import urllib.request\n",
    "from multiprocessing import Pool\n",
    "\n",
    "start_time = time.time()\n",
    "\n",
    "def rt_downloader(header):\n",
    "    \n",
    "    urllib.request.urlretrieve('http://patents.reedtech.com/pgrbfti.php#2005', header)\n",
    "    \n",
    "header = \"I20100427-SUPP.zip\"\n",
    "pool = Pool(processes=4)\n",
    "pool.apply_async(rt_downloader, num_list)\n",
    "print(\"--- %s seconds ---\" % (time.time() - start_time))"
   ]
  },
  {
   "cell_type": "code",
   "execution_count": null,
   "metadata": {
    "collapsed": true
   },
   "outputs": [],
   "source": []
  }
 ],
 "metadata": {
  "kernelspec": {
   "display_name": "Python 3",
   "language": "python",
   "name": "python3"
  },
  "language_info": {
   "codemirror_mode": {
    "name": "ipython",
    "version": 3
   },
   "file_extension": ".py",
   "mimetype": "text/x-python",
   "name": "python",
   "nbconvert_exporter": "python",
   "pygments_lexer": "ipython3",
   "version": "3.5.0"
  }
 },
 "nbformat": 4,
 "nbformat_minor": 2
}
