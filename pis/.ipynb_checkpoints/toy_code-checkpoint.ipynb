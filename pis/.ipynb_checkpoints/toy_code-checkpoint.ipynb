{
 "cells": [
  {
   "cell_type": "code",
   "execution_count": 18,
   "metadata": {
    "collapsed": true
   },
   "outputs": [],
   "source": [
    "import os\n",
    "import re\n",
    "\n",
    "pd_name = '150106'\n",
    "cur_dir = os.getcwd()\n",
    "pd_path = cur_dir + \"\\patent_file\\\\\" + pd_name"
   ]
  },
  {
   "cell_type": "code",
   "execution_count": 19,
   "metadata": {},
   "outputs": [
    {
     "name": "stdout",
     "output_type": "stream",
     "text": [
      "1\n",
      "2\n"
     ]
    }
   ],
   "source": [
    "f = open((pd_path + \"\\\\\" +\"ipg150106.xml\"), \"r\")\n",
    "patent = ''\n",
    "\n",
    "print(\"1\")\n",
    "while True:\n",
    "    line = f.readline()\n",
    "    patent += line\n",
    "    if not line: break\n",
    "f.close()\n",
    "print(\"2\")\n",
    "\n",
    "start_index = [i.start() for i in re.finditer(\"\"\"\\<\\?xml version=\"1.0\" encoding=\"UTF-8\"\\?>\"\"\", patent)]\n",
    "start_index.append(len(patent)+1)\n",
    "\n",
    "text_list =[]\n",
    "for start in range(1, len(start_index)):\n",
    "    text_list.append(patent[start_index[start-1]:start_index[start]])\n"
   ]
  },
  {
   "cell_type": "code",
   "execution_count": 20,
   "metadata": {},
   "outputs": [],
   "source": [
    "for i in range(len(text_list)):\n",
    "    patent_file = pd_path + \"\\\\patent_\" + str(i) + \".xml\"\n",
    "    with open(patent_file, \"w\") as f:\n",
    "        f.write(text_list[i])\n",
    "        f.close()"
   ]
  },
  {
   "cell_type": "code",
   "execution_count": null,
   "metadata": {
    "collapsed": true
   },
   "outputs": [],
   "source": []
  }
 ],
 "metadata": {
  "kernelspec": {
   "display_name": "Python 3",
   "language": "python",
   "name": "python3"
  },
  "language_info": {
   "codemirror_mode": {
    "name": "ipython",
    "version": 3
   },
   "file_extension": ".py",
   "mimetype": "text/x-python",
   "name": "python",
   "nbconvert_exporter": "python",
   "pygments_lexer": "ipython3",
   "version": "3.5.0"
  }
 },
 "nbformat": 4,
 "nbformat_minor": 2
}
