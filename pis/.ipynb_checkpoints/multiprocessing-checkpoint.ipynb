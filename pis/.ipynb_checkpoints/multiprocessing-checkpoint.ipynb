{
 "cells": [
  {
   "cell_type": "code",
   "execution_count": 2,
   "metadata": {
    "collapsed": true
   },
   "outputs": [],
   "source": [
    "import requests\n",
    "from bs4 import BeautifulSoup\n",
    "import urllib\n",
    "from urllib import request\n",
    "import zipfile\n",
    "import os\n",
    "import re\n",
    "import time\n",
    "from multiprocessing import Process"
   ]
  },
  {
   "cell_type": "code",
   "execution_count": 3,
   "metadata": {},
   "outputs": [],
   "source": [
    "def get_myurl(req_url):\n",
    "    req = requests.get(req_url)\n",
    "    html = req.text\n",
    "    soup = BeautifulSoup(html, 'html.parser')\n",
    "    \n",
    "    my_url = soup.select('body > a')\n",
    "    \n",
    "    return my_url"
   ]
  },
  {
   "cell_type": "code",
   "execution_count": 4,
   "metadata": {},
   "outputs": [
    {
     "data": {
      "text/plain": [
       "<a href=\"http://storage.googleapis.com/patents/grant_full_text/2015/ipg150113.zip\">\n",
       "ipg150113.zip</a>"
      ]
     },
     "execution_count": 4,
     "metadata": {},
     "output_type": "execute_result"
    }
   ],
   "source": [
    "get_myurl('https://www.google.com/googlebooks/uspto-patents-grants-text.html')[1]"
   ]
  },
  {
   "cell_type": "code",
   "execution_count": 5,
   "metadata": {},
   "outputs": [],
   "source": [
    "def downloader(my_url):\n",
    "    cur_dir = os.getcwd()\n",
    "    \n",
    "    if not os.path.isdir(str(cur_dir + \"/zipfile/\")):\n",
    "        os.mkdir(str(cur_dir + \"/zipfile/\"))\n",
    "    \n",
    "    fir_dir = str(cur_dir + \"/zipfile/\")\n",
    "\n",
    "    print(\"Start Downloading...\\n\")\n",
    "\n",
    "    zipfile_list = []\n",
    "\n",
    "    file_name =fir_dir + my_url.get('href').split('/')[-1]\n",
    "    print(\"file_name : \", file_name)\n",
    "    #ipg150106.zip\n",
    "    zipfile_list.append(file_name)\n",
    "    #['ipg150106.zip']\n",
    "\n",
    "    urllib.request.urlretrieve(my_url.get('href'), file_name)\n",
    "    print(\"Downloading '\" + file_name + \"' is done\\n\")\n",
    "    print(zipfile_list)\n",
    "        \n",
    "    zip_file = i\n",
    "\n",
    "    if not os.path.isdir(str(fir_dir + \"/patent_file/\")):\n",
    "        os.mkdir(str(fir_dir + \"/patent_file/\"))\n",
    "        pat_dir = str(fir_dir + \"/patent_file/\")\n",
    "\n",
    "    unzipped_list = []\n",
    "    pd_list = []\n",
    "\n",
    "    file_path = fir_dir + \"/\" + str(zip_file)\n",
    "    #C:\\workspace\\code_for_study\\pis\\ipg150106.zip\n",
    "\n",
    "    unzipped_name = zip_file.split('.')[0]\n",
    "    #ipg150106\n",
    "    pd_name = unzipped_name[-6:]\n",
    "    #150106\n",
    "    pd_list.append(pd_name)\n",
    "    #['150106']\n",
    "    pd_path = pat_dir + \"/patent_file/\" + pd_name \n",
    "    #C:\\workspace\\code_for_study\\pis\\patent_file\\150106\n",
    "\n",
    "    if not os.path.isdir(pd_path):\n",
    "        os.mkdir(pd_path)\n",
    "\n",
    "    unzipped_file = unzipped_name + \".xml\"\n",
    "    #150106.xml\n",
    "    # unzipped_list.append(unzipped_file)\n",
    "    #['150106.xml']\n",
    "\n",
    "    full_patent = pd_path + \"/\" + unzipped_file\n",
    "    #C:\\workspace\\code_for_study\\pis\\patent_file\\150106\\150106.xml\n",
    "\n",
    "#     unzipped_file_path = \"C:/workspace/code_for_study/pis/patent_file\"\n",
    "\n",
    "    patent_zip = zipfile.ZipFile(file_path)\n",
    "    patent_zip.extract(unzipped_file, pd_path)\n",
    "\n",
    "    patent_zip.close()\n",
    "\n",
    "    # patent_text_list = []\n",
    "#\n",
    "# for i in pd_list:\n",
    "#     patent_text = \"C:\\workspace\\code_for_study\\pis\\patent_file\\\\\" + str(i)\n",
    "#     #C:\\workspace\\code_for_study\\pis\\patent_file\\150106\n",
    "#\n",
    "# #     patent_file_list.append(patent_text)\n",
    "\n",
    "\n",
    "    f = open(full_patent, \"r\")\n",
    "    patent = ''\n",
    "\n",
    "    print(\"1\")\n",
    "    while True:\n",
    "        line = f.readline()\n",
    "        patent += line\n",
    "        if not line: break\n",
    "    f.close()\n",
    "    print(\"2\")\n",
    "    proc_name = current_process().name\n",
    "    print(proc_name)\n",
    "\n",
    "    start_index = [i.start() for i in re.finditer(\"\"\"\\<\\?xml version=\"1.0\" encoding=\"UTF-8\"\\?>\"\"\", patent)]\n",
    "    start_index.append(len(patent)+1)\n",
    "\n",
    "    text_list =[]\n",
    "    for start in range(1, len(start_index)):\n",
    "        text_list.append(patent[start_index[start-1]:start_index[start]])\n",
    "\n",
    "    for i in range(len(text_list)):\n",
    "        patent_file = \"patent_\" + str(i) + \".xml\"\n",
    "        with open((pd_path + \"/\" + patent_file), \"w\") as f:\n",
    "            f.write(text_list[i])\n",
    "            f.close()\n"
   ]
  },
  {
   "cell_type": "code",
   "execution_count": 6,
   "metadata": {
    "collapsed": true
   },
   "outputs": [],
   "source": [
    "# def unzipping_foldering(zipfile_list):\n",
    "#     for i in zipfile_list:\n",
    "#         zip_file = i\n",
    "#         cur_dir = os.getcwd()\n",
    "\n",
    "#         if not os.path.isdir(str(cur_dir + \"/patent_file/\")):\n",
    "#             os.mkdir(str(cur_dir + \"/patent_file/\"))\n",
    "\n",
    "#         unzipped_list = []\n",
    "#         pd_list = []\n",
    "\n",
    "#         file_path = cur_dir + \"/\" + str(zip_file)\n",
    "#     #C:\\workspace\\code_for_study\\pis\\ipg150106.zip\n",
    "\n",
    "#         unzipped_name = zip_file.split('.')[0]\n",
    "#     #ipg150106\n",
    "#         pd_name = unzipped_name[-6:]\n",
    "#     #150106\n",
    "#         pd_list.append(pd_name)\n",
    "#     #['150106']\n",
    "#         pd_path = cur_dir + \"/patent_file/\" + pd_name \n",
    "#     #C:\\workspace\\code_for_study\\pis\\patent_file\\150106\n",
    "\n",
    "#         if not os.path.isdir(pd_path):\n",
    "#             os.mkdir(pd_path)\n",
    "\n",
    "#         unzipped_file = unzipped_name + \".xml\"\n",
    "#     #150106.xml\n",
    "#     # unzipped_list.append(unzipped_file)\n",
    "#     #['150106.xml']\n",
    "\n",
    "#         full_patent = pd_path + \"/\" + unzipped_file\n",
    "#     #C:\\workspace\\code_for_study\\pis\\patent_file\\150106\\150106.xml\n",
    "\n",
    "# #     unzipped_file_path = \"C:/workspace/code_for_study/pis/patent_file\"\n",
    "\n",
    "#         patent_zip = zipfile.ZipFile(file_path)\n",
    "#         patent_zip.extract(unzipped_file, pd_path)\n",
    "\n",
    "#         patent_zip.close()\n",
    "\n",
    "#     # patent_text_list = []\n",
    "# #\n",
    "# # for i in pd_list:\n",
    "# #     patent_text = \"C:\\workspace\\code_for_study\\pis\\patent_file\\\\\" + str(i)\n",
    "# #     #C:\\workspace\\code_for_study\\pis\\patent_file\\150106\n",
    "# #\n",
    "# # #     patent_file_list.append(patent_text)\n",
    "\n",
    "\n",
    "#         f = open(full_patent, \"r\")\n",
    "#         patent = ''\n",
    "\n",
    "#         print(\"1\")\n",
    "#         while True:\n",
    "#             line = f.readline()\n",
    "#             patent += line\n",
    "#             if not line: break\n",
    "#         f.close()\n",
    "#         print(\"2\")\n",
    "\n",
    "#         start_index = [i.start() for i in re.finditer(\"\"\"\\<\\?xml version=\"1.0\" encoding=\"UTF-8\"\\?>\"\"\", patent)]\n",
    "#         start_index.append(len(patent)+1)\n",
    "\n",
    "#         text_list =[]\n",
    "#         for start in range(1, len(start_index)):\n",
    "#             text_list.append(patent[start_index[start-1]:start_index[start]])\n",
    "\n",
    "#         for i in range(len(text_list)):\n",
    "#             patent_file = \"patent_\" + str(i) + \".xml\"\n",
    "#             with open((pd_path + \"/\" + patent_file), \"w\") as f:\n",
    "#                 f.write(text_list[i])\n",
    "#                 f.close()"
   ]
  },
  {
   "cell_type": "code",
   "execution_count": 7,
   "metadata": {},
   "outputs": [
    {
     "name": "stdout",
     "output_type": "stream",
     "text": [
      "Start Downloading...\n",
      "\n"
     ]
    },
    {
     "ename": "AttributeError",
     "evalue": "'list' object has no attribute 'get'",
     "output_type": "error",
     "traceback": [
      "\u001b[0;31m---------------------------------------------------------------------------\u001b[0m",
      "\u001b[0;31mAttributeError\u001b[0m                            Traceback (most recent call last)",
      "\u001b[0;32m<ipython-input-7-e41644a82f68>\u001b[0m in \u001b[0;36m<module>\u001b[0;34m()\u001b[0m\n\u001b[0;32m----> 1\u001b[0;31m \u001b[0mdownloader\u001b[0m\u001b[0;34m(\u001b[0m\u001b[0mget_myurl\u001b[0m\u001b[0;34m(\u001b[0m\u001b[0;34m'https://www.google.com/googlebooks/uspto-patents-grants-text.html'\u001b[0m\u001b[0;34m)\u001b[0m\u001b[0;34m[\u001b[0m\u001b[0;34m:\u001b[0m\u001b[0;36m1\u001b[0m\u001b[0;34m]\u001b[0m\u001b[0;34m)\u001b[0m\u001b[0;34m\u001b[0m\u001b[0m\n\u001b[0m",
      "\u001b[0;32m<ipython-input-5-f85068e96225>\u001b[0m in \u001b[0;36mdownloader\u001b[0;34m(my_url)\u001b[0m\n\u001b[1;32m     11\u001b[0m     \u001b[0mzipfile_list\u001b[0m \u001b[0;34m=\u001b[0m \u001b[0;34m[\u001b[0m\u001b[0;34m]\u001b[0m\u001b[0;34m\u001b[0m\u001b[0m\n\u001b[1;32m     12\u001b[0m \u001b[0;34m\u001b[0m\u001b[0m\n\u001b[0;32m---> 13\u001b[0;31m     \u001b[0mfile_name\u001b[0m \u001b[0;34m=\u001b[0m\u001b[0mfir_dir\u001b[0m \u001b[0;34m+\u001b[0m \u001b[0mmy_url\u001b[0m\u001b[0;34m.\u001b[0m\u001b[0mget\u001b[0m\u001b[0;34m(\u001b[0m\u001b[0;34m'href'\u001b[0m\u001b[0;34m)\u001b[0m\u001b[0;34m.\u001b[0m\u001b[0msplit\u001b[0m\u001b[0;34m(\u001b[0m\u001b[0;34m'/'\u001b[0m\u001b[0;34m)\u001b[0m\u001b[0;34m[\u001b[0m\u001b[0;34m-\u001b[0m\u001b[0;36m1\u001b[0m\u001b[0;34m]\u001b[0m\u001b[0;34m\u001b[0m\u001b[0m\n\u001b[0m\u001b[1;32m     14\u001b[0m     \u001b[0mprint\u001b[0m\u001b[0;34m(\u001b[0m\u001b[0;34m\"file_name : \"\u001b[0m\u001b[0;34m,\u001b[0m \u001b[0mfile_name\u001b[0m\u001b[0;34m)\u001b[0m\u001b[0;34m\u001b[0m\u001b[0m\n\u001b[1;32m     15\u001b[0m     \u001b[0;31m#ipg150106.zip\u001b[0m\u001b[0;34m\u001b[0m\u001b[0;34m\u001b[0m\u001b[0m\n",
      "\u001b[0;31mAttributeError\u001b[0m: 'list' object has no attribute 'get'"
     ]
    }
   ],
   "source": [
    "downloader(get_myurl('https://www.google.com/googlebooks/uspto-patents-grants-text.html')[:1])"
   ]
  },
  {
   "cell_type": "code",
   "execution_count": 9,
   "metadata": {
    "scrolled": true
   },
   "outputs": [
    {
     "name": "stdout",
     "output_type": "stream",
     "text": [
      "<a href=\"http://storage.googleapis.com/patents/grant_full_text/2015/ipg150106.zip\">\n",
      "ipg150106.zip</a>\n",
      "--- 0.002091646194458008 seconds ---\n",
      "<a href=\"http://storage.googleapis.com/patents/grant_full_text/2015/ipg150113.zip\">\n",
      "ipg150113.zip</a>\n",
      "Start Downloading...\n",
      "\n",
      "--- 0.0056536197662353516 seconds ---\n",
      "<a href=\"http://storage.googleapis.com/patents/grant_full_text/2015/ipg150120.zip\">\n",
      "ipg150120.zip</a>\n"
     ]
    },
    {
     "name": "stderr",
     "output_type": "stream",
     "text": [
      "Process Process-21:\n"
     ]
    },
    {
     "name": "stdout",
     "output_type": "stream",
     "text": [
      "\n",
      "Start Downloading...\n",
      "--- 0.010029792785644531 seconds ---\n",
      "<a href=\"http://storage.googleapis.com/patents/grant_full_text/2015/ipg150127.zip\">\n",
      "ipg150127.zip</a>\n"
     ]
    },
    {
     "name": "stderr",
     "output_type": "stream",
     "text": [
      "Process Process-22:\n",
      "Traceback (most recent call last):\n",
      "  File \"/home/yehoon/miniconda3/envs/pis/lib/python3.5/multiprocessing/process.py\", line 254, in _bootstrap\n",
      "    self.run()\n"
     ]
    },
    {
     "name": "stdout",
     "output_type": "stream",
     "text": [
      "Start Downloading...\n"
     ]
    },
    {
     "name": "stderr",
     "output_type": "stream",
     "text": [
      "  File \"/home/yehoon/miniconda3/envs/pis/lib/python3.5/multiprocessing/process.py\", line 93, in run\n",
      "    self._target(*self._args, **self._kwargs)\n",
      "Traceback (most recent call last):\n"
     ]
    },
    {
     "name": "stdout",
     "output_type": "stream",
     "text": [
      "\n"
     ]
    },
    {
     "name": "stderr",
     "output_type": "stream",
     "text": [
      "  File \"/home/yehoon/miniconda3/envs/pis/lib/python3.5/multiprocessing/process.py\", line 254, in _bootstrap\n",
      "    self.run()\n",
      "Process Process-23:\n",
      "  File \"<ipython-input-5-f85068e96225>\", line 13, in downloader\n",
      "    file_name =fir_dir + my_url.get('href').split('/')[-1]\n",
      "  File \"/home/yehoon/miniconda3/envs/pis/lib/python3.5/site-packages/bs4/element.py\", line 737, in __getattr__\n",
      "    self.__class__.__name__, attr))\n",
      "  File \"/home/yehoon/miniconda3/envs/pis/lib/python3.5/multiprocessing/process.py\", line 93, in run\n",
      "    self._target(*self._args, **self._kwargs)\n"
     ]
    },
    {
     "name": "stdout",
     "output_type": "stream",
     "text": [
      "Start Downloading...\n"
     ]
    },
    {
     "name": "stderr",
     "output_type": "stream",
     "text": [
      "Traceback (most recent call last):\n"
     ]
    },
    {
     "name": "stdout",
     "output_type": "stream",
     "text": [
      "--- 0.015147209167480469 seconds ---\n",
      "<a href=\"http://storage.googleapis.com/patents/grant_full_text/2015/ipg150203.zip\">\n",
      "ipg150203.zip</a>\n"
     ]
    },
    {
     "name": "stderr",
     "output_type": "stream",
     "text": [
      "AttributeError: 'NavigableString' object has no attribute 'get'\n"
     ]
    },
    {
     "name": "stdout",
     "output_type": "stream",
     "text": [
      "\n"
     ]
    },
    {
     "name": "stderr",
     "output_type": "stream",
     "text": [
      "  File \"/home/yehoon/miniconda3/envs/pis/lib/python3.5/multiprocessing/process.py\", line 254, in _bootstrap\n",
      "    self.run()\n",
      "  File \"<ipython-input-5-f85068e96225>\", line 13, in downloader\n",
      "    file_name =fir_dir + my_url.get('href').split('/')[-1]\n",
      "  File \"/home/yehoon/miniconda3/envs/pis/lib/python3.5/multiprocessing/process.py\", line 93, in run\n",
      "    self._target(*self._args, **self._kwargs)\n",
      "Process Process-24:\n",
      "  File \"<ipython-input-5-f85068e96225>\", line 13, in downloader\n",
      "    file_name =fir_dir + my_url.get('href').split('/')[-1]\n",
      "Traceback (most recent call last):\n",
      "  File \"/home/yehoon/miniconda3/envs/pis/lib/python3.5/multiprocessing/process.py\", line 254, in _bootstrap\n",
      "    self.run()\n",
      "  File \"/home/yehoon/miniconda3/envs/pis/lib/python3.5/site-packages/bs4/element.py\", line 737, in __getattr__\n",
      "    self.__class__.__name__, attr))\n"
     ]
    },
    {
     "name": "stdout",
     "output_type": "stream",
     "text": [
      "--- 0.02059316635131836 seconds ---\n",
      "<a href=\"http://storage.googleapis.com/patents/grant_full_text/2015/ipg150210.zip\">\n",
      "ipg150210.zip</a>\n"
     ]
    },
    {
     "name": "stderr",
     "output_type": "stream",
     "text": [
      "  File \"/home/yehoon/miniconda3/envs/pis/lib/python3.5/multiprocessing/process.py\", line 93, in run\n",
      "    self._target(*self._args, **self._kwargs)\n",
      "  File \"<ipython-input-5-f85068e96225>\", line 13, in downloader\n",
      "    file_name =fir_dir + my_url.get('href').split('/')[-1]\n",
      "  File \"/home/yehoon/miniconda3/envs/pis/lib/python3.5/site-packages/bs4/element.py\", line 737, in __getattr__\n",
      "    self.__class__.__name__, attr))\n"
     ]
    },
    {
     "name": "stdout",
     "output_type": "stream",
     "text": [
      "Start Downloading...\n"
     ]
    },
    {
     "name": "stderr",
     "output_type": "stream",
     "text": [
      "AttributeError: 'NavigableString' object has no attribute 'get'\n"
     ]
    },
    {
     "name": "stdout",
     "output_type": "stream",
     "text": [
      "--- 0.026137590408325195 seconds ---\n",
      "<a href=\"http://storage.googleapis.com/patents/grant_full_text/2015/ipg150217.zip\">\n",
      "ipg150217.zip</a>\n",
      "\n"
     ]
    },
    {
     "name": "stderr",
     "output_type": "stream",
     "text": [
      "  File \"/home/yehoon/miniconda3/envs/pis/lib/python3.5/site-packages/bs4/element.py\", line 737, in __getattr__\n",
      "    self.__class__.__name__, attr))\n",
      "AttributeError: 'NavigableString' object has no attribute 'get'\n"
     ]
    },
    {
     "name": "stdout",
     "output_type": "stream",
     "text": [
      "Start Downloading...\n"
     ]
    },
    {
     "name": "stderr",
     "output_type": "stream",
     "text": [
      "Process Process-25:\n"
     ]
    },
    {
     "name": "stdout",
     "output_type": "stream",
     "text": [
      "\n"
     ]
    },
    {
     "name": "stderr",
     "output_type": "stream",
     "text": [
      "AttributeError: 'NavigableString' object has no attribute 'get'\n"
     ]
    },
    {
     "name": "stdout",
     "output_type": "stream",
     "text": [
      "--- 0.029911518096923828 seconds ---\n",
      "<a href=\"http://storage.googleapis.com/patents/grant_full_text/2015/ipg150224.zip\">\n",
      "ipg150224.zip</a>\n",
      "Start Downloading...\n"
     ]
    },
    {
     "name": "stderr",
     "output_type": "stream",
     "text": [
      "Traceback (most recent call last):\n",
      "Process Process-26:\n"
     ]
    },
    {
     "name": "stdout",
     "output_type": "stream",
     "text": [
      "\n"
     ]
    },
    {
     "name": "stderr",
     "output_type": "stream",
     "text": [
      "  File \"/home/yehoon/miniconda3/envs/pis/lib/python3.5/multiprocessing/process.py\", line 254, in _bootstrap\n",
      "    self.run()\n",
      "  File \"/home/yehoon/miniconda3/envs/pis/lib/python3.5/multiprocessing/process.py\", line 93, in run\n",
      "    self._target(*self._args, **self._kwargs)\n",
      "Process Process-27:\n",
      "Traceback (most recent call last):\n"
     ]
    },
    {
     "name": "stdout",
     "output_type": "stream",
     "text": [
      "--- 0.03529024124145508 seconds ---\n",
      "<a href=\"http://storage.googleapis.com/patents/grant_full_text/2015/ipg150303.zip\">\n",
      "ipg150303.zip</a>\n"
     ]
    },
    {
     "name": "stderr",
     "output_type": "stream",
     "text": [
      "  File \"<ipython-input-5-f85068e96225>\", line 13, in downloader\n",
      "    file_name =fir_dir + my_url.get('href').split('/')[-1]\n",
      "  File \"/home/yehoon/miniconda3/envs/pis/lib/python3.5/site-packages/bs4/element.py\", line 737, in __getattr__\n",
      "    self.__class__.__name__, attr))\n",
      "Traceback (most recent call last):\n",
      "  File \"/home/yehoon/miniconda3/envs/pis/lib/python3.5/multiprocessing/process.py\", line 254, in _bootstrap\n",
      "    self.run()\n"
     ]
    },
    {
     "name": "stdout",
     "output_type": "stream",
     "text": [
      "Start Downloading...\n",
      "\n"
     ]
    },
    {
     "name": "stderr",
     "output_type": "stream",
     "text": [
      "AttributeError: 'NavigableString' object has no attribute 'get'\n"
     ]
    },
    {
     "name": "stdout",
     "output_type": "stream",
     "text": [
      "--- 0.03962540626525879 seconds ---\n",
      "<a href=\"http://storage.googleapis.com/patents/grant_full_text/2015/ipg150310.zip\">\n",
      "ipg150310.zip</a>\n"
     ]
    },
    {
     "name": "stderr",
     "output_type": "stream",
     "text": [
      "  File \"/home/yehoon/miniconda3/envs/pis/lib/python3.5/multiprocessing/process.py\", line 93, in run\n",
      "    self._target(*self._args, **self._kwargs)\n",
      "  File \"<ipython-input-5-f85068e96225>\", line 13, in downloader\n",
      "    file_name =fir_dir + my_url.get('href').split('/')[-1]\n",
      "  File \"/home/yehoon/miniconda3/envs/pis/lib/python3.5/multiprocessing/process.py\", line 254, in _bootstrap\n",
      "    self.run()\n",
      "  File \"/home/yehoon/miniconda3/envs/pis/lib/python3.5/site-packages/bs4/element.py\", line 737, in __getattr__\n",
      "    self.__class__.__name__, attr))\n"
     ]
    },
    {
     "name": "stdout",
     "output_type": "stream",
     "text": [
      "Start Downloading...\n"
     ]
    },
    {
     "name": "stderr",
     "output_type": "stream",
     "text": [
      "Process Process-28:\n",
      "AttributeError: 'NavigableString' object has no attribute 'get'\n",
      "Traceback (most recent call last):\n"
     ]
    },
    {
     "name": "stdout",
     "output_type": "stream",
     "text": [
      "--- 0.044719696044921875 seconds ---\n",
      "<a href=\"http://storage.googleapis.com/patents/grant_full_text/2015/ipg150317.zip\">\n",
      "ipg150317.zip</a>\n"
     ]
    },
    {
     "name": "stderr",
     "output_type": "stream",
     "text": [
      "  File \"/home/yehoon/miniconda3/envs/pis/lib/python3.5/multiprocessing/process.py\", line 254, in _bootstrap\n",
      "    self.run()\n"
     ]
    },
    {
     "name": "stdout",
     "output_type": "stream",
     "text": [
      "\n",
      "Start Downloading...\n"
     ]
    },
    {
     "name": "stderr",
     "output_type": "stream",
     "text": [
      "Process Process-29:\n",
      "  File \"/home/yehoon/miniconda3/envs/pis/lib/python3.5/multiprocessing/process.py\", line 93, in run\n",
      "    self._target(*self._args, **self._kwargs)\n",
      "  File \"/home/yehoon/miniconda3/envs/pis/lib/python3.5/multiprocessing/process.py\", line 254, in _bootstrap\n",
      "    self.run()\n",
      "Traceback (most recent call last):\n",
      "  File \"/home/yehoon/miniconda3/envs/pis/lib/python3.5/multiprocessing/process.py\", line 93, in run\n",
      "    self._target(*self._args, **self._kwargs)\n"
     ]
    },
    {
     "name": "stdout",
     "output_type": "stream",
     "text": [
      "\n"
     ]
    },
    {
     "name": "stderr",
     "output_type": "stream",
     "text": [
      "  File \"/home/yehoon/miniconda3/envs/pis/lib/python3.5/multiprocessing/process.py\", line 93, in run\n",
      "    self._target(*self._args, **self._kwargs)\n",
      "  File \"<ipython-input-5-f85068e96225>\", line 13, in downloader\n",
      "    file_name =fir_dir + my_url.get('href').split('/')[-1]\n",
      "  File \"<ipython-input-5-f85068e96225>\", line 13, in downloader\n",
      "    file_name =fir_dir + my_url.get('href').split('/')[-1]\n",
      "  File \"/home/yehoon/miniconda3/envs/pis/lib/python3.5/site-packages/bs4/element.py\", line 737, in __getattr__\n",
      "    self.__class__.__name__, attr))\n",
      "  File \"<ipython-input-5-f85068e96225>\", line 13, in downloader\n",
      "    file_name =fir_dir + my_url.get('href').split('/')[-1]\n",
      "  File \"/home/yehoon/miniconda3/envs/pis/lib/python3.5/site-packages/bs4/element.py\", line 737, in __getattr__\n",
      "    self.__class__.__name__, attr))\n"
     ]
    },
    {
     "name": "stdout",
     "output_type": "stream",
     "text": [
      "--- 0.051412105560302734 seconds ---\n",
      "<a href=\"http://storage.googleapis.com/patents/grant_full_text/2014/ipg140107.zip\">\n",
      "ipg140107.zip</a>\n"
     ]
    },
    {
     "name": "stderr",
     "output_type": "stream",
     "text": [
      "AttributeError: 'NavigableString' object has no attribute 'get'\n",
      "  File \"/home/yehoon/miniconda3/envs/pis/lib/python3.5/site-packages/bs4/element.py\", line 737, in __getattr__\n",
      "    self.__class__.__name__, attr))\n",
      "AttributeError: 'NavigableString' object has no attribute 'get'\n",
      "Process Process-30:\n"
     ]
    },
    {
     "name": "stdout",
     "output_type": "stream",
     "text": [
      "Start Downloading...\n"
     ]
    },
    {
     "name": "stderr",
     "output_type": "stream",
     "text": [
      "AttributeError: 'NavigableString' object has no attribute 'get'\n"
     ]
    },
    {
     "name": "stdout",
     "output_type": "stream",
     "text": [
      "\n"
     ]
    },
    {
     "name": "stderr",
     "output_type": "stream",
     "text": [
      "Process Process-31:\n",
      "Traceback (most recent call last):\n"
     ]
    },
    {
     "name": "stdout",
     "output_type": "stream",
     "text": [
      "--- 0.05765533447265625 seconds ---\n",
      "<a href=\"http://storage.googleapis.com/patents/grant_full_text/2014/ipg140114.zip\">\n",
      "ipg140114.zip</a>\n",
      "Start Downloading...\n"
     ]
    },
    {
     "name": "stderr",
     "output_type": "stream",
     "text": [
      "  File \"/home/yehoon/miniconda3/envs/pis/lib/python3.5/multiprocessing/process.py\", line 254, in _bootstrap\n",
      "    self.run()\n"
     ]
    },
    {
     "name": "stdout",
     "output_type": "stream",
     "text": [
      "--- 0.06071949005126953 seconds ---\n",
      "<a href=\"http://storage.googleapis.com/patents/grant_full_text/2014/ipg140121.zip\">\n",
      "ipg140121.zip</a>\n"
     ]
    },
    {
     "name": "stderr",
     "output_type": "stream",
     "text": [
      "Traceback (most recent call last):\n"
     ]
    },
    {
     "name": "stdout",
     "output_type": "stream",
     "text": [
      "\n"
     ]
    },
    {
     "name": "stderr",
     "output_type": "stream",
     "text": [
      "  File \"/home/yehoon/miniconda3/envs/pis/lib/python3.5/multiprocessing/process.py\", line 254, in _bootstrap\n",
      "    self.run()\n"
     ]
    },
    {
     "name": "stdout",
     "output_type": "stream",
     "text": [
      "Start Downloading...\n"
     ]
    },
    {
     "name": "stderr",
     "output_type": "stream",
     "text": [
      "  File \"/home/yehoon/miniconda3/envs/pis/lib/python3.5/multiprocessing/process.py\", line 93, in run\n",
      "    self._target(*self._args, **self._kwargs)\n",
      "Process Process-32:\n",
      "Process Process-33:\n"
     ]
    },
    {
     "name": "stdout",
     "output_type": "stream",
     "text": [
      "\n"
     ]
    },
    {
     "name": "stderr",
     "output_type": "stream",
     "text": [
      "  File \"/home/yehoon/miniconda3/envs/pis/lib/python3.5/multiprocessing/process.py\", line 93, in run\n",
      "    self._target(*self._args, **self._kwargs)\n",
      "  File \"<ipython-input-5-f85068e96225>\", line 13, in downloader\n",
      "    file_name =fir_dir + my_url.get('href').split('/')[-1]\n"
     ]
    },
    {
     "name": "stdout",
     "output_type": "stream",
     "text": [
      "--- 0.06458425521850586 seconds ---\n",
      "<a href=\"http://storage.googleapis.com/patents/grant_full_text/2014/ipg140128.zip\">\n",
      "ipg140128.zip</a>\n",
      "Start Downloading...\n"
     ]
    },
    {
     "name": "stderr",
     "output_type": "stream",
     "text": [
      "  File \"<ipython-input-5-f85068e96225>\", line 13, in downloader\n",
      "    file_name =fir_dir + my_url.get('href').split('/')[-1]\n",
      "  File \"/home/yehoon/miniconda3/envs/pis/lib/python3.5/site-packages/bs4/element.py\", line 737, in __getattr__\n",
      "    self.__class__.__name__, attr))\n",
      "Traceback (most recent call last):\n",
      "Traceback (most recent call last):\n",
      "  File \"/home/yehoon/miniconda3/envs/pis/lib/python3.5/site-packages/bs4/element.py\", line 737, in __getattr__\n",
      "    self.__class__.__name__, attr))\n",
      "AttributeError: 'NavigableString' object has no attribute 'get'\n"
     ]
    },
    {
     "name": "stdout",
     "output_type": "stream",
     "text": [
      "--- 0.0695793628692627 seconds ---\n",
      "<a href=\"http://storage.googleapis.com/patents/grant_full_text/2014/ipg140204.zip\">\n",
      "ipg140204.zip</a>\n",
      "\n"
     ]
    },
    {
     "name": "stderr",
     "output_type": "stream",
     "text": [
      "AttributeError: 'NavigableString' object has no attribute 'get'\n",
      "  File \"/home/yehoon/miniconda3/envs/pis/lib/python3.5/multiprocessing/process.py\", line 254, in _bootstrap\n",
      "    self.run()\n",
      "  File \"/home/yehoon/miniconda3/envs/pis/lib/python3.5/multiprocessing/process.py\", line 93, in run\n",
      "    self._target(*self._args, **self._kwargs)\n"
     ]
    },
    {
     "name": "stdout",
     "output_type": "stream",
     "text": [
      "Start Downloading...\n"
     ]
    },
    {
     "name": "stderr",
     "output_type": "stream",
     "text": [
      "Process Process-34:\n",
      "  File \"/home/yehoon/miniconda3/envs/pis/lib/python3.5/multiprocessing/process.py\", line 254, in _bootstrap\n",
      "    self.run()\n"
     ]
    },
    {
     "name": "stdout",
     "output_type": "stream",
     "text": [
      "--- 0.0738077163696289 seconds ---\n",
      "<a href=\"http://storage.googleapis.com/patents/grant_full_text/2014/ipg140211.zip\">\n",
      "ipg140211.zip</a>\n"
     ]
    },
    {
     "name": "stderr",
     "output_type": "stream",
     "text": [
      "  File \"<ipython-input-5-f85068e96225>\", line 13, in downloader\n",
      "    file_name =fir_dir + my_url.get('href').split('/')[-1]\n"
     ]
    },
    {
     "name": "stdout",
     "output_type": "stream",
     "text": [
      "\n"
     ]
    },
    {
     "name": "stderr",
     "output_type": "stream",
     "text": [
      "Traceback (most recent call last):\n",
      "  File \"/home/yehoon/miniconda3/envs/pis/lib/python3.5/site-packages/bs4/element.py\", line 737, in __getattr__\n",
      "    self.__class__.__name__, attr))\n",
      "Process Process-35:\n"
     ]
    },
    {
     "name": "stdout",
     "output_type": "stream",
     "text": [
      "Start Downloading...\n"
     ]
    },
    {
     "name": "stderr",
     "output_type": "stream",
     "text": [
      "  File \"/home/yehoon/miniconda3/envs/pis/lib/python3.5/multiprocessing/process.py\", line 93, in run\n",
      "    self._target(*self._args, **self._kwargs)\n",
      "  File \"/home/yehoon/miniconda3/envs/pis/lib/python3.5/multiprocessing/process.py\", line 254, in _bootstrap\n",
      "    self.run()\n"
     ]
    },
    {
     "name": "stdout",
     "output_type": "stream",
     "text": [
      "\n",
      "--- 0.07783389091491699 seconds ---\n",
      "<a href=\"http://storage.googleapis.com/patents/grant_full_text/2014/ipg140218.zip\">\n",
      "ipg140218.zip</a>\n"
     ]
    },
    {
     "name": "stderr",
     "output_type": "stream",
     "text": [
      "  File \"/home/yehoon/miniconda3/envs/pis/lib/python3.5/multiprocessing/process.py\", line 93, in run\n",
      "    self._target(*self._args, **self._kwargs)\n",
      "Traceback (most recent call last):\n",
      "AttributeError: 'NavigableString' object has no attribute 'get'\n",
      "  File \"<ipython-input-5-f85068e96225>\", line 13, in downloader\n",
      "    file_name =fir_dir + my_url.get('href').split('/')[-1]\n",
      "Process Process-36:\n"
     ]
    },
    {
     "name": "stdout",
     "output_type": "stream",
     "text": [
      "Start Downloading...\n"
     ]
    },
    {
     "name": "stderr",
     "output_type": "stream",
     "text": [
      "  File \"/home/yehoon/miniconda3/envs/pis/lib/python3.5/site-packages/bs4/element.py\", line 737, in __getattr__\n",
      "    self.__class__.__name__, attr))\n",
      "  File \"/home/yehoon/miniconda3/envs/pis/lib/python3.5/multiprocessing/process.py\", line 254, in _bootstrap\n",
      "    self.run()\n"
     ]
    },
    {
     "name": "stdout",
     "output_type": "stream",
     "text": [
      "--- 0.08235955238342285 seconds ---\n",
      "<a href=\"http://storage.googleapis.com/patents/grant_full_text/2014/ipg140225.zip\">\n",
      "ipg140225.zip</a>\n"
     ]
    },
    {
     "name": "stderr",
     "output_type": "stream",
     "text": [
      "AttributeError: 'NavigableString' object has no attribute 'get'\n"
     ]
    },
    {
     "name": "stdout",
     "output_type": "stream",
     "text": [
      "\n",
      "Start Downloading...\n"
     ]
    },
    {
     "name": "stderr",
     "output_type": "stream",
     "text": [
      "Traceback (most recent call last):\n",
      "  File \"<ipython-input-5-f85068e96225>\", line 13, in downloader\n",
      "    file_name =fir_dir + my_url.get('href').split('/')[-1]\n",
      "  File \"/home/yehoon/miniconda3/envs/pis/lib/python3.5/multiprocessing/process.py\", line 93, in run\n",
      "    self._target(*self._args, **self._kwargs)\n",
      "  File \"/home/yehoon/miniconda3/envs/pis/lib/python3.5/site-packages/bs4/element.py\", line 737, in __getattr__\n",
      "    self.__class__.__name__, attr))\n",
      "Process Process-37:\n"
     ]
    },
    {
     "name": "stdout",
     "output_type": "stream",
     "text": [
      "--- 0.08620762825012207 seconds ---\n",
      "<a href=\"http://storage.googleapis.com/patents/grant_full_text/2014/ipg140304.zip\">\n",
      "ipg140304.zip</a>\n"
     ]
    },
    {
     "name": "stderr",
     "output_type": "stream",
     "text": [
      "  File \"<ipython-input-5-f85068e96225>\", line 13, in downloader\n",
      "    file_name =fir_dir + my_url.get('href').split('/')[-1]\n",
      "  File \"/home/yehoon/miniconda3/envs/pis/lib/python3.5/site-packages/bs4/element.py\", line 737, in __getattr__\n",
      "    self.__class__.__name__, attr))\n"
     ]
    },
    {
     "name": "stdout",
     "output_type": "stream",
     "text": [
      "\n"
     ]
    },
    {
     "name": "stderr",
     "output_type": "stream",
     "text": [
      "  File \"/home/yehoon/miniconda3/envs/pis/lib/python3.5/multiprocessing/process.py\", line 254, in _bootstrap\n",
      "    self.run()\n"
     ]
    },
    {
     "name": "stdout",
     "output_type": "stream",
     "text": [
      "Start Downloading...\n"
     ]
    },
    {
     "name": "stderr",
     "output_type": "stream",
     "text": [
      "Traceback (most recent call last):\n",
      "AttributeError: 'NavigableString' object has no attribute 'get'\n",
      "Process Process-38:\n",
      "AttributeError: 'NavigableString' object has no attribute 'get'\n",
      "Traceback (most recent call last):\n",
      "  File \"/home/yehoon/miniconda3/envs/pis/lib/python3.5/multiprocessing/process.py\", line 254, in _bootstrap\n",
      "    self.run()\n",
      "  File \"/home/yehoon/miniconda3/envs/pis/lib/python3.5/multiprocessing/process.py\", line 93, in run\n",
      "    self._target(*self._args, **self._kwargs)\n"
     ]
    },
    {
     "name": "stdout",
     "output_type": "stream",
     "text": [
      "\n"
     ]
    },
    {
     "name": "stderr",
     "output_type": "stream",
     "text": [
      "  File \"/home/yehoon/miniconda3/envs/pis/lib/python3.5/multiprocessing/process.py\", line 254, in _bootstrap\n",
      "    self.run()\n",
      "  File \"/home/yehoon/miniconda3/envs/pis/lib/python3.5/multiprocessing/process.py\", line 93, in run\n",
      "    self._target(*self._args, **self._kwargs)\n"
     ]
    },
    {
     "name": "stdout",
     "output_type": "stream",
     "text": [
      "Start Downloading...\n"
     ]
    },
    {
     "name": "stderr",
     "output_type": "stream",
     "text": [
      "  File \"<ipython-input-5-f85068e96225>\", line 13, in downloader\n",
      "    file_name =fir_dir + my_url.get('href').split('/')[-1]\n",
      "  File \"/home/yehoon/miniconda3/envs/pis/lib/python3.5/multiprocessing/process.py\", line 93, in run\n",
      "    self._target(*self._args, **self._kwargs)\n",
      "Process Process-39:\n"
     ]
    },
    {
     "name": "stdout",
     "output_type": "stream",
     "text": [
      "\n"
     ]
    },
    {
     "name": "stderr",
     "output_type": "stream",
     "text": [
      "  File \"<ipython-input-5-f85068e96225>\", line 13, in downloader\n",
      "    file_name =fir_dir + my_url.get('href').split('/')[-1]\n",
      "  File \"/home/yehoon/miniconda3/envs/pis/lib/python3.5/site-packages/bs4/element.py\", line 737, in __getattr__\n",
      "    self.__class__.__name__, attr))\n",
      "  File \"<ipython-input-5-f85068e96225>\", line 13, in downloader\n",
      "    file_name =fir_dir + my_url.get('href').split('/')[-1]\n",
      "Process Process-40:\n",
      "AttributeError: 'NavigableString' object has no attribute 'get'\n",
      "  File \"/home/yehoon/miniconda3/envs/pis/lib/python3.5/site-packages/bs4/element.py\", line 737, in __getattr__\n",
      "    self.__class__.__name__, attr))\n",
      "  File \"/home/yehoon/miniconda3/envs/pis/lib/python3.5/site-packages/bs4/element.py\", line 737, in __getattr__\n",
      "    self.__class__.__name__, attr))\n",
      "Traceback (most recent call last):\n",
      "AttributeError: 'NavigableString' object has no attribute 'get'\n",
      "Traceback (most recent call last):\n",
      "  File \"/home/yehoon/miniconda3/envs/pis/lib/python3.5/multiprocessing/process.py\", line 254, in _bootstrap\n",
      "    self.run()\n",
      "AttributeError: 'NavigableString' object has no attribute 'get'\n",
      "  File \"/home/yehoon/miniconda3/envs/pis/lib/python3.5/multiprocessing/process.py\", line 93, in run\n",
      "    self._target(*self._args, **self._kwargs)\n",
      "  File \"/home/yehoon/miniconda3/envs/pis/lib/python3.5/multiprocessing/process.py\", line 254, in _bootstrap\n",
      "    self.run()\n",
      "  File \"<ipython-input-5-f85068e96225>\", line 13, in downloader\n",
      "    file_name =fir_dir + my_url.get('href').split('/')[-1]\n",
      "  File \"/home/yehoon/miniconda3/envs/pis/lib/python3.5/multiprocessing/process.py\", line 93, in run\n",
      "    self._target(*self._args, **self._kwargs)\n",
      "  File \"<ipython-input-5-f85068e96225>\", line 13, in downloader\n",
      "    file_name =fir_dir + my_url.get('href').split('/')[-1]\n",
      "  File \"/home/yehoon/miniconda3/envs/pis/lib/python3.5/site-packages/bs4/element.py\", line 737, in __getattr__\n",
      "    self.__class__.__name__, attr))\n",
      "  File \"/home/yehoon/miniconda3/envs/pis/lib/python3.5/site-packages/bs4/element.py\", line 737, in __getattr__\n",
      "    self.__class__.__name__, attr))\n",
      "AttributeError: 'NavigableString' object has no attribute 'get'\n",
      "AttributeError: 'NavigableString' object has no attribute 'get'\n"
     ]
    },
    {
     "name": "stdout",
     "output_type": "stream",
     "text": [
      "--- 0.09105396270751953 seconds ---\n"
     ]
    }
   ],
   "source": [
    "if __name__ == '__main__':\n",
    "    \n",
    "    req_urls = ['https://www.google.com/googlebooks/uspto-patents-grants-text.html', \n",
    "#                'https://www.google.com/googlebooks/uspto-patents-applications-text.html'\n",
    "              ]\n",
    "    \n",
    "    for j in req_urls:\n",
    "        req_url = get_myurl(j)\n",
    "        procs = []\n",
    "#         proc = Process(target=downloader)\n",
    "        start_time = time.time()\n",
    "    \n",
    "        for index, i in enumerate(req_url[:20]):\n",
    "            print(i)\n",
    "            proc = Process(target=downloader, args=i)\n",
    "            procs.append(proc)\n",
    "            proc.start()\n",
    "#         unzipping_foldering(downloader(req))\n",
    "\n",
    "            print(\"--- %s seconds ---\" % (time.time() - start_time))\n",
    "\n",
    "    \n",
    "        for proc in procs:\n",
    "            proc.join()"
   ]
  },
  {
   "cell_type": "code",
   "execution_count": null,
   "metadata": {
    "collapsed": true
   },
   "outputs": [],
   "source": []
  }
 ],
 "metadata": {
  "kernelspec": {
   "display_name": "Python 3",
   "language": "python",
   "name": "python3"
  },
  "language_info": {
   "codemirror_mode": {
    "name": "ipython",
    "version": 3
   },
   "file_extension": ".py",
   "mimetype": "text/x-python",
   "name": "python",
   "nbconvert_exporter": "python",
   "pygments_lexer": "ipython3",
   "version": "3.5.0"
  }
 },
 "nbformat": 4,
 "nbformat_minor": 2
}
