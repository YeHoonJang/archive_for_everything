{
 "cells": [
  {
   "cell_type": "code",
   "execution_count": 19,
   "metadata": {
    "collapsed": true
   },
   "outputs": [],
   "source": [
    "import requests\n",
    "from bs4 import BeautifulSoup\n",
    "import urllib\n",
    "from urllib import request\n",
    "import zipfile\n",
    "import os\n",
    "import re\n",
    "import time\n",
    "from multiprocessing import Process"
   ]
  },
  {
   "cell_type": "code",
   "execution_count": 36,
   "metadata": {
    "collapsed": true
   },
   "outputs": [],
   "source": [
    "def get_myurl(req_url):\n",
    "    req = requests.get(req_url)\n",
    "    html = req.text\n",
    "    soup = BeautifulSoup(html, 'html.parser')\n",
    "    \n",
    "    my_url = soup.select('body > a')\n",
    "    \n",
    "    return my_url.get_m"
   ]
  },
  {
   "cell_type": "code",
   "execution_count": 37,
   "metadata": {},
   "outputs": [
    {
     "ename": "AttributeError",
     "evalue": "'list' object has no attribute 'value'",
     "output_type": "error",
     "traceback": [
      "\u001b[0;31m---------------------------------------------------------------------------\u001b[0m",
      "\u001b[0;31mAttributeError\u001b[0m                            Traceback (most recent call last)",
      "\u001b[0;32m<ipython-input-37-9bde73ec7697>\u001b[0m in \u001b[0;36m<module>\u001b[0;34m()\u001b[0m\n\u001b[0;32m----> 1\u001b[0;31m \u001b[0mget_myurl\u001b[0m\u001b[0;34m(\u001b[0m\u001b[0;34m'https://www.google.com/googlebooks/uspto-patents-grants-text.html'\u001b[0m\u001b[0;34m)\u001b[0m\u001b[0;34m[\u001b[0m\u001b[0;36m1\u001b[0m\u001b[0;34m]\u001b[0m\u001b[0;34m\u001b[0m\u001b[0m\n\u001b[0m",
      "\u001b[0;32m<ipython-input-36-e9fa620d2e81>\u001b[0m in \u001b[0;36mget_myurl\u001b[0;34m(req_url)\u001b[0m\n\u001b[1;32m      6\u001b[0m     \u001b[0mmy_url\u001b[0m \u001b[0;34m=\u001b[0m \u001b[0msoup\u001b[0m\u001b[0;34m.\u001b[0m\u001b[0mselect\u001b[0m\u001b[0;34m(\u001b[0m\u001b[0;34m'body > a'\u001b[0m\u001b[0;34m)\u001b[0m\u001b[0;34m\u001b[0m\u001b[0m\n\u001b[1;32m      7\u001b[0m \u001b[0;34m\u001b[0m\u001b[0m\n\u001b[0;32m----> 8\u001b[0;31m     \u001b[0;32mreturn\u001b[0m \u001b[0mmy_url\u001b[0m\u001b[0;34m.\u001b[0m\u001b[0mvalue\u001b[0m\u001b[0;34m(\u001b[0m\u001b[0;34m)\u001b[0m\u001b[0;34m\u001b[0m\u001b[0m\n\u001b[0m",
      "\u001b[0;31mAttributeError\u001b[0m: 'list' object has no attribute 'value'"
     ]
    }
   ],
   "source": [
    "get_myurl('https://www.google.com/googlebooks/uspto-patents-grants-text.html')[1]"
   ]
  },
  {
   "cell_type": "code",
   "execution_count": 25,
   "metadata": {
    "collapsed": true
   },
   "outputs": [],
   "source": [
    "def downloader(my_url):\n",
    "    cur_dir = os.getcwd()\n",
    "    \n",
    "    if not os.path.isdir(str(cur_dir + \"/zipfile/\")):\n",
    "        os.mkdir(str(cur_dir + \"/zipfile/\"))\n",
    "    \n",
    "    fir_dir = str(cur_dir + \"/zipfile/\")\n",
    "\n",
    "    print(\"Start Downloading...\\n\")\n",
    "\n",
    "    zipfile_list = []\n",
    "    print(type(my_url))\n",
    "\n",
    "    file_name =fir_dir + my_url.get('href').split('/')[-1]\n",
    "    print(\"file_name : \", file_name)\n",
    "    #ipg150106.zip\n",
    "    zipfile_list.append(file_name)\n",
    "    #['ipg150106.zip']\n",
    "\n",
    "    urllib.request.urlretrieve(my_url.get('href'), file_name)\n",
    "    print(\"Downloading '\" + file_name + \"' is done\\n\")\n",
    "    print(zipfile_list)\n",
    "        \n",
    "    zip_file = i\n",
    "\n",
    "    if not os.path.isdir(str(fir_dir + \"/patent_file/\")):\n",
    "        os.mkdir(str(fir_dir + \"/patent_file/\"))\n",
    "        pat_dir = str(fir_dir + \"/patent_file/\")\n",
    "\n",
    "    unzipped_list = []\n",
    "    pd_list = []\n",
    "\n",
    "    file_path = fir_dir + \"/\" + str(zip_file)\n",
    "    #C:\\workspace\\code_for_study\\pis\\ipg150106.zip\n",
    "\n",
    "    unzipped_name = zip_file.split('.')[0]\n",
    "    #ipg150106\n",
    "    pd_name = unzipped_name[-6:]\n",
    "    #150106\n",
    "    pd_list.append(pd_name)\n",
    "    #['150106']\n",
    "    pd_path = pat_dir + \"/patent_file/\" + pd_name \n",
    "    #C:\\workspace\\code_for_study\\pis\\patent_file\\150106\n",
    "\n",
    "    if not os.path.isdir(pd_path):\n",
    "        os.mkdir(pd_path)\n",
    "\n",
    "    unzipped_file = unzipped_name + \".xml\"\n",
    "    #150106.xml\n",
    "    # unzipped_list.append(unzipped_file)\n",
    "    #['150106.xml']\n",
    "\n",
    "    full_patent = pd_path + \"/\" + unzipped_file\n",
    "    #C:\\workspace\\code_for_study\\pis\\patent_file\\150106\\150106.xml\n",
    "\n",
    "#     unzipped_file_path = \"C:/workspace/code_for_study/pis/patent_file\"\n",
    "\n",
    "    patent_zip = zipfile.ZipFile(file_path)\n",
    "    patent_zip.extract(unzipped_file, pd_path)\n",
    "\n",
    "    patent_zip.close()\n",
    "\n",
    "    # patent_text_list = []\n",
    "#\n",
    "# for i in pd_list:\n",
    "#     patent_text = \"C:\\workspace\\code_for_study\\pis\\patent_file\\\\\" + str(i)\n",
    "#     #C:\\workspace\\code_for_study\\pis\\patent_file\\150106\n",
    "#\n",
    "# #     patent_file_list.append(patent_text)\n",
    "\n",
    "\n",
    "    f = open(full_patent, \"r\")\n",
    "    patent = ''\n",
    "\n",
    "    print(\"1\")\n",
    "    while True:\n",
    "        line = f.readline()\n",
    "        patent += line\n",
    "        if not line: break\n",
    "    f.close()\n",
    "    print(\"2\")\n",
    "    proc_name = current_process().name\n",
    "    print(proc_name)\n",
    "\n",
    "    start_index = [i.start() for i in re.finditer(\"\"\"\\<\\?xml version=\"1.0\" encoding=\"UTF-8\"\\?>\"\"\", patent)]\n",
    "    start_index.append(len(patent)+1)\n",
    "\n",
    "    text_list =[]\n",
    "    for start in range(1, len(start_index)):\n",
    "        text_list.append(patent[start_index[start-1]:start_index[start]])\n",
    "\n",
    "    for i in range(len(text_list)):\n",
    "        patent_file = \"patent_\" + str(i) + \".xml\"\n",
    "        with open((pd_path + \"/\" + patent_file), \"w\") as f:\n",
    "            f.write(text_list[i])\n",
    "            f.close()\n"
   ]
  },
  {
   "cell_type": "code",
   "execution_count": 26,
   "metadata": {},
   "outputs": [
    {
     "name": "stdout",
     "output_type": "stream",
     "text": [
      "Start Downloading...\n",
      "\n",
      "<class 'list'>\n"
     ]
    },
    {
     "ename": "AttributeError",
     "evalue": "'list' object has no attribute 'get'",
     "output_type": "error",
     "traceback": [
      "\u001b[0;31m---------------------------------------------------------------------------\u001b[0m",
      "\u001b[0;31mAttributeError\u001b[0m                            Traceback (most recent call last)",
      "\u001b[0;32m<ipython-input-26-e41644a82f68>\u001b[0m in \u001b[0;36m<module>\u001b[0;34m()\u001b[0m\n\u001b[0;32m----> 1\u001b[0;31m \u001b[0mdownloader\u001b[0m\u001b[0;34m(\u001b[0m\u001b[0mget_myurl\u001b[0m\u001b[0;34m(\u001b[0m\u001b[0;34m'https://www.google.com/googlebooks/uspto-patents-grants-text.html'\u001b[0m\u001b[0;34m)\u001b[0m\u001b[0;34m[\u001b[0m\u001b[0;34m:\u001b[0m\u001b[0;36m1\u001b[0m\u001b[0;34m]\u001b[0m\u001b[0;34m)\u001b[0m\u001b[0;34m\u001b[0m\u001b[0m\n\u001b[0m",
      "\u001b[0;32m<ipython-input-25-c52f2afd2904>\u001b[0m in \u001b[0;36mdownloader\u001b[0;34m(my_url)\u001b[0m\n\u001b[1;32m     12\u001b[0m     \u001b[0mprint\u001b[0m\u001b[0;34m(\u001b[0m\u001b[0mtype\u001b[0m\u001b[0;34m(\u001b[0m\u001b[0mmy_url\u001b[0m\u001b[0;34m)\u001b[0m\u001b[0;34m)\u001b[0m\u001b[0;34m\u001b[0m\u001b[0m\n\u001b[1;32m     13\u001b[0m \u001b[0;34m\u001b[0m\u001b[0m\n\u001b[0;32m---> 14\u001b[0;31m     \u001b[0mfile_name\u001b[0m \u001b[0;34m=\u001b[0m\u001b[0mfir_dir\u001b[0m \u001b[0;34m+\u001b[0m \u001b[0mmy_url\u001b[0m\u001b[0;34m.\u001b[0m\u001b[0mget\u001b[0m\u001b[0;34m(\u001b[0m\u001b[0;34m'href'\u001b[0m\u001b[0;34m)\u001b[0m\u001b[0;34m.\u001b[0m\u001b[0msplit\u001b[0m\u001b[0;34m(\u001b[0m\u001b[0;34m'/'\u001b[0m\u001b[0;34m)\u001b[0m\u001b[0;34m[\u001b[0m\u001b[0;34m-\u001b[0m\u001b[0;36m1\u001b[0m\u001b[0;34m]\u001b[0m\u001b[0;34m\u001b[0m\u001b[0m\n\u001b[0m\u001b[1;32m     15\u001b[0m     \u001b[0mprint\u001b[0m\u001b[0;34m(\u001b[0m\u001b[0;34m\"file_name : \"\u001b[0m\u001b[0;34m,\u001b[0m \u001b[0mfile_name\u001b[0m\u001b[0;34m)\u001b[0m\u001b[0;34m\u001b[0m\u001b[0m\n\u001b[1;32m     16\u001b[0m     \u001b[0;31m#ipg150106.zip\u001b[0m\u001b[0;34m\u001b[0m\u001b[0;34m\u001b[0m\u001b[0m\n",
      "\u001b[0;31mAttributeError\u001b[0m: 'list' object has no attribute 'get'"
     ]
    }
   ],
   "source": [
    "downloader(get_myurl('https://www.google.com/googlebooks/uspto-patents-grants-text.html')[:1])"
   ]
  },
  {
   "cell_type": "code",
   "execution_count": 34,
   "metadata": {
    "scrolled": true
   },
   "outputs": [
    {
     "name": "stdout",
     "output_type": "stream",
     "text": [
      "<class 'bs4.element.Tag'>\n",
      "<class 'bs4.element.Tag'>\n",
      "--- 1.430511474609375e-05 seconds ---\n",
      "<class 'bs4.element.Tag'>\n",
      "--- 6.604194641113281e-05 seconds ---\n",
      "<class 'bs4.element.Tag'>\n",
      "--- 8.368492126464844e-05 seconds ---\n",
      "<class 'bs4.element.Tag'>\n",
      "--- 0.00012755393981933594 seconds ---\n",
      "<class 'bs4.element.Tag'>\n",
      "--- 0.00014662742614746094 seconds ---\n",
      "<class 'bs4.element.Tag'>\n",
      "--- 0.00016260147094726562 seconds ---\n",
      "<class 'bs4.element.Tag'>\n",
      "--- 0.0002040863037109375 seconds ---\n",
      "<class 'bs4.element.Tag'>\n",
      "--- 0.0002257823944091797 seconds ---\n",
      "<class 'bs4.element.Tag'>\n",
      "--- 0.0002465248107910156 seconds ---\n",
      "<class 'bs4.element.Tag'>\n",
      "--- 0.00026798248291015625 seconds ---\n",
      "<class 'bs4.element.Tag'>\n",
      "--- 0.00028896331787109375 seconds ---\n",
      "<class 'bs4.element.Tag'>\n",
      "--- 0.0003104209899902344 seconds ---\n",
      "<class 'bs4.element.Tag'>\n",
      "--- 0.0003306865692138672 seconds ---\n",
      "<class 'bs4.element.Tag'>\n",
      "--- 0.0003514289855957031 seconds ---\n",
      "<class 'bs4.element.Tag'>\n",
      "--- 0.0007092952728271484 seconds ---\n",
      "<class 'bs4.element.Tag'>\n",
      "--- 0.0007355213165283203 seconds ---\n",
      "<class 'bs4.element.Tag'>\n",
      "--- 0.0008101463317871094 seconds ---\n",
      "<class 'bs4.element.Tag'>\n",
      "--- 0.0008325576782226562 seconds ---\n",
      "<class 'bs4.element.Tag'>\n",
      "--- 0.0008544921875 seconds ---\n",
      "<class 'bs4.element.Tag'>\n",
      "--- 0.0008764266967773438 seconds ---\n"
     ]
    }
   ],
   "source": [
    "if __name__ == '__main__':\n",
    "    \n",
    "    req_urls = ['https://www.google.com/googlebooks/uspto-patents-grants-text.html', \n",
    "#                'https://www.google.com/googlebooks/uspto-patents-applications-text.html'\n",
    "              ]\n",
    "    \n",
    "    for j in req_urls:\n",
    "        req_url = get_myurl(j)\n",
    "\n",
    "        procs = []\n",
    "        start_time = time.time()\n",
    "    \n",
    "        for index, i in enumerate(req_url[:20]):\n",
    "\n",
    "            print(type(i))\n",
    "#             proc = Process(target=downloader, args=i)\n",
    "#             procs.append(proc)\n",
    "#             proc.start()\n",
    "#         unzipping_foldering(downloader(req))\n",
    "\n",
    "            print(\"--- %s seconds ---\" % (time.time() - start_time))\n",
    "\n",
    "    \n",
    "        for proc in procs:\n",
    "            proc.join()"
   ]
  },
  {
   "cell_type": "code",
   "execution_count": null,
   "metadata": {
    "collapsed": true
   },
   "outputs": [],
   "source": []
  },
  {
   "cell_type": "code",
   "execution_count": null,
   "metadata": {
    "collapsed": true
   },
   "outputs": [],
   "source": []
  },
  {
   "cell_type": "code",
   "execution_count": null,
   "metadata": {
    "collapsed": true
   },
   "outputs": [],
   "source": []
  }
 ],
 "metadata": {
  "kernelspec": {
   "display_name": "Python 3",
   "language": "python",
   "name": "python3"
  },
  "language_info": {
   "codemirror_mode": {
    "name": "ipython",
    "version": 3
   },
   "file_extension": ".py",
   "mimetype": "text/x-python",
   "name": "python",
   "nbconvert_exporter": "python",
   "pygments_lexer": "ipython3",
   "version": "3.5.0"
  }
 },
 "nbformat": 4,
 "nbformat_minor": 2
}
