{
 "cells": [
  {
   "cell_type": "code",
   "execution_count": 1,
   "metadata": {},
   "outputs": [],
   "source": [
    "from itertools import combinations"
   ]
  },
  {
   "cell_type": "code",
   "execution_count": 6,
   "metadata": {},
   "outputs": [],
   "source": [
    "def get_team_list():\n",
    "    n = int(input())\n",
    "    all_player_ability = []\n",
    "    for i in range(n):\n",
    "        all_player_ability.append(list(map(int, input().split())))\n",
    "    player_list = [i for i in range(n)]\n",
    "    player_combi = list(combinations(player_list, int(len(player_list)/2)))\n",
    "    start = player_combi[0:int(len(player_combi)/2)]\n",
    "    link = player_combi[int(len(player_combi)/2):]\n",
    "    link = link[::-1]\n",
    "    team_list = list(zip(start, link))\n",
    "    return team_list, all_player_ability"
   ]
  },
  {
   "cell_type": "code",
   "execution_count": 13,
   "metadata": {},
   "outputs": [],
   "source": [
    "def summation(ability, player_idx):\n",
    "    sum_list = []\n",
    "    for i in player_idx:\n",
    "        for j in player_idx:\n",
    "            sum_list.append(ability[i][j] + ability[j][i])\n",
    "    return sum(set(sum_list))"
   ]
  },
  {
   "cell_type": "code",
   "execution_count": 14,
   "metadata": {},
   "outputs": [],
   "source": [
    "def min_score(team_list):\n",
    "    team_score = []\n",
    "    for i in team_list:\n",
    "        start, link = list(i)\n",
    "        start_score = summation(all_player_ability, list(start))\n",
    "        link_score = summation(all_player_ability, list(link))\n",
    "        team_score.append(abs(start_score-link_score))\n",
    "    result = min(set(team_score))\n",
    "    return result"
   ]
  },
  {
   "cell_type": "code",
   "execution_count": 16,
   "metadata": {},
   "outputs": [
    {
     "name": "stdout",
     "output_type": "stream",
     "text": [
      "6\n",
      "0 1 2 3 4 5\n",
      "1 0 2 3 4 5\n",
      "1 2 0 3 4 5\n",
      "1 2 3 0 4 5\n",
      "1 2 3 4 0 5\n",
      "1 2 3 4 5 0\n",
      "2\n"
     ]
    }
   ],
   "source": [
    "team_list, all_player_ability  = get_team_list()\n",
    "min_score = min_score(team_list)\n",
    "print(min_score)"
   ]
  },
  {
   "cell_type": "code",
   "execution_count": null,
   "metadata": {},
   "outputs": [],
   "source": []
  }
 ],
 "metadata": {
  "kernelspec": {
   "display_name": "Python 3",
   "language": "python",
   "name": "python3"
  },
  "language_info": {
   "codemirror_mode": {
    "name": "ipython",
    "version": 3
   },
   "file_extension": ".py",
   "mimetype": "text/x-python",
   "name": "python",
   "nbconvert_exporter": "python",
   "pygments_lexer": "ipython3",
   "version": "3.5.4"
  }
 },
 "nbformat": 4,
 "nbformat_minor": 2
}
