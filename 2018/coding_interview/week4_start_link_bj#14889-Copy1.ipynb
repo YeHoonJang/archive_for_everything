{
 "cells": [
  {
   "cell_type": "code",
   "execution_count": 1,
   "metadata": {},
   "outputs": [],
   "source": [
    "from itertools import combinations\n",
    "import collections"
   ]
  },
  {
   "cell_type": "code",
   "execution_count": 2,
   "metadata": {},
   "outputs": [
    {
     "name": "stdout",
     "output_type": "stream",
     "text": [
      "6\n",
      "0 1 2 3 4 5\n",
      "1 0 2 3 4 5\n",
      "1 2 0 3 4 5\n",
      "1 2 3 0 4 5\n",
      "1 2 3 4 0 5\n",
      "1 2 3 4 5 0\n"
     ]
    }
   ],
   "source": [
    "n = int(input())\n",
    "\n",
    "all_player_ability = []\n",
    "for i in range(n):\n",
    "    player = list(map(int, input().split()))\n",
    "    all_player_ability.append(player)\n",
    "    "
   ]
  },
  {
   "cell_type": "code",
   "execution_count": 3,
   "metadata": {},
   "outputs": [
    {
     "name": "stdout",
     "output_type": "stream",
     "text": [
      "[[0, 1, 2, 3, 4, 5], [1, 0, 2, 3, 4, 5], [1, 2, 0, 3, 4, 5], [1, 2, 3, 0, 4, 5], [1, 2, 3, 4, 0, 5], [1, 2, 3, 4, 5, 0]]\n",
      "6\n"
     ]
    }
   ],
   "source": [
    "print(all_player_ability)\n",
    "print(n)"
   ]
  },
  {
   "cell_type": "code",
   "execution_count": 4,
   "metadata": {},
   "outputs": [
    {
     "name": "stdout",
     "output_type": "stream",
     "text": [
      "[0, 1, 2, 3, 4, 5]\n",
      "[(0, 1, 2), (0, 1, 3), (0, 1, 4), (0, 1, 5), (0, 2, 3), (0, 2, 4), (0, 2, 5), (0, 3, 4), (0, 3, 5), (0, 4, 5), (1, 2, 3), (1, 2, 4), (1, 2, 5), (1, 3, 4), (1, 3, 5), (1, 4, 5), (2, 3, 4), (2, 3, 5), (2, 4, 5), (3, 4, 5)]\n"
     ]
    }
   ],
   "source": [
    "player_list = [i for i in range(n)]\n",
    "print(player_list)\n",
    "player_combi = list(combinations(player_list, int(len(player_list)/2)))\n",
    "print(player_combi)"
   ]
  },
  {
   "cell_type": "code",
   "execution_count": 5,
   "metadata": {
    "scrolled": false
   },
   "outputs": [
    {
     "name": "stdout",
     "output_type": "stream",
     "text": [
      "20\n",
      "1 (0, 1, 2)\n",
      "1 (0, 1, 3)\n",
      "1 (0, 1, 4)\n",
      "1 (0, 1, 5)\n",
      "1 (0, 2, 3)\n",
      "1 (0, 2, 4)\n",
      "1 (0, 2, 5)\n",
      "1 (0, 3, 4)\n",
      "1 (0, 3, 5)\n",
      "1 (0, 4, 5)\n",
      "10\n",
      "[0, 4, 5] [1, 2, 3]\n",
      "[[[0, 1, 2], [3, 4, 5]], [[0, 1, 3], [2, 4, 5]], [[0, 1, 4], [2, 3, 5]], [[0, 1, 5], [2, 3, 4]], [[0, 2, 3], [1, 4, 5]], [[0, 2, 4], [1, 3, 5]], [[0, 2, 5], [1, 3, 4]], [[0, 3, 4], [1, 2, 5]], [[0, 3, 5], [1, 2, 4]], [[0, 4, 5], [1, 2, 3]]]\n",
      "[0, 1, 2, 3, 4, 5]\n"
     ]
    }
   ],
   "source": [
    "print(len(player_combi))\n",
    "\n",
    "count = 0\n",
    "team_list = []\n",
    "for i in range(len(player_combi)):\n",
    "    if player_combi[i][0] == 0:\n",
    "        print(\"1\",player_combi[i])\n",
    "        count+=1\n",
    "#         print(player_permutations[i])\n",
    "        start = []\n",
    "        link = []    \n",
    "        for j in player_list:\n",
    "            if j not in player_combi[i]:\n",
    "                link.append(j)\n",
    "            else:\n",
    "                start.append(j)\n",
    "            if [start, link] not in team_list:\n",
    "                team_list.append([start, link])\n",
    "print(count)\n",
    "print(start, link)\n",
    "print(team_list)\n",
    "print(player_list)"
   ]
  },
  {
   "cell_type": "code",
   "execution_count": 6,
   "metadata": {},
   "outputs": [],
   "source": [
    "# for start, link in team_list:\n",
    "    "
   ]
  },
  {
   "cell_type": "code",
   "execution_count": 7,
   "metadata": {},
   "outputs": [
    {
     "name": "stdout",
     "output_type": "stream",
     "text": [
      "9\n",
      "27\n"
     ]
    }
   ],
   "source": [
    "def summation(ability, player_idx):\n",
    "    sum_list = []\n",
    "    for i in player_idx:\n",
    "        for j in player_idx:\n",
    "            if not i == j:\n",
    "                addition = ability[i][j] + ability[j][i]\n",
    "                if addition not in sum_list:\n",
    "                    sum_list.append(addition)\n",
    "    return sum(sum_list)\n",
    "print(summation(all_player_ability, team_list[0][0]))\n",
    "print(summation(all_player_ability, team_list[0][1]))"
   ]
  },
  {
   "cell_type": "code",
   "execution_count": 8,
   "metadata": {},
   "outputs": [],
   "source": [
    "def min_score(team_list):\n",
    "    team_score = []\n",
    "    for i in team_list:\n",
    "        start, link = i\n",
    "        start_score = summation(all_player_ability, start)\n",
    "        link_score = summation(all_player_ability, link)\n",
    "        team_score.append(abs(start_score-link_score))\n",
    "    return min(team_score)"
   ]
  },
  {
   "cell_type": "code",
   "execution_count": 9,
   "metadata": {},
   "outputs": [
    {
     "data": {
      "text/plain": [
       "2"
      ]
     },
     "execution_count": 9,
     "metadata": {},
     "output_type": "execute_result"
    }
   ],
   "source": [
    "min_score(team_list)"
   ]
  },
  {
   "cell_type": "code",
   "execution_count": null,
   "metadata": {},
   "outputs": [],
   "source": []
  }
 ],
 "metadata": {
  "kernelspec": {
   "display_name": "Python 3",
   "language": "python",
   "name": "python3"
  },
  "language_info": {
   "codemirror_mode": {
    "name": "ipython",
    "version": 3
   },
   "file_extension": ".py",
   "mimetype": "text/x-python",
   "name": "python",
   "nbconvert_exporter": "python",
   "pygments_lexer": "ipython3",
   "version": "3.5.4"
  }
 },
 "nbformat": 4,
 "nbformat_minor": 2
}
