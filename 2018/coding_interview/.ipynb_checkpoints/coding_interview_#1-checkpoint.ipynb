{
 "cells": [
  {
   "cell_type": "markdown",
   "metadata": {},
   "source": [
    "<h3> 1-1 문자열 중복 테스트</h3>"
   ]
  },
  {
   "cell_type": "code",
   "execution_count": 12,
   "metadata": {},
   "outputs": [],
   "source": [
    "import unittest\n",
    "\n",
    "def is_unique_char(str):\n",
    "    #ASCII로 문자는 총 256개임, 만약 길이가 256이 넘으면 적어도 하나는 중복\n",
    "    if len(str) > 256:\n",
    "        return False\n",
    "    \n",
    "    #hash를 False로 초기화\n",
    "    hash = [False] * 256\n",
    "    \n",
    "    for char in str:\n",
    "        #해당 char의 hash idx가 True면 한번은 나왔다는 말\n",
    "        if hash[ord(char)] is True:\n",
    "            return False\n",
    "        else:\n",
    "            hash[ord[char]] = True\n",
    "    return True\n",
    "\n",
    "class isUniqueCharsTest(unittest.TestCase):\n",
    "    def test(self):\n",
    "        input_unique = 'abcde'\n",
    "        input_not_unique = 'abcdea'\n",
    "        self.assertTrue(is_unique_char(input_unique))\n",
    "        self.assertTrue(is_unique_char(input_not_unique))"
   ]
  },
  {
   "cell_type": "code",
   "execution_count": 13,
   "metadata": {},
   "outputs": [
    {
     "data": {
      "text/plain": [
       "<__main__.isUniqueCharsTest testMethod=runTest>"
      ]
     },
     "execution_count": 13,
     "metadata": {},
     "output_type": "execute_result"
    }
   ],
   "source": [
    "isUniqueCharsTest()"
   ]
  },
  {
   "cell_type": "markdown",
   "metadata": {},
   "source": [
    "<h3> 1-2 문자열 뒤집기 알고리즘 </h3>"
   ]
  },
  {
   "cell_type": "code",
   "execution_count": 14,
   "metadata": {},
   "outputs": [],
   "source": [
    "def reverse_string(str):\n",
    "    stack = []\n",
    "    for char in str:\n",
    "        stack.append(char)\n",
    "    \n",
    "    result = \"\"\n",
    "    \n",
    "    while (len(stack) > 0):\n",
    "        result += stack.pop()\n",
    "    \n",
    "    return result"
   ]
  },
  {
   "cell_type": "code",
   "execution_count": 15,
   "metadata": {},
   "outputs": [
    {
     "data": {
      "text/plain": [
       "'!dlroW ,olleH'"
      ]
     },
     "execution_count": 15,
     "metadata": {},
     "output_type": "execute_result"
    }
   ],
   "source": [
    "reverse_string(\"Hello, World!\")"
   ]
  },
  {
   "cell_type": "markdown",
   "metadata": {},
   "source": [
    "<h3> 1-3 anagram, 문자열 2개를 입력 받아 순열인지 확인 </h3>"
   ]
  },
  {
   "cell_type": "code",
   "execution_count": 18,
   "metadata": {},
   "outputs": [],
   "source": [
    "def anagram(str_1, str_2):\n",
    "    if ''.join(sorted(str_1.lower())).strip() == ''.join(sorted(str_2.lower())).strip():\n",
    "        return True\n",
    "    else:\n",
    "        return False"
   ]
  },
  {
   "cell_type": "code",
   "execution_count": 19,
   "metadata": {},
   "outputs": [
    {
     "data": {
      "text/plain": [
       "True"
      ]
     },
     "execution_count": 19,
     "metadata": {},
     "output_type": "execute_result"
    }
   ],
   "source": [
    "anagram(\"never enough\", \"NevEr EnoUgh\")"
   ]
  },
  {
   "cell_type": "markdown",
   "metadata": {},
   "source": [
    "<h3> 1-4 공백을 %20으로 바꿔주는 알고리즘 </h3>"
   ]
  },
  {
   "cell_type": "code",
   "execution_count": 20,
   "metadata": {},
   "outputs": [],
   "source": [
    "def change_space_to_20per(str):\n",
    "    return str.strip().replace(\" \", \"%20\")"
   ]
  },
  {
   "cell_type": "code",
   "execution_count": 22,
   "metadata": {},
   "outputs": [
    {
     "data": {
      "text/plain": [
       "'Mr.%20John%20Smith'"
      ]
     },
     "execution_count": 22,
     "metadata": {},
     "output_type": "execute_result"
    }
   ],
   "source": [
    "change_space_to_20per(\"Mr. John Smith\")"
   ]
  },
  {
   "cell_type": "markdown",
   "metadata": {},
   "source": [
    "<h3> 1-5 같은 문자 반복 횟수를 이용한 문자열 압축</h3>"
   ]
  },
  {
   "cell_type": "code",
   "execution_count": 46,
   "metadata": {},
   "outputs": [],
   "source": [
    "def compressed(input):\n",
    "    buffer = None\n",
    "    output = \"\"\n",
    "    cnt = 1\n",
    "    \n",
    "    for char in input:\n",
    "        if buffer is None:\n",
    "            output += char\n",
    "            buffer = char\n",
    "        else:\n",
    "            if buffer == char:\n",
    "                cnt += 1\n",
    "            else:\n",
    "                output += str(cnt)\n",
    "                cnt = 1 \n",
    "                output += char\n",
    "                buffer = char\n",
    "    output += str(cnt)\n",
    "    \n",
    "    if len(output) > len(input):\n",
    "        return input\n",
    "    else:\n",
    "        return output"
   ]
  },
  {
   "cell_type": "code",
   "execution_count": 47,
   "metadata": {},
   "outputs": [
    {
     "data": {
      "text/plain": [
       "'a3s2d2s5'"
      ]
     },
     "execution_count": 47,
     "metadata": {},
     "output_type": "execute_result"
    }
   ],
   "source": [
    "compressed(\"aaassddsssss\")"
   ]
  },
  {
   "cell_type": "code",
   "execution_count": null,
   "metadata": {},
   "outputs": [],
   "source": []
  }
 ],
 "metadata": {
  "kernelspec": {
   "display_name": "Python 3",
   "language": "python",
   "name": "python3"
  },
  "language_info": {
   "codemirror_mode": {
    "name": "ipython",
    "version": 3
   },
   "file_extension": ".py",
   "mimetype": "text/x-python",
   "name": "python",
   "nbconvert_exporter": "python",
   "pygments_lexer": "ipython3",
   "version": "3.5.4"
  }
 },
 "nbformat": 4,
 "nbformat_minor": 2
}
