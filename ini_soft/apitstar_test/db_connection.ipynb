{
 "cells": [
  {
   "cell_type": "code",
   "execution_count": 1,
   "metadata": {},
   "outputs": [],
   "source": [
    "import pymysql"
   ]
  },
  {
   "cell_type": "code",
   "execution_count": 2,
   "metadata": {},
   "outputs": [
    {
     "data": {
      "text/plain": [
       "'2018-07-16 01:02:33'"
      ]
     },
     "execution_count": 2,
     "metadata": {},
     "output_type": "execute_result"
    }
   ],
   "source": [
    "from time import gmtime, strftime\n",
    "update_time = strftime(\"%Y-%m-%d %H:%M:%S\", gmtime())\n",
    "update_time"
   ]
  },
  {
   "cell_type": "code",
   "execution_count": 3,
   "metadata": {},
   "outputs": [],
   "source": [
    "# import datetime\n",
    "# update_time = datetime.datetime.now()\n",
    "# update_time.hour\n",
    "# query_time = \"%s-%s-%s %s:%s:%s\" % (update_time.year, update_time.month, update_time.day, update_time.hour, update_time.minute, update_time.second)\n",
    "# query_time"
   ]
  },
  {
   "cell_type": "code",
   "execution_count": 11,
   "metadata": {},
   "outputs": [
    {
     "data": {
      "text/plain": [
       "'2018-07-16 10:19:19'"
      ]
     },
     "execution_count": 11,
     "metadata": {},
     "output_type": "execute_result"
    }
   ],
   "source": [
    "from datetime import datetime\n",
    "now = datetime.now()\n",
    "id =1\n",
    "formatted_date = now.strftime('%Y-%m-%d %H:%M:%S')\n",
    "formatted_date"
   ]
  },
  {
   "cell_type": "code",
   "execution_count": 33,
   "metadata": {
    "scrolled": true
   },
   "outputs": [],
   "source": [
    "from datetime import datetime\n",
    "now = datetime.now()\n",
    "formatted_date = now.strftime('%Y-%m-%d %H:%M:%S')\n",
    "\n",
    "conn = pymysql.connect(host='localhost', user='root', password='ini6223',\n",
    "                       db='wordpress', charset='utf8')\n",
    "\n",
    "video_id = 42\n",
    "curs = conn.cursor()\n",
    "sql = \"UPDATE wp_uploaded_video SET status='delete', uploaded_time=%s WHERE video_id=%s\"\n",
    "curs.execute(sql, (formatted_date, video_id))\n",
    "conn.commit()"
   ]
  },
  {
   "cell_type": "code",
   "execution_count": 28,
   "metadata": {},
   "outputs": [
    {
     "ename": "SyntaxError",
     "evalue": "invalid syntax (<ipython-input-28-ede579fe6d70>, line 1)",
     "output_type": "error",
     "traceback": [
      "\u001b[0;36m  File \u001b[0;32m\"<ipython-input-28-ede579fe6d70>\"\u001b[0;36m, line \u001b[0;32m1\u001b[0m\n\u001b[0;31m    function update_video_status($db, $video_id) {\u001b[0m\n\u001b[0m                               ^\u001b[0m\n\u001b[0;31mSyntaxError\u001b[0m\u001b[0;31m:\u001b[0m invalid syntax\n"
     ]
    }
   ],
   "source": []
  }
 ],
 "metadata": {
  "kernelspec": {
   "display_name": "Python 3",
   "language": "python",
   "name": "python3"
  },
  "language_info": {
   "codemirror_mode": {
    "name": "ipython",
    "version": 3
   },
   "file_extension": ".py",
   "mimetype": "text/x-python",
   "name": "python",
   "nbconvert_exporter": "python",
   "pygments_lexer": "ipython3",
   "version": "3.5.5"
  }
 },
 "nbformat": 4,
 "nbformat_minor": 2
}
