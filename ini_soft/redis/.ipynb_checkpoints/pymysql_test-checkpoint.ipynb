{
 "cells": [
  {
   "cell_type": "code",
   "execution_count": 4,
   "metadata": {},
   "outputs": [],
   "source": [
    "from datetime import datetime\n",
    "new_date = datetime.now().strftime(\"\"\"%Y-%m-%d %H:%M:%S\"\"\")\n",
    "cid = 1\n",
    "content_levle = 'silver'\n",
    "\n",
    "sql = \"insert into table values ( \" + str(cid) + \", \" + new_date + \", now() , '\" + content_levle + \"')\""
   ]
  },
  {
   "cell_type": "code",
   "execution_count": 6,
   "metadata": {},
   "outputs": [
    {
     "data": {
      "text/plain": [
       "\"insert into table values ( 1, 2018-07-25 14:21:59, now() , 'silver')\""
      ]
     },
     "execution_count": 6,
     "metadata": {},
     "output_type": "execute_result"
    }
   ],
   "source": [
    "sql"
   ]
  },
  {
   "cell_type": "code",
   "execution_count": 14,
   "metadata": {},
   "outputs": [
    {
     "data": {
      "text/plain": [
       "(((2018, 7, 24, 20, 44, 13),),)"
      ]
     },
     "execution_count": 14,
     "metadata": {},
     "output_type": "execute_result"
    }
   ],
   "source": [
    "a = (((2018, 7, 24, 20, 44, 13),),)\n",
    "a"
   ]
  },
  {
   "cell_type": "code",
   "execution_count": 45,
   "metadata": {},
   "outputs": [],
   "source": [
    "b = a[0][0]"
   ]
  },
  {
   "cell_type": "code",
   "execution_count": 46,
   "metadata": {},
   "outputs": [
    {
     "data": {
      "text/plain": [
       "(2018, 7, 24, 20, 44, 13)"
      ]
     },
     "execution_count": 46,
     "metadata": {},
     "output_type": "execute_result"
    }
   ],
   "source": [
    "b"
   ]
  },
  {
   "cell_type": "code",
   "execution_count": 49,
   "metadata": {},
   "outputs": [
    {
     "data": {
      "text/plain": [
       "7"
      ]
     },
     "execution_count": 49,
     "metadata": {},
     "output_type": "execute_result"
    }
   ],
   "source": [
    "old_date"
   ]
  },
  {
   "cell_type": "code",
   "execution_count": 35,
   "metadata": {},
   "outputs": [
    {
     "data": {
      "text/plain": [
       "()"
      ]
     },
     "execution_count": 35,
     "metadata": {},
     "output_type": "execute_result"
    }
   ],
   "source": [
    "b"
   ]
  },
  {
   "cell_type": "code",
   "execution_count": 50,
   "metadata": {},
   "outputs": [],
   "source": [
    "import redis"
   ]
  },
  {
   "cell_type": "code",
   "execution_count": 54,
   "metadata": {},
   "outputs": [
    {
     "name": "stdout",
     "output_type": "stream",
     "text": [
      "b'1' b'{\"cid\": \"1\", \"count\": \"100\", \"target\": \"bronze\", \"db_level\": \"bronze\", \"filename\": \"a.mp4\", \"worker_id\": null, \"status\": \"done\"}'\n",
      "b'2' b'{\"cid\": \"2\", \"count\": \"16574\", \"target\": \"gold\", \"db_level\": \"gold\", \"filename\": \"b.mp4\", \"worker_id\": null, \"status\": \"done\"}'\n",
      "b'4' b'{\"cid\": \"4\", \"count\": \"1700\", \"target\": \"silver\", \"db_level\": \"gold\", \"filename\": \"d.mp4\", \"worker_id\": null, \"status\": \"update\"}'\n",
      "b'13' b'{\"cid\": \"13\", \"count\": \"2161\", \"target\": \"gold\", \"db_level\": \"gold\", \"filename\": \"m.mp4\", \"worker_id\": null, \"status\": \"done\"}'\n",
      "b'3' b'{\"cid\": \"3\", \"count\": \"3000\", \"target\": \"gold\", \"db_level\": \"gold\", \"filename\": \"c.mp4\", \"worker_id\": null, \"status\": \"done\"}'\n",
      "b'12' b'{\"cid\": \"12\", \"count\": \"21461\", \"target\": \"gold\", \"db_level\": \"silver\", \"filename\": \"l.mp4\", \"worker_id\": null, \"status\": \"update\"}'\n",
      "b'9' b'{\"cid\": \"9\", \"count\": \"237\", \"target\": \"bronze\", \"db_level\": \"gold\", \"filename\": \"i.mp4\", \"worker_id\": null, \"status\": \"update\"}'\n",
      "b'8' b'{\"cid\": \"8\", \"count\": \"2633\", \"target\": \"gold\", \"db_level\": \"bronze\", \"filename\": \"h.mp4\", \"worker_id\": null, \"status\": \"update\"}'\n",
      "b'5' b'{\"cid\": \"5\", \"count\": \"10\", \"target\": \"bronze\", \"db_level\": \"gold\", \"filename\": \"e.mp4\", \"worker_id\": null, \"status\": \"update\"}'\n",
      "b'11' b'{\"cid\": \"11\", \"count\": \"2001\", \"target\": \"gold\", \"db_level\": \"bronze\", \"filename\": \"k.mp4\", \"worker_id\": null, \"status\": \"update\"}'\n",
      "b'10' b\"{'target': 'silver', 'worker_id': 'null', 'count': '1999', 'status': 'done', 'cid': '10', 'filename': 'j.mp4', 'db_level': 'gold'}\"\n",
      "b'6' b'{\"cid\": \"6\", \"count\": \"633\", \"target\": \"bronze\", \"db_level\": \"bronze\", \"filename\": \"f.mp4\", \"worker_id\": null, \"status\": \"done\"}'\n",
      "b'status' b'done'\n",
      "b'7' b'{\"cid\": \"7\", \"count\": \"1633\", \"target\": \"silver\", \"db_level\": \"bronze\", \"filename\": \"g.mp4\", \"worker_id\": null, \"status\": \"update\"}'\n",
      "b'workID' b'null'\n"
     ]
    }
   ],
   "source": [
    "rc = redis.Redis(host='192.168.10.37', port=6379, db=1)\n",
    "for i in rc.keys():\n",
    "    print(i, rc.get(i))"
   ]
  },
  {
   "cell_type": "code",
   "execution_count": null,
   "metadata": {},
   "outputs": [],
   "source": [
    "a = "
   ]
  }
 ],
 "metadata": {
  "kernelspec": {
   "display_name": "Python 3",
   "language": "python",
   "name": "python3"
  },
  "language_info": {
   "codemirror_mode": {
    "name": "ipython",
    "version": 3
   },
   "file_extension": ".py",
   "mimetype": "text/x-python",
   "name": "python",
   "nbconvert_exporter": "python",
   "pygments_lexer": "ipython3",
   "version": "3.5.5"
  }
 },
 "nbformat": 4,
 "nbformat_minor": 2
}
