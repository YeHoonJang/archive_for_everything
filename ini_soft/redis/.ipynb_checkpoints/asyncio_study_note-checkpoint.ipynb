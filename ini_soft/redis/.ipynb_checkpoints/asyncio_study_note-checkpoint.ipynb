{
 "cells": [
  {
   "cell_type": "markdown",
   "metadata": {},
   "source": [
    "## 1. 스레드와 코루틴 비교"
   ]
  },
  {
   "cell_type": "markdown",
   "metadata": {},
   "source": [
    "### spinner example\n",
    "CMD에서 해야 정상작동"
   ]
  },
  {
   "cell_type": "code",
   "execution_count": 5,
   "metadata": {},
   "outputs": [
    {
     "name": "stdout",
     "output_type": "stream",
     "text": [
      "Please wait ... Please wait ... Please wait ... Please wait ... Please wait ... Please wait ... Please wait ... Please wait ... Please wait ... Please wait ... Please wait ... Please wait ... Please wait ... Please wait ... Please wait ... Please wait ... Please wait ... Please wait ... Please wait ... Please wait ... Please wait ... Please wait ... Please wait ... Please wait ... Please wait ... Please wait ... Please wait ... Please wait ... Please wait ... Please wait ... /Computation done\n"
     ]
    }
   ],
   "source": [
    "import sys, time\n",
    "import multiprocessing\n",
    "\n",
    "DELAY = 0.1\n",
    "DISPLAY = [ '|', '/', '-', '\\\\' ]\n",
    "\n",
    "def spinner_func(before='', after=''):\n",
    "    write = sys.stdout.write\n",
    "    flush = sys.stdout.flush\n",
    "    pos = -1\n",
    "    while True:\n",
    "        pos = (pos + 1) % len(DISPLAY)\n",
    "        msg = before + DISPLAY[pos] + after\n",
    "        write(msg); flush()\n",
    "        write('\\x08' * len(msg))\n",
    "        time.sleep(DELAY)\n",
    "\n",
    "def long_computation():\n",
    "    # emulate a long computation\n",
    "    time.sleep(3)\n",
    "\n",
    "if __name__ == '__main__':\n",
    "    spinner = multiprocessing.Process(\n",
    "        None, spinner_func, args=('Please wait ... ', ''))\n",
    "    spinner.start()\n",
    "    try:\n",
    "        long_computation()\n",
    "        print('Computation done')\n",
    "    finally:\n",
    "        spinner.terminate()"
   ]
  },
  {
   "cell_type": "markdown",
   "metadata": {},
   "source": [
    "*********"
   ]
  },
  {
   "cell_type": "markdown",
   "metadata": {},
   "source": [
    "### spinner_thread"
   ]
  },
  {
   "cell_type": "code",
   "execution_count": 6,
   "metadata": {},
   "outputs": [],
   "source": [
    "import threading\n",
    "import itertools\n",
    "import time\n",
    "import sys"
   ]
  },
  {
   "cell_type": "code",
   "execution_count": 8,
   "metadata": {},
   "outputs": [],
   "source": [
    "class Signal:\n",
    "    go = True\n",
    "# 이 클래스는 외부에서 스레드를 제어하기 위해 사용할 \n",
    "# go 속성 하나만 있는 간단한 가변 객체를 정의"
   ]
  },
  {
   "cell_type": "code",
   "execution_count": 9,
   "metadata": {},
   "outputs": [],
   "source": [
    "#이 함수는 별도의 스레드에서 실행, signal 인자는 Signal 클래스의 객체를 받음\n",
    "def spin(msg, signal):\n",
    "    write = sys.stdout.write\n",
    "    flush = sys.stdout.flush\n",
    "    for char in itertools.cycle('|/-\\\\'):\n",
    "        #itertools.cycle()은 주어진 시퀀스를 순환하면서 끝없이 항목을 생성\n",
    "        # 사실상 무한루프\n",
    "        \n",
    "        status = char + ' ' + msg\n",
    "        write(status)\n",
    "        flush()\n",
    "        write('\\x08' * len(status))\n",
    "        # 텍스트 모드 애니메이션 기법, \n",
    "        # 문자열 길이만큼 백스테이스(\\x08)를 반복해서 커서를 앞으로 이동\n",
    "        \n",
    "        time.sleep(.1)\n",
    "        \n",
    "        if not signal.go:\n",
    "            break\n",
    "    write(' ' * len(status) + '\\x08' * len(status))\n",
    "    # 공백 문자로 덮어쓰고 다시 커서를 처음으로 이동해서 메시지 출력행을 clean    "
   ]
  },
  {
   "cell_type": "code",
   "execution_count": 10,
   "metadata": {},
   "outputs": [],
   "source": [
    "def slow_function():\n",
    "    #입출력을 위해 장시간 기다리는 것처럼 보이게 만듦\n",
    "    \n",
    "    time.sleep(3) \n",
    "    # 주 스레드에서 sleep( ) 함수를 호출할 때 GIL이 해제, 두번째 스레드 진행\n",
    "    \n",
    "    return 42 "
   ]
  },
  {
   "cell_type": "code",
   "execution_count": 12,
   "metadata": {},
   "outputs": [],
   "source": [
    "def supervisor():\n",
    "    #두번째 스레드를 만들고, 스레드 객체를 출력, 시간이 오래 걸리는 연산 수행 후 스레드 제거\n",
    "    \n",
    "    signal = Signal()\n",
    "    spinner = threading.Thread(target=spin, args=('Thinking!', signal))\n",
    "    print('spinner object:', spinner) # 두번째 스레드 객체 출력\n",
    "    \n",
    "    spinner.start() # 두번째 스레드 실행\n",
    "    result = slow_function() \n",
    "    # 이 함수가 실행되면, 주 스레드가 블로킹 됨\n",
    "    # 그리고 두번째 스레드가 텍스트 애니메이션 출력\n",
    "    \n",
    "    signal.go =False # spin 안의 for loop 중단\n",
    "    spinner.join() # spinner 스레드가 끝날 때까지 기다림\n",
    "    \n",
    "    return result"
   ]
  },
  {
   "cell_type": "code",
   "execution_count": 13,
   "metadata": {},
   "outputs": [
    {
     "name": "stdout",
     "output_type": "stream",
     "text": [
      "spinner object: <Thread(Thread-4, initial)>\n",
      "| Thinking/ Thinking- Thinking\\ Thinking| Thinking/ Thinking- Thinking\\ Thinking| Thinking/ Thinking- Thinking\\ Thinking| Thinking/ Thinking- Thinking\\ Thinking| Thinking/ Thinking- Thinking\\ Thinking| Thinking/ Thinking- Thinking\\ Thinking| Thinking/ Thinking- Thinking\\ Thinking| Thinking/ Thinking          Answer:  42\n"
     ]
    }
   ],
   "source": [
    "def main():\n",
    "    result = supervisor()\n",
    "    print('Answer: ', result)\n",
    "    \n",
    "if __name__ == '__main__':\n",
    "    main()"
   ]
  },
  {
   "cell_type": "code",
   "execution_count": null,
   "metadata": {},
   "outputs": [],
   "source": []
  }
 ],
 "metadata": {
  "kernelspec": {
   "display_name": "Python 3",
   "language": "python",
   "name": "python3"
  },
  "language_info": {
   "codemirror_mode": {
    "name": "ipython",
    "version": 3
   },
   "file_extension": ".py",
   "mimetype": "text/x-python",
   "name": "python",
   "nbconvert_exporter": "python",
   "pygments_lexer": "ipython3",
   "version": "3.5.5"
  }
 },
 "nbformat": 4,
 "nbformat_minor": 2
}
