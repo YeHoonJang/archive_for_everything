{
 "cells": [
  {
   "cell_type": "markdown",
   "metadata": {},
   "source": [
    "### 제네레이터"
   ]
  },
  {
   "cell_type": "markdown",
   "metadata": {},
   "source": [
    "제네레이터는 말 그대로 값을 생성하는 함수입니다. 알다시피 함수는 값을 반환한 다음 자신의 스코프를 소멸시키고 , 다시 함수를 호출하면, 처음부터 다시 시작됩니다. 즉 한 번 실행됩니다. 그러나 제네레이터 함수는 값을 생성하고 함수의 실행을 일시 중지 할 수 있습니다. 컨트롤이 호출 스코프로 반환되며 ,원하는 경우 실행을 다시 시작하여 다른 값 (있는 경우)을 얻을 수 있습니다. 이 예제를 보시죠."
   ]
  },
  {
   "cell_type": "code",
   "execution_count": 4,
   "metadata": {},
   "outputs": [
    {
     "name": "stdout",
     "output_type": "stream",
     "text": [
      "Hello\n",
      "World\n"
     ]
    }
   ],
   "source": [
    "def simple_gen():\n",
    "    yield \"Hello\"\n",
    "    yield \"World\"\n",
    " \n",
    " \n",
    "gen = simple_gen()\n",
    "print(next(gen))\n",
    "print(next(gen))"
   ]
  },
  {
   "cell_type": "markdown",
   "metadata": {},
   "source": [
    "- 제네레이터 함수는 어떤 값도 직접 반환하지 않고, 호출되면 반복자와 같은 제네레이터 객체를 건내줌\n",
    "- 그 후 제네레이터 객체에 대해 next()를 호출하여 값을 반복 할 수 있음\n",
    "- 또는 for 루프 실행하여 처리"
   ]
  },
  {
   "cell_type": "code",
   "execution_count": 10,
   "metadata": {},
   "outputs": [
    {
     "name": "stdout",
     "output_type": "stream",
     "text": [
      "0\n",
      "1\n",
      "2\n",
      "3\n",
      "4\n",
      "5\n",
      "6\n",
      "7\n",
      "8\n",
      "9\n",
      "10\n"
     ]
    }
   ],
   "source": [
    "# 메모리에 적재해두지 않고서도 원하는 만큼 번호를 출력할 수 있으며,\n",
    "# 함수 컨텍스트를 다시 시작하면 다시 시작함\n",
    "\n",
    "def generate_nums():\n",
    "    num = 0\n",
    "    while True:\n",
    "        yield num\n",
    "        num = num + 1\n",
    " \n",
    " \n",
    "nums = generate_nums()\n",
    " \n",
    "for x in nums:\n",
    "    print(x)\n",
    " \n",
    "    if x > 9:\n",
    "        break"
   ]
  },
  {
   "cell_type": "markdown",
   "metadata": {},
   "source": [
    "**제네레이터 함수는 하나의 값을 반환하는 대신 실행을 일시 중지하고 여러 값을 생성 할 수 있는 함수임<br/>\n",
    "또한 호출되면 iterable처럼 작동하는 제네레이터 객체를 제공하며 반복적으로 값을 얻을 수 있음**"
   ]
  },
  {
   "cell_type": "markdown",
   "metadata": {},
   "source": [
    "### 코루틴"
   ]
  },
  {
   "cell_type": "markdown",
   "metadata": {},
   "source": [
    "- 제네레이터에 데이터 push \n",
    "- 값을 받는 데 사용하는 yield 키워드는 함수 내부의 \"=\" 오른쪽에 있는 표현식으로 사용할 수 있음\n",
    "- 제네레이터 기반 코루틴 \n",
    "  * 제네레이터 객체에 대해 send() 메서드를 사용하여 값을 함수고 다시 전달할 수 있음 "
   ]
  },
  {
   "cell_type": "code",
   "execution_count": 15,
   "metadata": {},
   "outputs": [
    {
     "name": "stdout",
     "output_type": "stream",
     "text": [
      "Hello\n",
      "World\n"
     ]
    }
   ],
   "source": [
    "def coro():\n",
    "    hello = yield \"Hello\"\n",
    "    yield hello\n",
    " \n",
    " \n",
    "c = coro()\n",
    "print(next(c))\n",
    "# print(next(c))\n",
    "print(c.send(\"World\"))"
   ]
  },
  {
   "cell_type": "markdown",
   "metadata": {},
   "source": [
    "### Async I/O and `asyncio` module"
   ]
  },
  {
   "cell_type": "code",
   "execution_count": 20,
   "metadata": {},
   "outputs": [
    {
     "ename": "RuntimeError",
     "evalue": "This event loop is already running",
     "output_type": "error",
     "traceback": [
      "\u001b[0;31m---------------------------------------------------------------------------\u001b[0m",
      "\u001b[0;31mRuntimeError\u001b[0m                              Traceback (most recent call last)",
      "\u001b[0;32m<ipython-input-20-6a8d3a3720cc>\u001b[0m in \u001b[0;36m<module>\u001b[0;34m()\u001b[0m\n\u001b[1;32m     19\u001b[0m \u001b[0masyncio\u001b[0m\u001b[0;34m.\u001b[0m\u001b[0mensure_future\u001b[0m\u001b[0;34m(\u001b[0m\u001b[0mdisplay_date\u001b[0m\u001b[0;34m(\u001b[0m\u001b[0;36m2\u001b[0m\u001b[0;34m,\u001b[0m \u001b[0mloop\u001b[0m\u001b[0;34m)\u001b[0m\u001b[0;34m)\u001b[0m\u001b[0;34m\u001b[0m\u001b[0m\n\u001b[1;32m     20\u001b[0m \u001b[0;34m\u001b[0m\u001b[0m\n\u001b[0;32m---> 21\u001b[0;31m \u001b[0mloop\u001b[0m\u001b[0;34m.\u001b[0m\u001b[0mrun_forever\u001b[0m\u001b[0;34m(\u001b[0m\u001b[0;34m)\u001b[0m\u001b[0;34m\u001b[0m\u001b[0m\n\u001b[0m",
      "\u001b[0;32m~/anaconda3/envs/dev_yehoon/lib/python3.5/asyncio/base_events.py\u001b[0m in \u001b[0;36mrun_forever\u001b[0;34m(self)\u001b[0m\n\u001b[1;32m    406\u001b[0m         \u001b[0mself\u001b[0m\u001b[0;34m.\u001b[0m\u001b[0m_check_closed\u001b[0m\u001b[0;34m(\u001b[0m\u001b[0;34m)\u001b[0m\u001b[0;34m\u001b[0m\u001b[0m\n\u001b[1;32m    407\u001b[0m         \u001b[0;32mif\u001b[0m \u001b[0mself\u001b[0m\u001b[0;34m.\u001b[0m\u001b[0mis_running\u001b[0m\u001b[0;34m(\u001b[0m\u001b[0;34m)\u001b[0m\u001b[0;34m:\u001b[0m\u001b[0;34m\u001b[0m\u001b[0m\n\u001b[0;32m--> 408\u001b[0;31m             \u001b[0;32mraise\u001b[0m \u001b[0mRuntimeError\u001b[0m\u001b[0;34m(\u001b[0m\u001b[0;34m'This event loop is already running'\u001b[0m\u001b[0;34m)\u001b[0m\u001b[0;34m\u001b[0m\u001b[0m\n\u001b[0m\u001b[1;32m    409\u001b[0m         \u001b[0;32mif\u001b[0m \u001b[0mevents\u001b[0m\u001b[0;34m.\u001b[0m\u001b[0m_get_running_loop\u001b[0m\u001b[0;34m(\u001b[0m\u001b[0;34m)\u001b[0m \u001b[0;32mis\u001b[0m \u001b[0;32mnot\u001b[0m \u001b[0;32mNone\u001b[0m\u001b[0;34m:\u001b[0m\u001b[0;34m\u001b[0m\u001b[0m\n\u001b[1;32m    410\u001b[0m             raise RuntimeError(\n",
      "\u001b[0;31mRuntimeError\u001b[0m: This event loop is already running"
     ]
    },
    {
     "name": "stdout",
     "output_type": "stream",
     "text": [
      "Loop: 1 Time: 2018-07-31 17:53:54.684760\n",
      "Loop: 2 Time: 2018-07-31 17:53:54.684919\n",
      "Loop: 1 Time: 2018-07-31 17:53:54.685566\n",
      "Loop: 1 Time: 2018-07-31 17:53:54.802283\n",
      "Loop: 2 Time: 2018-07-31 17:53:54.805016\n",
      "Loop: 1 Time: 2018-07-31 17:53:55.687616\n",
      "Loop: 2 Time: 2018-07-31 17:53:57.808172\n",
      "Loop: 2 Time: 2018-07-31 17:53:58.686638\n",
      "Loop: 1 Time: 2018-07-31 17:53:58.803325\n",
      "Loop: 2 Time: 2018-07-31 17:53:59.688715\n",
      "Loop: 1 Time: 2018-07-31 17:54:00.690197\n",
      "Loop: 2 Time: 2018-07-31 17:54:04.693779\n",
      "Loop: 1 Time: 2018-07-31 17:54:04.694086\n",
      "Loop: 1 Time: 2018-07-31 17:54:06.696619\n",
      "Loop: 1 Time: 2018-07-31 17:54:07.698279\n",
      "Loop: 2 Time: 2018-07-31 17:54:08.695831\n",
      "Loop: 2 Time: 2018-07-31 17:54:09.697341\n",
      "Loop: 1 Time: 2018-07-31 17:54:09.698843\n",
      "Loop: 2 Time: 2018-07-31 17:54:12.701347\n",
      "Loop: 1 Time: 2018-07-31 17:54:14.701942\n",
      "Loop: 2 Time: 2018-07-31 17:54:14.702315\n",
      "Loop: 1 Time: 2018-07-31 17:54:19.707848\n",
      "Loop: 2 Time: 2018-07-31 17:54:19.708100\n",
      "Loop: 1 Time: 2018-07-31 17:54:19.708318\n",
      "Loop: 1 Time: 2018-07-31 17:54:19.708504\n",
      "Loop: 2 Time: 2018-07-31 17:54:22.712027\n",
      "Loop: 1 Time: 2018-07-31 17:54:22.712394\n",
      "Loop: 2 Time: 2018-07-31 17:54:24.714869\n",
      "Loop: 1 Time: 2018-07-31 17:54:25.714422\n",
      "Loop: 1 Time: 2018-07-31 17:54:26.715996\n",
      "Loop: 2 Time: 2018-07-31 17:54:29.718715\n",
      "Loop: 1 Time: 2018-07-31 17:54:30.718405\n",
      "Loop: 1 Time: 2018-07-31 17:54:33.722067\n",
      "Loop: 2 Time: 2018-07-31 17:54:33.722409\n",
      "Loop: 1 Time: 2018-07-31 17:54:36.725971\n",
      "Loop: 2 Time: 2018-07-31 17:54:37.724341\n",
      "Loop: 2 Time: 2018-07-31 17:54:38.725857\n",
      "Loop: 1 Time: 2018-07-31 17:54:40.729353\n",
      "Loop: 2 Time: 2018-07-31 17:54:41.727946\n",
      "Loop: 1 Time: 2018-07-31 17:54:41.730489\n",
      "Loop: 1 Time: 2018-07-31 17:54:44.734045\n",
      "Loop: 2 Time: 2018-07-31 17:54:46.730620\n"
     ]
    }
   ],
   "source": [
    "import asyncio\n",
    "import datetime\n",
    "import random\n",
    " \n",
    " \n",
    "@asyncio.coroutine\n",
    "def display_date(num, loop):\n",
    "    end_time = loop.time() + 50.0\n",
    "    while True:\n",
    "        print(\"Loop: {} Time: {}\".format(num, datetime.datetime.now()))\n",
    "        if (loop.time() + 1.0) >= end_time:\n",
    "            break\n",
    "        yield from asyncio.sleep(random.randint(0, 5))\n",
    " \n",
    " \n",
    "loop = asyncio.get_event_loop()\n",
    " \n",
    "asyncio.ensure_future(display_date(1, loop))\n",
    "asyncio.ensure_future(display_date(2, loop))\n",
    " \n",
    "loop.run_forever()\n"
   ]
  },
  {
   "cell_type": "markdown",
   "metadata": {},
   "source": [
    "위의 코드 역시 스스로를 잘 설명해 주고 있습니다. 이 함수(display_date) 는 주어진 시간(초) 후에 완료되는 코루틴 (coroutine)입니다. 식별자 수(num)와 이벤트 루프(loop)를 매개변수로 받아 현재 시간을 계속 출력하는 coroutine 인 display_date (num, loop) 을 만듭니다. 코루틴이기 때문에 외부로 부터 값을 받아드리는 성질이 있다는 것은 예상 할 수 있겠지요?  즉 다음 asyncio.sleep () 함수 호출의 결과를 기다리기 위해 키워드yield from 를 사용했습니다. 그래서 우리는 그것에 임의의 초를 보내고 asyncio.ensure_future()를 사용하여 기본 이벤트 루프에서 코루틴의 실행을 스케쥴합니다. 그런 다음 루프가 계속 실행되도록 요청 합니다.\n",
    "\n",
    "출력을 보면 두 개의 coroutine이 동시에 실행되는데요. yield from 를 사용할 때, 이벤트 루프는 코루틴의 실행을 일시 중지하고 다른 루틴을 실행합니다. 따라서 두 개의 코루틴이 동시에 실행됩니다 (그러나 잊지 말아야 할 것은 이벤트 루프가 단일 스레드이기 때문에 병렬로 실행되지 않습니다).\n",
    "\n",
    " yield from 는`for x in asyncio.sleep(random.randint(0, 5)): yield x` 에 대한 멋진 syntactic sugar 입니다. 그것은 비동기 코드를 좀 더 간략히 만들어 주죠. "
   ]
  },
  {
   "cell_type": "markdown",
   "metadata": {},
   "source": [
    "### Native Coroutines and `async` / `await`"
   ]
  },
  {
   "cell_type": "code",
   "execution_count": 23,
   "metadata": {},
   "outputs": [
    {
     "name": "stdout",
     "output_type": "stream",
     "text": [
      "Loop: 2 Time: 2018-07-31 17:58:22.541955\n"
     ]
    },
    {
     "ename": "RuntimeError",
     "evalue": "This event loop is already running",
     "output_type": "error",
     "traceback": [
      "\u001b[0;31m---------------------------------------------------------------------------\u001b[0m",
      "\u001b[0;31mRuntimeError\u001b[0m                              Traceback (most recent call last)",
      "\u001b[0;32m<ipython-input-23-3cbfe5b3f115>\u001b[0m in \u001b[0;36m<module>\u001b[0;34m()\u001b[0m\n\u001b[1;32m     18\u001b[0m \u001b[0masyncio\u001b[0m\u001b[0;34m.\u001b[0m\u001b[0mensure_future\u001b[0m\u001b[0;34m(\u001b[0m\u001b[0mdisplay_date\u001b[0m\u001b[0;34m(\u001b[0m\u001b[0;36m2\u001b[0m\u001b[0;34m,\u001b[0m \u001b[0mloop\u001b[0m\u001b[0;34m)\u001b[0m\u001b[0;34m)\u001b[0m\u001b[0;34m\u001b[0m\u001b[0m\n\u001b[1;32m     19\u001b[0m \u001b[0;34m\u001b[0m\u001b[0m\n\u001b[0;32m---> 20\u001b[0;31m \u001b[0mloop\u001b[0m\u001b[0;34m.\u001b[0m\u001b[0mrun_forever\u001b[0m\u001b[0;34m(\u001b[0m\u001b[0;34m)\u001b[0m\u001b[0;34m\u001b[0m\u001b[0m\n\u001b[0m",
      "\u001b[0;32m~/anaconda3/envs/dev_yehoon/lib/python3.5/asyncio/base_events.py\u001b[0m in \u001b[0;36mrun_forever\u001b[0;34m(self)\u001b[0m\n\u001b[1;32m    406\u001b[0m         \u001b[0mself\u001b[0m\u001b[0;34m.\u001b[0m\u001b[0m_check_closed\u001b[0m\u001b[0;34m(\u001b[0m\u001b[0;34m)\u001b[0m\u001b[0;34m\u001b[0m\u001b[0m\n\u001b[1;32m    407\u001b[0m         \u001b[0;32mif\u001b[0m \u001b[0mself\u001b[0m\u001b[0;34m.\u001b[0m\u001b[0mis_running\u001b[0m\u001b[0;34m(\u001b[0m\u001b[0;34m)\u001b[0m\u001b[0;34m:\u001b[0m\u001b[0;34m\u001b[0m\u001b[0m\n\u001b[0;32m--> 408\u001b[0;31m             \u001b[0;32mraise\u001b[0m \u001b[0mRuntimeError\u001b[0m\u001b[0;34m(\u001b[0m\u001b[0;34m'This event loop is already running'\u001b[0m\u001b[0;34m)\u001b[0m\u001b[0;34m\u001b[0m\u001b[0m\n\u001b[0m\u001b[1;32m    409\u001b[0m         \u001b[0;32mif\u001b[0m \u001b[0mevents\u001b[0m\u001b[0;34m.\u001b[0m\u001b[0m_get_running_loop\u001b[0m\u001b[0;34m(\u001b[0m\u001b[0;34m)\u001b[0m \u001b[0;32mis\u001b[0m \u001b[0;32mnot\u001b[0m \u001b[0;32mNone\u001b[0m\u001b[0;34m:\u001b[0m\u001b[0;34m\u001b[0m\u001b[0m\n\u001b[1;32m    410\u001b[0m             raise RuntimeError(\n",
      "\u001b[0;31mRuntimeError\u001b[0m: This event loop is already running"
     ]
    },
    {
     "name": "stdout",
     "output_type": "stream",
     "text": [
      "Loop: 1 Time: 2018-07-31 17:58:22.758114\n",
      "Loop: 2 Time: 2018-07-31 17:58:22.758278\n",
      "Loop: 2 Time: 2018-07-31 17:58:22.758494\n",
      "Loop: 1 Time: 2018-07-31 17:58:24.760908\n",
      "Loop: 2 Time: 2018-07-31 17:58:25.543917\n",
      "Loop: 2 Time: 2018-07-31 17:58:25.544321\n",
      "Loop: 1 Time: 2018-07-31 17:58:26.543635\n",
      "Loop: 1 Time: 2018-07-31 17:58:26.762643\n",
      "Loop: 1 Time: 2018-07-31 17:58:27.546037\n",
      "Loop: 1 Time: 2018-07-31 17:58:27.546430\n",
      "Loop: 2 Time: 2018-07-31 17:58:27.759625\n",
      "Loop: 2 Time: 2018-07-31 17:58:27.759925\n",
      "Loop: 2 Time: 2018-07-31 17:58:27.760141\n",
      "Loop: 1 Time: 2018-07-31 17:58:28.547773\n",
      "Loop: 2 Time: 2018-07-31 17:58:30.547220\n",
      "Loop: 1 Time: 2018-07-31 17:58:31.550948\n",
      "Loop: 1 Time: 2018-07-31 17:58:31.763678\n",
      "Loop: 2 Time: 2018-07-31 17:58:32.762274\n",
      "Loop: 2 Time: 2018-07-31 17:58:35.550598\n",
      "Loop: 1 Time: 2018-07-31 17:58:35.551943\n",
      "Loop: 1 Time: 2018-07-31 17:58:35.552182\n",
      "Loop: 1 Time: 2018-07-31 17:58:35.552388\n",
      "Loop: 2 Time: 2018-07-31 17:58:36.763205\n",
      "Loop: 1 Time: 2018-07-31 17:58:36.764417\n",
      "Loop: 1 Time: 2018-07-31 17:58:37.553564\n",
      "Loop: 2 Time: 2018-07-31 17:58:38.766353\n",
      "Loop: 2 Time: 2018-07-31 17:58:38.766748\n",
      "Loop: 2 Time: 2018-07-31 17:58:39.553021\n",
      "Loop: 1 Time: 2018-07-31 17:58:40.766796\n",
      "Loop: 1 Time: 2018-07-31 17:58:41.555470\n",
      "Loop: 2 Time: 2018-07-31 17:58:41.555787\n",
      "Loop: 1 Time: 2018-07-31 17:58:41.556064\n",
      "Loop: 1 Time: 2018-07-31 17:58:41.556292\n",
      "Loop: 2 Time: 2018-07-31 17:58:42.769011\n",
      "Loop: 1 Time: 2018-07-31 17:58:42.769359\n",
      "Loop: 1 Time: 2018-07-31 17:58:43.770825\n",
      "Loop: 2 Time: 2018-07-31 17:58:44.557227\n",
      "Loop: 1 Time: 2018-07-31 17:58:44.558611\n",
      "Loop: 1 Time: 2018-07-31 17:58:44.772343\n",
      "Loop: 1 Time: 2018-07-31 17:58:44.772585\n",
      "Loop: 1 Time: 2018-07-31 17:58:44.772748\n",
      "Loop: 1 Time: 2018-07-31 17:58:44.772906\n",
      "Loop: 1 Time: 2018-07-31 17:58:44.773064\n",
      "Loop: 2 Time: 2018-07-31 17:58:46.561404\n",
      "Loop: 1 Time: 2018-07-31 17:58:47.560957\n",
      "Loop: 2 Time: 2018-07-31 17:58:47.770749\n",
      "Loop: 1 Time: 2018-07-31 17:58:48.774964\n",
      "Loop: 1 Time: 2018-07-31 17:58:48.775240\n",
      "Loop: 2 Time: 2018-07-31 17:58:49.563619\n",
      "Loop: 2 Time: 2018-07-31 17:58:49.773365\n",
      "Loop: 1 Time: 2018-07-31 17:58:49.775759\n",
      "Loop: 1 Time: 2018-07-31 17:58:50.563137\n",
      "Loop: 2 Time: 2018-07-31 17:58:50.564901\n",
      "Loop: 2 Time: 2018-07-31 17:58:51.775735\n",
      "Loop: 1 Time: 2018-07-31 17:58:51.776247\n",
      "Loop: 1 Time: 2018-07-31 17:58:51.776487\n",
      "Loop: 1 Time: 2018-07-31 17:58:52.564759\n",
      "Loop: 1 Time: 2018-07-31 17:58:53.778278\n",
      "Loop: 2 Time: 2018-07-31 17:58:54.566685\n",
      "Loop: 2 Time: 2018-07-31 17:58:54.777471\n",
      "Loop: 1 Time: 2018-07-31 17:58:54.779099\n",
      "Loop: 2 Time: 2018-07-31 17:58:55.779962\n",
      "Loop: 1 Time: 2018-07-31 17:58:55.780297\n",
      "Loop: 1 Time: 2018-07-31 17:58:56.567597\n",
      "Loop: 1 Time: 2018-07-31 17:58:56.567892\n",
      "Loop: 2 Time: 2018-07-31 17:58:57.568507\n",
      "Loop: 1 Time: 2018-07-31 17:58:57.568896\n",
      "Loop: 2 Time: 2018-07-31 17:59:00.783602\n",
      "Loop: 1 Time: 2018-07-31 17:59:00.784024\n",
      "Loop: 2 Time: 2018-07-31 17:59:00.784350\n",
      "Loop: 2 Time: 2018-07-31 17:59:01.570704\n",
      "Loop: 1 Time: 2018-07-31 17:59:02.571151\n",
      "Loop: 2 Time: 2018-07-31 17:59:02.786003\n",
      "Loop: 1 Time: 2018-07-31 17:59:05.786317\n",
      "Loop: 2 Time: 2018-07-31 17:59:06.787817\n",
      "Loop: 2 Time: 2018-07-31 17:59:06.788063\n",
      "Loop: 2 Time: 2018-07-31 17:59:06.788220\n",
      "Loop: 2 Time: 2018-07-31 17:59:06.788372\n",
      "Loop: 2 Time: 2018-07-31 17:59:07.789858\n",
      "Loop: 2 Time: 2018-07-31 17:59:08.791399\n",
      "Loop: 2 Time: 2018-07-31 17:59:08.791618\n",
      "Loop: 2 Time: 2018-07-31 17:59:09.793067\n",
      "Loop: 1 Time: 2018-07-31 17:59:10.788724\n",
      "Loop: 1 Time: 2018-07-31 17:59:11.790376\n",
      "Loop: 2 Time: 2018-07-31 17:59:11.794029\n"
     ]
    }
   ],
   "source": [
    "import asyncio\n",
    "import datetime\n",
    "import random\n",
    " \n",
    " \n",
    "async def display_date(num, loop, ):\n",
    "    end_time = loop.time() + 50.0\n",
    "    while True:\n",
    "        print(\"Loop: {} Time: {}\".format(num, datetime.datetime.now()))\n",
    "        if (loop.time() + 1.0) >= end_time:\n",
    "            break\n",
    "        await asyncio.sleep(random.randint(0, 5))\n",
    " \n",
    " \n",
    "loop = asyncio.get_event_loop()\n",
    " \n",
    "asyncio.ensure_future(display_date(1, loop))\n",
    "asyncio.ensure_future(display_date(2, loop))\n",
    " \n",
    "loop.run_forever()"
   ]
  },
  {
   "cell_type": "markdown",
   "metadata": {},
   "source": [
    "- def 키워드 앞에 `async` 키워드를 사용하여 네이티브 코루틴을 정의\n",
    "- 네이티브 코루틴에서는 `yield` 대신 `await` 사용"
   ]
  }
 ],
 "metadata": {
  "kernelspec": {
   "display_name": "Python 3",
   "language": "python",
   "name": "python3"
  },
  "language_info": {
   "codemirror_mode": {
    "name": "ipython",
    "version": 3
   },
   "file_extension": ".py",
   "mimetype": "text/x-python",
   "name": "python",
   "nbconvert_exporter": "python",
   "pygments_lexer": "ipython3",
   "version": "3.5.5"
  }
 },
 "nbformat": 4,
 "nbformat_minor": 2
}
