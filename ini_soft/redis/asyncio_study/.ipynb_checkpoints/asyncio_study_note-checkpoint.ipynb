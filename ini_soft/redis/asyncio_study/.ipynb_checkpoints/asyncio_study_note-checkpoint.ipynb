{
 "cells": [
  {
   "cell_type": "markdown",
   "metadata": {},
   "source": [
    "## 1. 스레드와 코루틴 비교"
   ]
  },
  {
   "cell_type": "markdown",
   "metadata": {},
   "source": [
    "### spinner example\n",
    "CMD에서 해야 정상작동"
   ]
  },
  {
   "cell_type": "code",
   "execution_count": 5,
   "metadata": {},
   "outputs": [
    {
     "name": "stdout",
     "output_type": "stream",
     "text": [
      "Please wait ... Please wait ... Please wait ... Please wait ... Please wait ... Please wait ... Please wait ... Please wait ... Please wait ... Please wait ... Please wait ... Please wait ... Please wait ... Please wait ... Please wait ... Please wait ... Please wait ... Please wait ... Please wait ... Please wait ... Please wait ... Please wait ... Please wait ... Please wait ... Please wait ... Please wait ... Please wait ... Please wait ... Please wait ... Please wait ... /Computation done\n"
     ]
    }
   ],
   "source": [
    "import sys, time\n",
    "import multiprocessing\n",
    "\n",
    "DELAY = 0.1\n",
    "DISPLAY = [ '|', '/', '-', '\\\\' ]\n",
    "\n",
    "def spinner_func(before='', after=''):\n",
    "    write = sys.stdout.write\n",
    "    flush = sys.stdout.flush\n",
    "    pos = -1\n",
    "    while True:\n",
    "        pos = (pos + 1) % len(DISPLAY)\n",
    "        msg = before + DISPLAY[pos] + after\n",
    "        write(msg); flush()\n",
    "        write('\\x08' * len(msg))\n",
    "        time.sleep(DELAY)\n",
    "\n",
    "def long_computation():\n",
    "    # emulate a long computation\n",
    "    time.sleep(3)\n",
    "\n",
    "if __name__ == '__main__':\n",
    "    spinner = multiprocessing.Process(\n",
    "        None, spinner_func, args=('Please wait ... ', ''))\n",
    "    spinner.start()\n",
    "    try:\n",
    "        long_computation()\n",
    "        print('Computation done')\n",
    "    finally:\n",
    "        spinner.terminate()"
   ]
  },
  {
   "cell_type": "markdown",
   "metadata": {},
   "source": [
    "*********"
   ]
  },
  {
   "cell_type": "markdown",
   "metadata": {},
   "source": [
    "### spinner_thread\n",
    "CMD 창에서 해야 정상작동"
   ]
  },
  {
   "cell_type": "code",
   "execution_count": 2,
   "metadata": {},
   "outputs": [],
   "source": [
    "import threading\n",
    "import itertools\n",
    "import time\n",
    "import sys"
   ]
  },
  {
   "cell_type": "code",
   "execution_count": 3,
   "metadata": {},
   "outputs": [],
   "source": [
    "class Signal:\n",
    "    go = True\n",
    "# 이 클래스는 외부에서 스레드를 제어하기 위해 사용할 \n",
    "# go 속성 하나만 있는 간단한 가변 객체를 정의"
   ]
  },
  {
   "cell_type": "code",
   "execution_count": 4,
   "metadata": {},
   "outputs": [],
   "source": [
    "#이 함수는 별도의 스레드에서 실행, signal 인자는 Signal 클래스의 객체를 받음\n",
    "def spin(msg, signal):\n",
    "    write = sys.stdout.write\n",
    "    flush = sys.stdout.flush\n",
    "    for char in itertools.cycle('|/-\\\\'):\n",
    "        #itertools.cycle()은 주어진 시퀀스를 순환하면서 끝없이 항목을 생성\n",
    "        # 사실상 무한루프\n",
    "        \n",
    "        status = char + ' ' + msg\n",
    "        write(status)\n",
    "        flush()\n",
    "        write('\\x08' * len(status))\n",
    "        # 텍스트 모드 애니메이션 기법, \n",
    "        # 문자열 길이만큼 백스테이스(\\x08)를 반복해서 커서를 앞으로 이동\n",
    "        \n",
    "        time.sleep(.1)\n",
    "        \n",
    "        if not signal.go:\n",
    "            break\n",
    "    write(' ' * len(status) + '\\x08' * len(status))\n",
    "    # 공백 문자로 덮어쓰고 다시 커서를 처음으로 이동해서 메시지 출력행을 clean    "
   ]
  },
  {
   "cell_type": "code",
   "execution_count": 5,
   "metadata": {},
   "outputs": [],
   "source": [
    "def slow_function():\n",
    "    #입출력을 위해 장시간 기다리는 것처럼 보이게 만듦\n",
    "    \n",
    "    time.sleep(3) \n",
    "    # 주 스레드에서 sleep( ) 함수를 호출할 때 GIL이 해제, 두번째 스레드 진행\n",
    "    \n",
    "    return 42 "
   ]
  },
  {
   "cell_type": "code",
   "execution_count": 6,
   "metadata": {},
   "outputs": [],
   "source": [
    "def supervisor():\n",
    "    #두번째 스레드를 만들고, 스레드 객체를 출력, 시간이 오래 걸리는 연산 수행 후 스레드 제거\n",
    "    \n",
    "    signal = Signal()\n",
    "    spinner = threading.Thread(target=spin, args=('Thinking!', signal))\n",
    "    print('spinner object:', spinner) # 두번째 스레드 객체 출력\n",
    "    \n",
    "    spinner.start() # 두번째 스레드 실행\n",
    "    result = slow_function() \n",
    "    # 이 함수가 실행되면, 주 스레드가 블로킹 됨\n",
    "    # 그리고 두번째 스레드가 텍스트 애니메이션 출력\n",
    "    \n",
    "    signal.go =False # spin 안의 for loop 중단\n",
    "    spinner.join() # spinner 스레드가 끝날 때까지 기다림\n",
    "    \n",
    "    return result"
   ]
  },
  {
   "cell_type": "code",
   "execution_count": 7,
   "metadata": {},
   "outputs": [
    {
     "name": "stdout",
     "output_type": "stream",
     "text": [
      "spinner object: <Thread(Thread-4, initial)>\n",
      "| Thinking/ Thinking- Thinking\\ Thinking| Thinking/ Thinking- Thinking\\ Thinking| Thinking/ Thinking- Thinking\\ Thinking| Thinking/ Thinking- Thinking\\ Thinking| Thinking/ Thinking- Thinking\\ Thinking| Thinking/ Thinking- Thinking\\ Thinking| Thinking/ Thinking- Thinking\\ Thinking| Thinking/ Thinking          Answer:  42\n"
     ]
    }
   ],
   "source": [
    "def main():\n",
    "    result = supervisor()\n",
    "    print('Answer: ', result)\n",
    "    \n",
    "if __name__ == '__main__':\n",
    "    main()\n",
    "\n",
    "# 파이썬에는 스레드를 종료시키는 api가 정의되어 있지 않음\n",
    "# 스레드에 메시지를 보내서 종료해야하는데 여기서는 signal.go가 그 역할을 함"
   ]
  },
  {
   "cell_type": "markdown",
   "metadata": {},
   "source": [
    "***********"
   ]
  },
  {
   "cell_type": "markdown",
   "metadata": {},
   "source": [
    "### spinner_async"
   ]
  },
  {
   "cell_type": "code",
   "execution_count": 8,
   "metadata": {},
   "outputs": [],
   "source": [
    "import asyncio\n",
    "import itertools\n",
    "import sys"
   ]
  },
  {
   "cell_type": "code",
   "execution_count": 9,
   "metadata": {},
   "outputs": [],
   "source": [
    "@asyncio.coroutine\n",
    "def spin(msg):\n",
    "# 스레드를 종료하기 위해 사용했던 signal 인수 필요 없음\n",
    "    write = sys.stdout.write\n",
    "    flush = sys.stdout.flush\n",
    "    \n",
    "    for char in itertools.cycle('|/-\\\\'):\n",
    "        status = char + ' ' + msg\n",
    "        write(status)\n",
    "        flush()\n",
    "        write('\\x08' * len(status))\n",
    "        try:\n",
    "            yield from asyncio.sleep(.1)\n",
    "            # 이벤트 루프를 블로킹하지 않고 잠자기 위해 time.sleep대신에 yield~.sleep 사용\n",
    "        except asyncio.CancelledError:\n",
    "        #spin()이 깨어난 후 예외가 발생하면, 취소가 요청된 것 -> 루프 종료\n",
    "            break\n",
    "    write(' ' * len(status) + '\\x08' * len(status))"
   ]
  },
  {
   "cell_type": "code",
   "execution_count": 10,
   "metadata": {},
   "outputs": [],
   "source": [
    "@asyncio.coroutine\n",
    "def slow_function():\n",
    "# slow_function은 이제 코루틴으로서, \n",
    "# 코루틴이 잠자면서 입출력을 수행하는 체 하는 동안 이벤트 루프가 진행될 수 있게 하기 위해\n",
    "#yield from 사용\n",
    "\n",
    "    yield from asyncio.sleep(3)\n",
    "    # 메인루프의 제어흐름을 처리, 메인루프는 잠자고 난 후 코루틴을 계속 실행\n",
    "    return 42"
   ]
  },
  {
   "cell_type": "code",
   "execution_count": 11,
   "metadata": {},
   "outputs": [],
   "source": [
    "@asyncio.coroutine\n",
    "def supervisor():\n",
    "# 코루틴, yield from 을 사용해서 slow_function을 사용할 수 있음\n",
    "    spinner = asyncio.async(spin('thinking!'))\n",
    "    # asyncio.async는 spin() 코루틴의 실행을 스케줄링, task 객체 안에 넣어 task 객체 즉시 반환\n",
    "    print('spinner object: ', spinner)\n",
    "    # task 객체 출력\n",
    "    result = yield from slow_function()\n",
    "    # slow_function 함수를 구동해서 실행이 완료되면 반환된 값 가져옴\n",
    "    # 이벤트 루프 게속 실행\n",
    "    # slow_function이 yield from asyncio.sleep을 실행해서 메인루프로 제어권 넘김\n",
    "    spinner.cancel()\n",
    "    # task 객체는 cancel 메서드를 호출해서 취소할 수 있음\n",
    "    # 그러면 예외 발생, 코루틴은 예외를 잡아서 지연시키거나 취소 요청을 거부\n",
    "    return result"
   ]
  },
  {
   "cell_type": "code",
   "execution_count": 13,
   "metadata": {},
   "outputs": [
    {
     "name": "stdout",
     "output_type": "stream",
     "text": [
      "\b\b\b\b\b\b\b\b\b\b\b"
     ]
    },
    {
     "ename": "RuntimeError",
     "evalue": "This event loop is already running",
     "output_type": "error",
     "traceback": [
      "\u001b[0;31m---------------------------------------------------------------------------\u001b[0m",
      "\u001b[0;31mRuntimeError\u001b[0m                              Traceback (most recent call last)",
      "\u001b[0;32m<ipython-input-13-6a6dfbd73334>\u001b[0m in \u001b[0;36m<module>\u001b[0;34m()\u001b[0m\n\u001b[1;32m      6\u001b[0m \u001b[0;34m\u001b[0m\u001b[0m\n\u001b[1;32m      7\u001b[0m \u001b[0;32mif\u001b[0m \u001b[0m__name__\u001b[0m \u001b[0;34m==\u001b[0m \u001b[0;34m'__main__'\u001b[0m\u001b[0;34m:\u001b[0m\u001b[0;34m\u001b[0m\u001b[0m\n\u001b[0;32m----> 8\u001b[0;31m     \u001b[0mmain\u001b[0m\u001b[0;34m(\u001b[0m\u001b[0;34m)\u001b[0m\u001b[0;34m\u001b[0m\u001b[0m\n\u001b[0m",
      "\u001b[0;32m<ipython-input-13-6a6dfbd73334>\u001b[0m in \u001b[0;36mmain\u001b[0;34m()\u001b[0m\n\u001b[1;32m      1\u001b[0m \u001b[0;32mdef\u001b[0m \u001b[0mmain\u001b[0m\u001b[0;34m(\u001b[0m\u001b[0;34m)\u001b[0m\u001b[0;34m:\u001b[0m\u001b[0;34m\u001b[0m\u001b[0m\n\u001b[1;32m      2\u001b[0m     \u001b[0mloop\u001b[0m \u001b[0;34m=\u001b[0m \u001b[0masyncio\u001b[0m\u001b[0;34m.\u001b[0m\u001b[0mget_event_loop\u001b[0m\u001b[0;34m(\u001b[0m\u001b[0;34m)\u001b[0m\u001b[0;34m\u001b[0m\u001b[0m\n\u001b[0;32m----> 3\u001b[0;31m     \u001b[0mresult\u001b[0m \u001b[0;34m=\u001b[0m \u001b[0mloop\u001b[0m\u001b[0;34m.\u001b[0m\u001b[0mrun_until_complete\u001b[0m\u001b[0;34m(\u001b[0m\u001b[0msupervisor\u001b[0m\u001b[0;34m(\u001b[0m\u001b[0;34m)\u001b[0m\u001b[0;34m)\u001b[0m\u001b[0;34m\u001b[0m\u001b[0m\n\u001b[0m\u001b[1;32m      4\u001b[0m     \u001b[0mloop\u001b[0m\u001b[0;34m.\u001b[0m\u001b[0mclose\u001b[0m\u001b[0;34m(\u001b[0m\u001b[0;34m)\u001b[0m\u001b[0;34m\u001b[0m\u001b[0m\n\u001b[1;32m      5\u001b[0m     \u001b[0mprint\u001b[0m\u001b[0;34m(\u001b[0m\u001b[0;34m'Answer: '\u001b[0m\u001b[0;34m,\u001b[0m \u001b[0mresult\u001b[0m\u001b[0;34m)\u001b[0m\u001b[0;34m\u001b[0m\u001b[0m\n",
      "\u001b[0;32m~/anaconda3/envs/dev_yehoon/lib/python3.5/asyncio/base_events.py\u001b[0m in \u001b[0;36mrun_until_complete\u001b[0;34m(self, future)\u001b[0m\n\u001b[1;32m    452\u001b[0m         \u001b[0mfuture\u001b[0m\u001b[0;34m.\u001b[0m\u001b[0madd_done_callback\u001b[0m\u001b[0;34m(\u001b[0m\u001b[0m_run_until_complete_cb\u001b[0m\u001b[0;34m)\u001b[0m\u001b[0;34m\u001b[0m\u001b[0m\n\u001b[1;32m    453\u001b[0m         \u001b[0;32mtry\u001b[0m\u001b[0;34m:\u001b[0m\u001b[0;34m\u001b[0m\u001b[0m\n\u001b[0;32m--> 454\u001b[0;31m             \u001b[0mself\u001b[0m\u001b[0;34m.\u001b[0m\u001b[0mrun_forever\u001b[0m\u001b[0;34m(\u001b[0m\u001b[0;34m)\u001b[0m\u001b[0;34m\u001b[0m\u001b[0m\n\u001b[0m\u001b[1;32m    455\u001b[0m         \u001b[0;32mexcept\u001b[0m\u001b[0;34m:\u001b[0m\u001b[0;34m\u001b[0m\u001b[0m\n\u001b[1;32m    456\u001b[0m             \u001b[0;32mif\u001b[0m \u001b[0mnew_task\u001b[0m \u001b[0;32mand\u001b[0m \u001b[0mfuture\u001b[0m\u001b[0;34m.\u001b[0m\u001b[0mdone\u001b[0m\u001b[0;34m(\u001b[0m\u001b[0;34m)\u001b[0m \u001b[0;32mand\u001b[0m \u001b[0;32mnot\u001b[0m \u001b[0mfuture\u001b[0m\u001b[0;34m.\u001b[0m\u001b[0mcancelled\u001b[0m\u001b[0;34m(\u001b[0m\u001b[0;34m)\u001b[0m\u001b[0;34m:\u001b[0m\u001b[0;34m\u001b[0m\u001b[0m\n",
      "\u001b[0;32m~/anaconda3/envs/dev_yehoon/lib/python3.5/asyncio/base_events.py\u001b[0m in \u001b[0;36mrun_forever\u001b[0;34m(self)\u001b[0m\n\u001b[1;32m    406\u001b[0m         \u001b[0mself\u001b[0m\u001b[0;34m.\u001b[0m\u001b[0m_check_closed\u001b[0m\u001b[0;34m(\u001b[0m\u001b[0;34m)\u001b[0m\u001b[0;34m\u001b[0m\u001b[0m\n\u001b[1;32m    407\u001b[0m         \u001b[0;32mif\u001b[0m \u001b[0mself\u001b[0m\u001b[0;34m.\u001b[0m\u001b[0mis_running\u001b[0m\u001b[0;34m(\u001b[0m\u001b[0;34m)\u001b[0m\u001b[0;34m:\u001b[0m\u001b[0;34m\u001b[0m\u001b[0m\n\u001b[0;32m--> 408\u001b[0;31m             \u001b[0;32mraise\u001b[0m \u001b[0mRuntimeError\u001b[0m\u001b[0;34m(\u001b[0m\u001b[0;34m'This event loop is already running'\u001b[0m\u001b[0;34m)\u001b[0m\u001b[0;34m\u001b[0m\u001b[0m\n\u001b[0m\u001b[1;32m    409\u001b[0m         \u001b[0;32mif\u001b[0m \u001b[0mevents\u001b[0m\u001b[0;34m.\u001b[0m\u001b[0m_get_running_loop\u001b[0m\u001b[0;34m(\u001b[0m\u001b[0;34m)\u001b[0m \u001b[0;32mis\u001b[0m \u001b[0;32mnot\u001b[0m \u001b[0;32mNone\u001b[0m\u001b[0;34m:\u001b[0m\u001b[0;34m\u001b[0m\u001b[0m\n\u001b[1;32m    410\u001b[0m             raise RuntimeError(\n",
      "\u001b[0;31mRuntimeError\u001b[0m: This event loop is already running"
     ]
    },
    {
     "name": "stdout",
     "output_type": "stream",
     "text": [
      "spinner object:  <Task pending coro=<spin() running at <ipython-input-9-0f8f91d59294>:1>>\n",
      "| thinking\\ thinking/ thinking| thinking!"
     ]
    },
    {
     "name": "stderr",
     "output_type": "stream",
     "text": [
      "/home/inisoft/anaconda3/envs/dev_yehoon/lib/python3.5/site-packages/ipykernel_launcher.py:3: DeprecationWarning: asyncio.async() function is deprecated, use ensure_future()\n",
      "  This is separate from the ipykernel package so we can avoid doing imports until\n"
     ]
    },
    {
     "name": "stdout",
     "output_type": "stream",
     "text": [
      "\b- thinking/ thinking\\ thinking- thinking| thinking\\ thinking/ thinking| thinking- thinking/ thinking\\ thinking- thinking| thinking\\ thinking/ thinking| thinking- thinking/ thinking\\ thinking- thinking| thinking\\ thinking/ thinking| thinking- thinking/ thinking\\ thinking- thinking| thinking\\ thinking/ thinking| thinking- thinking/ thinking\\ thinking- thinking| thinking\\ thinking/ thinking| thinking- thinking/ thinking\\ thinking- thinking| thinking\\ thinking/ thinking| thinking- thinking/ thinking\\ thinking- thinking| thinking\\ thinking/ thinking| thinking- thinking/ thinking\\ thinking- thinking| thinking\\ thinking/ thinking| thinking- thinking/ thinking\\ thinking- thinking| thinking\\ thinking/ thinking| thinking- thinking/ thinking\\ thinking- thinking| thinking\\ thinking/ thinking| thinking- thinking/ thinking\\ thinking- thinking| thinking\\ thinking/ thinking| thinking- thinking/ thinking\\ thinking- thinking| thinking\\ thinking/ thinking| thinking- thinking/ thinking\\ thinking- thinking| thinking\\ thinking/ thinking| thinking- thinking/ thinking\\ thinking- thinking| thinking\\ thinking/ thinking| thinking- thinking/ thinking\\ thinking- thinking| thinking\\ thinking/ thinking| thinking- thinking/ thinking\\ thinking- thinking| thinking\\ thinking/ thinking| thinking- thinking/ thinking\\ thinking- thinking| thinking\\ thinking/ thinking| thinking- thinking/ thinking\\ thinking- thinking| thinking\\ thinking/ thinking| thinking- thinking/ thinking\\ thinking- thinking| thinking\\ thinking/ thinking| thinking- thinking/ thinking\\ thinking- thinking| thinking\\ thinking/ thinking| thinking- thinking/ thinking\\ thinking- thinking| thinking\\ thinking/ thinking| thinking- thinking/ thinking\\ thinking- thinking| thinking\\ thinking/ thinking| thinking- thinking/ thinking\\ thinking- thinking| thinking\\ thinking/ thinking| thinking- thinking/ thinking\\ thinking- thinking| thinking\\ thinking/ thinking| thinking- thinking/ thinking\\ thinking- thinking| thinking\\ thinking/ thinking| thinking- thinking/ thinking\\ thinking- thinking| thinking\\ thinking/ thinking| thinking- thinking/ thinking\\ thinking- thinking| thinking\\ thinking/ thinking| thinking- thinking/ thinking\\ thinking- thinking| thinking\\ thinking/ thinking| thinking- thinking/ thinking\\ thinking- thinking| thinking\\ thinking/ thinking| thinking- thinking/ thinking\\ thinking- thinking| thinking\\ thinking/ thinking| thinking- thinking/ thinking\\ thinking- thinking| thinking\\ thinking/ thinking| thinking- thinking/ thinking\\ thinking- thinking| thinking\\ thinking/ thinking| thinking- thinking/ thinking\\ thinking- thinking| thinking\\ thinking/ thinking| thinking- thinking/ thinking\\ thinking- thinking| thinking\\ thinking/ thinking| thinking- thinking/ thinking\\ thinking- thinking| thinking\\ thinking/ thinking| thinking- thinking/ thinking\\ thinking- thinking!"
     ]
    }
   ],
   "source": [
    "def main():\n",
    "    loop = asyncio.get_event_loop()\n",
    "    # 이벤트 루프에 대한 참조 가져옴\n",
    "    result = loop.run_until_complete(supervisor())\n",
    "    # supervisor 코루틴을 구동해서 완료\n",
    "    # 코루틴의 반환값은 run_until_complete의 반환값이 됨\n",
    "    loop.close()\n",
    "    print('Answer: ', result)\n",
    "    \n",
    "if __name__ == '__main__':\n",
    "    main()"
   ]
  },
  {
   "cell_type": "code",
   "execution_count": null,
   "metadata": {},
   "outputs": [],
   "source": []
  }
 ],
 "metadata": {
  "kernelspec": {
   "display_name": "Python 3",
   "language": "python",
   "name": "python3"
  },
  "language_info": {
   "codemirror_mode": {
    "name": "ipython",
    "version": 3
   },
   "file_extension": ".py",
   "mimetype": "text/x-python",
   "name": "python",
   "nbconvert_exporter": "python",
   "pygments_lexer": "ipython3",
   "version": "3.5.5"
  }
 },
 "nbformat": 4,
 "nbformat_minor": 2
}
