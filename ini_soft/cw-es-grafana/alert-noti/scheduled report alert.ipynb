{
 "cells": [
  {
   "cell_type": "code",
   "execution_count": 5,
   "metadata": {},
   "outputs": [],
   "source": [
    "import requests\n",
    "import json"
   ]
  },
  {
   "cell_type": "code",
   "execution_count": 6,
   "metadata": {},
   "outputs": [
    {
     "name": "stdout",
     "output_type": "stream",
     "text": [
      "{\"evalMatches\": [], \"message\": \"Test Message\", \"ruleId\": 8, \"ruleName\": \"ELB Status Error 400 alert\", \"ruleUrl\": \"http://13.231.223.137:3000/d/4dgCpYbmz/ls-monit-v1-0?fullscreen=true&edit=true&tab=alert&panelId=8&orgId=1\", \"state\": \"alerting\", \"title\": \"[Alerting] ELB Status Error 400 alert\"}\n",
      "type: <class 'str'>\n"
     ]
    }
   ],
   "source": [
    "url = 'http://localhost:5005/api/webhook/hangouts'\n",
    "data = {\"evalMatches\":[],\"message\":\"Test Message\",\"ruleId\":8,\"ruleName\":\"ELB Status Error 400 alert\",\"ruleUrl\":\"http://13.231.223.137:3000/d/4dgCpYbmz/ls-monit-v1-0?fullscreen=true\\u0026edit=true\\u0026tab=alert\\u0026panelId=8\\u0026orgId=1\",\"state\":\"alerting\",\"title\":\"[Alerting] ELB Status Error 400 alert\"}\n",
    "\n",
    "data = json.dumps(data)\n",
    "print(data)\n",
    "print(\"type:\", type(data))"
   ]
  },
  {
   "cell_type": "code",
   "execution_count": 7,
   "metadata": {},
   "outputs": [],
   "source": [
    "res = requests.post(url, data=data)"
   ]
  },
  {
   "cell_type": "code",
   "execution_count": 15,
   "metadata": {},
   "outputs": [],
   "source": [
    "import requests\n",
    "import json\n",
    "\n",
    "url = 'http://localhost:5005/api/webhook/hangouts'\n",
    "\n",
    "#Key dict\n",
    "key_dict = {0:200, 1:400, 2:500}\n",
    "#panel title\n",
    "ruleName = {200:\"ELB Status 200\", 500:\"ELB Status Error 500\", 400:\"ELB Status Error 400\"}\n",
    "#panel_id \n",
    "ruleId = {200:2, 500:18, 400:8}\n",
    "\n",
    "for i in key_dict:\n",
    "    idx = key_dict[i]\n",
    "\n",
    "    data = {\"evalMatches\":[], \"message\":\"This card is for status reporting. \\nPlease check the graph below.\", \"state\":\"alerting\"}\n",
    "    data[\"ruleId\"] = ruleId[idx]\n",
    "    data[\"ruleName\"] = \"[Report] - %s\"%ruleName[idx]\n",
    "    data[\"title\"] = \"[Report] - %s\"%ruleName[idx]\n",
    "    \n",
    "    ruleUrl_form = \"http://13.231.223.137:3000/d/4dgCpYbmz/ls-monit-v1-0?fullscreen=true\\u0026edit=true\\u0026panelId\\u0026orgId=1\"\n",
    "    ruleUrl_form = ruleUrl_form.replace(\"panelId\", \"panelId=%s\"%ruleId[idx])\n",
    "    \n",
    "    data[\"ruleUrl\"] = ruleUrl_form\n",
    "    res = requests.post(url, data=json.dumps(data))"
   ]
  },
  {
   "cell_type": "code",
   "execution_count": 7,
   "metadata": {},
   "outputs": [
    {
     "data": {
      "text/plain": [
       "200"
      ]
     },
     "execution_count": 7,
     "metadata": {},
     "output_type": "execute_result"
    }
   ],
   "source": [
    "key_dict = {0:200, 1:400, 2:500}\n",
    "key_dict[0]"
   ]
  },
  {
   "cell_type": "code",
   "execution_count": 10,
   "metadata": {},
   "outputs": [
    {
     "data": {
      "text/plain": [
       "'hi'"
      ]
     },
     "execution_count": 10,
     "metadata": {},
     "output_type": "execute_result"
    }
   ],
   "source": [
    "msg = \"hi\"\n",
    "msg = msg.replace(\"A\", \"\")\n",
    "msg"
   ]
  }
 ],
 "metadata": {
  "kernelspec": {
   "display_name": "Python 3",
   "language": "python",
   "name": "python3"
  },
  "language_info": {
   "codemirror_mode": {
    "name": "ipython",
    "version": 3
   },
   "file_extension": ".py",
   "mimetype": "text/x-python",
   "name": "python",
   "nbconvert_exporter": "python",
   "pygments_lexer": "ipython3",
   "version": "3.7.0"
  }
 },
 "nbformat": 4,
 "nbformat_minor": 2
}
