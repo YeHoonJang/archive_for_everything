{
 "cells": [
  {
   "cell_type": "code",
   "execution_count": 34,
   "metadata": {},
   "outputs": [],
   "source": [
    "url = \"http://13.231.223.137:3000/d/4dgCpYbmz/ls-monit-v1-0?fullscreen=true\\u0026edit=true\\u0026tab=alert\\u0026panelId=8\\u0026orgId=1\""
   ]
  },
  {
   "cell_type": "code",
   "execution_count": 35,
   "metadata": {},
   "outputs": [],
   "source": [
    "url = url.replace(\"13.231.223.137:3000\", \"grafana.drmkeyserver.com\")"
   ]
  },
  {
   "cell_type": "code",
   "execution_count": 36,
   "metadata": {},
   "outputs": [],
   "source": [
    "url1 = url"
   ]
  },
  {
   "cell_type": "code",
   "execution_count": 37,
   "metadata": {},
   "outputs": [
    {
     "data": {
      "text/plain": [
       "'http://grafana.drmkeyserver.com/d/4dgCpYbmz/ls-monit-v1-0?fullscreen=true&edit=true&tab=alert&panelId=8&orgId=1'"
      ]
     },
     "execution_count": 37,
     "metadata": {},
     "output_type": "execute_result"
    }
   ],
   "source": [
    "url"
   ]
  },
  {
   "cell_type": "code",
   "execution_count": 38,
   "metadata": {},
   "outputs": [],
   "source": [
    "url1 = url.replace(\"&edit&tab=alert\", \"\")"
   ]
  },
  {
   "cell_type": "code",
   "execution_count": 41,
   "metadata": {},
   "outputs": [
    {
     "data": {
      "text/plain": [
       "'http://grafana.drmkeyserver.com/d/4dgCpYbmz/ls-monit-v1-0?fullscreen=true&edit=true&tab=alert&panelId=8&orgId=1'"
      ]
     },
     "execution_count": 41,
     "metadata": {},
     "output_type": "execute_result"
    }
   ],
   "source": [
    "url1"
   ]
  },
  {
   "cell_type": "code",
   "execution_count": 42,
   "metadata": {},
   "outputs": [
    {
     "data": {
      "text/plain": [
       "'http://grafana.drmkeyserver.com/d/4dgCpYbmz/ls-monit-v1-0?fullscreen=true&edit=true&tab=alert&panelId=8&orgId=1'"
      ]
     },
     "execution_count": 42,
     "metadata": {},
     "output_type": "execute_result"
    }
   ],
   "source": [
    "url"
   ]
  },
  {
   "cell_type": "code",
   "execution_count": 43,
   "metadata": {},
   "outputs": [],
   "source": [
    "url = url.replace(\"&edit=true&tab=alert\", \"\")"
   ]
  },
  {
   "cell_type": "code",
   "execution_count": 44,
   "metadata": {},
   "outputs": [
    {
     "data": {
      "text/plain": [
       "'http://grafana.drmkeyserver.com/d/4dgCpYbmz/ls-monit-v1-0?fullscreen=true&panelId=8&orgId=1'"
      ]
     },
     "execution_count": 44,
     "metadata": {},
     "output_type": "execute_result"
    }
   ],
   "source": [
    "url"
   ]
  },
  {
   "cell_type": "code",
   "execution_count": 45,
   "metadata": {},
   "outputs": [
    {
     "data": {
      "text/plain": [
       "'http://grafana.drmkeyserver.com/d/4dgCpYbmz/ls-monit-v1-0?fullscreen=true&edit=true&tab=alert&panelId=8&orgId=1'"
      ]
     },
     "execution_count": 45,
     "metadata": {},
     "output_type": "execute_result"
    }
   ],
   "source": [
    "url1"
   ]
  },
  {
   "cell_type": "code",
   "execution_count": 53,
   "metadata": {},
   "outputs": [],
   "source": [
    "elb_400_img= \"http://grafana.drmkeyserver.com/render/d-solo/4dgCpYbmz/ls-monit-v1-0?panelId=8&orgId=1&from=1540518142331&to=1540539742332&width=1000&height=500&tz=Asia%2FSeoul\""
   ]
  },
  {
   "cell_type": "code",
   "execution_count": 54,
   "metadata": {},
   "outputs": [
    {
     "data": {
      "text/plain": [
       "'http://grafana.drmkeyserver.com/render/d-solo/4dgCpYbmz/ls-monit-v1-0?panelId=8&orgId=1&from=1540518142331&to=1540539742332&width=1000&height=500&tz=Asia%2FSeoul'"
      ]
     },
     "execution_count": 54,
     "metadata": {},
     "output_type": "execute_result"
    }
   ],
   "source": [
    "elb_400_img"
   ]
  },
  {
   "cell_type": "code",
   "execution_count": 55,
   "metadata": {},
   "outputs": [],
   "source": [
    "elb_500_img =\"http://grafana.drmkeyserver.com/render/d-solo/4dgCpYbmz/ls-monit-v1-0?panelId=18&orgId=1&from=1540518335138&to=1540539935140&width=1000&height=500&tz=Asia%2FSeoul\""
   ]
  },
  {
   "cell_type": "code",
   "execution_count": 56,
   "metadata": {},
   "outputs": [
    {
     "data": {
      "text/plain": [
       "'http://grafana.drmkeyserver.com/render/d-solo/4dgCpYbmz/ls-monit-v1-0?panelId=18&orgId=1&from=1540518335138&to=1540539935140&width=1000&height=500&tz=Asia%2FSeoul'"
      ]
     },
     "execution_count": 56,
     "metadata": {},
     "output_type": "execute_result"
    }
   ],
   "source": [
    "elb_500_img"
   ]
  },
  {
   "cell_type": "code",
   "execution_count": null,
   "metadata": {},
   "outputs": [],
   "source": []
  }
 ],
 "metadata": {
  "kernelspec": {
   "display_name": "Python 3",
   "language": "python",
   "name": "python3"
  },
  "language_info": {
   "codemirror_mode": {
    "name": "ipython",
    "version": 3
   },
   "file_extension": ".py",
   "mimetype": "text/x-python",
   "name": "python",
   "nbconvert_exporter": "python",
   "pygments_lexer": "ipython3",
   "version": "3.7.0"
  }
 },
 "nbformat": 4,
 "nbformat_minor": 2
}
