{
 "cells": [
  {
   "cell_type": "code",
   "execution_count": 12,
   "metadata": {},
   "outputs": [],
   "source": [
    "message={\"evalMatches\":[],\"message\":\"Test Message\",\"ruleId\":8,\"ruleName\":\"ELB Status Error 400 alert\",\"ruleUrl\":\"http://13.231.223.137:3000/d/4dgCpYbmz/ls-monit-v1-0?fullscreen=true\\u0026edit=true\\u0026tab=alert\\u0026panelId=213\\u0026orgId=1\",\"state\":\"alerting\",\"title\":\"[Alerting] ELB Status Error 400 alert\"}"
   ]
  },
  {
   "cell_type": "code",
   "execution_count": 13,
   "metadata": {},
   "outputs": [
    {
     "data": {
      "text/plain": [
       "{'evalMatches': [],\n",
       " 'message': 'Test Message',\n",
       " 'ruleId': 8,\n",
       " 'ruleName': 'ELB Status Error 400 alert',\n",
       " 'ruleUrl': 'http://13.231.223.137:3000/d/4dgCpYbmz/ls-monit-v1-0?fullscreen=true&edit=true&tab=alert&panelId=213&orgId=1',\n",
       " 'state': 'alerting',\n",
       " 'title': '[Alerting] ELB Status Error 400 alert'}"
      ]
     },
     "execution_count": 13,
     "metadata": {},
     "output_type": "execute_result"
    }
   ],
   "source": [
    "message"
   ]
  },
  {
   "cell_type": "code",
   "execution_count": 14,
   "metadata": {},
   "outputs": [],
   "source": [
    "message[\"ruleUrl\"] = message[\"ruleUrl\"].replace(\"13.231.223.137:3000\", \"grafana.drmkeyserver.com\")\n",
    "message[\"ruleUrl\"] = message[\"ruleUrl\"].replace(\"&edit&tab=alert\", \"\")"
   ]
  },
  {
   "cell_type": "code",
   "execution_count": 15,
   "metadata": {},
   "outputs": [
    {
     "name": "stdout",
     "output_type": "stream",
     "text": [
      "fullscreen=true\n",
      "edit=true\n",
      "tab=alert\n",
      "panelId=213\n",
      "P: 213\n",
      "orgId=1\n"
     ]
    }
   ],
   "source": [
    "import time\n",
    "import datetime\n",
    "import requests\n",
    "url_list = message[\"ruleUrl\"].split(\"/\")\n",
    "url = \"%s//%s\"%(url_list[0],url_list[2])\n",
    "parameter = url_list[-1].split(\"?\")\n",
    "page = parameter[0]\n",
    "parm_str = \"\"\n",
    "for i in parameter[1].split(\"&\"):\n",
    "    print(i)\n",
    "    if \"orgId\" in i:\n",
    "        parm_str = \"%s%s&\"%(parm_str,i)\n",
    "    if \"panelId\" in i:\n",
    "        panel_id = i.split(\"=\")[-1]\n",
    "        print(\"P:\", panel_id)\n",
    "        parm_str = \"%s%s&\"%(parm_str,i)"
   ]
  },
  {
   "cell_type": "code",
   "execution_count": 17,
   "metadata": {},
   "outputs": [
    {
     "data": {
      "text/plain": [
       "'http://grafana.drmkeyserver.com/render/d-solo/4dgCpYbmz/ls-monit-v1-0?panelId=213&orgId=1&to=1540800262000&from=1540793062000&width=1000&height=500&tz=Asia%2FSeoul.png'"
      ]
     },
     "execution_count": 17,
     "metadata": {},
     "output_type": "execute_result"
    }
   ],
   "source": [
    "auth_key = \"Bearer eyJrIjoiNjdKNGtHS2J0Ym9pZlVlOGloNG5yMnpzaUtTUmZGR1oiLCJuIjoicG5nLXRlc3QiLCJpZCI6MX0=\"\n",
    "header = {\"Authorization\" : auth_key,\"Accept\":\"application/json\", \"Content-Type\":\"application/json\"}\n",
    "timestamp = int(time.mktime(datetime.datetime.now().timetuple()))\n",
    "request_png_url = \"%s/render/d-solo/%s/%s?%sto=%d&from=%d&width=1000&height=500&tz=Asia\\Seoul.png\"%(url,url_list[4],page,parm_str,timestamp*1000,(timestamp-7200)*1000)\n",
    "request_png_url = request_png_url.replace(\"\\\\\",\"%2F\")\n",
    "request_png_url"
   ]
  },
  {
   "cell_type": "code",
   "execution_count": 8,
   "metadata": {},
   "outputs": [
    {
     "data": {
      "text/plain": [
       "'4dgCpYbmz-213.png'"
      ]
     },
     "execution_count": 8,
     "metadata": {},
     "output_type": "execute_result"
    }
   ],
   "source": [
    "# logging.info(request_png_url)\n",
    "png_name = \"%s-%s.png\"%(url_list[4], panel_id)\n",
    "png_name"
   ]
  },
  {
   "cell_type": "code",
   "execution_count": 9,
   "metadata": {},
   "outputs": [
    {
     "data": {
      "text/plain": [
       "'https://license-eval.drmkeyserver.com/4dgCpYbmz-213.png?1540800175'"
      ]
     },
     "execution_count": 9,
     "metadata": {},
     "output_type": "execute_result"
    }
   ],
   "source": [
    "# logging.info(request_png_url)\n",
    "png_name = \"%s-%s.png\"%(url_list[4], panel_id)\n",
    "# logging.info(png_name)\n",
    "# r = requests.get(request_png_url, headers=header)\n",
    "message[\"imageUrl\"] = \"https://license-eval.drmkeyserver.com/%s?%d\"%(png_name,timestamp)\n",
    "message[\"imageUrl\"]"
   ]
  },
  {
   "cell_type": "code",
   "execution_count": 10,
   "metadata": {},
   "outputs": [
    {
     "ename": "SyntaxError",
     "evalue": "unexpected EOF while parsing (<ipython-input-10-3c802048a8ac>, line 19)",
     "output_type": "error",
     "traceback": [
      "\u001b[0;36m  File \u001b[0;32m\"<ipython-input-10-3c802048a8ac>\"\u001b[0;36m, line \u001b[0;32m19\u001b[0m\n\u001b[0;31m    \"imageUrl\": message[\"imageUrl\"]\u001b[0m\n\u001b[0m                                   ^\u001b[0m\n\u001b[0;31mSyntaxError\u001b[0m\u001b[0;31m:\u001b[0m unexpected EOF while parsing\n"
     ]
    }
   ],
   "source": [
    "    with open(\"/usr/share/nginx/html/%s\"%png_name,\"w+\") as f:\n",
    "        for chunk in r.iter_content(1024):\n",
    "            f.write(chunk)\n",
    "    message[\"imageUrl\"] = \"https://license-eval.drmkeyserver.com/%s?%d\"%(png_name,timestamp)\n",
    "    logging.info(\"get_png\")\n",
    "    text_msg = {\n",
    "        \"cards\": [\n",
    "            {\n",
    "                \"header\": {\n",
    "                    \"title\": message[\"title\"],\n",
    "                    \"subtitle\": message[\"message\"]\n",
    "                },\n",
    "                \"sections\": [\n",
    "                    {\n",
    "                        \"header\": message[\"title\"],\n",
    "                        \"widgets\": [\n",
    "                            {\n",
    "                                \"image\": {\n",
    "                                    \"imageUrl\": message[\"imageUrl\"]"
   ]
  },
  {
   "cell_type": "code",
   "execution_count": 1,
   "metadata": {},
   "outputs": [],
   "source": [
    "import time\n",
    "import atexit\n",
    "\n",
    "from apscheduler.schedulers.background import BackgroundScheduler\n",
    "\n",
    "\n",
    "def print_date_time():\n",
    "    print(time.strftime(\"%A, %d. %B %Y %I:%M:%S %p\"))"
   ]
  },
  {
   "cell_type": "code",
   "execution_count": 3,
   "metadata": {},
   "outputs": [
    {
     "data": {
      "text/plain": [
       "<function __main__.<lambda>()>"
      ]
     },
     "execution_count": 3,
     "metadata": {},
     "output_type": "execute_result"
    },
    {
     "name": "stdout",
     "output_type": "stream",
     "text": [
      "Tuesday, 30. October 2018 12:24:49 PM\n"
     ]
    }
   ],
   "source": [
    "scheduler = BackgroundScheduler()\n",
    "scheduler.add_job(func=print_date_time, trigger=\"interval\", seconds=3)\n",
    "scheduler.start()\n",
    "\n",
    "# Shut down the scheduler when exiting the app\n",
    "atexit.register(lambda: scheduler.shutdown())"
   ]
  },
  {
   "cell_type": "code",
   "execution_count": 4,
   "metadata": {},
   "outputs": [
    {
     "name": "stdout",
     "output_type": "stream",
     "text": [
      "Tuesday, 30. October 2018 12:24:51 PM\n",
      "Tuesday, 30. October 2018 12:24:52 PM\n",
      "Tuesday, 30. October 2018 12:24:55 PM\n",
      "Tuesday, 30. October 2018 12:24:58 PM\n"
     ]
    }
   ],
   "source": [
    "print_date_time()"
   ]
  },
  {
   "cell_type": "code",
   "execution_count": 1,
   "metadata": {},
   "outputs": [],
   "source": [
    "import schedule\n",
    "import time"
   ]
  },
  {
   "cell_type": "code",
   "execution_count": null,
   "metadata": {},
   "outputs": [],
   "source": [
    "def job():    \n",
    "    print(\"Working...\")\n",
    "    print(\"DONE!!\")\n",
    "    now = time.gmtime(time.time())\n",
    "    print(now.tm_hour, now.tm_min, now.tm_sec)\n",
    "\n",
    "    schedule.every(1).minutes.do(job)"
   ]
  },
  {
   "cell_type": "code",
   "execution_count": null,
   "metadata": {
    "scrolled": false
   },
   "outputs": [],
   "source": [
    "def job_schedule():\n",
    "#     def job():    \n",
    "#         print(\"Working...\")\n",
    "#         print(\"DONE!!\")\n",
    "#         now = time.gmtime(time.time())\n",
    "#         print(now.tm_hour, now.tm_min, now.tm_sec)\n",
    "\n",
    "#     schedule.every(1).minutes.do(job)\n",
    "    while True:\n",
    "        schedule.run_pending()\n",
    "        time.sleep(1)"
   ]
  },
  {
   "cell_type": "code",
   "execution_count": null,
   "metadata": {},
   "outputs": [
    {
     "name": "stdout",
     "output_type": "stream",
     "text": [
      "are you still there?\n"
     ]
    }
   ],
   "source": [
    "if __name__ == \"__main__\":\n",
    "    print(\"are you still there?\")\n",
    "    job_schedule()"
   ]
  },
  {
   "cell_type": "code",
   "execution_count": null,
   "metadata": {},
   "outputs": [],
   "source": []
  }
 ],
 "metadata": {
  "kernelspec": {
   "display_name": "Python 3",
   "language": "python",
   "name": "python3"
  },
  "language_info": {
   "codemirror_mode": {
    "name": "ipython",
    "version": 3
   },
   "file_extension": ".py",
   "mimetype": "text/x-python",
   "name": "python",
   "nbconvert_exporter": "python",
   "pygments_lexer": "ipython3",
   "version": "3.7.0"
  }
 },
 "nbformat": 4,
 "nbformat_minor": 2
}
