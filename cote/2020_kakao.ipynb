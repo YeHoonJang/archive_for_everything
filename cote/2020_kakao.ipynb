{
 "cells": [
  {
   "cell_type": "code",
   "execution_count": 151,
   "metadata": {},
   "outputs": [],
   "source": [
    "def solution(numbers, hand):\n",
    "    import numpy as np\n",
    "    \n",
    "    answer = ''\n",
    "    left_hand = '*'\n",
    "    right_hand = '#'\n",
    "    \n",
    "    left_num = [1, 4, 7]\n",
    "    center_num = [2, 5, 8, 0]\n",
    "    right_num = [3, 6, 9]\n",
    "    \n",
    "    all_len ={\n",
    "        2: np.array([[1, 3, 5], [4, 6, 8], [7, 9, 0], ['*','#']]),    # 2 와 거리 1, 2, 3, 4\n",
    "        5: np.array([[2, 4, 6, 8], [1, 3, 7, 9, 0], ['*', '#']]),     # 5 와 거리 1, 2, 3, 4\n",
    "        8: [[5, 7, 9, 0], [2, 4, 6, '*', '#'], [1, 3]],     # 8 과 거리 1, 2, 3, 4\n",
    "        0: [[8, '*', '#'], [5, 7, 9], [2, 4, 6], [1, 3]]    # 0 과 거리 1, 2, 3, 4\n",
    "    }\n",
    "    \n",
    "    left_len = {\n",
    "        2: [[1, 5], [4, 8], [7, 0], ['*']],\n",
    "        5: [[2, 4, 8], [1, 7, 0], ['*']],\n",
    "        8: [[5, 7, 0], [2, 4, '*'], [1]],\n",
    "        0: [[8, '*'], [5, 7], [2, 4], [1]]\n",
    "    }\n",
    "    \n",
    "    right_len = {\n",
    "        2: [[3, 5], [6, 8], [9, 0], ['#']],\n",
    "        5: [[2, 6, 8], [3, 9, 0], ['#']],\n",
    "        8: [[5, 9, 0], [2, 6, '#'], [3]],\n",
    "        0: [[8, '#'], [5, 9], [2, 6], [3]]\n",
    "    }\n",
    "    \n",
    "    for i in range(len(numbers)):\n",
    "        now_num = int(numbers[i])\n",
    "        \n",
    "        if now_num in left_num:\n",
    "            left_hand = now_num\n",
    "            answer += \"L\"\n",
    "        if now_num in right_num:\n",
    "            right_hand = now_num\n",
    "            answer += \"R\"\n",
    "        \n",
    "        \n",
    "        elif now_num in center_num and hand==\"left\":\n",
    "            if i==0:\n",
    "                left_hand = now_num\n",
    "                answer += \"L\"\n",
    "            else:\n",
    "                a_len = 0\n",
    "                for a_idx, a_val in enumerate(all_len[now_num]):\n",
    "                    if right_hand in a_val:\n",
    "                        a_len = a_idx\n",
    "                l_len = 0\n",
    "                for l_idx, i_val in enumerate(left_len[now_num]):\n",
    "                    if left_hand in a_val:\n",
    "                        l_len = l_idx\n",
    "                \n",
    "                if a_len < l_len:\n",
    "                    answer += \"R\"\n",
    "                else:\n",
    "                    answer += \"L\"\n",
    "                \n",
    "        \n",
    "        elif now_num in center_num and hand==\"right\":\n",
    "            if i ==0:\n",
    "                right_hand = now_num\n",
    "                answer += \"R\"\n",
    "            else:\n",
    "                a_len = 0\n",
    "                for a_idx, a_val in enumerate(all_len[now_num]):\n",
    "                    if left_hand in a_val:\n",
    "                        a_len = a_idx\n",
    "                r_len = 0\n",
    "                for r_idx, r_val in enumerate(right_len[now_num]):\n",
    "                    if right_hand in a_val:\n",
    "                        r_len = r_idx\n",
    "                \n",
    "                if a_len < r_len:\n",
    "                    answer += \"L\"\n",
    "                else:\n",
    "                    answer += \"R\"\n",
    "        \n",
    "            \n",
    "        \n",
    "    return answer"
   ]
  },
  {
   "cell_type": "code",
   "execution_count": 152,
   "metadata": {},
   "outputs": [
    {
     "name": "stdout",
     "output_type": "stream",
     "text": [
      "LRLRLRLLRRR\n"
     ]
    }
   ],
   "source": [
    "# print(solution(\"21465\", \"right\")) #RLLRR\n",
    "# print(solution(\"21465\", \"left\")) #LLLRL\n",
    "print(solution([1, 3, 4, 5, 8, 2, 1, 4, 5, 9, 5], \"right\"))  # \"LRLLLRLLRRL\""
   ]
  },
  {
   "cell_type": "code",
   "execution_count": 79,
   "metadata": {},
   "outputs": [],
   "source": [
    "left_len = {\n",
    "        2: [[1, 5], [4, 8], [7, 0], ['*']],\n",
    "        5: [[2, 4, 8], [1, 7, 0], ['*']],\n",
    "        8: [[5, 7, 0], [2, 4, '*'], [1]],\n",
    "        0: [[8, '*'], [5, 7], [2, 4], [1]]\n",
    "}"
   ]
  },
  {
   "cell_type": "code",
   "execution_count": 109,
   "metadata": {},
   "outputs": [
    {
     "data": {
      "text/plain": [
       "[[1, 5], [4, 8], [7, 0], ['*']]"
      ]
     },
     "execution_count": 109,
     "metadata": {},
     "output_type": "execute_result"
    }
   ],
   "source": [
    "left_len[2]"
   ]
  },
  {
   "cell_type": "code",
   "execution_count": 121,
   "metadata": {},
   "outputs": [
    {
     "name": "stdout",
     "output_type": "stream",
     "text": [
      "1\n"
     ]
    }
   ],
   "source": [
    "length = 0\n",
    "for idx, val in enumerate(left_len[2]):\n",
    "    if 4 in val:\n",
    "        length = idx\n",
    "        \n",
    "print(length)"
   ]
  },
  {
   "cell_type": "code",
   "execution_count": 103,
   "metadata": {},
   "outputs": [],
   "source": [
    "n = np.array([[[1, 5], [4, 8], [7, 0], ['*']],\n",
    "        [[2, 4, 8], [1, 7, 0], ['*']],\n",
    "        [[5, 7, 0], [2, 4, '*'], [1]],\n",
    "        [[8, '*'], [5, 7], [2, 4], [1]]])"
   ]
  },
  {
   "cell_type": "code",
   "execution_count": 108,
   "metadata": {},
   "outputs": [
    {
     "name": "stderr",
     "output_type": "stream",
     "text": [
      "/Users/yehoon/opt/anaconda3/lib/python3.7/site-packages/ipykernel_launcher.py:1: DeprecationWarning: elementwise comparison failed; this will raise an error in the future.\n",
      "  \"\"\"Entry point for launching an IPython kernel.\n"
     ]
    },
    {
     "data": {
      "text/plain": [
       "(array([], dtype=int64),)"
      ]
     },
     "execution_count": 108,
     "metadata": {},
     "output_type": "execute_result"
    }
   ],
   "source": [
    "np.where(n==[1, 5])"
   ]
  },
  {
   "cell_type": "code",
   "execution_count": 102,
   "metadata": {},
   "outputs": [
    {
     "data": {
      "text/plain": [
       "[[8, '*'], [5, 7], [2, 4], [1]]"
      ]
     },
     "execution_count": 102,
     "metadata": {},
     "output_type": "execute_result"
    }
   ],
   "source": [
    "left_len[0]"
   ]
  },
  {
   "cell_type": "code",
   "execution_count": null,
   "metadata": {},
   "outputs": [],
   "source": []
  }
 ],
 "metadata": {
  "kernelspec": {
   "display_name": "Python 3",
   "language": "python",
   "name": "python3"
  },
  "language_info": {
   "codemirror_mode": {
    "name": "ipython",
    "version": 3
   },
   "file_extension": ".py",
   "mimetype": "text/x-python",
   "name": "python",
   "nbconvert_exporter": "python",
   "pygments_lexer": "ipython3",
   "version": "3.7.4"
  }
 },
 "nbformat": 4,
 "nbformat_minor": 2
}
