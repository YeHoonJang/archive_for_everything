{
 "cells": [
  {
   "cell_type": "markdown",
   "metadata": {},
   "source": [
    "# 1"
   ]
  },
  {
   "cell_type": "code",
   "execution_count": 3,
   "metadata": {},
   "outputs": [],
   "source": [
    "arr = [10, 4, -8, 7]"
   ]
  },
  {
   "cell_type": "code",
   "execution_count": 4,
   "metadata": {},
   "outputs": [],
   "source": [
    "total = sum(arr)\n",
    "tmp = 0\n",
    "counts = 0\n",
    "for i in range(len(arr)-1):\n",
    "    tmp+=arr[i]\n",
    "    if tmp>total-tmp:\n",
    "        counts += 1"
   ]
  },
  {
   "cell_type": "code",
   "execution_count": 5,
   "metadata": {},
   "outputs": [
    {
     "name": "stdout",
     "output_type": "stream",
     "text": [
      "2\n"
     ]
    }
   ],
   "source": [
    "print(counts)"
   ]
  },
  {
   "cell_type": "markdown",
   "metadata": {},
   "source": [
    "# 2"
   ]
  },
  {
   "cell_type": "code",
   "execution_count": 6,
   "metadata": {},
   "outputs": [],
   "source": [
    "timestamp = [0,1,2,3,4,5]\n",
    "top = [5]"
   ]
  },
  {
   "cell_type": "code",
   "execution_count": 13,
   "metadata": {},
   "outputs": [],
   "source": [
    "#왜 안돼?\n",
    "top = [20, 22, 28, 43, 57, 57]\n",
    "timestamp = [54, 52, 34, 42, 30, 25, 36, 29, 49, 23, 30, 29, 58, 21, 33, 6, 25, 16, 26, 38, 5, 24, 30, 21, 21, 13, 13, 50, 8, 8, 31, 23, 16, 59, 16, 39, 36, 17, 35, 2, 4]"
   ]
  },
  {
   "cell_type": "code",
   "execution_count": 12,
   "metadata": {},
   "outputs": [
    {
     "name": "stdout",
     "output_type": "stream",
     "text": [
      "10\n"
     ]
    }
   ],
   "source": [
    "try:\n",
    "    idx = 0 \n",
    "    counts = 0\n",
    "    for i in top:\n",
    "        tmp = 0\n",
    "        for _ in range(5):\n",
    "            if timestamp[idx]<=i and tmp<=5:\n",
    "                tmp+=1\n",
    "                idx+=1\n",
    "            elif timestamp[idx]>i or tmp>5:\n",
    "                break\n",
    "        counts += tmp\n",
    "    print(counts)  \n",
    "except:\n",
    "    counts+=tmp\n",
    "    print(counts)\n",
    "    pass"
   ]
  },
  {
   "cell_type": "code",
   "execution_count": null,
   "metadata": {},
   "outputs": [],
   "source": []
  }
 ],
 "metadata": {
  "kernelspec": {
   "display_name": "Python 3",
   "language": "python",
   "name": "python3"
  },
  "language_info": {
   "codemirror_mode": {
    "name": "ipython",
    "version": 3
   },
   "file_extension": ".py",
   "mimetype": "text/x-python",
   "name": "python",
   "nbconvert_exporter": "python",
   "pygments_lexer": "ipython3",
   "version": "3.7.3"
  }
 },
 "nbformat": 4,
 "nbformat_minor": 2
}
