{
 "cells": [
  {
   "cell_type": "code",
   "execution_count": 290,
   "metadata": {},
   "outputs": [],
   "source": [
    "arr = [10, 4, -8, 7]"
   ]
  },
  {
   "cell_type": "code",
   "execution_count": 58,
   "metadata": {},
   "outputs": [
    {
     "name": "stdout",
     "output_type": "stream",
     "text": [
      "1 [10]\n",
      "2 [4, -8, 7]\n",
      "1 [10, 4]\n",
      "2 [-8, 7]\n",
      "1 [10, 4, -8]\n",
      "2 [7]\n"
     ]
    }
   ],
   "source": [
    "counts = 0\n",
    "for i in range(len(arr)):\n",
    "    if len(arr[:i])!=0 and len(arr[i:])!=0:\n",
    "        print(\"1\", arr[:i])\n",
    "        print(\"2\", arr[i:])\n",
    "        if sum(arr[:i])>sum(arr[i:]):\n",
    "        \n",
    "            counts+=1"
   ]
  },
  {
   "cell_type": "code",
   "execution_count": 286,
   "metadata": {
    "scrolled": true
   },
   "outputs": [
    {
     "name": "stdout",
     "output_type": "stream",
     "text": [
      "tmp:  10  /  3 / arr[idx:-1] :  [4, -8, 7]\n",
      "tmp:  14  /  -1 / arr[idx:-1] :  [-8, 7]\n",
      "tmp:  6  /  7 / arr[idx:-1] :  [7]\n",
      "2\n"
     ]
    }
   ],
   "source": [
    "tmp = 0\n",
    "counts = 0\n",
    "for idx in range(len(arr)-1):\n",
    "    tmp += arr[idx]\n",
    "    print(\"tmp: \", tmp,\" / \", sum(arr[idx+1:]), \"/ arr[idx:-1] : \", arr[idx+1:])\n",
    "    if tmp>sum(arr[idx+1:]):\n",
    "        counts+=1\n",
    "print(counts)"
   ]
  },
  {
   "cell_type": "code",
   "execution_count": 301,
   "metadata": {},
   "outputs": [],
   "source": [
    "arr = [10, 4, -8, 7]"
   ]
  },
  {
   "cell_type": "code",
   "execution_count": 304,
   "metadata": {},
   "outputs": [
    {
     "name": "stdout",
     "output_type": "stream",
     "text": [
      "tmp>total-tmp = 10 3\n",
      "tmp>total-tmp = 14 -1\n",
      "2\n"
     ]
    }
   ],
   "source": [
    "total = sum(arr)\n",
    "tmp = 0\n",
    "counts = 0\n",
    "for i in range(len(arr)-1):\n",
    "    tmp+=arr[i]\n",
    "    if tmp>total-tmp:\n",
    "        print(\"tmp>total-tmp =\", tmp,total-tmp)\n",
    "        counts += 1\n",
    "print(counts)"
   ]
  },
  {
   "cell_type": "code",
   "execution_count": 289,
   "metadata": {},
   "outputs": [
    {
     "ename": "TypeError",
     "evalue": "unsupported operand type(s) for -: 'list' and 'int'",
     "output_type": "error",
     "traceback": [
      "\u001b[1;31m---------------------------------------------------------------------------\u001b[0m",
      "\u001b[1;31mTypeError\u001b[0m                                 Traceback (most recent call last)",
      "\u001b[1;32m<ipython-input-289-4750c5ecba48>\u001b[0m in \u001b[0;36m<module>\u001b[1;34m\u001b[0m\n\u001b[1;32m----> 1\u001b[1;33m \u001b[0mcounts\u001b[0m \u001b[1;33m=\u001b[0m \u001b[1;33m[\u001b[0m\u001b[0mcounts\u001b[0m \u001b[1;32mfor\u001b[0m \u001b[0midx\u001b[0m \u001b[1;32min\u001b[0m \u001b[0mrange\u001b[0m\u001b[1;33m(\u001b[0m\u001b[0mlen\u001b[0m\u001b[1;33m(\u001b[0m\u001b[0marr\u001b[0m\u001b[1;33m-\u001b[0m\u001b[1;36m1\u001b[0m\u001b[1;33m)\u001b[0m\u001b[1;33m)\u001b[0m \u001b[1;32mif\u001b[0m \u001b[0mtmp\u001b[0m\u001b[1;33m>\u001b[0m\u001b[0msum\u001b[0m\u001b[1;33m(\u001b[0m\u001b[0marr\u001b[0m\u001b[1;33m[\u001b[0m\u001b[0midx\u001b[0m\u001b[1;33m+\u001b[0m\u001b[1;36m1\u001b[0m\u001b[1;33m:\u001b[0m\u001b[1;33m]\u001b[0m\u001b[1;33m)\u001b[0m \u001b[1;33m]\u001b[0m\u001b[1;33m\u001b[0m\u001b[1;33m\u001b[0m\u001b[0m\n\u001b[0m",
      "\u001b[1;31mTypeError\u001b[0m: unsupported operand type(s) for -: 'list' and 'int'"
     ]
    }
   ],
   "source": [
    "counts = [counts for idx in range(len(arr-1)) if tmp>sum(arr[idx+1:]) ]"
   ]
  },
  {
   "cell_type": "code",
   "execution_count": 305,
   "metadata": {},
   "outputs": [],
   "source": [
    "top = [20, 22, 28, 43, 57, 57]\n",
    "timestamp = [54, 52, 34, 42, 30, 25, 36, 29, 49, 23, 30, 29, 58, 21, 33, 6, 25, 16, 26, 38, 5, 24, 30, 21, 21, 13, 13, 50, 8, 8, 31, 23, 16, 59, 16, 39, 36, 17, 35, 2, 4]"
   ]
  },
  {
   "cell_type": "code",
   "execution_count": 306,
   "metadata": {},
   "outputs": [
    {
     "name": "stdout",
     "output_type": "stream",
     "text": [
      "TS: 6\n",
      "i 1\n",
      "TS: 16\n",
      "i 2\n",
      "TS: 5\n",
      "i 3\n",
      "TS: 13\n",
      "i 4\n",
      "TS: 13\n",
      "i 5\n",
      "TS: 8\n",
      "i 6\n",
      "TS: 21\n",
      "i 7\n",
      "TS: 6\n",
      "i 8\n",
      "TS: 16\n",
      "i 9\n",
      "TS: 5\n",
      "i 10\n",
      "TS: 21\n",
      "i 11\n",
      "TS: 21\n",
      "i 12\n",
      "TS: 26\n",
      "i 13\n",
      "TS: 5\n",
      "i 14\n",
      "TS: 24\n",
      "i 15\n",
      "TS: 21\n",
      "i 16\n",
      "TS: 21\n",
      "i 17\n",
      "TS: 13\n",
      "i 18\n",
      "TS: 36\n",
      "i 19\n",
      "TS: 17\n",
      "i 20\n",
      "TS: 35\n",
      "i 21\n",
      "TS: 2\n",
      "i 22\n",
      "TS: 4\n",
      "i 23\n",
      "23\n"
     ]
    }
   ],
   "source": [
    "counts = 0\n",
    "idx = 0\n",
    "for i in top:\n",
    "    tmp = 0\n",
    "    timestamp = timestamp[idx:]\n",
    "    for j in range(len(timestamp)):\n",
    "        if timestamp[j]<i and tmp <=5:\n",
    "            print(\"TS:\", timestamp[j])\n",
    "            idx += 1\n",
    "            print(\"i\", idx)\n",
    "            tmp += 1\n",
    "    counts += tmp\n",
    "print(counts)"
   ]
  },
  {
   "cell_type": "code",
   "execution_count": 91,
   "metadata": {},
   "outputs": [],
   "source": [
    "a = [1, 2, 3]\n",
    "b = [1]"
   ]
  },
  {
   "cell_type": "code",
   "execution_count": 231,
   "metadata": {},
   "outputs": [],
   "source": [
    "top = [5]\n",
    "timestamp = [0,1,1,2,4,5]"
   ]
  },
  {
   "cell_type": "code",
   "execution_count": 309,
   "metadata": {},
   "outputs": [],
   "source": [
    "top = [20, 22, 28, 43, 57, 57]\n",
    "timestamp = [54, 52, 34, 42, 30, 25, 36, 29, 49, 23, 30, 29, 58, 21, 33, 6, 25, 16, 26, 38, 5, 24, 30, 21, 21, 13, 13, 50, 8, 8, 31, 23, 16, 59, 16, 39, 36, 17, 35, 2, 4]"
   ]
  },
  {
   "cell_type": "code",
   "execution_count": 317,
   "metadata": {},
   "outputs": [
    {
     "name": "stdout",
     "output_type": "stream",
     "text": [
      "top: 20 ts: [54, 52, 34, 42, 30, 25, 36, 29, 49, 23, 30, 29, 58, 21, 33, 6, 25, 16, 26, 38, 5, 24, 30, 21, 21, 13, 13, 50, 8, 8, 31, 23, 16, 59, 16, 39, 36, 17, 35, 2, 4]\n",
      "top: 22 ts: [54, 52, 34, 42, 30, 25, 36, 29, 49, 23, 30, 29, 58, 21, 33, 6, 25, 16, 26, 38, 5, 24, 30, 21, 21, 13, 13, 50, 8, 8, 31, 23, 16, 59, 16, 39, 36, 17, 35, 2, 4]\n",
      "top: 28 ts: [54, 52, 34, 42, 30, 25, 36, 29, 49, 23, 30, 29, 58, 21, 33, 6, 25, 16, 26, 38, 5, 24, 30, 21, 21, 13, 13, 50, 8, 8, 31, 23, 16, 59, 16, 39, 36, 17, 35, 2, 4]\n",
      "top: 43 ts: [54, 52, 34, 42, 30, 25, 36, 29, 49, 23, 30, 29, 58, 21, 33, 6, 25, 16, 26, 38, 5, 24, 30, 21, 21, 13, 13, 50, 8, 8, 31, 23, 16, 59, 16, 39, 36, 17, 35, 2, 4]\n",
      "top: 57 ts: [54, 52, 34, 42, 30, 25, 36, 29, 49, 23, 30, 29, 58, 21, 33, 6, 25, 16, 26, 38, 5, 24, 30, 21, 21, 13, 13, 50, 8, 8, 31, 23, 16, 59, 16, 39, 36, 17, 35, 2, 4]\n",
      "!!!!! 0\n",
      "idx: 0 tmp: 0\n",
      "54\n",
      "52\n",
      "idx: 1 tmp: 1\n",
      "52\n",
      "34\n",
      "idx: 2 tmp: 2\n",
      "34\n",
      "42\n",
      "idx: 3 tmp: 3\n",
      "42\n",
      "30\n",
      "idx: 4 tmp: 4\n",
      "30\n",
      "25\n",
      "c: 5\n",
      "-----------------------\n",
      "top: 57 ts: [54, 52, 34, 42, 30, 25, 36, 29, 49, 23, 30, 29, 58, 21, 33, 6, 25, 16, 26, 38, 5, 24, 30, 21, 21, 13, 13, 50, 8, 8, 31, 23, 16, 59, 16, 39, 36, 17, 35, 2, 4]\n",
      "!!!!! 5\n",
      "idx: 5 tmp: 0\n",
      "25\n",
      "36\n",
      "idx: 6 tmp: 1\n",
      "36\n",
      "29\n",
      "idx: 7 tmp: 2\n",
      "29\n",
      "49\n",
      "idx: 8 tmp: 3\n",
      "49\n",
      "23\n",
      "idx: 9 tmp: 4\n",
      "23\n",
      "30\n",
      "c: 10\n",
      "-----------------------\n"
     ]
    }
   ],
   "source": [
    "idx = 0 \n",
    "counts = 0\n",
    "for i in top:\n",
    "    tmp = 0\n",
    "    print(\"top:\", i, \"ts:\", timestamp)\n",
    "    if timestamp[idx] < i and tmp<=5:\n",
    "        print(\"!!!!!\", counts)\n",
    "        for _ in range(5):\n",
    "            print(\"idx:\", idx, \"tmp:\", tmp)\n",
    "            if tmp<=5:\n",
    "                print(timestamp[idx])\n",
    "                tmp+=1\n",
    "                idx+=1\n",
    "                print(timestamp[idx])\n",
    "#                 print(\"idx2:\", idx, \"tmp2:\", tmp)\n",
    "            elif timestamp[idx]>i or tmp>5:\n",
    "                print(\"idx3:\", idx, \"tmp3:\", tmp)\n",
    "                break\n",
    "        counts += tmp\n",
    "        print(\"c:\", counts)\n",
    "        print(\"-----------------------\")"
   ]
  },
  {
   "cell_type": "code",
   "execution_count": 321,
   "metadata": {},
   "outputs": [],
   "source": [
    "x = 3\n",
    "arr = [2, 5, 4, 6, 8]"
   ]
  },
  {
   "cell_type": "code",
   "execution_count": 322,
   "metadata": {},
   "outputs": [
    {
     "name": "stdout",
     "output_type": "stream",
     "text": [
      "4\n"
     ]
    }
   ],
   "source": [
    "tmp = []\n",
    "for idx, val in enumerate(arr):\n",
    "    a = arr[idx:idx+x]\n",
    "    if len(a)==x:\n",
    "        tmp.append(min(arr[idx:idx+x]))\n",
    "print(max(tmp))"
   ]
  },
  {
   "cell_type": "code",
   "execution_count": 258,
   "metadata": {},
   "outputs": [],
   "source": [
    "tmp = []\n",
    "for idx in arr:\n",
    "    a = arr[idx:idx+x]\n",
    "    if len(a)==x:\n",
    "        tmp.append(min(arr[idx:idx+x]))"
   ]
  },
  {
   "cell_type": "code",
   "execution_count": 260,
   "metadata": {},
   "outputs": [],
   "source": [
    "c = [0]"
   ]
  },
  {
   "cell_type": "code",
   "execution_count": 261,
   "metadata": {},
   "outputs": [
    {
     "data": {
      "text/plain": [
       "[]"
      ]
     },
     "execution_count": 261,
     "metadata": {},
     "output_type": "execute_result"
    }
   ],
   "source": [
    "c[0:0]"
   ]
  },
  {
   "cell_type": "code",
   "execution_count": 334,
   "metadata": {},
   "outputs": [],
   "source": [
    "x = 3\n",
    "arr = [2, 5, 4, 6, 8]"
   ]
  },
  {
   "cell_type": "code",
   "execution_count": 320,
   "metadata": {},
   "outputs": [
    {
     "name": "stdout",
     "output_type": "stream",
     "text": [
      "4\n"
     ]
    }
   ],
   "source": [
    "tmp = []\n",
    "for idx in range(len(arr)):\n",
    "    # a = arr[idx:idx+x]\n",
    "    if len(arr[idx:idx+x])==x:\n",
    "        tmp.append(min(arr[idx:idx+x]))\n",
    "    # print(tmp)\n",
    "    # else:\n",
    "        # print(len(arr), x)\n",
    "print(max(tmp))"
   ]
  },
  {
   "cell_type": "code",
   "execution_count": 331,
   "metadata": {},
   "outputs": [
    {
     "data": {
      "text/plain": [
       "4"
      ]
     },
     "execution_count": 331,
     "metadata": {},
     "output_type": "execute_result"
    }
   ],
   "source": [
    "max([min(arr[i:i+x]) for i in range(len(arr)-x+1)])"
   ]
  },
  {
   "cell_type": "code",
   "execution_count": 337,
   "metadata": {},
   "outputs": [
    {
     "name": "stdout",
     "output_type": "stream",
     "text": [
      "!! 4\n"
     ]
    }
   ],
   "source": [
    "tmp = 0\n",
    "for _ in range(len(arr)-x+1):\n",
    "    if tmp < min(arr[_:_+x]):\n",
    "        tmp = min(arr[_:_+x])\n",
    "print(\"!!\", tmp)"
   ]
  },
  {
   "cell_type": "code",
   "execution_count": 338,
   "metadata": {},
   "outputs": [
    {
     "ename": "NameError",
     "evalue": "name 'res' is not defined",
     "output_type": "error",
     "traceback": [
      "\u001b[1;31m---------------------------------------------------------------------------\u001b[0m",
      "\u001b[1;31mNameError\u001b[0m                                 Traceback (most recent call last)",
      "\u001b[1;32m<ipython-input-338-0615b3f83550>\u001b[0m in \u001b[0;36m<module>\u001b[1;34m\u001b[0m\n\u001b[1;32m----> 1\u001b[1;33m \u001b[1;33m[\u001b[0m\u001b[0mres\u001b[0m \u001b[1;32mfor\u001b[0m \u001b[0m_\u001b[0m \u001b[1;32min\u001b[0m \u001b[0mrange\u001b[0m\u001b[1;33m(\u001b[0m\u001b[0mlen\u001b[0m\u001b[1;33m(\u001b[0m\u001b[0marr\u001b[0m\u001b[1;33m)\u001b[0m\u001b[1;33m-\u001b[0m\u001b[0mx\u001b[0m\u001b[1;33m+\u001b[0m\u001b[1;36m1\u001b[0m\u001b[1;33m)\u001b[0m \u001b[1;32mif\u001b[0m \u001b[0mres\u001b[0m \u001b[1;33m<\u001b[0m \u001b[0mmin\u001b[0m\u001b[1;33m(\u001b[0m\u001b[0marr\u001b[0m\u001b[1;33m[\u001b[0m\u001b[0m_\u001b[0m\u001b[1;33m:\u001b[0m\u001b[0m_\u001b[0m\u001b[1;33m+\u001b[0m\u001b[0mx\u001b[0m\u001b[1;33m]\u001b[0m\u001b[1;33m)\u001b[0m\u001b[1;33m]\u001b[0m\u001b[1;33m\u001b[0m\u001b[1;33m\u001b[0m\u001b[0m\n\u001b[0m",
      "\u001b[1;32m<ipython-input-338-0615b3f83550>\u001b[0m in \u001b[0;36m<listcomp>\u001b[1;34m(.0)\u001b[0m\n\u001b[1;32m----> 1\u001b[1;33m \u001b[1;33m[\u001b[0m\u001b[0mres\u001b[0m \u001b[1;32mfor\u001b[0m \u001b[0m_\u001b[0m \u001b[1;32min\u001b[0m \u001b[0mrange\u001b[0m\u001b[1;33m(\u001b[0m\u001b[0mlen\u001b[0m\u001b[1;33m(\u001b[0m\u001b[0marr\u001b[0m\u001b[1;33m)\u001b[0m\u001b[1;33m-\u001b[0m\u001b[0mx\u001b[0m\u001b[1;33m+\u001b[0m\u001b[1;36m1\u001b[0m\u001b[1;33m)\u001b[0m \u001b[1;32mif\u001b[0m \u001b[0mres\u001b[0m \u001b[1;33m<\u001b[0m \u001b[0mmin\u001b[0m\u001b[1;33m(\u001b[0m\u001b[0marr\u001b[0m\u001b[1;33m[\u001b[0m\u001b[0m_\u001b[0m\u001b[1;33m:\u001b[0m\u001b[0m_\u001b[0m\u001b[1;33m+\u001b[0m\u001b[0mx\u001b[0m\u001b[1;33m]\u001b[0m\u001b[1;33m)\u001b[0m\u001b[1;33m]\u001b[0m\u001b[1;33m\u001b[0m\u001b[1;33m\u001b[0m\u001b[0m\n\u001b[0m",
      "\u001b[1;31mNameError\u001b[0m: name 'res' is not defined"
     ]
    }
   ],
   "source": [
    "[res for _ in range(len(arr)-x+1) if res < min(arr[_:_+x])]"
   ]
  },
  {
   "cell_type": "code",
   "execution_count": 269,
   "metadata": {},
   "outputs": [
    {
     "ename": "SyntaxError",
     "evalue": "invalid syntax (<ipython-input-269-4e7744cfe6d0>, line 1)",
     "output_type": "error",
     "traceback": [
      "\u001b[1;36m  File \u001b[1;32m\"<ipython-input-269-4e7744cfe6d0>\"\u001b[1;36m, line \u001b[1;32m1\u001b[0m\n\u001b[1;33m    print(max[tmp for idx in range(len(arr)) if len(arr[idx:idx+x]==x)])\u001b[0m\n\u001b[1;37m                    ^\u001b[0m\n\u001b[1;31mSyntaxError\u001b[0m\u001b[1;31m:\u001b[0m invalid syntax\n"
     ]
    }
   ],
   "source": [
    "print(max[tmp for idx in range(len(arr)) if len(arr[idx:idx+x]==x)])"
   ]
  },
  {
   "cell_type": "code",
   "execution_count": null,
   "metadata": {},
   "outputs": [],
   "source": []
  }
 ],
 "metadata": {
  "kernelspec": {
   "display_name": "Python 3",
   "language": "python",
   "name": "python3"
  },
  "language_info": {
   "codemirror_mode": {
    "name": "ipython",
    "version": 3
   },
   "file_extension": ".py",
   "mimetype": "text/x-python",
   "name": "python",
   "nbconvert_exporter": "python",
   "pygments_lexer": "ipython3",
   "version": "3.7.3"
  }
 },
 "nbformat": 4,
 "nbformat_minor": 2
}
