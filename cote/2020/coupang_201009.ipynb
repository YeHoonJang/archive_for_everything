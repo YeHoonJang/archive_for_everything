{
 "cells": [
  {
   "cell_type": "markdown",
   "metadata": {},
   "source": [
    "# 1"
   ]
  },
  {
   "cell_type": "code",
   "execution_count": 62,
   "metadata": {
    "scrolled": true
   },
   "outputs": [
    {
     "name": "stdout",
     "output_type": "stream",
     "text": [
      "[6, 4]\n"
     ]
    }
   ],
   "source": [
    "def convert(num, base):\n",
    "    T=\"012345678\"\n",
    "    quotient, remainder = divmod(num, base)\n",
    "    if quotient==0:\n",
    "        return T[remainder]\n",
    "    else:\n",
    "        return convert(quotient, base) + T[remainder]\n",
    "    \n",
    "N = 10\n",
    "k = [i for i in range(2,10)]\n",
    "\n",
    "num_dict = {}\n",
    "for base in k:\n",
    "    converted_num = convert(N, base)\n",
    "    num_dict[base] = eval(('*').join([i for i in converted_num if int(i)!=0]))\n",
    "    \n",
    "max_mul = max(num_dict.values())\n",
    "max_base = []\n",
    "for k, v in num_dict.items():\n",
    "    if num_dict[k] == max_mul:\n",
    "        max_base.append(k)\n",
    "print([max(max_base), max_mul])\n"
   ]
  },
  {
   "cell_type": "markdown",
   "metadata": {},
   "source": [
    "# 3"
   ]
  },
  {
   "cell_type": "code",
   "execution_count": null,
   "metadata": {},
   "outputs": [],
   "source": [
    "k = 3\n",
    "score = [24, 22, 20, 10, 5, 3, 2, 1]"
   ]
  },
  {
   "cell_type": "code",
   "execution_count": 18,
   "metadata": {},
   "outputs": [],
   "source": [
    "k = 2\n",
    "score = [1300000000, 700000000, 668239490, 618239490, 568239490, 568239486, 518239486, 157658638, 157658634, 100000000, 100]"
   ]
  },
  {
   "cell_type": "code",
   "execution_count": 32,
   "metadata": {},
   "outputs": [
    {
     "name": "stdout",
     "output_type": "stream",
     "text": [
      "4\n"
     ]
    }
   ],
   "source": [
    "from collections import Counter\n",
    "\n",
    "total_len = len(score)\n",
    "diff_count = []\n",
    "diff_score = {}\n",
    "\n",
    "for i in range(total_len-1):\n",
    "    diff = score[i]-score[i+1]\n",
    "    diff_count.append(diff)    \n",
    "    if diff in diff_score:\n",
    "        diff_score[diff].append(score[i])\n",
    "        diff_score[diff].append(score[i+1])\n",
    "    else:\n",
    "        diff_score[diff] = [score[i], score[i+1]]\n",
    "        \n",
    "diff_count = Counter(diff_count)\n",
    "\n",
    "manipulated = []\n",
    "for key, val in diff_count.items():\n",
    "    if val >= k:\n",
    "        manipulated += ((list(set(diff_score[key]))))\n",
    "\n",
    "manipulated = len(set(manipulated))        \n",
    "if manipulated!=0:\n",
    "    print(total_len - manipulated)\n",
    "else:\n",
    "    print(-1)"
   ]
  }
 ],
 "metadata": {
  "kernelspec": {
   "display_name": "Python 3",
   "language": "python",
   "name": "python3"
  }
 },
 "nbformat": 4,
 "nbformat_minor": 2
}
