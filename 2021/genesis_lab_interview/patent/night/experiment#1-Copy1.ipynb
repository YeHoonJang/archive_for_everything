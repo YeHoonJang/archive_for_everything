{
 "cells": [
  {
   "cell_type": "code",
   "execution_count": 1,
   "metadata": {},
   "outputs": [],
   "source": [
    "from collections import Counter\n",
    "from imblearn.over_sampling import SMOTE\n",
    "import pandas as pd\n",
    "import numpy as np\n",
    "from sklearn.model_selection import train_test_split"
   ]
  },
  {
   "cell_type": "code",
   "execution_count": 3,
   "metadata": {},
   "outputs": [],
   "source": [
    "df = pd.read_csv(\"../data/night/night_dataset.csv\")\n",
    "df_1 = df.drop('title', axis=1)\n",
    "df_1 = df_1.drop('abstract', axis=1)\n",
    "df = df_1.drop('claim', axis=1)\n",
    "\n",
    "x = df.loc[:, df.columns!='valid_patent'].astype(str)\n",
    "y = df['valid_patent'].astype(int)"
   ]
  },
  {
   "cell_type": "markdown",
   "metadata": {},
   "source": [
    "## Train/Test Split"
   ]
  },
  {
   "cell_type": "code",
   "execution_count": 4,
   "metadata": {},
   "outputs": [],
   "source": [
    "x_train, x_test, y_train, y_test = train_test_split(x, y, test_size=0.3, random_state=50)"
   ]
  },
  {
   "cell_type": "markdown",
   "metadata": {},
   "source": [
    "## SMOTE"
   ]
  },
  {
   "cell_type": "code",
   "execution_count": 5,
   "metadata": {},
   "outputs": [
    {
     "name": "stdout",
     "output_type": "stream",
     "text": [
      "Original dataset shape Counter({0: 773, 1: 92})\n",
      "Resampled dataset shape Counter({0: 773, 1: 773})\n",
      "Y test dataset shpae Counter({0: 336, 1: 35})\n"
     ]
    }
   ],
   "source": [
    "print('Original dataset shape {}'.format(Counter(y_train)))\n",
    "sm = SMOTE(random_state=42)\n",
    "x_res , y_res = sm.fit_resample(x_train, y_train)\n",
    "print('Resampled dataset shape {}'.format(Counter(y_res)))\n",
    "print('Y test dataset shpae {}'.format(Counter(y_test)))"
   ]
  },
  {
   "cell_type": "markdown",
   "metadata": {},
   "source": [
    "## Model"
   ]
  },
  {
   "cell_type": "markdown",
   "metadata": {},
   "source": [
    "### Logistic Regression"
   ]
  },
  {
   "cell_type": "code",
   "execution_count": 6,
   "metadata": {},
   "outputs": [],
   "source": [
    "from sklearn import linear_model, metrics\n",
    "from sklearn.metrics import classification_report, confusion_matrix"
   ]
  },
  {
   "cell_type": "code",
   "execution_count": 7,
   "metadata": {},
   "outputs": [
    {
     "name": "stdout",
     "output_type": "stream",
     "text": [
      "This classification report of using threshold: \n",
      "               precision    recall  f1-score   support\n",
      "\n",
      "           0       0.92      0.79      0.85       336\n",
      "           1       0.14      0.31      0.19        35\n",
      "\n",
      "    accuracy                           0.75       371\n",
      "   macro avg       0.53      0.55      0.52       371\n",
      "weighted avg       0.84      0.75      0.79       371\n",
      "\n",
      "This is accuracy score: 0.7493261455525606 \n",
      "\n"
     ]
    }
   ],
   "source": [
    "logreg = linear_model.LogisticRegression(fit_intercept=False)\n",
    "logreg.fit(x_res, y_res)\n",
    "\n",
    "result = logreg.predict(x_test)\n",
    "\n",
    "print(\"This classification report of using threshold: \\n\",classification_report(y_test, result))\n",
    "print (\"This is accuracy score:\",metrics.accuracy_score(y_test, result),\"\\n\")"
   ]
  },
  {
   "cell_type": "code",
   "execution_count": 8,
   "metadata": {},
   "outputs": [
    {
     "name": "stdout",
     "output_type": "stream",
     "text": [
      "This classification report of using threshold: \n",
      "               precision    recall  f1-score   support\n",
      "\n",
      "           0       0.95      0.24      0.38       336\n",
      "           1       0.11      0.89      0.19        35\n",
      "\n",
      "    accuracy                           0.30       371\n",
      "   macro avg       0.53      0.56      0.29       371\n",
      "weighted avg       0.87      0.30      0.36       371\n",
      "\n",
      "This is accuracy score: 0.2991913746630728 \n",
      "\n"
     ]
    }
   ],
   "source": [
    "prob = logreg.predict_proba(x_test)\n",
    "\n",
    "y_pred = np.zeros(len(x_test))\n",
    "y_pred[prob[:,1] > 0.35] = 1\n",
    "\n",
    "print(\"This classification report of using threshold: \\n\",classification_report(y_test, y_pred))\n",
    "print (\"This is accuracy score:\",metrics.accuracy_score(y_test, y_pred),\"\\n\")"
   ]
  },
  {
   "cell_type": "markdown",
   "metadata": {},
   "source": [
    "### SVM"
   ]
  },
  {
   "cell_type": "code",
   "execution_count": 9,
   "metadata": {},
   "outputs": [
    {
     "name": "stderr",
     "output_type": "stream",
     "text": [
      "/Users/yehoon/opt/anaconda3/lib/python3.7/site-packages/sklearn/svm/_base.py:986: ConvergenceWarning: Liblinear failed to converge, increase the number of iterations.\n",
      "  \"the number of iterations.\", ConvergenceWarning)\n"
     ]
    },
    {
     "name": "stdout",
     "output_type": "stream",
     "text": [
      "This classification report of using threshold: \n",
      "               precision    recall  f1-score   support\n",
      "\n",
      "           0       0.96      0.26      0.40       336\n",
      "           1       0.11      0.89      0.20        35\n",
      "\n",
      "    accuracy                           0.32       371\n",
      "   macro avg       0.53      0.57      0.30       371\n",
      "weighted avg       0.88      0.32      0.38       371\n",
      "\n",
      "This is accuracy score: 0.31536388140161725 \n",
      "\n"
     ]
    }
   ],
   "source": [
    "from sklearn.linear_model import SGDClassifier\n",
    "from sklearn import svm\n",
    "\n",
    "svm = svm.LinearSVC()\n",
    "svm.fit(x_res, y_res)\n",
    "\n",
    "result = svm.predict(x_test)\n",
    "\n",
    "print(\"This classification report of using threshold: \\n\",classification_report(y_test, result))\n",
    "print (\"This is accuracy score:\",metrics.accuracy_score(y_test, result),\"\\n\")"
   ]
  },
  {
   "cell_type": "code",
   "execution_count": 10,
   "metadata": {},
   "outputs": [
    {
     "name": "stdout",
     "output_type": "stream",
     "text": [
      "This classification report of using threshold: \n",
      "               precision    recall  f1-score   support\n",
      "\n",
      "           0       0.92      0.79      0.85       336\n",
      "           1       0.14      0.31      0.19        35\n",
      "\n",
      "    accuracy                           0.75       371\n",
      "   macro avg       0.53      0.55      0.52       371\n",
      "weighted avg       0.84      0.75      0.79       371\n",
      "\n",
      "This is accuracy score: 0.7493261455525606 \n",
      "\n"
     ]
    }
   ],
   "source": [
    "from sklearn.svm import LinearSVC\n",
    "from sklearn.calibration import CalibratedClassifierCV\n",
    "\n",
    "svc = CalibratedClassifierCV(base_estimator=LinearSVC(penalty='l2', dual=False), cv=5)\n",
    "svc.fit(x_res, y_res)\n",
    "\n",
    "\n",
    "result = svc.predict(x_test)\n",
    "\n",
    "print(\"This classification report of using threshold: \\n\",classification_report(y_test, result))\n",
    "print (\"This is accuracy score:\",metrics.accuracy_score(y_test, result),\"\\n\")"
   ]
  },
  {
   "cell_type": "code",
   "execution_count": 11,
   "metadata": {},
   "outputs": [
    {
     "name": "stdout",
     "output_type": "stream",
     "text": [
      "This classification report of using threshold: \n",
      "               precision    recall  f1-score   support\n",
      "\n",
      "           0       0.91      1.00      0.95       336\n",
      "           1       0.00      0.00      0.00        35\n",
      "\n",
      "    accuracy                           0.91       371\n",
      "   macro avg       0.45      0.50      0.48       371\n",
      "weighted avg       0.82      0.91      0.86       371\n",
      "\n",
      "This is accuracy score: 0.9056603773584906 \n",
      "\n"
     ]
    },
    {
     "name": "stderr",
     "output_type": "stream",
     "text": [
      "/Users/yehoon/opt/anaconda3/lib/python3.7/site-packages/sklearn/metrics/_classification.py:1245: UndefinedMetricWarning: Precision and F-score are ill-defined and being set to 0.0 in labels with no predicted samples. Use `zero_division` parameter to control this behavior.\n",
      "  _warn_prf(average, modifier, msg_start, len(result))\n",
      "/Users/yehoon/opt/anaconda3/lib/python3.7/site-packages/sklearn/metrics/_classification.py:1245: UndefinedMetricWarning: Precision and F-score are ill-defined and being set to 0.0 in labels with no predicted samples. Use `zero_division` parameter to control this behavior.\n",
      "  _warn_prf(average, modifier, msg_start, len(result))\n",
      "/Users/yehoon/opt/anaconda3/lib/python3.7/site-packages/sklearn/metrics/_classification.py:1245: UndefinedMetricWarning: Precision and F-score are ill-defined and being set to 0.0 in labels with no predicted samples. Use `zero_division` parameter to control this behavior.\n",
      "  _warn_prf(average, modifier, msg_start, len(result))\n"
     ]
    }
   ],
   "source": [
    "prob = svc.predict_proba(x_test)\n",
    "\n",
    "y_pred = np.zeros(len(x_test))\n",
    "y_pred[prob[:,-1] > 0.75] = 1\n",
    "\n",
    "print(\"This classification report of using threshold: \\n\",classification_report(y_test, y_pred))\n",
    "print (\"This is accuracy score:\",metrics.accuracy_score(y_test, y_pred),\"\\n\")"
   ]
  },
  {
   "cell_type": "markdown",
   "metadata": {},
   "source": [
    "### Decision Tree"
   ]
  },
  {
   "cell_type": "code",
   "execution_count": 12,
   "metadata": {},
   "outputs": [
    {
     "name": "stdout",
     "output_type": "stream",
     "text": [
      "This classification report of using threshold: \n",
      "               precision    recall  f1-score   support\n",
      "\n",
      "           0       0.92      0.96      0.94       336\n",
      "           1       0.32      0.20      0.25        35\n",
      "\n",
      "    accuracy                           0.88       371\n",
      "   macro avg       0.62      0.58      0.59       371\n",
      "weighted avg       0.86      0.88      0.87       371\n",
      "\n",
      "This is accuracy score: 0.8840970350404312 \n",
      "\n"
     ]
    }
   ],
   "source": [
    "from sklearn import tree\n",
    "\n",
    "dt = tree.DecisionTreeClassifier(criterion='gini', max_depth=5, min_samples_leaf=5)\n",
    "dt.fit(x_res, y_res)\n",
    "\n",
    "result = dt.predict(x_test)\n",
    "\n",
    "print(\"This classification report of using threshold: \\n\",classification_report(y_test, result))\n",
    "print (\"This is accuracy score:\",metrics.accuracy_score(y_test, result),\"\\n\")"
   ]
  },
  {
   "cell_type": "code",
   "execution_count": 13,
   "metadata": {},
   "outputs": [
    {
     "name": "stdout",
     "output_type": "stream",
     "text": [
      "This classification report of using threshold: \n",
      "               precision    recall  f1-score   support\n",
      "\n",
      "           0       0.92      0.96      0.94       336\n",
      "           1       0.29      0.17      0.21        35\n",
      "\n",
      "    accuracy                           0.88       371\n",
      "   macro avg       0.60      0.56      0.58       371\n",
      "weighted avg       0.86      0.88      0.87       371\n",
      "\n",
      "This is accuracy score: 0.8814016172506739 \n",
      "\n"
     ]
    }
   ],
   "source": [
    "prob = dt.predict_proba(x_test)\n",
    "\n",
    "y_pred = np.zeros(len(x_test))\n",
    "y_pred[prob[:,-1] > 0.75] = 1\n",
    "\n",
    "print(\"This classification report of using threshold: \\n\",classification_report(y_test, y_pred))\n",
    "print (\"This is accuracy score:\",metrics.accuracy_score(y_test, y_pred),\"\\n\")"
   ]
  },
  {
   "cell_type": "markdown",
   "metadata": {
    "collapsed": true
   },
   "source": [
    "### Random Forest"
   ]
  },
  {
   "cell_type": "code",
   "execution_count": 23,
   "metadata": {},
   "outputs": [
    {
     "name": "stdout",
     "output_type": "stream",
     "text": [
      "This classification report of using threshold: \n",
      "               precision    recall  f1-score   support\n",
      "\n",
      "           0       0.92      0.96      0.94       336\n",
      "           1       0.33      0.20      0.25        35\n",
      "\n",
      "    accuracy                           0.89       371\n",
      "   macro avg       0.63      0.58      0.59       371\n",
      "weighted avg       0.86      0.89      0.87       371\n",
      "\n",
      "This is accuracy score: 0.8867924528301887 \n",
      "\n"
     ]
    }
   ],
   "source": [
    "from sklearn.ensemble import RandomForestClassifier\n",
    "\n",
    "rf = RandomForestClassifier(max_depth=5,random_state=42)\n",
    "rf.fit(x_res, y_res)\n",
    "\n",
    "result = rf.predict(x_test)\n",
    "\n",
    "print(\"This classification report of using threshold: \\n\",classification_report(y_test, result))\n",
    "print (\"This is accuracy score:\",metrics.accuracy_score(y_test, result),\"\\n\")"
   ]
  },
  {
   "cell_type": "code",
   "execution_count": 40,
   "metadata": {},
   "outputs": [
    {
     "name": "stdout",
     "output_type": "stream",
     "text": [
      "This classification report of using threshold: \n",
      "               precision    recall  f1-score   support\n",
      "\n",
      "           0       0.91      1.00      0.95       336\n",
      "           1       0.00      0.00      0.00        35\n",
      "\n",
      "    accuracy                           0.91       371\n",
      "   macro avg       0.45      0.50      0.48       371\n",
      "weighted avg       0.82      0.91      0.86       371\n",
      "\n",
      "This is accuracy score: 0.9056603773584906 \n",
      "\n"
     ]
    },
    {
     "name": "stderr",
     "output_type": "stream",
     "text": [
      "/Users/yehoon/opt/anaconda3/lib/python3.7/site-packages/sklearn/metrics/_classification.py:1245: UndefinedMetricWarning: Precision and F-score are ill-defined and being set to 0.0 in labels with no predicted samples. Use `zero_division` parameter to control this behavior.\n",
      "  _warn_prf(average, modifier, msg_start, len(result))\n",
      "/Users/yehoon/opt/anaconda3/lib/python3.7/site-packages/sklearn/metrics/_classification.py:1245: UndefinedMetricWarning: Precision and F-score are ill-defined and being set to 0.0 in labels with no predicted samples. Use `zero_division` parameter to control this behavior.\n",
      "  _warn_prf(average, modifier, msg_start, len(result))\n",
      "/Users/yehoon/opt/anaconda3/lib/python3.7/site-packages/sklearn/metrics/_classification.py:1245: UndefinedMetricWarning: Precision and F-score are ill-defined and being set to 0.0 in labels with no predicted samples. Use `zero_division` parameter to control this behavior.\n",
      "  _warn_prf(average, modifier, msg_start, len(result))\n"
     ]
    }
   ],
   "source": [
    "prob = rf.predict_proba(x_test)\n",
    "\n",
    "y_pred = np.zeros(len(x_test))\n",
    "y_pred[prob[:,-1] > 0.6] = 1\n",
    "\n",
    "print(\"This classification report of using threshold: \\n\",classification_report(y_test, y_pred))\n",
    "print (\"This is accuracy score:\",metrics.accuracy_score(y_test, y_pred),\"\\n\")"
   ]
  },
  {
   "cell_type": "code",
   "execution_count": 16,
   "metadata": {},
   "outputs": [
    {
     "name": "stderr",
     "output_type": "stream",
     "text": [
      "/Users/yehoon/opt/anaconda3/lib/python3.7/site-packages/sklearn/neural_network/_multilayer_perceptron.py:500: ConvergenceWarning: lbfgs failed to converge (status=2):\n",
      "ABNORMAL_TERMINATION_IN_LNSRCH.\n",
      "\n",
      "Increase the number of iterations (max_iter) or scale the data as shown in:\n",
      "    https://scikit-learn.org/stable/modules/preprocessing.html\n",
      "  self.n_iter_ = _check_optimize_result(\"lbfgs\", opt_res, self.max_iter)\n"
     ]
    },
    {
     "name": "stdout",
     "output_type": "stream",
     "text": [
      "This classification report of using threshold: \n",
      "               precision    recall  f1-score   support\n",
      "\n",
      "           0       0.91      1.00      0.95       336\n",
      "           1       0.00      0.00      0.00        35\n",
      "\n",
      "    accuracy                           0.91       371\n",
      "   macro avg       0.45      0.50      0.48       371\n",
      "weighted avg       0.82      0.91      0.86       371\n",
      "\n",
      "This is accuracy score: 0.9056603773584906 \n",
      "\n"
     ]
    },
    {
     "name": "stderr",
     "output_type": "stream",
     "text": [
      "/Users/yehoon/opt/anaconda3/lib/python3.7/site-packages/sklearn/metrics/_classification.py:1245: UndefinedMetricWarning: Precision and F-score are ill-defined and being set to 0.0 in labels with no predicted samples. Use `zero_division` parameter to control this behavior.\n",
      "  _warn_prf(average, modifier, msg_start, len(result))\n",
      "/Users/yehoon/opt/anaconda3/lib/python3.7/site-packages/sklearn/metrics/_classification.py:1245: UndefinedMetricWarning: Precision and F-score are ill-defined and being set to 0.0 in labels with no predicted samples. Use `zero_division` parameter to control this behavior.\n",
      "  _warn_prf(average, modifier, msg_start, len(result))\n",
      "/Users/yehoon/opt/anaconda3/lib/python3.7/site-packages/sklearn/metrics/_classification.py:1245: UndefinedMetricWarning: Precision and F-score are ill-defined and being set to 0.0 in labels with no predicted samples. Use `zero_division` parameter to control this behavior.\n",
      "  _warn_prf(average, modifier, msg_start, len(result))\n"
     ]
    }
   ],
   "source": [
    "from sklearn.neural_network import MLPClassifier\n",
    "mlp = MLPClassifier(learning_rate_init=0.01, activation='relu', solver='lbfgs', alpha=1e-5,\n",
    "                    hidden_layer_sizes=(100, ), random_state=1)\n",
    "mlp.fit(x_res, y_res)\n",
    "\n",
    "result = mlp.predict(x_test)\n",
    "\n",
    "print(\"This classification report of using threshold: \\n\",classification_report(y_test, result))\n",
    "print (\"This is accuracy score:\",metrics.accuracy_score(y_test, result),\"\\n\")"
   ]
  },
  {
   "cell_type": "code",
   "execution_count": null,
   "metadata": {},
   "outputs": [],
   "source": []
  }
 ],
 "metadata": {
  "kernelspec": {
   "display_name": "Python 3",
   "language": "python",
   "name": "python3"
  },
  "language_info": {
   "codemirror_mode": {
    "name": "ipython",
    "version": 3
   },
   "file_extension": ".py",
   "mimetype": "text/x-python",
   "name": "python",
   "nbconvert_exporter": "python",
   "pygments_lexer": "ipython3",
   "version": "3.7.4"
  }
 },
 "nbformat": 4,
 "nbformat_minor": 2
}
