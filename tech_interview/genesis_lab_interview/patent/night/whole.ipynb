{
 "cells": [
  {
   "cell_type": "code",
   "execution_count": 80,
   "metadata": {},
   "outputs": [],
   "source": [
    "import pandas as pd\n",
    "import numpy as np\n",
    "from sklearn.preprocessing import LabelEncoder\n",
    "import warnings\n",
    "warnings.filterwarnings(action='ignore')\n"
   ]
  },
  {
   "cell_type": "markdown",
   "metadata": {},
   "source": [
    "## raw data 와 valid data 개요"
   ]
  },
  {
   "cell_type": "code",
   "execution_count": 81,
   "metadata": {},
   "outputs": [
    {
     "name": "stdout",
     "output_type": "stream",
     "text": [
      "(1905, 37)\n"
     ]
    },
    {
     "data": {
      "text/html": [
       "<div>\n",
       "<style scoped>\n",
       "    .dataframe tbody tr th:only-of-type {\n",
       "        vertical-align: middle;\n",
       "    }\n",
       "\n",
       "    .dataframe tbody tr th {\n",
       "        vertical-align: top;\n",
       "    }\n",
       "\n",
       "    .dataframe thead th {\n",
       "        text-align: right;\n",
       "    }\n",
       "</style>\n",
       "<table border=\"1\" class=\"dataframe\">\n",
       "  <thead>\n",
       "    <tr style=\"text-align: right;\">\n",
       "      <th></th>\n",
       "      <th>국가코드</th>\n",
       "      <th>DB종류</th>\n",
       "      <th>특허/실용 구분</th>\n",
       "      <th>문헌종류 코드</th>\n",
       "      <th>발명의 명칭</th>\n",
       "      <th>요약</th>\n",
       "      <th>대표청구항</th>\n",
       "      <th>청구항 수</th>\n",
       "      <th>출원번호</th>\n",
       "      <th>출원일</th>\n",
       "      <th>...</th>\n",
       "      <th>Original CPC Main</th>\n",
       "      <th>Original CPC All</th>\n",
       "      <th>Original IPC Main</th>\n",
       "      <th>Original IPC All</th>\n",
       "      <th>Original US Class Main[US]</th>\n",
       "      <th>Original US Class All[US]</th>\n",
       "      <th>Original FI[JP]</th>\n",
       "      <th>Original F-term[JP]</th>\n",
       "      <th>Original Theme Code [JP]</th>\n",
       "      <th>WIPS ON key</th>\n",
       "    </tr>\n",
       "  </thead>\n",
       "  <tbody>\n",
       "    <tr>\n",
       "      <td>0</td>\n",
       "      <td>US</td>\n",
       "      <td>US</td>\n",
       "      <td>P</td>\n",
       "      <td>B2</td>\n",
       "      <td>Turboengine water wash system</td>\n",
       "      <td>A system for cleaning gas turbine engines is d...</td>\n",
       "      <td>1. An apparatus for cleaning wing mounted gas ...</td>\n",
       "      <td>64</td>\n",
       "      <td>11/644784</td>\n",
       "      <td>2006-12-22</td>\n",
       "      <td>...</td>\n",
       "      <td>NaN</td>\n",
       "      <td>NaN</td>\n",
       "      <td>B08B-009/00</td>\n",
       "      <td>B08B-009/00</td>\n",
       "      <td>134/166.R</td>\n",
       "      <td>134/166.R | 134/138</td>\n",
       "      <td>NaN</td>\n",
       "      <td>NaN</td>\n",
       "      <td>NaN</td>\n",
       "      <td>4.914000e+12</td>\n",
       "    </tr>\n",
       "    <tr>\n",
       "      <td>1</td>\n",
       "      <td>US</td>\n",
       "      <td>US</td>\n",
       "      <td>P</td>\n",
       "      <td>A1</td>\n",
       "      <td>TREATMENT OF TAILINGS WITH DEIONIZED SILICATE ...</td>\n",
       "      <td>A process for treating a tailings stream compr...</td>\n",
       "      <td>1. A process for treating a tailings stream co...</td>\n",
       "      <td>20</td>\n",
       "      <td>13/848244</td>\n",
       "      <td>2013-03-21</td>\n",
       "      <td>...</td>\n",
       "      <td>B09B-0003/0025</td>\n",
       "      <td>B09B-0003/0025</td>\n",
       "      <td>B09B-003/00</td>\n",
       "      <td>B09B-003/00</td>\n",
       "      <td>106/627</td>\n",
       "      <td>106/627 | 106/600 | 106/631 | 106/632 | 106/63...</td>\n",
       "      <td>NaN</td>\n",
       "      <td>NaN</td>\n",
       "      <td>NaN</td>\n",
       "      <td>5.414000e+12</td>\n",
       "    </tr>\n",
       "    <tr>\n",
       "      <td>2</td>\n",
       "      <td>US</td>\n",
       "      <td>US</td>\n",
       "      <td>P</td>\n",
       "      <td>A1</td>\n",
       "      <td>Method And Apparatus For Treating Tailings Usi...</td>\n",
       "      <td>There is a method described of treating tailin...</td>\n",
       "      <td>1. A method of treating tailings having a comb...</td>\n",
       "      <td>18</td>\n",
       "      <td>13/765924</td>\n",
       "      <td>2013-02-13</td>\n",
       "      <td>...</td>\n",
       "      <td>C02F-0001/48</td>\n",
       "      <td>C02F-0001/48</td>\n",
       "      <td>C02F-001/48</td>\n",
       "      <td>C02F-001/48</td>\n",
       "      <td>204/554</td>\n",
       "      <td>204/554</td>\n",
       "      <td>NaN</td>\n",
       "      <td>NaN</td>\n",
       "      <td>NaN</td>\n",
       "      <td>5.414000e+12</td>\n",
       "    </tr>\n",
       "    <tr>\n",
       "      <td>3</td>\n",
       "      <td>US</td>\n",
       "      <td>US</td>\n",
       "      <td>P</td>\n",
       "      <td>A1</td>\n",
       "      <td>METHOD FOR STABILIZING WASTE AND HAZARDOUS WASTE</td>\n",
       "      <td>The invention provides a process for stabilizi...</td>\n",
       "      <td>1. A method for stabilizing hazardous waste, c...</td>\n",
       "      <td>20</td>\n",
       "      <td>13/767408</td>\n",
       "      <td>2013-02-14</td>\n",
       "      <td>...</td>\n",
       "      <td>A62D-0003/33</td>\n",
       "      <td>A62D-0003/33 | G21F-0009/302</td>\n",
       "      <td>A62D-003/33</td>\n",
       "      <td>A62D-003/33 | G21F-009/30</td>\n",
       "      <td>588/002</td>\n",
       "      <td>588/002 | 588/315</td>\n",
       "      <td>NaN</td>\n",
       "      <td>NaN</td>\n",
       "      <td>NaN</td>\n",
       "      <td>5.414000e+12</td>\n",
       "    </tr>\n",
       "    <tr>\n",
       "      <td>4</td>\n",
       "      <td>US</td>\n",
       "      <td>US</td>\n",
       "      <td>P</td>\n",
       "      <td>B2</td>\n",
       "      <td>Water treatment process and plant using ballas...</td>\n",
       "      <td>A method for treating wastewater using a balla...</td>\n",
       "      <td>1. A method of treating wastewater including: ...</td>\n",
       "      <td>18</td>\n",
       "      <td>12/521154</td>\n",
       "      <td>2007-12-26</td>\n",
       "      <td>...</td>\n",
       "      <td>NaN</td>\n",
       "      <td>NaN</td>\n",
       "      <td>C02F-001/52</td>\n",
       "      <td>C02F-001/52 | B01D-021/01 | B01D-021/02 | B01D...</td>\n",
       "      <td>210/709</td>\n",
       "      <td>210/709 | 210/711 | 210/712 | 210/713 | 210/71...</td>\n",
       "      <td>NaN</td>\n",
       "      <td>NaN</td>\n",
       "      <td>NaN</td>\n",
       "      <td>4.913050e+12</td>\n",
       "    </tr>\n",
       "  </tbody>\n",
       "</table>\n",
       "<p>5 rows × 37 columns</p>\n",
       "</div>"
      ],
      "text/plain": [
       "  국가코드 DB종류 특허/실용 구분 문헌종류 코드  \\\n",
       "0   US   US        P      B2   \n",
       "1   US   US        P      A1   \n",
       "2   US   US        P      A1   \n",
       "3   US   US        P      A1   \n",
       "4   US   US        P      B2   \n",
       "\n",
       "                                              발명의 명칭  \\\n",
       "0                      Turboengine water wash system   \n",
       "1  TREATMENT OF TAILINGS WITH DEIONIZED SILICATE ...   \n",
       "2  Method And Apparatus For Treating Tailings Usi...   \n",
       "3   METHOD FOR STABILIZING WASTE AND HAZARDOUS WASTE   \n",
       "4  Water treatment process and plant using ballas...   \n",
       "\n",
       "                                                  요약  \\\n",
       "0  A system for cleaning gas turbine engines is d...   \n",
       "1  A process for treating a tailings stream compr...   \n",
       "2  There is a method described of treating tailin...   \n",
       "3  The invention provides a process for stabilizi...   \n",
       "4  A method for treating wastewater using a balla...   \n",
       "\n",
       "                                               대표청구항  청구항 수       출원번호  \\\n",
       "0  1. An apparatus for cleaning wing mounted gas ...     64  11/644784   \n",
       "1  1. A process for treating a tailings stream co...     20  13/848244   \n",
       "2  1. A method of treating tailings having a comb...     18  13/765924   \n",
       "3  1. A method for stabilizing hazardous waste, c...     20  13/767408   \n",
       "4  1. A method of treating wastewater including: ...     18  12/521154   \n",
       "\n",
       "          출원일  ... Original CPC Main              Original CPC All  \\\n",
       "0  2006-12-22  ...               NaN                           NaN   \n",
       "1  2013-03-21  ...    B09B-0003/0025                B09B-0003/0025   \n",
       "2  2013-02-13  ...      C02F-0001/48                  C02F-0001/48   \n",
       "3  2013-02-14  ...      A62D-0003/33  A62D-0003/33 | G21F-0009/302   \n",
       "4  2007-12-26  ...               NaN                           NaN   \n",
       "\n",
       "  Original IPC Main                                   Original IPC All  \\\n",
       "0       B08B-009/00                                        B08B-009/00   \n",
       "1       B09B-003/00                                        B09B-003/00   \n",
       "2       C02F-001/48                                        C02F-001/48   \n",
       "3       A62D-003/33                          A62D-003/33 | G21F-009/30   \n",
       "4       C02F-001/52  C02F-001/52 | B01D-021/01 | B01D-021/02 | B01D...   \n",
       "\n",
       "  Original US Class Main[US]  \\\n",
       "0                  134/166.R   \n",
       "1                    106/627   \n",
       "2                    204/554   \n",
       "3                    588/002   \n",
       "4                    210/709   \n",
       "\n",
       "                           Original US Class All[US]  Original FI[JP]  \\\n",
       "0                                134/166.R | 134/138              NaN   \n",
       "1  106/627 | 106/600 | 106/631 | 106/632 | 106/63...              NaN   \n",
       "2                                            204/554              NaN   \n",
       "3                                  588/002 | 588/315              NaN   \n",
       "4  210/709 | 210/711 | 210/712 | 210/713 | 210/71...              NaN   \n",
       "\n",
       "  Original F-term[JP] Original Theme Code [JP]   WIPS ON key  \n",
       "0                 NaN                      NaN  4.914000e+12  \n",
       "1                 NaN                      NaN  5.414000e+12  \n",
       "2                 NaN                      NaN  5.414000e+12  \n",
       "3                 NaN                      NaN  5.414000e+12  \n",
       "4                 NaN                      NaN  4.913050e+12  \n",
       "\n",
       "[5 rows x 37 columns]"
      ]
     },
     "execution_count": 81,
     "metadata": {},
     "output_type": "execute_result"
    }
   ],
   "source": [
    "raw_data = pd.read_csv(\"../data/sea/sea_managing_raw.csv\", encoding='cp949')\n",
    "print(raw_data.shape)\n",
    "raw_data.head()"
   ]
  },
  {
   "cell_type": "code",
   "execution_count": 82,
   "metadata": {},
   "outputs": [],
   "source": [
    "df = pd.DataFrame(raw_data, columns=raw_data.columns)"
   ]
  },
  {
   "cell_type": "code",
   "execution_count": 83,
   "metadata": {},
   "outputs": [
    {
     "name": "stdout",
     "output_type": "stream",
     "text": [
      "(2098, 7)\n"
     ]
    },
    {
     "data": {
      "text/html": [
       "<div>\n",
       "<style scoped>\n",
       "    .dataframe tbody tr th:only-of-type {\n",
       "        vertical-align: middle;\n",
       "    }\n",
       "\n",
       "    .dataframe tbody tr th {\n",
       "        vertical-align: top;\n",
       "    }\n",
       "\n",
       "    .dataframe thead th {\n",
       "        text-align: right;\n",
       "    }\n",
       "</style>\n",
       "<table border=\"1\" class=\"dataframe\">\n",
       "  <thead>\n",
       "    <tr style=\"text-align: right;\">\n",
       "      <th></th>\n",
       "      <th>공개(등록)번호</th>\n",
       "      <th>공개(등록)일자</th>\n",
       "      <th>국가</th>\n",
       "      <th>구분</th>\n",
       "      <th>발명의 명칭</th>\n",
       "      <th>IPC</th>\n",
       "      <th>출원인</th>\n",
       "    </tr>\n",
       "  </thead>\n",
       "  <tbody>\n",
       "    <tr>\n",
       "      <td>0</td>\n",
       "      <td>1014013000000</td>\n",
       "      <td>20140523</td>\n",
       "      <td>KR</td>\n",
       "      <td>등록</td>\n",
       "      <td>생태안착형 입체 호안구조 및 이의 시공방법</td>\n",
       "      <td>E02B</td>\n",
       "      <td>벽산건설 주식회사</td>\n",
       "    </tr>\n",
       "    <tr>\n",
       "      <td>1</td>\n",
       "      <td>1014013000000</td>\n",
       "      <td>20140523</td>\n",
       "      <td>KR</td>\n",
       "      <td>등록</td>\n",
       "      <td>생태안착형 입체 호안구조 및 이의 시공방법</td>\n",
       "      <td>E02B</td>\n",
       "      <td>벽산건설 주식회사</td>\n",
       "    </tr>\n",
       "    <tr>\n",
       "      <td>2</td>\n",
       "      <td>1013950840000</td>\n",
       "      <td>20140508</td>\n",
       "      <td>KR</td>\n",
       "      <td>등록</td>\n",
       "      <td>질소 및 인의 동시 제거가 가능한 생물여과 처리장치</td>\n",
       "      <td>C02F</td>\n",
       "      <td>주식회사 지승개발</td>\n",
       "    </tr>\n",
       "    <tr>\n",
       "      <td>3</td>\n",
       "      <td>1013950840000</td>\n",
       "      <td>20140508</td>\n",
       "      <td>KR</td>\n",
       "      <td>등록</td>\n",
       "      <td>질소 및 인의 동시 제거가 가능한 생물여과 처리장치</td>\n",
       "      <td>C02F</td>\n",
       "      <td>주식회사 지승개발</td>\n",
       "    </tr>\n",
       "    <tr>\n",
       "      <td>4</td>\n",
       "      <td>1013903570000</td>\n",
       "      <td>20140423</td>\n",
       "      <td>KR</td>\n",
       "      <td>등록</td>\n",
       "      <td>살수여상기능 및 정수처리기능을 갖는 자연형 하천 호안 공법</td>\n",
       "      <td>E02B</td>\n",
       "      <td>충북대학교 산학협력단</td>\n",
       "    </tr>\n",
       "  </tbody>\n",
       "</table>\n",
       "</div>"
      ],
      "text/plain": [
       "        공개(등록)번호  공개(등록)일자  국가  구분                            발명의 명칭   IPC  \\\n",
       "0  1014013000000  20140523  KR  등록           생태안착형 입체 호안구조 및 이의 시공방법  E02B   \n",
       "1  1014013000000  20140523  KR  등록           생태안착형 입체 호안구조 및 이의 시공방법  E02B   \n",
       "2  1013950840000  20140508  KR  등록      질소 및 인의 동시 제거가 가능한 생물여과 처리장치  C02F   \n",
       "3  1013950840000  20140508  KR  등록      질소 및 인의 동시 제거가 가능한 생물여과 처리장치  C02F   \n",
       "4  1013903570000  20140423  KR  등록  살수여상기능 및 정수처리기능을 갖는 자연형 하천 호안 공법  E02B   \n",
       "\n",
       "           출원인  \n",
       "0    벽산건설 주식회사  \n",
       "1    벽산건설 주식회사  \n",
       "2    주식회사 지승개발  \n",
       "3    주식회사 지승개발  \n",
       "4  충북대학교 산학협력단  "
      ]
     },
     "execution_count": 83,
     "metadata": {},
     "output_type": "execute_result"
    }
   ],
   "source": [
    "#검색식을 통해 수집한 유효특허 후보 데이터\n",
    "val_data = pd.read_csv(\"../data/sea/sea_managing_val.csv\", encoding = \"cp949\")\n",
    "print(val_data.shape)\n",
    "val_data.head()"
   ]
  },
  {
   "cell_type": "code",
   "execution_count": 84,
   "metadata": {},
   "outputs": [
    {
     "data": {
      "text/html": [
       "<div>\n",
       "<style scoped>\n",
       "    .dataframe tbody tr th:only-of-type {\n",
       "        vertical-align: middle;\n",
       "    }\n",
       "\n",
       "    .dataframe tbody tr th {\n",
       "        vertical-align: top;\n",
       "    }\n",
       "\n",
       "    .dataframe thead th {\n",
       "        text-align: right;\n",
       "    }\n",
       "</style>\n",
       "<table border=\"1\" class=\"dataframe\">\n",
       "  <thead>\n",
       "    <tr style=\"text-align: right;\">\n",
       "      <th></th>\n",
       "      <th>공개(등록)번호</th>\n",
       "      <th>공개(등록)일자</th>\n",
       "      <th>국가</th>\n",
       "      <th>구분</th>\n",
       "      <th>발명의 명칭</th>\n",
       "      <th>IPC</th>\n",
       "      <th>출원인</th>\n",
       "    </tr>\n",
       "  </thead>\n",
       "  <tbody>\n",
       "    <tr>\n",
       "      <td>2093</td>\n",
       "      <td>04126007</td>\n",
       "      <td>19781121</td>\n",
       "      <td>US</td>\n",
       "      <td>등록</td>\n",
       "      <td>Compaction of soil</td>\n",
       "      <td>E02D</td>\n",
       "      <td>L.B.</td>\n",
       "    </tr>\n",
       "    <tr>\n",
       "      <td>2094</td>\n",
       "      <td>04084381</td>\n",
       "      <td>19780418</td>\n",
       "      <td>US</td>\n",
       "      <td>등록</td>\n",
       "      <td>Stabilization of earth subsurface layers</td>\n",
       "      <td>E01B</td>\n",
       "      <td>Woodbine</td>\n",
       "    </tr>\n",
       "    <tr>\n",
       "      <td>2095</td>\n",
       "      <td>04084381</td>\n",
       "      <td>19780418</td>\n",
       "      <td>US</td>\n",
       "      <td>등록</td>\n",
       "      <td>Stabilization of earth subsurface layers</td>\n",
       "      <td>E01B</td>\n",
       "      <td>Woodbine</td>\n",
       "    </tr>\n",
       "    <tr>\n",
       "      <td>2096</td>\n",
       "      <td>03952522</td>\n",
       "      <td>19760427</td>\n",
       "      <td>US</td>\n",
       "      <td>등록</td>\n",
       "      <td>Irrigation systems automation</td>\n",
       "      <td>E02B</td>\n",
       "      <td>NaN</td>\n",
       "    </tr>\n",
       "    <tr>\n",
       "      <td>2097</td>\n",
       "      <td>03952522</td>\n",
       "      <td>19760427</td>\n",
       "      <td>US</td>\n",
       "      <td>등록</td>\n",
       "      <td>Irrigation systems automation</td>\n",
       "      <td>E02B</td>\n",
       "      <td>NaN</td>\n",
       "    </tr>\n",
       "  </tbody>\n",
       "</table>\n",
       "</div>"
      ],
      "text/plain": [
       "      공개(등록)번호  공개(등록)일자  국가  구분                                    발명의 명칭  \\\n",
       "2093  04126007  19781121  US  등록                        Compaction of soil   \n",
       "2094  04084381  19780418  US  등록  Stabilization of earth subsurface layers   \n",
       "2095  04084381  19780418  US  등록  Stabilization of earth subsurface layers   \n",
       "2096  03952522  19760427  US  등록             Irrigation systems automation   \n",
       "2097  03952522  19760427  US  등록             Irrigation systems automation   \n",
       "\n",
       "       IPC       출원인  \n",
       "2093  E02D      L.B.  \n",
       "2094  E01B  Woodbine  \n",
       "2095  E01B  Woodbine  \n",
       "2096  E02B       NaN  \n",
       "2097  E02B       NaN  "
      ]
     },
     "execution_count": 84,
     "metadata": {},
     "output_type": "execute_result"
    }
   ],
   "source": [
    "#미국 특허 확인\n",
    "val_data.tail()"
   ]
  },
  {
   "cell_type": "markdown",
   "metadata": {},
   "source": [
    "## raw data 필요없는 column 제거\n",
    "* 미국 특허만 활용\n",
    "* 일본 특허 정보 x  \n",
    "ex) 'Original FI[JP]', 'Original F-term[JP]', 'Original Theme Code [JP]', '출원인 식별기호[JP]'"
   ]
  },
  {
   "cell_type": "code",
   "execution_count": 85,
   "metadata": {},
   "outputs": [
    {
     "data": {
      "text/plain": [
       "Index(['국가코드', 'DB종류', '특허/실용 구분', '문헌종류 코드', '발명의 명칭', '요약', '대표청구항', '청구항 수',\n",
       "       '출원번호', '출원일', '공개번호/공표/재공표 ', '공개일', '등록번호', '등록일', '출원인', '출원인 국적',\n",
       "       '출원인 수', '출원인 대표명화 코드', '출원인 대표명화 영문명', '출원인 대표명화 국문명[KR]',\n",
       "       '출원인 식별기호[JP]', '발명자/고안자', '우선권 번호', '우선권 국가', '우선권 주장일', '국제 공개번호',\n",
       "       '국제 공개일', 'Original CPC Main', 'Original CPC All', 'Original IPC Main',\n",
       "       'Original IPC All', 'Original US Class Main[US]',\n",
       "       'Original US Class All[US]', 'Original FI[JP]', 'Original F-term[JP]',\n",
       "       'Original Theme Code [JP]', 'WIPS ON key'],\n",
       "      dtype='object')"
      ]
     },
     "execution_count": 85,
     "metadata": {},
     "output_type": "execute_result"
    }
   ],
   "source": [
    "df.columns"
   ]
  },
  {
   "cell_type": "code",
   "execution_count": 86,
   "metadata": {},
   "outputs": [
    {
     "data": {
      "text/html": [
       "<div>\n",
       "<style scoped>\n",
       "    .dataframe tbody tr th:only-of-type {\n",
       "        vertical-align: middle;\n",
       "    }\n",
       "\n",
       "    .dataframe tbody tr th {\n",
       "        vertical-align: top;\n",
       "    }\n",
       "\n",
       "    .dataframe thead th {\n",
       "        text-align: right;\n",
       "    }\n",
       "</style>\n",
       "<table border=\"1\" class=\"dataframe\">\n",
       "  <thead>\n",
       "    <tr style=\"text-align: right;\">\n",
       "      <th></th>\n",
       "      <th>국가코드</th>\n",
       "      <th>DB종류</th>\n",
       "      <th>특허/실용 구분</th>\n",
       "      <th>문헌종류 코드</th>\n",
       "      <th>발명의 명칭</th>\n",
       "      <th>요약</th>\n",
       "      <th>대표청구항</th>\n",
       "      <th>청구항 수</th>\n",
       "      <th>출원번호</th>\n",
       "      <th>출원일</th>\n",
       "      <th>...</th>\n",
       "      <th>우선권 주장일</th>\n",
       "      <th>국제 공개번호</th>\n",
       "      <th>국제 공개일</th>\n",
       "      <th>Original CPC Main</th>\n",
       "      <th>Original CPC All</th>\n",
       "      <th>Original IPC Main</th>\n",
       "      <th>Original IPC All</th>\n",
       "      <th>Original US Class Main[US]</th>\n",
       "      <th>Original US Class All[US]</th>\n",
       "      <th>WIPS ON key</th>\n",
       "    </tr>\n",
       "  </thead>\n",
       "  <tbody>\n",
       "    <tr>\n",
       "      <td>0</td>\n",
       "      <td>US</td>\n",
       "      <td>US</td>\n",
       "      <td>P</td>\n",
       "      <td>B2</td>\n",
       "      <td>Turboengine water wash system</td>\n",
       "      <td>A system for cleaning gas turbine engines is d...</td>\n",
       "      <td>1. An apparatus for cleaning wing mounted gas ...</td>\n",
       "      <td>64</td>\n",
       "      <td>11/644784</td>\n",
       "      <td>2006-12-22</td>\n",
       "      <td>...</td>\n",
       "      <td>NaN</td>\n",
       "      <td>NaN</td>\n",
       "      <td>NaN</td>\n",
       "      <td>NaN</td>\n",
       "      <td>NaN</td>\n",
       "      <td>B08B-009/00</td>\n",
       "      <td>B08B-009/00</td>\n",
       "      <td>134/166.R</td>\n",
       "      <td>134/166.R | 134/138</td>\n",
       "      <td>4.914000e+12</td>\n",
       "    </tr>\n",
       "    <tr>\n",
       "      <td>1</td>\n",
       "      <td>US</td>\n",
       "      <td>US</td>\n",
       "      <td>P</td>\n",
       "      <td>A1</td>\n",
       "      <td>TREATMENT OF TAILINGS WITH DEIONIZED SILICATE ...</td>\n",
       "      <td>A process for treating a tailings stream compr...</td>\n",
       "      <td>1. A process for treating a tailings stream co...</td>\n",
       "      <td>20</td>\n",
       "      <td>13/848244</td>\n",
       "      <td>2013-03-21</td>\n",
       "      <td>...</td>\n",
       "      <td>NaN</td>\n",
       "      <td>NaN</td>\n",
       "      <td>NaN</td>\n",
       "      <td>B09B-0003/0025</td>\n",
       "      <td>B09B-0003/0025</td>\n",
       "      <td>B09B-003/00</td>\n",
       "      <td>B09B-003/00</td>\n",
       "      <td>106/627</td>\n",
       "      <td>106/627 | 106/600 | 106/631 | 106/632 | 106/63...</td>\n",
       "      <td>5.414000e+12</td>\n",
       "    </tr>\n",
       "    <tr>\n",
       "      <td>2</td>\n",
       "      <td>US</td>\n",
       "      <td>US</td>\n",
       "      <td>P</td>\n",
       "      <td>A1</td>\n",
       "      <td>Method And Apparatus For Treating Tailings Usi...</td>\n",
       "      <td>There is a method described of treating tailin...</td>\n",
       "      <td>1. A method of treating tailings having a comb...</td>\n",
       "      <td>18</td>\n",
       "      <td>13/765924</td>\n",
       "      <td>2013-02-13</td>\n",
       "      <td>...</td>\n",
       "      <td>2012-07-09</td>\n",
       "      <td>NaN</td>\n",
       "      <td>NaN</td>\n",
       "      <td>C02F-0001/48</td>\n",
       "      <td>C02F-0001/48</td>\n",
       "      <td>C02F-001/48</td>\n",
       "      <td>C02F-001/48</td>\n",
       "      <td>204/554</td>\n",
       "      <td>204/554</td>\n",
       "      <td>5.414000e+12</td>\n",
       "    </tr>\n",
       "    <tr>\n",
       "      <td>3</td>\n",
       "      <td>US</td>\n",
       "      <td>US</td>\n",
       "      <td>P</td>\n",
       "      <td>A1</td>\n",
       "      <td>METHOD FOR STABILIZING WASTE AND HAZARDOUS WASTE</td>\n",
       "      <td>The invention provides a process for stabilizi...</td>\n",
       "      <td>1. A method for stabilizing hazardous waste, c...</td>\n",
       "      <td>20</td>\n",
       "      <td>13/767408</td>\n",
       "      <td>2013-02-14</td>\n",
       "      <td>...</td>\n",
       "      <td>2012-07-02</td>\n",
       "      <td>NaN</td>\n",
       "      <td>NaN</td>\n",
       "      <td>A62D-0003/33</td>\n",
       "      <td>A62D-0003/33 | G21F-0009/302</td>\n",
       "      <td>A62D-003/33</td>\n",
       "      <td>A62D-003/33 | G21F-009/30</td>\n",
       "      <td>588/002</td>\n",
       "      <td>588/002 | 588/315</td>\n",
       "      <td>5.414000e+12</td>\n",
       "    </tr>\n",
       "    <tr>\n",
       "      <td>4</td>\n",
       "      <td>US</td>\n",
       "      <td>US</td>\n",
       "      <td>P</td>\n",
       "      <td>B2</td>\n",
       "      <td>Water treatment process and plant using ballas...</td>\n",
       "      <td>A method for treating wastewater using a balla...</td>\n",
       "      <td>1. A method of treating wastewater including: ...</td>\n",
       "      <td>18</td>\n",
       "      <td>12/521154</td>\n",
       "      <td>2007-12-26</td>\n",
       "      <td>...</td>\n",
       "      <td>2006-12-29</td>\n",
       "      <td>WO2008-083923</td>\n",
       "      <td>2008-07-17</td>\n",
       "      <td>NaN</td>\n",
       "      <td>NaN</td>\n",
       "      <td>C02F-001/52</td>\n",
       "      <td>C02F-001/52 | B01D-021/01 | B01D-021/02 | B01D...</td>\n",
       "      <td>210/709</td>\n",
       "      <td>210/709 | 210/711 | 210/712 | 210/713 | 210/71...</td>\n",
       "      <td>4.913050e+12</td>\n",
       "    </tr>\n",
       "  </tbody>\n",
       "</table>\n",
       "<p>5 rows × 32 columns</p>\n",
       "</div>"
      ],
      "text/plain": [
       "  국가코드 DB종류 특허/실용 구분 문헌종류 코드  \\\n",
       "0   US   US        P      B2   \n",
       "1   US   US        P      A1   \n",
       "2   US   US        P      A1   \n",
       "3   US   US        P      A1   \n",
       "4   US   US        P      B2   \n",
       "\n",
       "                                              발명의 명칭  \\\n",
       "0                      Turboengine water wash system   \n",
       "1  TREATMENT OF TAILINGS WITH DEIONIZED SILICATE ...   \n",
       "2  Method And Apparatus For Treating Tailings Usi...   \n",
       "3   METHOD FOR STABILIZING WASTE AND HAZARDOUS WASTE   \n",
       "4  Water treatment process and plant using ballas...   \n",
       "\n",
       "                                                  요약  \\\n",
       "0  A system for cleaning gas turbine engines is d...   \n",
       "1  A process for treating a tailings stream compr...   \n",
       "2  There is a method described of treating tailin...   \n",
       "3  The invention provides a process for stabilizi...   \n",
       "4  A method for treating wastewater using a balla...   \n",
       "\n",
       "                                               대표청구항  청구항 수       출원번호  \\\n",
       "0  1. An apparatus for cleaning wing mounted gas ...     64  11/644784   \n",
       "1  1. A process for treating a tailings stream co...     20  13/848244   \n",
       "2  1. A method of treating tailings having a comb...     18  13/765924   \n",
       "3  1. A method for stabilizing hazardous waste, c...     20  13/767408   \n",
       "4  1. A method of treating wastewater including: ...     18  12/521154   \n",
       "\n",
       "          출원일  ...     우선권 주장일        국제 공개번호      국제 공개일 Original CPC Main  \\\n",
       "0  2006-12-22  ...         NaN            NaN         NaN               NaN   \n",
       "1  2013-03-21  ...         NaN            NaN         NaN    B09B-0003/0025   \n",
       "2  2013-02-13  ...  2012-07-09            NaN         NaN      C02F-0001/48   \n",
       "3  2013-02-14  ...  2012-07-02            NaN         NaN      A62D-0003/33   \n",
       "4  2007-12-26  ...  2006-12-29  WO2008-083923  2008-07-17               NaN   \n",
       "\n",
       "               Original CPC All Original IPC Main  \\\n",
       "0                           NaN       B08B-009/00   \n",
       "1                B09B-0003/0025       B09B-003/00   \n",
       "2                  C02F-0001/48       C02F-001/48   \n",
       "3  A62D-0003/33 | G21F-0009/302       A62D-003/33   \n",
       "4                           NaN       C02F-001/52   \n",
       "\n",
       "                                    Original IPC All  \\\n",
       "0                                        B08B-009/00   \n",
       "1                                        B09B-003/00   \n",
       "2                                        C02F-001/48   \n",
       "3                          A62D-003/33 | G21F-009/30   \n",
       "4  C02F-001/52 | B01D-021/01 | B01D-021/02 | B01D...   \n",
       "\n",
       "  Original US Class Main[US]  \\\n",
       "0                  134/166.R   \n",
       "1                    106/627   \n",
       "2                    204/554   \n",
       "3                    588/002   \n",
       "4                    210/709   \n",
       "\n",
       "                           Original US Class All[US]   WIPS ON key  \n",
       "0                                134/166.R | 134/138  4.914000e+12  \n",
       "1  106/627 | 106/600 | 106/631 | 106/632 | 106/63...  5.414000e+12  \n",
       "2                                            204/554  5.414000e+12  \n",
       "3                                  588/002 | 588/315  5.414000e+12  \n",
       "4  210/709 | 210/711 | 210/712 | 210/713 | 210/71...  4.913050e+12  \n",
       "\n",
       "[5 rows x 32 columns]"
      ]
     },
     "execution_count": 86,
     "metadata": {},
     "output_type": "execute_result"
    }
   ],
   "source": [
    "df = raw_data.dropna(axis=1, how='all')\n",
    "df.head()"
   ]
  },
  {
   "cell_type": "code",
   "execution_count": 87,
   "metadata": {},
   "outputs": [
    {
     "data": {
      "text/plain": [
       "Index(['국가코드', 'DB종류', '특허/실용 구분', '문헌종류 코드', '발명의 명칭', '요약', '대표청구항', '청구항 수',\n",
       "       '출원번호', '출원일', '공개번호/공표/재공표 ', '공개일', '등록번호', '등록일', '출원인', '출원인 국적',\n",
       "       '출원인 수', '출원인 대표명화 코드', '출원인 대표명화 영문명', '발명자/고안자', '우선권 번호', '우선권 국가',\n",
       "       '우선권 주장일', '국제 공개번호', '국제 공개일', 'Original CPC Main', 'Original CPC All',\n",
       "       'Original IPC Main', 'Original IPC All', 'Original US Class Main[US]',\n",
       "       'Original US Class All[US]', 'WIPS ON key'],\n",
       "      dtype='object')"
      ]
     },
     "execution_count": 87,
     "metadata": {},
     "output_type": "execute_result"
    }
   ],
   "source": [
    "df.columns"
   ]
  },
  {
   "cell_type": "markdown",
   "metadata": {},
   "source": [
    "## valid data에서 US data 외 데이터 drop"
   ]
  },
  {
   "cell_type": "code",
   "execution_count": 88,
   "metadata": {},
   "outputs": [
    {
     "data": {
      "text/plain": [
       "(75, 7)"
      ]
     },
     "execution_count": 88,
     "metadata": {},
     "output_type": "execute_result"
    }
   ],
   "source": [
    "val_data = val_data[val_data.국가 == \"US\"]\n",
    "val_data = val_data.drop_duplicates(val_data.columns)\n",
    "val_data.shape\n",
    "# val_data.to_csv(\"1.csv\", encoding='cp949')"
   ]
  },
  {
   "cell_type": "markdown",
   "metadata": {},
   "source": [
    "## raw data와 valid data의 공개/등록 번호 form 맞춰주기"
   ]
  },
  {
   "cell_type": "code",
   "execution_count": 89,
   "metadata": {},
   "outputs": [
    {
     "name": "stdout",
     "output_type": "stream",
     "text": [
      "<valid> \n",
      " 14    20140037379\n",
      "31       08557121\n",
      "61       08448279\n",
      "78       08430600\n",
      "96    20130028660\n",
      "Name: 공개(등록)번호, dtype: object\n",
      "\n",
      "<raw> \n",
      " 0    2008-0149141\n",
      "1    2014-0007795\n",
      "2    2014-0008229\n",
      "3    2014-0005461\n",
      "4    2010-0096335\n",
      "Name: 공개번호/공표/재공표 , dtype: object \n",
      " 0    8628627\n",
      "1        NaN\n",
      "2        NaN\n",
      "3        NaN\n",
      "4    8617400\n",
      "Name: 등록번호, dtype: object\n"
     ]
    }
   ],
   "source": [
    "print(\"<valid> \\n\", val_data['공개(등록)번호'].head())\n",
    "print(\"\\n<raw> \\n\", raw_data['공개번호/공표/재공표 '].head(), \"\\n\", raw_data['등록번호'].head())"
   ]
  },
  {
   "cell_type": "code",
   "execution_count": 90,
   "metadata": {},
   "outputs": [],
   "source": [
    "df.loc[:, '공개번호/공표/재공표 '] = (df.loc[:, '공개번호/공표/재공표 '].str.split('-')).str.join('')\n",
    "df.loc[:, '공개번호/공표/재공표 '].fillna(value = 0, inplace=True)"
   ]
  },
  {
   "cell_type": "code",
   "execution_count": 91,
   "metadata": {},
   "outputs": [],
   "source": [
    "# 8자리 맞추기 ex)8704653 -> 08704653\n",
    "# 00000000 -> 0\n",
    "\n",
    "df.loc[:, '등록번호'] = df.loc[:, '등록번호'].apply(lambda x:'{0:0>8}'.format(x) if(np.all(pd.notnull(x))) else x).fillna(0)\n",
    "for idx, i in enumerate(df['등록번호']):\n",
    "    if str(i).isdigit() != True:\n",
    "        df['등록번호'][idx] = 0"
   ]
  },
  {
   "cell_type": "code",
   "execution_count": 92,
   "metadata": {},
   "outputs": [
    {
     "data": {
      "text/plain": [
       "0    08628627\n",
       "1           0\n",
       "2           0\n",
       "3           0\n",
       "4    08617400\n",
       "5           0\n",
       "6           0\n",
       "7    08596928\n",
       "8    08598405\n",
       "9           0\n",
       "Name: 등록번호, dtype: object"
      ]
     },
     "execution_count": 92,
     "metadata": {},
     "output_type": "execute_result"
    }
   ],
   "source": [
    "df['등록번호'].head(10)"
   ]
  },
  {
   "cell_type": "markdown",
   "metadata": {},
   "source": [
    "## valid patent 확인\n",
    "US 유효특허 : 86개"
   ]
  },
  {
   "cell_type": "code",
   "execution_count": 93,
   "metadata": {},
   "outputs": [
    {
     "name": "stdout",
     "output_type": "stream",
     "text": [
      "41 41\n"
     ]
    }
   ],
   "source": [
    "#raw_data 중에서 val_data\n",
    "y_idx_list = []\n",
    "for idx, raw in enumerate(df[\"공개번호/공표/재공표 \"]):\n",
    "    for val in val_data[\"공개(등록)번호\"]:\n",
    "        if raw == val and idx not in y_idx_list:\n",
    "            y_idx_list.append(idx)\n",
    "\n",
    "for idx, raw in enumerate(df[\"등록번호\"]):\n",
    "    for val in val_data[\"공개(등록)번호\"]:\n",
    "        if raw == val and idx not in y_idx_list:\n",
    "            y_idx_list.append(idx)\n",
    "\n",
    "for idx, raw in enumerate(df[\"발명의 명칭\"]):\n",
    "    for val in val_data[\"발명의 명칭\"]:\n",
    "        if raw.lower() == val.lower() and idx not in y_idx_list:\n",
    "            y_idx_list.append(idx)\n",
    "y_data_list = [int(1) for i in range(len(y_idx_list))]\n",
    "print(len(y_idx_list), len(y_data_list))"
   ]
  },
  {
   "cell_type": "code",
   "execution_count": 94,
   "metadata": {},
   "outputs": [],
   "source": [
    "y_values = pd.Series(data=y_data_list, index=y_idx_list)\n",
    "df.loc[:, \"유효특허 여부\"] = y_values\n",
    "df[\"유효특허 여부\"].fillna(0, inplace=True)"
   ]
  },
  {
   "cell_type": "code",
   "execution_count": 95,
   "metadata": {},
   "outputs": [
    {
     "data": {
      "text/plain": [
       "0.0    1864\n",
       "1.0      41\n",
       "Name: 유효특허 여부, dtype: int64"
      ]
     },
     "execution_count": 95,
     "metadata": {},
     "output_type": "execute_result"
    }
   ],
   "source": [
    "df['유효특허 여부'].value_counts()"
   ]
  },
  {
   "cell_type": "markdown",
   "metadata": {},
   "source": [
    "<hr>"
   ]
  },
  {
   "cell_type": "markdown",
   "metadata": {},
   "source": [
    "## IPC Digitization"
   ]
  },
  {
   "cell_type": "code",
   "execution_count": 96,
   "metadata": {},
   "outputs": [
    {
     "data": {
      "text/plain": [
       "0    B08B\n",
       "1    B09B\n",
       "2    C02F\n",
       "3    A62D\n",
       "4    C02F\n",
       "Name: Original IPC Main, dtype: object"
      ]
     },
     "execution_count": 96,
     "metadata": {},
     "output_type": "execute_result"
    }
   ],
   "source": [
    "df.loc[:, 'Original IPC Main'] = df.loc[:, 'Original IPC Main'].astype('str').str.slice(0,4)\n",
    "df['Original IPC Main'].head()"
   ]
  },
  {
   "cell_type": "code",
   "execution_count": 97,
   "metadata": {},
   "outputs": [],
   "source": [
    "# |로 묶인 IPC 처리\n",
    "ipc_idx_list = []\n",
    "ipc_all = []\n",
    "for idx, i in enumerate(df['Original IPC All']):\n",
    "    i = i.split('|')\n",
    "    if len(i) != 1: # 여러 개 있으면\n",
    "        ipc_list = []\n",
    "        for ipc in i:\n",
    "            ipc_list.append((ipc.strip())[:4])\n",
    "        ipc_all.append(('|').join(ipc_list))\n",
    "        ipc_idx_list.append(idx)\n",
    "    else:\n",
    "        ipc_all.append((i[0].strip())[0:4])\n",
    "        ipc_idx_list.append(idx)"
   ]
  },
  {
   "cell_type": "code",
   "execution_count": 98,
   "metadata": {},
   "outputs": [
    {
     "data": {
      "text/plain": [
       "0                        B08B\n",
       "1                        B09B\n",
       "2                        C02F\n",
       "3                   A62D|G21F\n",
       "4    C02F|B01D|B01D|B01D|B01D\n",
       "Name: Original IPC All, dtype: object"
      ]
     },
     "execution_count": 98,
     "metadata": {},
     "output_type": "execute_result"
    }
   ],
   "source": [
    "ipc_values = pd.Series(data = ipc_all, index=ipc_idx_list)\n",
    "df.loc[:, 'Original IPC All'] = ipc_values\n",
    "df['Original IPC All'].head()"
   ]
  },
  {
   "cell_type": "markdown",
   "metadata": {},
   "source": [
    "## fillna"
   ]
  },
  {
   "cell_type": "code",
   "execution_count": 99,
   "metadata": {},
   "outputs": [
    {
     "data": {
      "text/html": [
       "<div>\n",
       "<style scoped>\n",
       "    .dataframe tbody tr th:only-of-type {\n",
       "        vertical-align: middle;\n",
       "    }\n",
       "\n",
       "    .dataframe tbody tr th {\n",
       "        vertical-align: top;\n",
       "    }\n",
       "\n",
       "    .dataframe thead th {\n",
       "        text-align: right;\n",
       "    }\n",
       "</style>\n",
       "<table border=\"1\" class=\"dataframe\">\n",
       "  <thead>\n",
       "    <tr style=\"text-align: right;\">\n",
       "      <th></th>\n",
       "      <th>출원인</th>\n",
       "    </tr>\n",
       "  </thead>\n",
       "  <tbody>\n",
       "    <tr>\n",
       "      <td>60</td>\n",
       "      <td>INVENT UMWELT-UND VERFAHRENSTECHNIK AG</td>\n",
       "    </tr>\n",
       "    <tr>\n",
       "      <td>61</td>\n",
       "      <td>Kurt Ingerle</td>\n",
       "    </tr>\n",
       "    <tr>\n",
       "      <td>62</td>\n",
       "      <td>UKN</td>\n",
       "    </tr>\n",
       "    <tr>\n",
       "      <td>63</td>\n",
       "      <td>UKN</td>\n",
       "    </tr>\n",
       "    <tr>\n",
       "      <td>64</td>\n",
       "      <td>Geopier Foundation Company, Inc.</td>\n",
       "    </tr>\n",
       "    <tr>\n",
       "      <td>65</td>\n",
       "      <td>UNIVERSITY OF SOUTH FLORIDA</td>\n",
       "    </tr>\n",
       "    <tr>\n",
       "      <td>66</td>\n",
       "      <td>UKN</td>\n",
       "    </tr>\n",
       "    <tr>\n",
       "      <td>67</td>\n",
       "      <td>Veolia Water Solutions &amp; Technologies Support</td>\n",
       "    </tr>\n",
       "    <tr>\n",
       "      <td>68</td>\n",
       "      <td>CH2M Hill, Inc.</td>\n",
       "    </tr>\n",
       "    <tr>\n",
       "      <td>69</td>\n",
       "      <td>UKN</td>\n",
       "    </tr>\n",
       "  </tbody>\n",
       "</table>\n",
       "</div>"
      ],
      "text/plain": [
       "                                              출원인\n",
       "60         INVENT UMWELT-UND VERFAHRENSTECHNIK AG\n",
       "61                                   Kurt Ingerle\n",
       "62                                            UKN\n",
       "63                                            UKN\n",
       "64               Geopier Foundation Company, Inc.\n",
       "65                    UNIVERSITY OF SOUTH FLORIDA\n",
       "66                                            UKN\n",
       "67  Veolia Water Solutions & Technologies Support\n",
       "68                                CH2M Hill, Inc.\n",
       "69                                            UKN"
      ]
     },
     "execution_count": 99,
     "metadata": {},
     "output_type": "execute_result"
    }
   ],
   "source": [
    "df.loc[:, '출원인'] = df.loc[:, '출원인'].fillna(value='UKN')\n",
    "df[['출원인']][60:70]"
   ]
  },
  {
   "cell_type": "markdown",
   "metadata": {},
   "source": [
    "## including dash/slash data preprocessing"
   ]
  },
  {
   "cell_type": "code",
   "execution_count": 100,
   "metadata": {},
   "outputs": [],
   "source": [
    "df.loc[:, '출원일'] = (df.loc[:, '출원일'].str.split('-')).str.join('')\n",
    "df.loc[:, '출원일'] = df.loc[:, '출원일'].fillna(0)\n",
    "\n",
    "df.loc[:, '공개일'] = (df.loc[:, '공개일'].str.split('-')).str.join('')\n",
    "df.loc[:, '공개일'] = df.loc[:, '공개일'].fillna(0)\n",
    "\n",
    "df.loc[:, '등록일'] = (df.loc[:, '등록일'].str.split('-')).str.join('')\n",
    "df.loc[:, '등록일'] = df.loc[:, '등록일'].fillna(0)\n",
    "\n",
    "df.loc[:, '국제 공개번호'] = (df.loc[:, '국제 공개번호'].str.split('-')).str.join('').str.slice(2,-1)\n",
    "df.loc[:, '국제 공개번호'] = (df.loc[:, '국제 공개번호'].str.split('/')).str.join('')\n",
    "df.loc[:, '국제 공개번호'] = df.loc[:, '국제 공개번호'].fillna(value=int(0))"
   ]
  },
  {
   "cell_type": "markdown",
   "metadata": {},
   "source": [
    "## Label Encoding"
   ]
  },
  {
   "cell_type": "code",
   "execution_count": 101,
   "metadata": {},
   "outputs": [],
   "source": [
    "application_id = list(df['출원번호'])\n",
    "le = LabelEncoder()\n",
    "le.fit(application_id)\n",
    "\n",
    "application_id_le = le.transform(application_id)\n",
    "df['출원번호'] = application_id_le"
   ]
  },
  {
   "cell_type": "code",
   "execution_count": 102,
   "metadata": {},
   "outputs": [],
   "source": [
    "patent_kind = list(df['문헌종류 코드'])\n",
    "le = LabelEncoder()\n",
    "le.fit(patent_kind)\n",
    "\n",
    "patent_kind_le = le.transform(patent_kind)\n",
    "df['문헌종류 코드'] = patent_kind_le"
   ]
  },
  {
   "cell_type": "code",
   "execution_count": 103,
   "metadata": {},
   "outputs": [],
   "source": [
    "priority_id = list(df['우선권 번호'])\n",
    "le = LabelEncoder()\n",
    "le.fit(priority_id)\n",
    "\n",
    "priority_id_le = le.transform(priority_id)\n",
    "df['우선권 번호'] = priority_id_le"
   ]
  },
  {
   "cell_type": "code",
   "execution_count": 104,
   "metadata": {},
   "outputs": [],
   "source": [
    "df = df.astype('str')"
   ]
  },
  {
   "cell_type": "code",
   "execution_count": 105,
   "metadata": {},
   "outputs": [],
   "source": [
    "df.to_csv('../data/sea/data_sea_1.csv', encoding='cp949')"
   ]
  },
  {
   "cell_type": "markdown",
   "metadata": {},
   "source": [
    "---------"
   ]
  },
  {
   "cell_type": "code",
   "execution_count": 106,
   "metadata": {},
   "outputs": [],
   "source": [
    "df['patent index'] = [i for i in range(df.shape[0])]"
   ]
  },
  {
   "cell_type": "markdown",
   "metadata": {},
   "source": [
    "## ipc main to EdgeList"
   ]
  },
  {
   "cell_type": "code",
   "execution_count": 107,
   "metadata": {},
   "outputs": [],
   "source": [
    "# ipc 한 개\n",
    "main_ipc_dict = {}\n",
    "main_ipc_dict['patent'] = df['patent index']\n",
    "main_ipc_dict['ipc'] = df['Original IPC Main']\n",
    "\n",
    "main_ipc_edge = pd.DataFrame(main_ipc_dict)\n",
    "main_ipc_edge.to_csv(\"../data/sea/sea_main_ipc_edge.tsv\", sep='\\t', index=False, header=True)"
   ]
  },
  {
   "cell_type": "markdown",
   "metadata": {},
   "source": [
    "## ipc all to EdgeList"
   ]
  },
  {
   "cell_type": "code",
   "execution_count": 108,
   "metadata": {},
   "outputs": [],
   "source": [
    "# ipc 여러 개\n",
    "ipc_index = []\n",
    "ipc = []\n",
    "for idx, i in enumerate(df['Original IPC All']):\n",
    "    i = i.split('|')\n",
    "    if len(i) != 1:\n",
    "        for j in range(len(i)):\n",
    "            ipc_index.append(idx)\n",
    "            ipc.append(i[j])\n",
    "    else:\n",
    "        ipc_index.append(idx)\n",
    "        ipc.append(i[0])"
   ]
  },
  {
   "cell_type": "code",
   "execution_count": 109,
   "metadata": {},
   "outputs": [],
   "source": [
    "ipc_idx_values = pd.Series(data=ipc_index)\n",
    "ipc_values = pd.Series(data=ipc)\n",
    "\n",
    "all_ipc_dict = {}\n",
    "all_ipc_dict['ipc'] = ipc_values\n",
    "all_ipc_dict['patent'] = ipc_idx_values\n",
    "\n",
    "all_ipc_edge = pd.DataFrame(all_ipc_dict)\n",
    "all_ipc_edge.to_csv(\"../data/sea/sea_all_ipc_edge.tsv\", sep='\\t', index=False, header=True)"
   ]
  },
  {
   "cell_type": "markdown",
   "metadata": {},
   "source": [
    "## US Class main to EdgeList"
   ]
  },
  {
   "cell_type": "code",
   "execution_count": 110,
   "metadata": {},
   "outputs": [],
   "source": [
    "# 한 개\n",
    "main_usclass_dict = {}\n",
    "main_usclass_dict['patent'] = df['patent index']\n",
    "main_usclass_dict['us_class'] = df['Original US Class Main[US]']\n",
    "\n",
    "main_usclass_edge = pd.DataFrame(main_usclass_dict)\n",
    "main_usclass_edge.to_csv(\"../data/sea/sea_main_usclass_edge.tsv\", sep='\\t', index=False, header=True)"
   ]
  },
  {
   "cell_type": "markdown",
   "metadata": {},
   "source": [
    "## US Class all to EdgeList"
   ]
  },
  {
   "cell_type": "code",
   "execution_count": 111,
   "metadata": {},
   "outputs": [],
   "source": [
    "# 여러 개\n",
    "usclass_index = []\n",
    "usclass = []\n",
    "for idx, i in enumerate(df['Original US Class All[US]']):\n",
    "    i = i.split('|')\n",
    "    if len(i) != 1:\n",
    "        for j in range(len(i)):\n",
    "            usclass_index.append(idx)\n",
    "            usclass.append(i[j].strip())\n",
    "    else:\n",
    "        usclass_index.append(idx)\n",
    "        usclass.append(i[0])"
   ]
  },
  {
   "cell_type": "code",
   "execution_count": 112,
   "metadata": {},
   "outputs": [],
   "source": [
    "usclass_idx_values = pd.Series(data=usclass_index)\n",
    "usclass_values = pd.Series(data=usclass)\n",
    "\n",
    "all_usclass_dict = {}\n",
    "all_usclass_dict['us_class'] = usclass_values\n",
    "all_usclass_dict['patent'] = usclass_idx_values\n",
    "\n",
    "all_usclass_edge = pd.DataFrame(all_usclass_dict)\n",
    "all_usclass_edge.to_csv(\"../data/sea/sea_all_usclass_edge.tsv\", sep='\\t', index=False, header=True)"
   ]
  },
  {
   "cell_type": "markdown",
   "metadata": {},
   "source": [
    "## assignee to EdgeList"
   ]
  },
  {
   "cell_type": "code",
   "execution_count": 113,
   "metadata": {},
   "outputs": [],
   "source": [
    "assignee = pd.read_csv('../data/sea/assignee.tsv', sep='\\t', encoding='utf-8')\n",
    "assignee = assignee.drop('Unnamed: 0', axis=1)"
   ]
  },
  {
   "cell_type": "code",
   "execution_count": 114,
   "metadata": {},
   "outputs": [],
   "source": [
    "# patent id 와 assignee id 리스트 생성\n",
    "patent_id =[]\n",
    "assignee_id_list = []\n",
    "for i in range(len(assignee)):\n",
    "    ids = assignee.fillna('0').iloc[[i]].values\n",
    "    for j in ids[0]:\n",
    "        patent_assignee = j.replace(\"(\",\"\").replace(\")\",\"\").replace(\"'\",\"\").split(\",\")\n",
    "        if len(patent_assignee) != 1:\n",
    "            patent_id.append(patent_assignee[0].strip())\n",
    "            assignee_id_list.append(patent_assignee[1].strip())"
   ]
  },
  {
   "cell_type": "code",
   "execution_count": 115,
   "metadata": {},
   "outputs": [],
   "source": [
    "patent_values = pd.Series(data=patent_id)\n",
    "assignee_values = pd.Series(data=assignee_id_list)\n",
    "\n",
    "patent_assignee_dict= {}\n",
    "patent_assignee_dict['patent_id'] = patent_id\n",
    "patent_assignee_dict['assignee_id'] = assignee_id_list\n",
    "\n",
    "patent_assignee_edge = pd.DataFrame(patent_assignee_dict)\n",
    "patent_assignee_edge.to_csv('../data/sea/sea_assignee_edge.tsv', sep='\\t', header=True)"
   ]
  },
  {
   "cell_type": "markdown",
   "metadata": {},
   "source": [
    "## application citation to EdgeList"
   ]
  },
  {
   "cell_type": "code",
   "execution_count": 116,
   "metadata": {},
   "outputs": [],
   "source": [
    "application_citation = pd.read_csv('../data/sea/application_citation.tsv', sep='\\t', encoding='utf-8')\n",
    "application_citation = application_citation.drop('Unnamed: 0', axis=1)\n",
    "application_citation = application_citation.dropna(how='all')"
   ]
  },
  {
   "cell_type": "code",
   "execution_count": 117,
   "metadata": {},
   "outputs": [],
   "source": [
    "patent_id =[]\n",
    "application_citation_id_list = []\n",
    "for i in range(len(application_citation)):\n",
    "    ids = application_citation.fillna('0').iloc[[i]].values\n",
    "    for j in ids[0]:\n",
    "        patent_application_citation = j.replace(\"(\",\"\").replace(\")\",\"\").replace(\"'\",\"\").split(\",\")\n",
    "        if len(patent_application_citation) != 1:\n",
    "            patent_id.append(patent_application_citation[0].strip())\n",
    "            application_citation_id_list.append(patent_application_citation[1].strip())"
   ]
  },
  {
   "cell_type": "code",
   "execution_count": 118,
   "metadata": {},
   "outputs": [],
   "source": [
    "patent_values = pd.Series(data=patent_id)\n",
    "application_citation_values = pd.Series(data=application_citation_id_list)\n",
    "\n",
    "patent_application_citation_dict= {}\n",
    "patent_application_citation_dict['patent_id'] = patent_id\n",
    "patent_application_citation_dict['application_citation_id'] = application_citation_id_list\n",
    "\n",
    "patent_application_citation_edge = pd.DataFrame(patent_application_citation_dict)\n",
    "patent_application_citation_edge.to_csv('../data/sea/sea_application_citation_edge.tsv', sep='\\t', header=True)"
   ]
  },
  {
   "cell_type": "markdown",
   "metadata": {},
   "source": [
    "## grant citation to EdgeList"
   ]
  },
  {
   "cell_type": "code",
   "execution_count": 119,
   "metadata": {},
   "outputs": [],
   "source": [
    "grant_citation = pd.read_csv('../data/sea/grant_citation.tsv', sep='\\t', encoding='utf-8')\n",
    "grant_citation = grant_citation.drop('Unnamed: 0', axis=1)\n",
    "grant_citation = grant_citation.dropna(how='all')"
   ]
  },
  {
   "cell_type": "code",
   "execution_count": 120,
   "metadata": {},
   "outputs": [],
   "source": [
    "patent_id =[]\n",
    "grant_citation_id_list = []\n",
    "for i in range(len(grant_citation)):\n",
    "    ids = grant_citation.fillna('0').iloc[[i]].values\n",
    "    for j in ids[0]:\n",
    "        patent_grant_citation = j.replace(\"(\",\"\").replace(\")\",\"\").replace(\"'\",\"\").split(\",\")\n",
    "        if len(patent_grant_citation) != 1:\n",
    "            patent_id.append(patent_grant_citation[0].strip())\n",
    "            grant_citation_id_list.append(patent_grant_citation[1].strip())"
   ]
  },
  {
   "cell_type": "code",
   "execution_count": 121,
   "metadata": {},
   "outputs": [],
   "source": [
    "patent_values = pd.Series(data=patent_id)\n",
    "grant_citation_values = pd.Series(data=grant_citation_id_list)\n",
    "\n",
    "patent_grant_citation_dict= {}\n",
    "patent_grant_citation_dict['patent_id'] = patent_id\n",
    "patent_grant_citation_dict['grant_citation_id'] = grant_citation_id_list\n",
    "\n",
    "patent_grant_citation_edge = pd.DataFrame(patent_grant_citation_dict)\n",
    "patent_grant_citation_edge.to_csv('../data/sea/sea_grant_citation_edge.tsv', sep='\\t', header=True)"
   ]
  },
  {
   "cell_type": "markdown",
   "metadata": {},
   "source": [
    "## inventor to EdgeList"
   ]
  },
  {
   "cell_type": "code",
   "execution_count": 122,
   "metadata": {},
   "outputs": [
    {
     "data": {
      "text/plain": [
       "Index(['국가코드', 'DB종류', '특허/실용 구분', '문헌종류 코드', '발명의 명칭', '요약', '대표청구항', '청구항 수',\n",
       "       '출원번호', '출원일', '공개번호/공표/재공표 ', '공개일', '등록번호', '등록일', '출원인', '출원인 국적',\n",
       "       '출원인 수', '출원인 대표명화 코드', '출원인 대표명화 영문명', '발명자/고안자', '우선권 번호', '우선권 국가',\n",
       "       '우선권 주장일', '국제 공개번호', '국제 공개일', 'Original CPC Main', 'Original CPC All',\n",
       "       'Original IPC Main', 'Original IPC All', 'Original US Class Main[US]',\n",
       "       'Original US Class All[US]', 'WIPS ON key', '유효특허 여부', 'patent index'],\n",
       "      dtype='object')"
      ]
     },
     "execution_count": 122,
     "metadata": {},
     "output_type": "execute_result"
    }
   ],
   "source": [
    "df.columns"
   ]
  },
  {
   "cell_type": "code",
   "execution_count": 123,
   "metadata": {},
   "outputs": [],
   "source": [
    "inventor_index = []\n",
    "inventor = []\n",
    "for idx, i in enumerate(df['발명자/고안자']):\n",
    "    i = i.split('|')\n",
    "    if len(i) != 1:\n",
    "        for j in range(len(i)):\n",
    "            inventor_index.append(idx)\n",
    "            inventor.append(i[j].strip())\n",
    "    else:\n",
    "        inventor_index.append(idx)\n",
    "        inventor.append(i[0])"
   ]
  },
  {
   "cell_type": "code",
   "execution_count": 124,
   "metadata": {},
   "outputs": [],
   "source": [
    "inventor_idx_values = pd.Series(data=inventor_index)\n",
    "inventor_values = pd.Series(data=inventor)\n",
    "\n",
    "inventor_dict = {}\n",
    "inventor_dict['patent_id'] = inventor_idx_values\n",
    "inventor_dict['inventor'] = inventor_values\n",
    "\n",
    "inventor_edge = pd.DataFrame(inventor_dict)\n",
    "inventor_edge.to_csv('../data/sea/sea_inventor_edge.tsv', sep='\\t', encoding='utf-8', header=True)"
   ]
  },
  {
   "cell_type": "markdown",
   "metadata": {},
   "source": [
    "## applicant"
   ]
  },
  {
   "cell_type": "code",
   "execution_count": 125,
   "metadata": {},
   "outputs": [],
   "source": [
    "applicant_index = []\n",
    "applicant = []\n",
    "for idx, i in enumerate(df['출원인']):\n",
    "    i = i.split('|')\n",
    "    if len(i) != 1:\n",
    "        for j in range(len(i)):\n",
    "            applicant_index.append(idx)\n",
    "            applicant.append(i[j].strip().lower())\n",
    "    else:\n",
    "        applicant_index.append(idx)\n",
    "        applicant.append(i[0].lower())"
   ]
  },
  {
   "cell_type": "code",
   "execution_count": 126,
   "metadata": {},
   "outputs": [],
   "source": [
    "applicant_idx_values = pd.Series(data=applicant_index)\n",
    "applicant_values = pd.Series(data=applicant)\n",
    "\n",
    "applicant_dict = {}\n",
    "applicant_dict['patent_id'] = applicant_idx_values\n",
    "applicant_dict['applicant'] = applicant_values\n",
    "\n",
    "applicant_edge = pd.DataFrame(applicant_dict)\n",
    "applicant_edge.to_csv('../data/sea/sea_applicant_edge.tsv', sep='\\t', encoding='utf-8', header=True)"
   ]
  },
  {
   "cell_type": "markdown",
   "metadata": {},
   "source": [
    "----------"
   ]
  },
  {
   "cell_type": "code",
   "execution_count": 127,
   "metadata": {},
   "outputs": [],
   "source": [
    "df = pd.read_csv(\"../data/sea/data_sea_1.csv\", encoding='cp949')"
   ]
  },
  {
   "cell_type": "code",
   "execution_count": 128,
   "metadata": {},
   "outputs": [
    {
     "name": "stdout",
     "output_type": "stream",
     "text": [
      "(1905, 34)\n"
     ]
    },
    {
     "data": {
      "text/plain": [
       "Index(['Unnamed: 0', '국가코드', 'DB종류', '특허/실용 구분', '문헌종류 코드', '발명의 명칭', '요약',\n",
       "       '대표청구항', '청구항 수', '출원번호', '출원일', '공개번호/공표/재공표 ', '공개일', '등록번호', '등록일',\n",
       "       '출원인', '출원인 국적', '출원인 수', '출원인 대표명화 코드', '출원인 대표명화 영문명', '발명자/고안자',\n",
       "       '우선권 번호', '우선권 국가', '우선권 주장일', '국제 공개번호', '국제 공개일', 'Original CPC Main',\n",
       "       'Original CPC All', 'Original IPC Main', 'Original IPC All',\n",
       "       'Original US Class Main[US]', 'Original US Class All[US]',\n",
       "       'WIPS ON key', '유효특허 여부'],\n",
       "      dtype='object')"
      ]
     },
     "execution_count": 128,
     "metadata": {},
     "output_type": "execute_result"
    }
   ],
   "source": [
    "print(df.shape)\n",
    "df.columns"
   ]
  },
  {
   "cell_type": "markdown",
   "metadata": {},
   "source": [
    "## convert column's name to english & drop columns"
   ]
  },
  {
   "cell_type": "code",
   "execution_count": 129,
   "metadata": {},
   "outputs": [],
   "source": [
    "df = df.rename(index=str, \n",
    "               columns={'등록번호': 'grant_id','출원번호':'application_id', '공개번호/공표/재공표 ':'published_grant_id',\n",
    "                        '발명의 명칭': \"title\", '대표청구항':'claim', '청구항 수':'n_claim', \"발명자/고안자\":\"inventor\",\n",
    "                        '우선권 번호':'priority_id', '요약': 'abstract', 'Unnamed: 0' : 'index', '등록일':'grant_date',\n",
    "                        '출원일':'application_date', '공개일':'published_date', '출원인':'applicant', \n",
    "                        '출원인 수':'n_applicant',\n",
    "                        '출원인 대표명화 코드':'applicant_code', '국제 공개번호':'international_published_id', \n",
    "                        'Original IPC Main':'ipc_main', 'Original IPC All':'ipc_all',\n",
    "                        'Original US Class Main[US]':'usclass_main', 'Original US Class All[US]':'usclass_all',\n",
    "                        '유효특허 여부':'valid_patent', '문헌종류 코드':'patent_kind'})"
   ]
  },
  {
   "cell_type": "code",
   "execution_count": 130,
   "metadata": {},
   "outputs": [],
   "source": [
    "df = df.drop(['특허/실용 구분', 'DB종류', '국가코드', '출원인 대표명화 영문명', '국제 공개일', '우선권 주장일',\n",
    "             'Original CPC Main', 'Original CPC All', 'WIPS ON key', '출원인 국적', '우선권 국가'], axis=1)"
   ]
  },
  {
   "cell_type": "code",
   "execution_count": 131,
   "metadata": {},
   "outputs": [
    {
     "data": {
      "text/plain": [
       "(1905, 23)"
      ]
     },
     "execution_count": 131,
     "metadata": {},
     "output_type": "execute_result"
    }
   ],
   "source": [
    "df.shape"
   ]
  },
  {
   "cell_type": "markdown",
   "metadata": {},
   "source": [
    "## merge edgelist to df"
   ]
  },
  {
   "cell_type": "markdown",
   "metadata": {},
   "source": [
    "### assignee"
   ]
  },
  {
   "cell_type": "code",
   "execution_count": 132,
   "metadata": {},
   "outputs": [],
   "source": [
    "assignee_edge = pd.read_csv(\"../data/sea/sea_assignee_edge.tsv\", sep='\\t')\n",
    "for i, j in enumerate(df.grant_id):\n",
    "    if j in list(assignee_edge['patent_id']):\n",
    "        x = assignee_edge.loc[assignee_edge['patent_id']==j]['Unnamed: 0']\n",
    "        assignee_edge.at[x,'patent_id']= i"
   ]
  },
  {
   "cell_type": "code",
   "execution_count": 133,
   "metadata": {},
   "outputs": [
    {
     "data": {
      "text/plain": [
       "(1905, 284)"
      ]
     },
     "execution_count": 133,
     "metadata": {},
     "output_type": "execute_result"
    }
   ],
   "source": [
    "cols = assignee_edge.columns.tolist()[::-1]\n",
    "assignee_edge = assignee_edge[cols]\n",
    "\n",
    "assignee_edge[\"value\"] = 1\n",
    "assignee_matrix = pd.pivot_table(assignee_edge, index=['patent_id', 'assignee_id'])\n",
    "\n",
    "assignee_matrix_reidx = assignee_matrix.reset_index()\n",
    "assignee_matrix_reidx = assignee_matrix_reidx.pivot(values= \"value\",index=\"patent_id\",columns=\"assignee_id\").fillna(0)\n",
    "\n",
    "df.index = df['index']\n",
    "df = df.drop_duplicates()\n",
    "df = df.join(assignee_matrix_reidx, how='outer')\n",
    "df.shape"
   ]
  },
  {
   "cell_type": "markdown",
   "metadata": {},
   "source": [
    "### appication citation"
   ]
  },
  {
   "cell_type": "code",
   "execution_count": 134,
   "metadata": {},
   "outputs": [],
   "source": [
    "application_citation_edge = pd.read_csv(\"../data/sea/sea_application_citation_edge.tsv\", sep='\\t')\n",
    "\n",
    "for i, j in enumerate(df.grant_id):\n",
    "    if j in list(application_citation_edge['patent_id']):\n",
    "        x = application_citation_edge.loc[application_citation_edge['patent_id']==j]['Unnamed: 0']\n",
    "        application_citation_edge.at[x,'patent_id']= i"
   ]
  },
  {
   "cell_type": "code",
   "execution_count": 135,
   "metadata": {},
   "outputs": [
    {
     "data": {
      "text/plain": [
       "(1905, 1016)"
      ]
     },
     "execution_count": 135,
     "metadata": {},
     "output_type": "execute_result"
    }
   ],
   "source": [
    "cols = application_citation_edge.columns.tolist()[::-1]\n",
    "application_citation_edge = application_citation_edge[cols]\n",
    "\n",
    "application_citation_edge[\"value\"] = 1\n",
    "application_citation_matrix = pd.pivot_table(application_citation_edge, index=['patent_id', 'application_citation_id'])\n",
    "\n",
    "application_citation_matrix_reidx = application_citation_matrix.reset_index()\n",
    "application_citation_matrix_reidx = application_citation_matrix_reidx.pivot(values= \"value\",index=\"patent_id\",columns=\"application_citation_id\").fillna(0)\n",
    "\n",
    "df.index = df['index']\n",
    "df = df.drop_duplicates()\n",
    "df = df.join(application_citation_matrix_reidx, how='outer')\n",
    "df.shape"
   ]
  },
  {
   "cell_type": "markdown",
   "metadata": {},
   "source": [
    "### grant citaion"
   ]
  },
  {
   "cell_type": "code",
   "execution_count": 136,
   "metadata": {},
   "outputs": [],
   "source": [
    "grant_citation_edge = pd.read_csv(\"../data/sea/sea_grant_citation_edge.tsv\", sep='\\t')\n",
    "\n",
    "for i, j in enumerate(df.grant_id):\n",
    "    if j in list(grant_citation_edge['patent_id']):\n",
    "        x = grant_citation_edge.loc[grant_citation_edge['patent_id']==j]['Unnamed: 0']\n",
    "        grant_citation_edge.at[x,'patent_id']= i"
   ]
  },
  {
   "cell_type": "code",
   "execution_count": 137,
   "metadata": {},
   "outputs": [
    {
     "data": {
      "text/plain": [
       "(1905, 7710)"
      ]
     },
     "execution_count": 137,
     "metadata": {},
     "output_type": "execute_result"
    }
   ],
   "source": [
    "cols = grant_citation_edge.columns.tolist()[::-1]\n",
    "grant_citation_edge = grant_citation_edge[cols]\n",
    "grant_citation_edge[\"value\"] = 1\n",
    "grant_citation_matrix = pd.pivot_table(grant_citation_edge, \n",
    "                                             index=['patent_id', 'grant_citation_id'])\n",
    "\n",
    "grant_citation_matrix_reidx = grant_citation_matrix.reset_index()\n",
    "grant_citation_matrix_reidx = grant_citation_matrix_reidx.pivot(values= \"value\",index=\"patent_id\",columns=\"grant_citation_id\").fillna(0)\n",
    "df.index = df['index']\n",
    "df = df.drop_duplicates()\n",
    "df = df.join(grant_citation_matrix_reidx, how='outer')\n",
    "df.shape"
   ]
  },
  {
   "cell_type": "markdown",
   "metadata": {},
   "source": [
    "### ipc all"
   ]
  },
  {
   "cell_type": "code",
   "execution_count": 138,
   "metadata": {},
   "outputs": [],
   "source": [
    "all_ipc_edge = pd.read_csv(\"../data/night/night_all_ipc_edge.tsv\", sep='\\t')\n",
    "cols = all_ipc_edge.columns.tolist()[::-1]"
   ]
  },
  {
   "cell_type": "code",
   "execution_count": 139,
   "metadata": {},
   "outputs": [
    {
     "data": {
      "text/html": [
       "<div>\n",
       "<style scoped>\n",
       "    .dataframe tbody tr th:only-of-type {\n",
       "        vertical-align: middle;\n",
       "    }\n",
       "\n",
       "    .dataframe tbody tr th {\n",
       "        vertical-align: top;\n",
       "    }\n",
       "\n",
       "    .dataframe thead th {\n",
       "        text-align: right;\n",
       "    }\n",
       "</style>\n",
       "<table border=\"1\" class=\"dataframe\">\n",
       "  <thead>\n",
       "    <tr style=\"text-align: right;\">\n",
       "      <th></th>\n",
       "      <th></th>\n",
       "      <th>value</th>\n",
       "    </tr>\n",
       "    <tr>\n",
       "      <th>patent</th>\n",
       "      <th>ipc</th>\n",
       "      <th></th>\n",
       "    </tr>\n",
       "  </thead>\n",
       "  <tbody>\n",
       "    <tr>\n",
       "      <td>0</td>\n",
       "      <td>B23P</td>\n",
       "      <td>1</td>\n",
       "    </tr>\n",
       "    <tr>\n",
       "      <td>1</td>\n",
       "      <td>G01S</td>\n",
       "      <td>1</td>\n",
       "    </tr>\n",
       "    <tr>\n",
       "      <td rowspan=\"2\" valign=\"top\">2</td>\n",
       "      <td>B60Q</td>\n",
       "      <td>1</td>\n",
       "    </tr>\n",
       "    <tr>\n",
       "      <td>G08G</td>\n",
       "      <td>1</td>\n",
       "    </tr>\n",
       "    <tr>\n",
       "      <td>3</td>\n",
       "      <td>B23K</td>\n",
       "      <td>1</td>\n",
       "    </tr>\n",
       "  </tbody>\n",
       "</table>\n",
       "</div>"
      ],
      "text/plain": [
       "             value\n",
       "patent ipc        \n",
       "0      B23P      1\n",
       "1      G01S      1\n",
       "2      B60Q      1\n",
       "       G08G      1\n",
       "3      B23K      1"
      ]
     },
     "execution_count": 139,
     "metadata": {},
     "output_type": "execute_result"
    }
   ],
   "source": [
    "all_ipc_edge = all_ipc_edge[cols]\n",
    "all_ipc_edge[\"value\"] = 1\n",
    "all_ipc_matrix = pd.pivot_table(all_ipc_edge, index=['patent', 'ipc'])\n",
    "all_ipc_matrix.head()"
   ]
  },
  {
   "cell_type": "code",
   "execution_count": 140,
   "metadata": {},
   "outputs": [
    {
     "data": {
      "text/html": [
       "<div>\n",
       "<style scoped>\n",
       "    .dataframe tbody tr th:only-of-type {\n",
       "        vertical-align: middle;\n",
       "    }\n",
       "\n",
       "    .dataframe tbody tr th {\n",
       "        vertical-align: top;\n",
       "    }\n",
       "\n",
       "    .dataframe thead th {\n",
       "        text-align: right;\n",
       "    }\n",
       "</style>\n",
       "<table border=\"1\" class=\"dataframe\">\n",
       "  <thead>\n",
       "    <tr style=\"text-align: right;\">\n",
       "      <th>ipc</th>\n",
       "      <th>A01B</th>\n",
       "      <th>A01C</th>\n",
       "      <th>A01G</th>\n",
       "      <th>A01N</th>\n",
       "      <th>A21B</th>\n",
       "      <th>A24B</th>\n",
       "      <th>A24F</th>\n",
       "      <th>A41G</th>\n",
       "      <th>A42B</th>\n",
       "      <th>A45B</th>\n",
       "      <th>...</th>\n",
       "      <th>H03K</th>\n",
       "      <th>H04B</th>\n",
       "      <th>H04K</th>\n",
       "      <th>H04L</th>\n",
       "      <th>H04M</th>\n",
       "      <th>H04N</th>\n",
       "      <th>H04Q</th>\n",
       "      <th>H04W</th>\n",
       "      <th>H05B</th>\n",
       "      <th>H05K</th>\n",
       "    </tr>\n",
       "    <tr>\n",
       "      <th>patent</th>\n",
       "      <th></th>\n",
       "      <th></th>\n",
       "      <th></th>\n",
       "      <th></th>\n",
       "      <th></th>\n",
       "      <th></th>\n",
       "      <th></th>\n",
       "      <th></th>\n",
       "      <th></th>\n",
       "      <th></th>\n",
       "      <th></th>\n",
       "      <th></th>\n",
       "      <th></th>\n",
       "      <th></th>\n",
       "      <th></th>\n",
       "      <th></th>\n",
       "      <th></th>\n",
       "      <th></th>\n",
       "      <th></th>\n",
       "      <th></th>\n",
       "      <th></th>\n",
       "    </tr>\n",
       "  </thead>\n",
       "  <tbody>\n",
       "    <tr>\n",
       "      <td>0</td>\n",
       "      <td>0.0</td>\n",
       "      <td>0.0</td>\n",
       "      <td>0.0</td>\n",
       "      <td>0.0</td>\n",
       "      <td>0.0</td>\n",
       "      <td>0.0</td>\n",
       "      <td>0.0</td>\n",
       "      <td>0.0</td>\n",
       "      <td>0.0</td>\n",
       "      <td>0.0</td>\n",
       "      <td>...</td>\n",
       "      <td>0.0</td>\n",
       "      <td>0.0</td>\n",
       "      <td>0.0</td>\n",
       "      <td>0.0</td>\n",
       "      <td>0.0</td>\n",
       "      <td>0.0</td>\n",
       "      <td>0.0</td>\n",
       "      <td>0.0</td>\n",
       "      <td>0.0</td>\n",
       "      <td>0.0</td>\n",
       "    </tr>\n",
       "    <tr>\n",
       "      <td>1</td>\n",
       "      <td>0.0</td>\n",
       "      <td>0.0</td>\n",
       "      <td>0.0</td>\n",
       "      <td>0.0</td>\n",
       "      <td>0.0</td>\n",
       "      <td>0.0</td>\n",
       "      <td>0.0</td>\n",
       "      <td>0.0</td>\n",
       "      <td>0.0</td>\n",
       "      <td>0.0</td>\n",
       "      <td>...</td>\n",
       "      <td>0.0</td>\n",
       "      <td>0.0</td>\n",
       "      <td>0.0</td>\n",
       "      <td>0.0</td>\n",
       "      <td>0.0</td>\n",
       "      <td>0.0</td>\n",
       "      <td>0.0</td>\n",
       "      <td>0.0</td>\n",
       "      <td>0.0</td>\n",
       "      <td>0.0</td>\n",
       "    </tr>\n",
       "    <tr>\n",
       "      <td>2</td>\n",
       "      <td>0.0</td>\n",
       "      <td>0.0</td>\n",
       "      <td>0.0</td>\n",
       "      <td>0.0</td>\n",
       "      <td>0.0</td>\n",
       "      <td>0.0</td>\n",
       "      <td>0.0</td>\n",
       "      <td>0.0</td>\n",
       "      <td>0.0</td>\n",
       "      <td>0.0</td>\n",
       "      <td>...</td>\n",
       "      <td>0.0</td>\n",
       "      <td>0.0</td>\n",
       "      <td>0.0</td>\n",
       "      <td>0.0</td>\n",
       "      <td>0.0</td>\n",
       "      <td>0.0</td>\n",
       "      <td>0.0</td>\n",
       "      <td>0.0</td>\n",
       "      <td>0.0</td>\n",
       "      <td>0.0</td>\n",
       "    </tr>\n",
       "    <tr>\n",
       "      <td>3</td>\n",
       "      <td>0.0</td>\n",
       "      <td>0.0</td>\n",
       "      <td>0.0</td>\n",
       "      <td>0.0</td>\n",
       "      <td>0.0</td>\n",
       "      <td>0.0</td>\n",
       "      <td>0.0</td>\n",
       "      <td>0.0</td>\n",
       "      <td>0.0</td>\n",
       "      <td>0.0</td>\n",
       "      <td>...</td>\n",
       "      <td>0.0</td>\n",
       "      <td>0.0</td>\n",
       "      <td>0.0</td>\n",
       "      <td>0.0</td>\n",
       "      <td>0.0</td>\n",
       "      <td>0.0</td>\n",
       "      <td>0.0</td>\n",
       "      <td>0.0</td>\n",
       "      <td>0.0</td>\n",
       "      <td>0.0</td>\n",
       "    </tr>\n",
       "    <tr>\n",
       "      <td>4</td>\n",
       "      <td>0.0</td>\n",
       "      <td>0.0</td>\n",
       "      <td>0.0</td>\n",
       "      <td>0.0</td>\n",
       "      <td>0.0</td>\n",
       "      <td>0.0</td>\n",
       "      <td>0.0</td>\n",
       "      <td>0.0</td>\n",
       "      <td>0.0</td>\n",
       "      <td>0.0</td>\n",
       "      <td>...</td>\n",
       "      <td>0.0</td>\n",
       "      <td>0.0</td>\n",
       "      <td>0.0</td>\n",
       "      <td>0.0</td>\n",
       "      <td>0.0</td>\n",
       "      <td>0.0</td>\n",
       "      <td>0.0</td>\n",
       "      <td>0.0</td>\n",
       "      <td>0.0</td>\n",
       "      <td>0.0</td>\n",
       "    </tr>\n",
       "  </tbody>\n",
       "</table>\n",
       "<p>5 rows × 199 columns</p>\n",
       "</div>"
      ],
      "text/plain": [
       "ipc     A01B  A01C  A01G  A01N  A21B  A24B  A24F  A41G  A42B  A45B  ...  H03K  \\\n",
       "patent                                                              ...         \n",
       "0        0.0   0.0   0.0   0.0   0.0   0.0   0.0   0.0   0.0   0.0  ...   0.0   \n",
       "1        0.0   0.0   0.0   0.0   0.0   0.0   0.0   0.0   0.0   0.0  ...   0.0   \n",
       "2        0.0   0.0   0.0   0.0   0.0   0.0   0.0   0.0   0.0   0.0  ...   0.0   \n",
       "3        0.0   0.0   0.0   0.0   0.0   0.0   0.0   0.0   0.0   0.0  ...   0.0   \n",
       "4        0.0   0.0   0.0   0.0   0.0   0.0   0.0   0.0   0.0   0.0  ...   0.0   \n",
       "\n",
       "ipc     H04B  H04K  H04L  H04M  H04N  H04Q  H04W  H05B  H05K  \n",
       "patent                                                        \n",
       "0        0.0   0.0   0.0   0.0   0.0   0.0   0.0   0.0   0.0  \n",
       "1        0.0   0.0   0.0   0.0   0.0   0.0   0.0   0.0   0.0  \n",
       "2        0.0   0.0   0.0   0.0   0.0   0.0   0.0   0.0   0.0  \n",
       "3        0.0   0.0   0.0   0.0   0.0   0.0   0.0   0.0   0.0  \n",
       "4        0.0   0.0   0.0   0.0   0.0   0.0   0.0   0.0   0.0  \n",
       "\n",
       "[5 rows x 199 columns]"
      ]
     },
     "execution_count": 140,
     "metadata": {},
     "output_type": "execute_result"
    }
   ],
   "source": [
    "all_ipc_matrix_reidx = all_ipc_matrix.reset_index()\n",
    "all_ipc_matrix_reidx = all_ipc_matrix_reidx.pivot(index=\"patent\",columns=\"ipc\")[\"value\"].fillna(0)\n",
    "all_ipc_matrix_reidx.head()"
   ]
  },
  {
   "cell_type": "code",
   "execution_count": 141,
   "metadata": {},
   "outputs": [
    {
     "name": "stdout",
     "output_type": "stream",
     "text": [
      "(1236, 7907)\n"
     ]
    }
   ],
   "source": [
    "df = df.drop('ipc_all', axis=1)\n",
    "df = df.drop('ipc_main', axis=1)\n",
    "\n",
    "df.index = df['index']\n",
    "df = df.drop_duplicates()\n",
    "df = df.merge(all_ipc_matrix_reidx, left_index=True, right_index=True)\n",
    "print(df.shape)"
   ]
  },
  {
   "cell_type": "markdown",
   "metadata": {},
   "source": [
    "### usclass all"
   ]
  },
  {
   "cell_type": "code",
   "execution_count": 142,
   "metadata": {},
   "outputs": [
    {
     "name": "stdout",
     "output_type": "stream",
     "text": [
      "(1236, 10004)\n"
     ]
    }
   ],
   "source": [
    "all_usclass_edge = pd.read_csv(\"../data/night/night_all_usclass_edge.tsv\", sep='\\t')\n",
    "cols = all_usclass_edge.columns.tolist()[::-1]\n",
    "\n",
    "all_usclass_edge = all_usclass_edge[cols]\n",
    "all_usclass_edge[\"value\"] = 1\n",
    "all_usclass_matrix = pd.pivot_table(all_usclass_edge, index=['patent', 'us_class'])\n",
    "\n",
    "all_usclass_matrix_reidx = all_usclass_matrix.reset_index()\n",
    "all_usclass_matrix_reidx = all_usclass_matrix_reidx.pivot(index=\"patent\",columns=\"us_class\")[\"value\"].fillna(0)\n",
    "df = df.drop('usclass_all', axis=1)\n",
    "df = df.drop('usclass_main', axis=1)\n",
    "\n",
    "df.index = df['index']\n",
    "df = df.drop_duplicates()\n",
    "df = df.merge(all_usclass_matrix_reidx, left_index=True, right_index=True)\n",
    "print(df.shape)"
   ]
  },
  {
   "cell_type": "markdown",
   "metadata": {},
   "source": [
    "### inventor"
   ]
  },
  {
   "cell_type": "code",
   "execution_count": 143,
   "metadata": {},
   "outputs": [
    {
     "name": "stdout",
     "output_type": "stream",
     "text": [
      "(1236, 12521)\n"
     ]
    }
   ],
   "source": [
    "inventor_edge = pd.read_csv(\"../data/night/night_inventor_edge.tsv\", sep='\\t')\n",
    "cols = inventor_edge.columns.tolist()[::-1]\n",
    "\n",
    "inventor_edge = inventor_edge[cols]\n",
    "inventor_edge[\"value\"] = 1\n",
    "inventor_matrix = pd.pivot_table(inventor_edge, index=['patent_id', 'inventor'])\n",
    "\n",
    "inventor_matrix_reidx = inventor_matrix.reset_index()\n",
    "inventor_matrix_reidx = inventor_matrix_reidx.pivot(index=\"patent_id\",columns=\"inventor\")[\"value\"].fillna(0)\n",
    "\n",
    "df = df.drop('inventor', axis=1)\n",
    "df.index = df['index']\n",
    "df = df.drop_duplicates()\n",
    "df = df.merge(inventor_matrix_reidx, left_index=True, right_index=True)\n",
    "print(df.shape)"
   ]
  },
  {
   "cell_type": "markdown",
   "metadata": {},
   "source": [
    "### applicant"
   ]
  },
  {
   "cell_type": "code",
   "execution_count": 144,
   "metadata": {},
   "outputs": [
    {
     "name": "stdout",
     "output_type": "stream",
     "text": [
      "(1236, 13127)\n"
     ]
    }
   ],
   "source": [
    "applicant_edge = pd.read_csv(\"../data/night/night_applicant_edge.tsv\", sep='\\t')\n",
    "cols = applicant_edge.columns.tolist()[::-1]\n",
    "\n",
    "applicant_edge = applicant_edge[cols]\n",
    "applicant_edge[\"value\"] = 1\n",
    "applicant_matrix = pd.pivot_table(applicant_edge, index=['patent_id', 'applicant'])\n",
    "\n",
    "applicant_matrix_reidx = applicant_matrix.reset_index()\n",
    "applicant_matrix_reidx = applicant_matrix_reidx.pivot(index=\"patent_id\",columns=\"applicant\")[\"value\"].fillna(0)\n",
    "\n",
    "df = df.drop('applicant', axis=1)\n",
    "df = df.drop('applicant_code', axis=1)\n",
    "\n",
    "df.index = df['index']\n",
    "df = df.drop_duplicates()\n",
    "df = df.merge(applicant_matrix_reidx, left_index=True, right_index=True)\n",
    "print(df.shape)"
   ]
  },
  {
   "cell_type": "code",
   "execution_count": 145,
   "metadata": {},
   "outputs": [],
   "source": [
    "df.to_csv(\"../data/night/night_dataset_1.csv\", index=False, header=True)"
   ]
  },
  {
   "cell_type": "code",
   "execution_count": 146,
   "metadata": {},
   "outputs": [
    {
     "data": {
      "text/plain": [
       "{'abstract', 'claim', 'title'}"
      ]
     },
     "execution_count": 146,
     "metadata": {},
     "output_type": "execute_result"
    }
   ],
   "source": [
    "set(df.columns) - set(df.describe().columns)"
   ]
  },
  {
   "cell_type": "markdown",
   "metadata": {},
   "source": [
    "----------"
   ]
  },
  {
   "cell_type": "code",
   "execution_count": 153,
   "metadata": {},
   "outputs": [],
   "source": [
    "from collections import Counter\n",
    "from imblearn.over_sampling import SMOTE\n",
    "from sklearn.model_selection import train_test_split"
   ]
  },
  {
   "cell_type": "code",
   "execution_count": 159,
   "metadata": {},
   "outputs": [],
   "source": [
    "df.drop(['title', 'abstract', 'claim'], axis=1, inplace=True)\n",
    "\n",
    "x = df.loc[:, df.columns!='valid_patent'].astype(float)\n",
    "y = df['valid_patent'].astype(int)"
   ]
  },
  {
   "cell_type": "markdown",
   "metadata": {},
   "source": [
    "## Train/Test Split"
   ]
  },
  {
   "cell_type": "code",
   "execution_count": 160,
   "metadata": {},
   "outputs": [],
   "source": [
    "x_train, x_test, y_train, y_test = train_test_split(x, y, test_size=0.3, random_state=50)"
   ]
  },
  {
   "cell_type": "markdown",
   "metadata": {},
   "source": [
    "## SMOTE"
   ]
  },
  {
   "cell_type": "code",
   "execution_count": 161,
   "metadata": {},
   "outputs": [
    {
     "name": "stdout",
     "output_type": "stream",
     "text": [
      "Original dataset shape Counter({0: 843, 1: 22})\n",
      "Resampled dataset shape Counter({0: 843, 1: 843})\n",
      "Y test dataset shpae Counter({0: 364, 1: 7})\n"
     ]
    }
   ],
   "source": [
    "print('Original dataset shape {}'.format(Counter(y_train)))\n",
    "sm = SMOTE(random_state=42)\n",
    "x_res , y_res = sm.fit_resample(x_train, y_train)\n",
    "print('Resampled dataset shape {}'.format(Counter(y_res)))\n",
    "print('Y test dataset shpae {}'.format(Counter(y_test)))"
   ]
  },
  {
   "cell_type": "markdown",
   "metadata": {},
   "source": [
    "## Model"
   ]
  },
  {
   "cell_type": "markdown",
   "metadata": {},
   "source": [
    "### Logistic Regression"
   ]
  },
  {
   "cell_type": "code",
   "execution_count": 162,
   "metadata": {},
   "outputs": [],
   "source": [
    "from sklearn import linear_model, metrics\n",
    "from sklearn.metrics import classification_report, confusion_matrix"
   ]
  },
  {
   "cell_type": "code",
   "execution_count": 163,
   "metadata": {},
   "outputs": [
    {
     "name": "stdout",
     "output_type": "stream",
     "text": [
      "This classification report of using threshold: \n",
      "               precision    recall  f1-score   support\n",
      "\n",
      "           0       0.98      0.87      0.92       364\n",
      "           1       0.02      0.14      0.04         7\n",
      "\n",
      "    accuracy                           0.86       371\n",
      "   macro avg       0.50      0.51      0.48       371\n",
      "weighted avg       0.96      0.86      0.91       371\n",
      "\n",
      "This is accuracy score: 0.8571428571428571 \n",
      "\n"
     ]
    }
   ],
   "source": [
    "logreg = linear_model.LogisticRegression(fit_intercept=False)\n",
    "logreg.fit(x_res, y_res)\n",
    "\n",
    "result = logreg.predict(x_test)\n",
    "\n",
    "print(\"This classification report of using threshold: \\n\",classification_report(y_test, result))\n",
    "print (\"This is accuracy score:\",metrics.accuracy_score(y_test, result),\"\\n\")"
   ]
  },
  {
   "cell_type": "code",
   "execution_count": 164,
   "metadata": {},
   "outputs": [
    {
     "name": "stdout",
     "output_type": "stream",
     "text": [
      "This classification report of using threshold: \n",
      "               precision    recall  f1-score   support\n",
      "\n",
      "           0       0.96      0.14      0.24       364\n",
      "           1       0.02      0.71      0.03         7\n",
      "\n",
      "    accuracy                           0.15       371\n",
      "   macro avg       0.49      0.43      0.14       371\n",
      "weighted avg       0.94      0.15      0.24       371\n",
      "\n",
      "This is accuracy score: 0.1509433962264151 \n",
      "\n"
     ]
    }
   ],
   "source": [
    "prob = logreg.predict_proba(x_test)\n",
    "\n",
    "y_pred = np.zeros(len(x_test))\n",
    "y_pred[prob[:,1] > 0.35] = 1\n",
    "\n",
    "print(\"This classification report of using threshold: \\n\",classification_report(y_test, y_pred))\n",
    "print (\"This is accuracy score:\",metrics.accuracy_score(y_test, y_pred),\"\\n\")"
   ]
  },
  {
   "cell_type": "markdown",
   "metadata": {},
   "source": [
    "### Decision Tree"
   ]
  },
  {
   "cell_type": "code",
   "execution_count": 165,
   "metadata": {},
   "outputs": [
    {
     "name": "stdout",
     "output_type": "stream",
     "text": [
      "This classification report of using threshold: \n",
      "               precision    recall  f1-score   support\n",
      "\n",
      "           0       0.99      0.89      0.93       364\n",
      "           1       0.07      0.43      0.12         7\n",
      "\n",
      "    accuracy                           0.88       371\n",
      "   macro avg       0.53      0.66      0.53       371\n",
      "weighted avg       0.97      0.88      0.92       371\n",
      "\n",
      "This is accuracy score: 0.8787061994609164 \n",
      "\n"
     ]
    }
   ],
   "source": [
    "from sklearn import tree\n",
    "\n",
    "dt = tree.DecisionTreeClassifier(criterion='gini', max_depth=5, min_samples_leaf=5)\n",
    "dt.fit(x_res, y_res)\n",
    "\n",
    "result = dt.predict(x_test)\n",
    "\n",
    "print(\"This classification report of using threshold: \\n\",classification_report(y_test, result))\n",
    "print (\"This is accuracy score:\",metrics.accuracy_score(y_test, result),\"\\n\")"
   ]
  },
  {
   "cell_type": "markdown",
   "metadata": {},
   "source": [
    "### Random Forest"
   ]
  },
  {
   "cell_type": "code",
   "execution_count": 171,
   "metadata": {},
   "outputs": [
    {
     "name": "stdout",
     "output_type": "stream",
     "text": [
      "This classification report of using threshold: \n",
      "               precision    recall  f1-score   support\n",
      "\n",
      "           0       0.98      1.00      0.99       364\n",
      "           1       1.00      0.14      0.25         7\n",
      "\n",
      "    accuracy                           0.98       371\n",
      "   macro avg       0.99      0.57      0.62       371\n",
      "weighted avg       0.98      0.98      0.98       371\n",
      "\n",
      "This is accuracy score: 0.9838274932614556 \n",
      "\n"
     ]
    }
   ],
   "source": [
    "from sklearn.ensemble import RandomForestClassifier\n",
    "\n",
    "rf = RandomForestClassifier(random_state=42, max_depth=5)\n",
    "rf.fit(x_res, y_res)\n",
    "\n",
    "result = rf.predict(x_test)\n",
    "\n",
    "print(\"This classification report of using threshold: \\n\",classification_report(y_test, result))\n",
    "print (\"This is accuracy score:\",metrics.accuracy_score(y_test, result),\"\\n\")"
   ]
  },
  {
   "cell_type": "code",
   "execution_count": null,
   "metadata": {},
   "outputs": [],
   "source": []
  }
 ],
 "metadata": {
  "kernelspec": {
   "display_name": "Python 3",
   "language": "python",
   "name": "python3"
  },
  "language_info": {
   "codemirror_mode": {
    "name": "ipython",
    "version": 3
   },
   "file_extension": ".py",
   "mimetype": "text/x-python",
   "name": "python",
   "nbconvert_exporter": "python",
   "pygments_lexer": "ipython3",
   "version": "3.7.4"
  }
 },
 "nbformat": 4,
 "nbformat_minor": 2
}
