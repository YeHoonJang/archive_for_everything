{
 "cells": [
  {
   "cell_type": "code",
   "execution_count": 25,
   "metadata": {},
   "outputs": [],
   "source": [
    "import pandas as pd\n",
    "import numpy as np\n",
    "from sklearn.preprocessing import LabelEncoder"
   ]
  },
  {
   "cell_type": "code",
   "execution_count": 26,
   "metadata": {},
   "outputs": [],
   "source": [
    "df = pd.read_csv('../data/data_night.csv', encoding='cp949')"
   ]
  },
  {
   "cell_type": "code",
   "execution_count": 27,
   "metadata": {
    "scrolled": false
   },
   "outputs": [],
   "source": [
    "df = df.rename(index=str, columns={'Unnamed: 0': 'patent index'})"
   ]
  },
  {
   "cell_type": "markdown",
   "metadata": {},
   "source": [
    "### ipc main to EdgeList"
   ]
  },
  {
   "cell_type": "code",
   "execution_count": 4,
   "metadata": {},
   "outputs": [],
   "source": [
    "# ipc 한 개\n",
    "main_ipc_dict = {}\n",
    "main_ipc_dict['patent'] = df['patent index']\n",
    "main_ipc_dict['ipc'] = df['Original IPC Main']\n",
    "\n",
    "main_ipc_edge = pd.DataFrame(main_ipc_dict)\n",
    "main_ipc_edge.to_csv(\"../data/night/night_main_ipc_edge.tsv\", sep='\\t', index=False, header=True)"
   ]
  },
  {
   "cell_type": "markdown",
   "metadata": {},
   "source": [
    "### ipc all to EdgeList"
   ]
  },
  {
   "cell_type": "code",
   "execution_count": 5,
   "metadata": {},
   "outputs": [],
   "source": [
    "# ipc 여러 개\n",
    "ipc_index = []\n",
    "ipc = []\n",
    "for idx, i in enumerate(df['Original IPC All']):\n",
    "    i = i.split('|')\n",
    "    if len(i) != 1:\n",
    "        for j in range(len(i)):\n",
    "            ipc_index.append(idx)\n",
    "            ipc.append(i[j])\n",
    "    else:\n",
    "        ipc_index.append(idx)\n",
    "        ipc.append(i[0])"
   ]
  },
  {
   "cell_type": "code",
   "execution_count": 6,
   "metadata": {},
   "outputs": [],
   "source": [
    "ipc_idx_values = pd.Series(data=ipc_index)\n",
    "ipc_values = pd.Series(data=ipc)\n",
    "\n",
    "all_ipc_dict = {}\n",
    "all_ipc_dict['ipc'] = ipc_values\n",
    "all_ipc_dict['patent'] = ipc_idx_values\n",
    "\n",
    "all_ipc_edge = pd.DataFrame(all_ipc_dict)\n",
    "all_ipc_edge.to_csv(\"../data/night/night_all_ipc_edge.tsv\", sep='\\t', index=False, header=True)"
   ]
  },
  {
   "cell_type": "markdown",
   "metadata": {},
   "source": [
    "### US Class main to EdgeList"
   ]
  },
  {
   "cell_type": "code",
   "execution_count": 7,
   "metadata": {},
   "outputs": [],
   "source": [
    "# 한 개\n",
    "main_usclass_dict = {}\n",
    "main_usclass_dict['patent'] = df['patent index']\n",
    "main_usclass_dict['us_class'] = df['Original US Class Main[US]']\n",
    "\n",
    "main_usclass_edge = pd.DataFrame(main_usclass_dict)\n",
    "main_usclass_edge.to_csv(\"../data/night/night_main_usclass_edge.tsv\", sep='\\t', index=False, header=True)"
   ]
  },
  {
   "cell_type": "markdown",
   "metadata": {},
   "source": [
    "### US Class all to EdgeList"
   ]
  },
  {
   "cell_type": "code",
   "execution_count": 8,
   "metadata": {},
   "outputs": [],
   "source": [
    "# 여러 개\n",
    "usclass_index = []\n",
    "usclass = []\n",
    "for idx, i in enumerate(df['Original US Class All[US]']):\n",
    "    i = i.split('|')\n",
    "    if len(i) != 1:\n",
    "        for j in range(len(i)):\n",
    "            usclass_index.append(idx)\n",
    "            usclass.append(i[j].strip())\n",
    "    else:\n",
    "        usclass_index.append(idx)\n",
    "        usclass.append(i[0])"
   ]
  },
  {
   "cell_type": "code",
   "execution_count": 9,
   "metadata": {},
   "outputs": [],
   "source": [
    "usclass_idx_values = pd.Series(data=usclass_index)\n",
    "usclass_values = pd.Series(data=usclass)\n",
    "\n",
    "all_usclass_dict = {}\n",
    "all_usclass_dict['us_class'] = usclass_values\n",
    "all_usclass_dict['patent'] = usclass_idx_values\n",
    "\n",
    "all_usclass_edge = pd.DataFrame(all_usclass_dict)\n",
    "all_usclass_edge.to_csv(\"../data/night/night_all_usclass_edge.tsv\", sep='\\t', index=False, header=True)"
   ]
  },
  {
   "cell_type": "markdown",
   "metadata": {
    "collapsed": true
   },
   "source": [
    "### assignee to EdgeList"
   ]
  },
  {
   "cell_type": "code",
   "execution_count": 10,
   "metadata": {},
   "outputs": [],
   "source": [
    "# assignee = pd.read_csv('../data/assignee.tsv', sep='\\t', encoding='utf-8')\n",
    "# assignee = assignee.drop('Unnamed: 0', axis=1)"
   ]
  },
  {
   "cell_type": "code",
   "execution_count": 11,
   "metadata": {},
   "outputs": [],
   "source": [
    "# patent_id =[]\n",
    "# assignee_id_list = []\n",
    "# for i in range(len(assignee)):\n",
    "#     assignee_id = assignee.fillna('0').iloc[[i]].values\n",
    "#     for ids in assignee_id:\n",
    "#         for j in ids:\n",
    "#             patent_assignee = j.replace(\"(\",\"\").replace(\")\",\"\").replace(\"'\",\"\").split(\",\")\n",
    "#             if len(patent_assignee) != 1:\n",
    "#                 patent_id.append(patent_assignee[0].strip())\n",
    "#                 assignee_id_list.append(patent_assignee[1].strip())"
   ]
  },
  {
   "cell_type": "code",
   "execution_count": 12,
   "metadata": {},
   "outputs": [],
   "source": [
    "# patent_values = pd.Series(data=patent_id)\n",
    "# assignee_values = pd.Series(data=assignee_id_list)\n",
    "\n",
    "# patent_assignee_dict= {}\n",
    "# patent_assignee_dict['patent_id'] = patent_id\n",
    "# patent_assignee_dict['assignee_id'] = assignee_id_list\n",
    "\n",
    "# patent_assignee_edge = pd.DataFrame(patent_assignee_dict)\n",
    "# patent_assignee_edge.to_csv('../data/assignee_edge.tsv', sep='\\t', header=True)"
   ]
  },
  {
   "cell_type": "markdown",
   "metadata": {},
   "source": [
    "### application citation to EdgeList"
   ]
  },
  {
   "cell_type": "code",
   "execution_count": 13,
   "metadata": {},
   "outputs": [],
   "source": [
    "# application_citation = pd.read_csv('../data/application_citation.tsv', sep='\\t', encoding='utf-8')\n",
    "# application_citation = application_citation.drop('Unnamed: 0', axis=1)\n",
    "# application_citation = application_citation.dropna(how='all')"
   ]
  },
  {
   "cell_type": "code",
   "execution_count": 14,
   "metadata": {},
   "outputs": [],
   "source": [
    "# patent_id =[]\n",
    "# application_citation_id_list = []\n",
    "# for i in range(len(application_citation)):\n",
    "#     application_citation_id = application_citation.fillna('0').iloc[[i]].values\n",
    "#     for ids in application_citation_id:\n",
    "#         for j in ids:\n",
    "#             patent_application_citation = j.replace(\"(\",\"\").replace(\")\",\"\").replace(\"'\",\"\").split(\",\")\n",
    "#             if len(patent_application_citation) != 1:\n",
    "#                 patent_id.append(patent_application_citation[0].strip())\n",
    "#                 application_citation_id_list.append(patent_application_citation[1].strip())"
   ]
  },
  {
   "cell_type": "code",
   "execution_count": 15,
   "metadata": {},
   "outputs": [],
   "source": [
    "# patent_values = pd.Series(data=patent_id)\n",
    "# application_citation_values = pd.Series(data=application_citation_id_list)\n",
    "\n",
    "# patent_application_citation_dict= {}\n",
    "# patent_application_citation_dict['patent_id'] = patent_id\n",
    "# patent_application_citation_dict['application_citation_id'] = application_citation_id_list\n",
    "\n",
    "# patent_application_citation_edge = pd.DataFrame(patent_application_citation_dict)\n",
    "# patent_application_citation_edge.to_csv('../data/application_citation_edge.tsv', sep='\\t', header=True)"
   ]
  },
  {
   "cell_type": "markdown",
   "metadata": {},
   "source": [
    "### grant citation to EdgeList"
   ]
  },
  {
   "cell_type": "code",
   "execution_count": 16,
   "metadata": {},
   "outputs": [],
   "source": [
    "# grant_citation = pd.read_csv('../data/grant_citation.tsv', sep='\\t', encoding='utf-8')\n",
    "# grant_citation = grant_citation.drop('Unnamed: 0', axis=1)\n",
    "# grant_citation = grant_citation.dropna(how='all')"
   ]
  },
  {
   "cell_type": "code",
   "execution_count": 17,
   "metadata": {},
   "outputs": [],
   "source": [
    "# patent_id =[]\n",
    "# grant_citation_id_list = []\n",
    "# for i in range(len(grant_citation)):\n",
    "#     grant_citation_id = grant_citation.fillna('0').iloc[[i]].values\n",
    "#     for ids in grant_citation_id:\n",
    "#         for j in ids:\n",
    "#             patent_grant_citation = j.replace(\"(\",\"\").replace(\")\",\"\").replace(\"'\",\"\").split(\",\")\n",
    "#             if len(patent_grant_citation) != 1:\n",
    "#                 patent_id.append(patent_grant_citation[0].strip())\n",
    "#                 grant_citation_id_list.append(patent_grant_citation[1].strip())"
   ]
  },
  {
   "cell_type": "code",
   "execution_count": 18,
   "metadata": {},
   "outputs": [],
   "source": [
    "# patent_values = pd.Series(data=patent_id)\n",
    "# grant_citation_values = pd.Series(data=grant_citation_id_list)\n",
    "\n",
    "# patent_grant_citation_dict= {}\n",
    "# patent_grant_citation_dict['patent_id'] = patent_id\n",
    "# patent_grant_citation_dict['grant_citation_id'] = grant_citation_id_list\n",
    "\n",
    "# patent_grant_citation_edge = pd.DataFrame(patent_grant_citation_dict)\n",
    "# patent_grant_citation_edge.to_csv('../data/grant_citation_edge.tsv', sep='\\t', header=True)"
   ]
  },
  {
   "cell_type": "markdown",
   "metadata": {
    "collapsed": true
   },
   "source": [
    "### inventor to EdgeList"
   ]
  },
  {
   "cell_type": "code",
   "execution_count": 19,
   "metadata": {},
   "outputs": [
    {
     "data": {
      "text/plain": [
       "Index(['patent index', '국가코드', 'DB종류', '특허/실용 구분', '문헌종류 코드', '발명의 명칭', '요약',\n",
       "       '대표청구항', '청구항 수', '출원번호', '출원일', '공개번호/공표/재공표 ', '공개일', '등록번호', '등록일',\n",
       "       '출원인', '출원인 국적', '출원인 수', '출원인 대표명화 코드', '출원인 대표명화 영문명', '발명자/고안자',\n",
       "       '우선권 번호', '우선권 국가', '우선권 주장일', '국제 공개번호', '국제 공개일', 'Original CPC Main',\n",
       "       'Original CPC All', 'Original IPC Main', 'Original IPC All',\n",
       "       'Original US Class Main[US]', 'Original US Class All[US]',\n",
       "       'WIPS ON key', '유효특허 여부'],\n",
       "      dtype='object')"
      ]
     },
     "execution_count": 19,
     "metadata": {},
     "output_type": "execute_result"
    }
   ],
   "source": [
    "df.columns"
   ]
  },
  {
   "cell_type": "code",
   "execution_count": 20,
   "metadata": {},
   "outputs": [],
   "source": [
    "inventor_index = []\n",
    "inventor = []\n",
    "for idx, i in enumerate(df['발명자/고안자']):\n",
    "    i = i.split('|')\n",
    "    if len(i) != 1:\n",
    "        for j in range(len(i)):\n",
    "            inventor_index.append(idx)\n",
    "            inventor.append(i[j].strip())\n",
    "    else:\n",
    "        inventor_index.append(idx)\n",
    "        inventor.append(i[0])"
   ]
  },
  {
   "cell_type": "code",
   "execution_count": 21,
   "metadata": {},
   "outputs": [],
   "source": [
    "inventor_idx_values = pd.Series(data=inventor_index)\n",
    "inventor_values = pd.Series(data=inventor)\n",
    "\n",
    "inventor_dict = {}\n",
    "inventor_dict['patent_id'] = inventor_idx_values\n",
    "inventor_dict['inventor'] = inventor_values\n",
    "\n",
    "inventor_edge = pd.DataFrame(inventor_dict)\n",
    "inventor_edge.to_csv('../data/night/night_inventor_edge.tsv', sep='\\t', encoding='utf-8', header=True)"
   ]
  },
  {
   "cell_type": "markdown",
   "metadata": {},
   "source": [
    "### applicant"
   ]
  },
  {
   "cell_type": "code",
   "execution_count": 22,
   "metadata": {},
   "outputs": [],
   "source": [
    "applicant_index = []\n",
    "applicant = []\n",
    "for idx, i in enumerate(df['출원인']):\n",
    "    i = i.split('|')\n",
    "    if len(i) != 1:\n",
    "        for j in range(len(i)):\n",
    "            applicant_index.append(idx)\n",
    "            applicant.append(i[j].strip().lower())\n",
    "    else:\n",
    "        applicant_index.append(idx)\n",
    "        applicant.append(i[0].lower())"
   ]
  },
  {
   "cell_type": "code",
   "execution_count": 23,
   "metadata": {},
   "outputs": [],
   "source": [
    "applicant_idx_values = pd.Series(data=applicant_index)\n",
    "applicant_values = pd.Series(data=applicant)\n",
    "\n",
    "applicant_dict = {}\n",
    "applicant_dict['patent_id'] = applicant_idx_values\n",
    "applicant_dict['applicant'] = applicant_values\n",
    "\n",
    "applicant_edge = pd.DataFrame(applicant_dict)\n",
    "applicant_edge.to_csv('../data/night/night_applicant_edge.tsv', sep='\\t', encoding='utf-8', header=True)"
   ]
  }
 ],
 "metadata": {
  "kernelspec": {
   "display_name": "Python 3",
   "language": "python",
   "name": "python3"
  },
  "language_info": {
   "codemirror_mode": {
    "name": "ipython",
    "version": 3
   },
   "file_extension": ".py",
   "mimetype": "text/x-python",
   "name": "python",
   "nbconvert_exporter": "python",
   "pygments_lexer": "ipython3",
   "version": "3.7.4"
  }
 },
 "nbformat": 4,
 "nbformat_minor": 2
}
