{
 "cells": [
  {
   "cell_type": "code",
   "execution_count": 463,
   "metadata": {
    "collapsed": true
   },
   "outputs": [],
   "source": [
    "import pandas as pd\n",
    "import numpy as np"
   ]
  },
  {
   "cell_type": "code",
   "execution_count": 464,
   "metadata": {
    "collapsed": true
   },
   "outputs": [],
   "source": [
    "df = pd.read_csv(\"../../data/sea/data_v2.csv\", encoding='cp949')"
   ]
  },
  {
   "cell_type": "code",
   "execution_count": 465,
   "metadata": {},
   "outputs": [
    {
     "data": {
      "text/plain": [
       "Index(['Unnamed: 0', '국가코드', 'DB종류', '특허/실용 구분', '문헌종류 코드', '발명의 명칭', '요약',\n",
       "       '대표청구항', '청구항 수', '출원번호', '출원일', '공개번호/공표/재공표 ', '공개일', '등록번호', '등록일',\n",
       "       '출원인', '출원인 국적', '출원인 수', '출원인 대표명화 코드', '출원인 대표명화 영문명', '발명자/고안자',\n",
       "       '우선권 번호', '우선권 국가', '우선권 주장일', '국제 공개번호', '국제 공개일', 'Original CPC Main',\n",
       "       'Original CPC All', 'Original IPC Main', 'Original IPC All',\n",
       "       'Original US Class Main[US]', 'Original US Class All[US]',\n",
       "       'WIPS ON key', '유효특허 여부'],\n",
       "      dtype='object')"
      ]
     },
     "execution_count": 465,
     "metadata": {},
     "output_type": "execute_result"
    }
   ],
   "source": [
    "df.columns"
   ]
  },
  {
   "cell_type": "code",
   "execution_count": 466,
   "metadata": {},
   "outputs": [
    {
     "data": {
      "text/plain": [
       "(1905, 34)"
      ]
     },
     "execution_count": 466,
     "metadata": {},
     "output_type": "execute_result"
    }
   ],
   "source": [
    "df.shape"
   ]
  },
  {
   "cell_type": "markdown",
   "metadata": {},
   "source": [
    "### convert column's name to english & drop columns"
   ]
  },
  {
   "cell_type": "code",
   "execution_count": 467,
   "metadata": {
    "collapsed": true
   },
   "outputs": [],
   "source": [
    "df = df.rename(index=str, \n",
    "               columns={'등록번호': 'grant_id','출원번호':'application_id', '공개번호/공표/재공표 ':'published_grant_id',\n",
    "                        '발명의 명칭': \"title\", '대표청구항':'claim', '청구항 수':'n_claim', \"발명자/고안자\":\"inventor\",\n",
    "                        '우선권 번호':'priority_id', '요약': 'abstract', 'Unnamed: 0' : 'index', '등록일':'grant_date',\n",
    "                        '출원일':'application_date', '공개일':'published_date', '출원인':'applicant', \n",
    "                        '출원인 수':'n_applicant',\n",
    "                        '출원인 대표명화 코드':'applicant_code', '국제 공개번호':'international_published_id', \n",
    "                        'Original IPC Main':'ipc_main', 'Original IPC All':'ipc_all',\n",
    "                        'Original US Class Main[US]':'usclass_main', 'Original US Class All[US]':'usclass_all',\n",
    "                        '유효특허 여부':'valid_patent', '문헌종류 코드':'patent_kind'})"
   ]
  },
  {
   "cell_type": "code",
   "execution_count": 468,
   "metadata": {
    "collapsed": true
   },
   "outputs": [],
   "source": [
    "df = df.drop(['특허/실용 구분', 'DB종류', '국가코드', '출원인 대표명화 영문명', '국제 공개일', '우선권 주장일',\n",
    "             'Original CPC Main', 'Original CPC All', 'WIPS ON key', '출원인 국적', '우선권 국가'], axis=1)"
   ]
  },
  {
   "cell_type": "code",
   "execution_count": 469,
   "metadata": {},
   "outputs": [
    {
     "data": {
      "text/plain": [
       "(1905, 23)"
      ]
     },
     "execution_count": 469,
     "metadata": {},
     "output_type": "execute_result"
    }
   ],
   "source": [
    "df.shape"
   ]
  },
  {
   "cell_type": "markdown",
   "metadata": {},
   "source": [
    "### merge edgelist to df"
   ]
  },
  {
   "cell_type": "markdown",
   "metadata": {},
   "source": [
    "#### ipc main - all에 main이 포함"
   ]
  },
  {
   "cell_type": "code",
   "execution_count": 470,
   "metadata": {
    "collapsed": true,
    "scrolled": false
   },
   "outputs": [],
   "source": [
    "# main_ipc_edge = pd.read_csv(\"../data/main_ipc_edge.tsv\", sep='\\t')\n",
    "# cols = main_ipc_edge.columns.tolist()\n",
    "# cols = cols[-1:] + cols[:-1]\n",
    "# main_ipc_edge = main_ipc_edge[cols]\n",
    "# main_ipc_edge[\"value\"] = 1\n",
    "# main_ipc_matrix = pd.pivot(values=main_ipc_edge.value, index=main_ipc_edge['patent'], \n",
    "#                            columns=main_ipc_edge['ipc']).fillna(0)\n",
    "\n",
    "# df = df.drop('ipc_main', axis=1)\n",
    "# df.index = df['index']\n",
    "# df = df.drop_duplicates()\n",
    "# df = df.merge(main_ipc_matrix, left_index=True, right_index=True)"
   ]
  },
  {
   "cell_type": "markdown",
   "metadata": {},
   "source": [
    "#### usclass main - all에 main이 포함"
   ]
  },
  {
   "cell_type": "code",
   "execution_count": 471,
   "metadata": {
    "collapsed": true,
    "scrolled": false
   },
   "outputs": [],
   "source": [
    "# main_usclass_edge = pd.read_csv(\"../data/main_usclass_edge.tsv\", sep='\\t')\n",
    "# cols = main_usclass_edge.columns.tolist()\n",
    "# cols = cols[-1:] + cols[:-1]\n",
    "# main_usclass_edge = main_usclass_edge[cols]\n",
    "# main_usclass_edge[\"value\"] = 1\n",
    "# main_usclass_matrix = pd.pivot(values=main_usclass_edge.value, index=main_usclass_edge['patent'], \n",
    "#                            columns=main_usclass_edge['us_class']).fillna(0)\n",
    "\n",
    "# df = df.drop('usclass_main', axis=1)\n",
    "# df.index = df['index']\n",
    "# df = df.drop_duplicates()\n",
    "# df = df.merge(main_usclass_matrix, left_index=True, right_index=True)"
   ]
  },
  {
   "cell_type": "markdown",
   "metadata": {},
   "source": [
    "#### ipc all"
   ]
  },
  {
   "cell_type": "code",
   "execution_count": 472,
   "metadata": {},
   "outputs": [
    {
     "data": {
      "text/plain": [
       "(1905, 237)"
      ]
     },
     "execution_count": 472,
     "metadata": {},
     "output_type": "execute_result"
    }
   ],
   "source": [
    "all_ipc_edge = pd.read_csv(\"../../data/sea/all_ipc_edge.tsv\", sep='\\t')\n",
    "cols = all_ipc_edge.columns.tolist()\n",
    "cols = cols[-1:] + cols[:-1]\n",
    "all_ipc_edge = all_ipc_edge[cols]\n",
    "all_ipc_edge[\"value\"] = 1\n",
    "all_ipc_matrix = pd.pivot_table(all_ipc_edge, index=['patent', 'ipc'])\n",
    "\n",
    "all_ipc_matrix_reset_index = all_ipc_matrix.reset_index()\n",
    "all_ipc_matrix_reset_index = pd.pivot(values= all_ipc_matrix_reset_index.value,\n",
    "                                      index=all_ipc_matrix_reset_index.patent,\n",
    "                                      columns=all_ipc_matrix_reset_index.ipc).fillna(0)\n",
    "\n",
    "df = df.drop('ipc_all', axis=1)\n",
    "df = df.drop('ipc_main', axis=1)\n",
    "\n",
    "df.index = df['index']\n",
    "df = df.drop_duplicates()\n",
    "df = df.merge(all_ipc_matrix_reset_index, left_index=True, right_index=True)\n",
    "df.shape"
   ]
  },
  {
   "cell_type": "markdown",
   "metadata": {},
   "source": [
    "#### usclass all"
   ]
  },
  {
   "cell_type": "code",
   "execution_count": 473,
   "metadata": {},
   "outputs": [
    {
     "data": {
      "text/plain": [
       "(1905, 2447)"
      ]
     },
     "execution_count": 473,
     "metadata": {},
     "output_type": "execute_result"
    }
   ],
   "source": [
    "all_usclass_edge = pd.read_csv(\"../../data/sea/all_usclass_edge.tsv\", sep='\\t')\n",
    "cols = all_usclass_edge.columns.tolist()\n",
    "cols = cols[-1:] + cols[:-1]\n",
    "all_usclass_edge = all_usclass_edge[cols]\n",
    "all_usclass_edge[\"value\"] = 1\n",
    "all_usclass_matrix = pd.pivot_table(all_usclass_edge, index=['patent', 'us_class'])\n",
    "\n",
    "all_usclass_matrix_reset_index = all_usclass_matrix.reset_index()\n",
    "all_usclass_matrix_reset_index = pd.pivot(values= all_usclass_matrix_reset_index.value,\n",
    "                                          index=all_usclass_matrix_reset_index.patent,\n",
    "                                          columns=all_usclass_matrix_reset_index.us_class).fillna(0)\n",
    "\n",
    "df = df.drop('usclass_all', axis=1)\n",
    "df = df.drop('usclass_main', axis=1)\n",
    "\n",
    "df.index = df['index']\n",
    "df = df.drop_duplicates()\n",
    "df = df.merge(all_usclass_matrix_reset_index, left_index=True, right_index=True)\n",
    "df.shape"
   ]
  },
  {
   "cell_type": "markdown",
   "metadata": {},
   "source": [
    "#### inventor"
   ]
  },
  {
   "cell_type": "code",
   "execution_count": 474,
   "metadata": {},
   "outputs": [
    {
     "data": {
      "text/plain": [
       "(1905, 4964)"
      ]
     },
     "execution_count": 474,
     "metadata": {},
     "output_type": "execute_result"
    }
   ],
   "source": [
    "inventor_edge = pd.read_csv(\"../../data/sea/inventor_edge.tsv\", sep='\\t')\n",
    "cols = inventor_edge.columns.tolist()\n",
    "cols = cols[-1:] + cols[:-1]\n",
    "inventor_edge = inventor_edge[cols]\n",
    "inventor_edge[\"value\"] = 1\n",
    "inventor_matrix = pd.pivot_table(inventor_edge, index=['patent_id', 'inventor'])\n",
    "\n",
    "inventor_matrix_reset_index = inventor_matrix.reset_index()\n",
    "inventor_matrix_reset_index = pd.pivot(values= inventor_matrix_reset_index.value,\n",
    "                                       index=inventor_matrix_reset_index.patent_id,\n",
    "                                       columns=inventor_matrix_reset_index.inventor).fillna(0)\n",
    "\n",
    "df = df.drop('inventor', axis=1)\n",
    "df.index = df['index']\n",
    "df = df.drop_duplicates()\n",
    "df = df.merge(inventor_matrix_reset_index, left_index=True, right_index=True)\n",
    "df.shape"
   ]
  },
  {
   "cell_type": "markdown",
   "metadata": {},
   "source": [
    "#### applicant"
   ]
  },
  {
   "cell_type": "code",
   "execution_count": 475,
   "metadata": {},
   "outputs": [
    {
     "data": {
      "text/plain": [
       "(1905, 5570)"
      ]
     },
     "execution_count": 475,
     "metadata": {},
     "output_type": "execute_result"
    }
   ],
   "source": [
    "applicant_edge = pd.read_csv(\"../../data/sea/applicant_edge.tsv\", sep='\\t')\n",
    "cols = applicant_edge.columns.tolist()\n",
    "cols = cols[-1:] + cols[:-1]\n",
    "applicant_edge = applicant_edge[cols]\n",
    "applicant_edge[\"value\"] = 1\n",
    "applicant_matrix = pd.pivot_table(applicant_edge, index=['patent_id', 'applicant'])\n",
    "\n",
    "applicant_matrix_reset_index = applicant_matrix.reset_index()\n",
    "applicant_matrix_reset_index = pd.pivot(values= applicant_matrix_reset_index.value,\n",
    "                                        index=applicant_matrix_reset_index.patent_id,\n",
    "                                        columns=applicant_matrix_reset_index.applicant).fillna(0)\n",
    "\n",
    "df = df.drop('applicant', axis=1)\n",
    "df = df.drop('applicant_code', axis=1)\n",
    "\n",
    "df.index = df['index']\n",
    "df = df.drop_duplicates()\n",
    "df = df.merge(applicant_matrix_reset_index, left_index=True, right_index=True)\n",
    "df.shape"
   ]
  },
  {
   "cell_type": "markdown",
   "metadata": {},
   "source": [
    "<hr>"
   ]
  },
  {
   "cell_type": "markdown",
   "metadata": {},
   "source": [
    "### Pivot Table"
   ]
  },
  {
   "cell_type": "markdown",
   "metadata": {},
   "source": [
    "#### assignee"
   ]
  },
  {
   "cell_type": "code",
   "execution_count": 476,
   "metadata": {},
   "outputs": [],
   "source": [
    "assignee_edge = pd.read_csv(\"../../data/sea/assignee_edge.tsv\", sep='\\t')\n",
    "\n",
    "for i, j in enumerate(df.grant_id):\n",
    "    if j in list(assignee_edge['patent_id']):\n",
    "        x = assignee_edge.loc[assignee_edge['patent_id']==j]['Unnamed: 0']\n",
    "        assignee_edge.at[x,'patent_id']= i"
   ]
  },
  {
   "cell_type": "code",
   "execution_count": 477,
   "metadata": {},
   "outputs": [
    {
     "data": {
      "text/plain": [
       "(1905, 5831)"
      ]
     },
     "execution_count": 477,
     "metadata": {},
     "output_type": "execute_result"
    }
   ],
   "source": [
    "cols = assignee_edge.columns.tolist()\n",
    "cols = cols[-1:] + cols[:-1]\n",
    "assignee_edge = assignee_edge[cols]\n",
    "assignee_edge[\"value\"] = 1\n",
    "assignee_matrix = pd.pivot_table(assignee_edge, index=['patent_id', 'assignee_id'])\n",
    "\n",
    "assignee_matrix_reset_index = assignee_matrix.reset_index()\n",
    "assignee_matrix_reset_index = pd.pivot(values= assignee_matrix_reset_index.value,\n",
    "                                       index=assignee_matrix_reset_index.patent_id,\n",
    "                                       columns=assignee_matrix_reset_index.assignee_id).fillna(0)\n",
    "\n",
    "df.index = df['index']\n",
    "df = df.drop_duplicates()\n",
    "df = df.join(assignee_matrix_reset_index, how='outer')\n",
    "df.shape"
   ]
  },
  {
   "cell_type": "markdown",
   "metadata": {},
   "source": [
    "#### appication citation"
   ]
  },
  {
   "cell_type": "code",
   "execution_count": 478,
   "metadata": {
    "collapsed": true
   },
   "outputs": [],
   "source": [
    "application_citation_edge = pd.read_csv(\"../../data/sea/application_citation_edge.tsv\", sep='\\t')\n",
    "\n",
    "for i, j in enumerate(df.grant_id):\n",
    "    if j in list(application_citation_edge['patent_id']):\n",
    "        x = application_citation_edge.loc[application_citation_edge['patent_id']==j]['Unnamed: 0']\n",
    "        application_citation_edge.at[x,'patent_id']= i"
   ]
  },
  {
   "cell_type": "code",
   "execution_count": 479,
   "metadata": {},
   "outputs": [
    {
     "data": {
      "text/plain": [
       "(1905, 6563)"
      ]
     },
     "execution_count": 479,
     "metadata": {},
     "output_type": "execute_result"
    }
   ],
   "source": [
    "cols = application_citation_edge.columns.tolist()\n",
    "cols = cols[-1:] + cols[:-1]\n",
    "application_citation_edge = application_citation_edge[cols]\n",
    "application_citation_edge[\"value\"] = 1\n",
    "application_citation_matrix = pd.pivot_table(application_citation_edge, \n",
    "                                             index=['patent_id', 'application_citation_id'])\n",
    "\n",
    "application_citation_matrix_reset_index = application_citation_matrix.reset_index()\n",
    "application_citation_matrix_reset_index = pd.pivot(values= application_citation_matrix_reset_index.value,\n",
    "                                                   index=application_citation_matrix_reset_index.patent_id,\n",
    "                                                   columns=application_citation_matrix_reset_index.application_citation_id).fillna(0)\n",
    "\n",
    "df.index = df['index']\n",
    "df = df.drop_duplicates()\n",
    "df = df.join(application_citation_matrix_reset_index, how='outer')\n",
    "df.shape"
   ]
  },
  {
   "cell_type": "markdown",
   "metadata": {},
   "source": [
    "#### grant citaion"
   ]
  },
  {
   "cell_type": "code",
   "execution_count": 480,
   "metadata": {
    "collapsed": true
   },
   "outputs": [],
   "source": [
    "grant_citation_edge = pd.read_csv(\"../../data/sea/grant_citation_edge.tsv\", sep='\\t')\n",
    "\n",
    "for i, j in enumerate(df.grant_id):\n",
    "    if j in list(grant_citation_edge['patent_id']):\n",
    "        x = grant_citation_edge.loc[grant_citation_edge['patent_id']==j]['Unnamed: 0']\n",
    "        grant_citation_edge.at[x,'patent_id']= i"
   ]
  },
  {
   "cell_type": "code",
   "execution_count": 481,
   "metadata": {},
   "outputs": [
    {
     "data": {
      "text/plain": [
       "(1905, 13257)"
      ]
     },
     "execution_count": 481,
     "metadata": {},
     "output_type": "execute_result"
    }
   ],
   "source": [
    "cols = grant_citation_edge.columns.tolist()\n",
    "cols = cols[-1:] + cols[:-1]\n",
    "grant_citation_edge = grant_citation_edge[cols]\n",
    "grant_citation_edge[\"value\"] = 1\n",
    "grant_citation_matrix = pd.pivot_table(grant_citation_edge, \n",
    "                                             index=['patent_id', 'grant_citation_id'])\n",
    "\n",
    "grant_citation_matrix_reset_index = grant_citation_matrix.reset_index()\n",
    "grant_citation_matrix_reset_index = pd.pivot(values= grant_citation_matrix_reset_index.value,\n",
    "                                             index=grant_citation_matrix_reset_index.patent_id,\n",
    "                                             columns=grant_citation_matrix_reset_index.grant_citation_id).fillna(0)\n",
    "\n",
    "df.index = df['index']\n",
    "df = df.drop_duplicates()\n",
    "df = df.join(grant_citation_matrix_reset_index, how='outer')\n",
    "df.shape"
   ]
  },
  {
   "cell_type": "code",
   "execution_count": 492,
   "metadata": {},
   "outputs": [
    {
     "data": {
      "text/html": [
       "<div>\n",
       "<style>\n",
       "    .dataframe thead tr:only-child th {\n",
       "        text-align: right;\n",
       "    }\n",
       "\n",
       "    .dataframe thead th {\n",
       "        text-align: left;\n",
       "    }\n",
       "\n",
       "    .dataframe tbody tr th {\n",
       "        vertical-align: top;\n",
       "    }\n",
       "</style>\n",
       "<table border=\"1\" class=\"dataframe\">\n",
       "  <thead>\n",
       "    <tr style=\"text-align: right;\">\n",
       "      <th></th>\n",
       "      <th>index</th>\n",
       "      <th>patent_kind</th>\n",
       "      <th>title</th>\n",
       "      <th>abstract</th>\n",
       "      <th>claim</th>\n",
       "      <th>n_claim</th>\n",
       "      <th>application_id</th>\n",
       "      <th>application_date</th>\n",
       "      <th>published_grant_id</th>\n",
       "      <th>published_date</th>\n",
       "      <th>...</th>\n",
       "      <th>RE27210</th>\n",
       "      <th>RE31131</th>\n",
       "      <th>RE35782</th>\n",
       "      <th>Re26290</th>\n",
       "      <th>Re28232</th>\n",
       "      <th>Re30262</th>\n",
       "      <th>Re30823</th>\n",
       "      <th>Re32312</th>\n",
       "      <th>Re32384</th>\n",
       "      <th>Re32663</th>\n",
       "    </tr>\n",
       "  </thead>\n",
       "  <tbody>\n",
       "    <tr>\n",
       "      <th>0</th>\n",
       "      <td>0</td>\n",
       "      <td>3</td>\n",
       "      <td>Turboengine water wash system</td>\n",
       "      <td>A system for cleaning gas turbine engines is d...</td>\n",
       "      <td>1. An apparatus for cleaning wing mounted gas ...</td>\n",
       "      <td>64</td>\n",
       "      <td>767</td>\n",
       "      <td>20061222</td>\n",
       "      <td>20080149141</td>\n",
       "      <td>20080626</td>\n",
       "      <td>...</td>\n",
       "      <td>0.0</td>\n",
       "      <td>0.0</td>\n",
       "      <td>0.0</td>\n",
       "      <td>0.0</td>\n",
       "      <td>0.0</td>\n",
       "      <td>0.0</td>\n",
       "      <td>0.0</td>\n",
       "      <td>0.0</td>\n",
       "      <td>0.0</td>\n",
       "      <td>0.0</td>\n",
       "    </tr>\n",
       "    <tr>\n",
       "      <th>1</th>\n",
       "      <td>1</td>\n",
       "      <td>1</td>\n",
       "      <td>TREATMENT OF TAILINGS WITH DEIONIZED SILICATE ...</td>\n",
       "      <td>A process for treating a tailings stream compr...</td>\n",
       "      <td>1. A process for treating a tailings stream co...</td>\n",
       "      <td>20</td>\n",
       "      <td>1271</td>\n",
       "      <td>20130321</td>\n",
       "      <td>20140007795</td>\n",
       "      <td>20140109</td>\n",
       "      <td>...</td>\n",
       "      <td>0.0</td>\n",
       "      <td>0.0</td>\n",
       "      <td>0.0</td>\n",
       "      <td>0.0</td>\n",
       "      <td>0.0</td>\n",
       "      <td>0.0</td>\n",
       "      <td>0.0</td>\n",
       "      <td>0.0</td>\n",
       "      <td>0.0</td>\n",
       "      <td>0.0</td>\n",
       "    </tr>\n",
       "    <tr>\n",
       "      <th>2</th>\n",
       "      <td>2</td>\n",
       "      <td>1</td>\n",
       "      <td>Method And Apparatus For Treating Tailings Usi...</td>\n",
       "      <td>There is a method described of treating tailin...</td>\n",
       "      <td>1. A method of treating tailings having a comb...</td>\n",
       "      <td>18</td>\n",
       "      <td>1260</td>\n",
       "      <td>20130213</td>\n",
       "      <td>20140008229</td>\n",
       "      <td>20140109</td>\n",
       "      <td>...</td>\n",
       "      <td>0.0</td>\n",
       "      <td>0.0</td>\n",
       "      <td>0.0</td>\n",
       "      <td>0.0</td>\n",
       "      <td>0.0</td>\n",
       "      <td>0.0</td>\n",
       "      <td>0.0</td>\n",
       "      <td>0.0</td>\n",
       "      <td>0.0</td>\n",
       "      <td>0.0</td>\n",
       "    </tr>\n",
       "    <tr>\n",
       "      <th>3</th>\n",
       "      <td>3</td>\n",
       "      <td>1</td>\n",
       "      <td>METHOD FOR STABILIZING WASTE AND HAZARDOUS WASTE</td>\n",
       "      <td>The invention provides a process for stabilizi...</td>\n",
       "      <td>1. A method for stabilizing hazardous waste, c...</td>\n",
       "      <td>20</td>\n",
       "      <td>1261</td>\n",
       "      <td>20130214</td>\n",
       "      <td>20140005461</td>\n",
       "      <td>20140102</td>\n",
       "      <td>...</td>\n",
       "      <td>0.0</td>\n",
       "      <td>0.0</td>\n",
       "      <td>0.0</td>\n",
       "      <td>0.0</td>\n",
       "      <td>0.0</td>\n",
       "      <td>0.0</td>\n",
       "      <td>0.0</td>\n",
       "      <td>0.0</td>\n",
       "      <td>0.0</td>\n",
       "      <td>0.0</td>\n",
       "    </tr>\n",
       "    <tr>\n",
       "      <th>4</th>\n",
       "      <td>4</td>\n",
       "      <td>3</td>\n",
       "      <td>Water treatment process and plant using ballas...</td>\n",
       "      <td>A method for treating wastewater using a balla...</td>\n",
       "      <td>1. A method of treating wastewater including: ...</td>\n",
       "      <td>18</td>\n",
       "      <td>979</td>\n",
       "      <td>20071226</td>\n",
       "      <td>20100096335</td>\n",
       "      <td>20100422</td>\n",
       "      <td>...</td>\n",
       "      <td>0.0</td>\n",
       "      <td>0.0</td>\n",
       "      <td>0.0</td>\n",
       "      <td>0.0</td>\n",
       "      <td>0.0</td>\n",
       "      <td>0.0</td>\n",
       "      <td>0.0</td>\n",
       "      <td>0.0</td>\n",
       "      <td>0.0</td>\n",
       "      <td>0.0</td>\n",
       "    </tr>\n",
       "  </tbody>\n",
       "</table>\n",
       "<p>5 rows × 13257 columns</p>\n",
       "</div>"
      ],
      "text/plain": [
       "   index  patent_kind                                              title  \\\n",
       "0      0            3                      Turboengine water wash system   \n",
       "1      1            1  TREATMENT OF TAILINGS WITH DEIONIZED SILICATE ...   \n",
       "2      2            1  Method And Apparatus For Treating Tailings Usi...   \n",
       "3      3            1   METHOD FOR STABILIZING WASTE AND HAZARDOUS WASTE   \n",
       "4      4            3  Water treatment process and plant using ballas...   \n",
       "\n",
       "                                            abstract  \\\n",
       "0  A system for cleaning gas turbine engines is d...   \n",
       "1  A process for treating a tailings stream compr...   \n",
       "2  There is a method described of treating tailin...   \n",
       "3  The invention provides a process for stabilizi...   \n",
       "4  A method for treating wastewater using a balla...   \n",
       "\n",
       "                                               claim  n_claim  application_id  \\\n",
       "0  1. An apparatus for cleaning wing mounted gas ...       64             767   \n",
       "1  1. A process for treating a tailings stream co...       20            1271   \n",
       "2  1. A method of treating tailings having a comb...       18            1260   \n",
       "3  1. A method for stabilizing hazardous waste, c...       20            1261   \n",
       "4  1. A method of treating wastewater including: ...       18             979   \n",
       "\n",
       "   application_date  published_grant_id  published_date   ...     RE27210  \\\n",
       "0          20061222         20080149141        20080626   ...         0.0   \n",
       "1          20130321         20140007795        20140109   ...         0.0   \n",
       "2          20130213         20140008229        20140109   ...         0.0   \n",
       "3          20130214         20140005461        20140102   ...         0.0   \n",
       "4          20071226         20100096335        20100422   ...         0.0   \n",
       "\n",
       "   RE31131  RE35782  Re26290  Re28232  Re30262  Re30823  Re32312  Re32384  \\\n",
       "0      0.0      0.0      0.0      0.0      0.0      0.0      0.0      0.0   \n",
       "1      0.0      0.0      0.0      0.0      0.0      0.0      0.0      0.0   \n",
       "2      0.0      0.0      0.0      0.0      0.0      0.0      0.0      0.0   \n",
       "3      0.0      0.0      0.0      0.0      0.0      0.0      0.0      0.0   \n",
       "4      0.0      0.0      0.0      0.0      0.0      0.0      0.0      0.0   \n",
       "\n",
       "   Re32663  \n",
       "0      0.0  \n",
       "1      0.0  \n",
       "2      0.0  \n",
       "3      0.0  \n",
       "4      0.0  \n",
       "\n",
       "[5 rows x 13257 columns]"
      ]
     },
     "execution_count": 492,
     "metadata": {},
     "output_type": "execute_result"
    }
   ],
   "source": [
    "df = df.fillna(0)\n",
    "df.head()"
   ]
  },
  {
   "cell_type": "code",
   "execution_count": 493,
   "metadata": {
    "collapsed": true
   },
   "outputs": [],
   "source": [
    "df.to_csv(\"../../data/sea/dataset_all_merged.csv\", index=False, header=True)"
   ]
  },
  {
   "cell_type": "code",
   "execution_count": null,
   "metadata": {
    "collapsed": true
   },
   "outputs": [],
   "source": []
  }
 ],
 "metadata": {
  "kernelspec": {
   "display_name": "Python 3",
   "language": "python",
   "name": "python3"
  },
  "language_info": {
   "codemirror_mode": {
    "name": "ipython",
    "version": 3
   },
   "file_extension": ".py",
   "mimetype": "text/x-python",
   "name": "python",
   "nbconvert_exporter": "python",
   "pygments_lexer": "ipython3",
   "version": "3.7.4"
  }
 },
 "nbformat": 4,
 "nbformat_minor": 2
}
