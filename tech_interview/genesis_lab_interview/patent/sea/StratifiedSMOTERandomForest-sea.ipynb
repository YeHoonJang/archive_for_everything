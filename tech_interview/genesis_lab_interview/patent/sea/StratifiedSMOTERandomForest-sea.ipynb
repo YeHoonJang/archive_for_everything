{
 "cells": [
  {
   "cell_type": "code",
   "execution_count": 1,
   "metadata": {
    "collapsed": true
   },
   "outputs": [],
   "source": [
    "from collections import Counter\n",
    "from imblearn.over_sampling import SMOTE\n",
    "from sklearn import tree\n",
    "from sklearn.model_selection import StratifiedShuffleSplit, StratifiedKFold\n",
    "from sklearn import metrics\n",
    "import pandas as pd\n",
    "import numpy as np\n",
    "from matplotlib import pyplot as plt\n",
    "from sklearn.linear_model import SGDClassifier\n",
    "from sklearn import svm"
   ]
  },
  {
   "cell_type": "code",
   "execution_count": 2,
   "metadata": {
    "collapsed": true
   },
   "outputs": [],
   "source": [
    "df = pd.read_csv(\"../../data/sea/dataset_all_merged.csv\")\n",
    "df_1 = df.drop('title', axis=1)\n",
    "df_1 = df_1.drop('abstract', axis=1)\n",
    "df = df_1.drop('claim', axis=1)"
   ]
  },
  {
   "cell_type": "code",
   "execution_count": 3,
   "metadata": {},
   "outputs": [
    {
     "name": "stdout",
     "output_type": "stream",
     "text": [
      "(1905, 13253) (1905,)\n"
     ]
    }
   ],
   "source": [
    "x = df.loc[:, df.columns!='valid_patent'].astype(str)\n",
    "y = df['valid_patent'].astype(int)\n",
    "print(x.shape, y.shape)"
   ]
  },
  {
   "cell_type": "code",
   "execution_count": 4,
   "metadata": {
    "collapsed": true
   },
   "outputs": [],
   "source": [
    "x = np.array(x)\n",
    "y = np.array(y)\n",
    "def count_values(x):\n",
    "    unique, counts = np.unique(x, return_counts=True)\n",
    "    return dict(zip(unique, counts))"
   ]
  },
  {
   "cell_type": "code",
   "execution_count": 5,
   "metadata": {
    "scrolled": true
   },
   "outputs": [
    {
     "name": "stdout",
     "output_type": "stream",
     "text": [
      "** 1 splits Average Score **\n",
      "Accuracy: 0.99\n",
      "Precision: 0.75\n",
      "Recall: 0.33\n",
      "F1-score: 0.46\n",
      "****************************\n",
      "** 2 splits Average Score **\n",
      "Accuracy: 0.99\n",
      "Precision: 0.83\n",
      "Recall: 0.28\n",
      "F1-score: 0.42\n",
      "****************************\n",
      "** 3 splits Average Score **\n",
      "Accuracy: 0.99\n",
      "Precision: 0.78\n",
      "Recall: 0.33\n",
      "F1-score: 0.46\n",
      "****************************\n",
      "** 4 splits Average Score **\n",
      "Accuracy: 0.99\n",
      "Precision: 0.95\n",
      "Recall: 0.33\n",
      "F1-score: 0.47\n",
      "****************************\n",
      "** 5 splits Average Score **\n",
      "Accuracy: 0.99\n",
      "Precision: 0.83\n",
      "Recall: 0.40\n",
      "F1-score: 0.52\n",
      "****************************\n",
      "** 6 splits Average Score **\n",
      "Accuracy: 0.99\n",
      "Precision: 0.97\n",
      "Recall: 0.44\n",
      "F1-score: 0.59\n",
      "****************************\n",
      "** 7 splits Average Score **\n",
      "Accuracy: 0.99\n",
      "Precision: 0.97\n",
      "Recall: 0.46\n",

      "F1-score: 0.61\n",
      "****************************\n",
      "** 8 splits Average Score **\n",
      "Accuracy: 0.99\n",
      "Precision: 0.93\n",
      "Recall: 0.50\n",
      "F1-score: 0.64\n",
      "****************************\n",
      "** 9 splits Average Score **\n",
      "Accuracy: 0.99\n",
      "Precision: 0.83\n",
      "Recall: 0.43\n",
      "F1-score: 0.56\n",
      "****************************\n",
      "** 10 splits Average Score **\n",
      "Accuracy: 0.99\n",
      "Precision: 0.87\n",
      "Recall: 0.47\n",
      "F1-score: 0.60\n",
      "****************************\n",
      "** 11 splits Average Score **\n",
      "Accuracy: 0.99\n",
      "Precision: 0.92\n",
      "Recall: 0.41\n",
      "F1-score: 0.55\n",
      "****************************\n",
      "** 12 splits Average Score **\n",
      "Accuracy: 0.99\n",
      "Precision: 0.95\n",
      "Recall: 0.43\n",
      "F1-score: 0.57\n",
      "****************************\n",
      "** 13 splits Average Score **\n",
      "Accuracy: 0.99\n",
      "Precision: 0.88\n",
      "Recall: 0.48\n",
      "F1-score: 0.61\n",
      "****************************\n",
      "** 14 splits Average Score **\n",
      "Accuracy: 0.99\n",
      "Precision: 0.92\n",
      "Recall: 0.49\n",
      "F1-score: 0.63\n",
      "****************************\n"
     ]
    },
    {
     "name": "stderr",
     "output_type": "stream",
     "text": [
      "/home/yehoon/anaconda3/lib/python3.6/site-packages/sklearn/metrics/classification.py:1135: UndefinedMetricWarning: Precision is ill-defined and being set to 0.0 due to no predicted samples.\n",
      "  'precision', 'predicted', average, warn_for)\n",
      "/home/yehoon/anaconda3/lib/python3.6/site-packages/sklearn/metrics/classification.py:1135: UndefinedMetricWarning: F-score is ill-defined and being set to 0.0 due to no predicted samples.\n",
      "  'precision', 'predicted', average, warn_for)\n"
     ]
    },
    {
     "name": "stdout",
     "output_type": "stream",
     "text": [
      "** 15 splits Average Score **\n",
      "Accuracy: 0.99\n",
      "Precision: 0.74\n",
      "Recall: 0.41\n",
      "F1-score: 0.52\n",
      "****************************\n"
     ]
    },
    {
     "name": "stderr",
     "output_type": "stream",
     "text": [
      "/home/yehoon/anaconda3/lib/python3.6/site-packages/sklearn/metrics/classification.py:1135: UndefinedMetricWarning: Precision is ill-defined and being set to 0.0 due to no predicted samples.\n",
      "  'precision', 'predicted', average, warn_for)\n",
      "/home/yehoon/anaconda3/lib/python3.6/site-packages/sklearn/metrics/classification.py:1135: UndefinedMetricWarning: F-score is ill-defined and being set to 0.0 due to no predicted samples.\n",
      "  'precision', 'predicted', average, warn_for)\n"
     ]
    },
    {
     "name": "stdout",
     "output_type": "stream",
     "text": [
      "** 16 splits Average Score **\n",
      "Accuracy: 0.99\n",
      "Precision: 0.86\n",
      "Recall: 0.47\n",
      "F1-score: 0.59\n",
      "****************************\n"
     ]
    },
    {
     "name": "stderr",
     "output_type": "stream",
     "text": [
      "/home/yehoon/anaconda3/lib/python3.6/site-packages/sklearn/metrics/classification.py:1135: UndefinedMetricWarning: Precision is ill-defined and being set to 0.0 due to no predicted samples.\n",
      "  'precision', 'predicted', average, warn_for)\n",
      "/home/yehoon/anaconda3/lib/python3.6/site-packages/sklearn/metrics/classification.py:1135: UndefinedMetricWarning: F-score is ill-defined and being set to 0.0 due to no predicted samples.\n",
      "  'precision', 'predicted', average, warn_for)\n"
     ]
    },
    {
     "name": "stdout",
     "output_type": "stream",
     "text": [
      "** 17 splits Average Score **\n",
      "Accuracy: 0.99\n",
      "Precision: 0.78\n",
      "Recall: 0.44\n",
      "F1-score: 0.55\n",
      "****************************\n",
      "** 18 splits Average Score **\n",
      "Accuracy: 0.99\n",
      "Precision: 0.80\n",
      "Recall: 0.46\n",
      "F1-score: 0.57\n",
      "****************************\n"
     ]
    },
    {
     "name": "stderr",
     "output_type": "stream",
     "text": [
      "/home/yehoon/anaconda3/lib/python3.6/site-packages/sklearn/metrics/classification.py:1135: UndefinedMetricWarning: Precision is ill-defined and being set to 0.0 due to no predicted samples.\n",
      "  'precision', 'predicted', average, warn_for)\n",
      "/home/yehoon/anaconda3/lib/python3.6/site-packages/sklearn/metrics/classification.py:1135: UndefinedMetricWarning: F-score is ill-defined and being set to 0.0 due to no predicted samples.\n",
      "  'precision', 'predicted', average, warn_for)\n"
     ]
    },
    {
     "name": "stdout",
     "output_type": "stream",
     "text": [
      "** 19 splits Average Score **\n",
      "Accuracy: 0.99\n",
      "Precision: 0.84\n",
      "Recall: 0.43\n",
      "F1-score: 0.55"
     ]
    },
    {
     "name": "stderr",
     "output_type": "stream",
     "text": [
      "/home/yehoon/anaconda3/lib/python3.6/site-packages/sklearn/metrics/classification.py:1135: UndefinedMetricWarning: Precision is ill-defined and being set to 0.0 due to no predicted samples.\n",
      "  'precision', 'predicted', average, warn_for)\n",
      "/home/yehoon/anaconda3/lib/python3.6/site-packages/sklearn/metrics/classification.py:1135: UndefinedMetricWarning: F-score is ill-defined and being set to 0.0 due to no predicted samples.\n",
      "  'precision', 'predicted', average, warn_for)\n"
     ]
    },
    {
     "name": "stdout",
     "output_type": "stream",
     "text": [
      "\n",
      "****************************\n",
      "** 20 splits Average Score **\n",
      "Accuracy: 0.99\n",
      "Precision: 0.81\n",
      "Recall: 0.41\n",
      "F1-score: 0.53"
     ]
    },
    {
     "name": "stderr",
     "output_type": "stream",
     "text": [
      "/home/yehoon/anaconda3/lib/python3.6/site-packages/sklearn/metrics/classification.py:1135: UndefinedMetricWarning: Precision is ill-defined and being set to 0.0 due to no predicted samples.\n",
      "  'precision', 'predicted', average, warn_for)\n",
      "/home/yehoon/anaconda3/lib/python3.6/site-packages/sklearn/metrics/classification.py:1135: UndefinedMetricWarning: F-score is ill-defined and being set to 0.0 due to no predicted samples.\n",
      "  'precision', 'predicted', average, warn_for)\n"
     ]
    },
    {
     "name": "stdout",
     "output_type": "stream",
     "text": [
      "\n",
      "****************************\n",
      "** 21 splits Average Score **\n",
      "Accuracy: 0.99\n",
      "Precision: 0.87\n",
      "Recall: 0.40\n",
      "F1-score: 0.53\n",
      "****************************\n"
     ]
    },
    {
     "name": "stderr",
     "output_type": "stream",
     "text": [
      "/home/yehoon/anaconda3/lib/python3.6/site-packages/sklearn/metrics/classification.py:1135: UndefinedMetricWarning: Precision is ill-defined and being set to 0.0 due to no predicted samples.\n",
      "  'precision', 'predicted', average, warn_for)\n",
      "/home/yehoon/anaconda3/lib/python3.6/site-packages/sklearn/metrics/classification.py:1135: UndefinedMetricWarning: F-score is ill-defined and being set to 0.0 due to no predicted samples.\n",
      "  'precision', 'predicted', average, warn_for)\n"
     ]
    },
    {
     "name": "stdout",
     "output_type": "stream",
     "text": [
      "** 22 splits Average Score **\n",
      "Accuracy: 0.99\n",
      "Precision: 0.88\n",
      "Recall: 0.42\n",
      "F1-score: 0.55\n",
      "****************************\n"
     ]
    },
    {
     "name": "stderr",
     "output_type": "stream",
     "text": [
      "/home/yehoon/anaconda3/lib/python3.6/site-packages/sklearn/metrics/classification.py:1135: UndefinedMetricWarning: Precision is ill-defined and being set to 0.0 due to no predicted samples.\n",
      "  'precision', 'predicted', average, warn_for)\n",
      "/home/yehoon/anaconda3/lib/python3.6/site-packages/sklearn/metrics/classification.py:1135: UndefinedMetricWarning: F-score is ill-defined and being set to 0.0 due to no predicted samples.\n",
      "  'precision', 'predicted', average, warn_for)\n"
     ]
    },
    {
     "name": "stdout",
     "output_type": "stream",
     "text": [
      "** 23 splits Average Score **\n",
      "Accuracy: 0.99\n",
      "Precision: 0.88\n",
      "Recall: 0.40\n",
      "F1-score: 0.53\n",
      "****************************\n"
     ]
    },
    {
     "name": "stderr",
     "output_type": "stream",
     "text": [
      "/home/yehoon/anaconda3/lib/python3.6/site-packages/sklearn/metrics/classification.py:1135: UndefinedMetricWarning: Precision is ill-defined and being set to 0.0 due to no predicted samples.\n",
      "  'precision', 'predicted', average, warn_for)\n",
      "/home/yehoon/anaconda3/lib/python3.6/site-packages/sklearn/metrics/classification.py:1135: UndefinedMetricWarning: F-score is ill-defined and being set to 0.0 due to no predicted samples.\n",
      "  'precision', 'predicted', average, warn_for)\n"
     ]
    },
    {
     "name": "stdout",
     "output_type": "stream",
     "text": [
      "** 24 splits Average Score **\n",
      "Accuracy: 0.99\n",
      "Precision: 0.83\n",
      "Recall: 0.42\n",
      "F1-score: 0.54\n"
     ]
    },
    {
     "name": "stderr",
     "output_type": "stream",
     "text": [
      "/home/yehoon/anaconda3/lib/python3.6/site-packages/sklearn/metrics/classification.py:1135: UndefinedMetricWarning: Precision is ill-defined and being set to 0.0 due to no predicted samples.\n",
      "  'precision', 'predicted', average, warn_for)\n",
      "/home/yehoon/anaconda3/lib/python3.6/site-packages/sklearn/metrics/classification.py:1135: UndefinedMetricWarning: F-score is ill-defined and being set to 0.0 due to no predicted samples.\n",
      "  'precision', 'predicted', average, warn_for)\n",
      "/home/yehoon/anaconda3/lib/python3.6/site-packages/sklearn/metrics/classification.py:1135: UndefinedMetricWarning: Precision is ill-defined and being set to 0.0 due to no predicted samples.\n",
      "  'precision', 'predicted', average, warn_for)\n",
      "/home/yehoon/anaconda3/lib/python3.6/site-packages/sklearn/metrics/classification.py:1135: UndefinedMetricWarning: F-score is ill-defined and being set to 0.0 due to no predicted samples.\n",
      "  'precision', 'predicted', average, warn_for)\n"
     ]
    },
    {
     "name": "stdout",
     "output_type": "stream",
     "text": [
      "****************************\n",
      "** 25 splits Average Score **\n",
      "Accuracy: 0.99\n",
      "Precision: 0.84\n",
      "Recall: 0.40\n",
      "F1-score: 0.53\n",
      "****************************\n"
     ]
    },
    {
     "name": "stderr",
     "output_type": "stream",
     "text": [
      "/home/yehoon/anaconda3/lib/python3.6/site-packages/sklearn/metrics/classification.py:1135: UndefinedMetricWarning: Precision is ill-defined and being set to 0.0 due to no predicted samples.\n",
      "  'precision', 'predicted', average, warn_for)\n",
      "/home/yehoon/anaconda3/lib/python3.6/site-packages/sklearn/metrics/classification.py:1135: UndefinedMetricWarning: F-score is ill-defined and being set to 0.0 due to no predicted samples.\n",
      "  'precision', 'predicted', average, warn_for)\n"
     ]
    },
    {
     "name": "stdout",
     "output_type": "stream",
     "text": [
      "** 26 splits Average Score **\n",
      "Accuracy: 0.99\n",
      "Precision: 0.82\n",
      "Recall: 0.40\n",
      "F1-score: 0.52\n",
      "****************************\n"
     ]
    },
    {
     "name": "stderr",
     "output_type": "stream",
     "text": [
      "/home/yehoon/anaconda3/lib/python3.6/site-packages/sklearn/metrics/classification.py:1135: UndefinedMetricWarning: Precision is ill-defined and being set to 0.0 due to no predicted samples.\n",
      "  'precision', 'predicted', average, warn_for)\n",
      "/home/yehoon/anaconda3/lib/python3.6/site-packages/sklearn/metrics/classification.py:1135: UndefinedMetricWarning: F-score is ill-defined and being set to 0.0 due to no predicted samples.\n",
      "  'precision', 'predicted', average, warn_for)\n"
     ]
    },
    {
     "name": "stdout",
     "output_type": "stream",
     "text": [
      "** 27 splits Average Score **\n",
      "Accuracy: 0.99\n",
      "Precision: 0.83\n",
      "Recall: 0.42\n",
      "F1-score: 0.55\n",
      "****************************\n"
     ]
    },
    {
     "name": "stderr",
     "output_type": "stream",
     "text": [
      "/home/yehoon/anaconda3/lib/python3.6/site-packages/sklearn/metrics/classification.py:1135: UndefinedMetricWarning: Precision is ill-defined and being set to 0.0 due to no predicted samples.\n",
      "  'precision', 'predicted', average, warn_for)\n",
      "/home/yehoon/anaconda3/lib/python3.6/site-packages/sklearn/metrics/classification.py:1135: UndefinedMetricWarning: F-score is ill-defined and being set to 0.0 due to no predicted samples.\n",
      "  'precision', 'predicted', average, warn_for)\n"
     ]
    },
    {
     "name": "stdout",
     "output_type": "stream",
     "text": [
      "** 28 splits Average Score **\n",
      "Accuracy: 0.99\n",
      "Precision: 0.85\n",
      "Recall: 0.42\n",
      "F1-score: 0.55\n",
      "****************************\n",
      "** 29 splits Average Score **\n",
      "Accuracy: 0.99\n",
      "Precision: 0.92\n",
      "Recall: 0.42\n",
      "F1-score: 0.55\n",
      "****************************\n"
     ]
    },
    {
     "name": "stderr",
     "output_type": "stream",
     "text": [
      "/home/yehoon/anaconda3/lib/python3.6/site-packages/sklearn/metrics/classification.py:1135: UndefinedMetricWarning: Precision is ill-defined and being set to 0.0 due to no predicted samples.\n",
      "  'precision', 'predicted', average, warn_for)\n",
      "/home/yehoon/anaconda3/lib/python3.6/site-packages/sklearn/metrics/classification.py:1135: UndefinedMetricWarning: F-score is ill-defined and being set to 0.0 due to no predicted samples.\n",
      "  'precision', 'predicted', average, warn_for)\n"
     ]
    },
    {
     "name": "stdout",
     "output_type": "stream",
     "text": [
      "** 30 splits Average Score **\n",
      "Accuracy: 0.99\n",
      "Precision: 0.84\n",
      "Recall: 0.40\n",
      "F1-score: 0.52"
     ]
    },
    {
     "name": "stderr",
     "output_type": "stream",
     "text": [
      "/home/yehoon/anaconda3/lib/python3.6/site-packages/sklearn/metrics/classification.py:1135: UndefinedMetricWarning: Precision is ill-defined and being set to 0.0 due to no predicted samples.\n",
      "  'precision', 'predicted', average, warn_for)\n",
      "/home/yehoon/anaconda3/lib/python3.6/site-packages/sklearn/metrics/classification.py:1135: UndefinedMetricWarning: F-score is ill-defined and being set to 0.0 due to no predicted samples.\n",
      "  'precision', 'predicted', average, warn_for)\n"
     ]
    },
    {
     "name": "stdout",
     "output_type": "stream",
     "text": [
      "\n",
      "****************************\n",
      "** 31 splits Average Score **\n",
      "Accuracy: 0.99\n",
      "Precision: 0.89\n",
      "Recall: 0.42\n",
      "F1-score: 0.55\n",
      "****************************"
     ]
    },
    {
     "name": "stderr",
     "output_type": "stream",
     "text": [
      "/home/yehoon/anaconda3/lib/python3.6/site-packages/sklearn/metrics/classification.py:1135: UndefinedMetricWarning: Precision is ill-defined and being set to 0.0 due to no predicted samples.\n",
      "  'precision', 'predicted', average, warn_for)\n",
      "/home/yehoon/anaconda3/lib/python3.6/site-packages/sklearn/metrics/classification.py:1135: UndefinedMetricWarning: F-score is ill-defined and being set to 0.0 due to no predicted samples.\n",
      "  'precision', 'predicted', average, warn_for)\n"
     ]
    },
    {
     "name": "stdout",
     "output_type": "stream",
     "text": [
      "\n",
      "** 32 splits Average Score **\n",
      "Accuracy: 0.99\n",
      "Precision: 0.83\n",
      "Recall: 0.41\n",
      "F1-score: 0.53\n",
      "****************************\n"
     ]
    },
    {
     "name": "stderr",
     "output_type": "stream",
     "text": [
      "/home/yehoon/anaconda3/lib/python3.6/site-packages/sklearn/metrics/classification.py:1135: UndefinedMetricWarning: Precision is ill-defined and being set to 0.0 due to no predicted samples.\n",
      "  'precision', 'predicted', average, warn_for)\n",
      "/home/yehoon/anaconda3/lib/python3.6/site-packages/sklearn/metrics/classification.py:1135: UndefinedMetricWarning: F-score is ill-defined and being set to 0.0 due to no predicted samples.\n",
      "  'precision', 'predicted', average, warn_for)\n"
     ]
    },
    {
     "name": "stdout",
     "output_type": "stream",
     "text": [
      "** 33 splits Average Score **\n",
      "Accuracy: 0.99\n",
      "Precision: 0.91\n",
      "Recall: 0.42\n",
      "F1-score: 0.56\n",
      "****************************\n"
     ]
    },
    {
     "name": "stderr",
     "output_type": "stream",
     "text": [
      "/home/yehoon/anaconda3/lib/python3.6/site-packages/sklearn/metrics/classification.py:1135: UndefinedMetricWarning: Precision is ill-defined and being set to 0.0 due to no predicted samples.\n",
      "  'precision', 'predicted', average, warn_for)\n",
      "/home/yehoon/anaconda3/lib/python3.6/site-packages/sklearn/metrics/classification.py:1135: UndefinedMetricWarning: F-score is ill-defined and being set to 0.0 due to no predicted samples.\n",
      "  'precision', 'predicted', average, warn_for)\n"
     ]
    },
    {
     "name": "stdout",
     "output_type": "stream",
     "text": [
      "** 34 splits Average Score **\n",
      "Accuracy: 0.99\n",
      "Precision: 0.88\n",
      "Recall: 0.41\n",
      "F1-score: 0.54\n",
      "****************************\n"
     ]
    },
    {
     "name": "stderr",
     "output_type": "stream",
     "text": [
      "/home/yehoon/anaconda3/lib/python3.6/site-packages/sklearn/metrics/classification.py:1135: UndefinedMetricWarning: Precision is ill-defined and being set to 0.0 due to no predicted samples.\n",
      "  'precision', 'predicted', average, warn_for)\n",
      "/home/yehoon/anaconda3/lib/python3.6/site-packages/sklearn/metrics/classification.py:1135: UndefinedMetricWarning: F-score is ill-defined and being set to 0.0 due to no predicted samples.\n",
      "  'precision', 'predicted', average, warn_for)\n"
     ]
    },
    {
     "name": "stdout",
     "output_type": "stream",
     "text": [
      "** 35 splits Average Score **\n",
      "Accuracy: 0.99\n",
      "Precision: 0.86\n",
      "Recall: 0.41"
     ]
    },
    {
     "name": "stderr",
     "output_type": "stream",
     "text": [
      "/home/yehoon/anaconda3/lib/python3.6/site-packages/sklearn/metrics/classification.py:1135: UndefinedMetricWarning: Precision is ill-defined and being set to 0.0 due to no predicted samples.\n",
      "  'precision', 'predicted', average, warn_for)\n",
      "/home/yehoon/anaconda3/lib/python3.6/site-packages/sklearn/metrics/classification.py:1135: UndefinedMetricWarning: F-score is ill-defined and being set to 0.0 due to no predicted samples.\n",
      "  'precision', 'predicted', average, warn_for)\n"
     ]
    },
    {
     "name": "stdout",
     "output_type": "stream",
     "text": [
      "\n",
      "F1-score: 0.54\n",
      "****************************\n",
      "** 36 splits Average Score **\n",
      "Accuracy: 0.99\n",
      "Precision: 0.93\n",
      "Recall: 0.42\n",
      "F1-score: 0.56\n",
      "****************************\n"
     ]
    },
    {
     "name": "stderr",
     "output_type": "stream",
     "text": [
      "/home/yehoon/anaconda3/lib/python3.6/site-packages/sklearn/metrics/classification.py:1135: UndefinedMetricWarning: Precision is ill-defined and being set to 0.0 due to no predicted samples.\n",
      "  'precision', 'predicted', average, warn_for)\n",
      "/home/yehoon/anaconda3/lib/python3.6/site-packages/sklearn/metrics/classification.py:1135: UndefinedMetricWarning: F-score is ill-defined and being set to 0.0 due to no predicted samples.\n",
      "  'precision', 'predicted', average, warn_for)\n"
     ]
    },
    {
     "name": "stdout",
     "output_type": "stream",
     "text": [
      "** 37 splits Average Score **\n",
      "Accuracy: 0.99\n",
      "Precision: 0.86\n",
      "Recall: 0.41\n",
      "F1-score: 0.54\n",
      "****************************\n"
     ]
    },
    {
     "name": "stderr",
     "output_type": "stream",
     "text": [
      "/home/yehoon/anaconda3/lib/python3.6/site-packages/sklearn/metrics/classification.py:1135: UndefinedMetricWarning: Precision is ill-defined and being set to 0.0 due to no predicted samples.\n",
      "  'precision', 'predicted', average, warn_for)\n",
      "/home/yehoon/anaconda3/lib/python3.6/site-packages/sklearn/metrics/classification.py:1135: UndefinedMetricWarning: F-score is ill-defined and being set to 0.0 due to no predicted samples.\n",
      "  'precision', 'predicted', average, warn_for)\n"
     ]
    },
    {
     "name": "stdout",
     "output_type": "stream",
     "text": [
      "** 38 splits Average Score **\n",
      "Accuracy: 0.99\n",
      "Precision: 0.90\n",
      "Recall: 0.41\n",
      "F1-score: 0.55\n",
      "****************************\n",
      "** 39 splits Average Score **\n",
      "Accuracy: 0.99\n",
      "Precision: 0.88\n",
      "Recall: 0.43\n",
      "F1-score: 0.57\n",
      "****************************\n"
     ]
    },
    {
     "name": "stderr",
     "output_type": "stream",
     "text": [
      "/home/yehoon/anaconda3/lib/python3.6/site-packages/sklearn/metrics/classification.py:1135: UndefinedMetricWarning: Precision is ill-defined and being set to 0.0 due to no predicted samples.\n",
      "  'precision', 'predicted', average, warn_for)\n",
      "/home/yehoon/anaconda3/lib/python3.6/site-packages/sklearn/metrics/classification.py:1135: UndefinedMetricWarning: F-score is ill-defined and being set to 0.0 due to no predicted samples.\n",
      "  'precision', 'predicted', average, warn_for)\n"
     ]
    },
    {
     "name": "stdout",
     "output_type": "stream",
     "text": [
      "** 40 splits Average Score **\n",
      "Accuracy: 0.99\n",
      "Precision: 0.88\n",
      "Recall: 0.40\n",
      "F1-score: 0.54"
     ]
    },
    {
     "name": "stderr",
     "output_type": "stream",
     "text": [
      "/home/yehoon/anaconda3/lib/python3.6/site-packages/sklearn/metrics/classification.py:1135: UndefinedMetricWarning: Precision is ill-defined and being set to 0.0 due to no predicted samples.\n",
      "  'precision', 'predicted', average, warn_for)\n",
      "/home/yehoon/anaconda3/lib/python3.6/site-packages/sklearn/metrics/classification.py:1135: UndefinedMetricWarning: F-score is ill-defined and being set to 0.0 due to no predicted samples.\n",
      "  'precision', 'predicted', average, warn_for)\n"
     ]
    },
    {
     "name": "stdout",
     "output_type": "stream",
     "text": [
      "\n",
      "****************************\n",
      "** 41 splits Average Score **\n",
      "Accuracy: 0.99\n",
      "Precision: 0.87\n",
      "Recall: 0.42\n",
      "F1-score: 0.55\n",
      "****************************\n",
      "** 42 splits Average Score **\n",
      "Accuracy: 0.99\n",
      "Precision: 0.88\n",
      "Recall: 0.43\n",
      "F1-score: 0.56\n",
      "****************************\n"
     ]
    },
    {
     "name": "stderr",
     "output_type": "stream",
     "text": [
      "/home/yehoon/anaconda3/lib/python3.6/site-packages/sklearn/metrics/classification.py:1135: UndefinedMetricWarning: Precision is ill-defined and being set to 0.0 due to no predicted samples.\n",
      "  'precision', 'predicted', average, warn_for)\n",
      "/home/yehoon/anaconda3/lib/python3.6/site-packages/sklearn/metrics/classification.py:1135: UndefinedMetricWarning: F-score is ill-defined and being set to 0.0 due to no predicted samples.\n",
      "  'precision', 'predicted', average, warn_for)\n"
     ]
    },
    {
     "name": "stdout",
     "output_type": "stream",
     "text": [
      "** 43 splits Average Score **\n",
      "Accuracy: 0.99\n",
      "Precision: 0.88\n",
      "Recall: 0.41\n",
      "F1-score: 0.55\n",
      "****************************\n",
      "** 44 splits Average Score **\n",
      "Accuracy: 0.99\n",
      "Precision: 0.90\n",
      "Recall: 0.41\n"
     ]
    },
    {
     "name": "stderr",
     "output_type": "stream",
     "text": [
      "/home/yehoon/anaconda3/lib/python3.6/site-packages/sklearn/metrics/classification.py:1135: UndefinedMetricWarning: Precision is ill-defined and being set to 0.0 due to no predicted samples.\n",
      "  'precision', 'predicted', average, warn_for)\n",
      "/home/yehoon/anaconda3/lib/python3.6/site-packages/sklearn/metrics/classification.py:1135: UndefinedMetricWarning: F-score is ill-defined and being set to 0.0 due to no predicted samples.\n",
      "  'precision', 'predicted', average, warn_for)\n"
     ]
    },
    {
     "name": "stdout",
     "output_type": "stream",
     "text": [
      "F1-score: 0.55\n",
      "****************************\n",
      "** 45 splits Average Score **\n",
      "Accuracy: 0.99\n",
      "Precision: 0.91\n",
      "Recall: 0.43"
     ]
    },
    {
     "name": "stderr",
     "output_type": "stream",
     "text": [
      "/home/yehoon/anaconda3/lib/python3.6/site-packages/sklearn/metrics/classification.py:1135: UndefinedMetricWarning: Precision is ill-defined and being set to 0.0 due to no predicted samples.\n",
      "  'precision', 'predicted', average, warn_for)\n",
      "/home/yehoon/anaconda3/lib/python3.6/site-packages/sklearn/metrics/classification.py:1135: UndefinedMetricWarning: F-score is ill-defined and being set to 0.0 due to no predicted samples.\n",
      "  'precision', 'predicted', average, warn_for)\n"
     ]
    },
    {
     "name": "stdout",
     "output_type": "stream",
     "text": [
      "\n",
      "F1-score: 0.57\n",
      "****************************\n",
      "** 46 splits Average Score **\n",
      "Accuracy: 0.99\n",
      "Precision: 0.89\n",
      "Recall: 0.42\n",
      "F1-score: 0.55\n",
      "****************************\n"
     ]
    },
    {
     "name": "stderr",
     "output_type": "stream",
     "text": [
      "/home/yehoon/anaconda3/lib/python3.6/site-packages/sklearn/metrics/classification.py:1135: UndefinedMetricWarning: Precision is ill-defined and being set to 0.0 due to no predicted samples.\n",
      "  'precision', 'predicted', average, warn_for)\n",
      "/home/yehoon/anaconda3/lib/python3.6/site-packages/sklearn/metrics/classification.py:1135: UndefinedMetricWarning: F-score is ill-defined and being set to 0.0 due to no predicted samples.\n",
      "  'precision', 'predicted', average, warn_for)\n"
     ]
    },
    {
     "name": "stdout",
     "output_type": "stream",
     "text": [
      "** 47 splits Average Score **\n",
      "Accuracy: 0.99\n",
      "Precision: 0.88\n",
      "Recall: 0.44\n",
      "F1-score: 0.57\n",
      "****************************\n"
     ]
    },
    {
     "name": "stderr",
     "output_type": "stream",
     "text": [
      "/home/yehoon/anaconda3/lib/python3.6/site-packages/sklearn/metrics/classification.py:1135: UndefinedMetricWarning: Precision is ill-defined and being set to 0.0 due to no predicted samples.\n",
      "  'precision', 'predicted', average, warn_for)\n",
      "/home/yehoon/anaconda3/lib/python3.6/site-packages/sklearn/metrics/classification.py:1135: UndefinedMetricWarning: F-score is ill-defined and being set to 0.0 due to no predicted samples.\n",
      "  'precision', 'predicted', average, warn_for)\n"
     ]
    },
    {
     "name": "stdout",
     "output_type": "stream",
     "text": [
      "** 48 splits Average Score **\n",
      "Accuracy: 0.99\n",
      "Precision: 0.86\n",
      "Recall: 0.41\n",
      "F1-score: 0.54\n",
      "****************************\n",
      "** 49 splits Average Score **\n",
      "Accuracy: 0.99\n",
      "Precision: 0.90\n",
      "Recall: 0.42\n",
      "F1-score: 0.56\n",
      "****************************\n",
      "** 50 splits Average Score **\n",
      "Accuracy: 0.99\n",
      "Precision: 0.89\n",
      "Recall: 0.40\n",
      "F1-score: 0.54\n",
      "****************************\n"
     ]
    },
    {
     "name": "stderr",
     "output_type": "stream",
     "text": [
      "/home/yehoon/anaconda3/lib/python3.6/site-packages/sklearn/metrics/classification.py:1135: UndefinedMetricWarning: Precision is ill-defined and being set to 0.0 due to no predicted samples.\n",
      "  'precision', 'predicted', average, warn_for)\n",
      "/home/yehoon/anaconda3/lib/python3.6/site-packages/sklearn/metrics/classification.py:1135: UndefinedMetricWarning: F-score is ill-defined and being set to 0.0 due to no predicted samples.\n",
      "  'precision', 'predicted', average, warn_for)\n"
     ]
    },
    {
     "name": "stdout",
     "output_type": "stream",
     "text": [
      "** 51 splits Average Score **\n",
      "Accuracy: 0.99\n",
      "Precision: 0.84\n",
      "Recall: 0.42\n",
      "F1-score: 0.54\n"
     ]
    },
    {
     "name": "stderr",
     "output_type": "stream",
     "text": [
      "/home/yehoon/anaconda3/lib/python3.6/site-packages/sklearn/metrics/classification.py:1135: UndefinedMetricWarning: Precision is ill-defined and being set to 0.0 due to no predicted samples.\n",
      "  'precision', 'predicted', average, warn_for)\n",
      "/home/yehoon/anaconda3/lib/python3.6/site-packages/sklearn/metrics/classification.py:1135: UndefinedMetricWarning: F-score is ill-defined and being set to 0.0 due to no predicted samples.\n",
      "  'precision', 'predicted', average, warn_for)\n"
     ]
    },
    {
     "name": "stdout",
     "output_type": "stream",
     "text": [
      "****************************\n",
      "** 52 splits Average Score **\n",
      "Accuracy: 0.99\n",
      "Precision: 0.90\n",
      "Recall: 0.42\n",
      "F1-score: 0.56\n",
      "****************************\n",
      "** 53 splits Average Score **\n",
      "Accuracy: 0.99\n",
      "Precision: 0.90\n",
      "Recall: 0.43\n",
      "F1-score: 0.57\n",
      "****************************"
     ]
    },
    {
     "name": "stderr",
     "output_type": "stream",
     "text": [
      "/home/yehoon/anaconda3/lib/python3.6/site-packages/sklearn/metrics/classification.py:1135: UndefinedMetricWarning: Precision is ill-defined and being set to 0.0 due to no predicted samples.\n",
      "  'precision', 'predicted', average, warn_for)\n",
      "/home/yehoon/anaconda3/lib/python3.6/site-packages/sklearn/metrics/classification.py:1135: UndefinedMetricWarning: F-score is ill-defined and being set to 0.0 due to no predicted samples.\n",
      "  'precision', 'predicted', average, warn_for)\n"
     ]
    },
    {
     "name": "stdout",
     "output_type": "stream",
     "text": [
      "\n",
      "** 54 splits Average Score **\n",
      "Accuracy: 0.99\n",
      "Precision: 0.86\n",
      "Recall: 0.43\n",
      "F1-score: 0.56\n",
      "****************************"
     ]
    },
    {
     "name": "stderr",
     "output_type": "stream",
     "text": [
      "/home/yehoon/anaconda3/lib/python3.6/site-packages/sklearn/metrics/classification.py:1135: UndefinedMetricWarning: Precision is ill-defined and being set to 0.0 due to no predicted samples.\n",
      "  'precision', 'predicted', average, warn_for)\n",
      "/home/yehoon/anaconda3/lib/python3.6/site-packages/sklearn/metrics/classification.py:1135: UndefinedMetricWarning: F-score is ill-defined and being set to 0.0 due to no predicted samples.\n",
      "  'precision', 'predicted', average, warn_for)\n"
     ]
    },
    {
     "name": "stdout",
     "output_type": "stream",
     "text": [
      "\n",
      "** 55 splits Average Score **\n",
      "Accuracy: 0.99\n",
      "Precision: 0.88\n",
      "Recall: 0.42\n",
      "F1-score: 0.56\n",
      "****************************\n",
      "** 56 splits Average Score **\n",
      "Accuracy: 0.99\n",
      "Precision: 0.89\n",
      "Recall: 0.41\n",
      "F1-score: 0.55\n",
      "****************************\n"
     ]
    },
    {
     "name": "stderr",
     "output_type": "stream",
     "text": [
      "/home/yehoon/anaconda3/lib/python3.6/site-packages/sklearn/metrics/classification.py:1135: UndefinedMetricWarning: Precision is ill-defined and being set to 0.0 due to no predicted samples.\n",
      "  'precision', 'predicted', average, warn_for)\n",
      "/home/yehoon/anaconda3/lib/python3.6/site-packages/sklearn/metrics/classification.py:1135: UndefinedMetricWarning: F-score is ill-defined and being set to 0.0 due to no predicted samples.\n",
      "  'precision', 'predicted', average, warn_for)\n"
     ]
    },
    {
     "name": "stdout",
     "output_type": "stream",
     "text": [
      "** 57 splits Average Score **\n",
      "Accuracy: 0.99\n",
      "Precision: 0.90\n",
      "Recall: 0.43\n",
      "F1-score: 0.57\n",
      "****************************\n",
      "** 58 splits Average Score **\n",
      "Accuracy: 0.99\n",
      "Precision: 0.88\n",
      "Recall: 0.43\n",
      "F1-score: 0.56\n",
      "****************************\n"
     ]
    },
    {
     "name": "stderr",
     "output_type": "stream",
     "text": [
      "/home/yehoon/anaconda3/lib/python3.6/site-packages/sklearn/metrics/classification.py:1135: UndefinedMetricWarning: Precision is ill-defined and being set to 0.0 due to no predicted samples.\n",
      "  'precision', 'predicted', average, warn_for)\n",
      "/home/yehoon/anaconda3/lib/python3.6/site-packages/sklearn/metrics/classification.py:1135: UndefinedMetricWarning: F-score is ill-defined and being set to 0.0 due to no predicted samples.\n",
      "  'precision', 'predicted', average, warn_for)\n"
     ]
    },
    {
     "name": "stdout",
     "output_type": "stream",
     "text": [
      "** 59 splits Average Score **\n",
      "Accuracy: 0.99\n",
      "Precision: 0.89\n",
      "Recall: 0.44\n",
      "F1-score: 0.57"
     ]
    },
    {
     "name": "stderr",
     "output_type": "stream",
     "text": [
      "/home/yehoon/anaconda3/lib/python3.6/site-packages/sklearn/metrics/classification.py:1135: UndefinedMetricWarning: Precision is ill-defined and being set to 0.0 due to no predicted samples.\n",
      "  'precision', 'predicted', average, warn_for)\n",
      "/home/yehoon/anaconda3/lib/python3.6/site-packages/sklearn/metrics/classification.py:1135: UndefinedMetricWarning: F-score is ill-defined and being set to 0.0 due to no predicted samples.\n",
      "  'precision', 'predicted', average, warn_for)\n"
     ]
    },
    {
     "name": "stdout",
     "output_type": "stream",
     "text": [
      "\n",
      "****************************\n",
      "** 60 splits Average Score **\n",
      "Accuracy: 0.99\n",
      "Precision: 0.88\n",
      "Recall: 0.43\n",
      "F1-score: 0.56\n",
      "****************************\n"
     ]
    },
    {
     "name": "stderr",
     "output_type": "stream",
     "text": [
      "/home/yehoon/anaconda3/lib/python3.6/site-packages/sklearn/metrics/classification.py:1135: UndefinedMetricWarning: Precision is ill-defined and being set to 0.0 due to no predicted samples.\n",
      "  'precision', 'predicted', average, warn_for)\n",
      "/home/yehoon/anaconda3/lib/python3.6/site-packages/sklearn/metrics/classification.py:1135: UndefinedMetricWarning: F-score is ill-defined and being set to 0.0 due to no predicted samples.\n",
      "  'precision', 'predicted', average, warn_for)\n"
     ]
    },
    {
     "name": "stdout",
     "output_type": "stream",
     "text": [
      "** 61 splits Average Score **\n",
      "Accuracy: 0.99\n",
      "Precision: 0.90\n",
      "Recall: 0.41\n",
      "F1-score: 0.55\n",
      "****************************\n",
      "** 62 splits Average Score **\n",
      "Accuracy: 0.99\n",
      "Precision: 0.90\n",
      "Recall: 0.40\n",
      "F1-score: 0.54\n",
      "****************************\n",
      "** 63 splits Average Score **\n",
      "Accuracy: 0.99\n",
      "Precision: 0.85\n",
      "Recall: 0.43\n",
      "F1-score: 0.55\n",
      "****************************\n",
      "** 64 splits Average Score **\n",
      "Accuracy: 0.99\n",
      "Precision: 0.90\n",
      "Recall: 0.43\n",
      "F1-score: 0.57\n",
      "****************************\n"
     ]
    },
    {
     "name": "stderr",
     "output_type": "stream",
     "text": [
      "/home/yehoon/anaconda3/lib/python3.6/site-packages/sklearn/metrics/classification.py:1135: UndefinedMetricWarning: Precision is ill-defined and being set to 0.0 due to no predicted samples.\n",
      "  'precision', 'predicted', average, warn_for)\n",
      "/home/yehoon/anaconda3/lib/python3.6/site-packages/sklearn/metrics/classification.py:1135: UndefinedMetricWarning: F-score is ill-defined and being set to 0.0 due to no predicted samples.\n",
      "  'precision', 'predicted', average, warn_for)\n"
     ]
    },
    {
     "name": "stdout",
     "output_type": "stream",
     "text": [
      "** 65 splits Average Score **\n",
      "Accuracy: 0.99\n",
      "Precision: 0.88\n",
      "Recall: 0.43\n",
      "F1-score: 0.57\n",
      "****************************"
     ]
    },
    {
     "name": "stderr",
     "output_type": "stream",
     "text": [
      "/home/yehoon/anaconda3/lib/python3.6/site-packages/sklearn/metrics/classification.py:1135: UndefinedMetricWarning: Precision is ill-defined and being set to 0.0 due to no predicted samples.\n",
      "  'precision', 'predicted', average, warn_for)\n",
      "/home/yehoon/anaconda3/lib/python3.6/site-packages/sklearn/metrics/classification.py:1135: UndefinedMetricWarning: F-score is ill-defined and being set to 0.0 due to no predicted samples.\n",
      "  'precision', 'predicted', average, warn_for)\n"
     ]
    },
    {
     "name": "stdout",
     "output_type": "stream",
     "text": [
      "\n",
      "** 66 splits Average Score **\n",
      "Accuracy: 0.99\n",
      "Precision: 0.87\n",
      "Recall: 0.44\n",
      "F1-score: 0.57\n"
     ]
    },
    {
     "name": "stderr",
     "output_type": "stream",
     "text": [
      "/home/yehoon/anaconda3/lib/python3.6/site-packages/sklearn/metrics/classification.py:1135: UndefinedMetricWarning: Precision is ill-defined and being set to 0.0 due to no predicted samples.\n",
      "  'precision', 'predicted', average, warn_for)\n",
      "/home/yehoon/anaconda3/lib/python3.6/site-packages/sklearn/metrics/classification.py:1135: UndefinedMetricWarning: F-score is ill-defined and being set to 0.0 due to no predicted samples.\n",
      "  'precision', 'predicted', average, warn_for)\n"
     ]
    },
    {
     "name": "stdout",
     "output_type": "stream",
     "text": [
      "****************************\n",
      "** 67 splits Average Score **\n",
      "Accuracy: 0.99\n",
      "Precision: 0.89\n",
      "Recall: 0.40\n",
      "F1-score: 0.54\n",
      "****************************\n"
     ]
    },
    {
     "name": "stderr",
     "output_type": "stream",
     "text": [
      "/home/yehoon/anaconda3/lib/python3.6/site-packages/sklearn/metrics/classification.py:1135: UndefinedMetricWarning: Precision is ill-defined and being set to 0.0 due to no predicted samples.\n",
      "  'precision', 'predicted', average, warn_for)\n",
      "/home/yehoon/anaconda3/lib/python3.6/site-packages/sklearn/metrics/classification.py:1135: UndefinedMetricWarning: F-score is ill-defined and being set to 0.0 due to no predicted samples.\n",
      "  'precision', 'predicted', average, warn_for)\n"
     ]
    },
    {
     "name": "stdout",
     "output_type": "stream",
     "text": [
      "** 68 splits Average Score **\n",
      "Accuracy: 0.99\n",
      "Precision: 0.88\n",
      "Recall: 0.39\n",
      "F1-score: 0.53\n",
      "****************************\n"
     ]
    },
    {
     "name": "stderr",
     "output_type": "stream",
     "text": [
      "/home/yehoon/anaconda3/lib/python3.6/site-packages/sklearn/metrics/classification.py:1135: UndefinedMetricWarning: Precision is ill-defined and being set to 0.0 due to no predicted samples.\n",
      "  'precision', 'predicted', average, warn_for)\n",
      "/home/yehoon/anaconda3/lib/python3.6/site-packages/sklearn/metrics/classification.py:1135: UndefinedMetricWarning: F-score is ill-defined and being set to 0.0 due to no predicted samples.\n",
      "  'precision', 'predicted', average, warn_for)\n"
     ]
    },
    {
     "name": "stdout",
     "output_type": "stream",
     "text": [
      "** 69 splits Average Score **\n",
      "Accuracy: 0.99\n",
      "Precision: 0.89\n",
      "Recall: 0.43\n",
      "F1-score: 0.56\n",
      "****************************\n",
      "** 70 splits Average Score **\n",
      "Accuracy: 0.99\n",
      "Precision: 0.90\n",
      "Recall: 0.43\n",
      "F1-score: 0.56\n",
      "****************************\n"
     ]
    },
    {
     "name": "stderr",
     "output_type": "stream",
     "text": [
      "/home/yehoon/anaconda3/lib/python3.6/site-packages/sklearn/metrics/classification.py:1135: UndefinedMetricWarning: Precision is ill-defined and being set to 0.0 due to no predicted samples.\n",
      "  'precision', 'predicted', average, warn_for)\n",
      "/home/yehoon/anaconda3/lib/python3.6/site-packages/sklearn/metrics/classification.py:1135: UndefinedMetricWarning: F-score is ill-defined and being set to 0.0 due to no predicted samples.\n",
      "  'precision', 'predicted', average, warn_for)\n"
     ]
    },
    {
     "name": "stdout",
     "output_type": "stream",
     "text": [
      "** 71 splits Average Score **\n",
      "Accuracy: 0.99\n",
      "Precision: 0.90\n",
      "Recall: 0.43\n",
      "F1-score: 0.57\n",
      "****************************\n"
     ]
    },
    {
     "name": "stderr",
     "output_type": "stream",
     "text": [
      "/home/yehoon/anaconda3/lib/python3.6/site-packages/sklearn/metrics/classification.py:1135: UndefinedMetricWarning: Precision is ill-defined and being set to 0.0 due to no predicted samples.\n",
      "  'precision', 'predicted', average, warn_for)\n",
      "/home/yehoon/anaconda3/lib/python3.6/site-packages/sklearn/metrics/classification.py:1135: UndefinedMetricWarning: F-score is ill-defined and being set to 0.0 due to no predicted samples.\n",
      "  'precision', 'predicted', average, warn_for)\n"
     ]
    },
    {
     "name": "stdout",
     "output_type": "stream",
     "text": [
      "** 72 splits Average Score **\n",
      "Accuracy: 0.99\n",
      "Precision: 0.85\n",
      "Recall: 0.42\n",
      "F1-score: 0.55\n",
      "****************************\n"
     ]
    },
    {
     "name": "stderr",
     "output_type": "stream",
     "text": [
      "/home/yehoon/anaconda3/lib/python3.6/site-packages/sklearn/metrics/classification.py:1135: UndefinedMetricWarning: Precision is ill-defined and being set to 0.0 due to no predicted samples.\n",
      "  'precision', 'predicted', average, warn_for)\n",
      "/home/yehoon/anaconda3/lib/python3.6/site-packages/sklearn/metrics/classification.py:1135: UndefinedMetricWarning: F-score is ill-defined and being set to 0.0 due to no predicted samples.\n",
      "  'precision', 'predicted', average, warn_for)\n"
     ]
    },
    {
     "name": "stdout",
     "output_type": "stream",
     "text": [
      "** 73 splits Average Score **\n",
      "Accuracy: 0.99\n",
      "Precision: 0.88\n",
      "Recall: 0.42\n",
      "F1-score: 0.56\n",
      "****************************\n"
     ]
    },
    {
     "name": "stderr",
     "output_type": "stream",
     "text": [
      "/home/yehoon/anaconda3/lib/python3.6/site-packages/sklearn/metrics/classification.py:1135: UndefinedMetricWarning: Precision is ill-defined and being set to 0.0 due to no predicted samples.\n",
      "  'precision', 'predicted', average, warn_for)\n",
      "/home/yehoon/anaconda3/lib/python3.6/site-packages/sklearn/metrics/classification.py:1135: UndefinedMetricWarning: F-score is ill-defined and being set to 0.0 due to no predicted samples.\n",
      "  'precision', 'predicted', average, warn_for)\n"
     ]
    },
    {
     "name": "stdout",
     "output_type": "stream",
     "text": [
      "** 74 splits Average Score **\n",
      "Accuracy: 0.99\n",
      "Precision: 0.87\n",
      "Recall: 0.42\n",
      "F1-score: 0.55\n",
      "****************************\n"
     ]
    },
    {
     "name": "stderr",
     "output_type": "stream",
     "text": [
      "/home/yehoon/anaconda3/lib/python3.6/site-packages/sklearn/metrics/classification.py:1135: UndefinedMetricWarning: Precision is ill-defined and being set to 0.0 due to no predicted samples.\n",
      "  'precision', 'predicted', average, warn_for)\n",
      "/home/yehoon/anaconda3/lib/python3.6/site-packages/sklearn/metrics/classification.py:1135: UndefinedMetricWarning: F-score is ill-defined and being set to 0.0 due to no predicted samples.\n",
      "  'precision', 'predicted', average, warn_for)\n"
     ]
    },
    {
     "name": "stdout",
     "output_type": "stream",
     "text": [
      "** 75 splits Average Score **\n",
      "Accuracy: 0.99\n",
      "Precision: 0.87\n",
      "Recall: 0.43\n",
      "F1-score: 0.57\n",
      "****************************\n",
      "** 76 splits Average Score **\n",
      "Accuracy: 0.99\n",
      "Precision: 0.90\n",
      "Recall: 0.43\n",
      "F1-score: 0.57\n",
      "****************************\n"
     ]
    },
    {
     "name": "stderr",
     "output_type": "stream",
     "text": [
      "/home/yehoon/anaconda3/lib/python3.6/site-packages/sklearn/metrics/classification.py:1135: UndefinedMetricWarning: Precision is ill-defined and being set to 0.0 due to no predicted samples.\n",
      "  'precision', 'predicted', average, warn_for)\n",
      "/home/yehoon/anaconda3/lib/python3.6/site-packages/sklearn/metrics/classification.py:1135: UndefinedMetricWarning: F-score is ill-defined and being set to 0.0 due to no predicted samples.\n",
      "  'precision', 'predicted', average, warn_for)\n"
     ]
    },
    {
     "name": "stdout",
     "output_type": "stream",
     "text": [
      "** 77 splits Average Score **\n",
      "Accuracy: 0.99\n",
      "Precision: 0.89\n",
      "Recall: 0.44\n",
      "F1-score: 0.57\n",
      "****************************\n"
     ]
    },
    {
     "name": "stderr",
     "output_type": "stream",
     "text": [
      "/home/yehoon/anaconda3/lib/python3.6/site-packages/sklearn/metrics/classification.py:1135: UndefinedMetricWarning: Precision is ill-defined and being set to 0.0 due to no predicted samples.\n",
      "  'precision', 'predicted', average, warn_for)\n",
      "/home/yehoon/anaconda3/lib/python3.6/site-packages/sklearn/metrics/classification.py:1135: UndefinedMetricWarning: F-score is ill-defined and being set to 0.0 due to no predicted samples.\n",
      "  'precision', 'predicted', average, warn_for)\n"
     ]
    },
    {
     "name": "stdout",
     "output_type": "stream",
     "text": [
      "** 78 splits Average Score **\n",
      "Accuracy: 0.99\n",
      "Precision: 0.88\n",
      "Recall: 0.44\n",
      "F1-score: 0.57\n",
      "****************************\n",
      "** 79 splits Average Score **\n",
      "Accuracy: 0.99\n",
      "Precision: 0.89\n",
      "Recall: 0.45\n",
      "F1-score: 0.59\n",
      "****************************\n"
     ]
    },
    {
     "name": "stderr",
     "output_type": "stream",
     "text": [
      "/home/yehoon/anaconda3/lib/python3.6/site-packages/sklearn/metrics/classification.py:1135: UndefinedMetricWarning: Precision is ill-defined and being set to 0.0 due to no predicted samples.\n",
      "  'precision', 'predicted', average, warn_for)\n",
      "/home/yehoon/anaconda3/lib/python3.6/site-packages/sklearn/metrics/classification.py:1135: UndefinedMetricWarning: F-score is ill-defined and being set to 0.0 due to no predicted samples.\n",
      "  'precision', 'predicted', average, warn_for)\n"
     ]
    },
    {
     "name": "stdout",
     "output_type": "stream",
     "text": [
      "** 80 splits Average Score **\n",
      "Accuracy: 0.99\n",
      "Precision: 0.91\n",
      "Recall: 0.44\n",
      "F1-score: 0.58\n",
      "****************************\n"
     ]
    },
    {
     "name": "stderr",
     "output_type": "stream",
     "text": [
      "/home/yehoon/anaconda3/lib/python3.6/site-packages/sklearn/metrics/classification.py:1135: UndefinedMetricWarning: Precision is ill-defined and being set to 0.0 due to no predicted samples.\n",
      "  'precision', 'predicted', average, warn_for)\n",
      "/home/yehoon/anaconda3/lib/python3.6/site-packages/sklearn/metrics/classification.py:1135: UndefinedMetricWarning: F-score is ill-defined and being set to 0.0 due to no predicted samples.\n",
      "  'precision', 'predicted', average, warn_for)\n"
     ]
    },
    {
     "name": "stdout",
     "output_type": "stream",
     "text": [
      "** 81 splits Average Score **\n",
      "Accuracy: 0.99\n",
      "Precision: 0.90\n",
      "Recall: 0.44\n",
      "F1-score: 0.58\n",
      "****************************\n"
     ]
    },
    {
     "name": "stderr",
     "output_type": "stream",
     "text": [
      "/home/yehoon/anaconda3/lib/python3.6/site-packages/sklearn/metrics/classification.py:1135: UndefinedMetricWarning: Precision is ill-defined and being set to 0.0 due to no predicted samples.\n",
      "  'precision', 'predicted', average, warn_for)\n",
      "/home/yehoon/anaconda3/lib/python3.6/site-packages/sklearn/metrics/classification.py:1135: UndefinedMetricWarning: F-score is ill-defined and being set to 0.0 due to no predicted samples.\n",
      "  'precision', 'predicted', average, warn_for)\n"
     ]
    },
    {
     "name": "stdout",
     "output_type": "stream",
     "text": [
      "** 82 splits Average Score **\n",
      "Accuracy: 0.99\n",
      "Precision: 0.87\n",
      "Recall: 0.44\n",
      "F1-score: 0.57\n",
      "****************************\n"
     ]
    },
    {
     "name": "stderr",
     "output_type": "stream",
     "text": [
      "/home/yehoon/anaconda3/lib/python3.6/site-packages/sklearn/metrics/classification.py:1135: UndefinedMetricWarning: Precision is ill-defined and being set to 0.0 due to no predicted samples.\n",
      "  'precision', 'predicted', average, warn_for)\n",
      "/home/yehoon/anaconda3/lib/python3.6/site-packages/sklearn/metrics/classification.py:1135: UndefinedMetricWarning: F-score is ill-defined and being set to 0.0 due to no predicted samples.\n",
      "  'precision', 'predicted', average, warn_for)\n"
     ]
    },
    {
     "name": "stdout",
     "output_type": "stream",
     "text": [
      "** 83 splits Average Score **\n",
      "Accuracy: 0.99\n",
      "Precision: 0.90\n",
      "Recall: 0.43\n",
      "F1-score: 0.57\n",
      "****************************\n"
     ]
    },
    {
     "name": "stderr",
     "output_type": "stream",
     "text": [
      "/home/yehoon/anaconda3/lib/python3.6/site-packages/sklearn/metrics/classification.py:1135: UndefinedMetricWarning: Precision is ill-defined and being set to 0.0 due to no predicted samples.\n",
      "  'precision', 'predicted', average, warn_for)\n",
      "/home/yehoon/anaconda3/lib/python3.6/site-packages/sklearn/metrics/classification.py:1135: UndefinedMetricWarning: F-score is ill-defined and being set to 0.0 due to no predicted samples.\n",
      "  'precision', 'predicted', average, warn_for)\n"
     ]
    },
    {
     "name": "stdout",
     "output_type": "stream",
     "text": [
      "** 84 splits Average Score **\n",
      "Accuracy: 0.99\n",
      "Precision: 0.88\n",
      "Recall: 0.43\n",
      "F1-score: 0.57\n",
      "****************************\n",
      "** 85 splits Average Score **\n",
      "Accuracy: 0.99\n",
      "Precision: 0.90\n"
     ]
    },
    {
     "name": "stderr",
     "output_type": "stream",
     "text": [
      "/home/yehoon/anaconda3/lib/python3.6/site-packages/sklearn/metrics/classification.py:1135: UndefinedMetricWarning: Precision is ill-defined and being set to 0.0 due to no predicted samples.\n",
      "  'precision', 'predicted', average, warn_for)\n",
      "/home/yehoon/anaconda3/lib/python3.6/site-packages/sklearn/metrics/classification.py:1135: UndefinedMetricWarning: F-score is ill-defined and being set to 0.0 due to no predicted samples.\n",
      "  'precision', 'predicted', average, warn_for)\n"
     ]
    },
    {
     "name": "stdout",
     "output_type": "stream",
     "text": [
      "Recall: 0.43\n",
      "F1-score: 0.56\n",
      "****************************\n",
      "** 86 splits Average Score **\n",
      "Accuracy: 0.99\n",
      "Precision: 0.86\n",
      "Recall: 0.42\n",
      "F1-score: 0.55\n",
      "****************************\n"
     ]
    },
    {
     "name": "stderr",
     "output_type": "stream",
     "text": [
      "/home/yehoon/anaconda3/lib/python3.6/site-packages/sklearn/metrics/classification.py:1135: UndefinedMetricWarning: Precision is ill-defined and being set to 0.0 due to no predicted samples.\n",
      "  'precision', 'predicted', average, warn_for)\n",
      "/home/yehoon/anaconda3/lib/python3.6/site-packages/sklearn/metrics/classification.py:1135: UndefinedMetricWarning: F-score is ill-defined and being set to 0.0 due to no predicted samples.\n",
      "  'precision', 'predicted', average, warn_for)\n"
     ]
    },
    {
     "name": "stdout",
     "output_type": "stream",
     "text": [
      "** 87 splits Average Score **\n",
      "Accuracy: 0.99\n",
      "Precision: 0.90\n",
      "Recall: 0.44\n",
      "F1-score: 0.57\n",
      "****************************\n",
      "** 88 splits Average Score **\n",
      "Accuracy: 0.99\n",
      "Precision: 0.89\n",
      "Recall: 0.42\n",
      "F1-score: 0.56\n",
      "****************************\n"
     ]
    },
    {
     "name": "stderr",
     "output_type": "stream",
     "text": [
      "/home/yehoon/anaconda3/lib/python3.6/site-packages/sklearn/metrics/classification.py:1135: UndefinedMetricWarning: Precision is ill-defined and being set to 0.0 due to no predicted samples.\n",
      "  'precision', 'predicted', average, warn_for)\n",
      "/home/yehoon/anaconda3/lib/python3.6/site-packages/sklearn/metrics/classification.py:1135: UndefinedMetricWarning: F-score is ill-defined and being set to 0.0 due to no predicted samples.\n",
      "  'precision', 'predicted', average, warn_for)\n"
     ]
    },
    {
     "name": "stdout",
     "output_type": "stream",
     "text": [
      "** 89 splits Average Score **\n",
      "Accuracy: 0.99\n",
      "Precision: 0.91\n",
      "Recall: 0.43\n",
      "F1-score: 0.57\n",
      "****************************\n"
     ]
    },
    {
     "name": "stderr",
     "output_type": "stream",
     "text": [
      "/home/yehoon/anaconda3/lib/python3.6/site-packages/sklearn/metrics/classification.py:1135: UndefinedMetricWarning: Precision is ill-defined and being set to 0.0 due to no predicted samples.\n",
      "  'precision', 'predicted', average, warn_for)\n",
      "/home/yehoon/anaconda3/lib/python3.6/site-packages/sklearn/metrics/classification.py:1135: UndefinedMetricWarning: F-score is ill-defined and being set to 0.0 due to no predicted samples.\n",
      "  'precision', 'predicted', average, warn_for)\n"
     ]
    },
    {
     "name": "stdout",
     "output_type": "stream",
     "text": [
      "** 90 splits Average Score **\n",
      "Accuracy: 0.99\n",
      "Precision: 0.87\n",
      "Recall: 0.43\n",
      "F1-score: 0.55\n",
      "****************************\n"
     ]
    },
    {
     "name": "stderr",
     "output_type": "stream",
     "text": [
      "/home/yehoon/anaconda3/lib/python3.6/site-packages/sklearn/metrics/classification.py:1135: UndefinedMetricWarning: Precision is ill-defined and being set to 0.0 due to no predicted samples.\n",
      "  'precision', 'predicted', average, warn_for)\n",
      "/home/yehoon/anaconda3/lib/python3.6/site-packages/sklearn/metrics/classification.py:1135: UndefinedMetricWarning: F-score is ill-defined and being set to 0.0 due to no predicted samples.\n",
      "  'precision', 'predicted', average, warn_for)\n"
     ]
    },
    {
     "name": "stdout",
     "output_type": "stream",
     "text": [
      "** 91 splits Average Score **\n",
      "Accuracy: 0.99\n",
      "Precision: 0.88\n",
      "Recall: 0.41\n",
      "F1-score: 0.55"
     ]
    },
    {
     "name": "stderr",
     "output_type": "stream",
     "text": [
      "/home/yehoon/anaconda3/lib/python3.6/site-packages/sklearn/metrics/classification.py:1135: UndefinedMetricWarning: Precision is ill-defined and being set to 0.0 due to no predicted samples.\n",
      "  'precision', 'predicted', average, warn_for)\n",
      "/home/yehoon/anaconda3/lib/python3.6/site-packages/sklearn/metrics/classification.py:1135: UndefinedMetricWarning: F-score is ill-defined and being set to 0.0 due to no predicted samples.\n",
      "  'precision', 'predicted', average, warn_for)\n"
     ]
    },
    {
     "name": "stdout",
     "output_type": "stream",
     "text": [
      "\n",
      "****************************\n",
      "** 92 splits Average Score **\n",
      "Accuracy: 0.99\n",
      "Precision: 0.88\n",
      "Recall: 0.42\n",
      "F1-score: 0.55\n",
      "****************************\n"
     ]
    },
    {
     "name": "stderr",
     "output_type": "stream",
     "text": [
      "/home/yehoon/anaconda3/lib/python3.6/site-packages/sklearn/metrics/classification.py:1135: UndefinedMetricWarning: Precision is ill-defined and being set to 0.0 due to no predicted samples.\n",
      "  'precision', 'predicted', average, warn_for)\n",
      "/home/yehoon/anaconda3/lib/python3.6/site-packages/sklearn/metrics/classification.py:1135: UndefinedMetricWarning: F-score is ill-defined and being set to 0.0 due to no predicted samples.\n",
      "  'precision', 'predicted', average, warn_for)\n"
     ]
    },
    {
     "name": "stdout",
     "output_type": "stream",
     "text": [
      "** 93 splits Average Score **\n",
      "Accuracy: 0.99\n",
      "Precision: 0.88\n",
      "Recall: 0.43\n",
      "F1-score: 0.56\n",
      "****************************\n"
     ]
    },
    {
     "name": "stderr",
     "output_type": "stream",
     "text": [
      "/home/yehoon/anaconda3/lib/python3.6/site-packages/sklearn/metrics/classification.py:1135: UndefinedMetricWarning: Precision is ill-defined and being set to 0.0 due to no predicted samples.\n",
      "  'precision', 'predicted', average, warn_for)\n",
      "/home/yehoon/anaconda3/lib/python3.6/site-packages/sklearn/metrics/classification.py:1135: UndefinedMetricWarning: F-score is ill-defined and being set to 0.0 due to no predicted samples.\n",
      "  'precision', 'predicted', average, warn_for)\n"
     ]
    },
    {
     "name": "stdout",
     "output_type": "stream",
     "text": [
      "** 94 splits Average Score **\n",
      "Accuracy: 0.99\n",
      "Precision: 0.88\n",
      "Recall: 0.41\n",
      "F1-score: 0.55\n",
      "****************************\n",
      "** 95 splits Average Score **\n",
      "Accuracy: 0.99\n",
      "Precision: 0.89\n",
      "Recall: 0.42\n",
      "F1-score: 0.56\n",
      "****************************\n"
     ]
    },
    {
     "name": "stderr",
     "output_type": "stream",
     "text": [
      "/home/yehoon/anaconda3/lib/python3.6/site-packages/sklearn/metrics/classification.py:1135: UndefinedMetricWarning: Precision is ill-defined and being set to 0.0 due to no predicted samples.\n",
      "  'precision', 'predicted', average, warn_for)\n",
      "/home/yehoon/anaconda3/lib/python3.6/site-packages/sklearn/metrics/classification.py:1135: UndefinedMetricWarning: F-score is ill-defined and being set to 0.0 due to no predicted samples.\n",
      "  'precision', 'predicted', average, warn_for)\n"
     ]
    },
    {
     "name": "stdout",
     "output_type": "stream",
     "text": [
      "** 96 splits Average Score **\n",
      "Accuracy: 0.99\n",
      "Precision: 0.90\n",
      "Recall: 0.42\n",
      "F1-score: 0.55\n"
     ]
    },
    {
     "name": "stderr",
     "output_type": "stream",
     "text": [
      "/home/yehoon/anaconda3/lib/python3.6/site-packages/sklearn/metrics/classification.py:1135: UndefinedMetricWarning: Precision is ill-defined and being set to 0.0 due to no predicted samples.\n",
      "  'precision', 'predicted', average, warn_for)\n",
      "/home/yehoon/anaconda3/lib/python3.6/site-packages/sklearn/metrics/classification.py:1135: UndefinedMetricWarning: F-score is ill-defined and being set to 0.0 due to no predicted samples.\n",
      "  'precision', 'predicted', average, warn_for)\n"
     ]
    },
    {
     "name": "stdout",
     "output_type": "stream",
     "text": [
      "****************************\n",
      "** 97 splits Average Score **\n",
      "Accuracy: 0.99\n",
      "Precision: 0.90\n",
      "Recall: 0.43\n",
      "F1-score: 0.56\n",
      "****************************\n"
     ]
    },
    {
     "name": "stderr",
     "output_type": "stream",
     "text": [
      "/home/yehoon/anaconda3/lib/python3.6/site-packages/sklearn/metrics/classification.py:1135: UndefinedMetricWarning: Precision is ill-defined and being set to 0.0 due to no predicted samples.\n",
      "  'precision', 'predicted', average, warn_for)\n",
      "/home/yehoon/anaconda3/lib/python3.6/site-packages/sklearn/metrics/classification.py:1135: UndefinedMetricWarning: F-score is ill-defined and being set to 0.0 due to no predicted samples.\n",
      "  'precision', 'predicted', average, warn_for)\n"
     ]
    },
    {
     "name": "stdout",
     "output_type": "stream",
     "text": [
      "** 98 splits Average Score **\n",
      "Accuracy: 0.99\n",
      "Precision: 0.87\n",
      "Recall: 0.42\n",
      "F1-score: 0.55\n",
      "****************************\n"
     ]
    },
    {
     "name": "stderr",
     "output_type": "stream",
     "text": [
      "/home/yehoon/anaconda3/lib/python3.6/site-packages/sklearn/metrics/classification.py:1135: UndefinedMetricWarning: Precision is ill-defined and being set to 0.0 due to no predicted samples.\n",
      "  'precision', 'predicted', average, warn_for)\n",
      "/home/yehoon/anaconda3/lib/python3.6/site-packages/sklearn/metrics/classification.py:1135: UndefinedMetricWarning: F-score is ill-defined and being set to 0.0 due to no predicted samples.\n",
      "  'precision', 'predicted', average, warn_for)\n"
     ]
    },
    {
     "name": "stdout",
     "output_type": "stream",
     "text": [
      "** 99 splits Average Score **\n",
      "Accuracy: 0.99\n",
      "Precision: 0.87\n",
      "Recall: 0.43\n",
      "F1-score: 0.56\n"
     ]
    },
    {
     "name": "stderr",
     "output_type": "stream",
     "text": [
      "/home/yehoon/anaconda3/lib/python3.6/site-packages/sklearn/metrics/classification.py:1135: UndefinedMetricWarning: Precision is ill-defined and being set to 0.0 due to no predicted samples.\n",
      "  'precision', 'predicted', average, warn_for)\n",
      "/home/yehoon/anaconda3/lib/python3.6/site-packages/sklearn/metrics/classification.py:1135: UndefinedMetricWarning: F-score is ill-defined and being set to 0.0 due to no predicted samples.\n",
      "  'precision', 'predicted', average, warn_for)\n"
     ]
    },
    {
     "name": "stdout",
     "output_type": "stream",
     "text": [
      "****************************\n",
      "** 100 splits Average Score **\n",
      "Accuracy: 0.99\n",
      "Precision: 0.90\n",
      "Recall: 0.43\n",
      "F1-score: 0.56\n",
      "****************************\n"
     ]
    }
   ],
   "source": [
    "for i in range(1,101):\n",
    "\n",
    "    total_accuracy = 0\n",
    "    total_precision = 0\n",
    "    total_recall = 0\n",
    "    total_f1 = 0\n",
    "\n",
    "    splits = i\n",
    "    # splits = 10\n",
    "\n",
    "    skf = StratifiedShuffleSplit(n_splits=splits, random_state=42, test_size=0.3)\n",
    "\n",
    "    for train_index, test_index in skf.split(x, y):\n",
    "    #     print(\"TRAIN:\", train_index[:15], \"\\nTEST:\", test_index[:15])    \n",
    "        x_train, x_test = x[train_index], x[test_index]\n",
    "        y_train, y_test = y[train_index], y[test_index]\n",
    "    #     print(\"x_train: \", count_values(x_train), \"x_test: \", count_values(x_test))\n",
    "    #         print(\"y_train: \", count_values(y_train), \", y_test: \", count_values(y_test))\n",
    "\n",
    "    #         print('\\nOriginal dataset shape {}'.format(Counter(y_train)))\n",
    "        sm = SMOTE(random_state=42)\n",
    "        x_res , y_res = sm.fit_sample(x_train, y_train)\n",
    "    #         print('Resampled dataset shape {}'.format(Counter(y_res)))\n",
    "\n",
    "        from sklearn.ensemble import RandomForestClassifier\n",
    "\n",
    "        rf = RandomForestClassifier(n_estimators=5)\n",
    "        rf.fit(x_res, y_res)\n",
    "\n",
    "        y_pred_tr = rf.predict(x_test)\n",
    "\n",
    "        accuracy = metrics.accuracy_score(y_test, y_pred_tr)\n",
    "        total_accuracy += float(accuracy)\n",
    "\n",
    "        precision = metrics.precision_score(y_test, y_pred_tr)\n",
    "        total_precision += float(precision)\n",
    "\n",
    "        recall = metrics.recall_score(y_test, y_pred_tr)\n",
    "        total_recall += float(recall)\n",
    "\n",
    "        f1_score = metrics.f1_score(y_test, y_pred_tr)\n",
    "        total_f1 += float(f1_score)\n",
    "\n",
    "#         if i % 10 == 0:\n",
    "#             print('\\nAccuracy: %.2f' % accuracy)\n",
    "#             print('Precision: %.2f' % precision)\n",
    "#             print('Recall: %.2f' % recall)\n",
    "#             print('F1-score: %.2f' % f1_score)\n",
    "#             print('====================================\\n')\n",
    "\n",
    "    print('** '+str(i)+' splits Average Score **')\n",
    "    print('Accuracy: %.2f' % (total_accuracy/splits))\n",
    "    print('Precision: %.2f' % (total_precision/splits))\n",
    "    print('Recall: %.2f' % (total_recall/splits))\n",
    "    print('F1-score: %.2f' % (total_f1/splits))\n",
    "    print('****************************')"
   ]
  }
 ],
 "metadata": {
  "kernelspec": {
   "display_name": "Python 3",
   "language": "python",
   "name": "python3"
  },
  "language_info": {
   "codemirror_mode": {
    "name": "ipython",
    "version": 3
   },
   "file_extension": ".py",
   "mimetype": "text/x-python",
   "name": "python",
   "nbconvert_exporter": "python",
   "pygments_lexer": "ipython3",
   "version": "3.6.3"
  }
 },
 "nbformat": 4,
 "nbformat_minor": 2
}
