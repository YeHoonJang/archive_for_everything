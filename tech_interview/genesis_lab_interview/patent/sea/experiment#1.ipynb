{
 "cells": [
  {
   "cell_type": "code",
   "execution_count": 1,
   "metadata": {
    "collapsed": true
   },
   "outputs": [],
   "source": [
    "from collections import Counter\n",
    "from imblearn.over_sampling import SMOTE\n",
    "import pandas as pd\n",
    "import numpy as np\n",
    "from sklearn.model_selection import train_test_split"
   ]
  },
  {
   "cell_type": "code",
   "execution_count": 2,
   "metadata": {
    "collapsed": true
   },
   "outputs": [],
   "source": [
    "df = pd.read_csv(\"../../data/sea/dataset_all_merged.csv\")\n",
    "df_1 = df.drop('title', axis=1)\n",
    "df_1 = df_1.drop('abstract', axis=1)\n",
    "df = df_1.drop('claim', axis=1)\n",
    "\n",
    "x = df.loc[:, df.columns!='valid_patent'].astype(str)\n",
    "y = df['valid_patent'].astype(int)"
   ]
  },
  {
   "cell_type": "markdown",
   "metadata": {},
   "source": [
    "## Train/Test Split"
   ]
  },
  {
   "cell_type": "code",
   "execution_count": 3,
   "metadata": {
    "collapsed": true
   },
   "outputs": [],
   "source": [
    "x_train, x_test, y_train, y_test = train_test_split(x, y, test_size=0.3, random_state=50)"
   ]
  },
  {
   "cell_type": "markdown",
   "metadata": {},
   "source": [
    "## SMOTE"
   ]
  },
  {
   "cell_type": "code",
   "execution_count": 4,
   "metadata": {},
   "outputs": [
    {
     "name": "stdout",
     "output_type": "stream",
     "text": [
      "Original dataset shape Counter({0: 1311, 1: 22})\n",
      "Resampled dataset shape Counter({0: 1311, 1: 1311})\n",
      "Y test dataset shpae Counter({0: 565, 1: 7})\n"
     ]
    }
   ],
   "source": [
    "print('Original dataset shape {}'.format(Counter(y_train)))\n",
    "sm = SMOTE(random_state=42)\n",
    "x_res , y_res = sm.fit_sample(x_train, y_train)\n",
    "print('Resampled dataset shape {}'.format(Counter(y_res)))\n",
    "print('Y test dataset shpae {}'.format(Counter(y_test)))"
   ]
  },
  {
   "cell_type": "markdown",
   "metadata": {},
   "source": [
    "## Model"
   ]
  },
  {
   "cell_type": "markdown",
   "metadata": {},
   "source": [
    "### Logistic Regression"
   ]
  },
  {
   "cell_type": "code",
   "execution_count": 5,
   "metadata": {
    "collapsed": true
   },
   "outputs": [],
   "source": [
    "from sklearn import linear_model, metrics\n",
    "from sklearn.metrics import classification_report, confusion_matrix"
   ]
  },
  {
   "cell_type": "code",
   "execution_count": 6,
   "metadata": {
    "collapsed": true
   },
   "outputs": [],
   "source": [
    "logreg = linear_model.LogisticRegression(fit_intercept=False)\n",
    "logreg.fit(x_res, y_res)\n",
    "\n",
    "prob = logreg.predict_proba(x_test)\n",
    "\n",
    "y_pred = np.zeros(len(x_test))\n",
    "y_pred[prob[:,1] > 0.65] = 1"
   ]
  },
  {
   "cell_type": "code",
   "execution_count": 7,
   "metadata": {},
   "outputs": [
    {
     "name": "stdout",
     "output_type": "stream",
     "text": [
      "This classification report of using threshold: \n",
      "              precision    recall  f1-score   support\n",
      "\n",
      "          0       0.99      0.89      0.94       565\n",
      "          1       0.02      0.14      0.03         7\n",
      "\n",
      "avg / total       0.98      0.88      0.92       572\n",
      "\n",
      "This is accuracy score: 0.8793706293706294 \n",
      "\n"
     ]
    }
   ],
   "source": [
    "print(\"This classification report of using threshold: \\n\",classification_report(y_test, y_pred))\n",
    "print (\"This is accuracy score:\",metrics.accuracy_score(y_test, y_pred),\"\\n\")"
   ]
  },
  {
   "cell_type": "markdown",
   "metadata": {},
   "source": [
    "### SVM"
   ]
  },
  {
   "cell_type": "code",
   "execution_count": 8,
   "metadata": {},
   "outputs": [
    {
     "name": "stdout",
     "output_type": "stream",
     "text": [
      "This classification report of using threshold: \n",
      "              precision    recall  f1-score   support\n",
      "\n",
      "          0       1.00      0.00      0.01       565\n",
      "          1       0.01      1.00      0.02         7\n",
      "\n",
      "avg / total       0.99      0.02      0.01       572\n",
      "\n",
      "This is accuracy score: 0.015734265734265736 \n",
      "\n"
     ]
    }
   ],
   "source": [
    "from sklearn.linear_model import SGDClassifier\n",
    "from sklearn import svm\n",
    "\n",
    "svm = svm.LinearSVC()\n",
    "svm.fit(x_res, y_res)\n",
    "\n",
    "result = svm.predict(x_test)\n",
    "\n",
    "print(\"This classification report of using threshold: \\n\",classification_report(y_test, result))\n",
    "print (\"This is accuracy score:\",metrics.accuracy_score(y_test, result),\"\\n\")"
   ]
  },
  {
   "cell_type": "code",
    "execution_count": 9,
   "metadata": {},
   "outputs": [
    {
     "name": "stdout",
     "output_type": "stream",
     "text": [
      "This classification report of using threshold: \n",
      "              precision    recall  f1-score   support\n",
      "\n",
      "          0       0.99      0.85      0.91       565\n",
      "          1       0.01      0.14      0.02         7\n",
      "\n",
      "avg / total       0.98      0.84      0.90       572\n",
      "\n",
      "This is accuracy score: 0.8426573426573427 \n",
      "\n"
     ]
    }
   ],
   "source": [
    "from sklearn.svm import LinearSVC\n",
    "from sklearn.calibration import CalibratedClassifierCV\n",
    "\n",
    "svc = CalibratedClassifierCV(base_estimator=LinearSVC(penalty='l2', dual=False), cv=5)\n",
    "svc.fit(x_res, y_res)\n",
    "\n",
    "\n",
    "result = svc.predict(x_test)\n",
    "\n",
    "print(\"This classification report of using threshold: \\n\",classification_report(y_test, result))\n",
    "print (\"This is accuracy score:\",metrics.accuracy_score(y_test, result),\"\\n\")"
   ]
  },
  {
   "cell_type": "code",
   "execution_count": 10,
   "metadata": {},
   "outputs": [
    {
     "name": "stdout",
     "output_type": "stream",
     "text": [
      "This classification report of using threshold: \n",
      "              precision    recall  f1-score   support\n",
      "\n",
      "          0       0.99      0.89      0.94       565\n",
      "          1       0.02      0.14      0.03         7\n",
      "\n",
      "avg / total       0.98      0.88      0.93       572\n",
      "\n",
      "This is accuracy score: 0.8828671328671329 \n",
      "\n"
     ]
    }
   ],
   "source": [
    "prob = svc.predict_proba(x_test)\n",
    "\n",
    "y_pred = np.zeros(len(x_test))\n",
    "y_pred[prob[:,-1] > 0.75] = 1\n",
    "\n",
    "print(\"This classification report of using threshold: \\n\",classification_report(y_test, y_pred))\n",
    "print (\"This is accuracy score:\",metrics.accuracy_score(y_test, y_pred),\"\\n\")"
   ]
  },
  {
   "cell_type": "markdown",
   "metadata": {},
   "source": [
    "### Decision Tree"
   ]
  },
  {
   "cell_type": "code",
   "execution_count": 11,
   "metadata": {},
   "outputs": [
    {
     "name": "stdout",
     "output_type": "stream",
     "text": [
      "This classification report of using threshold: \n",
      "              precision    recall  f1-score   support\n",
      "\n",
      "          0       0.99      0.99      0.99       565\n",
      "          1       0.36      0.57      0.44         7\n",
      "\n",
      "avg / total       0.99      0.98      0.98       572\n",
      "\n",
      "This is accuracy score: 0.9825174825174825 \n",
      "\n"
     ]
    }
   ],
   "source": [
    "from sklearn import tree\n",
    "\n",
    "dt = tree.DecisionTreeClassifier(criterion='gini', max_depth=5, min_samples_leaf=5)\n",
    "dt.fit(x_res, y_res)\n",
    "\n",
    "result = dt.predict(x_test)\n",
    "\n",
    "print(\"This classification report of using threshold: \\n\",classification_report(y_test, result))\n",
    "print (\"This is accuracy score:\",metrics.accuracy_score(y_test, result),\"\\n\")"
   ]
  },
  {
   "cell_type": "code",
   "execution_count": 12,
   "metadata": {},
   "outputs": [
    {
     "name": "stdout",
     "output_type": "stream",
     "text": [
      "This classification report of using threshold: \n",
      "              precision    recall  f1-score   support\n",
      "\n",
      "          0       0.99      0.99      0.99       565\n",
      "          1       0.44      0.57      0.50         7\n",
      "\n",
      "avg / total       0.99      0.99      0.99       572\n",
      "\n",
      "This is accuracy score: 0.986013986013986 \n",
      "\n"
     ]
    }
   ],
   "source": [
    "prob = dt.predict_proba(x_test)\n",
    "\n",
    "y_pred = np.zeros(len(x_test))\n",
    "y_pred[prob[:,-1] > 0.75] = 1\n",
    "\n",
    "print(\"This classification report of using threshold: \\n\",classification_report(y_test, y_pred))\n",
    "print (\"This is accuracy score:\",metrics.accuracy_score(y_test, y_pred),\"\\n\")"
   ]
  },
  {
   "cell_type": "markdown",
   "metadata": {
    "collapsed": true
   },
   "source": [
    "### Random Forest"
   ]
  },
  {
   "cell_type": "code",
   "execution_count": 13,
   "metadata": {},
   "outputs": [
    {
     "name": "stdout",
     "output_type": "stream",
     "text": [
      "This classification report of using threshold: \n",
      "              precision    recall  f1-score   support\n",
      "\n",
      "          0       1.00      1.00      1.00       565\n",
      "          1       0.75      0.86      0.80         7\n",
      "\n",
      "avg / total       1.00      0.99      0.99       572\n",
      "\n",
      "This is accuracy score: 0.9947552447552448 \n",
      "\n"
     ]
    }
   ],
   "source": [
    "from sklearn.ensemble import RandomForestClassifier\n",
    "\n",
    "rf = RandomForestClassifier(n_estimators=5)\n",
    "rf.fit(x_res, y_res)\n",
    "\n",
    "result = rf.predict(x_test)\n",
    "\n",
    "print(\"This classification report of using threshold: \\n\",classification_report(y_test, result))\n",
    "print (\"This is accuracy score:\",metrics.accuracy_score(y_test, result),\"\\n\")"
   ]
  },
  {
   "cell_type": "code",
   "execution_count": 14,
   "metadata": {},
   "outputs": [
    {
     "name": "stdout",
     "output_type": "stream",
     "text": [
      "This classification report of using threshold: \n",
      "              precision    recall  f1-score   support\n",
      "\n",
      "          0       0.99      1.00      1.00       565\n",
      "          1       1.00      0.29      0.44         7\n",
      "\n",
      "avg / total       0.99      0.99      0.99       572\n",
      "\n",
      "This is accuracy score: 0.9912587412587412 \n",
      "\n"
     ]
    }
   ],
   "source": [
    "prob = rf.predict_proba(x_test)\n",
    "\n",
    "y_pred = np.zeros(len(x_test))\n",
    "y_pred[prob[:,-1] > 0.8] = 1\n",
    "\n",
    "print(\"This classification report of using threshold: \\n\",classification_report(y_test, y_pred))\n",
    "print (\"This is accuracy score:\",metrics.accuracy_score(y_test, y_pred),\"\\n\")"
   ]
  },
  {
   "cell_type": "markdown",
   "metadata": {},
   "source": [
    "### MLP"
   ]
  },
  {
   "cell_type": "code",
   "execution_count": 15,
   "metadata": {},
   "outputs": [
    {
     "name": "stdout",
     "output_type": "stream",
     "text": [
      "This classification report of using threshold: \n",
      "              precision    recall  f1-score   support\n",
      "\n",
      "          0       0.99      1.00      0.99       565\n",
      "          1       0.00      0.00      0.00         7\n",
      "\n",
      "avg / total       0.98      0.99      0.98       572\n",
      "\n",
      "This is accuracy score: 0.9877622377622378 \n",
      "\n"
     ]
    },
    {
     "name": "stderr",
     "output_type": "stream",
     "text": [
      "/home/yehoon/anaconda3/lib/python3.6/site-packages/sklearn/metrics/classification.py:1135: UndefinedMetricWarning: Precision and F-score are ill-defined and being set to 0.0 in labels with no predicted samples.\n",
      "  'precision', 'predicted', average, warn_for)\n"
     ]
    }
   ],
   "source": [
    "from sklearn.neural_network import MLPClassifier\n",
    "mlp = MLPClassifier(learning_rate_init=0.01, activation='relu', solver='lbfgs', alpha=1e-5,\n",
    "                    hidden_layer_sizes=(100, ), random_state=1)\n",
    "mlp.fit(x_res, y_res)\n",
    "\n",
    "result = mlp.predict(x_test)\n",
    "\n",
    "print(\"This classification report of using threshold: \\n\",classification_report(y_test, result))\n",
    "print (\"This is accuracy score:\",metrics.accuracy_score(y_test, result),\"\\n\")"
   ]
  },
  {
   "cell_type": "code",
   "execution_count": null,
   "metadata": {
    "collapsed": true
   },
   "outputs": [],
   "source": []
  }
 ],
 "metadata": {
  "kernelspec": {
   "display_name": "Python 3",
   "language": "python",
   "name": "python3"
  },
  "language_info": {
   "codemirror_mode": {
    "name": "ipython",
    "version": 3
   },
   "file_extension": ".py",
   "mimetype": "text/x-python",
   "name": "python",
   "nbconvert_exporter": "python",
   "pygments_lexer": "ipython3",
   "version": "3.6.3"
  }
 },
 "nbformat": 4,
 "nbformat_minor": 2
}
