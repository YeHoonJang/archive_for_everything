{
 "cells": [
  {
   "cell_type": "code",
   "execution_count": 1,
   "metadata": {
    "collapsed": true
   },
   "outputs": [],
   "source": [
    "import pandas as pd"
   ]
  },
  {
   "cell_type": "code",
   "execution_count": 2,
   "metadata": {
    "collapsed": true
   },
   "outputs": [],
   "source": [
    "raw_data = pd.read_csv(\"auto_manufacturing_garbage.csv\", encoding = \"cp949\")\n",
    "val_data = pd.read_csv(\"auto_manufacturing_valid.csv\", encoding = \"utf-8\")"
   ]
  },
  {
   "cell_type": "code",
   "execution_count": 3,
   "metadata": {},
   "outputs": [
    {
     "data": {
      "text/plain": [
       "(823, 37)"
      ]
     },
     "execution_count": 3,
     "metadata": {},
     "output_type": "execute_result"
    }
   ],
   "source": [
    "raw_data.shape"
   ]
  },
  {
   "cell_type": "code",
   "execution_count": 4,
   "metadata": {},
   "outputs": [
    {
     "name": "stdout",
     "output_type": "stream",
     "text": [
      "Index(['국가코드', 'DB종류', '특허/실용 구분', '문헌종류 코드', '발명의 명칭', '요약', '대표청구항', '청구항 수',\n",
      "       '출원번호', '출원일', '공개번호/공표/재공표 ', '공개일', '등록번호', '등록일', '출원인', '출원인 국적',\n",
      "       '출원인 수', '출원인 대표명화 코드', '출원인 대표명화 영문명', '출원인 대표명화 국문명[KR]',\n",
      "       '출원인 식별기호[JP]', '발명자/고안자', '우선권 번호', '우선권 국가', '우선권 주장일', '국제 공개번호',\n",
      "       '국제 공개일', 'Original CPC Main', 'Original CPC All', 'Original IPC Main',\n",
      "       'Original IPC All', 'Original US Class Main[US]',\n",
      "       'Original US Class All[US]', 'Original FI[JP]', 'Original F-term[JP]',\n",
      "       'Original Theme Code [JP]', 'WIPS ON key'],\n",
      "      dtype='object')\n",
      "Index(['공개(등록)번호', '공개(등록)일자', '국가', '구분', '발명의 명칭', 'IPC', '출원인'], dtype='object')\n"
     ]
    }
   ],
   "source": [
    "print(raw_data.columns)\n",
    "print(val_data.columns)"
   ]
  },
  {
   "cell_type": "code",
   "execution_count": 5,
   "metadata": {
    "scrolled": true
   },
   "outputs": [
    {
     "name": "stdout",
     "output_type": "stream",
     "text": [
      "['tool lubrication delivery monitoring system and method', 'web based remote monitoring and control system', 'compilation model', 'method for protecting a gas turbine engine against high dynamical process values and gas turbine engine for conducting the method', 'control system for machine that cleans drums of ready mixed concrete trucks']\n"
     ]
    }
   ],
   "source": [
    "raw_list =[]\n",
    "for i in raw_data[\"발명의 명칭\"]:\n",
    "    raw_list.append(i.lower())\n",
    "print(raw_list[:5])"
   ]
  },
  {
   "cell_type": "code",
   "execution_count": 6,
   "metadata": {
    "scrolled": true
   },
   "outputs": [
    {
     "name": "stdout",
     "output_type": "stream",
     "text": [
      "['application specific integrated circuit (asic) disposed in input/output module connectable to programmable logic controller (plc) based systems having plurality of connection paths', 'reconfigurable sequencer structure', 'system, method, and apparatus for software maintenance of sensor and control systems', 'providing online graphical data flow web application tools or services for charge', 'method for data transmission in a local area network']\n"
     ]
    }
   ],
   "source": [
    "val_list = []\n",
    "for i in range(len(val_data)):\n",
    "    if val_data.iloc[i]['국가'] == 'US':\n",
    "        val_list.append(val_data.iloc[i][\"발명의 명칭\"].lower())\n",
    "print(val_list[:5])"
   ]
  },
  {
   "cell_type": "code",
   "execution_count": 7,
   "metadata": {},
   "outputs": [
    {
     "name": "stdout",
     "output_type": "stream",
     "text": [
      "628 258\n"
     ]
    }
   ],
   "source": [
    "count = 0\n",
    "filterd_list = []\n",
    "for raw in raw_list:\n",
    "    for val in val_list:\n",
    "        if raw == val:\n",
    "            filterd_list.append(raw)\n",
    "            count += 1\n",
    "#             print(\"raw: \", raw, \"val: \", val)\n",
    "\n",
    "print(count, len(set(filterd_list)))"
   ]
  },
  {
   "cell_type": "markdown",
   "metadata": {
    "collapsed": true
   },
   "source": [
    "US 유효특허: 411개"
   ]
  },
  {
   "cell_type": "code",
   "execution_count": null,
   "metadata": {
    "collapsed": true
   },
   "outputs": [],
   "source": []
  }
 ],
 "metadata": {
  "kernelspec": {
   "display_name": "Python 3",
   "language": "python",
   "name": "python3"
  },
  "language_info": {
   "codemirror_mode": {
    "name": "ipython",
    "version": 3
   },
   "file_extension": ".py",
   "mimetype": "text/x-python",
   "name": "python",
   "nbconvert_exporter": "python",
   "pygments_lexer": "ipython3",
   "version": "3.5.4"
  }
 },
 "nbformat": 4,
 "nbformat_minor": 2
}
