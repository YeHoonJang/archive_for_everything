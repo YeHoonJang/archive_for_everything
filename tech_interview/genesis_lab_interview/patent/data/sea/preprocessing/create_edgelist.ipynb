{
 "cells": [
  {
   "cell_type": "code",
   "execution_count": 40,
   "metadata": {
    "collapsed": true
   },
   "outputs": [],
   "source": [
    "import pandas as pd\n",
    "import numpy as np"
   ]
  },
  {
   "cell_type": "code",
   "execution_count": 41,
   "metadata": {},
   "outputs": [],
   "source": [
    "df = pd.read_csv('../data/data_v2.csv', encoding='cp949')"
   ]
  },
  {
   "cell_type": "code",
   "execution_count": 42,
   "metadata": {
    "collapsed": true,
    "scrolled": false
   },
   "outputs": [],
   "source": [
    "df = df.rename(index=str, columns={'Unnamed: 0': 'patent index'})"
   ]
  },
  {
   "cell_type": "markdown",
   "metadata": {},
   "source": [
    "### ipc main"
   ]
  },
  {
   "cell_type": "code",
   "execution_count": 43,
   "metadata": {},
   "outputs": [],
   "source": [
    "main_ipc_dict = {}\n",
    "main_ipc_dict['patent'] = df['patent index']\n",
    "main_ipc_dict['ipc'] = df['Original IPC Main']\n",
    "\n",
    "main_ipc_edge = pd.DataFrame(main_ipc_dict)\n",
    "main_ipc_edge.to_csv(\"../data/main_ipc_edge.tsv\", sep='\\t', index=False, header=True)"
   ]
  },
  {
   "cell_type": "markdown",
   "metadata": {},
   "source": [
    "### ipc all"
   ]
  },
  {
   "cell_type": "code",
   "execution_count": 44,
   "metadata": {
    "collapsed": true
   },
   "outputs": [],
   "source": [
    "index = []\n",
    "ipc = []\n",
    "for idx, i in enumerate(df['Original IPC All']):\n",
    "    i = i.split('|')\n",
    "    if len(i) != 1:\n",
    "        for j in range(len(i)):\n",
    "            index.append(idx)\n",
    "            ipc.append(i[j])\n",
    "    else:\n",
    "        index.append(idx)\n",
    "        ipc.append(i[0])"
   ]
  },
  {
   "cell_type": "code",
   "execution_count": 45,
   "metadata": {
    "collapsed": true
   },
   "outputs": [],
   "source": [
    "idx_values = pd.Series(data=index)\n",
    "ipc_values = pd.Series(data=ipc)"
   ]
  },
  {
   "cell_type": "code",
   "execution_count": 46,
   "metadata": {
    "collapsed": true
   },
   "outputs": [],
   "source": [
    "all_ipc_dict = {}\n",
    "all_ipc_dict['ipc'] = ipc_values\n",
    "all_ipc_dict['patent'] = idx_values"
   ]
  },
  {
   "cell_type": "code",
   "execution_count": 47,
   "metadata": {
    "collapsed": true
   },
   "outputs": [],
   "source": [
    "all_ipc_edge = pd.DataFrame(all_ipc_dict)\n",
    "all_ipc_edge.to_csv(\"../data/all_ipc_edge.tsv\", sep='\\t', index=False, header=True)"
   ]
  }
 ],
 "metadata": {
  "kernelspec": {
   "display_name": "Python 3",
   "language": "python",
   "name": "python3"
  },
  "language_info": {
   "codemirror_mode": {
    "name": "ipython",
    "version": 3
   },
   "file_extension": ".py",
   "mimetype": "text/x-python",
   "name": "python",
   "nbconvert_exporter": "python",
   "pygments_lexer": "ipython3",
   "version": "3.6.3"
  }
 },
 "nbformat": 4,
 "nbformat_minor": 2
}
