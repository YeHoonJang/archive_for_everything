{
 "cells": [
  {
   "cell_type": "code",
   "execution_count": 2,
   "metadata": {},
   "outputs": [],
   "source": [
    "import os\n",
    "from apistar import App, Route\n",
    "import pymysql\n",
    "from datetime import datetime"
   ]
  },
  {
   "cell_type": "code",
   "execution_count": 39,
   "metadata": {
    "scrolled": true
   },
   "outputs": [
    {
     "data": {
      "text/plain": [
       "1"
      ]
     },
     "execution_count": 39,
     "metadata": {},
     "output_type": "execute_result"
    }
   ],
   "source": [
    "conn = pymysql.connect(host='localhost', user='root', password='ini6223', db='wordpress', charset='utf8')\n",
    "\n",
    "user_name = 'kimjihee'\n",
    "\n",
    "curs=conn.cursor()\n",
    "select_id = \"SELECT ID FROM wp_users WHERE user_login=%s\"\n",
    "curs.execute(select_id, user_name)\n",
    "user_id = curs.fetchall()[0][0]\n",
    "user_id\n",
    "\n",
    "video_id = 42\n",
    "select_author = \"SELECT author FROM wp_uploaded_video WHERE video_id=%s\"\n",
    "curs.execute(select_author, video_id)\n",
    "author = curs.fetchall()[0][0]\n",
    "author"
   ]
  },
  {
   "cell_type": "code",
   "execution_count": 5,
   "metadata": {},
   "outputs": [
    {
     "ename": "NameError",
     "evalue": "name 'conn' is not defined",
     "output_type": "error",
     "traceback": [
      "\u001b[0;31m---------------------------------------------------------------------------\u001b[0m",
      "\u001b[0;31mNameError\u001b[0m                                 Traceback (most recent call last)",
      "\u001b[0;32m<ipython-input-5-40929120421e>\u001b[0m in \u001b[0;36m<module>\u001b[0;34m()\u001b[0m\n\u001b[0;32m----> 1\u001b[0;31m \u001b[0;32mdef\u001b[0m \u001b[0mupdate_video_status\u001b[0m\u001b[0;34m(\u001b[0m\u001b[0mapp\u001b[0m\u001b[0;34m:\u001b[0m\u001b[0mApp\u001b[0m\u001b[0;34m,\u001b[0m \u001b[0mdb\u001b[0m\u001b[0;34m:\u001b[0m\u001b[0mconn\u001b[0m\u001b[0;34m,\u001b[0m \u001b[0mvideo_id\u001b[0m\u001b[0;34m:\u001b[0m\u001b[0mint\u001b[0m\u001b[0;34m)\u001b[0m\u001b[0;34m:\u001b[0m\u001b[0;34m\u001b[0m\u001b[0m\n\u001b[0m\u001b[1;32m      2\u001b[0m     \u001b[0mprint\u001b[0m\u001b[0;34m(\u001b[0m\u001b[0mvideo_id\u001b[0m\u001b[0;34m)\u001b[0m\u001b[0;34m\u001b[0m\u001b[0m\n\u001b[1;32m      3\u001b[0m     \u001b[0mnow\u001b[0m \u001b[0;34m=\u001b[0m \u001b[0mdatetime\u001b[0m\u001b[0;34m.\u001b[0m\u001b[0mnow\u001b[0m\u001b[0;34m(\u001b[0m\u001b[0;34m)\u001b[0m\u001b[0;34m\u001b[0m\u001b[0m\n\u001b[1;32m      4\u001b[0m     \u001b[0mformatted_date\u001b[0m \u001b[0;34m=\u001b[0m \u001b[0mnow\u001b[0m\u001b[0;34m.\u001b[0m\u001b[0mstrftime\u001b[0m\u001b[0;34m(\u001b[0m\u001b[0;34m\"\"\"%Y-%m-%d %H:%M:%S\"\"\"\u001b[0m\u001b[0;34m)\u001b[0m\u001b[0;34m\u001b[0m\u001b[0m\n\u001b[1;32m      5\u001b[0m \u001b[0;34m\u001b[0m\u001b[0m\n",
      "\u001b[0;31mNameError\u001b[0m: name 'conn' is not defined"
     ]
    }
   ],
   "source": [
    "def update_video_status(app:App, db:conn, video_id:int):\n",
    "    print(video_id)\n",
    "    now = datetime.now()\n",
    "    formatted_date = now.strftime(\"\"\"%Y-%m-%d %H:%M:%S\"\"\")\n",
    "\n",
    "    curs = conn.cursor()\n",
    "    update_sql = \"UPDATE wp_uploaded_video SET status='delete', uploaded_time=%s WHERE video_id=%s\"\n",
    "    curs.execute(update_sql, (formatted_date, video_id))\n",
    "    print(video_id)\n",
    "    conn.commit()\n",
    "    return \"success connection\"\n",
    "\n",
    "routes = [\n",
    "    Route('/{video_id}', method='GET', handler=update_video_status),\n",
    "    Route('/{user_name}', method='GET', handler=is_validated_user),\n",
    "]\n",
    "app = App(routes=routes)\n",
    "\n",
    "\n",
    "if __name__ == \"__main__\":\n",
    "    app.serve('192.168.10.37', 5000, use_debugger=True)\n",
    "    print(\"여기\")"
   ]
  },
  {
   "cell_type": "code",
   "execution_count": null,
   "metadata": {},
   "outputs": [],
   "source": []
  }
 ],
 "metadata": {
  "kernelspec": {
   "display_name": "Python 3",
   "language": "python",
   "name": "python3"
  },
  "language_info": {
   "codemirror_mode": {
    "name": "ipython",
    "version": 3
   },
   "file_extension": ".py",
   "mimetype": "text/x-python",
   "name": "python",
   "nbconvert_exporter": "python",
   "pygments_lexer": "ipython3",
   "version": "3.5.5"
  }
 },
 "nbformat": 4,
 "nbformat_minor": 2
}
