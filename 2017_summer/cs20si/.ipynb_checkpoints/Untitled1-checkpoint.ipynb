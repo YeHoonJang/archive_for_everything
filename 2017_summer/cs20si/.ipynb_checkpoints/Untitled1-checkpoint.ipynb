{
 "cells": [
  {
   "cell_type": "code",
   "execution_count": 2,
   "metadata": {},
   "outputs": [
    {
     "data": {
      "text/plain": [
       "' Example to demonstrate how to use queues\\nAuthor: Chip Huyen\\nPrepared for the class CS 20SI: \"TensorFlow for Deep Learning Research\"\\ncs20si.stanford.edu\\n'"
      ]
     },
     "execution_count": 2,
     "metadata": {},
     "output_type": "execute_result"
    }
   ],
   "source": [
    "\"\"\" Example to demonstrate how to use queues\n",
    "Author: Chip Huyen\n",
    "Prepared for the class CS 20SI: \"TensorFlow for Deep Learning Research\"\n",
    "cs20si.stanford.edu\n",
    "\"\"\""
   ]
  },
  {
   "cell_type": "code",
   "execution_count": 3,
   "metadata": {
    "collapsed": true
   },
   "outputs": [],
   "source": [
    "from __future__ import print_function\n",
    "import tensorflow as tf\n",
    "import numpy as np"
   ]
  },
  {
   "cell_type": "code",
   "execution_count": 5,
   "metadata": {},
   "outputs": [],
   "source": [
    "N_SAMPLES = 1000\n",
    "NUM_THREADS = 4\n",
    "# Generating some simple data\n",
    "# create 1000 random samples, each is a 1D array from the normal distribution (10, 1)\n",
    "data = 10 * np.random.randn(N_SAMPLES, 4) + 1 \n",
    "# create 1000 random labels of 0 and 1\n",
    "target = np.random.randint(0, 2, size=N_SAMPLES) \n",
    "\n",
    "queue = tf.FIFOQueue(capacity=50, dtypes=[tf.float32, tf.int32], shapes=[[4], []])\n",
    "\n",
    "enqueue_op = queue.enqueue_many([data, target])\n",
    "data_sample, label_sample = queue.dequeue()\n",
    "\n",
    "# create ops that do something with data_sample and label_sample\n",
    "\n",
    "# create NUM_THREADS to do enqueue\n",
    "qr = tf.train.QueueRunner(queue, [enqueue_op] * NUM_THREADS)\n",
    "with tf.Session() as sess:\n",
    "    # create a coordinator, launch the queue runner threads.\n",
    "    coord = tf.train.Coordinator()\n",
    "    enqueue_threads = qr.create_threads(sess, coord=coord, start=True)\n",
    "    for step in range(100): # do to 100 iterations\n",
    "        if coord.should_stop():\n",
    "            break\n",
    "        data_batch, label_batch = sess.run([data_sample, label_sample])\n",
    "    coord.request_stop()\n",
    "    coord.join(enqueue_threads)"
   ]
  },
  {
   "cell_type": "code",
   "execution_count": 6,
   "metadata": {},
   "outputs": [
    {
     "data": {
      "text/plain": [
       "' Examples to demonstrate how to write an image file to a TFRecord,\\n    and how to read a TFRecord file using TFRecordReader.\\n'"
      ]
     },
     "execution_count": 6,
     "metadata": {},
     "output_type": "execute_result"
    }
   ],
   "source": [
    "\"\"\" Examples to demonstrate how to write an image file to a TFRecord,\n",
    "    and how to read a TFRecord file using TFRecordReader.\n",
    "\"\"\""
   ]
  },
  {
   "cell_type": "code",
   "execution_count": 7,
   "metadata": {},
   "outputs": [
    {
     "ename": "ImportError",
     "evalue": "No module named 'PIL'",
     "output_type": "error",
     "traceback": [
      "\u001b[1;31m---------------------------------------------------------------------------\u001b[0m",
      "\u001b[1;31mImportError\u001b[0m                               Traceback (most recent call last)",
      "\u001b[1;32m<ipython-input-7-39db9f6f7322>\u001b[0m in \u001b[0;36m<module>\u001b[1;34m()\u001b[0m\n\u001b[1;32m----> 1\u001b[1;33m \u001b[1;32mfrom\u001b[0m \u001b[0mPIL\u001b[0m \u001b[1;32mimport\u001b[0m \u001b[0mImage\u001b[0m\u001b[1;33m\u001b[0m\u001b[0m\n\u001b[0m\u001b[0;32m      2\u001b[0m \u001b[1;32mimport\u001b[0m \u001b[0mnumpy\u001b[0m \u001b[1;32mas\u001b[0m \u001b[0mnp\u001b[0m\u001b[1;33m\u001b[0m\u001b[0m\n\u001b[0;32m      3\u001b[0m \u001b[1;32mimport\u001b[0m \u001b[0mmatplotlib\u001b[0m\u001b[1;33m.\u001b[0m\u001b[0mpyplot\u001b[0m \u001b[1;32mas\u001b[0m \u001b[0mplt\u001b[0m\u001b[1;33m\u001b[0m\u001b[0m\n\u001b[0;32m      4\u001b[0m \u001b[1;32mimport\u001b[0m \u001b[0mtensorflow\u001b[0m \u001b[1;32mas\u001b[0m \u001b[0mtf\u001b[0m\u001b[1;33m\u001b[0m\u001b[0m\n",
      "\u001b[1;31mImportError\u001b[0m: No module named 'PIL'"
     ]
    }
   ],
   "source": [
    "from PIL import Image\n",
    "import numpy as np\n",
    "import matplotlib.pyplot as plt\n",
    "import tensorflow as tf"
   ]
  },
  {
   "cell_type": "code",
   "execution_count": null,
   "metadata": {
    "collapsed": true
   },
   "outputs": [],
   "source": [
    "# image supposed to have shape: 480 x 640 x 3 = 921600\n",
    "IMAGE_PATH = '/Users/Chip/data/misc/'\n",
    "\n",
    "def get_image_binary(filename):\n",
    "    \"\"\" You can read in the image using tensorflow too, but it's a drag\n",
    "        since you have to create graphs. It's much easier using Pillow and NumPy\n",
    "    \"\"\"\n",
    "    image = Image.open(filename)\n",
    "    image = np.asarray(image, np.uint8)\n",
    "    shape = np.array(image.shape, np.int32)\n",
    "    return shape.tobytes(), image.tobytes() # convert image to raw data bytes in the array.\n",
    "\n",
    "def write_to_tfrecord(label, shape, binary_image, tfrecord_file):\n",
    "    \"\"\" This example is to write a sample to TFRecord file. If you want to write\n",
    "    more samples, just use a loop.\n",
    "    \"\"\"\n",
    "    writer = tf.python_io.TFRecordWriter(tfrecord_file)\n",
    "    # write label, shape, and image content to the TFRecord file\n",
    "    example = tf.train.Example(features=tf.train.Features(feature={\n",
    "                'label': tf.train.Feature(bytes_list=tf.train.BytesList(value=[label])),\n",
    "                'shape': tf.train.Feature(bytes_list=tf.train.BytesList(value=[shape])),\n",
    "                'image': tf.train.Feature(bytes_list=tf.train.BytesList(value=[binary_image]))\n",
    "                }))\n",
    "    writer.write(example.SerializeToString())\n",
    "    writer.close()\n",
    "\n",
    "def write_tfrecord(label, image_file, tfrecord_file):\n",
    "    shape, binary_image = get_image_binary(image_file)\n",
    "    write_to_tfrecord(label, shape, binary_image, tfrecord_file)\n",
    "\n",
    "def read_from_tfrecord(filenames):\n",
    "    tfrecord_file_queue = tf.train.string_input_producer(filenames, name='queue')\n",
    "    reader = tf.TFRecordReader()\n",
    "    _, tfrecord_serialized = reader.read(tfrecord_file_queue)\n",
    "\n",
    "    # label and image are stored as bytes but could be stored as \n",
    "    # int64 or float64 values in a serialized tf.Example protobuf.\n",
    "    tfrecord_features = tf.parse_single_example(tfrecord_serialized,\n",
    "                        features={\n",
    "                            'label': tf.FixedLenFeature([], tf.string),\n",
    "                            'shape': tf.FixedLenFeature([], tf.string),\n",
    "                            'image': tf.FixedLenFeature([], tf.string),\n",
    "                        }, name='features')\n",
    "    # image was saved as uint8, so we have to decode as uint8.\n",
    "    image = tf.decode_raw(tfrecord_features['image'], tf.uint8)\n",
    "    shape = tf.decode_raw(tfrecord_features['shape'], tf.int32)\n",
    "    # the image tensor is flattened out, so we have to reconstruct the shape\n",
    "    image = tf.reshape(image, shape)\n",
    "    label = tf.cast(tfrecord_features['label'], tf.string)\n",
    "    return label, shape, image\n",
    "\n",
    "def read_tfrecord(tfrecord_file):\n",
    "    label, shape, image = read_from_tfrecord([tfrecord_file])\n",
    "\n",
    "    with tf.Session() as sess:\n",
    "        coord = tf.train.Coordinator()\n",
    "        threads = tf.train.start_queue_runners(coord=coord)\n",
    "        label, image, shape = sess.run([label, image, shape])\n",
    "        coord.request_stop()\n",
    "        coord.join(threads)\n",
    "\n",
    "    # plt.imshow(image)\n",
    "    # plt.show() \n",
    "\n",
    "def main():\n",
    "    # assume the image has the label Chihuahua. \n",
    "    # in practice, you'd want to use binary numbers for your labels to save space\n",
    "    label = 'friday' \n",
    "    image_file = IMAGE_PATH + 'friday.jpg'\n",
    "    tfrecord_file = IMAGE_PATH + 'friday.tfrecord'\n",
    "    write_tfrecord(label, image_file, tfrecord_file)\n",
    "    read_tfrecord(tfrecord_file)\n",
    "\n",
    "if __name__ == '__main__':\n",
    "    main()"
   ]
  }
 ],
 "metadata": {
  "kernelspec": {
   "display_name": "Python 3",
   "language": "python",
   "name": "python3"
  },
  "language_info": {
   "codemirror_mode": {
    "name": "ipython",
    "version": 3
   },
   "file_extension": ".py",
   "mimetype": "text/x-python",
   "name": "python",
   "nbconvert_exporter": "python",
   "pygments_lexer": "ipython3",
   "version": "3.5.0"
  }
 },
 "nbformat": 4,
 "nbformat_minor": 2
}
