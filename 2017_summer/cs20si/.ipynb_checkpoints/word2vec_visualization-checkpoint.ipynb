{
 "cells": [
  {
   "cell_type": "code",
   "execution_count": 1,
   "metadata": {
    "collapsed": true
   },
   "outputs": [],
   "source": [
    "from __future__ import absolute_import\n",
    "from __future__ import division\n",
    "from __future__ import print_function\n",
    "\n",
    "import os\n",
    "import numpy as np\n",
    "from tensorflow.contrib.tensorboard.plugins import projector\n",
    "import tensorflow as tf\n",
    "\n",
    "from process_data import process_data\n",
    "from wrap_functions import doublewrap\n",
    "from wrap_functions import define_scope"
   ]
  },
  {
   "cell_type": "code",
   "execution_count": 2,
   "metadata": {
    "collapsed": true
   },
   "outputs": [],
   "source": [
    "VOCAB_SIZE = 50000\n",
    "BATCH_SIZE = 128\n",
    "EMBED_SIZE = 128 # dimension of the word embedding vectors\n",
    "SKIP_WINDOW = 1 # the context window\n",
    "NUM_SAMPLED = 64 # Number of negative examples to sample\n",
    "LEARNING_RATE = 1.0\n",
    "NUM_TRAIN_STEPS = 500000\n",
    "WEIGHTS_FLD = 'processed/'\n",
    "SKIP_STEP = 2500"
   ]
  },
  {
   "cell_type": "code",
   "execution_count": 3,
   "metadata": {
    "collapsed": true
   },
   "outputs": [],
   "source": [
    "class SkipGramModel:\n",
    "    \"\"\" Build the graph for word2vec model \"\"\"\n",
    "    def __init__(self, vocab_size, embed_size, batch_size, num_sampled, learning_rate):\n",
    "        # config\n",
    "        self.vocab_size = vocab_size\n",
    "        self.embed_size = embed_size\n",
    "        self.batch_size = batch_size\n",
    "        self.num_sampled = num_sampled\n",
    "        self.learning_rate = learning_rate\n",
    "        \n",
    "        # ops\n",
    "        with tf.device('/gpu:0'):\n",
    "            self.global_step = tf.Variable(0, dtype=tf.int32, trainable=False, name='global_step')\n",
    "            self.create_placeholders()\n",
    "            \n",
    "            self.prediction\n",
    "            self.loss\n",
    "            self.optimize\n",
    "            self.summaries\n",
    "        \n",
    "    def create_placeholders(self):\n",
    "        with tf.name_scope('data'):\n",
    "            self.center_words = tf.placeholder(tf.int32, shape=[self.batch_size], name='center_words')\n",
    "            self.target_words = tf.placeholder(tf.int32, shape=[self.batch_size, 1], name='target_words')\n",
    "          \n",
    "    \n",
    "    @define_scope(scope='embed')\n",
    "    def prediction(self):\n",
    "        self.embed_matrix = tf.Variable(tf.random_uniform([self.vocab_size,\n",
    "                                                         self.embed_size], -1.0, 1.0),\n",
    "                                                         name='embed_matrix')\n",
    "        embed_predict = tf.nn.embedding_lookup(self.embed_matrix, self.center_words, name='embed_predict')\n",
    "        return embed_predict\n",
    "    \n",
    "    @define_scope\n",
    "    def loss(self):\n",
    "        nce_weight = tf.Variable(tf.truncated_normal([self.vocab_size, self.embed_size],\n",
    "                                                    stddev=1.0 / (self.embed_size ** 0.5)),\n",
    "                                                    name='nce_weight')\n",
    "        nce_bias = tf.Variable(tf.zeros([self.vocab_size]), name='nce_bias')\n",
    "        \n",
    "        loss = tf.reduce_mean(tf.nn.nce_loss(weights=nce_weight,\n",
    "                                            biases=nce_bias,\n",
    "                                            labels=self.target_words,\n",
    "                                            inputs=self.prediction,\n",
    "                                            num_sampled=self.num_sampled,\n",
    "                                            num_classes=self.vocab_size), name='nce_loss')\n",
    "        return loss\n",
    "    \n",
    "    @define_scope\n",
    "    def optimize(self):\n",
    "        optimizer = tf.train.GradientDescentOptimizer(self.learning_rate)\n",
    "        return optimizer.minimize(self.loss, global_step=self.global_step)\n",
    "    \n",
    "    @define_scope\n",
    "    def summaries(self):\n",
    "        tf.summary.scalar('loss', self.loss)\n",
    "        tf.summary.histogram('histogram_loss', self.loss)\n",
    "        return tf.summary.merge_all()"
   ]
  },
  {
   "cell_type": "code",
   "execution_count": 4,
   "metadata": {
    "collapsed": true
   },
   "outputs": [],
   "source": [
    "def train_model(model, batch_gen, num_train_steps, weights_fld):\n",
    "    saver = tf.train.Saver()\n",
    "    \n",
    "    initial_step = 0\n",
    "    \n",
    "    config = tf.ConfigProto()\n",
    "    config.gpu_options.allow_growth = True\n",
    "    config.allow_soft_placement = True\n",
    "#     init_op = tf.global_variables_initializer()\n",
    "    with tf.Session(config=config) as sess:\n",
    "        sess.run(tf.global_variables_initializer())\n",
    "        ckpt = tf.train.get_checkpoint_state(os.path.dirname('./checkpoints/checkpoint'))\n",
    "#         if ckpt and ckpt.model_checkpoint_path:\n",
    "#             saver.restore(sess, ckpt.model_checkpoint_path)\n",
    "            \n",
    "        total_loss = 0.0\n",
    "        writer = tf.summary.FileWriter('./improved_graph/lr' + str(LEARNING_RATE), sess.graph)\n",
    "        initial_step = model.global_step.eval()\n",
    "        for index in range(initial_step, initial_step + num_train_steps):\n",
    "            centers, targets = next(batch_gen)\n",
    "            feed_dict = {model.center_words: centers, model.target_words: targets}\n",
    "            loss_batch, _, summary = sess.run([model.loss, model.optimize, model.summaries],\n",
    "                                             feed_dict=feed_dict)\n",
    "            writer.add_summary(summary, global_step=index)\n",
    "            total_loss += loss_batch\n",
    "            if(index + 1) % SKIP_STEP == 0:\n",
    "                print('Average loss at step{}:{:5.1f}'.format(index, total_loss / SKIP_STEP))\n",
    "                total_loss = 0.0\n",
    "                saver.save(sess, './checkpoints/skip-gram', index)\n",
    "                \n",
    "        ####################\n",
    "        # code to visualize the embeddings. uncomment the below to visualize embeddings\n",
    "        final_embed_matrix = sess.run(model.embed_matrix)\n",
    "\n",
    "        # it has to variable. constants don't work here. you can't reuse model.embed_matrix\n",
    "        embedding_var = tf.Variable(final_embed_matrix[:1000], name='embedding')\n",
    "        sess.run(embedding_var.initializer)\n",
    "\n",
    "        config = projector.ProjectorConfig()\n",
    "        summary_writer = tf.summary.FileWriter('processed')\n",
    "\n",
    "        # add embedding to the config file\n",
    "        embedding = config.embeddings.add()\n",
    "        embedding.tensor_name = embedding_var.name\n",
    "\n",
    "        # link this tensor to its metadata file, in this case the first 500 words of vocab\n",
    "        embedding.metadata_path = 'processed/vocab_1000.tsv'\n",
    "\n",
    "        # saves a configuration file that TensorBoard will read during startup.\n",
    "        projector.visualize_embeddings(summary_writer, config)\n",
    "        saver_embed = tf.train.Saver([embedding_var])\n",
    "        saver_embed.save(sess, 'processed/model3.ckpt', 1)"
   ]
  },
  {
   "cell_type": "code",
   "execution_count": 7,
   "metadata": {},
   "outputs": [
    {
     "name": "stdout",
     "output_type": "stream",
     "text": [
      "\n",
      "Dataset ready\n",
      "<generator object get_batch at 0x7f812684c518>\n"
     ]
    }
   ],
   "source": [
    "def main():\n",
    "\n",
    "    model = SkipGramModel(VOCAB_SIZE, EMBED_SIZE, BATCH_SIZE, NUM_SAMPLED, LEARNING_RATE)\n",
    "    print()\n",
    "        \n",
    "    batch_gen = process_data(VOCAB_SIZE, BATCH_SIZE, SKIP_WINDOW)\n",
    "    print(next(batch_gen))\n",
    "#     train_model(model, batch_gen, NUM_TRAIN_STEPS, WEIGHTS_FLD)\n",
    "\n",
    "if __name__ == '__main__':\n",
    "    main()\n"
   ]
  },
  {
   "cell_type": "code",
   "execution_count": null,
   "metadata": {
    "collapsed": true
   },
   "outputs": [],
   "source": []
  }
 ],
 "metadata": {
  "kernelspec": {
   "display_name": "Python 3",
   "language": "python",
   "name": "python3"
  },
  "language_info": {
   "codemirror_mode": {
    "name": "ipython",
    "version": 3
   },
   "file_extension": ".py",
   "mimetype": "text/x-python",
   "name": "python",
   "nbconvert_exporter": "python",
   "pygments_lexer": "ipython3",
   "version": "3.5.3"
  }
 },
 "nbformat": 4,
 "nbformat_minor": 2
}
