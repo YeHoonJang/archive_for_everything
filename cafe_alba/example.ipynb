{
 "cells": [
  {
   "cell_type": "code",
   "execution_count": 1,
   "metadata": {},
   "outputs": [],
   "source": [
    "import pandas as pd"
   ]
  },
  {
   "cell_type": "code",
   "execution_count": 2,
   "metadata": {},
   "outputs": [],
   "source": [
    "df = pd.read_csv('SacramentocrimeJanuary2006.csv', encoding='ascii')"
   ]
  },
  {
   "cell_type": "code",
   "execution_count": 3,
   "metadata": {},
   "outputs": [
    {
     "data": {
      "text/html": [
       "<div>\n",
       "<style scoped>\n",
       "    .dataframe tbody tr th:only-of-type {\n",
       "        vertical-align: middle;\n",
       "    }\n",
       "\n",
       "    .dataframe tbody tr th {\n",
       "        vertical-align: top;\n",
       "    }\n",
       "\n",
       "    .dataframe thead th {\n",
       "        text-align: right;\n",
       "    }\n",
       "</style>\n",
       "<table border=\"1\" class=\"dataframe\">\n",
       "  <thead>\n",
       "    <tr style=\"text-align: right;\">\n",
       "      <th></th>\n",
       "      <th>cdatetime</th>\n",
       "      <th>address</th>\n",
       "      <th>district</th>\n",
       "      <th>beat</th>\n",
       "      <th>grid</th>\n",
       "      <th>crimedescr</th>\n",
       "      <th>ucr_ncic_code</th>\n",
       "      <th>latitude</th>\n",
       "      <th>longitude</th>\n",
       "    </tr>\n",
       "  </thead>\n",
       "  <tbody>\n",
       "    <tr>\n",
       "      <th>0</th>\n",
       "      <td>2001-01-06 0:00</td>\n",
       "      <td>3108 OCCIDENTAL DR</td>\n",
       "      <td>3</td>\n",
       "      <td>3C</td>\n",
       "      <td>1115</td>\n",
       "      <td>10851(A)VC TAKE VEH W/O OWNER</td>\n",
       "      <td>2404</td>\n",
       "      <td>38.550420</td>\n",
       "      <td>-121.391416</td>\n",
       "    </tr>\n",
       "    <tr>\n",
       "      <th>1</th>\n",
       "      <td>2001-01-06 0:00</td>\n",
       "      <td>2082 EXPEDITION WAY</td>\n",
       "      <td>5</td>\n",
       "      <td>5A</td>\n",
       "      <td>1512</td>\n",
       "      <td>459 PC  BURGLARY RESIDENCE</td>\n",
       "      <td>2204</td>\n",
       "      <td>38.473501</td>\n",
       "      <td>-121.490186</td>\n",
       "    </tr>\n",
       "    <tr>\n",
       "      <th>2</th>\n",
       "      <td>2001-01-06 0:00</td>\n",
       "      <td>4 PALEN CT</td>\n",
       "      <td>2</td>\n",
       "      <td>2A</td>\n",
       "      <td>212</td>\n",
       "      <td>10851(A)VC TAKE VEH W/O OWNER</td>\n",
       "      <td>2404</td>\n",
       "      <td>38.657846</td>\n",
       "      <td>-121.462101</td>\n",
       "    </tr>\n",
       "    <tr>\n",
       "      <th>3</th>\n",
       "      <td>2001-01-06 0:00</td>\n",
       "      <td>22 BECKFORD CT</td>\n",
       "      <td>6</td>\n",
       "      <td>6C</td>\n",
       "      <td>1443</td>\n",
       "      <td>476 PC PASS FICTICIOUS CHECK</td>\n",
       "      <td>2501</td>\n",
       "      <td>38.506774</td>\n",
       "      <td>-121.426951</td>\n",
       "    </tr>\n",
       "    <tr>\n",
       "      <th>4</th>\n",
       "      <td>2001-01-06 0:00</td>\n",
       "      <td>3421 AUBURN BLVD</td>\n",
       "      <td>2</td>\n",
       "      <td>2A</td>\n",
       "      <td>508</td>\n",
       "      <td>459 PC  BURGLARY-UNSPECIFIED</td>\n",
       "      <td>2299</td>\n",
       "      <td>38.637448</td>\n",
       "      <td>-121.384613</td>\n",
       "    </tr>\n",
       "  </tbody>\n",
       "</table>\n",
       "</div>"
      ],
      "text/plain": [
       "         cdatetime              address  district        beat  grid  \\\n",
       "0  2001-01-06 0:00   3108 OCCIDENTAL DR         3  3C          1115   \n",
       "1  2001-01-06 0:00  2082 EXPEDITION WAY         5  5A          1512   \n",
       "2  2001-01-06 0:00           4 PALEN CT         2  2A           212   \n",
       "3  2001-01-06 0:00       22 BECKFORD CT         6  6C          1443   \n",
       "4  2001-01-06 0:00     3421 AUBURN BLVD         2  2A           508   \n",
       "\n",
       "                      crimedescr  ucr_ncic_code   latitude   longitude  \n",
       "0  10851(A)VC TAKE VEH W/O OWNER           2404  38.550420 -121.391416  \n",
       "1     459 PC  BURGLARY RESIDENCE           2204  38.473501 -121.490186  \n",
       "2  10851(A)VC TAKE VEH W/O OWNER           2404  38.657846 -121.462101  \n",
       "3   476 PC PASS FICTICIOUS CHECK           2501  38.506774 -121.426951  \n",
       "4   459 PC  BURGLARY-UNSPECIFIED           2299  38.637448 -121.384613  "
      ]
     },
     "execution_count": 3,
     "metadata": {},
     "output_type": "execute_result"
    }
   ],
   "source": [
    "df.head()"
   ]
  },
  {
   "cell_type": "code",
   "execution_count": 5,
   "metadata": {},
   "outputs": [
    {
     "data": {
      "text/plain": [
       "Index(['cdatetime', 'address', 'district', 'beat', 'grid', 'crimedescr',\n",
       "       'ucr_ncic_code', 'latitude', 'longitude'],\n",
       "      dtype='object')"
      ]
     },
     "execution_count": 5,
     "metadata": {},
     "output_type": "execute_result"
    }
   ],
   "source": [
    "df.columns"
   ]
  },
  {
   "cell_type": "code",
   "execution_count": null,
   "metadata": {},
   "outputs": [],
   "source": [
    "df"
   ]
  },
  {
   "cell_type": "code",
   "execution_count": 5,
   "metadata": {},
   "outputs": [
    {
     "data": {
      "text/plain": [
       "dtype('int64')"
      ]
     },
     "execution_count": 5,
     "metadata": {},
     "output_type": "execute_result"
    }
   ],
   "source": [
    "df['grid'].dtype"
   ]
  },
  {
   "cell_type": "code",
   "execution_count": 6,
   "metadata": {},
   "outputs": [],
   "source": [
    "df['grid'] = df['grid'].astype(float)"
   ]
  },
  {
   "cell_type": "code",
   "execution_count": 7,
   "metadata": {},
   "outputs": [
    {
     "data": {
      "text/plain": [
       "dtype('float64')"
      ]
     },
     "execution_count": 7,
     "metadata": {},
     "output_type": "execute_result"
    }
   ],
   "source": [
    "df['grid'].dtype"
   ]
  },
  {
   "cell_type": "code",
   "execution_count": 11,
   "metadata": {},
   "outputs": [
    {
     "data": {
      "text/plain": [
       "array([1115., 1512.,  212., ...,  841.,  969., 1294.])"
      ]
     },
     "execution_count": 11,
     "metadata": {},
     "output_type": "execute_result"
    }
   ],
   "source": [
    "df['grid'].get_values()"
   ]
  },
  {
   "cell_type": "code",
   "execution_count": 16,
   "metadata": {
    "scrolled": true
   },
   "outputs": [
    {
     "data": {
      "text/plain": [
       "0    False\n",
       "1    False\n",
       "2     True\n",
       "3    False\n",
       "4     True\n",
       "5    False\n",
       "6     True\n",
       "7     True\n",
       "8     True\n",
       "9     True\n",
       "Name: grid, dtype: bool"
      ]
     },
     "execution_count": 16,
     "metadata": {},
     "output_type": "execute_result"
    }
   ],
   "source": [
    "(df['grid'] < 1000).head(10)"
   ]
  },
  {
   "cell_type": "code",
   "execution_count": 17,
   "metadata": {},
   "outputs": [
    {
     "data": {
      "text/html": [
       "<div>\n",
       "<style scoped>\n",
       "    .dataframe tbody tr th:only-of-type {\n",
       "        vertical-align: middle;\n",
       "    }\n",
       "\n",
       "    .dataframe tbody tr th {\n",
       "        vertical-align: top;\n",
       "    }\n",
       "\n",
       "    .dataframe thead th {\n",
       "        text-align: right;\n",
       "    }\n",
       "</style>\n",
       "<table border=\"1\" class=\"dataframe\">\n",
       "  <thead>\n",
       "    <tr style=\"text-align: right;\">\n",
       "      <th></th>\n",
       "      <th>cdatetime</th>\n",
       "      <th>address</th>\n",
       "      <th>district</th>\n",
       "      <th>beat</th>\n",
       "      <th>grid</th>\n",
       "      <th>crimedescr</th>\n",
       "      <th>ucr_ncic_code</th>\n",
       "      <th>latitude</th>\n",
       "      <th>longitude</th>\n",
       "    </tr>\n",
       "  </thead>\n",
       "  <tbody>\n",
       "    <tr>\n",
       "      <th>2</th>\n",
       "      <td>2001-01-06 0:00</td>\n",
       "      <td>4 PALEN CT</td>\n",
       "      <td>2</td>\n",
       "      <td>2A</td>\n",
       "      <td>212.0</td>\n",
       "      <td>10851(A)VC TAKE VEH W/O OWNER</td>\n",
       "      <td>2404</td>\n",
       "      <td>38.657846</td>\n",
       "      <td>-121.462101</td>\n",
       "    </tr>\n",
       "    <tr>\n",
       "      <th>4</th>\n",
       "      <td>2001-01-06 0:00</td>\n",
       "      <td>3421 AUBURN BLVD</td>\n",
       "      <td>2</td>\n",
       "      <td>2A</td>\n",
       "      <td>508.0</td>\n",
       "      <td>459 PC  BURGLARY-UNSPECIFIED</td>\n",
       "      <td>2299</td>\n",
       "      <td>38.637448</td>\n",
       "      <td>-121.384613</td>\n",
       "    </tr>\n",
       "    <tr>\n",
       "      <th>6</th>\n",
       "      <td>2001-01-06 0:00</td>\n",
       "      <td>2217 16TH AVE</td>\n",
       "      <td>4</td>\n",
       "      <td>4A</td>\n",
       "      <td>957.0</td>\n",
       "      <td>459 PC  BURGLARY VEHICLE</td>\n",
       "      <td>2299</td>\n",
       "      <td>38.537173</td>\n",
       "      <td>-121.487577</td>\n",
       "    </tr>\n",
       "    <tr>\n",
       "      <th>7</th>\n",
       "      <td>2001-01-06 0:00</td>\n",
       "      <td>3547 P ST</td>\n",
       "      <td>3</td>\n",
       "      <td>3C</td>\n",
       "      <td>853.0</td>\n",
       "      <td>484 PC   PETTY THEFT/INSIDE</td>\n",
       "      <td>2308</td>\n",
       "      <td>38.564335</td>\n",
       "      <td>-121.461883</td>\n",
       "    </tr>\n",
       "    <tr>\n",
       "      <th>8</th>\n",
       "      <td>2001-01-06 0:00</td>\n",
       "      <td>3421 AUBURN BLVD</td>\n",
       "      <td>2</td>\n",
       "      <td>2A</td>\n",
       "      <td>508.0</td>\n",
       "      <td>459 PC  BURGLARY BUSINESS</td>\n",
       "      <td>2203</td>\n",
       "      <td>38.637448</td>\n",
       "      <td>-121.384613</td>\n",
       "    </tr>\n",
       "    <tr>\n",
       "      <th>9</th>\n",
       "      <td>2001-01-06 0:00</td>\n",
       "      <td>1326 HELMSMAN WAY</td>\n",
       "      <td>1</td>\n",
       "      <td>1B</td>\n",
       "      <td>444.0</td>\n",
       "      <td>1708 US   THEFT OF MAIL</td>\n",
       "      <td>2310</td>\n",
       "      <td>38.609602</td>\n",
       "      <td>-121.491838</td>\n",
       "    </tr>\n",
       "    <tr>\n",
       "      <th>13</th>\n",
       "      <td>2001-01-06 0:00</td>\n",
       "      <td>7721 COLLEGE TOWN DR</td>\n",
       "      <td>3</td>\n",
       "      <td>3C</td>\n",
       "      <td>888.0</td>\n",
       "      <td>530.5 PC USE PERSONAL ID INFO</td>\n",
       "      <td>2604</td>\n",
       "      <td>38.556115</td>\n",
       "      <td>-121.414273</td>\n",
       "    </tr>\n",
       "    <tr>\n",
       "      <th>17</th>\n",
       "      <td>2001-01-06 0:00</td>\n",
       "      <td>547 L ST</td>\n",
       "      <td>3</td>\n",
       "      <td>3M</td>\n",
       "      <td>742.0</td>\n",
       "      <td>487(A) GRAND THEFT-INSIDE</td>\n",
       "      <td>2308</td>\n",
       "      <td>38.581846</td>\n",
       "      <td>-121.501166</td>\n",
       "    </tr>\n",
       "    <tr>\n",
       "      <th>21</th>\n",
       "      <td>2001-01-06 0:01</td>\n",
       "      <td>1896 ARDEN WAY</td>\n",
       "      <td>2</td>\n",
       "      <td>2C</td>\n",
       "      <td>628.0</td>\n",
       "      <td>484G(B) PC ACCESS CARD FRAUD</td>\n",
       "      <td>2605</td>\n",
       "      <td>38.596642</td>\n",
       "      <td>-121.423349</td>\n",
       "    </tr>\n",
       "    <tr>\n",
       "      <th>23</th>\n",
       "      <td>2001-01-06 0:01</td>\n",
       "      <td>415 SEXTANT WAY</td>\n",
       "      <td>2</td>\n",
       "      <td>2A</td>\n",
       "      <td>213.0</td>\n",
       "      <td>459 PC  BURGLARY VEHICLE</td>\n",
       "      <td>2299</td>\n",
       "      <td>38.656601</td>\n",
       "      <td>-121.456045</td>\n",
       "    </tr>\n",
       "  </tbody>\n",
       "</table>\n",
       "</div>"
      ],
      "text/plain": [
       "          cdatetime               address  district        beat   grid  \\\n",
       "2   2001-01-06 0:00            4 PALEN CT         2  2A          212.0   \n",
       "4   2001-01-06 0:00      3421 AUBURN BLVD         2  2A          508.0   \n",
       "6   2001-01-06 0:00         2217 16TH AVE         4  4A          957.0   \n",
       "7   2001-01-06 0:00             3547 P ST         3  3C          853.0   \n",
       "8   2001-01-06 0:00      3421 AUBURN BLVD         2  2A          508.0   \n",
       "9   2001-01-06 0:00     1326 HELMSMAN WAY         1  1B          444.0   \n",
       "13  2001-01-06 0:00  7721 COLLEGE TOWN DR         3  3C          888.0   \n",
       "17  2001-01-06 0:00              547 L ST         3  3M          742.0   \n",
       "21  2001-01-06 0:01        1896 ARDEN WAY         2  2C          628.0   \n",
       "23  2001-01-06 0:01       415 SEXTANT WAY         2  2A          213.0   \n",
       "\n",
       "                       crimedescr  ucr_ncic_code   latitude   longitude  \n",
       "2   10851(A)VC TAKE VEH W/O OWNER           2404  38.657846 -121.462101  \n",
       "4    459 PC  BURGLARY-UNSPECIFIED           2299  38.637448 -121.384613  \n",
       "6        459 PC  BURGLARY VEHICLE           2299  38.537173 -121.487577  \n",
       "7     484 PC   PETTY THEFT/INSIDE           2308  38.564335 -121.461883  \n",
       "8       459 PC  BURGLARY BUSINESS           2203  38.637448 -121.384613  \n",
       "9         1708 US   THEFT OF MAIL           2310  38.609602 -121.491838  \n",
       "13  530.5 PC USE PERSONAL ID INFO           2604  38.556115 -121.414273  \n",
       "17      487(A) GRAND THEFT-INSIDE           2308  38.581846 -121.501166  \n",
       "21   484G(B) PC ACCESS CARD FRAUD           2605  38.596642 -121.423349  \n",
       "23       459 PC  BURGLARY VEHICLE           2299  38.656601 -121.456045  "
      ]
     },
     "execution_count": 17,
     "metadata": {},
     "output_type": "execute_result"
    }
   ],
   "source": [
    "df[df['grid'] < 1000].head(10)"
   ]
  },
  {
   "cell_type": "code",
   "execution_count": 20,
   "metadata": {},
   "outputs": [
    {
     "data": {
      "text/plain": [
       "2     212.0\n",
       "4     508.0\n",
       "6     957.0\n",
       "7     853.0\n",
       "8     508.0\n",
       "9     444.0\n",
       "13    888.0\n",
       "17    742.0\n",
       "21    628.0\n",
       "23    213.0\n",
       "Name: grid, dtype: float64"
      ]
     },
     "execution_count": 20,
     "metadata": {},
     "output_type": "execute_result"
    }
   ],
   "source": [
    "df[df['grid'] < 1000].head(10)['grid']"
   ]
  },
  {
   "cell_type": "code",
   "execution_count": null,
   "metadata": {},
   "outputs": [],
   "source": []
  }
 ],
 "metadata": {
  "colab": {
   "name": "Untitled0.ipynb",
   "provenance": [],
   "version": "0.3.2"
  },
  "kernelspec": {
   "display_name": "Python 3",
   "language": "python",
   "name": "python3"
  },
  "language_info": {
   "codemirror_mode": {
    "name": "ipython",
    "version": 3
   },
   "file_extension": ".py",
   "mimetype": "text/x-python",
   "name": "python",
   "nbconvert_exporter": "python",
   "pygments_lexer": "ipython3",
   "version": "3.7.3"
  }
 },
 "nbformat": 4,
 "nbformat_minor": 1
}
