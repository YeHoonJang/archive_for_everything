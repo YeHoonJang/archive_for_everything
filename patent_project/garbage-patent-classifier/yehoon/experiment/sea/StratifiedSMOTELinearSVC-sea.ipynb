{
 "cells": [
  {
   "cell_type": "code",
   "execution_count": 1,
   "metadata": {
    "collapsed": true
   },
   "outputs": [],
   "source": [
    "from collections import Counter\n",
    "from imblearn.over_sampling import SMOTE\n",
    "from sklearn import tree\n",
    "from sklearn.model_selection import StratifiedShuffleSplit, StratifiedKFold\n",
    "from sklearn import metrics\n",
    "import pandas as pd\n",
    "import numpy as np\n",
    "from matplotlib import pyplot as plt\n",
    "from sklearn.linear_model import SGDClassifier\n",
    "from sklearn import svm"
   ]
  },
  {
   "cell_type": "code",
   "execution_count": 2,
   "metadata": {
    "collapsed": true
   },
   "outputs": [],
   "source": [
    "df = pd.read_csv(\"../../data/sea/dataset.csv\")\n",
    "df_1 = df.drop('title', axis=1)\n",
    "df_1 = df_1.drop('abstract', axis=1)\n",
    "df = df_1.drop('claim', axis=1)"
   ]
  },
  {
   "cell_type": "code",
   "execution_count": 3,
   "metadata": {},
   "outputs": [
    {
     "name": "stdout",
     "output_type": "stream",
     "text": [
      "(1905, 5566) (1905,)\n"
     ]
    }
   ],
   "source": [
    "x = df.loc[:, df.columns!='valid_patent'].astype(str)\n",
    "y = df['valid_patent'].astype(int)\n",
    "print(x.shape, y.shape)"
   ]
  },
  {
   "cell_type": "code",
   "execution_count": 4,
   "metadata": {
    "collapsed": true
   },
   "outputs": [],
   "source": [
    "x = np.array(x)\n",
    "y = np.array(y)\n",
    "def count_values(x):\n",
    "    unique, counts = np.unique(x, return_counts=True)\n",
    "    return dict(zip(unique, counts))"
   ]
  },
  {
   "cell_type": "code",
   "execution_count": 6,
   "metadata": {
    "scrolled": false
   },
   "outputs": [
    {
     "name": "stdout",
     "output_type": "stream",
     "text": [
      "\n",
      "Accuracy: 0.75\n",
      "Precision: 0.02\n",
      "Recall: 0.33\n",
      "F1-score: 0.04\n",
      "===============================\n",
      "\n",
      "\n",
      "Accuracy: 0.72\n",
      "Precision: 0.02\n",
      "Recall: 0.44\n",
      "F1-score: 0.05\n",
      "===============================\n",
      "\n",
      "\n",
      "Accuracy: 0.85\n",
      "Precision: 0.04\n",
      "Recall: 0.33\n",
      "F1-score: 0.06\n",
      "===============================\n",
      "\n",
      "\n",
      "Accuracy: 0.77\n",
      "Precision: 0.02\n",
      "Recall: 0.22\n",
      "F1-score: 0.03\n",
      "===============================\n",
      "\n",
      "\n",
      "Accuracy: 0.71\n",
      "Precision: 0.02\n",
      "Recall: 0.44\n",
      "F1-score: 0.05\n",
      "===============================\n",
      "\n",
      "\n",
      "Accuracy: 0.85\n",
      "Precision: 0.01\n",
      "Recall: 0.11\n",
      "F1-score: 0.02\n",
      "===============================\n",
      "\n",
      "\n",
      "Accuracy: 0.88\n",
      "Precision: 0.06\n",
      "Recall: 0.44\n",
      "F1-score: 0.10\n",
      "===============================\n",
      "\n",
      "\n",
      "Accuracy: 0.88\n",
      "Precision: 0.03\n",
      "Recall: 0.22\n",
      "F1-score: 0.06\n",
      "===============================\n",
      "\n",
      "\n",
      "Accuracy: 0.71\n",
      "Precision: 0.04\n",
      "Recall: 0.67\n",
      "F1-score: 0.07\n",
      "===============================\n",
      "\n",
      "\n",
      "Accuracy: 0.87\n",
      "Precision: 0.04\n",
      "Recall: 0.33\n",
      "F1-score: 0.08\n",
      "===============================\n",
      "\n",
      "Accuracy: 0.80\n",
      "Precision: 0.03\n",
      "Recall: 0.36\n",
      "F1-score: 0.06\n",
      "*************************\n"
     ]
    }
   ],
   "source": [
    "# for i in range(1,100):\n",
    "\n",
    "total_accuracy = 0\n",
    "total_precision = 0\n",
    "total_recall = 0\n",
    "total_f1 = 0\n",
    "\n",
    "# splits = i\n",
    "splits = 10\n",
    "\n",
    "skf = StratifiedShuffleSplit(n_splits=splits, random_state=42, test_size=0.3)\n",
    "\n",
    "for train_index, test_index in skf.split(x, y):\n",
    "#     print(\"TRAIN:\", train_index[:15], \"\\nTEST:\", test_index[:15])    \n",
    "    x_train, x_test = x[train_index], x[test_index]\n",
    "    y_train, y_test = y[train_index], y[test_index]\n",
    "#     print(\"x_train: \", count_values(x_train), \"x_test: \", count_values(x_test))\n",
    "#         print(\"y_train: \", count_values(y_train), \", y_test: \", count_values(y_test))\n",
    "\n",
    "#         print('\\nOriginal dataset shape {}'.format(Counter(y_train)))\n",
    "    sm = SMOTE(random_state=42)\n",
    "    x_res , y_res = sm.fit_sample(x_train, y_train)\n",
    "#         print('Resampled dataset shape {}'.format(Counter(y_res)))\n",
    "\n",
    "    from sklearn.svm import LinearSVC\n",
    "    from sklearn.calibration import CalibratedClassifierCV\n",
    "\n",
    "    svc = CalibratedClassifierCV(base_estimator=LinearSVC(penalty='l2', dual=False), cv=5)\n",
    "    svc.fit(x_res, y_res)\n",
    "\n",
    "\n",
    "    y_pred_tr = svc.predict(x_test)\n",
    "\n",
    "    accuracy = metrics.accuracy_score(y_test, y_pred_tr)\n",
    "    total_accuracy += float(accuracy)\n",
    "\n",
    "    precision = metrics.precision_score(y_test, y_pred_tr)\n",
    "    total_precision += float(precision)\n",
    "\n",
    "    recall = metrics.recall_score(y_test, y_pred_tr)\n",
    "    total_recall += float(recall)\n",
    "\n",
    "    f1_score = metrics.f1_score(y_test, y_pred_tr)\n",
    "    total_f1 += float(f1_score)\n",
    "\n",
    "#     if i % 10 == 0:\n",
    "    print('\\nAccuracy: %.2f' % accuracy)\n",
    "    print('Precision: %.2f' % precision)\n",
    "    print('Recall: %.2f' % recall)\n",
    "    print('F1-score: %.2f' % f1_score)\n",
    "#     print('Accuracy: %.2f' % metrics.accuracy_score(y_test, y_pred_tr))\n",
    "    print('===============================\\n')\n",
    "\n",
    "# print('\\n**'+str(i)+' splits Averge Score**')\n",
    "print('Accuracy: %.2f' % (total_accuracy/splits))\n",
    "print('Precision: %.2f' % (total_precision/splits))\n",
    "print('Recall: %.2f' % (total_recall/splits))\n",
    "print('F1-score: %.2f' % (total_f1/splits))\n",
    "print('*************************')"
   ]
  },
  {
   "cell_type": "code",
   "execution_count": null,
   "metadata": {
    "collapsed": true
   },
   "outputs": [],
   "source": []
  }
 ],
 "metadata": {
  "kernelspec": {
   "display_name": "Python 3",
   "language": "python",
   "name": "python3"
  },
  "language_info": {
   "codemirror_mode": {
    "name": "ipython",
    "version": 3
   },
   "file_extension": ".py",
   "mimetype": "text/x-python",
   "name": "python",
   "nbconvert_exporter": "python",
   "pygments_lexer": "ipython3",
   "version": "3.6.3"
  }
 },
 "nbformat": 4,
 "nbformat_minor": 2
}
