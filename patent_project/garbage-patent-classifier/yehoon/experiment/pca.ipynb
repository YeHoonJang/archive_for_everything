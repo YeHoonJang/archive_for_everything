{
 "cells": [
  {
   "cell_type": "code",
   "execution_count": 4,
   "metadata": {
    "collapsed": true
   },
   "outputs": [],
   "source": [
    "import pandas as pd"
   ]
  },
  {
   "cell_type": "code",
   "execution_count": 5,
   "metadata": {},
   "outputs": [
    {
     "data": {
      "text/html": [
       "<div>\n",
       "<style>\n",
       "    .dataframe thead tr:only-child th {\n",
       "        text-align: right;\n",
       "    }\n",
       "\n",
       "    .dataframe thead th {\n",
       "        text-align: left;\n",
       "    }\n",
       "\n",
       "    .dataframe tbody tr th {\n",
       "        vertical-align: top;\n",
       "    }\n",
       "</style>\n",
       "<table border=\"1\" class=\"dataframe\">\n",
       "  <thead>\n",
       "    <tr style=\"text-align: right;\">\n",
       "      <th></th>\n",
       "      <th>index</th>\n",
       "      <th>patent_kind</th>\n",
       "      <th>title</th>\n",
       "      <th>abstract</th>\n",
       "      <th>claim</th>\n",
       "      <th>n_claim</th>\n",
       "      <th>application_id</th>\n",
       "      <th>application_date</th>\n",
       "      <th>published_grant_id</th>\n",
       "      <th>published_date</th>\n",
       "      <th>...</th>\n",
       "      <th>wu-hsiung wu</th>\n",
       "      <th>xogen power inc.</th>\n",
       "      <th>xogen technologies inc.</th>\n",
       "      <th>yamaha corporation</th>\n",
       "      <th>yiutak leung</th>\n",
       "      <th>yoshino gypsum co., ltd.</th>\n",
       "      <th>yuyun shang</th>\n",
       "      <th>ze chen</th>\n",
       "      <th>zodiac pool systems, inc.</th>\n",
       "      <th>zurn industries, inc.</th>\n",
       "    </tr>\n",
       "  </thead>\n",
       "  <tbody>\n",
       "    <tr>\n",
       "      <th>0</th>\n",
       "      <td>0</td>\n",
       "      <td>3</td>\n",
       "      <td>Turboengine water wash system</td>\n",
       "      <td>A system for cleaning gas turbine engines is d...</td>\n",
       "      <td>1. An apparatus for cleaning wing mounted gas ...</td>\n",
       "      <td>64</td>\n",
       "      <td>767</td>\n",
       "      <td>20061222</td>\n",
       "      <td>20080149141</td>\n",
       "      <td>20080626</td>\n",
       "      <td>...</td>\n",
       "      <td>0.0</td>\n",
       "      <td>0.0</td>\n",
       "      <td>0.0</td>\n",
       "      <td>0.0</td>\n",
       "      <td>0.0</td>\n",
       "      <td>0.0</td>\n",
       "      <td>0.0</td>\n",
       "      <td>0.0</td>\n",
       "      <td>0.0</td>\n",
       "      <td>0.0</td>\n",
       "    </tr>\n",
       "    <tr>\n",
       "      <th>1</th>\n",
       "      <td>1</td>\n",
       "      <td>1</td>\n",
       "      <td>TREATMENT OF TAILINGS WITH DEIONIZED SILICATE ...</td>\n",
       "      <td>A process for treating a tailings stream compr...</td>\n",
       "      <td>1. A process for treating a tailings stream co...</td>\n",
       "      <td>20</td>\n",
       "      <td>1271</td>\n",
       "      <td>20130321</td>\n",
       "      <td>20140007795</td>\n",
       "      <td>20140109</td>\n",
       "      <td>...</td>\n",
       "      <td>0.0</td>\n",
       "      <td>0.0</td>\n",
       "      <td>0.0</td>\n",
       "      <td>0.0</td>\n",
       "      <td>0.0</td>\n",
       "      <td>0.0</td>\n",
       "      <td>0.0</td>\n",
       "      <td>0.0</td>\n",
       "      <td>0.0</td>\n",
       "      <td>0.0</td>\n",
       "    </tr>\n",
       "    <tr>\n",
       "      <th>2</th>\n",
       "      <td>2</td>\n",
       "      <td>1</td>\n",
       "      <td>Method And Apparatus For Treating Tailings Usi...</td>\n",
       "      <td>There is a method described of treating tailin...</td>\n",
       "      <td>1. A method of treating tailings having a comb...</td>\n",
       "      <td>18</td>\n",
       "      <td>1260</td>\n",
       "      <td>20130213</td>\n",
       "      <td>20140008229</td>\n",
       "      <td>20140109</td>\n",
       "      <td>...</td>\n",
       "      <td>0.0</td>\n",
       "      <td>0.0</td>\n",
       "      <td>0.0</td>\n",
       "      <td>0.0</td>\n",
       "      <td>0.0</td>\n",
       "      <td>0.0</td>\n",
       "      <td>0.0</td>\n",
       "      <td>0.0</td>\n",
       "      <td>0.0</td>\n",
       "      <td>0.0</td>\n",
       "    </tr>\n",
       "    <tr>\n",
       "      <th>3</th>\n",
       "      <td>3</td>\n",
       "      <td>1</td>\n",
       "      <td>METHOD FOR STABILIZING WASTE AND HAZARDOUS WASTE</td>\n",
       "      <td>The invention provides a process for stabilizi...</td>\n",
       "      <td>1. A method for stabilizing hazardous waste, c...</td>\n",
       "      <td>20</td>\n",
       "      <td>1261</td>\n",
       "      <td>20130214</td>\n",
       "      <td>20140005461</td>\n",
       "      <td>20140102</td>\n",
       "      <td>...</td>\n",
       "      <td>0.0</td>\n",
       "      <td>0.0</td>\n",
       "      <td>0.0</td>\n",
       "      <td>0.0</td>\n",
       "      <td>0.0</td>\n",
       "      <td>0.0</td>\n",
       "      <td>0.0</td>\n",
       "      <td>0.0</td>\n",
       "      <td>0.0</td>\n",
       "      <td>0.0</td>\n",
       "    </tr>\n",
       "    <tr>\n",
       "      <th>4</th>\n",
       "      <td>4</td>\n",
       "      <td>3</td>\n",
       "      <td>Water treatment process and plant using ballas...</td>\n",
       "      <td>A method for treating wastewater using a balla...</td>\n",
       "      <td>1. A method of treating wastewater including: ...</td>\n",
       "      <td>18</td>\n",
       "      <td>979</td>\n",
       "      <td>20071226</td>\n",
       "      <td>20100096335</td>\n",
       "      <td>20100422</td>\n",
       "      <td>...</td>\n",
       "      <td>0.0</td>\n",
       "      <td>0.0</td>\n",
       "      <td>0.0</td>\n",
       "      <td>0.0</td>\n",
       "      <td>0.0</td>\n",
       "      <td>0.0</td>\n",
       "      <td>0.0</td>\n",
       "      <td>0.0</td>\n",
       "      <td>0.0</td>\n",
       "      <td>0.0</td>\n",
       "    </tr>\n",
       "  </tbody>\n",
       "</table>\n",
       "<p>5 rows × 5570 columns</p>\n",
       "</div>"
      ],
      "text/plain": [
       "   index  patent_kind                                              title  \\\n",
       "0      0            3                      Turboengine water wash system   \n",
       "1      1            1  TREATMENT OF TAILINGS WITH DEIONIZED SILICATE ...   \n",
       "2      2            1  Method And Apparatus For Treating Tailings Usi...   \n",
       "3      3            1   METHOD FOR STABILIZING WASTE AND HAZARDOUS WASTE   \n",
       "4      4            3  Water treatment process and plant using ballas...   \n",
       "\n",
       "                                            abstract  \\\n",
       "0  A system for cleaning gas turbine engines is d...   \n",
       "1  A process for treating a tailings stream compr...   \n",
       "2  There is a method described of treating tailin...   \n",
       "3  The invention provides a process for stabilizi...   \n",
       "4  A method for treating wastewater using a balla...   \n",
       "\n",
       "                                               claim  n_claim  application_id  \\\n",
       "0  1. An apparatus for cleaning wing mounted gas ...       64             767   \n",
       "1  1. A process for treating a tailings stream co...       20            1271   \n",
       "2  1. A method of treating tailings having a comb...       18            1260   \n",
       "3  1. A method for stabilizing hazardous waste, c...       20            1261   \n",
       "4  1. A method of treating wastewater including: ...       18             979   \n",
       "\n",
       "   application_date  published_grant_id  published_date  \\\n",
       "0          20061222         20080149141        20080626   \n",
       "1          20130321         20140007795        20140109   \n",
       "2          20130213         20140008229        20140109   \n",
       "3          20130214         20140005461        20140102   \n",
       "4          20071226         20100096335        20100422   \n",
       "\n",
       "           ...            wu-hsiung wu  xogen power inc.  \\\n",
       "0          ...                     0.0               0.0   \n",
       "1          ...                     0.0               0.0   \n",
       "2          ...                     0.0               0.0   \n",
       "3          ...                     0.0               0.0   \n",
       "4          ...                     0.0               0.0   \n",
       "\n",
       "   xogen technologies inc.  yamaha corporation  yiutak leung  \\\n",
       "0                      0.0                 0.0           0.0   \n",
       "1                      0.0                 0.0           0.0   \n",
       "2                      0.0                 0.0           0.0   \n",
       "3                      0.0                 0.0           0.0   \n",
       "4                      0.0                 0.0           0.0   \n",
       "\n",
       "   yoshino gypsum co., ltd.  yuyun shang  ze chen  zodiac pool systems, inc.  \\\n",
       "0                       0.0          0.0      0.0                        0.0   \n",
       "1                       0.0          0.0      0.0                        0.0   \n",
       "2                       0.0          0.0      0.0                        0.0   \n",
       "3                       0.0          0.0      0.0                        0.0   \n",
       "4                       0.0          0.0      0.0                        0.0   \n",
       "\n",
       "   zurn industries, inc.  \n",
       "0                    0.0  \n",
       "1                    0.0  \n",
       "2                    0.0  \n",
       "3                    0.0  \n",
       "4                    0.0  \n",
       "\n",
       "[5 rows x 5570 columns]"
      ]
     },
     "execution_count": 5,
     "metadata": {},
     "output_type": "execute_result"
    }
   ],
   "source": [
    "df = pd.read_csv('data/dataset.csv')\n",
    "df.head()"
   ]
  },
  {
   "cell_type": "code",
   "execution_count": 27,
   "metadata": {
    "collapsed": true
   },
   "outputs": [],
   "source": [
    "df_1 = df.drop('title', axis=1)\n",
    "df_1 = df_1.drop('abstract', axis=1)\n",
    "df_1 = df_1.drop('claim', axis=1)"
   ]
  },
  {
   "cell_type": "code",
   "execution_count": 28,
   "metadata": {},
   "outputs": [
    {
     "name": "stdout",
     "output_type": "stream",
     "text": [
      "(1905, 5566) (1905, 1)\n"
     ]
    }
   ],
   "source": [
    "X = df_1.loc[:, df_1.columns!='valid_patent'].astype(str)\n",
    "Y = df[['valid_patent']].astype(int).astype(str)\n",
    "print(X.shape, y.shape)"
   ]
  },
  {
   "cell_type": "code",
   "execution_count": 29,
   "metadata": {},
   "outputs": [],
   "source": [
    "from sklearn.preprocessing import StandardScaler\n",
    "x_std = StandardScaler().fit_transform(X)"
   ]
  },
  {
   "cell_type": "code",
   "execution_count": 30,
   "metadata": {},
   "outputs": [
    {
     "data": {
      "text/plain": [
       "array([[-1.73114183,  1.99044979, -0.02382361, ..., -0.03971507,\n",
       "        -0.02291746, -0.0324187 ],\n",
       "       [-1.72932341, -0.42471381, -0.08880554, ..., -0.03971507,\n",
       "        -0.02291746, -0.0324187 ],\n",
       "       [-1.72750498, -0.42471381, -0.09175926, ..., -0.03971507,\n",
       "        -0.02291746, -0.0324187 ],\n",
       "       ..., \n",
       "       [ 1.72750498, -1.63229561, -0.11391219, ..., -0.03971507,\n",
       "        -0.02291746, -0.0324187 ],\n",
       "       [ 1.72932341, -1.63229561, -0.08880554, ..., -0.03971507,\n",
       "        -0.02291746, -0.0324187 ],\n",
       "       [ 1.73114183, -1.63229561, -0.08437495, ..., -0.03971507,\n",
       "        -0.02291746, -0.0324187 ]])"
      ]
     },
     "execution_count": 30,
     "metadata": {},
     "output_type": "execute_result"
    }
   ],
   "source": [
    "x_std"
   ]
  },
  {
   "cell_type": "code",
   "execution_count": 40,
   "metadata": {},
   "outputs": [],
   "source": [
    "from sklearn import decomposition\n",
    "import matplotlib.pyplot as plt\n",
    "import seaborn as sns\n",
    "%matplotlib inline\n",
    "\n",
    "pca = decomposition.PCA(n_components=1)\n",
    "sklearn_pca_x = pca.fit_transform(x_std)"
   ]
  },
  {
   "cell_type": "code",
   "execution_count": 41,
   "metadata": {
    "collapsed": true
   },
   "outputs": [],
   "source": [
    "sklearn_result = pd.DataFrame(sklearn_pca_x, columns=['PC1'])\n",
    "sklearn_result['y-axis'] = 0.0\n",
    "sklearn_result['label'] = Y"
   ]
  },
  {
   "cell_type": "code",
   "execution_count": 46,
   "metadata": {},
   "outputs": [
    {
     "data": {
      "text/plain": [
       "Text(0.5,1,'PCA result')"
      ]
     },
     "execution_count": 46,
     "metadata": {},
     "output_type": "execute_result"
    },
    {
     "data": {
      "image/png": "[encoded data removed]",
      "text/plain": [
       "<matplotlib.figure.Figure at 0x7fa912d4dc18>"
      ]
     },
     "metadata": {},
     "output_type": "display_data"
    }
   ],
   "source": [
    "sns.lmplot('PC1', 'y-axis', data=sklearn_result, fit_reg=False, \n",
    "          scatter_kws={\"s\": 100}, hue='label')\n",
    "plt.title('PCA result')"
   ]
  },
  {
   "cell_type": "code",
   "execution_count": null,
   "metadata": {
    "collapsed": true
   },
   "outputs": [],
   "source": []
  }
 ],
 "metadata": {
  "kernelspec": {
   "display_name": "Python 3",
   "language": "python",
   "name": "python3"
  },
  "language_info": {
   "codemirror_mode": {
    "name": "ipython",
    "version": 3
   },
   "file_extension": ".py",
   "mimetype": "text/x-python",
   "name": "python",
   "nbconvert_exporter": "python",
   "pygments_lexer": "ipython3",
   "version": "3.6.3"
  }
 },
 "nbformat": 4,
 "nbformat_minor": 2
}
