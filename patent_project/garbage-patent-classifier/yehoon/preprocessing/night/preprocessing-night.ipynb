{
 "cells": [
  {
   "cell_type": "code",
   "execution_count": 40,
   "metadata": {
    "collapsed": true
   },
   "outputs": [],
   "source": [
    "import pandas as pd\n",
    "import numpy as np\n",
    "from sklearn.preprocessing import LabelEncoder"
   ]
  },
  {
   "cell_type": "markdown",
   "metadata": {},
   "source": [
    "### raw data 와 valid data 개요"
   ]
  },
  {
   "cell_type": "code",
   "execution_count": 41,
   "metadata": {},
   "outputs": [
    {
     "name": "stdout",
     "output_type": "stream",
     "text": [
      "(1236, 37)\n"
     ]
    },
    {
     "data": {
      "text/html": [
       "<div>\n",
       "<style>\n",
       "    .dataframe thead tr:only-child th {\n",
       "        text-align: right;\n",
       "    }\n",
       "\n",
       "    .dataframe thead th {\n",
       "        text-align: left;\n",
       "    }\n",
       "\n",
       "    .dataframe tbody tr th {\n",
       "        vertical-align: top;\n",
       "    }\n",
       "</style>\n",
       "<table border=\"1\" class=\"dataframe\">\n",
       "  <thead>\n",
       "    <tr style=\"text-align: right;\">\n",
       "      <th></th>\n",
       "      <th>국가코드</th>\n",
       "      <th>DB종류</th>\n",
       "      <th>특허/실용 구분</th>\n",
       "      <th>문헌종류 코드</th>\n",
       "      <th>발명의 명칭</th>\n",
       "      <th>요약</th>\n",
       "      <th>대표청구항</th>\n",
       "      <th>청구항 수</th>\n",
       "      <th>출원번호</th>\n",
       "      <th>출원일</th>\n",
       "      <th>...</th>\n",
       "      <th>Original CPC Main</th>\n",
       "      <th>Original CPC All</th>\n",
       "      <th>Original IPC Main</th>\n",
       "      <th>Original IPC All</th>\n",
       "      <th>Original US Class Main[US]</th>\n",
       "      <th>Original US Class All[US]</th>\n",
       "      <th>Original FI[JP]</th>\n",
       "      <th>Original F-term[JP]</th>\n",
       "      <th>Original Theme Code [JP]</th>\n",
       "      <th>WIPS ON key</th>\n",
       "    </tr>\n",
       "  </thead>\n",
       "  <tbody>\n",
       "    <tr>\n",
       "      <th>0</th>\n",
       "      <td>US</td>\n",
       "      <td>US</td>\n",
       "      <td>P</td>\n",
       "      <td>A1</td>\n",
       "      <td>Non ionic/electrolyte, liquid/gaseous, mechani...</td>\n",
       "      <td>The variable hydraulic press and distillation ...</td>\n",
       "      <td>1. A cool complete vacuum draws any one partic...</td>\n",
       "      <td>4</td>\n",
       "      <td>13/689789</td>\n",
       "      <td>2012-11-30</td>\n",
       "      <td>...</td>\n",
       "      <td>B23P-0013/00</td>\n",
       "      <td>B23P-0013/00</td>\n",
       "      <td>B23P-013/00</td>\n",
       "      <td>B23P-013/00</td>\n",
       "      <td>029/592</td>\n",
       "      <td>029/592</td>\n",
       "      <td>NaN</td>\n",
       "      <td>NaN</td>\n",
       "      <td>NaN</td>\n",
       "      <td>5.414020e+12</td>\n",
       "    </tr>\n",
       "    <tr>\n",
       "      <th>1</th>\n",
       "      <td>US</td>\n",
       "      <td>US</td>\n",
       "      <td>P</td>\n",
       "      <td>A1</td>\n",
       "      <td>METHOD AND SYSTEM FOR RECOGNIZING SPACE OF SHO...</td>\n",
       "      <td>Disclosed herein are a method and a system for...</td>\n",
       "      <td>1. A method of recognizing a space of a road s...</td>\n",
       "      <td>18</td>\n",
       "      <td>13/710196</td>\n",
       "      <td>2012-12-10</td>\n",
       "      <td>...</td>\n",
       "      <td>G01S-0013/867</td>\n",
       "      <td>G01S-0013/867 | G01S-0013/862</td>\n",
       "      <td>G01S-013/86</td>\n",
       "      <td>G01S-013/86</td>\n",
       "      <td>342/052</td>\n",
       "      <td>342/052 | 342/070</td>\n",
       "      <td>NaN</td>\n",
       "      <td>NaN</td>\n",
       "      <td>NaN</td>\n",
       "      <td>5.414020e+12</td>\n",
       "    </tr>\n",
       "    <tr>\n",
       "      <th>2</th>\n",
       "      <td>US</td>\n",
       "      <td>US</td>\n",
       "      <td>P</td>\n",
       "      <td>B2</td>\n",
       "      <td>Enhanced road vision on full windshield head-u...</td>\n",
       "      <td>A method to selectively project graphical imag...</td>\n",
       "      <td>1. Method to selectively project graphical ima...</td>\n",
       "      <td>17</td>\n",
       "      <td>12/487926</td>\n",
       "      <td>2009-06-19</td>\n",
       "      <td>...</td>\n",
       "      <td>NaN</td>\n",
       "      <td>NaN</td>\n",
       "      <td>B60Q-001/00</td>\n",
       "      <td>B60Q-001/00 | G08G-001/16</td>\n",
       "      <td>340/461</td>\n",
       "      <td>340/461 | 340/435 | 340/436 | 340/905</td>\n",
       "      <td>NaN</td>\n",
       "      <td>NaN</td>\n",
       "      <td>NaN</td>\n",
       "      <td>4.914020e+12</td>\n",
       "    </tr>\n",
       "    <tr>\n",
       "      <th>3</th>\n",
       "      <td>US</td>\n",
       "      <td>US</td>\n",
       "      <td>P</td>\n",
       "      <td>A1</td>\n",
       "      <td>METHODS AND SYSTEMS FOR IMAGING AND CUTTING SE...</td>\n",
       "      <td>Methods and systems for imaging and cutting se...</td>\n",
       "      <td>1. A system for singulating microelectronic de...</td>\n",
       "      <td>21</td>\n",
       "      <td>14/093682</td>\n",
       "      <td>2013-12-02</td>\n",
       "      <td>...</td>\n",
       "      <td>B28D-0005/0064</td>\n",
       "      <td>B28D-0005/0064 | B26F-0003/004 | B23K-0026/407...</td>\n",
       "      <td>B28D-005/00</td>\n",
       "      <td>B28D-005/00 | B23K-026/40 | B23Q-015/22 | B26F...</td>\n",
       "      <td>083/076.8</td>\n",
       "      <td>083/076.8 | 083/368 | 451/002 | 219/121.67</td>\n",
       "      <td>NaN</td>\n",
       "      <td>NaN</td>\n",
       "      <td>NaN</td>\n",
       "      <td>5.414010e+12</td>\n",
       "    </tr>\n",
       "    <tr>\n",
       "      <th>4</th>\n",
       "      <td>US</td>\n",
       "      <td>US</td>\n",
       "      <td>P</td>\n",
       "      <td>A1</td>\n",
       "      <td>Labels Having an Information Dye</td>\n",
       "      <td>The present invention is directed to labels ha...</td>\n",
       "      <td>1. A label comprising an information dye.</td>\n",
       "      <td>26</td>\n",
       "      <td>13/910719</td>\n",
       "      <td>2013-06-05</td>\n",
       "      <td>...</td>\n",
       "      <td>G09F-0003/02</td>\n",
       "      <td>G09F-0003/02 | B02C-0023/08 | G09F-0003/04 | B...</td>\n",
       "      <td>G09F-003/02</td>\n",
       "      <td>G09F-003/02 | G01N-021/59 | B07C-005/34 | B02C...</td>\n",
       "      <td>241/020</td>\n",
       "      <td>241/020 | 040/299.01 | 040/310 | 209/576 | 356...</td>\n",
       "      <td>NaN</td>\n",
       "      <td>NaN</td>\n",
       "      <td>NaN</td>\n",
       "      <td>5.414010e+12</td>\n",
       "    </tr>\n",
       "  </tbody>\n",
       "</table>\n",
       "<p>5 rows × 37 columns</p>\n",
       "</div>"
      ],
      "text/plain": [
       "  국가코드 DB종류 특허/실용 구분 문헌종류 코드  \\\n",
       "0   US   US        P      A1   \n",
       "1   US   US        P      A1   \n",
       "2   US   US        P      B2   \n",
       "3   US   US        P      A1   \n",
       "4   US   US        P      A1   \n",
       "\n",
       "                                              발명의 명칭  \\\n",
       "0  Non ionic/electrolyte, liquid/gaseous, mechani...   \n",
       "1  METHOD AND SYSTEM FOR RECOGNIZING SPACE OF SHO...   \n",
       "2  Enhanced road vision on full windshield head-u...   \n",
       "3  METHODS AND SYSTEMS FOR IMAGING AND CUTTING SE...   \n",
       "4                   Labels Having an Information Dye   \n",
       "\n",
       "                                                  요약  \\\n",
       "0  The variable hydraulic press and distillation ...   \n",
       "1  Disclosed herein are a method and a system for...   \n",
       "2  A method to selectively project graphical imag...   \n",
       "3  Methods and systems for imaging and cutting se...   \n",
       "4  The present invention is directed to labels ha...   \n",
       "\n",
       "                                               대표청구항  청구항 수       출원번호  \\\n",
       "0  1. A cool complete vacuum draws any one partic...      4  13/689789   \n",
       "1  1. A method of recognizing a space of a road s...     18  13/710196   \n",
       "2  1. Method to selectively project graphical ima...     17  12/487926   \n",
       "3  1. A system for singulating microelectronic de...     21  14/093682   \n",
       "4          1. A label comprising an information dye.     26  13/910719   \n",
       "\n",
       "          출원일      ...      Original CPC Main  \\\n",
       "0  2012-11-30      ...           B23P-0013/00   \n",
       "1  2012-12-10      ...          G01S-0013/867   \n",
       "2  2009-06-19      ...                    NaN   \n",
       "3  2013-12-02      ...         B28D-0005/0064   \n",
       "4  2013-06-05      ...           G09F-0003/02   \n",
       "\n",
       "                                    Original CPC All Original IPC Main  \\\n",
       "0                                       B23P-0013/00       B23P-013/00   \n",
       "1                      G01S-0013/867 | G01S-0013/862       G01S-013/86   \n",
       "2                                                NaN       B60Q-001/00   \n",
       "3  B28D-0005/0064 | B26F-0003/004 | B23K-0026/407...       B28D-005/00   \n",
       "4  G09F-0003/02 | B02C-0023/08 | G09F-0003/04 | B...       G09F-003/02   \n",
       "\n",
       "                                    Original IPC All  \\\n",
       "0                                        B23P-013/00   \n",
       "1                                        G01S-013/86   \n",
       "2                          B60Q-001/00 | G08G-001/16   \n",
       "3  B28D-005/00 | B23K-026/40 | B23Q-015/22 | B26F...   \n",
       "4  G09F-003/02 | G01N-021/59 | B07C-005/34 | B02C...   \n",
       "\n",
       "  Original US Class Main[US]  \\\n",
       "0                    029/592   \n",
       "1                    342/052   \n",
       "2                    340/461   \n",
       "3                  083/076.8   \n",
       "4                    241/020   \n",
       "\n",
       "                           Original US Class All[US]  Original FI[JP]  \\\n",
       "0                                            029/592              NaN   \n",
       "1                                  342/052 | 342/070              NaN   \n",
       "2              340/461 | 340/435 | 340/436 | 340/905              NaN   \n",
       "3         083/076.8 | 083/368 | 451/002 | 219/121.67              NaN   \n",
       "4  241/020 | 040/299.01 | 040/310 | 209/576 | 356...              NaN   \n",
       "\n",
       "  Original F-term[JP] Original Theme Code [JP]   WIPS ON key  \n",
       "0                 NaN                      NaN  5.414020e+12  \n",
       "1                 NaN                      NaN  5.414020e+12  \n",
       "2                 NaN                      NaN  4.914020e+12  \n",
       "3                 NaN                      NaN  5.414010e+12  \n",
       "4                 NaN                      NaN  5.414010e+12  \n",
       "\n",
       "[5 rows x 37 columns]"
      ]
     },
     "execution_count": 41,
     "metadata": {},
     "output_type": "execute_result"
    }
   ],
   "source": [
    "raw_data = pd.read_csv(\"../data/night/night_sight_raw.csv\", encoding='cp949')\n",
    "print(raw_data.shape)\n",
    "raw_data.head()"
   ]
  },
  {
   "cell_type": "code",
   "execution_count": 42,
   "metadata": {
    "collapsed": true
   },
   "outputs": [],
   "source": [
    "df = pd.DataFrame(raw_data, columns=raw_data.columns)"
   ]
  },
  {
   "cell_type": "code",
   "execution_count": 43,
   "metadata": {},
   "outputs": [
    {
     "name": "stdout",
     "output_type": "stream",
     "text": [
      "Index(['공개(등록)번호', '공개(등록)일자', '국가', '구분', '발명의 명칭', 'IPC', '출원인'], dtype='object')\n",
      "(3191, 7)\n"
     ]
    },
    {
     "data": {
      "text/html": [
       "<div>\n",
       "<style>\n",
       "    .dataframe thead tr:only-child th {\n",
       "        text-align: right;\n",
       "    }\n",
       "\n",
       "    .dataframe thead th {\n",
       "        text-align: left;\n",
       "    }\n",
       "\n",
       "    .dataframe tbody tr th {\n",
       "        vertical-align: top;\n",
       "    }\n",
       "</style>\n",
       "<table border=\"1\" class=\"dataframe\">\n",
       "  <thead>\n",
       "    <tr style=\"text-align: right;\">\n",
       "      <th></th>\n",
       "      <th>공개(등록)번호</th>\n",
       "      <th>공개(등록)일자</th>\n",
       "      <th>국가</th>\n",
       "      <th>구분</th>\n",
       "      <th>발명의 명칭</th>\n",
       "      <th>IPC</th>\n",
       "      <th>출원인</th>\n",
       "    </tr>\n",
       "  </thead>\n",
       "  <tbody>\n",
       "    <tr>\n",
       "      <th>0</th>\n",
       "      <td>JP-0240608</td>\n",
       "      <td>NaN</td>\n",
       "      <td>JA</td>\n",
       "      <td>공개</td>\n",
       "      <td>LIGHT BEAM SCANNER</td>\n",
       "      <td>G02B</td>\n",
       "      <td>RICOH CO LTD</td>\n",
       "    </tr>\n",
       "    <tr>\n",
       "      <th>1</th>\n",
       "      <td>JP-0271064</td>\n",
       "      <td>NaN</td>\n",
       "      <td>JA</td>\n",
       "      <td>공개</td>\n",
       "      <td>OPTICAL SCANNER</td>\n",
       "      <td>G02B</td>\n",
       "      <td>FUJI XEROX CO LTD</td>\n",
       "    </tr>\n",
       "    <tr>\n",
       "      <th>2</th>\n",
       "      <td>JP-0220838</td>\n",
       "      <td>NaN</td>\n",
       "      <td>JA</td>\n",
       "      <td>공개</td>\n",
       "      <td>OPTICAL SCANNER AND IMAGE FORMING APPARATUS US...</td>\n",
       "      <td>G02B</td>\n",
       "      <td>RICOH PRINTING SYSTEMS LTD</td>\n",
       "    </tr>\n",
       "    <tr>\n",
       "      <th>3</th>\n",
       "      <td>JP-0206021</td>\n",
       "      <td>NaN</td>\n",
       "      <td>JA</td>\n",
       "      <td>공개</td>\n",
       "      <td>OPTICAL SCANNER AND IMAGE FORMING APPARATUS</td>\n",
       "      <td>G02B</td>\n",
       "      <td>RICOH CO LTD</td>\n",
       "    </tr>\n",
       "    <tr>\n",
       "      <th>4</th>\n",
       "      <td>JP-0159534</td>\n",
       "      <td>NaN</td>\n",
       "      <td>JA</td>\n",
       "      <td>공개</td>\n",
       "      <td>OPTICAL SCANNER AND IMAGE FORMING APPARATUS</td>\n",
       "      <td>G02B</td>\n",
       "      <td>SHARP CORP</td>\n",
       "    </tr>\n",
       "  </tbody>\n",
       "</table>\n",
       "</div>"
      ],
      "text/plain": [
       "     공개(등록)번호  공개(등록)일자  국가  구분  \\\n",
       "0  JP-0240608       NaN  JA  공개   \n",
       "1  JP-0271064       NaN  JA  공개   \n",
       "2  JP-0220838       NaN  JA  공개   \n",
       "3  JP-0206021       NaN  JA  공개   \n",
       "4  JP-0159534       NaN  JA  공개   \n",
       "\n",
       "                                              발명의 명칭   IPC  \\\n",
       "0                                 LIGHT BEAM SCANNER  G02B   \n",
       "1                                    OPTICAL SCANNER  G02B   \n",
       "2  OPTICAL SCANNER AND IMAGE FORMING APPARATUS US...  G02B   \n",
       "3        OPTICAL SCANNER AND IMAGE FORMING APPARATUS  G02B   \n",
       "4        OPTICAL SCANNER AND IMAGE FORMING APPARATUS  G02B   \n",
       "\n",
       "                          출원인  \n",
       "0                RICOH CO LTD  \n",
       "1           FUJI XEROX CO LTD  \n",
       "2  RICOH PRINTING SYSTEMS LTD  \n",
       "3                RICOH CO LTD  \n",
       "4                  SHARP CORP  "
      ]
     },
     "execution_count": 43,
     "metadata": {},
     "output_type": "execute_result"
    }
   ],
   "source": [
    "val_data = pd.read_csv(\"../data/night/night_sight_val.csv\", encoding = \"cp949\")\n",
    "print(val_data.columns)\n",
    "print(val_data.shape)\n",
    "val_data.head()"
   ]
  },
  {
   "cell_type": "markdown",
   "metadata": {},
   "source": [
    "### raw data 필요없는 column 제거 <br>\n",
    "ex) 'Original FI[JP]', 'Original F-term[JP]', 'Original Theme Code [JP]', '출원인 식별기호[JP]'"
   ]
  },
  {
   "cell_type": "code",
   "execution_count": 44,
   "metadata": {},
   "outputs": [
    {
     "data": {
      "text/html": [
       "<div>\n",
       "<style>\n",
       "    .dataframe thead tr:only-child th {\n",
       "        text-align: right;\n",
       "    }\n",
       "\n",
       "    .dataframe thead th {\n",
       "        text-align: left;\n",
       "    }\n",
       "\n",
       "    .dataframe tbody tr th {\n",
       "        vertical-align: top;\n",
       "    }\n",
       "</style>\n",
       "<table border=\"1\" class=\"dataframe\">\n",
       "  <thead>\n",
       "    <tr style=\"text-align: right;\">\n",
       "      <th></th>\n",
       "      <th>국가코드</th>\n",
       "      <th>DB종류</th>\n",
       "      <th>특허/실용 구분</th>\n",
       "      <th>문헌종류 코드</th>\n",
       "      <th>발명의 명칭</th>\n",
       "      <th>요약</th>\n",
       "      <th>대표청구항</th>\n",
       "      <th>청구항 수</th>\n",
       "      <th>출원번호</th>\n",
       "      <th>출원일</th>\n",
       "      <th>...</th>\n",
       "      <th>우선권 주장일</th>\n",
       "      <th>국제 공개번호</th>\n",
       "      <th>국제 공개일</th>\n",
       "      <th>Original CPC Main</th>\n",
       "      <th>Original CPC All</th>\n",
       "      <th>Original IPC Main</th>\n",
       "      <th>Original IPC All</th>\n",
       "      <th>Original US Class Main[US]</th>\n",
       "      <th>Original US Class All[US]</th>\n",
       "      <th>WIPS ON key</th>\n",
       "    </tr>\n",
       "  </thead>\n",
       "  <tbody>\n",
       "    <tr>\n",
       "      <th>0</th>\n",
       "      <td>US</td>\n",
       "      <td>US</td>\n",
       "      <td>P</td>\n",
       "      <td>A1</td>\n",
       "      <td>Non ionic/electrolyte, liquid/gaseous, mechani...</td>\n",
       "      <td>The variable hydraulic press and distillation ...</td>\n",
       "      <td>1. A cool complete vacuum draws any one partic...</td>\n",
       "      <td>4</td>\n",
       "      <td>13/689789</td>\n",
       "      <td>2012-11-30</td>\n",
       "      <td>...</td>\n",
       "      <td>NaN</td>\n",
       "      <td>NaN</td>\n",
       "      <td>NaN</td>\n",
       "      <td>B23P-0013/00</td>\n",
       "      <td>B23P-0013/00</td>\n",
       "      <td>B23P-013/00</td>\n",
       "      <td>B23P-013/00</td>\n",
       "      <td>029/592</td>\n",
       "      <td>029/592</td>\n",
       "      <td>5.414020e+12</td>\n",
       "    </tr>\n",
       "    <tr>\n",
       "      <th>1</th>\n",
       "      <td>US</td>\n",
       "      <td>US</td>\n",
       "      <td>P</td>\n",
       "      <td>A1</td>\n",
       "      <td>METHOD AND SYSTEM FOR RECOGNIZING SPACE OF SHO...</td>\n",
       "      <td>Disclosed herein are a method and a system for...</td>\n",
       "      <td>1. A method of recognizing a space of a road s...</td>\n",
       "      <td>18</td>\n",
       "      <td>13/710196</td>\n",
       "      <td>2012-12-10</td>\n",
       "      <td>...</td>\n",
       "      <td>2012-10-19</td>\n",
       "      <td>NaN</td>\n",
       "      <td>NaN</td>\n",
       "      <td>G01S-0013/867</td>\n",
       "      <td>G01S-0013/867 | G01S-0013/862</td>\n",
       "      <td>G01S-013/86</td>\n",
       "      <td>G01S-013/86</td>\n",
       "      <td>342/052</td>\n",
       "      <td>342/052 | 342/070</td>\n",
       "      <td>5.414020e+12</td>\n",
       "    </tr>\n",
       "    <tr>\n",
       "      <th>2</th>\n",
       "      <td>US</td>\n",
       "      <td>US</td>\n",
       "      <td>P</td>\n",
       "      <td>B2</td>\n",
       "      <td>Enhanced road vision on full windshield head-u...</td>\n",
       "      <td>A method to selectively project graphical imag...</td>\n",
       "      <td>1. Method to selectively project graphical ima...</td>\n",
       "      <td>17</td>\n",
       "      <td>12/487926</td>\n",
       "      <td>2009-06-19</td>\n",
       "      <td>...</td>\n",
       "      <td>NaN</td>\n",
       "      <td>NaN</td>\n",
       "      <td>NaN</td>\n",
       "      <td>NaN</td>\n",
       "      <td>NaN</td>\n",
       "      <td>B60Q-001/00</td>\n",
       "      <td>B60Q-001/00 | G08G-001/16</td>\n",
       "      <td>340/461</td>\n",
       "      <td>340/461 | 340/435 | 340/436 | 340/905</td>\n",
       "      <td>4.914020e+12</td>\n",
       "    </tr>\n",
       "    <tr>\n",
       "      <th>3</th>\n",
       "      <td>US</td>\n",
       "      <td>US</td>\n",
       "      <td>P</td>\n",
       "      <td>A1</td>\n",
       "      <td>METHODS AND SYSTEMS FOR IMAGING AND CUTTING SE...</td>\n",
       "      <td>Methods and systems for imaging and cutting se...</td>\n",
       "      <td>1. A system for singulating microelectronic de...</td>\n",
       "      <td>21</td>\n",
       "      <td>14/093682</td>\n",
       "      <td>2013-12-02</td>\n",
       "      <td>...</td>\n",
       "      <td>NaN</td>\n",
       "      <td>NaN</td>\n",
       "      <td>NaN</td>\n",
       "      <td>B28D-0005/0064</td>\n",
       "      <td>B28D-0005/0064 | B26F-0003/004 | B23K-0026/407...</td>\n",
       "      <td>B28D-005/00</td>\n",
       "      <td>B28D-005/00 | B23K-026/40 | B23Q-015/22 | B26F...</td>\n",
       "      <td>083/076.8</td>\n",
       "      <td>083/076.8 | 083/368 | 451/002 | 219/121.67</td>\n",
       "      <td>5.414010e+12</td>\n",
       "    </tr>\n",
       "    <tr>\n",
       "      <th>4</th>\n",
       "      <td>US</td>\n",
       "      <td>US</td>\n",
       "      <td>P</td>\n",
       "      <td>A1</td>\n",
       "      <td>Labels Having an Information Dye</td>\n",
       "      <td>The present invention is directed to labels ha...</td>\n",
       "      <td>1. A label comprising an information dye.</td>\n",
       "      <td>26</td>\n",
       "      <td>13/910719</td>\n",
       "      <td>2013-06-05</td>\n",
       "      <td>...</td>\n",
       "      <td>NaN</td>\n",
       "      <td>NaN</td>\n",
       "      <td>NaN</td>\n",
       "      <td>G09F-0003/02</td>\n",
       "      <td>G09F-0003/02 | B02C-0023/08 | G09F-0003/04 | B...</td>\n",
       "      <td>G09F-003/02</td>\n",
       "      <td>G09F-003/02 | G01N-021/59 | B07C-005/34 | B02C...</td>\n",
       "      <td>241/020</td>\n",
       "      <td>241/020 | 040/299.01 | 040/310 | 209/576 | 356...</td>\n",
       "      <td>5.414010e+12</td>\n",
       "    </tr>\n",
       "  </tbody>\n",
       "</table>\n",
       "<p>5 rows × 32 columns</p>\n",
       "</div>"
      ],
      "text/plain": [
       "  국가코드 DB종류 특허/실용 구분 문헌종류 코드  \\\n",
       "0   US   US        P      A1   \n",
       "1   US   US        P      A1   \n",
       "2   US   US        P      B2   \n",
       "3   US   US        P      A1   \n",
       "4   US   US        P      A1   \n",
       "\n",
       "                                              발명의 명칭  \\\n",
       "0  Non ionic/electrolyte, liquid/gaseous, mechani...   \n",
       "1  METHOD AND SYSTEM FOR RECOGNIZING SPACE OF SHO...   \n",
       "2  Enhanced road vision on full windshield head-u...   \n",
       "3  METHODS AND SYSTEMS FOR IMAGING AND CUTTING SE...   \n",
       "4                   Labels Having an Information Dye   \n",
       "\n",
       "                                                  요약  \\\n",
       "0  The variable hydraulic press and distillation ...   \n",
       "1  Disclosed herein are a method and a system for...   \n",
       "2  A method to selectively project graphical imag...   \n",
       "3  Methods and systems for imaging and cutting se...   \n",
       "4  The present invention is directed to labels ha...   \n",
       "\n",
       "                                               대표청구항  청구항 수       출원번호  \\\n",
       "0  1. A cool complete vacuum draws any one partic...      4  13/689789   \n",
       "1  1. A method of recognizing a space of a road s...     18  13/710196   \n",
       "2  1. Method to selectively project graphical ima...     17  12/487926   \n",
       "3  1. A system for singulating microelectronic de...     21  14/093682   \n",
       "4          1. A label comprising an information dye.     26  13/910719   \n",
       "\n",
       "          출원일      ...          우선권 주장일 국제 공개번호 국제 공개일 Original CPC Main  \\\n",
       "0  2012-11-30      ...              NaN     NaN    NaN      B23P-0013/00   \n",
       "1  2012-12-10      ...       2012-10-19     NaN    NaN     G01S-0013/867   \n",
       "2  2009-06-19      ...              NaN     NaN    NaN               NaN   \n",
       "3  2013-12-02      ...              NaN     NaN    NaN    B28D-0005/0064   \n",
       "4  2013-06-05      ...              NaN     NaN    NaN      G09F-0003/02   \n",
       "\n",
       "                                    Original CPC All Original IPC Main  \\\n",
       "0                                       B23P-0013/00       B23P-013/00   \n",
       "1                      G01S-0013/867 | G01S-0013/862       G01S-013/86   \n",
       "2                                                NaN       B60Q-001/00   \n",
       "3  B28D-0005/0064 | B26F-0003/004 | B23K-0026/407...       B28D-005/00   \n",
       "4  G09F-0003/02 | B02C-0023/08 | G09F-0003/04 | B...       G09F-003/02   \n",
       "\n",
       "                                    Original IPC All  \\\n",
       "0                                        B23P-013/00   \n",
       "1                                        G01S-013/86   \n",
       "2                          B60Q-001/00 | G08G-001/16   \n",
       "3  B28D-005/00 | B23K-026/40 | B23Q-015/22 | B26F...   \n",
       "4  G09F-003/02 | G01N-021/59 | B07C-005/34 | B02C...   \n",
       "\n",
       "  Original US Class Main[US]  \\\n",
       "0                    029/592   \n",
       "1                    342/052   \n",
       "2                    340/461   \n",
       "3                  083/076.8   \n",
       "4                    241/020   \n",
       "\n",
       "                           Original US Class All[US]   WIPS ON key  \n",
       "0                                            029/592  5.414020e+12  \n",
       "1                                  342/052 | 342/070  5.414020e+12  \n",
       "2              340/461 | 340/435 | 340/436 | 340/905  4.914020e+12  \n",
       "3         083/076.8 | 083/368 | 451/002 | 219/121.67  5.414010e+12  \n",
       "4  241/020 | 040/299.01 | 040/310 | 209/576 | 356...  5.414010e+12  \n",
       "\n",
       "[5 rows x 32 columns]"
      ]
     },
     "execution_count": 44,
     "metadata": {},
     "output_type": "execute_result"
    }
   ],
   "source": [
    "df = raw_data.dropna(axis=1, how='all')\n",
    "df.head()"
   ]
  },
  {
   "cell_type": "markdown",
   "metadata": {},
   "source": [
    "### valid data에서 US data 외 데이터 drop"
   ]
  },
  {
   "cell_type": "code",
   "execution_count": 45,
   "metadata": {},
   "outputs": [
    {
     "data": {
      "text/html": [
       "<div>\n",
       "<style>\n",
       "    .dataframe thead tr:only-child th {\n",
       "        text-align: right;\n",
       "    }\n",
       "\n",
       "    .dataframe thead th {\n",
       "        text-align: left;\n",
       "    }\n",
       "\n",
       "    .dataframe tbody tr th {\n",
       "        vertical-align: top;\n",
       "    }\n",
       "</style>\n",
       "<table border=\"1\" class=\"dataframe\">\n",
       "  <thead>\n",
       "    <tr style=\"text-align: right;\">\n",
       "      <th></th>\n",
       "      <th>공개(등록)번호</th>\n",
       "      <th>공개(등록)일자</th>\n",
       "      <th>국가</th>\n",
       "      <th>구분</th>\n",
       "      <th>발명의 명칭</th>\n",
       "      <th>IPC</th>\n",
       "      <th>출원인</th>\n",
       "    </tr>\n",
       "  </thead>\n",
       "  <tbody>\n",
       "    <tr>\n",
       "      <th>385</th>\n",
       "      <td>08796699</td>\n",
       "      <td>20140805.0</td>\n",
       "      <td>US</td>\n",
       "      <td>등록</td>\n",
       "      <td>Method and apparatus for sensing infrared radi...</td>\n",
       "      <td>H01L</td>\n",
       "      <td>Franky</td>\n",
       "    </tr>\n",
       "    <tr>\n",
       "      <th>391</th>\n",
       "      <td>08788148</td>\n",
       "      <td>20140722.0</td>\n",
       "      <td>US</td>\n",
       "      <td>등록</td>\n",
       "      <td>Driver assistance system and driver assistance...</td>\n",
       "      <td>G06F</td>\n",
       "      <td>Mitsunori</td>\n",
       "    </tr>\n",
       "    <tr>\n",
       "      <th>392</th>\n",
       "      <td>08786697</td>\n",
       "      <td>20140722.0</td>\n",
       "      <td>US</td>\n",
       "      <td>등록</td>\n",
       "      <td>Apparatus for determining the presence of fog ...</td>\n",
       "      <td>H04N</td>\n",
       "      <td>Naoki</td>\n",
       "    </tr>\n",
       "    <tr>\n",
       "      <th>395</th>\n",
       "      <td>08781731</td>\n",
       "      <td>20140715.0</td>\n",
       "      <td>US</td>\n",
       "      <td>등록</td>\n",
       "      <td>Adjusting method and system of intelligent veh...</td>\n",
       "      <td>B60R</td>\n",
       "      <td>Sheng-Chieh</td>\n",
       "    </tr>\n",
       "    <tr>\n",
       "      <th>403</th>\n",
       "      <td>08723660</td>\n",
       "      <td>20140513.0</td>\n",
       "      <td>US</td>\n",
       "      <td>등록</td>\n",
       "      <td>Dual-vision driving safety warning device and ...</td>\n",
       "      <td>A01B</td>\n",
       "      <td>Yu-Sung</td>\n",
       "    </tr>\n",
       "  </tbody>\n",
       "</table>\n",
       "</div>"
      ],
      "text/plain": [
       "     공개(등록)번호    공개(등록)일자  국가  구분  \\\n",
       "385  08796699  20140805.0  US  등록   \n",
       "391  08788148  20140722.0  US  등록   \n",
       "392  08786697  20140722.0  US  등록   \n",
       "395  08781731  20140715.0  US  등록   \n",
       "403  08723660  20140513.0  US  등록   \n",
       "\n",
       "                                                발명의 명칭   IPC          출원인  \n",
       "385  Method and apparatus for sensing infrared radi...  H01L       Franky  \n",
       "391  Driver assistance system and driver assistance...  G06F    Mitsunori  \n",
       "392  Apparatus for determining the presence of fog ...  H04N        Naoki  \n",
       "395  Adjusting method and system of intelligent veh...  B60R  Sheng-Chieh  \n",
       "403  Dual-vision driving safety warning device and ...  A01B      Yu-Sung  "
      ]
     },
     "execution_count": 45,
     "metadata": {},
     "output_type": "execute_result"
    }
   ],
   "source": [
    "val_data = val_data[val_data.국가 == \"US\"]\n",
    "val_data = val_data.drop_duplicates(val_data.columns)\n",
    "val_data.head()\n",
    "# val_data.to_csv(\"1.csv\", encoding='cp949')"
   ]
  },
  {
   "cell_type": "markdown",
   "metadata": {},
   "source": [
    "### raw data와 valid data의 공개/등록 번호 form 맞춰주기"
   ]
  },
  {
   "cell_type": "code",
   "execution_count": 46,
   "metadata": {},
   "outputs": [
    {
     "name": "stdout",
     "output_type": "stream",
     "text": [
      "<valid> \n",
      " 385    08796699\n",
      "391    08788148\n",
      "392    08786697\n",
      "395    08781731\n",
      "403    08723660\n",
      "Name: 공개(등록)번호, dtype: object\n",
      "\n",
      "<raw> \n",
      " 0    2014-0109386\n",
      "1    2014-0111369\n",
      "2    2010-0253540\n",
      "3    2014-0083270\n",
      "4    2014-0084089\n",
      "Name: 공개번호/공표/재공표 , dtype: object \n",
      " 0        NaN\n",
      "1        NaN\n",
      "2    8704653\n",
      "3        NaN\n",
      "4        NaN\n",
      "Name: 등록번호, dtype: object\n"
     ]
    }
   ],
   "source": [
    "print(\"<valid> \\n\", val_data['공개(등록)번호'].head())\n",
    "print(\"\\n<raw> \\n\", raw_data['공개번호/공표/재공표 '].head(), \"\\n\", raw_data['등록번호'].head())"
   ]
  },
  {
   "cell_type": "code",
   "execution_count": 47,
   "metadata": {},
   "outputs": [
    {
     "name": "stderr",
     "output_type": "stream",
     "text": [
      "/home/yehoon/anaconda3/lib/python3.6/site-packages/ipykernel_launcher.py:1: SettingWithCopyWarning: \n",
      "A value is trying to be set on a copy of a slice from a DataFrame.\n",
      "Try using .loc[row_indexer,col_indexer] = value instead\n",
      "\n",
      "See the caveats in the documentation: http://pandas.pydata.org/pandas-docs/stable/indexing.html#indexing-view-versus-copy\n",
      "  \"\"\"Entry point for launching an IPython kernel.\n",
      "/home/yehoon/anaconda3/lib/python3.6/site-packages/pandas/core/frame.py:2352: SettingWithCopyWarning: \n",
      "A value is trying to be set on a copy of a slice from a DataFrame.\n",
      "Try using .loc[row_indexer,col_indexer] = value instead\n",
      "\n",
      "See the caveats in the documentation: http://pandas.pydata.org/pandas-docs/stable/indexing.html#indexing-view-versus-copy\n",
      "  self[k1] = value[k2]\n"
     ]
    }
   ],
   "source": [
    "df['공개번호/공표/재공표 '] = (df['공개번호/공표/재공표 '].str.split('-')).str.join('')\n",
    "df[['공개번호/공표/재공표 ']] = df[['공개번호/공표/재공표 ']].fillna(value = 0)\n",
    "# df['공개번호/공표/재공표 '].head()\n",
    "# raw_data.head()"
   ]
  },
  {
   "cell_type": "code",
   "execution_count": 48,
   "metadata": {},
   "outputs": [
    {
     "name": "stderr",
     "output_type": "stream",
     "text": [
      "/home/yehoon/anaconda3/lib/python3.6/site-packages/ipykernel_launcher.py:1: SettingWithCopyWarning: \n",
      "A value is trying to be set on a copy of a slice from a DataFrame.\n",
      "Try using .loc[row_indexer,col_indexer] = value instead\n",
      "\n",
      "See the caveats in the documentation: http://pandas.pydata.org/pandas-docs/stable/indexing.html#indexing-view-versus-copy\n",
      "  \"\"\"Entry point for launching an IPython kernel.\n",
      "/home/yehoon/anaconda3/lib/python3.6/site-packages/ipykernel_launcher.py:5: SettingWithCopyWarning: \n",
      "A value is trying to be set on a copy of a slice from a DataFrame\n",
      "\n",
      "See the caveats in the documentation: http://pandas.pydata.org/pandas-docs/stable/indexing.html#indexing-view-versus-copy\n",
      "  \"\"\"\n",
      "/home/yehoon/anaconda3/lib/python3.6/site-packages/IPython/core/interactiveshell.py:2862: SettingWithCopyWarning: \n",
      "A value is trying to be set on a copy of a slice from a DataFrame\n",
      "\n",
      "See the caveats in the documentation: http://pandas.pydata.org/pandas-docs/stable/indexing.html#indexing-view-versus-copy\n",
      "  exec(code_obj, self.user_global_ns, self.user_ns)\n"
     ]
    }
   ],
   "source": [
    "df['등록번호'] = df['등록번호'].apply(lambda x:'{0:0>8}'.format(x) if(np.all(pd.notnull(x))) else x)\n",
    "\n",
    "for idx, i in enumerate(df['등록번호']):\n",
    "    if str(i).isdigit() != True:\n",
    "        df['등록번호'][idx] = 0"
   ]
  },
  {
   "cell_type": "code",
   "execution_count": 49,
   "metadata": {},
   "outputs": [
    {
     "data": {
      "text/plain": [
       "0           0\n",
       "1           0\n",
       "2    08704653\n",
       "3           0\n",
       "4           0\n",
       "5           0\n",
       "6           0\n",
       "7    08674406\n",
       "8           0\n",
       "9    08669588\n",
       "Name: 등록번호, dtype: object"
      ]
     },
     "execution_count": 49,
     "metadata": {},
     "output_type": "execute_result"
    }
   ],
   "source": [
    "df['등록번호'].head(10)"
   ]
  },
  {
   "cell_type": "markdown",
   "metadata": {},
   "source": [
    "### valid patent 확인<br>\n",
    "US 유효특허 : 86개"
   ]
  },
  {
   "cell_type": "code",
   "execution_count": 50,
   "metadata": {},
   "outputs": [
    {
     "name": "stdout",
     "output_type": "stream",
     "text": [
      "[550, 792, 807, 810, 816, 819, 907, 962, 966, 988, 998, 1012, 1072, 1172, 1179, 1184, 1186, 1202, 202, 409, 411, 427, 537, 538, 542, 555, 558, 563, 567, 581, 588, 593, 614, 640, 671, 691, 695, 701, 714, 720, 738, 756, 763, 764, 778, 795, 812, 821, 822, 840, 852, 858, 874, 885, 937, 958, 1006, 1024, 1028, 1030, 1052, 1053, 1138, 1168, 1169, 1177, 1178, 1183, 1191, 1194, 1215, 1217, 1230, 1232, 1234, 24, 285, 564, 570, 584, 608, 609, 613, 636, 641, 645, 659, 675, 676, 694, 702, 726, 736, 739, 741, 748, 749, 755, 759, 794, 809, 811, 834, 841, 845, 849, 851, 871, 875, 876, 877, 894, 909, 910, 987, 1008, 1027, 1080, 1157, 1158, 1176, 1180, 1187, 1188, 1199, 1214, 1223]\n"
     ]
    }
   ],
   "source": [
    "#raw_data 중에서 val_data\n",
    "y_idx_list = []\n",
    "for idx, raw in enumerate(df[\"공개번호/공표/재공표 \"]):\n",
    "    for val in val_data[\"공개(등록)번호\"]:\n",
    "        if raw == val:\n",
    "            if idx not in y_idx_list:\n",
    "                y_idx_list.append(idx)\n",
    "\n",
    "for idx, raw in enumerate(df[\"등록번호\"]):\n",
    "    for val in val_data[\"공개(등록)번호\"]:\n",
    "        if raw == val:\n",
    "            if idx not in y_idx_list:\n",
    "                y_idx_list.append(idx)\n",
    "\n",
    "for idx, raw in enumerate(df[\"발명의 명칭\"]):\n",
    "    for val in val_data[\"발명의 명칭\"]:\n",
    "        if raw.lower() == val.lower():\n",
    "            if idx not in y_idx_list:\n",
    "                y_idx_list.append(idx)\n",
    "y_data_list = [int(1) for i in range(len(y_idx_list))]\n",
    "print(y_idx_list)"
   ]
  },
  {
   "cell_type": "code",
   "execution_count": 51,
   "metadata": {},
   "outputs": [
    {
     "name": "stderr",
     "output_type": "stream",
     "text": [
      "/home/yehoon/anaconda3/lib/python3.6/site-packages/ipykernel_launcher.py:2: SettingWithCopyWarning: \n",
      "A value is trying to be set on a copy of a slice from a DataFrame.\n",
      "Try using .loc[row_indexer,col_indexer] = value instead\n",
      "\n",
      "See the caveats in the documentation: http://pandas.pydata.org/pandas-docs/stable/indexing.html#indexing-view-versus-copy\n",
      "  \n"
     ]
    }
   ],
   "source": [
    "y_values = pd.Series(data=y_data_list, index=y_idx_list)\n",
    "df[\"유효특허 여부\"] = y_values"
   ]
  },
  {
   "cell_type": "code",
   "execution_count": 52,
   "metadata": {},
   "outputs": [
    {
     "name": "stderr",
     "output_type": "stream",
     "text": [
      "/home/yehoon/anaconda3/lib/python3.6/site-packages/pandas/core/frame.py:2352: SettingWithCopyWarning: \n",
      "A value is trying to be set on a copy of a slice from a DataFrame.\n",
      "Try using .loc[row_indexer,col_indexer] = value instead\n",
      "\n",
      "See the caveats in the documentation: http://pandas.pydata.org/pandas-docs/stable/indexing.html#indexing-view-versus-copy\n",
      "  self[k1] = value[k2]\n"
     ]
    }
   ],
   "source": [
    "df[['유효특허 여부']] = df[['유효특허 여부']].fillna(value=int(0))\n",
    "# df['유효특허 여부'][1600:1610]"
   ]
  },
  {
   "cell_type": "code",
   "execution_count": 53,
   "metadata": {},
   "outputs": [
    {
     "data": {
      "text/plain": [
       "0.0    1109\n",
       "1.0     127\n",
       "Name: 유효특허 여부, dtype: int64"
      ]
     },
     "execution_count": 53,
     "metadata": {},
     "output_type": "execute_result"
    }
   ],
   "source": [
    "df['유효특허 여부'].value_counts()"
   ]
  },
  {
   "cell_type": "markdown",
   "metadata": {},
   "source": [
    "<hr>"
   ]
  },
  {
   "cell_type": "markdown",
   "metadata": {},
   "source": [
    "### IPC Digitization"
   ]
  },
  {
   "cell_type": "code",
   "execution_count": 54,
   "metadata": {},
   "outputs": [
    {
     "name": "stderr",
     "output_type": "stream",
     "text": [
      "/home/yehoon/anaconda3/lib/python3.6/site-packages/ipykernel_launcher.py:1: SettingWithCopyWarning: \n",
      "A value is trying to be set on a copy of a slice from a DataFrame.\n",
      "Try using .loc[row_indexer,col_indexer] = value instead\n",
      "\n",
      "See the caveats in the documentation: http://pandas.pydata.org/pandas-docs/stable/indexing.html#indexing-view-versus-copy\n",
      "  \"\"\"Entry point for launching an IPython kernel.\n"
     ]
    }
   ],
   "source": [
    "df['Original IPC Main'] = df['Original IPC Main'].astype('str').str.slice(0,4)\n",
    "# df['Original IPC Main'].head()"
   ]
  },
  {
   "cell_type": "code",
   "execution_count": 55,
   "metadata": {
    "collapsed": true
   },
   "outputs": [],
   "source": [
    "ipc_idx_list = []\n",
    "ipc_all = []\n",
    "for idx, i in enumerate(df['Original IPC All']):\n",
    "    i = i.split('|')\n",
    "    if len(i) != 1:\n",
    "        ipc_list = []\n",
    "        for ipc in i:\n",
    "            ipc_list.append((ipc.strip())[0:4])\n",
    "        ipc_all.append(('|').join(ipc_list))\n",
    "        ipc_idx_list.append(idx)\n",
    "    else:\n",
    "        ipc_all.append((i[0].strip())[0:4])\n",
    "        ipc_idx_list.append(idx)"
   ]
  },
  {
   "cell_type": "code",
   "execution_count": 56,
   "metadata": {},
   "outputs": [
    {
     "name": "stderr",
     "output_type": "stream",
     "text": [
      "/home/yehoon/anaconda3/lib/python3.6/site-packages/ipykernel_launcher.py:2: SettingWithCopyWarning: \n",
      "A value is trying to be set on a copy of a slice from a DataFrame.\n",
      "Try using .loc[row_indexer,col_indexer] = value instead\n",
      "\n",
      "See the caveats in the documentation: http://pandas.pydata.org/pandas-docs/stable/indexing.html#indexing-view-versus-copy\n",
      "  \n"
     ]
    }
   ],
   "source": [
    "ipc_values = pd.Series(data = ipc_all, index=ipc_idx_list)\n",
    "df['Original IPC All'] = ipc_values\n",
    "# df['Original IPC All'].head()"
   ]
  },
  {
   "cell_type": "markdown",
   "metadata": {},
   "source": [
    "### fillna"
   ]
  },
  {
   "cell_type": "code",
   "execution_count": 57,
   "metadata": {},
   "outputs": [
    {
     "name": "stderr",
     "output_type": "stream",
     "text": [
      "/home/yehoon/anaconda3/lib/python3.6/site-packages/pandas/core/frame.py:2352: SettingWithCopyWarning: \n",
      "A value is trying to be set on a copy of a slice from a DataFrame.\n",
      "Try using .loc[row_indexer,col_indexer] = value instead\n",
      "\n",
      "See the caveats in the documentation: http://pandas.pydata.org/pandas-docs/stable/indexing.html#indexing-view-versus-copy\n",
      "  self[k1] = value[k2]\n"
     ]
    }
   ],
   "source": [
    "df[['출원인']] = df[['출원인']].fillna(value='UKN')\n",
    "# df[['출원인']][60:70]"
   ]
  },
  {
   "cell_type": "markdown",
   "metadata": {},
   "source": [
    "### including dash data preprocessing"
   ]
  },
  {
   "cell_type": "code",
   "execution_count": 58,
   "metadata": {},
   "outputs": [
    {
     "name": "stderr",
     "output_type": "stream",
     "text": [
      "/home/yehoon/anaconda3/lib/python3.6/site-packages/ipykernel_launcher.py:1: SettingWithCopyWarning: \n",
      "A value is trying to be set on a copy of a slice from a DataFrame.\n",
      "Try using .loc[row_indexer,col_indexer] = value instead\n",
      "\n",
      "See the caveats in the documentation: http://pandas.pydata.org/pandas-docs/stable/indexing.html#indexing-view-versus-copy\n",
      "  \"\"\"Entry point for launching an IPython kernel.\n",
      "/home/yehoon/anaconda3/lib/python3.6/site-packages/pandas/core/frame.py:2352: SettingWithCopyWarning: \n",
      "A value is trying to be set on a copy of a slice from a DataFrame.\n",
      "Try using .loc[row_indexer,col_indexer] = value instead\n",
      "\n",
      "See the caveats in the documentation: http://pandas.pydata.org/pandas-docs/stable/indexing.html#indexing-view-versus-copy\n",
      "  self[k1] = value[k2]\n",
      "/home/yehoon/anaconda3/lib/python3.6/site-packages/ipykernel_launcher.py:4: SettingWithCopyWarning: \n",
      "A value is trying to be set on a copy of a slice from a DataFrame.\n",
      "Try using .loc[row_indexer,col_indexer] = value instead\n",
      "\n",
      "See the caveats in the documentation: http://pandas.pydata.org/pandas-docs/stable/indexing.html#indexing-view-versus-copy\n",
      "  after removing the cwd from sys.path.\n",
      "/home/yehoon/anaconda3/lib/python3.6/site-packages/ipykernel_launcher.py:7: SettingWithCopyWarning: \n",
      "A value is trying to be set on a copy of a slice from a DataFrame.\n",
      "Try using .loc[row_indexer,col_indexer] = value instead\n",
      "\n",
      "See the caveats in the documentation: http://pandas.pydata.org/pandas-docs/stable/indexing.html#indexing-view-versus-copy\n",
      "  import sys\n"
     ]
    }
   ],
   "source": [
    "df['출원일'] = (df['출원일'].str.split('-')).str.join('')\n",
    "df[['출원일']] = df[['출원일']].fillna(value=int(0))\n",
    "\n",
    "df['공개일'] = (df['공개일'].str.split('-')).str.join('')\n",
    "df[['공개일']] = df[['공개일']].fillna(value=int(0))\n",
    "\n",
    "df['등록일'] = (df['등록일'].str.split('-')).str.join('')\n",
    "df[['등록일']] = df[['등록일']].fillna(value=int(0))"
   ]
  },
  {
   "cell_type": "code",
   "execution_count": 59,
   "metadata": {},
   "outputs": [
    {
     "name": "stderr",
     "output_type": "stream",
     "text": [
      "/home/yehoon/anaconda3/lib/python3.6/site-packages/ipykernel_launcher.py:1: SettingWithCopyWarning: \n",
      "A value is trying to be set on a copy of a slice from a DataFrame.\n",
      "Try using .loc[row_indexer,col_indexer] = value instead\n",
      "\n",
      "See the caveats in the documentation: http://pandas.pydata.org/pandas-docs/stable/indexing.html#indexing-view-versus-copy\n",
      "  \"\"\"Entry point for launching an IPython kernel.\n",
      "/home/yehoon/anaconda3/lib/python3.6/site-packages/ipykernel_launcher.py:2: SettingWithCopyWarning: \n",
      "A value is trying to be set on a copy of a slice from a DataFrame.\n",
      "Try using .loc[row_indexer,col_indexer] = value instead\n",
      "\n",
      "See the caveats in the documentation: http://pandas.pydata.org/pandas-docs/stable/indexing.html#indexing-view-versus-copy\n",
      "  \n",
      "/home/yehoon/anaconda3/lib/python3.6/site-packages/pandas/core/frame.py:2352: SettingWithCopyWarning: \n",
      "A value is trying to be set on a copy of a slice from a DataFrame.\n",
      "Try using .loc[row_indexer,col_indexer] = value instead\n",
      "\n",
      "See the caveats in the documentation: http://pandas.pydata.org/pandas-docs/stable/indexing.html#indexing-view-versus-copy\n",
      "  self[k1] = value[k2]\n"
     ]
    }
   ],
   "source": [
    "df['국제 공개번호'] = (df['국제 공개번호'].str.split('-')).str.join('').str.slice(2,-1)\n",
    "df['국제 공개번호'] = (df['국제 공개번호'].str.split('/')).str.join('')\n",
    "df[['국제 공개번호']] = df[['국제 공개번호']].fillna(value=int(0))"
   ]
  },
  {
   "cell_type": "markdown",
   "metadata": {},
   "source": [
    "### Label Encoding"
   ]
  },
  {
   "cell_type": "code",
   "execution_count": 60,
   "metadata": {},
   "outputs": [
    {
     "name": "stderr",
     "output_type": "stream",
     "text": [
      "/home/yehoon/anaconda3/lib/python3.6/site-packages/ipykernel_launcher.py:7: SettingWithCopyWarning: \n",
      "A value is trying to be set on a copy of a slice from a DataFrame.\n",
      "Try using .loc[row_indexer,col_indexer] = value instead\n",
      "\n",
      "See the caveats in the documentation: http://pandas.pydata.org/pandas-docs/stable/indexing.html#indexing-view-versus-copy\n",
      "  import sys\n"
     ]
    }
   ],
   "source": [
    "application_id = list(df['출원번호'])\n",
    "\n",
    "le = LabelEncoder()\n",
    "le.fit(application_id)\n",
    "\n",
    "application_id_le = le.transform(application_id)\n",
    "df['출원번호'] = application_id_le"
   ]
  },
  {
   "cell_type": "code",
   "execution_count": 61,
   "metadata": {},
   "outputs": [
    {
     "name": "stderr",
     "output_type": "stream",
     "text": [
      "/home/yehoon/anaconda3/lib/python3.6/site-packages/ipykernel_launcher.py:7: SettingWithCopyWarning: \n",
      "A value is trying to be set on a copy of a slice from a DataFrame.\n",
      "Try using .loc[row_indexer,col_indexer] = value instead\n",
      "\n",
      "See the caveats in the documentation: http://pandas.pydata.org/pandas-docs/stable/indexing.html#indexing-view-versus-copy\n",
      "  import sys\n"
     ]
    }
   ],
   "source": [
    "patent_kind = list(df['문헌종류 코드'])\n",
    "\n",
    "le = LabelEncoder()\n",
    "le.fit(patent_kind)\n",
    "\n",
    "patent_kind_le = le.transform(patent_kind)\n",
    "df['문헌종류 코드'] = patent_kind_le"
   ]
  },
  {
   "cell_type": "code",
   "execution_count": 62,
   "metadata": {},
   "outputs": [
    {
     "name": "stderr",
     "output_type": "stream",
     "text": [
      "/home/yehoon/anaconda3/lib/python3.6/site-packages/ipykernel_launcher.py:7: SettingWithCopyWarning: \n",
      "A value is trying to be set on a copy of a slice from a DataFrame.\n",
      "Try using .loc[row_indexer,col_indexer] = value instead\n",
      "\n",
      "See the caveats in the documentation: http://pandas.pydata.org/pandas-docs/stable/indexing.html#indexing-view-versus-copy\n",
      "  import sys\n"
     ]
    },
    {
     "data": {
      "text/plain": [
       "0    302\n",
       "1     76\n",
       "2    302\n",
       "3    302\n",
       "4    302\n",
       "Name: 우선권 번호, dtype: int64"
      ]
     },
     "execution_count": 62,
     "metadata": {},
     "output_type": "execute_result"
    }
   ],
   "source": [
    "priority_id = list(df['우선권 번호'])\n",
    "\n",
    "le = LabelEncoder()\n",
    "le.fit(priority_id)\n",
    "\n",
    "priority_id_le = le.transform(priority_id)\n",
    "df['우선권 번호'] = priority_id_le\n",
    "df['우선권 번호'].head()"
   ]
  },
  {
   "cell_type": "code",
   "execution_count": 63,
   "metadata": {},
   "outputs": [
    {
     "name": "stderr",
     "output_type": "stream",
     "text": [
      "/home/yehoon/anaconda3/lib/python3.6/site-packages/ipykernel_launcher.py:1: SettingWithCopyWarning: \n",
      "A value is trying to be set on a copy of a slice from a DataFrame.\n",
      "Try using .loc[row_indexer,col_indexer] = value instead\n",
      "\n",
      "See the caveats in the documentation: http://pandas.pydata.org/pandas-docs/stable/indexing.html#indexing-view-versus-copy\n",
      "  \"\"\"Entry point for launching an IPython kernel.\n"
     ]
    },
    {
     "data": {
      "text/plain": [
       "0     302\n",
       "1      76\n",
       "2     302\n",
       "3     302\n",
       "4     302\n",
       "5     302\n",
       "6     134\n",
       "7     302\n",
       "8     302\n",
       "9     302\n",
       "10    302\n",
       "11    302\n",
       "12    302\n",
       "13     71\n",
       "14    302\n",
       "15    276\n",
       "16     81\n",
       "17    302\n",
       "18    302\n",
       "19    302\n",
       "20    248\n",
       "21    302\n",
       "22    302\n",
       "23    302\n",
       "24    302\n",
       "25    302\n",
       "26    272\n",
       "27    302\n",
       "28    302\n",
       "29    302\n",
       "Name: 우선권 번호, dtype: int64"
      ]
     },
     "execution_count": 63,
     "metadata": {},
     "output_type": "execute_result"
    }
   ],
   "source": [
    "df['우선권 번호'] = df['우선권 번호'].apply(lambda x: int(0) if x==273 else x)\n",
    "df['우선권 번호'].head(30)"
   ]
  },
  {
   "cell_type": "code",
   "execution_count": 64,
   "metadata": {
    "collapsed": true
   },
   "outputs": [],
   "source": [
    "df = df.astype('str')"
   ]
  },
  {
   "cell_type": "code",
   "execution_count": 65,
   "metadata": {
    "collapsed": true
   },
   "outputs": [],
   "source": [
    "df.to_csv('../data/night/data_night.csv', encoding='cp949')"
   ]
  },
  {
   "cell_type": "code",
   "execution_count": null,
   "metadata": {
    "collapsed": true
   },
   "outputs": [],
   "source": []
  }
 ],
 "metadata": {
  "kernelspec": {
   "display_name": "Python 3",
   "language": "python",
   "name": "python3"
  },
  "language_info": {
   "codemirror_mode": {
    "name": "ipython",
    "version": 3
   },
   "file_extension": ".py",
   "mimetype": "text/x-python",
   "name": "python",
   "nbconvert_exporter": "python",
   "pygments_lexer": "ipython3",
   "version": "3.6.3"
  }
 },
 "nbformat": 4,
 "nbformat_minor": 2
}
