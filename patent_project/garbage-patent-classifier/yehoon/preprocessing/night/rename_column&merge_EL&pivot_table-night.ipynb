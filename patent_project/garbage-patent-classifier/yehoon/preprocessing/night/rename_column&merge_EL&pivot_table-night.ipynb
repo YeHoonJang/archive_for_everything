{
 "cells": [
  {
   "cell_type": "code",
   "execution_count": 8,
   "metadata": {
    "collapsed": true
   },
   "outputs": [],
   "source": [
    "import pandas as pd\n",
    "import numpy as np"
   ]
  },
  {
   "cell_type": "code",
   "execution_count": 9,
   "metadata": {
    "collapsed": true
   },
   "outputs": [],
   "source": [
    "df = pd.read_csv(\"../data/night/data_night.csv\", encoding='cp949')"
   ]
  },
  {
   "cell_type": "code",
   "execution_count": 10,
   "metadata": {},
   "outputs": [
    {
     "data": {
      "text/plain": [
       "Index(['Unnamed: 0', '국가코드', 'DB종류', '특허/실용 구분', '문헌종류 코드', '발명의 명칭', '요약',\n",
       "       '대표청구항', '청구항 수', '출원번호', '출원일', '공개번호/공표/재공표 ', '공개일', '등록번호', '등록일',\n",
       "       '출원인', '출원인 국적', '출원인 수', '출원인 대표명화 코드', '출원인 대표명화 영문명', '발명자/고안자',\n",
       "       '우선권 번호', '우선권 국가', '우선권 주장일', '국제 공개번호', '국제 공개일', 'Original CPC Main',\n",
       "       'Original CPC All', 'Original IPC Main', 'Original IPC All',\n",
       "       'Original US Class Main[US]', 'Original US Class All[US]',\n",
       "       'WIPS ON key', '유효특허 여부'],\n",
       "      dtype='object')"
      ]
     },
     "execution_count": 10,
     "metadata": {},
     "output_type": "execute_result"
    }
   ],
   "source": [
    "df.columns"
   ]
  },
  {
   "cell_type": "code",
   "execution_count": 11,
   "metadata": {},
   "outputs": [
    {
     "data": {
      "text/plain": [
       "(1236, 34)"
      ]
     },
     "execution_count": 11,
     "metadata": {},
     "output_type": "execute_result"
    }
   ],
   "source": [
    "df.shape"
   ]
  },
  {
   "cell_type": "markdown",
   "metadata": {},
   "source": [
    "### convert column's name to english & drop columns"
   ]
  },
  {
   "cell_type": "code",
   "execution_count": 12,
   "metadata": {
    "collapsed": true
   },
   "outputs": [],
   "source": [
    "df = df.rename(index=str, \n",
    "               columns={'등록번호': 'grant_id','출원번호':'application_id', '공개번호/공표/재공표 ':'published_grant_id',\n",
    "                        '발명의 명칭': \"title\", '대표청구항':'claim', '청구항 수':'n_claim', \"발명자/고안자\":\"inventor\",\n",
    "                        '우선권 번호':'priority_id', '요약': 'abstract', 'Unnamed: 0' : 'index', '등록일':'grant_date',\n",
    "                        '출원일':'application_date', '공개일':'published_date', '출원인':'applicant', \n",
    "                        '출원인 수':'n_applicant',\n",
    "                        '출원인 대표명화 코드':'applicant_code', '국제 공개번호':'international_published_id', \n",
    "                        'Original IPC Main':'ipc_main', 'Original IPC All':'ipc_all',\n",
    "                        'Original US Class Main[US]':'usclass_main', 'Original US Class All[US]':'usclass_all',\n",
    "                        '유효특허 여부':'valid_patent', '문헌종류 코드':'patent_kind'})"
   ]
  },
  {
   "cell_type": "code",
   "execution_count": 13,
   "metadata": {
    "collapsed": true
   },
   "outputs": [],
   "source": [
    "df = df.drop(['특허/실용 구분', 'DB종류', '국가코드', '출원인 대표명화 영문명', '국제 공개일', '우선권 주장일',\n",
    "             'Original CPC Main', 'Original CPC All', 'WIPS ON key', '출원인 국적', '우선권 국가'], axis=1)"
   ]
  },
  {
   "cell_type": "code",
   "execution_count": 14,
   "metadata": {},
   "outputs": [
    {
     "data": {
      "text/plain": [
       "(1236, 23)"
      ]
     },
     "execution_count": 14,
     "metadata": {},
     "output_type": "execute_result"
    }
   ],
   "source": [
    "df.shape"
   ]
  },
  {
   "cell_type": "markdown",
   "metadata": {},
   "source": [
    "### merge edgelist to df"
   ]
  },
  {
   "cell_type": "markdown",
   "metadata": {},
   "source": [
    "#### ipc main - all에 main이 포함"
   ]
  },
  {
   "cell_type": "code",
   "execution_count": 15,
   "metadata": {
    "collapsed": true,
    "scrolled": false
   },
   "outputs": [],
   "source": [
    "# main_ipc_edge = pd.read_csv(\"../data/main_ipc_edge.tsv\", sep='\\t')\n",
    "# cols = main_ipc_edge.columns.tolist()\n",
    "# cols = cols[-1:] + cols[:-1]\n",
    "# main_ipc_edge = main_ipc_edge[cols]\n",
    "# main_ipc_edge[\"value\"] = 1\n",
    "# main_ipc_matrix = pd.pivot(values=main_ipc_edge.value, index=main_ipc_edge['patent'], \n",
    "#                            columns=main_ipc_edge['ipc']).fillna(0)\n",
    "\n",
    "# df = df.drop('ipc_main', axis=1)\n",
    "# df.index = df['index']\n",
    "# df = df.drop_duplicates()\n",
    "# df = df.merge(main_ipc_matrix, left_index=True, right_index=True)"
   ]
  },
  {
   "cell_type": "markdown",
   "metadata": {},
   "source": [
    "#### usclass main - all에 main이 포함"
   ]
  },
  {
   "cell_type": "code",
   "execution_count": 16,
   "metadata": {
    "collapsed": true,
    "scrolled": false
   },
   "outputs": [],
   "source": [
    "# main_usclass_edge = pd.read_csv(\"../data/main_usclass_edge.tsv\", sep='\\t')\n",
    "# cols = main_usclass_edge.columns.tolist()\n",
    "# cols = cols[-1:] + cols[:-1]\n",
    "# main_usclass_edge = main_usclass_edge[cols]\n",
    "# main_usclass_edge[\"value\"] = 1\n",
    "# main_usclass_matrix = pd.pivot(values=main_usclass_edge.value, index=main_usclass_edge['patent'], \n",
    "#                            columns=main_usclass_edge['us_class']).fillna(0)\n",
    "\n",
    "# df = df.drop('usclass_main', axis=1)\n",
    "# df.index = df['index']\n",
    "# df = df.drop_duplicates()\n",
    "# df = df.merge(main_usclass_matrix, left_index=True, right_index=True)"
   ]
  },
  {
   "cell_type": "markdown",
   "metadata": {},
   "source": [
    "#### ipc all"
   ]
  },
  {
   "cell_type": "code",
   "execution_count": 17,
   "metadata": {},
   "outputs": [
    {
     "name": "stdout",
     "output_type": "stream",
     "text": [
      "(1236, 199)\n"
     ]
    }
   ],
   "source": [
    "all_ipc_edge = pd.read_csv(\"../data/night/night_all_ipc_edge.tsv\", sep='\\t')\n",
    "cols = all_ipc_edge.columns.tolist()\n",
    "cols = cols[-1:] + cols[:-1]\n",
    "all_ipc_edge = all_ipc_edge[cols]\n",
    "all_ipc_edge[\"value\"] = 1\n",
    "all_ipc_matrix = pd.pivot_table(all_ipc_edge, index=['patent', 'ipc'])\n",
    "\n",
    "all_ipc_matrix_reset_index = all_ipc_matrix.reset_index()\n",
    "all_ipc_matrix_reset_index = pd.pivot(values= all_ipc_matrix_reset_index.value,\n",
    "                                      index=all_ipc_matrix_reset_index.patent,\n",
    "                                      columns=all_ipc_matrix_reset_index.ipc).fillna(0)\n",
    "\n",
    "df = df.drop('ipc_all', axis=1)\n",
    "df = df.drop('ipc_main', axis=1)\n",
    "\n",
    "df.index = df['index']\n",
    "df = df.drop_duplicates()\n",
    "df = df.merge(all_ipc_matrix_reset_index, left_index=True, right_index=True)\n",
    "print(all_ipc_matrix_reset_index.shape)"
   ]
  },
  {
   "cell_type": "markdown",
   "metadata": {},
   "source": [
    "#### usclass all"
   ]
  },
  {
   "cell_type": "code",
   "execution_count": 18,
   "metadata": {},
   "outputs": [
    {
     "name": "stdout",
     "output_type": "stream",
     "text": [
      "(1236, 2099)\n"
     ]
    }
   ],
   "source": [
    "all_usclass_edge = pd.read_csv(\"../data/night/night_all_usclass_edge.tsv\", sep='\\t')\n",
    "cols = all_usclass_edge.columns.tolist()\n",
    "cols = cols[-1:] + cols[:-1]\n",
    "all_usclass_edge = all_usclass_edge[cols]\n",
    "all_usclass_edge[\"value\"] = 1\n",
    "all_usclass_matrix = pd.pivot_table(all_usclass_edge, index=['patent', 'us_class'])\n",
    "\n",
    "all_usclass_matrix_reset_index = all_usclass_matrix.reset_index()\n",
    "all_usclass_matrix_reset_index = pd.pivot(values= all_usclass_matrix_reset_index.value,\n",
    "                                          index=all_usclass_matrix_reset_index.patent,\n",
    "                                          columns=all_usclass_matrix_reset_index.us_class).fillna(0)\n",
    "\n",
    "df = df.drop('usclass_all', axis=1)\n",
    "df = df.drop('usclass_main', axis=1)\n",
    "\n",
    "df.index = df['index']\n",
    "df = df.drop_duplicates()\n",
    "df = df.merge(all_usclass_matrix_reset_index, left_index=True, right_index=True)\n",
    "print(all_usclass_matrix_reset_index.shape)"
   ]
  },
  {
   "cell_type": "markdown",
   "metadata": {},
   "source": [
    "#### inventor"
   ]
  },
  {
   "cell_type": "code",
   "execution_count": 19,
   "metadata": {},
   "outputs": [
    {
     "name": "stdout",
     "output_type": "stream",
     "text": [
      "(1236, 2359)\n"
     ]
    }
   ],
   "source": [
    "inventor_edge = pd.read_csv(\"../data/night/night_inventor_edge.tsv\", sep='\\t')\n",
    "cols = inventor_edge.columns.tolist()\n",
    "cols = cols[-1:] + cols[:-1]\n",
    "inventor_edge = inventor_edge[cols]\n",
    "inventor_edge[\"value\"] = 1\n",
    "inventor_matrix = pd.pivot_table(inventor_edge, index=['patent_id', 'inventor'])\n",
    "\n",
    "inventor_matrix_reset_index = inventor_matrix.reset_index()\n",
    "inventor_matrix_reset_index = pd.pivot(values= inventor_matrix_reset_index.value,\n",
    "                                       index=inventor_matrix_reset_index.patent_id,\n",
    "                                       columns=inventor_matrix_reset_index.inventor).fillna(0)\n",
    "\n",
    "df = df.drop('inventor', axis=1)\n",
    "df.index = df['index']\n",
    "df = df.drop_duplicates()\n",
    "df = df.merge(inventor_matrix_reset_index, left_index=True, right_index=True)\n",
    "print(inventor_matrix_reset_index.shape)"
   ]
  },
  {
   "cell_type": "markdown",
   "metadata": {},
   "source": [
    "#### applicant"
   ]
  },
  {
   "cell_type": "code",
   "execution_count": 20,
   "metadata": {},
   "outputs": [
    {
     "name": "stdout",
     "output_type": "stream",
     "text": [
      "(1236, 502)\n"
     ]
    }
   ],
   "source": [
    "applicant_edge = pd.read_csv(\"../data/night/night_applicant_edge.tsv\", sep='\\t')\n",
    "cols = applicant_edge.columns.tolist()\n",
    "cols = cols[-1:] + cols[:-1]\n",
    "applicant_edge = applicant_edge[cols]\n",
    "applicant_edge[\"value\"] = 1\n",
    "applicant_matrix = pd.pivot_table(applicant_edge, index=['patent_id', 'applicant'])\n",
    "\n",
    "applicant_matrix_reset_index = applicant_matrix.reset_index()\n",
    "applicant_matrix_reset_index = pd.pivot(values= applicant_matrix_reset_index.value,\n",
    "                                        index=applicant_matrix_reset_index.patent_id,\n",
    "                                        columns=applicant_matrix_reset_index.applicant).fillna(0)\n",
    "\n",
    "df = df.drop('applicant', axis=1)\n",
    "df = df.drop('applicant_code', axis=1)\n",
    "\n",
    "df.index = df['index']\n",
    "df = df.drop_duplicates()\n",
    "df = df.merge(applicant_matrix_reset_index, left_index=True, right_index=True)\n",
    "print(applicant_matrix_reset_index.shape)"
   ]
  },
  {
   "cell_type": "markdown",
   "metadata": {},
   "source": [
    "<hr>"
   ]
  },
  {
   "cell_type": "markdown",
   "metadata": {},
   "source": [
    "### Pivot Table"
   ]
  },
  {
   "cell_type": "markdown",
   "metadata": {},
   "source": [
    "#### assignee"
   ]
  },
  {
   "cell_type": "code",
   "execution_count": 14,
   "metadata": {},
   "outputs": [
    {
     "data": {
      "text/plain": [
       "(309, 261)"
      ]
     },
     "execution_count": 14,
     "metadata": {},
     "output_type": "execute_result"
    }
   ],
   "source": [
    "# assignee_edge = pd.read_csv(\"../data/assignee_edge.tsv\", sep='\\t')\n",
    "# cols = assignee_edge.columns.tolist()\n",
    "# cols = cols[-1:] + cols[:-1]\n",
    "# assignee_edge = assignee_edge[cols]\n",
    "# assignee_edge[\"value\"] = 1\n",
    "# assignee_matrix = pd.pivot_table(assignee_edge, index=['patent_id', 'assignee_id'])\n",
    "\n",
    "# assignee_matrix_reset_index = assignee_matrix.reset_index()\n",
    "# assignee_matrix_reset_index = pd.pivot(values= assignee_matrix_reset_index.value,\n",
    "#                                        index=assignee_matrix_reset_index.patent_id,\n",
    "#                                        columns=assignee_matrix_reset_index.assignee_id).fillna(0)\n",
    "\n",
    "# assignee_matrix_reset_index.shape"
   ]
  },
  {
   "cell_type": "markdown",
   "metadata": {},
   "source": [
    "#### appication citation"
   ]
  },
  {
   "cell_type": "code",
   "execution_count": 15,
   "metadata": {},
   "outputs": [
    {
     "data": {
      "text/plain": [
       "(164, 732)"
      ]
     },
     "execution_count": 15,
     "metadata": {},
     "output_type": "execute_result"
    }
   ],
   "source": [
    "# application_citation_edge = pd.read_csv(\"../data/application_citation_edge.tsv\", sep='\\t')\n",
    "# cols = application_citation_edge.columns.tolist()\n",
    "# cols = cols[-1:] + cols[:-1]\n",
    "# application_citation_edge = application_citation_edge[cols]\n",
    "# application_citation_edge[\"value\"] = 1\n",
    "# application_citation_matrix = pd.pivot_table(application_citation_edge, \n",
    "#                                              index=['patent_id', 'application_citation_id'])\n",
    "\n",
    "# application_citation_matrix_reset_index = application_citation_matrix.reset_index()\n",
    "# application_citation_matrix_reset_index = pd.pivot(values= application_citation_matrix_reset_index.value,\n",
    "#                                                    index=application_citation_matrix_reset_index.patent_id,\n",
    "#                                                    columns=application_citation_matrix_reset_index.application_citation_id).fillna(0)\n",
    "\n",
    "# application_citation_matrix_reset_index.shape"
   ]
  },
  {
   "cell_type": "markdown",
   "metadata": {},
   "source": [
    "#### grant citaion"
   ]
  },
  {
   "cell_type": "code",
   "execution_count": 16,
   "metadata": {},
   "outputs": [
    {
     "data": {
      "text/plain": [
       "(435, 6694)"
      ]
     },
     "execution_count": 16,
     "metadata": {},
     "output_type": "execute_result"
    }
   ],
   "source": [
    "# grant_citation_edge = pd.read_csv(\"../data/grant_citation_edge.tsv\", sep='\\t')\n",
    "# cols = grant_citation_edge.columns.tolist()\n",
    "# cols = cols[-1:] + cols[:-1]\n",
    "# grant_citation_edge = grant_citation_edge[cols]\n",
    "# grant_citation_edge[\"value\"] = 1\n",
    "# grant_citation_matrix = pd.pivot_table(grant_citation_edge, \n",
    "#                                              index=['patent_id', 'grant_citation_id'])\n",
    "\n",
    "# grant_citation_matrix_reset_index = grant_citation_matrix.reset_index()\n",
    "# grant_citation_matrix_reset_index = pd.pivot(values= grant_citation_matrix_reset_index.value,\n",
    "#                                              index=grant_citation_matrix_reset_index.patent_id,\n",
    "#                                              columns=grant_citation_matrix_reset_index.grant_citation_id).fillna(0)\n",
    "\n",
    "# grant_citation_matrix_reset_index.shape"
   ]
  },
  {
   "cell_type": "code",
   "execution_count": 21,
   "metadata": {},
   "outputs": [
    {
     "data": {
      "text/plain": [
       "(1236, 5175)"
      ]
     },
     "execution_count": 21,
     "metadata": {},
     "output_type": "execute_result"
    }
   ],
   "source": [
    "df.shape"
   ]
  },
  {
   "cell_type": "code",
   "execution_count": 22,
   "metadata": {
    "collapsed": true
   },
   "outputs": [],
   "source": [
    "df.to_csv(\"../data/night/night_dataset.csv\", index=False, header=True)"
   ]
  },
  {
   "cell_type": "code",
   "execution_count": null,
   "metadata": {
    "collapsed": true
   },
   "outputs": [],
   "source": []
  }
 ],
 "metadata": {
  "kernelspec": {
   "display_name": "Python 3",
   "language": "python",
   "name": "python3"
  },
  "language_info": {
   "codemirror_mode": {
    "name": "ipython",
    "version": 3
   },
   "file_extension": ".py",
   "mimetype": "text/x-python",
   "name": "python",
   "nbconvert_exporter": "python",
   "pygments_lexer": "ipython3",
   "version": "3.6.3"
  }
 },
 "nbformat": 4,
 "nbformat_minor": 2
}
