{
 "cells": [
  {
   "cell_type": "code",
   "execution_count": 48,
   "metadata": {
    "collapsed": true
   },
   "outputs": [],
   "source": [
    "import pandas as pd\n",
    "import numpy as np"
   ]
  },
  {
   "cell_type": "code",
   "execution_count": 49,
   "metadata": {},
   "outputs": [
    {
     "name": "stdout",
     "output_type": "stream",
     "text": [
      "Index(['국가코드', 'DB종류', '특허/실용 구분', '문헌종류 코드', '발명의 명칭', '요약', '대표청구항', '청구항 수',\n",
      "       '출원번호', '출원일', '공개번호/공표/재공표 ', '공개일', '등록번호', '등록일', '출원인', '출원인 국적',\n",
      "       '출원인 수', '출원인 대표명화 코드', '출원인 대표명화 영문명', '출원인 대표명화 국문명[KR]',\n",
      "       '출원인 식별기호[JP]', '발명자/고안자', '우선권 번호', '우선권 국가', '우선권 주장일', '국제 공개번호',\n",
      "       '국제 공개일', 'Original CPC Main', 'Original CPC All', 'Original IPC Main',\n",
      "       'Original IPC All', 'Original US Class Main[US]',\n",
      "       'Original US Class All[US]', 'Original FI[JP]', 'Original F-term[JP]',\n",
      "       'Original Theme Code [JP]', 'WIPS ON key'],\n",
      "      dtype='object')\n",
      "(1905, 37)\n"
     ]
    },
    {
     "data": {
      "text/html": [
       "<div>\n",
       "<style>\n",
       "    .dataframe thead tr:only-child th {\n",
       "        text-align: right;\n",
       "    }\n",
       "\n",
       "    .dataframe thead th {\n",
       "        text-align: left;\n",
       "    }\n",
       "\n",
       "    .dataframe tbody tr th {\n",
       "        vertical-align: top;\n",
       "    }\n",
       "</style>\n",
       "<table border=\"1\" class=\"dataframe\">\n",
       "  <thead>\n",
       "    <tr style=\"text-align: right;\">\n",
       "      <th></th>\n",
       "      <th>국가코드</th>\n",
       "      <th>DB종류</th>\n",
       "      <th>특허/실용 구분</th>\n",
       "      <th>문헌종류 코드</th>\n",
       "      <th>발명의 명칭</th>\n",
       "      <th>요약</th>\n",
       "      <th>대표청구항</th>\n",
       "      <th>청구항 수</th>\n",
       "      <th>출원번호</th>\n",
       "      <th>출원일</th>\n",
       "      <th>...</th>\n",
       "      <th>Original CPC Main</th>\n",
       "      <th>Original CPC All</th>\n",
       "      <th>Original IPC Main</th>\n",
       "      <th>Original IPC All</th>\n",
       "      <th>Original US Class Main[US]</th>\n",
       "      <th>Original US Class All[US]</th>\n",
       "      <th>Original FI[JP]</th>\n",
       "      <th>Original F-term[JP]</th>\n",
       "      <th>Original Theme Code [JP]</th>\n",
       "      <th>WIPS ON key</th>\n",
       "    </tr>\n",
       "  </thead>\n",
       "  <tbody>\n",
       "    <tr>\n",
       "      <th>0</th>\n",
       "      <td>US</td>\n",
       "      <td>US</td>\n",
       "      <td>P</td>\n",
       "      <td>B2</td>\n",
       "      <td>Turboengine water wash system</td>\n",
       "      <td>A system for cleaning gas turbine engines is d...</td>\n",
       "      <td>1. An apparatus for cleaning wing mounted gas ...</td>\n",
       "      <td>64</td>\n",
       "      <td>11/644784</td>\n",
       "      <td>2006-12-22</td>\n",
       "      <td>...</td>\n",
       "      <td>NaN</td>\n",
       "      <td>NaN</td>\n",
       "      <td>B08B-009/00</td>\n",
       "      <td>B08B-009/00</td>\n",
       "      <td>134/166.R</td>\n",
       "      <td>134/166.R | 134/138</td>\n",
       "      <td>NaN</td>\n",
       "      <td>NaN</td>\n",
       "      <td>NaN</td>\n",
       "      <td>4.914000e+12</td>\n",
       "    </tr>\n",
       "    <tr>\n",
       "      <th>1</th>\n",
       "      <td>US</td>\n",
       "      <td>US</td>\n",
       "      <td>P</td>\n",
       "      <td>A1</td>\n",
       "      <td>TREATMENT OF TAILINGS WITH DEIONIZED SILICATE ...</td>\n",
       "      <td>A process for treating a tailings stream compr...</td>\n",
       "      <td>1. A process for treating a tailings stream co...</td>\n",
       "      <td>20</td>\n",
       "      <td>13/848244</td>\n",
       "      <td>2013-03-21</td>\n",
       "      <td>...</td>\n",
       "      <td>B09B-0003/0025</td>\n",
       "      <td>B09B-0003/0025</td>\n",
       "      <td>B09B-003/00</td>\n",
       "      <td>B09B-003/00</td>\n",
       "      <td>106/627</td>\n",
       "      <td>106/627 | 106/600 | 106/631 | 106/632 | 106/63...</td>\n",
       "      <td>NaN</td>\n",
       "      <td>NaN</td>\n",
       "      <td>NaN</td>\n",
       "      <td>5.414000e+12</td>\n",
       "    </tr>\n",
       "    <tr>\n",
       "      <th>2</th>\n",
       "      <td>US</td>\n",
       "      <td>US</td>\n",
       "      <td>P</td>\n",
       "      <td>A1</td>\n",
       "      <td>Method And Apparatus For Treating Tailings Usi...</td>\n",
       "      <td>There is a method described of treating tailin...</td>\n",
       "      <td>1. A method of treating tailings having a comb...</td>\n",
       "      <td>18</td>\n",
       "      <td>13/765924</td>\n",
       "      <td>2013-02-13</td>\n",
       "      <td>...</td>\n",
       "      <td>C02F-0001/48</td>\n",
       "      <td>C02F-0001/48</td>\n",
       "      <td>C02F-001/48</td>\n",
       "      <td>C02F-001/48</td>\n",
       "      <td>204/554</td>\n",
       "      <td>204/554</td>\n",
       "      <td>NaN</td>\n",
       "      <td>NaN</td>\n",
       "      <td>NaN</td>\n",
       "      <td>5.414000e+12</td>\n",
       "    </tr>\n",
       "    <tr>\n",
       "      <th>3</th>\n",
       "      <td>US</td>\n",
       "      <td>US</td>\n",
       "      <td>P</td>\n",
       "      <td>A1</td>\n",
       "      <td>METHOD FOR STABILIZING WASTE AND HAZARDOUS WASTE</td>\n",
       "      <td>The invention provides a process for stabilizi...</td>\n",
       "      <td>1. A method for stabilizing hazardous waste, c...</td>\n",
       "      <td>20</td>\n",
       "      <td>13/767408</td>\n",
       "      <td>2013-02-14</td>\n",
       "      <td>...</td>\n",
       "      <td>A62D-0003/33</td>\n",
       "      <td>A62D-0003/33 | G21F-0009/302</td>\n",
       "      <td>A62D-003/33</td>\n",
       "      <td>A62D-003/33 | G21F-009/30</td>\n",
       "      <td>588/002</td>\n",
       "      <td>588/002 | 588/315</td>\n",
       "      <td>NaN</td>\n",
       "      <td>NaN</td>\n",
       "      <td>NaN</td>\n",
       "      <td>5.414000e+12</td>\n",
       "    </tr>\n",
       "    <tr>\n",
       "      <th>4</th>\n",
       "      <td>US</td>\n",
       "      <td>US</td>\n",
       "      <td>P</td>\n",
       "      <td>B2</td>\n",
       "      <td>Water treatment process and plant using ballas...</td>\n",
       "      <td>A method for treating wastewater using a balla...</td>\n",
       "      <td>1. A method of treating wastewater including: ...</td>\n",
       "      <td>18</td>\n",
       "      <td>12/521154</td>\n",
       "      <td>2007-12-26</td>\n",
       "      <td>...</td>\n",
       "      <td>NaN</td>\n",
       "      <td>NaN</td>\n",
       "      <td>C02F-001/52</td>\n",
       "      <td>C02F-001/52 | B01D-021/01 | B01D-021/02 | B01D...</td>\n",
       "      <td>210/709</td>\n",
       "      <td>210/709 | 210/711 | 210/712 | 210/713 | 210/71...</td>\n",
       "      <td>NaN</td>\n",
       "      <td>NaN</td>\n",
       "      <td>NaN</td>\n",
       "      <td>4.913050e+12</td>\n",
       "    </tr>\n",
       "  </tbody>\n",
       "</table>\n",
       "<p>5 rows × 37 columns</p>\n",
       "</div>"
      ],
      "text/plain": [
       "  국가코드 DB종류 특허/실용 구분 문헌종류 코드  \\\n",
       "0   US   US        P      B2   \n",
       "1   US   US        P      A1   \n",
       "2   US   US        P      A1   \n",
       "3   US   US        P      A1   \n",
       "4   US   US        P      B2   \n",
       "\n",
       "                                              발명의 명칭  \\\n",
       "0                      Turboengine water wash system   \n",
       "1  TREATMENT OF TAILINGS WITH DEIONIZED SILICATE ...   \n",
       "2  Method And Apparatus For Treating Tailings Usi...   \n",
       "3   METHOD FOR STABILIZING WASTE AND HAZARDOUS WASTE   \n",
       "4  Water treatment process and plant using ballas...   \n",
       "\n",
       "                                                  요약  \\\n",
       "0  A system for cleaning gas turbine engines is d...   \n",
       "1  A process for treating a tailings stream compr...   \n",
       "2  There is a method described of treating tailin...   \n",
       "3  The invention provides a process for stabilizi...   \n",
       "4  A method for treating wastewater using a balla...   \n",
       "\n",
       "                                               대표청구항  청구항 수       출원번호  \\\n",
       "0  1. An apparatus for cleaning wing mounted gas ...     64  11/644784   \n",
       "1  1. A process for treating a tailings stream co...     20  13/848244   \n",
       "2  1. A method of treating tailings having a comb...     18  13/765924   \n",
       "3  1. A method for stabilizing hazardous waste, c...     20  13/767408   \n",
       "4  1. A method of treating wastewater including: ...     18  12/521154   \n",
       "\n",
       "          출원일      ...      Original CPC Main              Original CPC All  \\\n",
       "0  2006-12-22      ...                    NaN                           NaN   \n",
       "1  2013-03-21      ...         B09B-0003/0025                B09B-0003/0025   \n",
       "2  2013-02-13      ...           C02F-0001/48                  C02F-0001/48   \n",
       "3  2013-02-14      ...           A62D-0003/33  A62D-0003/33 | G21F-0009/302   \n",
       "4  2007-12-26      ...                    NaN                           NaN   \n",
       "\n",
       "  Original IPC Main                                   Original IPC All  \\\n",
       "0       B08B-009/00                                        B08B-009/00   \n",
       "1       B09B-003/00                                        B09B-003/00   \n",
       "2       C02F-001/48                                        C02F-001/48   \n",
       "3       A62D-003/33                          A62D-003/33 | G21F-009/30   \n",
       "4       C02F-001/52  C02F-001/52 | B01D-021/01 | B01D-021/02 | B01D...   \n",
       "\n",
       "  Original US Class Main[US]  \\\n",
       "0                  134/166.R   \n",
       "1                    106/627   \n",
       "2                    204/554   \n",
       "3                    588/002   \n",
       "4                    210/709   \n",
       "\n",
       "                           Original US Class All[US]  Original FI[JP]  \\\n",
       "0                                134/166.R | 134/138              NaN   \n",
       "1  106/627 | 106/600 | 106/631 | 106/632 | 106/63...              NaN   \n",
       "2                                            204/554              NaN   \n",
       "3                                  588/002 | 588/315              NaN   \n",
       "4  210/709 | 210/711 | 210/712 | 210/713 | 210/71...              NaN   \n",
       "\n",
       "  Original F-term[JP] Original Theme Code [JP]   WIPS ON key  \n",
       "0                 NaN                      NaN  4.914000e+12  \n",
       "1                 NaN                      NaN  5.414000e+12  \n",
       "2                 NaN                      NaN  5.414000e+12  \n",
       "3                 NaN                      NaN  5.414000e+12  \n",
       "4                 NaN                      NaN  4.913050e+12  \n",
       "\n",
       "[5 rows x 37 columns]"
      ]
     },
     "execution_count": 49,
     "metadata": {},
     "output_type": "execute_result"
    }
   ],
   "source": [
    "raw_data = pd.read_csv(\"sea_managing_raw.csv\", encoding = \"cp949\")\n",
    "val_data = pd.read_csv(\"sea_managing_val.csv\", encoding = \"cp949\")\n",
    "print(raw_data.columns)\n",
    "print(raw_data.shape)\n",
    "raw_data.head()"
   ]
  },
  {
   "cell_type": "code",
   "execution_count": 50,
   "metadata": {},
   "outputs": [
    {
     "name": "stdout",
     "output_type": "stream",
     "text": [
      "(2098, 7)\n"
     ]
    },
    {
     "data": {
      "text/html": [
       "<div>\n",
       "<style>\n",
       "    .dataframe thead tr:only-child th {\n",
       "        text-align: right;\n",
       "    }\n",
       "\n",
       "    .dataframe thead th {\n",
       "        text-align: left;\n",
       "    }\n",
       "\n",
       "    .dataframe tbody tr th {\n",
       "        vertical-align: top;\n",
       "    }\n",
       "</style>\n",
       "<table border=\"1\" class=\"dataframe\">\n",
       "  <thead>\n",
       "    <tr style=\"text-align: right;\">\n",
       "      <th></th>\n",
       "      <th>공개(등록)번호</th>\n",
       "      <th>공개(등록)일자</th>\n",
       "      <th>국가</th>\n",
       "      <th>구분</th>\n",
       "      <th>발명의 명칭</th>\n",
       "      <th>IPC</th>\n",
       "      <th>출원인</th>\n",
       "    </tr>\n",
       "  </thead>\n",
       "  <tbody>\n",
       "    <tr>\n",
       "      <th>0</th>\n",
       "      <td>1014013000000</td>\n",
       "      <td>20140523</td>\n",
       "      <td>KR</td>\n",
       "      <td>등록</td>\n",
       "      <td>생태안착형 입체 호안구조 및 이의 시공방법</td>\n",
       "      <td>E02B</td>\n",
       "      <td>벽산건설 주식회사</td>\n",
       "    </tr>\n",
       "    <tr>\n",
       "      <th>1</th>\n",
       "      <td>1014013000000</td>\n",
       "      <td>20140523</td>\n",
       "      <td>KR</td>\n",
       "      <td>등록</td>\n",
       "      <td>생태안착형 입체 호안구조 및 이의 시공방법</td>\n",
       "      <td>E02B</td>\n",
       "      <td>벽산건설 주식회사</td>\n",
       "    </tr>\n",
       "    <tr>\n",
       "      <th>2</th>\n",
       "      <td>1013950840000</td>\n",
       "      <td>20140508</td>\n",
       "      <td>KR</td>\n",
       "      <td>등록</td>\n",
       "      <td>질소 및 인의 동시 제거가 가능한 생물여과 처리장치</td>\n",
       "      <td>C02F</td>\n",
       "      <td>주식회사 지승개발</td>\n",
       "    </tr>\n",
       "    <tr>\n",
       "      <th>3</th>\n",
       "      <td>1013950840000</td>\n",
       "      <td>20140508</td>\n",
       "      <td>KR</td>\n",
       "      <td>등록</td>\n",
       "      <td>질소 및 인의 동시 제거가 가능한 생물여과 처리장치</td>\n",
       "      <td>C02F</td>\n",
       "      <td>주식회사 지승개발</td>\n",
       "    </tr>\n",
       "    <tr>\n",
       "      <th>4</th>\n",
       "      <td>1013903570000</td>\n",
       "      <td>20140423</td>\n",
       "      <td>KR</td>\n",
       "      <td>등록</td>\n",
       "      <td>살수여상기능 및 정수처리기능을 갖는 자연형 하천 호안 공법</td>\n",
       "      <td>E02B</td>\n",
       "      <td>충북대학교 산학협력단</td>\n",
       "    </tr>\n",
       "  </tbody>\n",
       "</table>\n",
       "</div>"
      ],
      "text/plain": [
       "        공개(등록)번호  공개(등록)일자  국가  구분                            발명의 명칭   IPC  \\\n",
       "0  1014013000000  20140523  KR  등록           생태안착형 입체 호안구조 및 이의 시공방법  E02B   \n",
       "1  1014013000000  20140523  KR  등록           생태안착형 입체 호안구조 및 이의 시공방법  E02B   \n",
       "2  1013950840000  20140508  KR  등록      질소 및 인의 동시 제거가 가능한 생물여과 처리장치  C02F   \n",
       "3  1013950840000  20140508  KR  등록      질소 및 인의 동시 제거가 가능한 생물여과 처리장치  C02F   \n",
       "4  1013903570000  20140423  KR  등록  살수여상기능 및 정수처리기능을 갖는 자연형 하천 호안 공법  E02B   \n",
       "\n",
       "           출원인  \n",
       "0    벽산건설 주식회사  \n",
       "1    벽산건설 주식회사  \n",
       "2    주식회사 지승개발  \n",
       "3    주식회사 지승개발  \n",
       "4  충북대학교 산학협력단  "
      ]
     },
     "execution_count": 50,
     "metadata": {},
     "output_type": "execute_result"
    }
   ],
   "source": [
    "print(val_data.shape)\n",
    "val_data.head()"
   ]
  },
  {
   "cell_type": "code",
   "execution_count": 51,
   "metadata": {},
   "outputs": [
    {
     "data": {
      "text/plain": [
       "국가코드                          1905\n",
       "DB종류                          1905\n",
       "특허/실용 구분                      1905\n",
       "문헌종류 코드                       1905\n",
       "발명의 명칭                        1905\n",
       "요약                            1905\n",
       "대표청구항                         1905\n",
       "청구항 수                         1905\n",
       "출원번호                          1905\n",
       "출원일                           1905\n",
       "공개번호/공표/재공표                   1685\n",
       "공개일                           1685\n",
       "등록번호                           541\n",
       "등록일                            541\n",
       "출원인                            888\n",
       "출원인 국적                         779\n",
       "출원인 수                         1905\n",
       "출원인 대표명화 코드                    354\n",
       "출원인 대표명화 영문명                   354\n",
       "발명자/고안자                       1905\n",
       "우선권 번호                         429\n",
       "우선권 국가                         429\n",
       "우선권 주장일                        429\n",
       "국제 공개번호                         71\n",
       "국제 공개일                          71\n",
       "Original CPC Main               72\n",
       "Original CPC All                72\n",
       "Original IPC Main             1905\n",
       "Original IPC All              1905\n",
       "Original US Class Main[US]    1905\n",
       "Original US Class All[US]     1905\n",
       "WIPS ON key                   1905\n",
       "dtype: int64"
      ]
     },
     "execution_count": 51,
     "metadata": {},
     "output_type": "execute_result"
    }
   ],
   "source": [
    "#데이터 없는 columnn drop\n",
    "#ex) 'Original FI[JP]', 'Original F-term[JP]', 'Original Theme Code [JP]'\n",
    "for i in raw_data.columns:\n",
    "    if raw_data[i].count() == 0:\n",
    "        raw_data = raw_data.drop([i], axis =1)\n",
    "raw_data.count()"
   ]
  },
  {
   "cell_type": "code",
   "execution_count": 52,
   "metadata": {
    "scrolled": true
   },
   "outputs": [
    {
     "data": {
      "text/plain": [
       "(1905, 32)"
      ]
     },
     "execution_count": 52,
     "metadata": {},
     "output_type": "execute_result"
    }
   ],
   "source": [
    "raw_data.shape"
   ]
  },
  {
   "cell_type": "markdown",
   "metadata": {},
   "source": [
    "<h3>raw data와 유효특허데이터 개수 확인</h3>"
   ]
  },
  {
   "cell_type": "code",
   "execution_count": 53,
   "metadata": {
    "collapsed": true,
    "scrolled": true
   },
   "outputs": [],
   "source": [
    "raw_list =[]\n",
    "for i in raw_data[\"발명의 명칭\"]:\n",
    "    raw_list.append(i.lower())"
   ]
  },
  {
   "cell_type": "code",
   "execution_count": 54,
   "metadata": {
    "collapsed": true,
    "scrolled": true
   },
   "outputs": [],
   "source": [
    "#유효특허 set 중에서 국가가 'US' 인 것만 뽑아서 '발명의 명칭' 전처리\n",
    "val_list = []\n",
    "for i in range(len(val_data)):\n",
    "    if val_data.iloc[i]['국가'] == 'US':\n",
    "        val_list.append(val_data.iloc[i][\"발명의 명칭\"].lower())"
   ]
  },
  {
   "cell_type": "code",
   "execution_count": 55,
   "metadata": {},
   "outputs": [
    {
     "name": "stdout",
     "output_type": "stream",
     "text": [
      "유효특허 in raw_data:  86 , 중복제거:  21\n"
     ]
    }
   ],
   "source": [
    "#raw_data 중에서 val_data\n",
    "count = 0\n",
    "filterd_list = []\n",
    "for raw in raw_list:\n",
    "    for val in val_list:\n",
    "        if raw == val:\n",
    "            filterd_list.append(raw)\n",
    "            count += 1\n",
    "print(\"유효특허 in raw_data: \", count, \", 중복제거: \",len(set(filterd_list)))"
   ]
  },
  {
   "cell_type": "markdown",
   "metadata": {
    "collapsed": true
   },
   "source": [
    "<h4>US 유효특허 : 86개<br></h4>\n",
    "유효특허 개수만큼 뽑힘<br>"
   ]
  },
  {
   "cell_type": "markdown",
   "metadata": {},
   "source": [
    "<hr>"
   ]
  },
  {
   "cell_type": "markdown",
   "metadata": {},
   "source": [
    "<h3>IPC Digitization</h3>"
   ]
  },
  {
   "attachments": {},
   "cell_type": "markdown",
   "metadata": {},
   "source": [
    "<img src=\"https://github.com/YeHoonJang/image_data/blob/master/ipc_form.png?raw=true\"/>"
   ]
  },
  {
   "attachments": {},
   "cell_type": "markdown",
   "metadata": {},
   "source": [
    "<img src=\"https://github.com/YeHoonJang/image_data/blob/master/ipc_example.png?raw=true\" />"
   ]
  },
  {
   "attachments": {},
   "cell_type": "markdown",
   "metadata": {},
   "source": [
    "<img src=\"https://github.com/YeHoonJang/image_data/blob/master/ipc_example_2.png?raw=true\"/>"
   ]
  },
  {
   "cell_type": "code",
   "execution_count": 56,
   "metadata": {
    "collapsed": true,
    "scrolled": true
   },
   "outputs": [],
   "source": [
    "ipc_section = {'A':'1', 'B':'2', 'C':'3', 'D':'4', 'E':'5', 'F':'6', 'G':'7', 'H':'8'}\n",
    "ipc_sub_section = {'A':'01', 'B':'02', 'C':'03', 'D':'04', 'E':'05', 'F':'06', 'G':'07', 'H':'08',\n",
    "                   'I':'09', 'J':'10', 'K':'11', 'L':'12', 'M':'13', 'N':'14', 'O':'15', 'P':'16', 'Q':'17',\n",
    "                   'R':'18', 'S':'19', 'T':'20', 'U':'21', 'V':'22', 'W':'23', 'X':'24', 'Y':'25', 'Z':'26'}"
   ]
  },
  {
   "cell_type": "code",
   "execution_count": 57,
   "metadata": {
    "collapsed": true
   },
   "outputs": [],
   "source": [
    "def convert_letter_to_digit(ipc):\n",
    "    numeric_list = []\n",
    "    for idx, char in enumerate(ipc):\n",
    "        if idx == 0 and char in ipc_section:\n",
    "            char = ipc_section[char]\n",
    "            numeric_list.append(char)\n",
    "        elif idx == 3 and char in ipc_sub_section:\n",
    "            char = ipc_sub_section[char]\n",
    "            numeric_list.append(char)\n",
    "        else:\n",
    "            numeric_list.append(char)\n",
    "    return numeric_list"
   ]
  },
  {
   "cell_type": "code",
   "execution_count": 58,
   "metadata": {
    "collapsed": true
   },
   "outputs": [],
   "source": [
    "def ipc_main_digitization(column):\n",
    "    for row, ipc in enumerate(column):\n",
    "        ipc_list = []\n",
    "        numeric_list = convert_letter_to_digit(ipc)\n",
    "        ipc_list.append(('').join(numeric_list))\n",
    "        column[row] = ipc_list"
   ]
  },
  {
   "cell_type": "code",
   "execution_count": 62,
   "metadata": {
    "collapsed": true
   },
   "outputs": [],
   "source": [
    "def ipc_all_digitization(column):\n",
    "    for row, ipc in enumerate(column):\n",
    "        ipc_list = []\n",
    "        if \"|\" in ipc:\n",
    "            split_ipc = ipc.split(\"|\")\n",
    "            for ipc in split_ipc:\n",
    "                ipc = ipc.strip()\n",
    "                numeric_list = convert_letter_to_digit(ipc)\n",
    "                ipc = ((\"\").join(numeric_list))\n",
    "                ipc_list.append(ipc)\n",
    "            column[row] = ipc_list\n",
    "        else:\n",
    "            numeric_list = convert_letter_to_digit(ipc)\n",
    "            ipc_list.append(('').join(numeric_list))\n",
    "            column[row] = ipc_list"
   ]
  },
  {
   "cell_type": "code",
   "execution_count": 63,
   "metadata": {},
   "outputs": [
    {
     "data": {
      "text/plain": [
       "0                                          B08B-009/00\n",
       "1                                          B09B-003/00\n",
       "2                                          C02F-001/48\n",
       "3                            A62D-003/33 | G21F-009/30\n",
       "4    C02F-001/52 | B01D-021/01 | B01D-021/02 | B01D...\n",
       "Name: Original IPC All, dtype: object"
      ]
     },
     "execution_count": 63,
     "metadata": {},
     "output_type": "execute_result"
    }
   ],
   "source": [
    "raw_data['Original IPC All'].head()"
   ]
  },
  {
   "cell_type": "markdown",
   "metadata": {},
   "source": [
    "<hr>"
   ]
  },
  {
   "cell_type": "code",
   "execution_count": 64,
   "metadata": {},
   "outputs": [
    {
     "name": "stderr",
     "output_type": "stream",
     "text": [
      "/home/yehoon/anaconda3/lib/python3.6/site-packages/ipykernel_launcher.py:6: SettingWithCopyWarning: \n",
      "A value is trying to be set on a copy of a slice from a DataFrame\n",
      "\n",
      "See the caveats in the documentation: http://pandas.pydata.org/pandas-docs/stable/indexing.html#indexing-view-versus-copy\n",
      "  \n"
     ]
    },
    {
     "data": {
      "text/plain": [
       "0    [20802-009/00]\n",
       "1    [20902-003/00]\n",
       "2    [30206-001/48]\n",
       "3    [16204-003/33]\n",
       "4    [30206-001/52]\n",
       "Name: Original IPC Main, dtype: object"
      ]
     },
     "execution_count": 64,
     "metadata": {},
     "output_type": "execute_result"
    }
   ],
   "source": [
    "#raw_data ipc_main digitization\n",
    "ipc_main_digitization(raw_data['Original IPC Main'])\n",
    "raw_data['Original IPC Main'].head()"
   ]
  },
  {
   "cell_type": "code",
   "execution_count": 65,
   "metadata": {},
   "outputs": [
    {
     "name": "stderr",
     "output_type": "stream",
     "text": [
      "/home/yehoon/anaconda3/lib/python3.6/site-packages/ipykernel_launcher.py:6: SettingWithCopyWarning: \n",
      "A value is trying to be set on a copy of a slice from a DataFrame\n",
      "\n",
      "See the caveats in the documentation: http://pandas.pydata.org/pandas-docs/stable/indexing.html#indexing-view-versus-copy\n",
      "  \n"
     ]
    },
    {
     "data": {
      "text/plain": [
       "0    [50202]\n",
       "1    [50202]\n",
       "2    [30206]\n",
       "3    [30206]\n",
       "4    [50202]\n",
       "Name: IPC, dtype: object"
      ]
     },
     "execution_count": 65,
     "metadata": {},
     "output_type": "execute_result"
    }
   ],
   "source": [
    "#val_data ipc digitization\n",
    "ipc_main_digitization(val_data['IPC'])\n",
    "val_data['IPC'].head()"
   ]
  },
  {
   "cell_type": "code",
   "execution_count": 66,
   "metadata": {},
   "outputs": [
    {
     "name": "stderr",
     "output_type": "stream",
     "text": [
      "/home/yehoon/anaconda3/lib/python3.6/site-packages/ipykernel_launcher.py:15: SettingWithCopyWarning: \n",
      "A value is trying to be set on a copy of a slice from a DataFrame\n",
      "\n",
      "See the caveats in the documentation: http://pandas.pydata.org/pandas-docs/stable/indexing.html#indexing-view-versus-copy\n",
      "  from ipykernel import kernelapp as app\n",
      "/home/yehoon/anaconda3/lib/python3.6/site-packages/ipykernel_launcher.py:11: SettingWithCopyWarning: \n",
      "A value is trying to be set on a copy of a slice from a DataFrame\n",
      "\n",
      "See the caveats in the documentation: http://pandas.pydata.org/pandas-docs/stable/indexing.html#indexing-view-versus-copy\n",
      "  # This is added back by InteractiveShellApp.init_path()\n"
     ]
    },
    {
     "data": {
      "text/plain": [
       "0                                       [20802-009/00]\n",
       "1                                       [20902-003/00]\n",
       "2                                       [30206-001/48]\n",
       "3                         [16204-003/33, 72106-009/30]\n",
       "4    [30206-001/52, 20104-021/01, 20104-021/02, 201...\n",
       "Name: Original IPC All, dtype: object"
      ]
     },
     "execution_count": 66,
     "metadata": {},
     "output_type": "execute_result"
    }
   ],
   "source": [
    "#raw_data ipc_all digitization\n",
    "ipc_all_digitization(raw_data['Original IPC All'])\n",
    "raw_data['Original IPC All'].head()"
   ]
  },
  {
   "cell_type": "code",
   "execution_count": null,
   "metadata": {
    "collapsed": true
   },
   "outputs": [],
   "source": []
  }
 ],
 "metadata": {
  "kernelspec": {
   "display_name": "Python 3",
   "language": "python",
   "name": "python3"
  },
  "language_info": {
   "codemirror_mode": {
    "name": "ipython",
    "version": 3
   },
   "file_extension": ".py",
   "mimetype": "text/x-python",
   "name": "python",
   "nbconvert_exporter": "python",
   "pygments_lexer": "ipython3",
   "version": "3.6.3"
  }
 },
 "nbformat": 4,
 "nbformat_minor": 2
}
