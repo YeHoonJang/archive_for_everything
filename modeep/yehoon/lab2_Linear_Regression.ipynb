{
 "cells": [
  {
   "cell_type": "code",
   "execution_count": 2,
   "metadata": {},
   "outputs": [],
   "source": [
    "import tensorflow as tf"
   ]
  },
  {
   "cell_type": "code",
   "execution_count": 13,
   "metadata": {},
   "outputs": [],
   "source": [
    "# x_train = [1,2,3]\n",
    "# y_train = [1,2,3]\n",
    "\n",
    "#placeholders\n",
    "X = tf.placeholder(tf.float32)\n",
    "Y = tf.placeholder(tf.float32)\n",
    "\n",
    "\n",
    "W = tf.Variable(tf.random_normal([1]), name = 'weight')\n",
    "b = tf.Variable(tf.random_normal([1]), name = 'bias')\n",
    "\n",
    "#hypothesis 정의\n",
    "hypothesis = x_train * W + b"
   ]
  },
  {
   "cell_type": "code",
   "execution_count": 14,
   "metadata": {},
   "outputs": [],
   "source": [
    "#cost 정의\n",
    "cost = tf.reduce_mean(tf.square(hypothesis - y_train))"
   ]
  },
  {
   "cell_type": "code",
   "execution_count": 15,
   "metadata": {},
   "outputs": [],
   "source": [
    "#minimize\n",
    "optimizer = tf.train.GradientDescentOptimizer(learning_rate=0.01)\n",
    "train = optimizer.minimize(cost)"
   ]
  },
  {
   "cell_type": "code",
   "execution_count": 16,
   "metadata": {},
   "outputs": [],
   "source": [
    "#launch the graph in a session\n",
    "sess = tf.Session()\n",
    "\n",
    "#initializes global variables in the graph\n",
    "sess.run(tf.global_variables_initializer())"
   ]
  },
  {
   "cell_type": "code",
   "execution_count": 19,
   "metadata": {},
   "outputs": [
    {
     "name": "stdout",
     "output_type": "stream",
     "text": [
      "0 3.10045e-11 [ 1.00000668] [ -1.43804791e-05]\n",
      "100 2.44628e-11 [ 1.00000608] [ -1.28398970e-05]\n",
      "200 2.07526e-11 [ 1.0000056] [ -1.16986612e-05]\n",
      "300 1.86411e-11 [ 1.00000525] [ -1.08057766e-05]\n",
      "400 1.65616e-11 [ 1.00000501] [ -1.01966052e-05]\n",
      "500 1.50173e-11 [ 1.00000477] [ -9.72969883e-06]\n",
      "600 1.4231e-11 [ 1.00000465] [ -9.34941818e-06]\n",
      "700 1.35489e-11 [ 1.00000453] [ -9.24171491e-06]\n",
      "800 1.31652e-11 [ 1.00000441] [ -8.97984683e-06]\n",
      "900 1.35062e-11 [ 1.00000441] [ -8.89202511e-06]\n",
      "1000 1.24546e-11 [ 1.00000429] [ -8.65995389e-06]\n",
      "1100 1.22782e-11 [ 1.00000429] [ -8.61265744e-06]\n",
      "1200 1.22782e-11 [ 1.00000429] [ -8.61265744e-06]\n",
      "1300 1.22782e-11 [ 1.00000429] [ -8.61265744e-06]\n",
      "1400 1.22782e-11 [ 1.00000429] [ -8.61265744e-06]\n",
      "1500 1.22782e-11 [ 1.00000429] [ -8.61265744e-06]\n",
      "1600 1.22782e-11 [ 1.00000429] [ -8.61265744e-06]\n",
      "1700 1.22782e-11 [ 1.00000429] [ -8.61265744e-06]\n",
      "1800 1.22782e-11 [ 1.00000429] [ -8.61265744e-06]\n",
      "1900 1.22782e-11 [ 1.00000429] [ -8.61265744e-06]\n",
      "2000 1.22782e-11 [ 1.00000429] [ -8.61265744e-06]\n"
     ]
    }
   ],
   "source": [
    "#fit the line\n",
    "# for step in range(2001):\n",
    "#     sess.run(train)\n",
    "#     if step % 100 == 0:\n",
    "#         print(step, sess.run(cost), sess.run(W), sess.run(b))\n",
    "\n",
    "for step in range(2001):\n",
    "    cost_val, W_val, b_val, _ = \\\n",
    "    sess.run([cost, W, b, train],\n",
    "            feed_dict = {X:[1,2,3,4,5], Y:[2.1, 3.1, 4.1, 5.1, 6.1]})\n",
    "    if step % 100 == 0:\n",
    "        print(step, cost_val, W_val, b_val)"
   ]
  },
  {
   "cell_type": "code",
   "execution_count": null,
   "metadata": {},
   "outputs": [],
   "source": []
  }
 ],
 "metadata": {
  "kernelspec": {
   "display_name": "Python 3",
   "language": "python",
   "name": "python3"
  },
  "language_info": {
   "codemirror_mode": {
    "name": "ipython",
    "version": 3
   },
   "file_extension": ".py",
   "mimetype": "text/x-python",
   "name": "python",
   "nbconvert_exporter": "python",
   "pygments_lexer": "ipython3",
   "version": "3.5.4"
  }
 },
 "nbformat": 4,
 "nbformat_minor": 2
}
