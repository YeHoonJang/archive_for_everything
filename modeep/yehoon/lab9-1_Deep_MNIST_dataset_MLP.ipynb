{
 "cells": [
  {
   "cell_type": "code",
   "execution_count": 1,
   "metadata": {},
   "outputs": [],
   "source": [
    "from tensorflow.examples.tutorials.mnist import input_data\n",
    "import tensorflow as tf"
   ]
  },
  {
   "cell_type": "code",
   "execution_count": 2,
   "metadata": {},
   "outputs": [
    {
     "name": "stdout",
     "output_type": "stream",
     "text": [
      "Extracting MNIST_data/train-images-idx3-ubyte.gz\n",
      "Extracting MNIST_data/train-labels-idx1-ubyte.gz\n",
      "Extracting MNIST_data/t10k-images-idx3-ubyte.gz\n",
      "Extracting MNIST_data/t10k-labels-idx1-ubyte.gz\n"
     ]
    }
   ],
   "source": [
    "mnist = input_data.read_data_sets(\"MNIST_data/\", one_hot=True)"
   ]
  },
  {
   "cell_type": "code",
   "execution_count": 3,
   "metadata": {},
   "outputs": [],
   "source": [
    "nb_classes = 10\n",
    "\n",
    "X = tf.placeholder(tf.float32, [None, 784])\n",
    "Y = tf.placeholder(tf.float32, [None, nb_classes])\n",
    "\n",
    "W1 = tf.Variable(tf.random_normal([784, 200]))\n",
    "b1 = tf.Variable(tf.random_normal([200]))\n",
    "layer1 = tf.nn.softmax(tf.matmul(X, W1) + b1)\n",
    "\n",
    "# W2 = tf.Variable(tf.random_normal([300, 200]))\n",
    "# b2= tf.Variable(tf.random_normal([200]))\n",
    "# layer2 = tf.nn.softmax(tf.matmul(layer1, W2) + b2)\n",
    "\n",
    "W3= tf.Variable(tf.random_normal([200, 100]))\n",
    "b3 = tf.Variable(tf.random_normal([100]))\n",
    "layer3 = tf.nn.softmax(tf.matmul(layer1, W3) + b3)\n",
    "\n",
    "W4= tf.Variable(tf.random_normal([100, nb_classes]))\n",
    "b4 = tf.Variable(tf.random_normal([nb_classes]))\n",
    "hypothesis = tf.nn.softmax(tf.matmul(layer3, W4) + b4)\n",
    "\n",
    "cost = tf.reduce_mean(-tf.reduce_sum(Y * tf.log(hypothesis), axis =1))\n",
    "optimizer = tf.train.GradientDescentOptimizer(learning_rate=0.1).minimize(cost)\n",
    "\n",
    "is_correct = tf.equal(tf.arg_max(hypothesis, 1), tf.arg_max(Y, 1))\n",
    "accuracy = tf.reduce_mean(tf.cast(is_correct, tf.float32))"
   ]
  },
  {
   "cell_type": "code",
   "execution_count": 4,
   "metadata": {
    "scrolled": true
   },
   "outputs": [
    {
     "name": "stdout",
     "output_type": "stream",
     "text": [
      "Epoch: 0001 cost = 2.346061411\n",
      "Epoch: 0051 cost = 0.813071394\n",
      "Epoch: 0101 cost = 0.636980655\n",
      "Epoch: 0151 cost = 0.569050716\n",
      "Epoch: 0201 cost = 0.540520546\n",
      "Epoch: 0251 cost = 0.515462950\n",
      "Epoch: 0301 cost = 0.384291712\n",
      "Epoch: 0351 cost = 0.357151953\n",
      "Epoch: 0401 cost = 0.342455616\n",
      "Epoch: 0451 cost = 0.331328355\n",
      "Epoch: 0501 cost = 0.323329429\n",
      "Epoch: 0551 cost = 0.316008784\n",
      "Epoch: 0601 cost = 0.308864491\n",
      "Epoch: 0651 cost = 0.302981736\n",
      "Epoch: 0701 cost = 0.297133517\n",
      "Epoch: 0751 cost = 0.289521291\n",
      "Epoch: 0801 cost = 0.240567453\n",
      "Epoch: 0851 cost = 0.199858201\n",
      "Epoch: 0901 cost = 0.184308210\n",
      "Epoch: 0951 cost = 0.174345098\n",
      "Epoch: 1001 cost = 0.167600599\n",
      "Epoch: 1051 cost = 0.162061025\n",
      "Epoch: 1101 cost = 0.156751934\n",
      "Epoch: 1151 cost = 0.152594229\n",
      "Epoch: 1201 cost = 0.149510983\n",
      "Epoch: 1251 cost = 0.146277161\n",
      "Epoch: 1301 cost = 0.143583302\n",
      "Epoch: 1351 cost = 0.140665750\n",
      "Epoch: 1401 cost = 0.137725293\n",
      "Epoch: 1451 cost = 0.134957439\n",
      "Accuracy:  0.9314\n",
      "Label:  [8]\n",
      "Prediction:  [8]\n"
     ]
    },
    {
     "data": {
      "text/plain": [
       "<matplotlib.figure.Figure at 0x7fd197f356d8>"
      ]
     },
     "metadata": {},
     "output_type": "display_data"
    }
   ],
   "source": [
    "training_epochs = 1500\n",
    "batch_size = 100\n",
    "\n",
    "with tf.Session() as sess:\n",
    "    sess.run(tf.global_variables_initializer())\n",
    "    \n",
    "    for epoch in range(training_epochs):\n",
    "        avg_cost = 0\n",
    "        total_batch = int(mnist.train.num_examples / batch_size)\n",
    "        \n",
    "        for i in range(total_batch):\n",
    "            batch_xs , batch_ys = mnist.train.next_batch(batch_size)\n",
    "            c, _ = sess.run([cost, optimizer], feed_dict={X:batch_xs, Y:batch_ys})\n",
    "            avg_cost += c / total_batch\n",
    "        if epoch % 50 ==0:\n",
    "            print('Epoch:', '%04d' % (epoch + 1), 'cost =', '{:.9f}'.format(avg_cost))\n",
    "    print(\"Accuracy: \", accuracy.eval(session=sess, feed_dict={X: mnist.test.images, Y: mnist.test.labels}))\n",
    "    \n",
    "    import matplotlib.pyplot as plt\n",
    "    import random\n",
    "\n",
    "    r = random.randint(0, mnist.test.num_examples - 1)\n",
    "    print(\"Label: \", sess.run(tf.argmax(mnist.test.labels[r:r+1], 1)))\n",
    "    print(\"Prediction: \", sess.run(tf.argmax(hypothesis, 1), feed_dict = {X:mnist.test.images[r:r+1]}))\n",
    "\n",
    "    plt.imshow(mnist.test.images[r:r+1].reshape(28, 28), cmap=\"Greys\", interpolation='nearest')\n",
    "    plt.show()"
   ]
  }
 ],
 "metadata": {
  "kernelspec": {
   "display_name": "Python 3",
   "language": "python",
   "name": "python3"
  },
  "language_info": {
   "codemirror_mode": {
    "name": "ipython",
    "version": 3
   },
   "file_extension": ".py",
   "mimetype": "text/x-python",
   "name": "python",
   "nbconvert_exporter": "python",
   "pygments_lexer": "ipython3",
   "version": "3.5.4"
  }
 },
 "nbformat": 4,
 "nbformat_minor": 2
}
