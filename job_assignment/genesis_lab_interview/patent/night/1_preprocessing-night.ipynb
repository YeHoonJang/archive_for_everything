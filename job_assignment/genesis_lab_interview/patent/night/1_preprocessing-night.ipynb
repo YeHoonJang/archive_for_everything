{
 "cells": [
  {
   "cell_type": "code",
   "execution_count": 179,
   "metadata": {},
   "outputs": [],
   "source": [
    "import pandas as pd\n",
    "import numpy as np\n",
    "from sklearn.preprocessing import LabelEncoder\n",
    "import warnings\n",
    "warnings.filterwarnings(action='ignore')\n"
   ]
  },
  {
   "cell_type": "markdown",
   "metadata": {},
   "source": [
    "### raw data 와 valid data 개요"
   ]
  },
  {
   "cell_type": "code",
   "execution_count": 180,
   "metadata": {},
   "outputs": [
    {
     "name": "stdout",
     "output_type": "stream",
     "text": [
      "(1236, 37)\n"
     ]
    },
    {
     "data": {
      "text/html": [
       "<div>\n",
       "<style scoped>\n",
       "    .dataframe tbody tr th:only-of-type {\n",
       "        vertical-align: middle;\n",
       "    }\n",
       "\n",
       "    .dataframe tbody tr th {\n",
       "        vertical-align: top;\n",
       "    }\n",
       "\n",
       "    .dataframe thead th {\n",
       "        text-align: right;\n",
       "    }\n",
       "</style>\n",
       "<table border=\"1\" class=\"dataframe\">\n",
       "  <thead>\n",
       "    <tr style=\"text-align: right;\">\n",
       "      <th></th>\n",
       "      <th>국가코드</th>\n",
       "      <th>DB종류</th>\n",
       "      <th>특허/실용 구분</th>\n",
       "      <th>문헌종류 코드</th>\n",
       "      <th>발명의 명칭</th>\n",
       "      <th>요약</th>\n",
       "      <th>대표청구항</th>\n",
       "      <th>청구항 수</th>\n",
       "      <th>출원번호</th>\n",
       "      <th>출원일</th>\n",
       "      <th>...</th>\n",
       "      <th>Original CPC Main</th>\n",
       "      <th>Original CPC All</th>\n",
       "      <th>Original IPC Main</th>\n",
       "      <th>Original IPC All</th>\n",
       "      <th>Original US Class Main[US]</th>\n",
       "      <th>Original US Class All[US]</th>\n",
       "      <th>Original FI[JP]</th>\n",
       "      <th>Original F-term[JP]</th>\n",
       "      <th>Original Theme Code [JP]</th>\n",
       "      <th>WIPS ON key</th>\n",
       "    </tr>\n",
       "  </thead>\n",
       "  <tbody>\n",
       "    <tr>\n",
       "      <td>0</td>\n",
       "      <td>US</td>\n",
       "      <td>US</td>\n",
       "      <td>P</td>\n",
       "      <td>A1</td>\n",
       "      <td>Non ionic/electrolyte, liquid/gaseous, mechani...</td>\n",
       "      <td>The variable hydraulic press and distillation ...</td>\n",
       "      <td>1. A cool complete vacuum draws any one partic...</td>\n",
       "      <td>4</td>\n",
       "      <td>13/689789</td>\n",
       "      <td>2012-11-30</td>\n",
       "      <td>...</td>\n",
       "      <td>B23P-0013/00</td>\n",
       "      <td>B23P-0013/00</td>\n",
       "      <td>B23P-013/00</td>\n",
       "      <td>B23P-013/00</td>\n",
       "      <td>029/592</td>\n",
       "      <td>029/592</td>\n",
       "      <td>NaN</td>\n",
       "      <td>NaN</td>\n",
       "      <td>NaN</td>\n",
       "      <td>5.414020e+12</td>\n",
       "    </tr>\n",
       "    <tr>\n",
       "      <td>1</td>\n",
       "      <td>US</td>\n",
       "      <td>US</td>\n",
       "      <td>P</td>\n",
       "      <td>A1</td>\n",
       "      <td>METHOD AND SYSTEM FOR RECOGNIZING SPACE OF SHO...</td>\n",
       "      <td>Disclosed herein are a method and a system for...</td>\n",
       "      <td>1. A method of recognizing a space of a road s...</td>\n",
       "      <td>18</td>\n",
       "      <td>13/710196</td>\n",
       "      <td>2012-12-10</td>\n",
       "      <td>...</td>\n",
       "      <td>G01S-0013/867</td>\n",
       "      <td>G01S-0013/867 | G01S-0013/862</td>\n",
       "      <td>G01S-013/86</td>\n",
       "      <td>G01S-013/86</td>\n",
       "      <td>342/052</td>\n",
       "      <td>342/052 | 342/070</td>\n",
       "      <td>NaN</td>\n",
       "      <td>NaN</td>\n",
       "      <td>NaN</td>\n",
       "      <td>5.414020e+12</td>\n",
       "    </tr>\n",
       "    <tr>\n",
       "      <td>2</td>\n",
       "      <td>US</td>\n",
       "      <td>US</td>\n",
       "      <td>P</td>\n",
       "      <td>B2</td>\n",
       "      <td>Enhanced road vision on full windshield head-u...</td>\n",
       "      <td>A method to selectively project graphical imag...</td>\n",
       "      <td>1. Method to selectively project graphical ima...</td>\n",
       "      <td>17</td>\n",
       "      <td>12/487926</td>\n",
       "      <td>2009-06-19</td>\n",
       "      <td>...</td>\n",
       "      <td>NaN</td>\n",
       "      <td>NaN</td>\n",
       "      <td>B60Q-001/00</td>\n",
       "      <td>B60Q-001/00 | G08G-001/16</td>\n",
       "      <td>340/461</td>\n",
       "      <td>340/461 | 340/435 | 340/436 | 340/905</td>\n",
       "      <td>NaN</td>\n",
       "      <td>NaN</td>\n",
       "      <td>NaN</td>\n",
       "      <td>4.914020e+12</td>\n",
       "    </tr>\n",
       "    <tr>\n",
       "      <td>3</td>\n",
       "      <td>US</td>\n",
       "      <td>US</td>\n",
       "      <td>P</td>\n",
       "      <td>A1</td>\n",
       "      <td>METHODS AND SYSTEMS FOR IMAGING AND CUTTING SE...</td>\n",
       "      <td>Methods and systems for imaging and cutting se...</td>\n",
       "      <td>1. A system for singulating microelectronic de...</td>\n",
       "      <td>21</td>\n",
       "      <td>14/093682</td>\n",
       "      <td>2013-12-02</td>\n",
       "      <td>...</td>\n",
       "      <td>B28D-0005/0064</td>\n",
       "      <td>B28D-0005/0064 | B26F-0003/004 | B23K-0026/407...</td>\n",
       "      <td>B28D-005/00</td>\n",
       "      <td>B28D-005/00 | B23K-026/40 | B23Q-015/22 | B26F...</td>\n",
       "      <td>083/076.8</td>\n",
       "      <td>083/076.8 | 083/368 | 451/002 | 219/121.67</td>\n",
       "      <td>NaN</td>\n",
       "      <td>NaN</td>\n",
       "      <td>NaN</td>\n",
       "      <td>5.414010e+12</td>\n",
       "    </tr>\n",
       "    <tr>\n",
       "      <td>4</td>\n",
       "      <td>US</td>\n",
       "      <td>US</td>\n",
       "      <td>P</td>\n",
       "      <td>A1</td>\n",
       "      <td>Labels Having an Information Dye</td>\n",
       "      <td>The present invention is directed to labels ha...</td>\n",
       "      <td>1. A label comprising an information dye.</td>\n",
       "      <td>26</td>\n",
       "      <td>13/910719</td>\n",
       "      <td>2013-06-05</td>\n",
       "      <td>...</td>\n",
       "      <td>G09F-0003/02</td>\n",
       "      <td>G09F-0003/02 | B02C-0023/08 | G09F-0003/04 | B...</td>\n",
       "      <td>G09F-003/02</td>\n",
       "      <td>G09F-003/02 | G01N-021/59 | B07C-005/34 | B02C...</td>\n",
       "      <td>241/020</td>\n",
       "      <td>241/020 | 040/299.01 | 040/310 | 209/576 | 356...</td>\n",
       "      <td>NaN</td>\n",
       "      <td>NaN</td>\n",
       "      <td>NaN</td>\n",
       "      <td>5.414010e+12</td>\n",
       "    </tr>\n",
       "  </tbody>\n",
       "</table>\n",
       "<p>5 rows × 37 columns</p>\n",
       "</div>"
      ],
      "text/plain": [
       "  국가코드 DB종류 특허/실용 구분 문헌종류 코드  \\\n",
       "0   US   US        P      A1   \n",
       "1   US   US        P      A1   \n",
       "2   US   US        P      B2   \n",
       "3   US   US        P      A1   \n",
       "4   US   US        P      A1   \n",
       "\n",
       "                                              발명의 명칭  \\\n",
       "0  Non ionic/electrolyte, liquid/gaseous, mechani...   \n",
       "1  METHOD AND SYSTEM FOR RECOGNIZING SPACE OF SHO...   \n",
       "2  Enhanced road vision on full windshield head-u...   \n",
       "3  METHODS AND SYSTEMS FOR IMAGING AND CUTTING SE...   \n",
       "4                   Labels Having an Information Dye   \n",
       "\n",
       "                                                  요약  \\\n",
       "0  The variable hydraulic press and distillation ...   \n",
       "1  Disclosed herein are a method and a system for...   \n",
       "2  A method to selectively project graphical imag...   \n",
       "3  Methods and systems for imaging and cutting se...   \n",
       "4  The present invention is directed to labels ha...   \n",
       "\n",
       "                                               대표청구항  청구항 수       출원번호  \\\n",
       "0  1. A cool complete vacuum draws any one partic...      4  13/689789   \n",
       "1  1. A method of recognizing a space of a road s...     18  13/710196   \n",
       "2  1. Method to selectively project graphical ima...     17  12/487926   \n",
       "3  1. A system for singulating microelectronic de...     21  14/093682   \n",
       "4          1. A label comprising an information dye.     26  13/910719   \n",
       "\n",
       "          출원일  ... Original CPC Main  \\\n",
       "0  2012-11-30  ...      B23P-0013/00   \n",
       "1  2012-12-10  ...     G01S-0013/867   \n",
       "2  2009-06-19  ...               NaN   \n",
       "3  2013-12-02  ...    B28D-0005/0064   \n",
       "4  2013-06-05  ...      G09F-0003/02   \n",
       "\n",
       "                                    Original CPC All Original IPC Main  \\\n",
       "0                                       B23P-0013/00       B23P-013/00   \n",
       "1                      G01S-0013/867 | G01S-0013/862       G01S-013/86   \n",
       "2                                                NaN       B60Q-001/00   \n",
       "3  B28D-0005/0064 | B26F-0003/004 | B23K-0026/407...       B28D-005/00   \n",
       "4  G09F-0003/02 | B02C-0023/08 | G09F-0003/04 | B...       G09F-003/02   \n",
       "\n",
       "                                    Original IPC All  \\\n",
       "0                                        B23P-013/00   \n",
       "1                                        G01S-013/86   \n",
       "2                          B60Q-001/00 | G08G-001/16   \n",
       "3  B28D-005/00 | B23K-026/40 | B23Q-015/22 | B26F...   \n",
       "4  G09F-003/02 | G01N-021/59 | B07C-005/34 | B02C...   \n",
       "\n",
       "  Original US Class Main[US]  \\\n",
       "0                    029/592   \n",
       "1                    342/052   \n",
       "2                    340/461   \n",
       "3                  083/076.8   \n",
       "4                    241/020   \n",
       "\n",
       "                           Original US Class All[US]  Original FI[JP]  \\\n",
       "0                                            029/592              NaN   \n",
       "1                                  342/052 | 342/070              NaN   \n",
       "2              340/461 | 340/435 | 340/436 | 340/905              NaN   \n",
       "3         083/076.8 | 083/368 | 451/002 | 219/121.67              NaN   \n",
       "4  241/020 | 040/299.01 | 040/310 | 209/576 | 356...              NaN   \n",
       "\n",
       "  Original F-term[JP] Original Theme Code [JP]   WIPS ON key  \n",
       "0                 NaN                      NaN  5.414020e+12  \n",
       "1                 NaN                      NaN  5.414020e+12  \n",
       "2                 NaN                      NaN  4.914020e+12  \n",
       "3                 NaN                      NaN  5.414010e+12  \n",
       "4                 NaN                      NaN  5.414010e+12  \n",
       "\n",
       "[5 rows x 37 columns]"
      ]
     },
     "execution_count": 180,
     "metadata": {},
     "output_type": "execute_result"
    }
   ],
   "source": [
    "raw_data = pd.read_csv(\"../data/night/night_sight_raw.csv\", encoding='cp949')\n",
    "print(raw_data.shape)\n",
    "raw_data.head()"
   ]
  },
  {
   "cell_type": "code",
   "execution_count": 181,
   "metadata": {},
   "outputs": [],
   "source": [
    "df = pd.DataFrame(raw_data, columns=raw_data.columns)"
   ]
  },
  {
   "cell_type": "code",
   "execution_count": 182,
   "metadata": {},
   "outputs": [
    {
     "name": "stdout",
     "output_type": "stream",
     "text": [
      "(3191, 7)\n"
     ]
    },
    {
     "data": {
      "text/html": [
       "<div>\n",
       "<style scoped>\n",
       "    .dataframe tbody tr th:only-of-type {\n",
       "        vertical-align: middle;\n",
       "    }\n",
       "\n",
       "    .dataframe tbody tr th {\n",
       "        vertical-align: top;\n",
       "    }\n",
       "\n",
       "    .dataframe thead th {\n",
       "        text-align: right;\n",
       "    }\n",
       "</style>\n",
       "<table border=\"1\" class=\"dataframe\">\n",
       "  <thead>\n",
       "    <tr style=\"text-align: right;\">\n",
       "      <th></th>\n",
       "      <th>공개(등록)번호</th>\n",
       "      <th>공개(등록)일자</th>\n",
       "      <th>국가</th>\n",
       "      <th>구분</th>\n",
       "      <th>발명의 명칭</th>\n",
       "      <th>IPC</th>\n",
       "      <th>출원인</th>\n",
       "    </tr>\n",
       "  </thead>\n",
       "  <tbody>\n",
       "    <tr>\n",
       "      <td>0</td>\n",
       "      <td>JP-0240608</td>\n",
       "      <td>NaN</td>\n",
       "      <td>JA</td>\n",
       "      <td>공개</td>\n",
       "      <td>LIGHT BEAM SCANNER</td>\n",
       "      <td>G02B</td>\n",
       "      <td>RICOH CO LTD</td>\n",
       "    </tr>\n",
       "    <tr>\n",
       "      <td>1</td>\n",
       "      <td>JP-0271064</td>\n",
       "      <td>NaN</td>\n",
       "      <td>JA</td>\n",
       "      <td>공개</td>\n",
       "      <td>OPTICAL SCANNER</td>\n",
       "      <td>G02B</td>\n",
       "      <td>FUJI XEROX CO LTD</td>\n",
       "    </tr>\n",
       "    <tr>\n",
       "      <td>2</td>\n",
       "      <td>JP-0220838</td>\n",
       "      <td>NaN</td>\n",
       "      <td>JA</td>\n",
       "      <td>공개</td>\n",
       "      <td>OPTICAL SCANNER AND IMAGE FORMING APPARATUS US...</td>\n",
       "      <td>G02B</td>\n",
       "      <td>RICOH PRINTING SYSTEMS LTD</td>\n",
       "    </tr>\n",
       "    <tr>\n",
       "      <td>3</td>\n",
       "      <td>JP-0206021</td>\n",
       "      <td>NaN</td>\n",
       "      <td>JA</td>\n",
       "      <td>공개</td>\n",
       "      <td>OPTICAL SCANNER AND IMAGE FORMING APPARATUS</td>\n",
       "      <td>G02B</td>\n",
       "      <td>RICOH CO LTD</td>\n",
       "    </tr>\n",
       "    <tr>\n",
       "      <td>4</td>\n",
       "      <td>JP-0159534</td>\n",
       "      <td>NaN</td>\n",
       "      <td>JA</td>\n",
       "      <td>공개</td>\n",
       "      <td>OPTICAL SCANNER AND IMAGE FORMING APPARATUS</td>\n",
       "      <td>G02B</td>\n",
       "      <td>SHARP CORP</td>\n",
       "    </tr>\n",
       "  </tbody>\n",
       "</table>\n",
       "</div>"
      ],
      "text/plain": [
       "     공개(등록)번호  공개(등록)일자  국가  구분  \\\n",
       "0  JP-0240608       NaN  JA  공개   \n",
       "1  JP-0271064       NaN  JA  공개   \n",
       "2  JP-0220838       NaN  JA  공개   \n",
       "3  JP-0206021       NaN  JA  공개   \n",
       "4  JP-0159534       NaN  JA  공개   \n",
       "\n",
       "                                              발명의 명칭   IPC  \\\n",
       "0                                 LIGHT BEAM SCANNER  G02B   \n",
       "1                                    OPTICAL SCANNER  G02B   \n",
       "2  OPTICAL SCANNER AND IMAGE FORMING APPARATUS US...  G02B   \n",
       "3        OPTICAL SCANNER AND IMAGE FORMING APPARATUS  G02B   \n",
       "4        OPTICAL SCANNER AND IMAGE FORMING APPARATUS  G02B   \n",
       "\n",
       "                          출원인  \n",
       "0                RICOH CO LTD  \n",
       "1           FUJI XEROX CO LTD  \n",
       "2  RICOH PRINTING SYSTEMS LTD  \n",
       "3                RICOH CO LTD  \n",
       "4                  SHARP CORP  "
      ]
     },
     "execution_count": 182,
     "metadata": {},
     "output_type": "execute_result"
    }
   ],
   "source": [
    "#검색식을 통해 수집한 유효특허 후보 데이터\n",
    "val_data = pd.read_csv(\"../data/night/night_sight_val.csv\", encoding = \"cp949\")\n",
    "print(val_data.shape)\n",
    "val_data.head()"
   ]
  },
  {
   "cell_type": "code",
   "execution_count": 183,
   "metadata": {},
   "outputs": [
    {
     "data": {
      "text/html": [
       "<div>\n",
       "<style scoped>\n",
       "    .dataframe tbody tr th:only-of-type {\n",
       "        vertical-align: middle;\n",
       "    }\n",
       "\n",
       "    .dataframe tbody tr th {\n",
       "        vertical-align: top;\n",
       "    }\n",
       "\n",
       "    .dataframe thead th {\n",
       "        text-align: right;\n",
       "    }\n",
       "</style>\n",
       "<table border=\"1\" class=\"dataframe\">\n",
       "  <thead>\n",
       "    <tr style=\"text-align: right;\">\n",
       "      <th></th>\n",
       "      <th>공개(등록)번호</th>\n",
       "      <th>공개(등록)일자</th>\n",
       "      <th>국가</th>\n",
       "      <th>구분</th>\n",
       "      <th>발명의 명칭</th>\n",
       "      <th>IPC</th>\n",
       "      <th>출원인</th>\n",
       "    </tr>\n",
       "  </thead>\n",
       "  <tbody>\n",
       "    <tr>\n",
       "      <td>3186</td>\n",
       "      <td>04049337</td>\n",
       "      <td>19770920.0</td>\n",
       "      <td>US</td>\n",
       "      <td>등록</td>\n",
       "      <td>Reflex reflecting system for road surface marking</td>\n",
       "      <td>G02B</td>\n",
       "      <td>NaN</td>\n",
       "    </tr>\n",
       "    <tr>\n",
       "      <td>3187</td>\n",
       "      <td>04027159</td>\n",
       "      <td>19770531.0</td>\n",
       "      <td>US</td>\n",
       "      <td>등록</td>\n",
       "      <td>Combined use of visible and near-IR imaging sy...</td>\n",
       "      <td>G01J</td>\n",
       "      <td>The</td>\n",
       "    </tr>\n",
       "    <tr>\n",
       "      <td>3188</td>\n",
       "      <td>04027159</td>\n",
       "      <td>19770531.0</td>\n",
       "      <td>US</td>\n",
       "      <td>등록</td>\n",
       "      <td>Combined use of visible and near-IR imaging sy...</td>\n",
       "      <td>G01J</td>\n",
       "      <td>The</td>\n",
       "    </tr>\n",
       "    <tr>\n",
       "      <td>3189</td>\n",
       "      <td>03961194</td>\n",
       "      <td>19760601.0</td>\n",
       "      <td>US</td>\n",
       "      <td>등록</td>\n",
       "      <td>Tracking and display apparatus for heat-detect...</td>\n",
       "      <td>H01J</td>\n",
       "      <td>Zeiss-Stiftung;</td>\n",
       "    </tr>\n",
       "    <tr>\n",
       "      <td>3190</td>\n",
       "      <td>03961194</td>\n",
       "      <td>19760601.0</td>\n",
       "      <td>US</td>\n",
       "      <td>등록</td>\n",
       "      <td>Tracking and display apparatus for heat-detect...</td>\n",
       "      <td>H01J</td>\n",
       "      <td>Zeiss-Stiftung;</td>\n",
       "    </tr>\n",
       "  </tbody>\n",
       "</table>\n",
       "</div>"
      ],
      "text/plain": [
       "      공개(등록)번호    공개(등록)일자  국가  구분  \\\n",
       "3186  04049337  19770920.0  US  등록   \n",
       "3187  04027159  19770531.0  US  등록   \n",
       "3188  04027159  19770531.0  US  등록   \n",
       "3189  03961194  19760601.0  US  등록   \n",
       "3190  03961194  19760601.0  US  등록   \n",
       "\n",
       "                                                 발명의 명칭   IPC              출원인  \n",
       "3186  Reflex reflecting system for road surface marking  G02B              NaN  \n",
       "3187  Combined use of visible and near-IR imaging sy...  G01J              The  \n",
       "3188  Combined use of visible and near-IR imaging sy...  G01J              The  \n",
       "3189  Tracking and display apparatus for heat-detect...  H01J  Zeiss-Stiftung;  \n",
       "3190  Tracking and display apparatus for heat-detect...  H01J  Zeiss-Stiftung;  "
      ]
     },
     "execution_count": 183,
     "metadata": {},
     "output_type": "execute_result"
    }
   ],
   "source": [
    "#미국 특허 확인\n",
    "val_data.tail()"
   ]
  },
  {
   "cell_type": "markdown",
   "metadata": {},
   "source": [
    "### raw data 필요없는 column 제거\n",
    "* 미국 특허만 활용\n",
    "* 일본 특허 정보 x  \n",
    "ex) 'Original FI[JP]', 'Original F-term[JP]', 'Original Theme Code [JP]', '출원인 식별기호[JP]'"
   ]
  },
  {
   "cell_type": "code",
   "execution_count": 184,
   "metadata": {},
   "outputs": [
    {
     "data": {
      "text/plain": [
       "Index(['국가코드', 'DB종류', '특허/실용 구분', '문헌종류 코드', '발명의 명칭', '요약', '대표청구항', '청구항 수',\n",
       "       '출원번호', '출원일', '공개번호/공표/재공표 ', '공개일', '등록번호', '등록일', '출원인', '출원인 국적',\n",
       "       '출원인 수', '출원인 대표명화 코드', '출원인 대표명화 영문명', '출원인 대표명화 국문명[KR]',\n",
       "       '출원인 식별기호[JP]', '발명자/고안자', '우선권 번호', '우선권 국가', '우선권 주장일', '국제 공개번호',\n",
       "       '국제 공개일', 'Original CPC Main', 'Original CPC All', 'Original IPC Main',\n",
       "       'Original IPC All', 'Original US Class Main[US]',\n",
       "       'Original US Class All[US]', 'Original FI[JP]', 'Original F-term[JP]',\n",
       "       'Original Theme Code [JP]', 'WIPS ON key'],\n",
       "      dtype='object')"
      ]
     },
     "execution_count": 184,
     "metadata": {},
     "output_type": "execute_result"
    }
   ],
   "source": [
    "df.columns"
   ]
  },
  {
   "cell_type": "code",
   "execution_count": 185,
   "metadata": {},
   "outputs": [
    {
     "data": {
      "text/html": [
       "<div>\n",
       "<style scoped>\n",
       "    .dataframe tbody tr th:only-of-type {\n",
       "        vertical-align: middle;\n",
       "    }\n",
       "\n",
       "    .dataframe tbody tr th {\n",
       "        vertical-align: top;\n",
       "    }\n",
       "\n",
       "    .dataframe thead th {\n",
       "        text-align: right;\n",
       "    }\n",
       "</style>\n",
       "<table border=\"1\" class=\"dataframe\">\n",
       "  <thead>\n",
       "    <tr style=\"text-align: right;\">\n",
       "      <th></th>\n",
       "      <th>국가코드</th>\n",
       "      <th>DB종류</th>\n",
       "      <th>특허/실용 구분</th>\n",
       "      <th>문헌종류 코드</th>\n",
       "      <th>발명의 명칭</th>\n",
       "      <th>요약</th>\n",
       "      <th>대표청구항</th>\n",
       "      <th>청구항 수</th>\n",
       "      <th>출원번호</th>\n",
       "      <th>출원일</th>\n",
       "      <th>...</th>\n",
       "      <th>우선권 주장일</th>\n",
       "      <th>국제 공개번호</th>\n",
       "      <th>국제 공개일</th>\n",
       "      <th>Original CPC Main</th>\n",
       "      <th>Original CPC All</th>\n",
       "      <th>Original IPC Main</th>\n",
       "      <th>Original IPC All</th>\n",
       "      <th>Original US Class Main[US]</th>\n",
       "      <th>Original US Class All[US]</th>\n",
       "      <th>WIPS ON key</th>\n",
       "    </tr>\n",
       "  </thead>\n",
       "  <tbody>\n",
       "    <tr>\n",
       "      <td>0</td>\n",
       "      <td>US</td>\n",
       "      <td>US</td>\n",
       "      <td>P</td>\n",
       "      <td>A1</td>\n",
       "      <td>Non ionic/electrolyte, liquid/gaseous, mechani...</td>\n",
       "      <td>The variable hydraulic press and distillation ...</td>\n",
       "      <td>1. A cool complete vacuum draws any one partic...</td>\n",
       "      <td>4</td>\n",
       "      <td>13/689789</td>\n",
       "      <td>2012-11-30</td>\n",
       "      <td>...</td>\n",
       "      <td>NaN</td>\n",
       "      <td>NaN</td>\n",
       "      <td>NaN</td>\n",
       "      <td>B23P-0013/00</td>\n",
       "      <td>B23P-0013/00</td>\n",
       "      <td>B23P-013/00</td>\n",
       "      <td>B23P-013/00</td>\n",
       "      <td>029/592</td>\n",
       "      <td>029/592</td>\n",
       "      <td>5.414020e+12</td>\n",
       "    </tr>\n",
       "    <tr>\n",
       "      <td>1</td>\n",
       "      <td>US</td>\n",
       "      <td>US</td>\n",
       "      <td>P</td>\n",
       "      <td>A1</td>\n",
       "      <td>METHOD AND SYSTEM FOR RECOGNIZING SPACE OF SHO...</td>\n",
       "      <td>Disclosed herein are a method and a system for...</td>\n",
       "      <td>1. A method of recognizing a space of a road s...</td>\n",
       "      <td>18</td>\n",
       "      <td>13/710196</td>\n",
       "      <td>2012-12-10</td>\n",
       "      <td>...</td>\n",
       "      <td>2012-10-19</td>\n",
       "      <td>NaN</td>\n",
       "      <td>NaN</td>\n",
       "      <td>G01S-0013/867</td>\n",
       "      <td>G01S-0013/867 | G01S-0013/862</td>\n",
       "      <td>G01S-013/86</td>\n",
       "      <td>G01S-013/86</td>\n",
       "      <td>342/052</td>\n",
       "      <td>342/052 | 342/070</td>\n",
       "      <td>5.414020e+12</td>\n",
       "    </tr>\n",
       "    <tr>\n",
       "      <td>2</td>\n",
       "      <td>US</td>\n",
       "      <td>US</td>\n",
       "      <td>P</td>\n",
       "      <td>B2</td>\n",
       "      <td>Enhanced road vision on full windshield head-u...</td>\n",
       "      <td>A method to selectively project graphical imag...</td>\n",
       "      <td>1. Method to selectively project graphical ima...</td>\n",
       "      <td>17</td>\n",
       "      <td>12/487926</td>\n",
       "      <td>2009-06-19</td>\n",
       "      <td>...</td>\n",
       "      <td>NaN</td>\n",
       "      <td>NaN</td>\n",
       "      <td>NaN</td>\n",
       "      <td>NaN</td>\n",
       "      <td>NaN</td>\n",
       "      <td>B60Q-001/00</td>\n",
       "      <td>B60Q-001/00 | G08G-001/16</td>\n",
       "      <td>340/461</td>\n",
       "      <td>340/461 | 340/435 | 340/436 | 340/905</td>\n",
       "      <td>4.914020e+12</td>\n",
       "    </tr>\n",
       "    <tr>\n",
       "      <td>3</td>\n",
       "      <td>US</td>\n",
       "      <td>US</td>\n",
       "      <td>P</td>\n",
       "      <td>A1</td>\n",
       "      <td>METHODS AND SYSTEMS FOR IMAGING AND CUTTING SE...</td>\n",
       "      <td>Methods and systems for imaging and cutting se...</td>\n",
       "      <td>1. A system for singulating microelectronic de...</td>\n",
       "      <td>21</td>\n",
       "      <td>14/093682</td>\n",
       "      <td>2013-12-02</td>\n",
       "      <td>...</td>\n",
       "      <td>NaN</td>\n",
       "      <td>NaN</td>\n",
       "      <td>NaN</td>\n",
       "      <td>B28D-0005/0064</td>\n",
       "      <td>B28D-0005/0064 | B26F-0003/004 | B23K-0026/407...</td>\n",
       "      <td>B28D-005/00</td>\n",
       "      <td>B28D-005/00 | B23K-026/40 | B23Q-015/22 | B26F...</td>\n",
       "      <td>083/076.8</td>\n",
       "      <td>083/076.8 | 083/368 | 451/002 | 219/121.67</td>\n",
       "      <td>5.414010e+12</td>\n",
       "    </tr>\n",
       "    <tr>\n",
       "      <td>4</td>\n",
       "      <td>US</td>\n",
       "      <td>US</td>\n",
       "      <td>P</td>\n",
       "      <td>A1</td>\n",
       "      <td>Labels Having an Information Dye</td>\n",
       "      <td>The present invention is directed to labels ha...</td>\n",
       "      <td>1. A label comprising an information dye.</td>\n",
       "      <td>26</td>\n",
       "      <td>13/910719</td>\n",
       "      <td>2013-06-05</td>\n",
       "      <td>...</td>\n",
       "      <td>NaN</td>\n",
       "      <td>NaN</td>\n",
       "      <td>NaN</td>\n",
       "      <td>G09F-0003/02</td>\n",
       "      <td>G09F-0003/02 | B02C-0023/08 | G09F-0003/04 | B...</td>\n",
       "      <td>G09F-003/02</td>\n",
       "      <td>G09F-003/02 | G01N-021/59 | B07C-005/34 | B02C...</td>\n",
       "      <td>241/020</td>\n",
       "      <td>241/020 | 040/299.01 | 040/310 | 209/576 | 356...</td>\n",
       "      <td>5.414010e+12</td>\n",
       "    </tr>\n",
       "  </tbody>\n",
       "</table>\n",
       "<p>5 rows × 32 columns</p>\n",
       "</div>"
      ],
      "text/plain": [
       "  국가코드 DB종류 특허/실용 구분 문헌종류 코드  \\\n",
       "0   US   US        P      A1   \n",
       "1   US   US        P      A1   \n",
       "2   US   US        P      B2   \n",
       "3   US   US        P      A1   \n",
       "4   US   US        P      A1   \n",
       "\n",
       "                                              발명의 명칭  \\\n",
       "0  Non ionic/electrolyte, liquid/gaseous, mechani...   \n",
       "1  METHOD AND SYSTEM FOR RECOGNIZING SPACE OF SHO...   \n",
       "2  Enhanced road vision on full windshield head-u...   \n",
       "3  METHODS AND SYSTEMS FOR IMAGING AND CUTTING SE...   \n",
       "4                   Labels Having an Information Dye   \n",
       "\n",
       "                                                  요약  \\\n",
       "0  The variable hydraulic press and distillation ...   \n",
       "1  Disclosed herein are a method and a system for...   \n",
       "2  A method to selectively project graphical imag...   \n",
       "3  Methods and systems for imaging and cutting se...   \n",
       "4  The present invention is directed to labels ha...   \n",
       "\n",
       "                                               대표청구항  청구항 수       출원번호  \\\n",
       "0  1. A cool complete vacuum draws any one partic...      4  13/689789   \n",
       "1  1. A method of recognizing a space of a road s...     18  13/710196   \n",
       "2  1. Method to selectively project graphical ima...     17  12/487926   \n",
       "3  1. A system for singulating microelectronic de...     21  14/093682   \n",
       "4          1. A label comprising an information dye.     26  13/910719   \n",
       "\n",
       "          출원일  ...     우선권 주장일 국제 공개번호 국제 공개일 Original CPC Main  \\\n",
       "0  2012-11-30  ...         NaN     NaN    NaN      B23P-0013/00   \n",
       "1  2012-12-10  ...  2012-10-19     NaN    NaN     G01S-0013/867   \n",
       "2  2009-06-19  ...         NaN     NaN    NaN               NaN   \n",
       "3  2013-12-02  ...         NaN     NaN    NaN    B28D-0005/0064   \n",
       "4  2013-06-05  ...         NaN     NaN    NaN      G09F-0003/02   \n",
       "\n",
       "                                    Original CPC All Original IPC Main  \\\n",
       "0                                       B23P-0013/00       B23P-013/00   \n",
       "1                      G01S-0013/867 | G01S-0013/862       G01S-013/86   \n",
       "2                                                NaN       B60Q-001/00   \n",
       "3  B28D-0005/0064 | B26F-0003/004 | B23K-0026/407...       B28D-005/00   \n",
       "4  G09F-0003/02 | B02C-0023/08 | G09F-0003/04 | B...       G09F-003/02   \n",
       "\n",
       "                                    Original IPC All  \\\n",
       "0                                        B23P-013/00   \n",
       "1                                        G01S-013/86   \n",
       "2                          B60Q-001/00 | G08G-001/16   \n",
       "3  B28D-005/00 | B23K-026/40 | B23Q-015/22 | B26F...   \n",
       "4  G09F-003/02 | G01N-021/59 | B07C-005/34 | B02C...   \n",
       "\n",
       "  Original US Class Main[US]  \\\n",
       "0                    029/592   \n",
       "1                    342/052   \n",
       "2                    340/461   \n",
       "3                  083/076.8   \n",
       "4                    241/020   \n",
       "\n",
       "                           Original US Class All[US]   WIPS ON key  \n",
       "0                                            029/592  5.414020e+12  \n",
       "1                                  342/052 | 342/070  5.414020e+12  \n",
       "2              340/461 | 340/435 | 340/436 | 340/905  4.914020e+12  \n",
       "3         083/076.8 | 083/368 | 451/002 | 219/121.67  5.414010e+12  \n",
       "4  241/020 | 040/299.01 | 040/310 | 209/576 | 356...  5.414010e+12  \n",
       "\n",
       "[5 rows x 32 columns]"
      ]
     },
     "execution_count": 185,
     "metadata": {},
     "output_type": "execute_result"
    }
   ],
   "source": [
    "df = raw_data.dropna(axis=1, how='all')\n",
    "df.head()"
   ]
  },
  {
   "cell_type": "code",
   "execution_count": 186,
   "metadata": {},
   "outputs": [
    {
     "data": {
      "text/plain": [
       "Index(['국가코드', 'DB종류', '특허/실용 구분', '문헌종류 코드', '발명의 명칭', '요약', '대표청구항', '청구항 수',\n",
       "       '출원번호', '출원일', '공개번호/공표/재공표 ', '공개일', '등록번호', '등록일', '출원인', '출원인 국적',\n",
       "       '출원인 수', '출원인 대표명화 코드', '출원인 대표명화 영문명', '발명자/고안자', '우선권 번호', '우선권 국가',\n",
       "       '우선권 주장일', '국제 공개번호', '국제 공개일', 'Original CPC Main', 'Original CPC All',\n",
       "       'Original IPC Main', 'Original IPC All', 'Original US Class Main[US]',\n",
       "       'Original US Class All[US]', 'WIPS ON key'],\n",
       "      dtype='object')"
      ]
     },
     "execution_count": 186,
     "metadata": {},
     "output_type": "execute_result"
    }
   ],
   "source": [
    "df.columns"
   ]
  },
  {
   "cell_type": "markdown",
   "metadata": {},
   "source": [
    "### valid data에서 US data 외 데이터 drop"
   ]
  },
  {
   "cell_type": "code",
   "execution_count": 187,
   "metadata": {},
   "outputs": [
    {
     "data": {
      "text/plain": [
       "(335, 7)"
      ]
     },
     "execution_count": 187,
     "metadata": {},
     "output_type": "execute_result"
    }
   ],
   "source": [
    "val_data = val_data[val_data.국가 == \"US\"]\n",
    "val_data = val_data.drop_duplicates(val_data.columns)\n",
    "val_data.shape\n",
    "# val_data.to_csv(\"1.csv\", encoding='cp949')"
   ]
  },
  {
   "cell_type": "markdown",
   "metadata": {},
   "source": [
    "### raw data와 valid data의 공개/등록 번호 form 맞춰주기"
   ]
  },
  {
   "cell_type": "code",
   "execution_count": 188,
   "metadata": {},
   "outputs": [
    {
     "name": "stdout",
     "output_type": "stream",
     "text": [
      "<valid> \n",
      " 385    08796699\n",
      "391    08788148\n",
      "392    08786697\n",
      "395    08781731\n",
      "403    08723660\n",
      "Name: 공개(등록)번호, dtype: object\n",
      "\n",
      "<raw> \n",
      " 0    2014-0109386\n",
      "1    2014-0111369\n",
      "2    2010-0253540\n",
      "3    2014-0083270\n",
      "4    2014-0084089\n",
      "Name: 공개번호/공표/재공표 , dtype: object \n",
      " 0        NaN\n",
      "1        NaN\n",
      "2    8704653\n",
      "3        NaN\n",
      "4        NaN\n",
      "Name: 등록번호, dtype: object\n"
     ]
    }
   ],
   "source": [
    "print(\"<valid> \\n\", val_data['공개(등록)번호'].head())\n",
    "print(\"\\n<raw> \\n\", raw_data['공개번호/공표/재공표 '].head(), \"\\n\", raw_data['등록번호'].head())"
   ]
  },
  {
   "cell_type": "code",
   "execution_count": 189,
   "metadata": {},
   "outputs": [],
   "source": [
    "df.loc[:, '공개번호/공표/재공표 '] = (df.loc[:, '공개번호/공표/재공표 '].str.split('-')).str.join('')\n",
    "df.loc[:, '공개번호/공표/재공표 '].fillna(value = 0, inplace=True)"
   ]
  },
  {
   "cell_type": "code",
   "execution_count": 190,
   "metadata": {},
   "outputs": [],
   "source": [
    "# 8자리 맞추기 ex)8704653 -> 08704653\n",
    "# 00000000 -> 0\n",
    "\n",
    "df.loc[:, '등록번호'] = df.loc[:, '등록번호'].apply(lambda x:'{0:0>8}'.format(x) if(np.all(pd.notnull(x))) else x).fillna(0)"
   ]
  },
  {
   "cell_type": "code",
   "execution_count": 191,
   "metadata": {},
   "outputs": [
    {
     "data": {
      "text/plain": [
       "0           0\n",
       "1           0\n",
       "2    08704653\n",
       "3           0\n",
       "4           0\n",
       "5           0\n",
       "6           0\n",
       "7    08674406\n",
       "8           0\n",
       "9    08669588\n",
       "Name: 등록번호, dtype: object"
      ]
     },
     "execution_count": 191,
     "metadata": {},
     "output_type": "execute_result"
    }
   ],
   "source": [
    "df['등록번호'].head(10)"
   ]
  },
  {
   "cell_type": "markdown",
   "metadata": {},
   "source": [
    "### valid patent 확인<br>\n",
    "US 유효특허 : 86개"
   ]
  },
  {
   "cell_type": "code",
   "execution_count": 192,
   "metadata": {},
   "outputs": [
    {
     "name": "stdout",
     "output_type": "stream",
     "text": [
      "127 127\n"
     ]
    }
   ],
   "source": [
    "#raw_data 중에서 val_data\n",
    "y_idx_list = []\n",
    "for idx, raw in enumerate(df[\"공개번호/공표/재공표 \"]):\n",
    "    for val in val_data[\"공개(등록)번호\"]:\n",
    "        if raw == val and idx not in y_idx_list:\n",
    "            y_idx_list.append(idx)\n",
    "\n",
    "for idx, raw in enumerate(df[\"등록번호\"]):\n",
    "    for val in val_data[\"공개(등록)번호\"]:\n",
    "        if raw == val and idx not in y_idx_list:\n",
    "            y_idx_list.append(idx)\n",
    "\n",
    "for idx, raw in enumerate(df[\"발명의 명칭\"]):\n",
    "    for val in val_data[\"발명의 명칭\"]:\n",
    "        if raw.lower() == val.lower() and idx not in y_idx_list:\n",
    "            y_idx_list.append(idx)\n",
    "y_data_list = [int(1) for i in range(len(y_idx_list))]\n",
    "print(len(y_idx_list), len(y_data_list))"
   ]
  },
  {
   "cell_type": "code",
   "execution_count": 193,
   "metadata": {},
   "outputs": [],
   "source": [
    "y_values = pd.Series(data=y_data_list, index=y_idx_list)\n",
    "df.loc[:, \"유효특허 여부\"] = y_values\n",
    "df[\"유효특허 여부\"].fillna(0, inplace=True)"
   ]
  },
  {
   "cell_type": "code",
   "execution_count": 194,
   "metadata": {},
   "outputs": [
    {
     "data": {
      "text/plain": [
       "0.0    1109\n",
       "1.0     127\n",
       "Name: 유효특허 여부, dtype: int64"
      ]
     },
     "execution_count": 194,
     "metadata": {},
     "output_type": "execute_result"
    }
   ],
   "source": [
    "df['유효특허 여부'].value_counts()"
   ]
  },
  {
   "cell_type": "markdown",
   "metadata": {},
   "source": [
    "<hr>"
   ]
  },
  {
   "cell_type": "markdown",
   "metadata": {},
   "source": [
    "### IPC Digitization"
   ]
  },
  {
   "cell_type": "code",
   "execution_count": 195,
   "metadata": {},
   "outputs": [
    {
     "data": {
      "text/plain": [
       "0    B23P\n",
       "1    G01S\n",
       "2    B60Q\n",
       "3    B28D\n",
       "4    G09F\n",
       "Name: Original IPC Main, dtype: object"
      ]
     },
     "execution_count": 195,
     "metadata": {},
     "output_type": "execute_result"
    }
   ],
   "source": [
    "df.loc[:, 'Original IPC Main'] = df.loc[:, 'Original IPC Main'].astype('str').str.slice(0,4)\n",
    "df['Original IPC Main'].head()"
   ]
  },
  {
   "cell_type": "code",
   "execution_count": 196,
   "metadata": {},
   "outputs": [],
   "source": [
    "# |로 묶인 IPC 처리\n",
    "ipc_idx_list = []\n",
    "ipc_all = []\n",
    "for idx, i in enumerate(df['Original IPC All']):\n",
    "    i = i.split('|')\n",
    "    if len(i) != 1: # 여러 개 있으면\n",
    "        ipc_list = []\n",
    "        for ipc in i:\n",
    "            ipc_list.append((ipc.strip())[:4])\n",
    "        ipc_all.append(('|').join(ipc_list))\n",
    "        ipc_idx_list.append(idx)\n",
    "    else:\n",
    "        ipc_all.append((i[0].strip())[0:4])\n",
    "        ipc_idx_list.append(idx)"
   ]
  },
  {
   "cell_type": "code",
   "execution_count": 197,
   "metadata": {},
   "outputs": [
    {
     "data": {
      "text/plain": [
       "0                        B23P\n",
       "1                        G01S\n",
       "2                   B60Q|G08G\n",
       "3         B28D|B23K|B23Q|B26F\n",
       "4    G09F|G01N|B07C|B02C|G09F\n",
       "Name: Original IPC All, dtype: object"
      ]
     },
     "execution_count": 197,
     "metadata": {},
     "output_type": "execute_result"
    }
   ],
   "source": [
    "ipc_values = pd.Series(data = ipc_all, index=ipc_idx_list)\n",
    "df.loc[:, 'Original IPC All'] = ipc_values\n",
    "df['Original IPC All'].head()"
   ]
  },
  {
   "cell_type": "markdown",
   "metadata": {},
   "source": [
    "### fillna"
   ]
  },
  {
   "cell_type": "code",
   "execution_count": 198,
   "metadata": {},
   "outputs": [
    {
     "data": {
      "text/html": [
       "<div>\n",
       "<style scoped>\n",
       "    .dataframe tbody tr th:only-of-type {\n",
       "        vertical-align: middle;\n",
       "    }\n",
       "\n",
       "    .dataframe tbody tr th {\n",
       "        vertical-align: top;\n",
       "    }\n",
       "\n",
       "    .dataframe thead th {\n",
       "        text-align: right;\n",
       "    }\n",
       "</style>\n",
       "<table border=\"1\" class=\"dataframe\">\n",
       "  <thead>\n",
       "    <tr style=\"text-align: right;\">\n",
       "      <th></th>\n",
       "      <th>출원인</th>\n",
       "    </tr>\n",
       "  </thead>\n",
       "  <tbody>\n",
       "    <tr>\n",
       "      <td>60</td>\n",
       "      <td>Samsung Electronics Co., Ltd.</td>\n",
       "    </tr>\n",
       "    <tr>\n",
       "      <td>61</td>\n",
       "      <td>UKN</td>\n",
       "    </tr>\n",
       "    <tr>\n",
       "      <td>62</td>\n",
       "      <td>WMS Gaming, Inc.</td>\n",
       "    </tr>\n",
       "    <tr>\n",
       "      <td>63</td>\n",
       "      <td>Acushnet Company</td>\n",
       "    </tr>\n",
       "    <tr>\n",
       "      <td>64</td>\n",
       "      <td>Immunolight, LLC</td>\n",
       "    </tr>\n",
       "    <tr>\n",
       "      <td>65</td>\n",
       "      <td>The Seaberg Company, Inc.</td>\n",
       "    </tr>\n",
       "    <tr>\n",
       "      <td>66</td>\n",
       "      <td>Mitsubishi Electric Research Laboratories, Inc.</td>\n",
       "    </tr>\n",
       "    <tr>\n",
       "      <td>67</td>\n",
       "      <td>UKN</td>\n",
       "    </tr>\n",
       "    <tr>\n",
       "      <td>68</td>\n",
       "      <td>Xerox Corporation</td>\n",
       "    </tr>\n",
       "    <tr>\n",
       "      <td>69</td>\n",
       "      <td>Magna Mirrors of America, Inc.</td>\n",
       "    </tr>\n",
       "  </tbody>\n",
       "</table>\n",
       "</div>"
      ],
      "text/plain": [
       "                                                출원인\n",
       "60                    Samsung Electronics Co., Ltd.\n",
       "61                                              UKN\n",
       "62                                 WMS Gaming, Inc.\n",
       "63                                 Acushnet Company\n",
       "64                                 Immunolight, LLC\n",
       "65                        The Seaberg Company, Inc.\n",
       "66  Mitsubishi Electric Research Laboratories, Inc.\n",
       "67                                              UKN\n",
       "68                                Xerox Corporation\n",
       "69                   Magna Mirrors of America, Inc."
      ]
     },
     "execution_count": 198,
     "metadata": {},
     "output_type": "execute_result"
    }
   ],
   "source": [
    "df.loc[:, '출원인'] = df.loc[:, '출원인'].fillna(value='UKN')\n",
    "df[['출원인']][60:70]"
   ]
  },
  {
   "cell_type": "markdown",
   "metadata": {},
   "source": [
    "### including dash/slash data preprocessing"
   ]
  },
  {
   "cell_type": "code",
   "execution_count": 199,
   "metadata": {},
   "outputs": [],
   "source": [
    "df.loc[:, '출원일'] = (df.loc[:, '출원일'].str.split('-')).str.join('')\n",
    "df.loc[:, '출원일'] = df.loc[:, '출원일'].fillna(0)\n",
    "\n",
    "df.loc[:, '공개일'] = (df.loc[:, '공개일'].str.split('-')).str.join('')\n",
    "df.loc[:, '공개일'] = df.loc[:, '공개일'].fillna(0)\n",
    "\n",
    "df.loc[:, '등록일'] = (df.loc[:, '등록일'].str.split('-')).str.join('')\n",
    "df.loc[:, '등록일'] = df.loc[:, '등록일'].fillna(0)\n",
    "\n",
    "df.loc[:, '국제 공개번호'] = (df.loc[:, '국제 공개번호'].str.split('-')).str.join('').str.slice(2,-1)\n",
    "df.loc[:, '국제 공개번호'] = (df.loc[:, '국제 공개번호'].str.split('/')).str.join('')\n",
    "df.loc[:, '국제 공개번호'] = df.loc[:, '국제 공개번호'].fillna(value=int(0))"
   ]
  },
  {
   "cell_type": "markdown",
   "metadata": {},
   "source": [
    "### Label Encoding"
   ]
  },
  {
   "cell_type": "code",
   "execution_count": 200,
   "metadata": {},
   "outputs": [],
   "source": [
    "application_id = list(df['출원번호'])\n",
    "le = LabelEncoder()\n",
    "le.fit(application_id)\n",
    "\n",
    "application_id_le = le.transform(application_id)\n",
    "df['출원번호'] = application_id_le"
   ]
  },
  {
   "cell_type": "code",
   "execution_count": 201,
   "metadata": {},
   "outputs": [],
   "source": [
    "patent_kind = list(df['문헌종류 코드'])\n",
    "le = LabelEncoder()\n",
    "le.fit(patent_kind)\n",
    "\n",
    "patent_kind_le = le.transform(patent_kind)\n",
    "df['문헌종류 코드'] = patent_kind_le"
   ]
  },
  {
   "cell_type": "code",
   "execution_count": 202,
   "metadata": {},
   "outputs": [],
   "source": [
    "priority_id = list(df['우선권 번호'])\n",
    "le = LabelEncoder()\n",
    "le.fit(priority_id)\n",
    "\n",
    "priority_id_le = le.transform(priority_id)\n",
    "df['우선권 번호'] = priority_id_le"
   ]
  },
  {
   "cell_type": "code",
   "execution_count": 204,
   "metadata": {},
   "outputs": [],
   "source": [
    "df = df.astype('str')"
   ]
  },
  {
   "cell_type": "code",
   "execution_count": 205,
   "metadata": {},
   "outputs": [],
   "source": [
    "df.to_csv('../data/night/data_night_1.csv', encoding='cp949')"
   ]
  }
 ],
 "metadata": {
  "kernelspec": {
   "display_name": "Python 3",
   "language": "python",
   "name": "python3"
  },
  "language_info": {
   "codemirror_mode": {
    "name": "ipython",
    "version": 3
   },
   "file_extension": ".py",
   "mimetype": "text/x-python",
   "name": "python",
   "nbconvert_exporter": "python",
   "pygments_lexer": "ipython3",
   "version": "3.7.4"
  }
 },
 "nbformat": 4,
 "nbformat_minor": 2
}
